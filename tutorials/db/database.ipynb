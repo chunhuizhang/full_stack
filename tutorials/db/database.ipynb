{
 "cells": [
  {
   "cell_type": "markdown",
   "id": "3c41e04c",
   "metadata": {},
   "source": [
    "## basics"
   ]
  },
  {
   "cell_type": "markdown",
   "id": "2e76744e",
   "metadata": {},
   "source": [
    "- CRUD：\n",
    "    - CRUD is the acronym for CREATE, READ, UPDATE and DELETE.\n"
   ]
  },
  {
   "cell_type": "markdown",
   "id": "4ec123f7",
   "metadata": {},
   "source": [
    "## python"
   ]
  },
  {
   "cell_type": "markdown",
   "id": "550be915",
   "metadata": {},
   "source": [
    "- sqlite3：已成为 python 标准库\n",
    "- sqlalchemy"
   ]
  },
  {
   "cell_type": "markdown",
   "id": "33041dbe",
   "metadata": {},
   "source": [
    "## 数据库操作"
   ]
  },
  {
   "cell_type": "markdown",
   "id": "874935cc",
   "metadata": {},
   "source": [
    "- 一些经验及规范\n",
    "    - `id`：自增主键\n",
    "    - `created_time`：创建时间"
   ]
  },
  {
   "cell_type": "markdown",
   "id": "cc24dc36",
   "metadata": {},
   "source": [
    "## 命令行操作"
   ]
  },
  {
   "cell_type": "markdown",
   "id": "c1d6acd5",
   "metadata": {},
   "source": [
    "- 退出\n",
    "\n",
    "```\n",
    "$ sqlite3\n",
    "sqlite> .quit\n",
    "\n",
    "$ sqlite3\n",
    "sqlite> .exit\n",
    "```"
   ]
  }
 ],
 "metadata": {
  "kernelspec": {
   "display_name": "Python 3 (ipykernel)",
   "language": "python",
   "name": "python3"
  },
  "language_info": {
   "codemirror_mode": {
    "name": "ipython",
    "version": 3
   },
   "file_extension": ".py",
   "mimetype": "text/x-python",
   "name": "python",
   "nbconvert_exporter": "python",
   "pygments_lexer": "ipython3",
   "version": "3.10.9"
  },
  "toc": {
   "base_numbering": 1,
   "nav_menu": {},
   "number_sections": true,
   "sideBar": true,
   "skip_h1_title": false,
   "title_cell": "Table of Contents",
   "title_sidebar": "Contents",
   "toc_cell": false,
   "toc_position": {},
   "toc_section_display": true,
   "toc_window_display": false
  }
 },
 "nbformat": 4,
 "nbformat_minor": 5
}
