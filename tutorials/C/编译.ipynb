{
 "cells": [
  {
   "cell_type": "markdown",
   "id": "1a970181",
   "metadata": {},
   "source": [
    "## basics"
   ]
  },
  {
   "cell_type": "markdown",
   "id": "a8e12090",
   "metadata": {},
   "source": [
    "## Makefile 与 make"
   ]
  },
  {
   "cell_type": "markdown",
   "id": "c936691d",
   "metadata": {},
   "source": [
    "- Makefile \n",
    "\n",
    "```\n",
    "clean:\n",
    "        rm -rf *o\n",
    "        rm -rf mnistCUDNN\n",
    "```"
   ]
  },
  {
   "cell_type": "markdown",
   "id": "6d344af7",
   "metadata": {},
   "source": [
    "- `make clean && make`\n",
    "    - 先删除再编译"
   ]
  }
 ],
 "metadata": {
  "kernelspec": {
   "display_name": "Python 3 (ipykernel)",
   "language": "python",
   "name": "python3"
  },
  "language_info": {
   "codemirror_mode": {
    "name": "ipython",
    "version": 3
   },
   "file_extension": ".py",
   "mimetype": "text/x-python",
   "name": "python",
   "nbconvert_exporter": "python",
   "pygments_lexer": "ipython3",
   "version": "3.10.9"
  },
  "toc": {
   "base_numbering": 1,
   "nav_menu": {},
   "number_sections": true,
   "sideBar": true,
   "skip_h1_title": false,
   "title_cell": "Table of Contents",
   "title_sidebar": "Contents",
   "toc_cell": false,
   "toc_position": {},
   "toc_section_display": true,
   "toc_window_display": false
  }
 },
 "nbformat": 4,
 "nbformat_minor": 5
}
