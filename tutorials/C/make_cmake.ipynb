{
 "cells": [
  {
   "cell_type": "markdown",
   "id": "1a970181",
   "metadata": {},
   "source": [
    "## basics"
   ]
  },
  {
   "cell_type": "markdown",
   "id": "78ce2bdc",
   "metadata": {},
   "source": [
    "```\n",
    "sudo apt-get install build-essential\n",
    "\n",
    "sudo apt-get install gdb\n",
    "```"
   ]
  },
  {
   "cell_type": "markdown",
   "id": "a8e12090",
   "metadata": {},
   "source": [
    "## Makefile 与 make"
   ]
  },
  {
   "cell_type": "markdown",
   "id": "c936691d",
   "metadata": {},
   "source": [
    "- Makefile \n",
    "\n",
    "```\n",
    "clean:\n",
    "        rm -rf *o\n",
    "        rm -rf mnistCUDNN\n",
    "```"
   ]
  },
  {
   "cell_type": "markdown",
   "id": "6d344af7",
   "metadata": {},
   "source": [
    "- `make clean && make`\n",
    "    - 先删除再编译"
   ]
  },
  {
   "cell_type": "markdown",
   "id": "a9ef8cc1",
   "metadata": {},
   "source": [
    "### 一个标准的源码安装"
   ]
  },
  {
   "cell_type": "markdown",
   "id": "9368f9da",
   "metadata": {},
   "source": [
    "```\n",
    "git clone https://github.com/ArthurSonzogni/FTXUI.git\n",
    "cd FTXUI\n",
    "mkdir build\n",
    "cd build\n",
    "cmake ..\n",
    "make\n",
    "make install\n",
    "```"
   ]
  },
  {
   "cell_type": "markdown",
   "id": "d651231f",
   "metadata": {},
   "source": [
    "## cmake"
   ]
  },
  {
   "cell_type": "markdown",
   "id": "6415bf8a",
   "metadata": {},
   "source": [
    "- https://github.com/Social-MDP/social-mdp-framework/blob/core/SETUP.md"
   ]
  },
  {
   "cell_type": "markdown",
   "id": "993ee836",
   "metadata": {},
   "source": [
    "### install"
   ]
  },
  {
   "cell_type": "markdown",
   "id": "b82eb706",
   "metadata": {},
   "source": [
    "```\n",
    "wget https://github.com/Kitware/CMake/releases/download/v3.23.2/cmake-3.23.2-linux-x86_64.sh\n",
    "chmod +x cmake-3.23.2-linux-x86_64.sh\n",
    "./cmake-3.23.2-linux-x86_64.sh\n",
    "\n",
    "# 修改 ~/.zshrc\n",
    "vim ~/.zshrc\n",
    "export PATH=<PATH_TO_CMAKE>/bin:$PATH\n",
    "source ~/.bashrc\n",
    "\n",
    "# check\n",
    "which cmake\n",
    "\n",
    "cmake --version\n",
    "```"
   ]
  },
  {
   "cell_type": "markdown",
   "id": "b7730f55",
   "metadata": {},
   "source": [
    "### 参数"
   ]
  },
  {
   "cell_type": "markdown",
   "id": "8ca1522d",
   "metadata": {},
   "source": [
    "- `-DCMAKE_BUILD_TYPE`\n",
    "    - Debug\n",
    "    - Release"
   ]
  }
 ],
 "metadata": {
  "kernelspec": {
   "display_name": "Python 3 (ipykernel)",
   "language": "python",
   "name": "python3"
  },
  "language_info": {
   "codemirror_mode": {
    "name": "ipython",
    "version": 3
   },
   "file_extension": ".py",
   "mimetype": "text/x-python",
   "name": "python",
   "nbconvert_exporter": "python",
   "pygments_lexer": "ipython3",
   "version": "3.10.9"
  },
  "toc": {
   "base_numbering": 1,
   "nav_menu": {},
   "number_sections": true,
   "sideBar": true,
   "skip_h1_title": false,
   "title_cell": "Table of Contents",
   "title_sidebar": "Contents",
   "toc_cell": false,
   "toc_position": {},
   "toc_section_display": true,
   "toc_window_display": false
  }
 },
 "nbformat": 4,
 "nbformat_minor": 5
}
