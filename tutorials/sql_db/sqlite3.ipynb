{
 "cells": [
  {
   "cell_type": "markdown",
   "id": "b6266cf1",
   "metadata": {},
   "source": [
    "## 命令行"
   ]
  },
  {
   "cell_type": "markdown",
   "id": "c8c07550",
   "metadata": {},
   "source": [
    "- 退出\n",
    "    - `.quit`\n",
    "    - `.exit`\n",
    "- 查看\n",
    "    - `.database`\n",
    "    - `.tables`\n",
    "    - `.schema tablename`：查看其建表语句"
   ]
  }
 ],
 "metadata": {
  "kernelspec": {
   "display_name": "Python 3 (ipykernel)",
   "language": "python",
   "name": "python3"
  },
  "language_info": {
   "codemirror_mode": {
    "name": "ipython",
    "version": 3
   },
   "file_extension": ".py",
   "mimetype": "text/x-python",
   "name": "python",
   "nbconvert_exporter": "python",
   "pygments_lexer": "ipython3",
   "version": "3.10.9"
  },
  "toc": {
   "base_numbering": 1,
   "nav_menu": {},
   "number_sections": true,
   "sideBar": true,
   "skip_h1_title": false,
   "title_cell": "Table of Contents",
   "title_sidebar": "Contents",
   "toc_cell": false,
   "toc_position": {},
   "toc_section_display": true,
   "toc_window_display": false
  }
 },
 "nbformat": 4,
 "nbformat_minor": 5
}
