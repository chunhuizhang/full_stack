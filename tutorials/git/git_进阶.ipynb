{
 "cells": [
  {
   "cell_type": "markdown",
   "id": "ea2490d0",
   "metadata": {},
   "source": [
    "## 三区"
   ]
  },
  {
   "cell_type": "markdown",
   "id": "fe319b8b",
   "metadata": {},
   "source": [
    "- git status 中的 delete\n",
    "    - `git rm file`\n",
    "        - 前提是该文件已经被 git 管理，否则会报文件找不到；\n",
    "    - `git rm -r folder`：删除文件夹 \n",
    "- working tree\n",
    "    - https://www.geeksforgeeks.org/git-working-tree/\n",
    "- github 是按文件对象进行管理的，而不单单是文件名，所以删除一个被 git 版本管理的文件，再新建一个同名文件，该文件显示的还是未被管理状态。"
   ]
  },
  {
   "cell_type": "markdown",
   "id": "d6b9d91c",
   "metadata": {},
   "source": [
    "## diff"
   ]
  },
  {
   "cell_type": "markdown",
   "id": "215d8afb",
   "metadata": {},
   "source": [
    "- 尚未缓存的改动：git diff\n",
    "- 查看已缓存的改动： git diff --cached\n",
    "- 查看已缓存的与未缓存的所有改动：git diff HEAD\n",
    "- 显示摘要而非整个 diff：git diff --stat"
   ]
  },
  {
   "cell_type": "markdown",
   "id": "f99d7f08",
   "metadata": {},
   "source": [
    "## amend"
   ]
  },
  {
   "cell_type": "markdown",
   "id": "b5a50702",
   "metadata": {},
   "source": [
    "- git commit -am:\n",
    "    - git add -u\n",
    "    - git commit -m ''"
   ]
  },
  {
   "cell_type": "markdown",
   "id": "e14e4eec",
   "metadata": {},
   "source": [
    "- `git commit --amend`：好用，减少提交无用信息，可常用。（amend 的字面意思就是“修改”/“修订”）\n",
    "    - 还包括想修改commit 注释（comment），此时会进入默认 vim 编辑器，修改注释完毕后保存就好了。\n",
    "    - `git push --force`"
   ]
  },
  {
   "cell_type": "markdown",
   "id": "4cae1585",
   "metadata": {},
   "source": [
    "## 撤销 `commit`"
   ]
  },
  {
   "cell_type": "markdown",
   "id": "13c4bdc1",
   "metadata": {},
   "source": [
    "- add => commit => push\n",
    "- 撤销过程\n",
    "    - 对 add 的撤销：`git restore --staged <file>`\n",
    "    - 对 commit 的撤销：`git reset --soft HEAD^`\n",
    "        - git commit 完了之后，HEAD 会到达一个新的值\n",
    "        - `HEAD^` 表示 head 的上一次版本；\n",
    "        "
   ]
  },
  {
   "cell_type": "markdown",
   "id": "0b16f0ea",
   "metadata": {},
   "source": [
    "- `git reset --soft HEAD^`\n",
    "    - `HEAD^`的意思是上一个版本，也可以写成`HEAD~1`\n",
    "    - `--soft`，不删除工作空间改动代码，撤销 commit，不撤销 `git add . `\n",
    "    - `--mixed` 不删除工作空间改动代码，撤销 commit，并且撤销 `git add .` 操作\n",
    "        - 这个为默认参数,\n",
    "        - `git reset --mixed HEAD^` 和 `git reset HEAD^` 效果是一样的。\n",
    "    - `--hard` 删除工作空间改动代码，撤销 `commit`，撤销 `git add .` 。注意完成这个操作后，就恢复到了上一次的 commit 状态。\n",
    "- `git reset --hard HEAD` 删除 untracked files\n",
    "    - `git clean -f -d`\n",
    "    - `git clean -fdx`：also remove ignored files"
   ]
  },
  {
   "cell_type": "markdown",
   "id": "b5dc34a5",
   "metadata": {},
   "source": [
    "- git log 与 commit id\n",
    "    - git log 查看所有的commit提交记录 \n",
    "    - git show 查看提交的详情 \n",
    "        - `git log --pretty=oneline`\n",
    "        - `git log --graph`"
   ]
  },
  {
   "cell_type": "markdown",
   "id": "e382172a",
   "metadata": {},
   "source": [
    "## 协同"
   ]
  },
  {
   "cell_type": "markdown",
   "id": "8b95dbec",
   "metadata": {},
   "source": [
    "### git blame"
   ]
  },
  {
   "cell_type": "markdown",
   "id": "3aa3d4fa",
   "metadata": {},
   "source": [
    "-  git blame filename\n",
    "    - `commit ID  (代码提交作者  提交时间  代码位于文件中的行数)  实际代码`"
   ]
  },
  {
   "cell_type": "markdown",
   "id": "7754b134",
   "metadata": {},
   "source": [
    "## 其他"
   ]
  },
  {
   "cell_type": "markdown",
   "id": "4facb349",
   "metadata": {},
   "source": [
    "### HEAD"
   ]
  },
  {
   "cell_type": "markdown",
   "id": "869e999e",
   "metadata": {},
   "source": [
    "> You can think of the HEAD as the \"current branch\". When you switch branches with git checkout, the HEAD revision changes to point to the tip of the new branch.\n",
    "\n",
    "You can see what HEAD points to by doing:\n",
    "\n",
    "```\n",
    "$ cat .git/HEAD\n",
    "ref: refs/heads/main\n",
    "\n",
    "$ cat .git/refs/heads/main\n",
    "099b4b91e72d5149adaffde21c08cf3a2357036f\n",
    "\n",
    "$ git show HEAD\n",
    "```"
   ]
  },
  {
   "cell_type": "markdown",
   "id": "1d0fc488",
   "metadata": {},
   "source": [
    "### submodules"
   ]
  },
  {
   "cell_type": "markdown",
   "id": "6bdb31b0",
   "metadata": {},
   "source": [
    "- `git submodule add https://xx.git`\n",
    "    - submodule 允许你将一个Git 仓库当作另外一个Git 仓库的子目录\n",
    "    - 添加为子模块的仓库和主仓库之间存在关联。\n",
    "    - 主仓库中会有一个 .gitmodules 文件记录子模块的信息，但不会包含子模块的实际文件内容，而是包含指向特定提交的引用。\n",
    "    - 对应的 github repo 中关联其他 github repo 的：`git clone xx --recursive`\n",
    "- git clone 出来的是副本，与主仓库是完全独立的；"
   ]
  }
 ],
 "metadata": {
  "kernelspec": {
   "display_name": "Python 3 (ipykernel)",
   "language": "python",
   "name": "python3"
  },
  "language_info": {
   "codemirror_mode": {
    "name": "ipython",
    "version": 3
   },
   "file_extension": ".py",
   "mimetype": "text/x-python",
   "name": "python",
   "nbconvert_exporter": "python",
   "pygments_lexer": "ipython3",
   "version": "3.10.13"
  },
  "toc": {
   "base_numbering": 1,
   "nav_menu": {},
   "number_sections": true,
   "sideBar": true,
   "skip_h1_title": false,
   "title_cell": "Table of Contents",
   "title_sidebar": "Contents",
   "toc_cell": false,
   "toc_position": {},
   "toc_section_display": true,
   "toc_window_display": false
  }
 },
 "nbformat": 4,
 "nbformat_minor": 5
}
