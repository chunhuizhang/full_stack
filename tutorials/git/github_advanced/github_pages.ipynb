{
 "cells": [
  {
   "cell_type": "markdown",
   "id": "62b11a4d-52cd-4117-adb6-3ec4da2c9383",
   "metadata": {},
   "source": [
    "## github pages"
   ]
  },
  {
   "cell_type": "markdown",
   "id": "4e9e76ef-f959-47cb-b2dc-fd0b3af988ad",
   "metadata": {},
   "source": [
    "- 打开您的GitHub仓库页面。\n",
    "- 点击仓库名称下的\"Settings\"(设置)选项卡。\n",
    "- 在左侧导航栏中,找到并点击\"Pages\"(页面)。\n",
    "    - 在\"Build and deployment\"(构建和部署)部分下的\"Sourcce\"(源),选择\"Deploy from a branch\"(从分支部署)。\n",
    "- 在\"Branch\"(分支)下拉菜单中,选择您希望部署的分支(通常是main或者master),并选择/(root)文件夹。然后点击\"Save\"(保存)。"
   ]
  },
  {
   "cell_type": "markdown",
   "id": "e2154dd0-32e1-4c85-8861-a7a3c7529a86",
   "metadata": {},
   "source": [
    "### 自动构建和部署"
   ]
  },
  {
   "cell_type": "markdown",
   "id": "1da98f14-a2be-48cd-bb86-fa44ffd4dc5a",
   "metadata": {},
   "source": [
    "- 保存设置后,GitHub Pages会开始从您选择的分支构建您的网站。\n",
    "    - README.md文件通常会自动被处理成网站的首页(index.html))。\n",
    "    - 这个过程可能需要几分钟。\n",
    "- 完成后,您会在同一页面看到您的网站链接关,通常格式是 `https://<your-username>.github.io/<your-repository-name>/`。\n",
    "- 之后,每当您向这个配置好的分支推送更新(例如,修改了README.md),GitHub Pages都会自动重新构建和部署您的网站。"
   ]
  }
 ],
 "metadata": {
  "kernelspec": {
   "display_name": "Python 3 (ipykernel)",
   "language": "python",
   "name": "python3"
  },
  "language_info": {
   "codemirror_mode": {
    "name": "ipython",
    "version": 3
   },
   "file_extension": ".py",
   "mimetype": "text/x-python",
   "name": "python",
   "nbconvert_exporter": "python",
   "pygments_lexer": "ipython3",
   "version": "3.10.0"
  }
 },
 "nbformat": 4,
 "nbformat_minor": 5
}
