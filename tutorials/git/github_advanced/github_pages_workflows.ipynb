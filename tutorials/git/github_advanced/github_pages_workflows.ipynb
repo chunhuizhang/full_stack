{
 "cells": [
  {
   "cell_type": "markdown",
   "id": "62b11a4d-52cd-4117-adb6-3ec4da2c9383",
   "metadata": {},
   "source": [
    "## github pages"
   ]
  },
  {
   "cell_type": "markdown",
   "id": "4e9e76ef-f959-47cb-b2dc-fd0b3af988ad",
   "metadata": {},
   "source": [
    "- 打开您的GitHub仓库页面。\n",
    "- 点击仓库名称下的\"Settings\"(设置)选项卡。\n",
    "- 在左侧导航栏中,找到并点击\"Pages\"(页面)。\n",
    "    - 在\"Build and deployment\"(构建和部署)部分下的\"Sourcce\"(源),选择\"Deploy from a branch\"(从分支部署)。\n",
    "- 在\"Branch\"(分支)下拉菜单中,选择您希望部署的分支(通常是main或者master),并选择/(root)文件夹。然后点击\"Save\"(保存)。"
   ]
  },
  {
   "cell_type": "markdown",
   "id": "e2154dd0-32e1-4c85-8861-a7a3c7529a86",
   "metadata": {},
   "source": [
    "### 自动构建和部署"
   ]
  },
  {
   "cell_type": "markdown",
   "id": "1da98f14-a2be-48cd-bb86-fa44ffd4dc5a",
   "metadata": {},
   "source": [
    "- 保存设置后,GitHub Pages会开始从您选择的分支构建您的网站。\n",
    "    - README.md文件通常会自动被处理成网站的首页(index.html))。\n",
    "    - 这个过程可能需要几分钟。\n",
    "- 完成后,您会在同一页面看到您的网站链接关,通常格式是 `https://<your-username>.github.io/<your-repository-name>/`。\n",
    "- 之后,每当您向这个配置好的分支推送更新(例如,修改了README.md),GitHub Pages都会自动重新构建和部署您的网站。"
   ]
  },
  {
   "cell_type": "markdown",
   "id": "b2718acd-f945-4174-8eb3-1142297218de",
   "metadata": {},
   "source": [
    "## `.github/workflows`"
   ]
  },
  {
   "cell_type": "markdown",
   "id": "e6201832-00d5-4faa-83db-7ac435becacb",
   "metadata": {},
   "source": [
    "- 除了 workflows，它还可以包含诸如 ISSUE_TEMPLATE（问题模板）、PULL_REQUEST_TEMPLATE（拉取请求模板）、CODEOWNERS（代码负责人配置）等文件。\n",
    "- workflows 子目录：这个子目录专门用于存放 GitHub Actions 的工作流程（workflow）配置文件。\n",
    "    - 自动化：这些文件（通常是 .yml 或 .yaml 格式）定义了一系列自动化的任务和流程。当特定的事件发生时（例如：代码推送到仓库、创建拉取请求、发布新版本、定时任务等），GitHub Actions 会自动执行这些预定义的流程。\n",
    "    - 常见用途：\n",
    "        - 持续集成 (CI)：自动构建项目、运行测试（单元测试、集成测试等）、代码风格检查、安全扫描等。\n",
    "        - 持续部署 (CD)：自动将通过测试的代码部署到服务器、发布到包管理器（如 npm, PyPI）或容器仓库（如 Docker Hub）。\n",
    "        - 自动化任务：例如自动给 issue 打标签、自动关闭不活跃的 issue、自动发布 release notes 等。"
   ]
  }
 ],
 "metadata": {
  "kernelspec": {
   "display_name": "Python 3 (ipykernel)",
   "language": "python",
   "name": "python3"
  },
  "language_info": {
   "codemirror_mode": {
    "name": "ipython",
    "version": 3
   },
   "file_extension": ".py",
   "mimetype": "text/x-python",
   "name": "python",
   "nbconvert_exporter": "python",
   "pygments_lexer": "ipython3",
   "version": "3.10.0"
  }
 },
 "nbformat": 4,
 "nbformat_minor": 5
}
