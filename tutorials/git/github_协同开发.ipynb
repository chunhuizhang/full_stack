{
 "cells": [
  {
   "cell_type": "markdown",
   "id": "30fabeda-6f07-41fc-acc9-bd4d5c428fd9",
   "metadata": {},
   "source": [
    "- fork：\n",
    "    - create a copy of another user's repo\n",
    "- clone\n",
    "- git check -b new_branch\n",
    "- git add .\n",
    "- git commit -m ''\n",
    "- git push\n",
    "    - git push origin new_branch\n",
    "    - upload local changes to your remote repo"
   ]
  },
  {
   "cell_type": "markdown",
   "id": "0d355177-fb2b-444d-85a9-9136f8c7c50c",
   "metadata": {},
   "source": [
    "### confilcts"
   ]
  },
  {
   "cell_type": "markdown",
   "id": "f945d4f9-1085-4a4c-8756-b5e8f0640fba",
   "metadata": {},
   "source": [
    "```\n",
    "<<<<<<< HEAD (Current Change)\n",
    "...\n",
    "=======\n",
    "...\n",
    ">>>>>>> feature-xxx (Incoming Change)\n",
    "```"
   ]
  },
  {
   "cell_type": "markdown",
   "id": "84951f57-2ce1-4aff-8f61-fb451169bbf7",
   "metadata": {},
   "source": [
    "## PR（Pull Request）"
   ]
  },
  {
   "cell_type": "markdown",
   "id": "a175ffae-16ca-446e-826a-9d3c5cc0227c",
   "metadata": {},
   "source": [
    "- 如何 merge 别人提交过来的 pr，最佳方式现在本地测试别人的 pr 代码，最后github web端点击按钮操作；\n",
    "    - 自己项目的本地（默认的只有一个远端，origin），添加新的远端：\n",
    "        - `git remote add contributor https://github.com/contributorusername/repository.git`\n",
    "        - `git remote -v`：查看是否添加成功\n",
    "    - `git fetch contributor`\n",
    "    - `git checkout -b testing-branch contributor/branch-name`\n",
    "        - 然后本地测试"
   ]
  }
 ],
 "metadata": {
  "kernelspec": {
   "display_name": "Python 3 (ipykernel)",
   "language": "python",
   "name": "python3"
  },
  "language_info": {
   "codemirror_mode": {
    "name": "ipython",
    "version": 3
   },
   "file_extension": ".py",
   "mimetype": "text/x-python",
   "name": "python",
   "nbconvert_exporter": "python",
   "pygments_lexer": "ipython3",
   "version": "3.10.13"
  }
 },
 "nbformat": 4,
 "nbformat_minor": 5
}
