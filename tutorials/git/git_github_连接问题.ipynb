{
 "cells": [
  {
   "cell_type": "markdown",
   "id": "d0387350",
   "metadata": {},
   "source": [
    "## ssh"
   ]
  },
  {
   "cell_type": "markdown",
   "id": "ece1b3f4",
   "metadata": {},
   "source": [
    "```\n",
    "$ ssh-keygen -o -t rsa -C \"zch921005@126.com\"\n",
    "# $ ssh-keygen -t rsa -b 4096 -C \"zch921005@126.com\"\n",
    "\n",
    "# 将 ~/.ssh/id_rsa.pub 拷贝至 github ssh\n",
    "# check 本地与远端，通过 sha256\n",
    "$ sh-keygen -l -f ~/.ssh/id_rsa.pub\n",
    "$ ssh-keygen -lf ~/.ssh/id_rsa.pub \n",
    "\n",
    "$ ssh-add\n",
    "Identity added:\n",
    "\n",
    "$ ssh-add -l\n",
    "# Lists fingerprints of all identities currently represented by the agent.\n",
    "\n",
    "\n",
    "```"
   ]
  },
  {
   "cell_type": "markdown",
   "id": "bf03d35a",
   "metadata": {},
   "source": [
    "- 连接测试\n",
    "\n",
    "```\n",
    "$ ssh -T git@github.com\n",
    "$ ssh -vT git@github.com\n",
    "\n",
    "# 使用端口号 443 测试\n",
    "$ ssh -T -p 443 git@ssh.github.com\n",
    "```\n",
    "\n",
    "- 端口号问题：\n",
    "    - https://docs.github.com/en/authentication/troubleshooting-ssh/using-ssh-over-the-https-port\n",
    "    - https://learnku.com/devtools/t/72153"
   ]
  },
  {
   "cell_type": "markdown",
   "id": "97c9a871",
   "metadata": {},
   "source": [
    "- 修改 `~/.ssh/config` 配置文件\n",
    "\n",
    "```\n",
    "Host github.com\n",
    "    Hostname ssh.github.com\n",
    "    Port 443\n",
    "    User git\n",
    "```"
   ]
  },
  {
   "cell_type": "markdown",
   "id": "e94d4e86",
   "metadata": {},
   "source": [
    "## ssh 协议与 https 协议"
   ]
  },
  {
   "cell_type": "markdown",
   "id": "1238e4eb-6b96-4c95-927e-cb00469617ad",
   "metadata": {},
   "source": [
    "> git push 推送本地 commit 到远端时，走 https 还是 ssh"
   ]
  },
  {
   "cell_type": "markdown",
   "id": "cc165aab",
   "metadata": {},
   "source": [
    "- git removte -v 查看"
   ]
  },
  {
   "cell_type": "code",
   "execution_count": 1,
   "id": "07799a9a-84b4-4f45-9b62-21f43392504e",
   "metadata": {},
   "outputs": [
    {
     "name": "stdout",
     "output_type": "stream",
     "text": [
      "origin\tgit@github.com:chunhuizhang/full_stack.git (fetch)\n",
      "origin\tgit@github.com:chunhuizhang/full_stack.git (push)\n"
     ]
    }
   ],
   "source": [
    "!git remote -v"
   ]
  },
  {
   "cell_type": "markdown",
   "id": "cbc98531",
   "metadata": {},
   "source": [
    "### 首次 clone 时（直接选择 ssh）"
   ]
  },
  {
   "cell_type": "markdown",
   "id": "4f37ea5c",
   "metadata": {},
   "source": [
    "- git remote add origin git@github.com:chunhuizhang/xx.git\n",
    "- git remote add origin git@github.com:chunhuizhang/xx.git"
   ]
  },
  {
   "cell_type": "markdown",
   "id": "820e11ab",
   "metadata": {},
   "source": [
    "### https => ssh 时"
   ]
  },
  {
   "cell_type": "markdown",
   "id": "51fa01d1",
   "metadata": {},
   "source": [
    "- git remote set-url origin git@github.com:chunhuizhang/xx.git\n",
    "    - 如果走的是 https，可通过上述命令，切换为 ssh"
   ]
  },
  {
   "cell_type": "markdown",
   "id": "33fd2526-1d6b-47d4-a7a8-21b5db45c3d0",
   "metadata": {},
   "source": [
    "## git pull 与 git fetch"
   ]
  },
  {
   "cell_type": "markdown",
   "id": "137f6280-e004-4f6b-9683-99642ede014d",
   "metadata": {},
   "source": [
    "- `git pull == git fetch + git merge`\n",
    "\n",
    "```\n",
    "git fetch origin            # 拉取远程仓库的更新\n",
    "git merge origin/main       # 将远程主分支合并到当前分支\n",
    "\n",
    "git pull origin main\n",
    "```"
   ]
  }
 ],
 "metadata": {
  "kernelspec": {
   "display_name": "Python 3 (ipykernel)",
   "language": "python",
   "name": "python3"
  },
  "language_info": {
   "codemirror_mode": {
    "name": "ipython",
    "version": 3
   },
   "file_extension": ".py",
   "mimetype": "text/x-python",
   "name": "python",
   "nbconvert_exporter": "python",
   "pygments_lexer": "ipython3",
   "version": "3.10.13"
  },
  "toc": {
   "base_numbering": 1,
   "nav_menu": {},
   "number_sections": true,
   "sideBar": true,
   "skip_h1_title": false,
   "title_cell": "Table of Contents",
   "title_sidebar": "Contents",
   "toc_cell": false,
   "toc_position": {},
   "toc_section_display": true,
   "toc_window_display": false
  }
 },
 "nbformat": 4,
 "nbformat_minor": 5
}
