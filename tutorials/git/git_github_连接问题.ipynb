{
 "cells": [
  {
   "cell_type": "markdown",
   "id": "d0387350",
   "metadata": {},
   "source": [
    "## ssh"
   ]
  },
  {
   "cell_type": "markdown",
   "id": "ece1b3f4",
   "metadata": {},
   "source": [
    "```\n",
    "$ ssh-keygen -o -t rsa -C \"zch921005@126.com\"\n",
    "# $ ssh-keygen -t rsa -b 4096 -C \"zch921005@126.com\"\n",
    "\n",
    "# 将 ~/.ssh/id_rsa.pub 拷贝至 github ssh\n",
    "# check 本地与远端，通过 sha256\n",
    "$ sh-keygen -l -f ~/.ssh/id_rsa.pub\n",
    "$ ssh-keygen -lf ~/.ssh/id_rsa.pub \n",
    "\n",
    "$ ssh-add\n",
    "Identity added:\n",
    "\n",
    "$ ssh-add -l\n",
    "# Lists fingerprints of all identities currently represented by the agent.\n",
    "\n",
    "\n",
    "```"
   ]
  },
  {
   "cell_type": "markdown",
   "id": "bf03d35a",
   "metadata": {},
   "source": [
    "- 连接测试\n",
    "\n",
    "```\n",
    "$ ssh -T git@github.com\n",
    "$ ssh -vT git@github.com\n",
    "\n",
    "# 使用端口号 443 测试\n",
    "$ ssh -T -p 443 git@ssh.github.com\n",
    "```\n",
    "\n",
    "- 端口号问题：\n",
    "    - https://docs.github.com/en/authentication/troubleshooting-ssh/using-ssh-over-the-https-port\n",
    "    - https://learnku.com/devtools/t/72153"
   ]
  },
  {
   "cell_type": "markdown",
   "id": "97c9a871",
   "metadata": {},
   "source": [
    "- 修改 `~/.ssh/config` 配置文件\n",
    "\n",
    "```\n",
    "Host github.com\n",
    "    Hostname ssh.github.com\n",
    "    Port 443\n",
    "    User git\n",
    "```"
   ]
  },
  {
   "cell_type": "markdown",
   "id": "e94d4e86",
   "metadata": {},
   "source": [
    "## ssh 协议与 https 协议"
   ]
  },
  {
   "cell_type": "markdown",
   "id": "cc165aab",
   "metadata": {},
   "source": [
    "- git removte -v 查看"
   ]
  },
  {
   "cell_type": "markdown",
   "id": "cbc98531",
   "metadata": {},
   "source": [
    "### 首次 clone 时"
   ]
  },
  {
   "cell_type": "markdown",
   "id": "4f37ea5c",
   "metadata": {},
   "source": [
    "- git remote add origin git@github.com:chunhuizhang/xx.git\n",
    "- git remote add origin git@github.com:chunhuizhang/xx.git"
   ]
  },
  {
   "cell_type": "markdown",
   "id": "820e11ab",
   "metadata": {},
   "source": [
    "### https => ssh 时"
   ]
  },
  {
   "cell_type": "markdown",
   "id": "51fa01d1",
   "metadata": {},
   "source": [
    "- git remote set-url origin git@github.com:chunhuizhang/xx.git"
   ]
  }
 ],
 "metadata": {
  "kernelspec": {
   "display_name": "Python 3 (ipykernel)",
   "language": "python",
   "name": "python3"
  },
  "language_info": {
   "codemirror_mode": {
    "name": "ipython",
    "version": 3
   },
   "file_extension": ".py",
   "mimetype": "text/x-python",
   "name": "python",
   "nbconvert_exporter": "python",
   "pygments_lexer": "ipython3",
   "version": "3.10.13"
  },
  "toc": {
   "base_numbering": 1,
   "nav_menu": {},
   "number_sections": true,
   "sideBar": true,
   "skip_h1_title": false,
   "title_cell": "Table of Contents",
   "title_sidebar": "Contents",
   "toc_cell": false,
   "toc_position": {},
   "toc_section_display": true,
   "toc_window_display": false
  }
 },
 "nbformat": 4,
 "nbformat_minor": 5
}
