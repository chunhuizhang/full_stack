{
 "cells": [
  {
   "cell_type": "markdown",
   "id": "e607c49f",
   "metadata": {},
   "source": [
    "- Apache 2.0 license\n",
    "    - 权利永恒：一旦被授予，永久有效，不可被剥夺及变更；\n",
    "    - 权利无边界：任意地点被授权，全球有效；\n",
    "    - 无需支付原作者任何费用；\n",
    "    - 允许出于任何目的使用软件、修改软件、以及销售软件；\n",
    "    - 协议要求\n",
    "        - 尊重作者著作权\n",
    "    - 著名项目：Android\n",
    "- GPL：General Public License\n",
    "    - 最流行的开源软件协议，由自由软件基金会发布；最新版本3.0\n",
    "    - 特点：授予用户 copyleft 或著作权自由\n",
    "    - 限制：**基于 GPL 协议源代码修改的衍生软件也必须开源**，\n",
    "    - 著名项目：FFmpeg\n",
    "- BSD：Berkeley Software Distribution License\n",
    "    - 强制要求：后续版本必须一样是自由软件且开源\n",
    "- MIT\n",
    "    - 更加宽松，是目前限制最少的协议；\n",
    "    \n",
    "- 都要求注明原作者；"
   ]
  },
  {
   "cell_type": "markdown",
   "id": "a3c1f2d1",
   "metadata": {},
   "source": [
    "\n",
    "- NC/ND 条款\n",
    "    - CC BY-NC 4.0\n",
    "    - CC BY-ND 4.0\n",
    "    - CC BY-NC-ND 4.0\n"
   ]
  }
 ],
 "metadata": {
  "kernelspec": {
   "display_name": "Python 3 (ipykernel)",
   "language": "python",
   "name": "python3"
  },
  "language_info": {
   "codemirror_mode": {
    "name": "ipython",
    "version": 3
   },
   "file_extension": ".py",
   "mimetype": "text/x-python",
   "name": "python",
   "nbconvert_exporter": "python",
   "pygments_lexer": "ipython3",
   "version": "3.10.9"
  },
  "toc": {
   "base_numbering": 1,
   "nav_menu": {},
   "number_sections": true,
   "sideBar": true,
   "skip_h1_title": false,
   "title_cell": "Table of Contents",
   "title_sidebar": "Contents",
   "toc_cell": false,
   "toc_position": {},
   "toc_section_display": true,
   "toc_window_display": false
  }
 },
 "nbformat": 4,
 "nbformat_minor": 5
}
