{
 "cells": [
  {
   "cell_type": "markdown",
   "id": "d91d91ab-9400-469e-aff7-e6f7dcd809a6",
   "metadata": {},
   "source": [
    "> ~/.gitconfig\n",
    "\n",
    "- 查看：`git config --list`\n",
    "- 配置 git pull 默认选择 rebase：`git pull --rebase`\n",
    "    - `git config --global pull.rebase true`\n",
    "- alias\n",
    "    - `git config --global alias.co checkout`"
   ]
  }
 ],
 "metadata": {
  "kernelspec": {
   "display_name": "Python 3 (ipykernel)",
   "language": "python",
   "name": "python3"
  },
  "language_info": {
   "codemirror_mode": {
    "name": "ipython",
    "version": 3
   },
   "file_extension": ".py",
   "mimetype": "text/x-python",
   "name": "python",
   "nbconvert_exporter": "python",
   "pygments_lexer": "ipython3",
   "version": "3.13.2"
  }
 },
 "nbformat": 4,
 "nbformat_minor": 5
}
