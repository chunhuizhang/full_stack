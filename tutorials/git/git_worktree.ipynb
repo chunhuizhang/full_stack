{
 "cells": [
  {
   "cell_type": "markdown",
   "id": "82879b05-7e16-4b91-9c0c-17e03868cb02",
   "metadata": {},
   "source": [
    "- 多分支在本地（轻量级）开发\n",
    "    - 本地轻量级：将是讲当前的 `git` 工程，除 `.git` 文件夹外的其他文件及目录拷贝到一个新的文件夹\n",
    "```\n",
    "git worktree list\n",
    "git worktree add path (-b) branch_name\n",
    "```"
   ]
  }
 ],
 "metadata": {
  "kernelspec": {
   "display_name": "torch",
   "language": "python",
   "name": "verl"
  },
  "language_info": {
   "codemirror_mode": {
    "name": "ipython",
    "version": 3
   },
   "file_extension": ".py",
   "mimetype": "text/x-python",
   "name": "python",
   "nbconvert_exporter": "python",
   "pygments_lexer": "ipython3",
   "version": "3.10.0"
  }
 },
 "nbformat": 4,
 "nbformat_minor": 5
}
