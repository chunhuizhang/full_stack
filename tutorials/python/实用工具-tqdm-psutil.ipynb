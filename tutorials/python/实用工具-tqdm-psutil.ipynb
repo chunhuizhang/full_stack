{
 "cells": [
  {
   "cell_type": "markdown",
   "id": "5fee34b1",
   "metadata": {},
   "source": [
    "## tqdm"
   ]
  },
  {
   "cell_type": "markdown",
   "id": "006ab8d1",
   "metadata": {},
   "source": [
    "- `tqdm(ids, desc='Downloading video data for Social-IQ 2.0 Dataset')`\n",
    "    - `desc` 参数内容：显示在（红色）进度条的左侧提示；\n",
    "    \n",
    "- `tqdm(zip(range(500), iter(dataset)), total=500)`\n",
    "    ```\n",
    "    for _, example in tqdm(zip(range(500), iter(dataset)), total=500):\n",
    "    ```"
   ]
  },
  {
   "cell_type": "code",
   "execution_count": null,
   "id": "454453ee",
   "metadata": {},
   "outputs": [],
   "source": []
  },
  {
   "cell_type": "markdown",
   "id": "db5c6632",
   "metadata": {},
   "source": [
    "## psutil"
   ]
  },
  {
   "cell_type": "markdown",
   "id": "c16fd18a",
   "metadata": {},
   "source": [
    "- 内存占用\n",
    "    - `f{psutil.Process().memory_info().rss / (1024**2):.2f} MB`"
   ]
  }
 ],
 "metadata": {
  "kernelspec": {
   "display_name": "Python 3 (ipykernel)",
   "language": "python",
   "name": "python3"
  },
  "language_info": {
   "codemirror_mode": {
    "name": "ipython",
    "version": 3
   },
   "file_extension": ".py",
   "mimetype": "text/x-python",
   "name": "python",
   "nbconvert_exporter": "python",
   "pygments_lexer": "ipython3",
   "version": "3.10.9"
  },
  "toc": {
   "base_numbering": 1,
   "nav_menu": {},
   "number_sections": true,
   "sideBar": true,
   "skip_h1_title": false,
   "title_cell": "Table of Contents",
   "title_sidebar": "Contents",
   "toc_cell": false,
   "toc_position": {},
   "toc_section_display": true,
   "toc_window_display": false
  }
 },
 "nbformat": 4,
 "nbformat_minor": 5
}
