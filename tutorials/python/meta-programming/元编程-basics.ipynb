{
 "cells": [
  {
   "cell_type": "markdown",
   "id": "444530a7-d3e0-43e3-a6d4-a7c7b1991233",
   "metadata": {},
   "source": [
    "### `classmethod`"
   ]
  },
  {
   "cell_type": "markdown",
   "id": "efd38c0c-776e-4f56-b033-23825e829ad3",
   "metadata": {},
   "source": [
    "- 使用 cls 参数来引用类本身，从而可以使用 setattr(cls, ...) 为类添加新方法。"
   ]
  },
  {
   "cell_type": "code",
   "execution_count": 1,
   "id": "776f4781-fc22-4bdc-9162-8dd7dd441201",
   "metadata": {
    "execution": {
     "iopub.execute_input": "2024-08-27T12:16:34.058366Z",
     "iopub.status.busy": "2024-08-27T12:16:34.057727Z",
     "iopub.status.idle": "2024-08-27T12:16:34.080450Z",
     "shell.execute_reply": "2024-08-27T12:16:34.078361Z",
     "shell.execute_reply.started": "2024-08-27T12:16:34.058315Z"
    }
   },
   "outputs": [],
   "source": [
    "class DynamicClass:\n",
    "    @classmethod\n",
    "    def add_method(cls, method_name, method):\n",
    "        setattr(cls, method_name, method)\n",
    "\n",
    "    @classmethod\n",
    "    def greet(cls):\n",
    "        print(f\"Hello from {cls.__name__}!\")\n",
    "\n",
    "# 定义一个将被动态添加的方法\n",
    "def dynamic_method(self):\n",
    "    print(f\"This is a dynamic method added to {self.__class__.__name__}\")\n",
    "\n",
    "# 使用类方法添加动态方法\n",
    "DynamicClass.add_method(\"dynamic_method\", dynamic_method)"
   ]
  },
  {
   "cell_type": "code",
   "execution_count": 4,
   "id": "7d5abc07-fe83-4076-9c29-d382d9dcb289",
   "metadata": {
    "execution": {
     "iopub.execute_input": "2024-08-27T12:18:04.808198Z",
     "iopub.status.busy": "2024-08-27T12:18:04.806879Z",
     "iopub.status.idle": "2024-08-27T12:18:04.815189Z",
     "shell.execute_reply": "2024-08-27T12:18:04.813701Z",
     "shell.execute_reply.started": "2024-08-27T12:18:04.808144Z"
    }
   },
   "outputs": [
    {
     "name": "stdout",
     "output_type": "stream",
     "text": [
      "Hello from DynamicClass!\n"
     ]
    }
   ],
   "source": [
    "DynamicClass().greet()"
   ]
  },
  {
   "cell_type": "code",
   "execution_count": 2,
   "id": "17751ab0-0557-456a-85f1-04d72cecdf16",
   "metadata": {
    "execution": {
     "iopub.execute_input": "2024-08-27T12:17:25.889614Z",
     "iopub.status.busy": "2024-08-27T12:17:25.888995Z",
     "iopub.status.idle": "2024-08-27T12:17:25.899857Z",
     "shell.execute_reply": "2024-08-27T12:17:25.897531Z",
     "shell.execute_reply.started": "2024-08-27T12:17:25.889568Z"
    }
   },
   "outputs": [
    {
     "name": "stdout",
     "output_type": "stream",
     "text": [
      "This is a dynamic method added to DynamicClass\n"
     ]
    }
   ],
   "source": [
    "test = DynamicClass()\n",
    "test.dynamic_method()"
   ]
  },
  {
   "cell_type": "code",
   "execution_count": null,
   "id": "cf768ee2-4fe2-4126-87e3-ff5cd42118b2",
   "metadata": {},
   "outputs": [],
   "source": []
  }
 ],
 "metadata": {
  "kernelspec": {
   "display_name": "Python 3 (ipykernel)",
   "language": "python",
   "name": "python3"
  },
  "language_info": {
   "codemirror_mode": {
    "name": "ipython",
    "version": 3
   },
   "file_extension": ".py",
   "mimetype": "text/x-python",
   "name": "python",
   "nbconvert_exporter": "python",
   "pygments_lexer": "ipython3",
   "version": "3.10.13"
  }
 },
 "nbformat": 4,
 "nbformat_minor": 5
}
