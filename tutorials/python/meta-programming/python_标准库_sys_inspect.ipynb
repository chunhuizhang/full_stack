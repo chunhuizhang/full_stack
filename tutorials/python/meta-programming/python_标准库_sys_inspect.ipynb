{
 "cells": [
  {
   "cell_type": "code",
   "execution_count": 2,
   "id": "4b0414d7",
   "metadata": {
    "ExecuteTime": {
     "end_time": "2024-02-13T09:08:29.356106Z",
     "start_time": "2024-02-13T09:08:29.347785Z"
    },
    "execution": {
     "iopub.execute_input": "2024-11-17T04:12:31.869059Z",
     "iopub.status.busy": "2024-11-17T04:12:31.868744Z",
     "iopub.status.idle": "2024-11-17T04:12:31.873881Z",
     "shell.execute_reply": "2024-11-17T04:12:31.872963Z",
     "shell.execute_reply.started": "2024-11-17T04:12:31.869043Z"
    }
   },
   "outputs": [],
   "source": [
    "import inspect\n",
    "import sys"
   ]
  },
  {
   "cell_type": "markdown",
   "id": "ca70a7cd",
   "metadata": {},
   "source": [
    "- 获取活动对象的信息，检测模块、类、方法、函数、tracebacks等的内部"
   ]
  },
  {
   "cell_type": "markdown",
   "id": "a85cab02-2baa-4876-a5ff-d75b3846d8e1",
   "metadata": {},
   "source": [
    "## sys"
   ]
  },
  {
   "cell_type": "code",
   "execution_count": 3,
   "id": "3cf125a8-9776-4ad4-90ed-9227b956f8f7",
   "metadata": {
    "execution": {
     "iopub.execute_input": "2024-11-17T04:12:34.331632Z",
     "iopub.status.busy": "2024-11-17T04:12:34.331172Z",
     "iopub.status.idle": "2024-11-17T04:12:34.346429Z",
     "shell.execute_reply": "2024-11-17T04:12:34.344575Z",
     "shell.execute_reply.started": "2024-11-17T04:12:34.331601Z"
    },
    "tags": []
   },
   "outputs": [
    {
     "data": {
      "text/plain": [
       "'/home/whaow/anaconda3/bin/python'"
      ]
     },
     "execution_count": 3,
     "metadata": {},
     "output_type": "execute_result"
    }
   ],
   "source": [
    "sys.executable"
   ]
  },
  {
   "cell_type": "markdown",
   "id": "ec936a1f",
   "metadata": {
    "tags": []
   },
   "source": [
    "## utils"
   ]
  },
  {
   "cell_type": "markdown",
   "id": "875be38f",
   "metadata": {},
   "source": [
    "### 获取和检查源代码"
   ]
  },
  {
   "cell_type": "code",
   "execution_count": 3,
   "id": "e70d1a17",
   "metadata": {
    "ExecuteTime": {
     "end_time": "2024-02-13T09:08:41.153171Z",
     "start_time": "2024-02-13T09:08:41.147285Z"
    }
   },
   "outputs": [
    {
     "data": {
      "text/plain": [
       "'def my_function():\\n    return \"Hello, World!\"\\n'"
      ]
     },
     "execution_count": 3,
     "metadata": {},
     "output_type": "execute_result"
    }
   ],
   "source": [
    "# 获取函数的源代码\n",
    "def my_function():\n",
    "    return \"Hello, World!\"\n",
    "\n",
    "source_code = inspect.getsource(my_function)\n",
    "source_code"
   ]
  },
  {
   "cell_type": "code",
   "execution_count": 4,
   "id": "1479c1d4",
   "metadata": {
    "ExecuteTime": {
     "end_time": "2024-02-13T09:08:50.037378Z",
     "start_time": "2024-02-13T09:08:50.030564Z"
    }
   },
   "outputs": [
    {
     "data": {
      "text/plain": [
       "[('method_one', <function __main__.MyClass.method_one(self)>),\n",
       " ('method_two', <function __main__.MyClass.method_two(self)>)]"
      ]
     },
     "execution_count": 4,
     "metadata": {},
     "output_type": "execute_result"
    }
   ],
   "source": [
    "# 检查类的方法\n",
    "class MyClass:\n",
    "    def method_one(self):\n",
    "        pass\n",
    "\n",
    "    def method_two(self):\n",
    "        pass\n",
    "\n",
    "methods = [member for member in inspect.getmembers(MyClass, predicate=inspect.isfunction)]\n",
    "methods"
   ]
  },
  {
   "cell_type": "markdown",
   "id": "51f86976",
   "metadata": {},
   "source": [
    "### 获取函数的参数信息\n"
   ]
  },
  {
   "cell_type": "code",
   "execution_count": 5,
   "id": "01481d28",
   "metadata": {
    "ExecuteTime": {
     "end_time": "2024-02-13T09:09:16.766425Z",
     "start_time": "2024-02-13T09:09:16.761812Z"
    }
   },
   "outputs": [
    {
     "name": "stdout",
     "output_type": "stream",
     "text": [
      "(arg1, arg2='default', *args, **kwargs)\n",
      "arg1 POSITIONAL_OR_KEYWORD <class 'inspect._empty'>\n",
      "arg2 POSITIONAL_OR_KEYWORD default\n",
      "args VAR_POSITIONAL <class 'inspect._empty'>\n",
      "kwargs VAR_KEYWORD <class 'inspect._empty'>\n"
     ]
    }
   ],
   "source": [
    "def another_function(arg1, arg2='default', *args, **kwargs):\n",
    "    pass\n",
    "\n",
    "sig = inspect.signature(another_function)\n",
    "print(sig)\n",
    "for name, param in sig.parameters.items():\n",
    "    print(name, param.kind, param.default)"
   ]
  },
  {
   "cell_type": "code",
   "execution_count": 1,
   "id": "277ffd22-9adb-4d93-868c-71f8f200b5eb",
   "metadata": {
    "execution": {
     "iopub.execute_input": "2024-11-17T04:12:25.007089Z",
     "iopub.status.busy": "2024-11-17T04:12:25.006482Z",
     "iopub.status.idle": "2024-11-17T04:12:26.258723Z",
     "shell.execute_reply": "2024-11-17T04:12:26.257889Z",
     "shell.execute_reply.started": "2024-11-17T04:12:25.007042Z"
    }
   },
   "outputs": [],
   "source": [
    "from torch import nn"
   ]
  },
  {
   "cell_type": "code",
   "execution_count": 8,
   "id": "afb184d7-e73d-4818-80bc-d420b4031a68",
   "metadata": {
    "execution": {
     "iopub.execute_input": "2024-11-17T04:13:32.134080Z",
     "iopub.status.busy": "2024-11-17T04:13:32.133460Z",
     "iopub.status.idle": "2024-11-17T04:13:32.147427Z",
     "shell.execute_reply": "2024-11-17T04:13:32.145318Z",
     "shell.execute_reply.started": "2024-11-17T04:13:32.134036Z"
    }
   },
   "outputs": [],
   "source": [
    "decoder = nn.TransformerDecoderLayer(4, 2, 8)"
   ]
  },
  {
   "cell_type": "code",
   "execution_count": 9,
   "id": "ee5a217a-5dc7-41ee-9244-1e2bc745d3ca",
   "metadata": {
    "execution": {
     "iopub.execute_input": "2024-11-17T04:13:34.698411Z",
     "iopub.status.busy": "2024-11-17T04:13:34.697787Z",
     "iopub.status.idle": "2024-11-17T04:13:34.710130Z",
     "shell.execute_reply": "2024-11-17T04:13:34.708034Z",
     "shell.execute_reply.started": "2024-11-17T04:13:34.698354Z"
    }
   },
   "outputs": [
    {
     "data": {
      "text/plain": [
       "<Signature (tgt: torch.Tensor, memory: torch.Tensor, tgt_mask: Optional[torch.Tensor] = None, memory_mask: Optional[torch.Tensor] = None, tgt_key_padding_mask: Optional[torch.Tensor] = None, memory_key_padding_mask: Optional[torch.Tensor] = None, tgt_is_causal: bool = False, memory_is_causal: bool = False) -> torch.Tensor>"
      ]
     },
     "execution_count": 9,
     "metadata": {},
     "output_type": "execute_result"
    }
   ],
   "source": [
    "inspect.signature(decoder.forward)"
   ]
  },
  {
   "cell_type": "markdown",
   "id": "5248296e",
   "metadata": {},
   "source": [
    "### 检查 stack 信息"
   ]
  },
  {
   "cell_type": "code",
   "execution_count": 6,
   "id": "336538fd",
   "metadata": {
    "ExecuteTime": {
     "end_time": "2024-02-13T09:09:50.342466Z",
     "start_time": "2024-02-13T09:09:50.176293Z"
    }
   },
   "outputs": [
    {
     "name": "stdout",
     "output_type": "stream",
     "text": [
      "recursive_function 5\n",
      "recursive_function 3\n",
      "recursive_function 3\n",
      "<module> 8\n",
      "run_code 3457\n",
      "run_ast_nodes 3377\n",
      "run_cell_async 3185\n",
      "_pseudo_sync_runner 78\n",
      "_run_cell 2960\n",
      "run_cell 2914\n",
      "run_cell 528\n",
      "do_execute 390\n",
      "execute_request 730\n",
      "dispatch_shell 406\n",
      "process_one 499\n",
      "dispatch_queue 510\n",
      "_run 80\n",
      "_run_once 1905\n",
      "run_forever 601\n",
      "start 199\n",
      "start 712\n",
      "launch_instance 846\n",
      "<module> 17\n",
      "_run_code 87\n",
      "_run_module_as_main 197\n"
     ]
    }
   ],
   "source": [
    "def recursive_function(n):\n",
    "    if n > 0:\n",
    "        recursive_function(n-1)\n",
    "    else:\n",
    "        for frame in inspect.stack():\n",
    "            print(frame.function, frame.lineno)\n",
    "\n",
    "recursive_function(2)"
   ]
  },
  {
   "cell_type": "code",
   "execution_count": null,
   "id": "333b1f9c",
   "metadata": {},
   "outputs": [],
   "source": []
  }
 ],
 "metadata": {
  "kernelspec": {
   "display_name": "Python 3 (ipykernel)",
   "language": "python",
   "name": "python3"
  },
  "language_info": {
   "codemirror_mode": {
    "name": "ipython",
    "version": 3
   },
   "file_extension": ".py",
   "mimetype": "text/x-python",
   "name": "python",
   "nbconvert_exporter": "python",
   "pygments_lexer": "ipython3",
   "version": "3.10.13"
  },
  "toc": {
   "base_numbering": 1,
   "nav_menu": {},
   "number_sections": true,
   "sideBar": true,
   "skip_h1_title": false,
   "title_cell": "Table of Contents",
   "title_sidebar": "Contents",
   "toc_cell": false,
   "toc_position": {},
   "toc_section_display": true,
   "toc_window_display": false
  }
 },
 "nbformat": 4,
 "nbformat_minor": 5
}
