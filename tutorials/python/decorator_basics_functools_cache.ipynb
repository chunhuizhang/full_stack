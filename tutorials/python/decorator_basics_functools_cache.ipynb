{
 "cells": [
  {
   "cell_type": "markdown",
   "id": "908e4d7e",
   "metadata": {},
   "source": [
    "- 一种 wrapper、装饰器设计模式\n",
    "    - 这种 wrapper 一般是一种非常轻量，非常 utils 的适配，比如监控函数执行的时间；\n",
    "    - 内部函数（wrapper/inner）是为被装饰的函数对象增加一些额外的属性（additional features）\n",
    "- 装饰器\n",
    "    - 函数装饰器（function decorator），装饰一个函数\n",
    "    - 类装饰器（class decorator），装饰一个类\n",
    "        - 类内部的成员函数也可以有（method decorator）\n",
    "- 装饰器形式上是一个函数（或者一个支持 `__call__`的类），接受一个函数对象（入参），返回一个函数对象（内部函数对象）；\n",
    "    - 使用上，可以通过 `@`注解来使用；"
   ]
  },
  {
   "cell_type": "markdown",
   "id": "710a8f4f",
   "metadata": {},
   "source": [
    "## 函数（对象）作为一等公民"
   ]
  },
  {
   "cell_type": "markdown",
   "id": "e8fdc5bf",
   "metadata": {},
   "source": [
    "### 函数作为参数"
   ]
  },
  {
   "cell_type": "code",
   "execution_count": 2,
   "id": "462f47a5",
   "metadata": {
    "ExecuteTime": {
     "end_time": "2023-08-13T02:47:10.729568Z",
     "start_time": "2023-08-13T02:47:10.721236Z"
    }
   },
   "outputs": [
    {
     "name": "stdout",
     "output_type": "stream",
     "text": [
      "3\n",
      "12\n"
     ]
    }
   ],
   "source": [
    "def compose(f, g, x):\n",
    "    return f(g(x))\n",
    "compose(print, len, [1, 2, 3])\n",
    "compose(print, len, 'hello world!')"
   ]
  },
  {
   "cell_type": "markdown",
   "id": "34991c6b",
   "metadata": {},
   "source": [
    "### 嵌套函数"
   ]
  },
  {
   "cell_type": "code",
   "execution_count": 78,
   "id": "397b66e6",
   "metadata": {
    "ExecuteTime": {
     "end_time": "2023-08-13T09:56:43.722299Z",
     "start_time": "2023-08-13T09:56:43.713467Z"
    }
   },
   "outputs": [
    {
     "name": "stdout",
     "output_type": "stream",
     "text": [
      "<function random_power.<locals>.h at 0x7f4776304ca0>\n",
      "h\n",
      "27\n"
     ]
    }
   ],
   "source": [
    "import random\n",
    "def random_power():\n",
    "    # f, g, h: nested functions\n",
    "    def f(x):\n",
    "        return x**2\n",
    "    def g(x):\n",
    "        return x**3\n",
    "    def h(x):\n",
    "        return x**4\n",
    "    funcs = [f, g, h]\n",
    "    return random.choice(funcs, )\n",
    "print(random_power())\n",
    "print(random_power().__name__)\n",
    "print(random_power()(3))"
   ]
  },
  {
   "cell_type": "markdown",
   "id": "079c0063",
   "metadata": {},
   "source": [
    "## 一个示例"
   ]
  },
  {
   "cell_type": "code",
   "execution_count": 79,
   "id": "b5fdb638",
   "metadata": {
    "ExecuteTime": {
     "end_time": "2023-08-13T09:57:46.382875Z",
     "start_time": "2023-08-13T09:57:43.663712Z"
    }
   },
   "outputs": [],
   "source": [
    "import time\n",
    "def worker1():\n",
    "    time.sleep(1.5)\n",
    "def worker2():\n",
    "    time.sleep(1.2)\n",
    "worker1()\n",
    "worker2()"
   ]
  },
  {
   "cell_type": "code",
   "execution_count": 34,
   "id": "aba1c7b5",
   "metadata": {
    "ExecuteTime": {
     "end_time": "2023-08-13T04:10:13.523145Z",
     "start_time": "2023-08-13T04:10:13.517118Z"
    }
   },
   "outputs": [],
   "source": [
    "def tictoc(func):\n",
    "    # nested function\n",
    "    def wrapper():\n",
    "        t1 = time.time()\n",
    "        func()\n",
    "        t2 = time.time()\n",
    "        print(f'{func.__name__} Took {t2-t1} seconds')\n",
    "    return wrapper"
   ]
  },
  {
   "cell_type": "code",
   "execution_count": 80,
   "id": "d7b88003",
   "metadata": {
    "ExecuteTime": {
     "end_time": "2023-08-13T09:59:06.648706Z",
     "start_time": "2023-08-13T09:59:06.639908Z"
    }
   },
   "outputs": [
    {
     "data": {
      "text/plain": [
       "<function __main__.tictoc.<locals>.wrapper(*args, **kwargs)>"
      ]
     },
     "execution_count": 80,
     "metadata": {},
     "output_type": "execute_result"
    }
   ],
   "source": [
    "def worker1():\n",
    "    time.sleep(1.5)\n",
    "tictoc(worker1)"
   ]
  },
  {
   "cell_type": "code",
   "execution_count": 81,
   "id": "4ad678d7",
   "metadata": {
    "ExecuteTime": {
     "end_time": "2023-08-13T09:59:33.255857Z",
     "start_time": "2023-08-13T09:59:31.743462Z"
    }
   },
   "outputs": [
    {
     "name": "stdout",
     "output_type": "stream",
     "text": [
      "worker1 Took 1.506929636001587 seconds\n"
     ]
    }
   ],
   "source": [
    "tictoc(worker1)()"
   ]
  },
  {
   "cell_type": "code",
   "execution_count": 82,
   "id": "9e9a7124",
   "metadata": {
    "ExecuteTime": {
     "end_time": "2023-08-13T10:00:18.787028Z",
     "start_time": "2023-08-13T10:00:16.066967Z"
    }
   },
   "outputs": [
    {
     "name": "stdout",
     "output_type": "stream",
     "text": [
      "worker1 Took 1.5075702667236328 seconds\n",
      "worker2 Took 1.2060577869415283 seconds\n"
     ]
    }
   ],
   "source": [
    "@tictoc\n",
    "def worker1():\n",
    "    time.sleep(1.5)\n",
    "@tictoc\n",
    "def worker2():\n",
    "    time.sleep(1.2)\n",
    "worker1()\n",
    "worker2()"
   ]
  },
  {
   "cell_type": "markdown",
   "id": "357c1c3e",
   "metadata": {},
   "source": [
    "## 带参数, 返回值"
   ]
  },
  {
   "cell_type": "code",
   "execution_count": 83,
   "id": "c49fe920",
   "metadata": {
    "ExecuteTime": {
     "end_time": "2023-08-13T10:00:35.924632Z",
     "start_time": "2023-08-13T10:00:35.915492Z"
    }
   },
   "outputs": [],
   "source": [
    "def prime_factorizaton(n):\n",
    "    factors = []\n",
    "    divisor = 2\n",
    "    while n > 1:\n",
    "        while n % divisor == 0:\n",
    "            factors.append(divisor)\n",
    "            n //= divisor \n",
    "        divisor += 1\n",
    "    return factors"
   ]
  },
  {
   "cell_type": "code",
   "execution_count": 84,
   "id": "4a866637",
   "metadata": {
    "ExecuteTime": {
     "end_time": "2023-08-13T10:00:36.853230Z",
     "start_time": "2023-08-13T10:00:36.844305Z"
    },
    "scrolled": true
   },
   "outputs": [
    {
     "data": {
      "text/plain": [
       "[3, 41]"
      ]
     },
     "execution_count": 84,
     "metadata": {},
     "output_type": "execute_result"
    }
   ],
   "source": [
    "prime_factorizaton(123)"
   ]
  },
  {
   "cell_type": "code",
   "execution_count": 40,
   "id": "ad9c1c9a",
   "metadata": {
    "ExecuteTime": {
     "end_time": "2023-08-13T04:13:05.057199Z",
     "start_time": "2023-08-13T04:13:05.051400Z"
    }
   },
   "outputs": [],
   "source": [
    "def timer(func):\n",
    "    def wrapper(*args, **kwargs):\n",
    "        t1 = time.time()\n",
    "        \n",
    "        # 核心调用\n",
    "        results = func(*args, **kwargs)\n",
    "        \n",
    "        t2 = time.time()\n",
    "        print(f'{func.__name__} Took {t2-t1} seconds')\n",
    "        return results\n",
    "    return wrapper"
   ]
  },
  {
   "cell_type": "code",
   "execution_count": 44,
   "id": "2346e867",
   "metadata": {
    "ExecuteTime": {
     "end_time": "2023-08-13T04:13:26.032297Z",
     "start_time": "2023-08-13T04:13:26.024937Z"
    }
   },
   "outputs": [],
   "source": [
    "def prime_factorizaton(n):\n",
    "    factors = []\n",
    "    divisor = 2\n",
    "    while n > 1:\n",
    "        while n % divisor == 0:\n",
    "            factors.append(divisor)\n",
    "            n //= divisor \n",
    "        divisor += 1\n",
    "    return factors"
   ]
  },
  {
   "cell_type": "code",
   "execution_count": 85,
   "id": "903569c5",
   "metadata": {
    "ExecuteTime": {
     "end_time": "2023-08-13T10:02:01.642632Z",
     "start_time": "2023-08-13T10:02:01.636084Z"
    }
   },
   "outputs": [
    {
     "data": {
      "text/plain": [
       "<function __main__.timer.<locals>.wrapper(*args, **kwargs)>"
      ]
     },
     "execution_count": 85,
     "metadata": {},
     "output_type": "execute_result"
    }
   ],
   "source": [
    "timer(prime_factorizaton)"
   ]
  },
  {
   "cell_type": "code",
   "execution_count": 86,
   "id": "6c4e7a28",
   "metadata": {
    "ExecuteTime": {
     "end_time": "2023-08-13T10:02:22.171103Z",
     "start_time": "2023-08-13T10:02:21.859082Z"
    }
   },
   "outputs": [
    {
     "name": "stdout",
     "output_type": "stream",
     "text": [
      "prime_factorizaton took 0.304431676864624 seconds\n"
     ]
    },
    {
     "data": {
      "text/plain": [
       "[3, 59, 3033169]"
      ]
     },
     "execution_count": 86,
     "metadata": {},
     "output_type": "execute_result"
    }
   ],
   "source": [
    "timer(prime_factorizaton)(n=2**29+1)"
   ]
  },
  {
   "cell_type": "code",
   "execution_count": 87,
   "id": "1f271801",
   "metadata": {
    "ExecuteTime": {
     "end_time": "2023-08-13T10:02:35.759608Z",
     "start_time": "2023-08-13T10:02:35.752460Z"
    }
   },
   "outputs": [],
   "source": [
    "@timer\n",
    "def prime_factorizaton(n):\n",
    "    factors = []\n",
    "    divisor = 2\n",
    "    while n > 1:\n",
    "        while n % divisor == 0:\n",
    "            factors.append(divisor)\n",
    "            n //= divisor \n",
    "        divisor += 1\n",
    "    return factors"
   ]
  },
  {
   "cell_type": "code",
   "execution_count": 88,
   "id": "4f1f267b",
   "metadata": {
    "ExecuteTime": {
     "end_time": "2023-08-13T10:02:47.334444Z",
     "start_time": "2023-08-13T10:02:47.019535Z"
    }
   },
   "outputs": [
    {
     "name": "stdout",
     "output_type": "stream",
     "text": [
      "prime_factorizaton took 0.3085780143737793 seconds\n"
     ]
    },
    {
     "data": {
      "text/plain": [
       "[3, 59, 3033169]"
      ]
     },
     "execution_count": 88,
     "metadata": {},
     "output_type": "execute_result"
    }
   ],
   "source": [
    "factors = prime_factorizaton(n=2**29+1)\n",
    "factors"
   ]
  },
  {
   "cell_type": "markdown",
   "id": "e4601379",
   "metadata": {},
   "source": [
    "## `functools`"
   ]
  },
  {
   "cell_type": "markdown",
   "id": "937c4014",
   "metadata": {},
   "source": [
    "- `*args, **kwargs`：兼容所有参数\n",
    "\n",
    "    ```\n",
    "    def decorator(func):\n",
    "        def nested_inner_func(*args, **kwargs):\n",
    "            ...\n",
    "            results = func(*args, **kwargs)\n",
    "            ...\n",
    "            return results\n",
    "        return nested_inner_func\n",
    "\n",
    "    @decorator\n",
    "    def f(x):\n",
    "        ...\n",
    "\n",
    "    decorator(f)(x)\n",
    "    f(x)\n",
    "    ```"
   ]
  },
  {
   "cell_type": "code",
   "execution_count": 89,
   "id": "3dd7a4c4",
   "metadata": {
    "ExecuteTime": {
     "end_time": "2023-08-13T10:04:06.840855Z",
     "start_time": "2023-08-13T10:04:06.833971Z"
    },
    "scrolled": true
   },
   "outputs": [
    {
     "name": "stdout",
     "output_type": "stream",
     "text": [
      "GenericAlias\n",
      "RLock\n",
      "WRAPPER_ASSIGNMENTS\n",
      "WRAPPER_UPDATES\n",
      "cache\n",
      "cached_property\n",
      "cmp_to_key\n",
      "get_cache_token\n",
      "lru_cache\n",
      "namedtuple\n",
      "partial\n",
      "partialmethod\n",
      "recursive_repr\n",
      "reduce\n",
      "singledispatch\n",
      "singledispatchmethod\n",
      "total_ordering\n",
      "update_wrapper\n",
      "wraps\n"
     ]
    }
   ],
   "source": [
    "import functools\n",
    "for f in dir(functools):\n",
    "    if f.startswith('_'):\n",
    "        continue\n",
    "    print(f)"
   ]
  },
  {
   "cell_type": "code",
   "execution_count": 58,
   "id": "c6c7d730",
   "metadata": {
    "ExecuteTime": {
     "end_time": "2023-08-13T04:27:34.425148Z",
     "start_time": "2023-08-13T04:27:34.416331Z"
    }
   },
   "outputs": [
    {
     "name": "stdout",
     "output_type": "stream",
     "text": [
      "args=('a', 1, 'hello'), kwargs={'n': 100, 'name': 'zhang'}\n"
     ]
    }
   ],
   "source": [
    "def func_args(*args, **kwargs):\n",
    "    ''' view all args '''\n",
    "    print(f'args={args}, kwargs={kwargs}')\n",
    "func_args('a', 1, 'hello', n=100, name='zhang')"
   ]
  },
  {
   "cell_type": "code",
   "execution_count": 90,
   "id": "348e995e",
   "metadata": {
    "ExecuteTime": {
     "end_time": "2023-08-13T10:04:41.680431Z",
     "start_time": "2023-08-13T10:04:41.670707Z"
    }
   },
   "outputs": [
    {
     "data": {
      "text/plain": [
       "'func_args'"
      ]
     },
     "execution_count": 90,
     "metadata": {},
     "output_type": "execute_result"
    }
   ],
   "source": [
    "func_args.__name__"
   ]
  },
  {
   "cell_type": "code",
   "execution_count": 60,
   "id": "586beea2",
   "metadata": {
    "ExecuteTime": {
     "end_time": "2023-08-13T04:27:40.428196Z",
     "start_time": "2023-08-13T04:27:40.421656Z"
    }
   },
   "outputs": [
    {
     "data": {
      "text/plain": [
       "' view all args '"
      ]
     },
     "execution_count": 60,
     "metadata": {},
     "output_type": "execute_result"
    }
   ],
   "source": [
    "func_args.__doc__"
   ]
  },
  {
   "cell_type": "code",
   "execution_count": 93,
   "id": "c30d8cd8",
   "metadata": {
    "ExecuteTime": {
     "end_time": "2023-08-13T10:05:25.717787Z",
     "start_time": "2023-08-13T10:05:25.709780Z"
    }
   },
   "outputs": [],
   "source": [
    "def do_nothing(f):\n",
    "    def inner(*args, **kwargs):\n",
    "        ''' inner function '''\n",
    "        return f(*args, **kwargs)\n",
    "    return inner\n",
    "\n",
    "@do_nothing\n",
    "def func_args(*args, **kwargs):\n",
    "    ''' view all args '''\n",
    "    print(f'args={args}, kwargs={kwargs}')"
   ]
  },
  {
   "cell_type": "code",
   "execution_count": 94,
   "id": "a8e4750f",
   "metadata": {
    "ExecuteTime": {
     "end_time": "2023-08-13T10:05:26.826155Z",
     "start_time": "2023-08-13T10:05:26.819753Z"
    }
   },
   "outputs": [
    {
     "name": "stdout",
     "output_type": "stream",
     "text": [
      "inner\n",
      " inner function \n"
     ]
    }
   ],
   "source": [
    "print(func_args.__name__)\n",
    "print(func_args.__doc__)"
   ]
  },
  {
   "cell_type": "markdown",
   "id": "71e514ce",
   "metadata": {},
   "source": [
    "### `functools.wraps`"
   ]
  },
  {
   "cell_type": "code",
   "execution_count": 95,
   "id": "57574b98",
   "metadata": {
    "ExecuteTime": {
     "end_time": "2023-08-13T10:06:19.088854Z",
     "start_time": "2023-08-13T10:06:19.081478Z"
    }
   },
   "outputs": [
    {
     "name": "stdout",
     "output_type": "stream",
     "text": [
      "func_args\n",
      " view all args \n"
     ]
    }
   ],
   "source": [
    "from functools import wraps\n",
    "\n",
    "def do_nothing(f):\n",
    "    \n",
    "    @wraps(f)\n",
    "    def inner(*args, **kwargs):\n",
    "        ''' inner function '''\n",
    "        return f(*args, **kwargs)\n",
    "    return inner\n",
    "\n",
    "@do_nothing\n",
    "def func_args(*args, **kwargs):\n",
    "    ''' view all args '''\n",
    "    print(f'args={args}, kwargs={kwargs}')\n",
    "    \n",
    "print(func_args.__name__)\n",
    "print(func_args.__doc__)"
   ]
  },
  {
   "cell_type": "markdown",
   "id": "34f1457c",
   "metadata": {},
   "source": [
    "### `functools.cache`"
   ]
  },
  {
   "cell_type": "code",
   "execution_count": 100,
   "id": "1bbcf08f",
   "metadata": {
    "ExecuteTime": {
     "end_time": "2023-08-13T10:22:07.037374Z",
     "start_time": "2023-08-13T10:22:07.027576Z"
    }
   },
   "outputs": [],
   "source": [
    "from functools import cache\n",
    "\n",
    "@cache\n",
    "def fibonacci(n):\n",
    "    # starts from 1, 1, \n",
    "    if n <= 2:\n",
    "        return 1\n",
    "    return fibonacci(n-1) + fibonacci(n-2)\n",
    "\n",
    "import time\n",
    "def timer(f):\n",
    "    def wrapper(*args, **kwargs):\n",
    "        t1 = time.time()\n",
    "        result = f(*args, **kwargs)\n",
    "        t2 = time.time()\n",
    "        print(f'{f.__name__} took {t2 - t1} seconds')\n",
    "        return result\n",
    "    return wrapper\n",
    "\n",
    "@timer\n",
    "def global_fibonacci(n):\n",
    "    return fibonacci(n)"
   ]
  },
  {
   "cell_type": "code",
   "execution_count": 101,
   "id": "cbaafdbb",
   "metadata": {
    "ExecuteTime": {
     "end_time": "2023-08-13T10:22:08.188658Z",
     "start_time": "2023-08-13T10:22:08.179033Z"
    }
   },
   "outputs": [
    {
     "name": "stdout",
     "output_type": "stream",
     "text": [
      "global_fibonacci took 5.173683166503906e-05 seconds\n"
     ]
    },
    {
     "data": {
      "text/plain": [
       "102334155"
      ]
     },
     "execution_count": 101,
     "metadata": {},
     "output_type": "execute_result"
    }
   ],
   "source": [
    "global_fibonacci(40)"
   ]
  },
  {
   "cell_type": "code",
   "execution_count": 106,
   "id": "713ae25e",
   "metadata": {
    "ExecuteTime": {
     "end_time": "2023-08-13T10:22:56.318632Z",
     "start_time": "2023-08-13T10:22:56.308507Z"
    }
   },
   "outputs": [
    {
     "data": {
      "text/plain": [
       "CacheInfo(hits=37, misses=40, maxsize=None, currsize=40)"
      ]
     },
     "execution_count": 106,
     "metadata": {},
     "output_type": "execute_result"
    }
   ],
   "source": [
    "# 查看 cache 信息\n",
    "fibonacci.cache_info()"
   ]
  },
  {
   "cell_type": "code",
   "execution_count": 70,
   "id": "0361753a",
   "metadata": {
    "ExecuteTime": {
     "end_time": "2023-08-13T05:02:14.997175Z",
     "start_time": "2023-08-13T05:02:14.990541Z"
    }
   },
   "outputs": [],
   "source": [
    "def my_cache(f):\n",
    "    memo = {}\n",
    "    def wrapper(n):\n",
    "        if n not in memo:\n",
    "            memo[n] = f(n)\n",
    "        else:\n",
    "            print(f'hit memo[{n}]')\n",
    "        return memo[n]\n",
    "    return wrapper"
   ]
  },
  {
   "cell_type": "code",
   "execution_count": 98,
   "id": "bad877f2",
   "metadata": {
    "ExecuteTime": {
     "end_time": "2023-08-13T10:08:27.626640Z",
     "start_time": "2023-08-13T10:08:27.616171Z"
    }
   },
   "outputs": [],
   "source": [
    "@my_cache\n",
    "def fibonacci(n):\n",
    "    # starts from 1, 1, \n",
    "    if n <= 2:\n",
    "        return 1\n",
    "    return fibonacci(n-1) + fibonacci(n-2)\n",
    "\n",
    "\n",
    "def timer(f):\n",
    "    def wrapper(*args, **kwargs):\n",
    "        t1 = time.time()\n",
    "        result = f(*args, **kwargs)\n",
    "        t2 = time.time()\n",
    "        print(f'{f.__name__} took {t2 - t1} seconds')\n",
    "        return result\n",
    "    return wrapper\n",
    "\n",
    "@timer\n",
    "def global_fibonacci(n):\n",
    "    return fibonacci(n)"
   ]
  },
  {
   "cell_type": "code",
   "execution_count": 99,
   "id": "22458d95",
   "metadata": {
    "ExecuteTime": {
     "end_time": "2023-08-13T10:08:28.696690Z",
     "start_time": "2023-08-13T10:08:28.686816Z"
    }
   },
   "outputs": [
    {
     "name": "stdout",
     "output_type": "stream",
     "text": [
      "hit memo[2]\n",
      "hit memo[3]\n",
      "hit memo[4]\n",
      "hit memo[5]\n",
      "hit memo[6]\n",
      "hit memo[7]\n",
      "hit memo[8]\n",
      "hit memo[9]\n",
      "hit memo[10]\n",
      "hit memo[11]\n",
      "hit memo[12]\n",
      "hit memo[13]\n",
      "hit memo[14]\n",
      "hit memo[15]\n",
      "hit memo[16]\n",
      "hit memo[17]\n",
      "hit memo[18]\n",
      "hit memo[19]\n",
      "hit memo[20]\n",
      "hit memo[21]\n",
      "hit memo[22]\n",
      "hit memo[23]\n",
      "hit memo[24]\n",
      "hit memo[25]\n",
      "hit memo[26]\n",
      "hit memo[27]\n",
      "hit memo[28]\n",
      "hit memo[29]\n",
      "hit memo[30]\n",
      "hit memo[31]\n",
      "hit memo[32]\n",
      "hit memo[33]\n",
      "hit memo[34]\n",
      "hit memo[35]\n",
      "hit memo[36]\n",
      "hit memo[37]\n",
      "hit memo[38]\n",
      "global_fibonacci took 0.00046133995056152344 seconds\n"
     ]
    },
    {
     "data": {
      "text/plain": [
       "102334155"
      ]
     },
     "execution_count": 99,
     "metadata": {},
     "output_type": "execute_result"
    }
   ],
   "source": [
    "global_fibonacci(40)"
   ]
  }
 ],
 "metadata": {
  "kernelspec": {
   "display_name": "Python 3 (ipykernel)",
   "language": "python",
   "name": "python3"
  },
  "language_info": {
   "codemirror_mode": {
    "name": "ipython",
    "version": 3
   },
   "file_extension": ".py",
   "mimetype": "text/x-python",
   "name": "python",
   "nbconvert_exporter": "python",
   "pygments_lexer": "ipython3",
   "version": "3.10.9"
  },
  "toc": {
   "base_numbering": 1,
   "nav_menu": {},
   "number_sections": true,
   "sideBar": true,
   "skip_h1_title": false,
   "title_cell": "Table of Contents",
   "title_sidebar": "Contents",
   "toc_cell": false,
   "toc_position": {
    "height": "calc(100% - 180px)",
    "left": "10px",
    "top": "150px",
    "width": "241px"
   },
   "toc_section_display": true,
   "toc_window_display": true
  }
 },
 "nbformat": 4,
 "nbformat_minor": 5
}
