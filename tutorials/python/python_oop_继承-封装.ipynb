{
 "cells": [
  {
   "cell_type": "markdown",
   "id": "db410093",
   "metadata": {},
   "source": [
    "## abstractmethod、abstractclass"
   ]
  },
  {
   "cell_type": "markdown",
   "id": "e7a5f2b4",
   "metadata": {},
   "source": [
    "- `@abstractmethod` => `abstract class`"
   ]
  },
  {
   "cell_type": "code",
   "execution_count": 1,
   "id": "75a1c78a",
   "metadata": {
    "ExecuteTime": {
     "end_time": "2023-06-25T13:27:21.856849Z",
     "start_time": "2023-06-25T13:27:21.839003Z"
    }
   },
   "outputs": [],
   "source": [
    "from abc import ABC, abstractmethod\n",
    "\n",
    "class Shape(ABC):\n",
    "    def __init__(self, shape_name):\n",
    "        self.shape_name = shape_name\n",
    "\n",
    "    @abstractmethod\n",
    "    def draw(self):\n",
    "        pass"
   ]
  },
  {
   "cell_type": "code",
   "execution_count": 2,
   "id": "13a9a64e",
   "metadata": {
    "ExecuteTime": {
     "end_time": "2023-06-25T13:27:35.223789Z",
     "start_time": "2023-06-25T13:27:35.217449Z"
    }
   },
   "outputs": [],
   "source": [
    "class Circle(Shape):\n",
    "    pass"
   ]
  },
  {
   "cell_type": "code",
   "execution_count": 3,
   "id": "d479c3c0",
   "metadata": {
    "ExecuteTime": {
     "end_time": "2023-06-25T13:27:38.700948Z",
     "start_time": "2023-06-25T13:27:38.205557Z"
    }
   },
   "outputs": [
    {
     "ename": "TypeError",
     "evalue": "Can't instantiate abstract class Circle with abstract method draw",
     "output_type": "error",
     "traceback": [
      "\u001b[0;31m---------------------------------------------------------------------------\u001b[0m",
      "\u001b[0;31mTypeError\u001b[0m                                 Traceback (most recent call last)",
      "Cell \u001b[0;32mIn[3], line 1\u001b[0m\n\u001b[0;32m----> 1\u001b[0m c \u001b[38;5;241m=\u001b[39m \u001b[43mCircle\u001b[49m\u001b[43m(\u001b[49m\u001b[43m)\u001b[49m\n",
      "\u001b[0;31mTypeError\u001b[0m: Can't instantiate abstract class Circle with abstract method draw"
     ]
    }
   ],
   "source": [
    "c = Circle()"
   ]
  }
 ],
 "metadata": {
  "kernelspec": {
   "display_name": "Python 3 (ipykernel)",
   "language": "python",
   "name": "python3"
  },
  "language_info": {
   "codemirror_mode": {
    "name": "ipython",
    "version": 3
   },
   "file_extension": ".py",
   "mimetype": "text/x-python",
   "name": "python",
   "nbconvert_exporter": "python",
   "pygments_lexer": "ipython3",
   "version": "3.10.9"
  },
  "toc": {
   "base_numbering": 1,
   "nav_menu": {},
   "number_sections": true,
   "sideBar": true,
   "skip_h1_title": false,
   "title_cell": "Table of Contents",
   "title_sidebar": "Contents",
   "toc_cell": false,
   "toc_position": {},
   "toc_section_display": true,
   "toc_window_display": false
  }
 },
 "nbformat": 4,
 "nbformat_minor": 5
}
