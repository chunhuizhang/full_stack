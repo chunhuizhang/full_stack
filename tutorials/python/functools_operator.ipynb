{
 "cells": [
  {
   "cell_type": "markdown",
   "id": "452a33f0",
   "metadata": {},
   "source": [
    "## `functools`"
   ]
  },
  {
   "cell_type": "markdown",
   "id": "99602490",
   "metadata": {},
   "source": [
    "### `partial`"
   ]
  },
  {
   "cell_type": "markdown",
   "id": "1382d2ad",
   "metadata": {},
   "source": [
    "- 接受一个函数对象，返回一个函数对象，只是返回的函数对象已经被填充了部分参数；"
   ]
  },
  {
   "cell_type": "markdown",
   "id": "9fd5f88c",
   "metadata": {},
   "source": [
    "```\n",
    "def gpt(prompt, model=\"gpt-4\", temperature=0.7, max_tokens=1000, n=1, stop=None) -> list:\n",
    "    ...\n",
    "    \n",
    "gpt = partial(gpt, model=args.backend, temperature=args.temperature)\n",
    "```"
   ]
  }
 ],
 "metadata": {
  "kernelspec": {
   "display_name": "Python 3 (ipykernel)",
   "language": "python",
   "name": "python3"
  },
  "language_info": {
   "codemirror_mode": {
    "name": "ipython",
    "version": 3
   },
   "file_extension": ".py",
   "mimetype": "text/x-python",
   "name": "python",
   "nbconvert_exporter": "python",
   "pygments_lexer": "ipython3",
   "version": "3.10.13"
  },
  "toc": {
   "base_numbering": 1,
   "nav_menu": {},
   "number_sections": true,
   "sideBar": true,
   "skip_h1_title": false,
   "title_cell": "Table of Contents",
   "title_sidebar": "Contents",
   "toc_cell": false,
   "toc_position": {},
   "toc_section_display": true,
   "toc_window_display": false
  }
 },
 "nbformat": 4,
 "nbformat_minor": 5
}
