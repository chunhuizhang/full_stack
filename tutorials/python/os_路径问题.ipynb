{
 "cells": [
  {
   "cell_type": "markdown",
   "id": "9be476a8",
   "metadata": {
    "ExecuteTime": {
     "end_time": "2023-09-05T13:14:55.712171Z",
     "start_time": "2023-09-05T13:14:55.235177Z"
    }
   },
   "source": [
    "- `__file__`：表示当前文件\n",
    "\n",
    "    ```\n",
    "    import os\n",
    "    os.path.dirname(os.path.realpath(__file__))\n",
    "    ```"
   ]
  }
 ],
 "metadata": {
  "kernelspec": {
   "display_name": "Python 3 (ipykernel)",
   "language": "python",
   "name": "python3"
  },
  "language_info": {
   "codemirror_mode": {
    "name": "ipython",
    "version": 3
   },
   "file_extension": ".py",
   "mimetype": "text/x-python",
   "name": "python",
   "nbconvert_exporter": "python",
   "pygments_lexer": "ipython3",
   "version": "3.10.9"
  },
  "toc": {
   "base_numbering": 1,
   "nav_menu": {},
   "number_sections": true,
   "sideBar": true,
   "skip_h1_title": false,
   "title_cell": "Table of Contents",
   "title_sidebar": "Contents",
   "toc_cell": false,
   "toc_position": {},
   "toc_section_display": true,
   "toc_window_display": false
  }
 },
 "nbformat": 4,
 "nbformat_minor": 5
}
