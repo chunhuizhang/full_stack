{
 "cells": [
  {
   "cell_type": "markdown",
   "id": "5997cf37",
   "metadata": {},
   "source": [
    "## datetime"
   ]
  },
  {
   "cell_type": "markdown",
   "id": "dd58de1d",
   "metadata": {},
   "source": [
    "### timedelta：时间的加减"
   ]
  },
  {
   "cell_type": "code",
   "execution_count": 1,
   "id": "1d30b7b6",
   "metadata": {
    "ExecuteTime": {
     "end_time": "2023-09-11T12:49:59.739990Z",
     "start_time": "2023-09-11T12:49:59.721746Z"
    }
   },
   "outputs": [],
   "source": [
    "from datetime import datetime, timedelta"
   ]
  },
  {
   "cell_type": "code",
   "execution_count": 5,
   "id": "61bb9f3c",
   "metadata": {
    "ExecuteTime": {
     "end_time": "2023-09-11T12:50:33.585993Z",
     "start_time": "2023-09-11T12:50:33.576065Z"
    }
   },
   "outputs": [
    {
     "data": {
      "text/plain": [
       "datetime.datetime(2024, 9, 10, 0, 0)"
      ]
     },
     "execution_count": 5,
     "metadata": {},
     "output_type": "execute_result"
    }
   ],
   "source": [
    "# 365 天后\n",
    "datetime(2023, 9, 11) + timedelta(365)"
   ]
  },
  {
   "cell_type": "code",
   "execution_count": null,
   "id": "1d98cdc9",
   "metadata": {},
   "outputs": [],
   "source": []
  }
 ],
 "metadata": {
  "kernelspec": {
   "display_name": "Python 3 (ipykernel)",
   "language": "python",
   "name": "python3"
  },
  "language_info": {
   "codemirror_mode": {
    "name": "ipython",
    "version": 3
   },
   "file_extension": ".py",
   "mimetype": "text/x-python",
   "name": "python",
   "nbconvert_exporter": "python",
   "pygments_lexer": "ipython3",
   "version": "3.10.9"
  },
  "toc": {
   "base_numbering": 1,
   "nav_menu": {},
   "number_sections": true,
   "sideBar": true,
   "skip_h1_title": false,
   "title_cell": "Table of Contents",
   "title_sidebar": "Contents",
   "toc_cell": false,
   "toc_position": {},
   "toc_section_display": true,
   "toc_window_display": false
  }
 },
 "nbformat": 4,
 "nbformat_minor": 5
}
