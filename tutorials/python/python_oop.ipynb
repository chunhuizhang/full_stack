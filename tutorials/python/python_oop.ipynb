{
 "cells": [
  {
   "cell_type": "markdown",
   "id": "5fcc4a84",
   "metadata": {},
   "source": [
    "## @property"
   ]
  },
  {
   "cell_type": "markdown",
   "id": "71aba6bd",
   "metadata": {},
   "source": [
    "- `@property` 注解的函数（返回的数据成员），其函数名不可以出现在 `__init__` 构造函数的赋值中？？"
   ]
  },
  {
   "cell_type": "markdown",
   "id": "7efa55a1",
   "metadata": {},
   "source": [
    "## Enum"
   ]
  },
  {
   "cell_type": "code",
   "execution_count": 1,
   "id": "307636c8",
   "metadata": {
    "ExecuteTime": {
     "end_time": "2023-06-07T12:50:40.890214Z",
     "start_time": "2023-06-07T12:50:40.875650Z"
    }
   },
   "outputs": [],
   "source": [
    "from enum import Enum"
   ]
  },
  {
   "cell_type": "code",
   "execution_count": 2,
   "id": "10c2c909",
   "metadata": {
    "ExecuteTime": {
     "end_time": "2023-06-07T12:50:43.758592Z",
     "start_time": "2023-06-07T12:50:43.751579Z"
    }
   },
   "outputs": [],
   "source": [
    "class StoryType (Enum):\n",
    "    true_belief = \"true_belief\"\n",
    "    false_belief = \"false_belief\"\n",
    "    second_order_false_belief = \"second_order_false_belief\""
   ]
  },
  {
   "cell_type": "markdown",
   "id": "a15f8b75",
   "metadata": {},
   "source": [
    "### `.value`"
   ]
  },
  {
   "cell_type": "code",
   "execution_count": 3,
   "id": "d5ed7d45",
   "metadata": {
    "ExecuteTime": {
     "end_time": "2023-06-07T12:51:00.985840Z",
     "start_time": "2023-06-07T12:51:00.970844Z"
    }
   },
   "outputs": [
    {
     "data": {
      "text/plain": [
       "'false_belief'"
      ]
     },
     "execution_count": 3,
     "metadata": {},
     "output_type": "execute_result"
    }
   ],
   "source": [
    "StoryType.false_belief.value"
   ]
  },
  {
   "cell_type": "markdown",
   "id": "438e2802",
   "metadata": {},
   "source": [
    "## 类成员"
   ]
  },
  {
   "cell_type": "code",
   "execution_count": 13,
   "id": "dba22c90",
   "metadata": {
    "ExecuteTime": {
     "end_time": "2023-06-10T03:37:49.572758Z",
     "start_time": "2023-06-10T03:37:49.560842Z"
    }
   },
   "outputs": [
    {
     "data": {
      "text/plain": [
       "'class variable of Class A'"
      ]
     },
     "execution_count": 13,
     "metadata": {},
     "output_type": "execute_result"
    }
   ],
   "source": [
    "class A:\n",
    "    # 类粒度的\n",
    "    var_1 = 'class variable of Class A'\n",
    "    def __init__(self):\n",
    "        # 虽然是同名的，但依然是对象粒度的\n",
    "        # 如果构造函数中内有该成员变量，\n",
    "        # a = A()\n",
    "        # a.var_1 其实会指向类成员；\n",
    "#         self.var_1 = \"inside class A's __init__\"\n",
    "        pass\n",
    "a = A()\n",
    "a.var_1"
   ]
  },
  {
   "cell_type": "code",
   "execution_count": 12,
   "id": "c51af419",
   "metadata": {
    "ExecuteTime": {
     "end_time": "2023-06-10T03:34:10.688817Z",
     "start_time": "2023-06-10T03:34:10.680840Z"
    }
   },
   "outputs": [],
   "source": [
    "class A:\n",
    "    # 类粒度的\n",
    "    var_1 = 'class variable of Class A'\n",
    "    def __init__(self):\n",
    "        # 虽然是同名的，但依然是对象粒度的\n",
    "        # 如果构造函数中内有该成员变量，\n",
    "        # a = A()\n",
    "        # a.var_1 其实会指向类成员；\n",
    "        self.var_1 = \"inside class A's __init__\""
   ]
  },
  {
   "cell_type": "code",
   "execution_count": 5,
   "id": "2c564ed6",
   "metadata": {
    "ExecuteTime": {
     "end_time": "2023-06-10T03:31:59.767288Z",
     "start_time": "2023-06-10T03:31:59.758086Z"
    }
   },
   "outputs": [
    {
     "data": {
      "text/plain": [
       "'class variable of Class A'"
      ]
     },
     "execution_count": 5,
     "metadata": {},
     "output_type": "execute_result"
    }
   ],
   "source": [
    "A.var_1"
   ]
  },
  {
   "cell_type": "code",
   "execution_count": 6,
   "id": "600683d9",
   "metadata": {
    "ExecuteTime": {
     "end_time": "2023-06-10T03:32:04.938410Z",
     "start_time": "2023-06-10T03:32:04.929299Z"
    }
   },
   "outputs": [
    {
     "data": {
      "text/plain": [
       "\"inside class A's __init__\""
      ]
     },
     "execution_count": 6,
     "metadata": {},
     "output_type": "execute_result"
    }
   ],
   "source": [
    "a = A()\n",
    "a.var_1"
   ]
  },
  {
   "cell_type": "markdown",
   "id": "2af4785d",
   "metadata": {},
   "source": [
    "### 继承情况下"
   ]
  },
  {
   "cell_type": "code",
   "execution_count": 7,
   "id": "bdf299e9",
   "metadata": {
    "ExecuteTime": {
     "end_time": "2023-06-10T03:33:15.079463Z",
     "start_time": "2023-06-10T03:33:15.072806Z"
    }
   },
   "outputs": [],
   "source": [
    "class B(A):\n",
    "    var_2 = 'class variable of Class B'"
   ]
  },
  {
   "cell_type": "code",
   "execution_count": 8,
   "id": "8793482e",
   "metadata": {
    "ExecuteTime": {
     "end_time": "2023-06-10T03:33:19.521606Z",
     "start_time": "2023-06-10T03:33:19.514580Z"
    }
   },
   "outputs": [],
   "source": [
    "b = B()"
   ]
  },
  {
   "cell_type": "code",
   "execution_count": 11,
   "id": "ef08d024",
   "metadata": {
    "ExecuteTime": {
     "end_time": "2023-06-10T03:33:56.655882Z",
     "start_time": "2023-06-10T03:33:56.649007Z"
    }
   },
   "outputs": [
    {
     "name": "stdout",
     "output_type": "stream",
     "text": [
      "inside class A's __init__\n",
      "class variable of Class A\n",
      "class variable of Class B\n"
     ]
    }
   ],
   "source": [
    "print(b.var_1)\n",
    "print(B.var_1)\n",
    "print(b.var_2)"
   ]
  },
  {
   "cell_type": "markdown",
   "id": "6a4504bb",
   "metadata": {},
   "source": [
    "### 完全同名的情况"
   ]
  },
  {
   "cell_type": "code",
   "execution_count": 14,
   "id": "4a62cca9",
   "metadata": {
    "ExecuteTime": {
     "end_time": "2023-06-10T03:39:36.031871Z",
     "start_time": "2023-06-10T03:39:36.022298Z"
    }
   },
   "outputs": [
    {
     "name": "stdout",
     "output_type": "stream",
     "text": [
      "inside class B's __init__\n"
     ]
    }
   ],
   "source": [
    "class A:\n",
    "    # 类粒度的\n",
    "    var_1 = 'class variable of Class A'\n",
    "    def __init__(self):\n",
    "        self.var_1 = \"inside class A's __init__\"\n",
    "\n",
    "class B(A):\n",
    "    # 类粒度的\n",
    "    var_1 = 'class variable of Class B'\n",
    "    def __init__(self):\n",
    "        self.var_1 = \"inside class B's __init__\"\n",
    "\n",
    "b = B()\n",
    "print(b.var_1)"
   ]
  },
  {
   "cell_type": "markdown",
   "id": "7b11b9d7",
   "metadata": {},
   "source": [
    "## super"
   ]
  },
  {
   "cell_type": "markdown",
   "id": "3500d5a8",
   "metadata": {},
   "source": [
    "- `super()`\n",
    "    - 首先是一个方法，用来获取父类成员方法\n",
    "    - 会返回一个父类的临时对象（temporary object）"
   ]
  },
  {
   "cell_type": "code",
   "execution_count": 17,
   "id": "6437cc77",
   "metadata": {
    "ExecuteTime": {
     "end_time": "2023-06-10T03:41:22.556859Z",
     "start_time": "2023-06-10T03:41:22.548189Z"
    }
   },
   "outputs": [],
   "source": [
    "class A:\n",
    "    # 类粒度的\n",
    "    var_1 = 'class variable of Class A'\n",
    "    def __init__(self):\n",
    "        self.var_1 = \"inside class A's __init__\"\n",
    "        self.var_2 = 'hahh'\n",
    "\n",
    "class B(A):\n",
    "    # 类粒度的\n",
    "    var_1 = 'class variable of Class B'\n",
    "    def __init__(self):\n",
    "        self.var_1 = \"inside class B's __init__\""
   ]
  },
  {
   "cell_type": "code",
   "execution_count": 16,
   "id": "1399fb9f",
   "metadata": {
    "ExecuteTime": {
     "end_time": "2023-06-10T03:41:20.075938Z",
     "start_time": "2023-06-10T03:41:20.058534Z"
    }
   },
   "outputs": [
    {
     "ename": "AttributeError",
     "evalue": "'B' object has no attribute 'var_2'",
     "output_type": "error",
     "traceback": [
      "\u001b[0;31m---------------------------------------------------------------------------\u001b[0m",
      "\u001b[0;31mAttributeError\u001b[0m                            Traceback (most recent call last)",
      "Cell \u001b[0;32mIn[16], line 2\u001b[0m\n\u001b[1;32m      1\u001b[0m b \u001b[38;5;241m=\u001b[39m B()\n\u001b[0;32m----> 2\u001b[0m \u001b[38;5;28mprint\u001b[39m(\u001b[43mb\u001b[49m\u001b[38;5;241;43m.\u001b[39;49m\u001b[43mvar_2\u001b[49m)\n",
      "\u001b[0;31mAttributeError\u001b[0m: 'B' object has no attribute 'var_2'"
     ]
    }
   ],
   "source": [
    "b = B()\n",
    "print(b.var_2)"
   ]
  },
  {
   "cell_type": "code",
   "execution_count": 28,
   "id": "cb952718",
   "metadata": {
    "ExecuteTime": {
     "end_time": "2023-06-10T03:45:10.676287Z",
     "start_time": "2023-06-10T03:45:10.666759Z"
    }
   },
   "outputs": [],
   "source": [
    "class A:\n",
    "    # 类粒度的\n",
    "    var_1 = 'class variable of Class A'\n",
    "    def __init__(self):\n",
    "        self.var_1 = \"inside class A's __init__\"\n",
    "        self.var_2 = 'hahh'\n",
    "\n",
    "class B(A):\n",
    "    # 类粒度的\n",
    "    var_1 = 'class variable of Class B'\n",
    "    def __init__(self):\n",
    "#         super().__init__()\n",
    "        super(B, self).__init__()\n",
    "        self.var_1 = \"inside class B's __init__\""
   ]
  },
  {
   "cell_type": "code",
   "execution_count": 30,
   "id": "d56e69be",
   "metadata": {
    "ExecuteTime": {
     "end_time": "2023-06-10T03:45:32.302926Z",
     "start_time": "2023-06-10T03:45:32.295995Z"
    },
    "scrolled": true
   },
   "outputs": [
    {
     "name": "stdout",
     "output_type": "stream",
     "text": [
      "inside class B's __init__\n",
      "hahh\n"
     ]
    }
   ],
   "source": [
    "b = B()\n",
    "print(b.var_1)\n",
    "print(b.var_2)"
   ]
  },
  {
   "cell_type": "markdown",
   "id": "be76ffe9",
   "metadata": {},
   "source": [
    "### 注意 `super()` 在 `__init__` 中的位置"
   ]
  },
  {
   "cell_type": "code",
   "execution_count": 26,
   "id": "3b4b3a3f",
   "metadata": {
    "ExecuteTime": {
     "end_time": "2023-06-10T03:44:56.841134Z",
     "start_time": "2023-06-10T03:44:56.831297Z"
    }
   },
   "outputs": [],
   "source": [
    "class A:\n",
    "    # 类粒度的\n",
    "    var_1 = 'class variable of Class A'\n",
    "    def __init__(self):\n",
    "        self.var_1 = \"inside class A's __init__\"\n",
    "        self.var_2 = 'hahh'\n",
    "\n",
    "class B(A):\n",
    "    # 类粒度的\n",
    "    var_1 = 'class variable of Class B'\n",
    "    def __init__(self):\n",
    "        self.var_1 = \"inside class B's __init__\"\n",
    "        #         super().__init__()\n",
    "        super(B, self).__init__()"
   ]
  },
  {
   "cell_type": "code",
   "execution_count": 27,
   "id": "c282aacc",
   "metadata": {
    "ExecuteTime": {
     "end_time": "2023-06-10T03:45:05.220702Z",
     "start_time": "2023-06-10T03:45:05.211236Z"
    }
   },
   "outputs": [
    {
     "data": {
      "text/plain": [
       "\"inside class A's __init__\""
      ]
     },
     "execution_count": 27,
     "metadata": {},
     "output_type": "execute_result"
    }
   ],
   "source": [
    "b = B()\n",
    "b.var_1"
   ]
  }
 ],
 "metadata": {
  "kernelspec": {
   "display_name": "Python 3 (ipykernel)",
   "language": "python",
   "name": "python3"
  },
  "language_info": {
   "codemirror_mode": {
    "name": "ipython",
    "version": 3
   },
   "file_extension": ".py",
   "mimetype": "text/x-python",
   "name": "python",
   "nbconvert_exporter": "python",
   "pygments_lexer": "ipython3",
   "version": "3.10.9"
  },
  "toc": {
   "base_numbering": 1,
   "nav_menu": {},
   "number_sections": true,
   "sideBar": true,
   "skip_h1_title": false,
   "title_cell": "Table of Contents",
   "title_sidebar": "Contents",
   "toc_cell": false,
   "toc_position": {},
   "toc_section_display": true,
   "toc_window_display": false
  }
 },
 "nbformat": 4,
 "nbformat_minor": 5
}
