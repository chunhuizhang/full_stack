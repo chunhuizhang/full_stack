{
 "cells": [
  {
   "cell_type": "markdown",
   "id": "7efa55a1",
   "metadata": {},
   "source": [
    "## Enum"
   ]
  },
  {
   "cell_type": "code",
   "execution_count": 1,
   "id": "307636c8",
   "metadata": {
    "ExecuteTime": {
     "end_time": "2023-06-07T12:50:40.890214Z",
     "start_time": "2023-06-07T12:50:40.875650Z"
    }
   },
   "outputs": [],
   "source": [
    "from enum import Enum"
   ]
  },
  {
   "cell_type": "code",
   "execution_count": 2,
   "id": "10c2c909",
   "metadata": {
    "ExecuteTime": {
     "end_time": "2023-06-07T12:50:43.758592Z",
     "start_time": "2023-06-07T12:50:43.751579Z"
    }
   },
   "outputs": [],
   "source": [
    "class StoryType (Enum):\n",
    "    true_belief = \"true_belief\"\n",
    "    false_belief = \"false_belief\"\n",
    "    second_order_false_belief = \"second_order_false_belief\""
   ]
  },
  {
   "cell_type": "markdown",
   "id": "a15f8b75",
   "metadata": {},
   "source": [
    "### `.value`"
   ]
  },
  {
   "cell_type": "code",
   "execution_count": 3,
   "id": "d5ed7d45",
   "metadata": {
    "ExecuteTime": {
     "end_time": "2023-06-07T12:51:00.985840Z",
     "start_time": "2023-06-07T12:51:00.970844Z"
    }
   },
   "outputs": [
    {
     "data": {
      "text/plain": [
       "'false_belief'"
      ]
     },
     "execution_count": 3,
     "metadata": {},
     "output_type": "execute_result"
    }
   ],
   "source": [
    "StoryType.false_belief.value"
   ]
  }
 ],
 "metadata": {
  "kernelspec": {
   "display_name": "Python 3 (ipykernel)",
   "language": "python",
   "name": "python3"
  },
  "language_info": {
   "codemirror_mode": {
    "name": "ipython",
    "version": 3
   },
   "file_extension": ".py",
   "mimetype": "text/x-python",
   "name": "python",
   "nbconvert_exporter": "python",
   "pygments_lexer": "ipython3",
   "version": "3.10.9"
  },
  "toc": {
   "base_numbering": 1,
   "nav_menu": {},
   "number_sections": true,
   "sideBar": true,
   "skip_h1_title": false,
   "title_cell": "Table of Contents",
   "title_sidebar": "Contents",
   "toc_cell": false,
   "toc_position": {},
   "toc_section_display": true,
   "toc_window_display": false
  }
 },
 "nbformat": 4,
 "nbformat_minor": 5
}
