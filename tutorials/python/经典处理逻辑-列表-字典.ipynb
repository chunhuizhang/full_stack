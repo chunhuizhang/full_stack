{
 "cells": [
  {
   "cell_type": "markdown",
   "id": "b0a817c9",
   "metadata": {},
   "source": [
    "## dict"
   ]
  },
  {
   "cell_type": "markdown",
   "id": "d68677e6",
   "metadata": {},
   "source": [
    "- 返回字典最大值（value）对应的 key: `max(d, key=d.get)`\n",
    "    - python 3.7 以后，字典是有序的，按插入序？"
   ]
  },
  {
   "cell_type": "code",
   "execution_count": 1,
   "id": "49658425",
   "metadata": {
    "ExecuteTime": {
     "end_time": "2023-11-28T14:14:28.081169Z",
     "start_time": "2023-11-28T14:14:28.071668Z"
    }
   },
   "outputs": [
    {
     "data": {
      "text/plain": [
       "'banana'"
      ]
     },
     "execution_count": 1,
     "metadata": {},
     "output_type": "execute_result"
    }
   ],
   "source": [
    "d = {'apple': 3, 'banana': 5, 'cherry': 1}\n",
    "max(d, key=d.get)"
   ]
  },
  {
   "cell_type": "code",
   "execution_count": 5,
   "id": "57fc854c",
   "metadata": {
    "ExecuteTime": {
     "end_time": "2023-11-28T14:19:30.782188Z",
     "start_time": "2023-11-28T14:19:30.772349Z"
    }
   },
   "outputs": [
    {
     "data": {
      "text/plain": [
       "'apple'"
      ]
     },
     "execution_count": 5,
     "metadata": {},
     "output_type": "execute_result"
    }
   ],
   "source": [
    "# 相同 max value，返回第一个 key\n",
    "d = {'apple': 5, 'banana': 3, 'cherry': 5}\n",
    "max(d, key=d.get)"
   ]
  },
  {
   "cell_type": "code",
   "execution_count": 4,
   "id": "68b3313f",
   "metadata": {
    "ExecuteTime": {
     "end_time": "2023-11-28T14:19:29.604059Z",
     "start_time": "2023-11-28T14:19:29.595493Z"
    }
   },
   "outputs": [
    {
     "data": {
      "text/plain": [
       "'cherry'"
      ]
     },
     "execution_count": 4,
     "metadata": {},
     "output_type": "execute_result"
    }
   ],
   "source": [
    "# 相同 max value，返回第一个 key\n",
    "d = {'cherry': 5, 'apple': 5, 'banana': 3}\n",
    "max(d, key=d.get)"
   ]
  },
  {
   "cell_type": "markdown",
   "id": "5ada039c",
   "metadata": {},
   "source": [
    "### 构造函数"
   ]
  },
  {
   "cell_type": "code",
   "execution_count": 6,
   "id": "af1e7969",
   "metadata": {
    "ExecuteTime": {
     "end_time": "2023-11-29T13:38:53.186241Z",
     "start_time": "2023-11-29T13:38:53.178555Z"
    }
   },
   "outputs": [
    {
     "data": {
      "text/plain": [
       "{(3, 3): 1, (3, 2): -1}"
      ]
     },
     "execution_count": 6,
     "metadata": {},
     "output_type": "execute_result"
    }
   ],
   "source": [
    "# list of 2-tuple\n",
    "dict([((3, 3), 1), ((3, 2), -1)])"
   ]
  },
  {
   "cell_type": "markdown",
   "id": "f0577361",
   "metadata": {},
   "source": [
    "## list 最小值对应的索引：argmin"
   ]
  },
  {
   "cell_type": "code",
   "execution_count": 1,
   "id": "19ec5aa4",
   "metadata": {
    "ExecuteTime": {
     "end_time": "2023-09-11T12:52:02.922478Z",
     "start_time": "2023-09-11T12:52:02.895003Z"
    }
   },
   "outputs": [
    {
     "data": {
      "text/plain": [
       "2"
      ]
     },
     "execution_count": 1,
     "metadata": {},
     "output_type": "execute_result"
    }
   ],
   "source": [
    "l = [2, 3, 1]\n",
    "min(range(len(l)), key=l.__getitem__)"
   ]
  },
  {
   "cell_type": "code",
   "execution_count": 5,
   "id": "bba8825a",
   "metadata": {
    "ExecuteTime": {
     "end_time": "2023-09-11T12:52:16.282060Z",
     "start_time": "2023-09-11T12:52:16.272132Z"
    }
   },
   "outputs": [
    {
     "data": {
      "text/plain": [
       "2"
      ]
     },
     "execution_count": 5,
     "metadata": {},
     "output_type": "execute_result"
    }
   ],
   "source": [
    "l = [2, 3, 1, 1]\n",
    "min(range(len(l)), key=l.__getitem__)"
   ]
  },
  {
   "cell_type": "code",
   "execution_count": 4,
   "id": "57f9b051",
   "metadata": {
    "ExecuteTime": {
     "end_time": "2023-09-11T12:52:13.627184Z",
     "start_time": "2023-09-11T12:52:13.617882Z"
    },
    "scrolled": true
   },
   "outputs": [
    {
     "data": {
      "text/plain": [
       "4"
      ]
     },
     "execution_count": 4,
     "metadata": {},
     "output_type": "execute_result"
    }
   ],
   "source": [
    "l = [2, 3, 1, 1, 0]\n",
    "min(range(len(l)), key=l.__getitem__)"
   ]
  },
  {
   "cell_type": "markdown",
   "id": "229fe46d",
   "metadata": {},
   "source": [
    "### multi argmin"
   ]
  },
  {
   "cell_type": "code",
   "execution_count": 13,
   "id": "6c342b56",
   "metadata": {
    "ExecuteTime": {
     "end_time": "2023-09-11T13:04:19.338502Z",
     "start_time": "2023-09-11T13:04:19.328365Z"
    }
   },
   "outputs": [
    {
     "data": {
      "text/plain": [
       "[2, 3]"
      ]
     },
     "execution_count": 13,
     "metadata": {},
     "output_type": "execute_result"
    }
   ],
   "source": [
    "l = [2, 3, 1, 1]\n",
    "[i for i, v in enumerate(l) if v == min(l)]"
   ]
  },
  {
   "cell_type": "markdown",
   "id": "1eccd293",
   "metadata": {},
   "source": [
    "## 多级排序"
   ]
  },
  {
   "cell_type": "code",
   "execution_count": 12,
   "id": "7217b499",
   "metadata": {
    "ExecuteTime": {
     "end_time": "2023-09-11T13:02:30.149168Z",
     "start_time": "2023-09-11T13:02:30.136245Z"
    }
   },
   "outputs": [
    {
     "data": {
      "text/plain": [
       "[(12, 24), (12, 12), (32, 64), (32, 15), (32, 11), (34, 13)]"
      ]
     },
     "execution_count": 12,
     "metadata": {},
     "output_type": "execute_result"
    }
   ],
   "source": [
    "# 第一级用 x[0]（升序），相同时（x[0] 相同时，x[1] 逆序）\n",
    "L = [(12, 12), (34, 13), (32, 15), (12, 24), (32, 64), (32, 11)]\n",
    "L.sort(key=lambda x: (x[0], -x[1]))\n",
    "L"
   ]
  },
  {
   "cell_type": "code",
   "execution_count": 7,
   "id": "4d096f77",
   "metadata": {
    "ExecuteTime": {
     "end_time": "2023-09-11T12:55:24.830197Z",
     "start_time": "2023-09-11T12:55:24.825255Z"
    }
   },
   "outputs": [],
   "source": [
    "from operator import itemgetter"
   ]
  },
  {
   "cell_type": "code",
   "execution_count": 11,
   "id": "992946f8",
   "metadata": {
    "ExecuteTime": {
     "end_time": "2023-09-11T13:02:03.523826Z",
     "start_time": "2023-09-11T13:02:03.510275Z"
    }
   },
   "outputs": [
    {
     "data": {
      "text/plain": [
       "[(12, 12), (12, 24), (32, 11), (32, 15), (32, 64), (34, 13)]"
      ]
     },
     "execution_count": 11,
     "metadata": {},
     "output_type": "execute_result"
    }
   ],
   "source": [
    "L = [(12, 12), (34, 13), (32, 15), (12, 24), (32, 64), (32, 11)]\n",
    "L.sort(key=itemgetter(0, 1))\n",
    "L"
   ]
  },
  {
   "cell_type": "code",
   "execution_count": null,
   "id": "5e992bab",
   "metadata": {},
   "outputs": [],
   "source": []
  }
 ],
 "metadata": {
  "kernelspec": {
   "display_name": "Python 3 (ipykernel)",
   "language": "python",
   "name": "python3"
  },
  "language_info": {
   "codemirror_mode": {
    "name": "ipython",
    "version": 3
   },
   "file_extension": ".py",
   "mimetype": "text/x-python",
   "name": "python",
   "nbconvert_exporter": "python",
   "pygments_lexer": "ipython3",
   "version": "3.10.13"
  },
  "toc": {
   "base_numbering": 1,
   "nav_menu": {},
   "number_sections": true,
   "sideBar": true,
   "skip_h1_title": false,
   "title_cell": "Table of Contents",
   "title_sidebar": "Contents",
   "toc_cell": false,
   "toc_position": {},
   "toc_section_display": true,
   "toc_window_display": false
  }
 },
 "nbformat": 4,
 "nbformat_minor": 5
}
