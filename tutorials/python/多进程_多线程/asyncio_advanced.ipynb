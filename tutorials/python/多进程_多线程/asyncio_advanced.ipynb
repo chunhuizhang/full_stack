{
 "cells": [
  {
   "cell_type": "markdown",
   "id": "9468292c-6004-43c2-950b-2f05d5424c92",
   "metadata": {},
   "source": [
    "```python\n",
    "lock = asyncio.Lock()\n",
    "asyncio.get_event_loop().run_until_complete\n",
    "```"
   ]
  },
  {
   "cell_type": "code",
   "execution_count": 1,
   "id": "3a5ffa1d-3714-4e01-a74d-e55fdcb0a6d2",
   "metadata": {},
   "outputs": [],
   "source": [
    "import asyncio\n",
    "import time"
   ]
  },
  {
   "cell_type": "markdown",
   "id": "62489a1c-5f0e-458a-9583-ad2e03722966",
   "metadata": {},
   "source": [
    "- `asyncio.gather(*coros)` 会返回一个包含它们各自返回值的列表（按传入顺序）\n",
    "- loop.run_until_complete 则确保整个 main_coroutine (包括它内部的所有 await 操作) 都执行完毕。"
   ]
  },
  {
   "cell_type": "markdown",
   "id": "1d1676d2-3f57-45ec-a729-c04312b17a6e",
   "metadata": {},
   "source": [
    "### `asyncio.lock`"
   ]
  },
  {
   "cell_type": "markdown",
   "id": "477fc3be-f6c2-4b20-84fe-4094d024a9be",
   "metadata": {},
   "source": [
    "- `asyncio.Lock` 是一种同步原语，用于在多个协程并发访问共享资源时，防止出现竞争条件（race condition）导致数据不一致或程序错误。\n",
    "    - lock.acquire\n",
    "    - lock.release"
   ]
  },
  {
   "cell_type": "code",
   "execution_count": null,
   "id": "2443c797-6bda-47cb-99e5-f61602ef9912",
   "metadata": {},
   "outputs": [],
   "source": [
    "lock = asyncio.Lock()\n",
    "shared_data = 0\n",
    "\n",
    "async def modify_shared_data(worker_id):\n",
    "    global shared_data\n",
    "    print(f\"工人 {worker_id} 尝试获取锁...\")\n",
    "    async with lock: # 进入时自动 await lock.acquire()\n",
    "        print(f\"工人 {worker_id} 已获取锁，正在修改数据...\")\n",
    "        temp = shared_data\n",
    "        await asyncio.sleep(0.1) # 模拟一些耗时操作\n",
    "        shared_data = temp + 1\n",
    "        print(f\"工人 {worker_id} 修改完毕，当前 shared_data: {shared_data}\")\n",
    "    # 退出 async with 代码块时自动 lock.release()\n",
    "    print(f\"工人 {worker_id} 已释放锁。\")"
   ]
  },
  {
   "cell_type": "markdown",
   "id": "c3db966f-8c29-4957-ad5b-b503fe667971",
   "metadata": {},
   "source": [
    "### `loop.run_until_complete`"
   ]
  },
  {
   "cell_type": "code",
   "execution_count": null,
   "id": "f76bb163-1d17-45f5-9d73-23e733d82356",
   "metadata": {},
   "outputs": [],
   "source": []
  },
  {
   "cell_type": "code",
   "execution_count": 2,
   "id": "23ba5305-0dbf-4035-9312-32b2c3ef2162",
   "metadata": {},
   "outputs": [],
   "source": [
    "async def simple_greeting(name, delay):\n",
    "    \"\"\"一个简单的协程，模拟耗时操作并返回结果\"\"\"\n",
    "    print(f\"问候任务 for {name}: 开始，将等待 {delay} 秒...\")\n",
    "    await asyncio.sleep(delay)\n",
    "    result = f\"你好, {name}! (等待了 {delay} 秒)\"\n",
    "    print(f\"问候任务 for {name}: 完成.\")\n",
    "    return result"
   ]
  },
  {
   "cell_type": "code",
   "execution_count": 3,
   "id": "3be591a2-64d4-4df0-aa07-d4afd6fce17a",
   "metadata": {},
   "outputs": [],
   "source": [
    "async def main_coroutine():\n",
    "    \"\"\"主协程，将安排其他协程的执行\"\"\"\n",
    "    print(\"主协程开始.\")\n",
    "\n",
    "    # 创建协程对象\n",
    "    coro1 = simple_greeting(\"Alice\", 2)\n",
    "    coro2 = simple_greeting(\"Bob\", 1)\n",
    "\n",
    "    # 使用 asyncio.gather 可以并发运行多个协程并等待它们全部完成\n",
    "    # gather 本身返回一个 Future\n",
    "    print(\"主协程: 即将使用 asyncio.gather 并发运行问候任务.\")\n",
    "    results = await asyncio.gather(coro1, coro2)\n",
    "\n",
    "    print(\"\\n主协程: 所有问候任务完成.\")\n",
    "    for res in results:\n",
    "        print(f\"  - 结果: {res}\")\n",
    "\n",
    "    print(\"主协程结束.\")\n",
    "    return \"主协程成功执行完毕！\""
   ]
  },
  {
   "cell_type": "markdown",
   "id": "af567d19-bc9b-4d7d-b327-6ef8636a365e",
   "metadata": {},
   "source": [
    "```python\n",
    "loop = asyncio.get_event_loop()\n",
    "final_result = loop.run_until_complete(main_coroutine())\n",
    "print(f\"\\nloop.run_until_complete 返回: '{final_result}'\")\n",
    "```"
   ]
  },
  {
   "cell_type": "code",
   "execution_count": null,
   "id": "7071b2c7-c6c6-44a7-8dd0-dde315d22237",
   "metadata": {},
   "outputs": [],
   "source": []
  }
 ],
 "metadata": {
  "kernelspec": {
   "display_name": "Python 3 (ipykernel)",
   "language": "python",
   "name": "python3"
  },
  "language_info": {
   "codemirror_mode": {
    "name": "ipython",
    "version": 3
   },
   "file_extension": ".py",
   "mimetype": "text/x-python",
   "name": "python",
   "nbconvert_exporter": "python",
   "pygments_lexer": "ipython3",
   "version": "3.10.0"
  }
 },
 "nbformat": 4,
 "nbformat_minor": 5
}
