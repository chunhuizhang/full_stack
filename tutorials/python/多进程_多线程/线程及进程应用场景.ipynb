{
 "cells": [
  {
   "cell_type": "markdown",
   "id": "55d173dc-cf0e-441f-b2dd-4560d620ad18",
   "metadata": {},
   "source": [
    "### 线程的应用场景"
   ]
  },
  {
   "cell_type": "markdown",
   "id": "16a10679-e23d-47b1-81d9-36cef916682c",
   "metadata": {},
   "source": [
    "```\n",
    "heartbeat_thread = threading.Thread(target=check_heartbeats, daemon=True)\n",
    "heartbeat_thread.start()\n",
    "```"
   ]
  }
 ],
 "metadata": {
  "kernelspec": {
   "display_name": "Python 3 (ipykernel)",
   "language": "python",
   "name": "python3"
  },
  "language_info": {
   "codemirror_mode": {
    "name": "ipython",
    "version": 3
   },
   "file_extension": ".py",
   "mimetype": "text/x-python",
   "name": "python",
   "nbconvert_exporter": "python",
   "pygments_lexer": "ipython3",
   "version": "3.10.13"
  }
 },
 "nbformat": 4,
 "nbformat_minor": 5
}
