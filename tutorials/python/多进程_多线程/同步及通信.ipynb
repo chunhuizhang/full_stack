{
 "cells": [
  {
   "cell_type": "code",
   "execution_count": 1,
   "id": "7dbf25ee-f941-4633-8e24-4789c0980abd",
   "metadata": {
    "execution": {
     "iopub.execute_input": "2024-10-07T13:52:01.843553Z",
     "iopub.status.busy": "2024-10-07T13:52:01.842935Z",
     "iopub.status.idle": "2024-10-07T13:52:01.861540Z",
     "shell.execute_reply": "2024-10-07T13:52:01.859758Z",
     "shell.execute_reply.started": "2024-10-07T13:52:01.843508Z"
    }
   },
   "outputs": [],
   "source": [
    "import threading\n",
    "import time\n",
    "lock = threading.Lock()"
   ]
  },
  {
   "cell_type": "markdown",
   "id": "a03a94e3-7b29-4f69-81dc-aafd497c9946",
   "metadata": {},
   "source": [
    "### lock 与线程同步"
   ]
  },
  {
   "cell_type": "markdown",
   "id": "b1e7c62e-572a-42d0-b649-f1373709779a",
   "metadata": {},
   "source": [
    "```\n",
    "lock.acquire()\n",
    "# 临界区（critical section）。\n",
    "# 读写一个共享资源\n",
    "lock.release()\n",
    "```"
   ]
  },
  {
   "cell_type": "code",
   "execution_count": 2,
   "id": "0acf3faa-bd62-4c43-9c7c-b0dc4b9e7b08",
   "metadata": {
    "execution": {
     "iopub.execute_input": "2024-10-07T13:52:03.672138Z",
     "iopub.status.busy": "2024-10-07T13:52:03.671564Z",
     "iopub.status.idle": "2024-10-07T13:52:03.683797Z",
     "shell.execute_reply": "2024-10-07T13:52:03.681864Z",
     "shell.execute_reply.started": "2024-10-07T13:52:03.672097Z"
    }
   },
   "outputs": [],
   "source": [
    "# 共享资源\n",
    "shared_counter = 0\n",
    "\n",
    "def increment_counter(n):\n",
    "    global shared_counter\n",
    "    for _ in range(n):\n",
    "        lock.acquire()\n",
    "        try:\n",
    "            # 获取当前线程信息\n",
    "            current_thread = threading.current_thread()\n",
    "            print(f\"Thread {current_thread.name} is incrementing the counter.\")\n",
    "            shared_counter += 1\n",
    "        finally:\n",
    "            lock.release()\n",
    "        # 模拟一些处理时间\n",
    "        time.sleep(0.1)"
   ]
  },
  {
   "cell_type": "code",
   "execution_count": 3,
   "id": "e2512e81-89e7-4a5b-bc7c-18eee80159ff",
   "metadata": {
    "execution": {
     "iopub.execute_input": "2024-10-07T13:52:18.711315Z",
     "iopub.status.busy": "2024-10-07T13:52:18.710974Z",
     "iopub.status.idle": "2024-10-07T13:52:19.223767Z",
     "shell.execute_reply": "2024-10-07T13:52:19.221578Z",
     "shell.execute_reply.started": "2024-10-07T13:52:18.711293Z"
    }
   },
   "outputs": [
    {
     "name": "stdout",
     "output_type": "stream",
     "text": [
      "Thread Thread-1 is incrementing the counter.\n",
      "Thread Thread-2 is incrementing the counter.\n",
      "Thread Thread-1 is incrementing the counter.\n",
      "Thread Thread-2 is incrementing the counter.\n",
      "Thread Thread-1 is incrementing the counter.\n",
      "Thread Thread-2 is incrementing the counter.\n",
      "Thread Thread-1 is incrementing the counter.\n",
      "Thread Thread-1 is incrementing the counter.\n"
     ]
    }
   ],
   "source": [
    "# 创建两个线程\n",
    "thread1 = threading.Thread(target=increment_counter, args=(5, ), name='Thread-1')\n",
    "thread2 = threading.Thread(target=increment_counter, args=(3, ), name='Thread-2')\n",
    "\n",
    "# 启动线程\n",
    "thread1.start()\n",
    "thread2.start()\n",
    "\n",
    "# 等待线程完成\n",
    "thread1.join()\n",
    "thread2.join()"
   ]
  },
  {
   "cell_type": "code",
   "execution_count": 4,
   "id": "c706a58d-0152-45c7-9e00-deed3e7c392f",
   "metadata": {
    "execution": {
     "iopub.execute_input": "2024-10-07T13:52:21.783467Z",
     "iopub.status.busy": "2024-10-07T13:52:21.782887Z",
     "iopub.status.idle": "2024-10-07T13:52:21.800526Z",
     "shell.execute_reply": "2024-10-07T13:52:21.798343Z",
     "shell.execute_reply.started": "2024-10-07T13:52:21.783425Z"
    }
   },
   "outputs": [
    {
     "data": {
      "text/plain": [
       "8"
      ]
     },
     "execution_count": 4,
     "metadata": {},
     "output_type": "execute_result"
    }
   ],
   "source": [
    "shared_counter"
   ]
  },
  {
   "cell_type": "markdown",
   "id": "31269197-68c5-4b3e-93ce-7cdd9785046f",
   "metadata": {},
   "source": [
    "### 线程间及进程间通信"
   ]
  },
  {
   "cell_type": "markdown",
   "id": "c7e964a5-f27a-44c4-8916-b025e0babe21",
   "metadata": {},
   "source": [
    "1. 多线程通信\n",
    "- 共享内存：线程**共享同一进程的内存空间**，可以直接访问全局变量或对象。\n",
    "- 同步机制：由于竞争条件，需要使用锁（Lock）、条件变量（Condition）等同步原语。\n",
    "\n",
    "2. 多进程通信：进程间通信（IPC）：**进程有独立的内存空间**，不能直接共享数据。\n",
    "   \n",
    "    通信方式：\n",
    "    \n",
    "    - 队列（Queue）：multiprocessing.Queue，用于在进程间传递数据。\n",
    "    - 管道（Pipe）：multiprocessing.Pipe，创建双向或单向通信管道。\n",
    "    - 共享内存：multiprocessing.Value和multiprocessing.Array，共享简单的数据类型和数组。\n",
    "    - Manager对象：multiprocessing.Manager，提供共享的字典、列表等复杂数据类型。"
   ]
  },
  {
   "cell_type": "markdown",
   "id": "77df5d8a-ad2d-46a8-a8c5-7bc8d2570f57",
   "metadata": {},
   "source": [
    "#### 多线程"
   ]
  },
  {
   "cell_type": "code",
   "execution_count": 5,
   "id": "0f36bc97-3198-4d1d-86ee-938ff4550a9f",
   "metadata": {
    "execution": {
     "iopub.execute_input": "2024-10-07T13:54:39.318123Z",
     "iopub.status.busy": "2024-10-07T13:54:39.317519Z",
     "iopub.status.idle": "2024-10-07T13:54:39.393141Z",
     "shell.execute_reply": "2024-10-07T13:54:39.391021Z",
     "shell.execute_reply.started": "2024-10-07T13:54:39.318079Z"
    }
   },
   "outputs": [
    {
     "name": "stdout",
     "output_type": "stream",
     "text": [
      "最终计数器值： 200000\n"
     ]
    }
   ],
   "source": [
    "import threading\n",
    "\n",
    "counter = 0\n",
    "lock = threading.Lock()\n",
    "\n",
    "def worker():\n",
    "    global counter\n",
    "    for _ in range(100000):\n",
    "        with lock:\n",
    "            counter += 1\n",
    "\n",
    "threads = []\n",
    "for _ in range(2):\n",
    "    t = threading.Thread(target=worker)\n",
    "    threads.append(t)\n",
    "    t.start()\n",
    "\n",
    "for t in threads:\n",
    "    t.join()\n",
    "\n",
    "print(\"最终计数器值：\", counter)"
   ]
  },
  {
   "cell_type": "markdown",
   "id": "50f8411b-46b0-4f4c-962b-c9104141d063",
   "metadata": {},
   "source": [
    "- 共享变量：counter在所有线程间共享。\n",
    "- 同步机制：使用Lock确保对counter的操作是原子性的，防止竞争条件。"
   ]
  },
  {
   "cell_type": "markdown",
   "id": "c75aebe2-06ae-44e9-b71a-a216c57b6092",
   "metadata": {},
   "source": [
    "#### 多进程"
   ]
  },
  {
   "cell_type": "code",
   "execution_count": 11,
   "id": "84177b2c-4cf9-4736-8564-d9b5d25f83d5",
   "metadata": {
    "execution": {
     "iopub.execute_input": "2024-10-07T13:58:57.895231Z",
     "iopub.status.busy": "2024-10-07T13:58:57.894551Z",
     "iopub.status.idle": "2024-10-07T13:58:58.443216Z",
     "shell.execute_reply": "2024-10-07T13:58:58.440895Z",
     "shell.execute_reply.started": "2024-10-07T13:58:57.895184Z"
    }
   },
   "outputs": [],
   "source": [
    "from multiprocessing import Process, Queue\n",
    "import time\n",
    "\n",
    "def worker(name, q):\n",
    "    for i in range(5):\n",
    "        message = f\"子进程 {name}: 计算 {i} 的平方是 {i * i}, {q.qsize()}\"\n",
    "        q.put(message)\n",
    "        time.sleep(0.1)  # 模拟耗时操作\n",
    "\n",
    "\n",
    "q = Queue()\n",
    "processes = []\n",
    "\n",
    "# 创建并启动多个子进程\n",
    "for i in range(3):\n",
    "    p = Process(target=worker, args=(i, q))\n",
    "    processes.append(p)\n",
    "    p.start()\n",
    "\n",
    "# 等待所有子进程完成\n",
    "for p in processes:\n",
    "    p.join()"
   ]
  },
  {
   "cell_type": "code",
   "execution_count": 12,
   "id": "c97db667-74b6-44f3-8b89-62b99d37ff87",
   "metadata": {
    "execution": {
     "iopub.execute_input": "2024-10-07T13:58:59.950105Z",
     "iopub.status.busy": "2024-10-07T13:58:59.949472Z",
     "iopub.status.idle": "2024-10-07T13:58:59.964598Z",
     "shell.execute_reply": "2024-10-07T13:58:59.962536Z",
     "shell.execute_reply.started": "2024-10-07T13:58:59.950058Z"
    }
   },
   "outputs": [
    {
     "name": "stdout",
     "output_type": "stream",
     "text": [
      "子进程 0: 计算 0 的平方是 0, 0\n",
      "子进程 1: 计算 0 的平方是 0, 1\n",
      "子进程 2: 计算 0 的平方是 0, 2\n",
      "子进程 0: 计算 1 的平方是 1, 3\n",
      "子进程 1: 计算 1 的平方是 1, 4\n",
      "子进程 2: 计算 1 的平方是 1, 5\n",
      "子进程 0: 计算 2 的平方是 4, 6\n",
      "子进程 1: 计算 2 的平方是 4, 7\n",
      "子进程 2: 计算 2 的平方是 4, 8\n",
      "子进程 0: 计算 3 的平方是 9, 9\n",
      "子进程 1: 计算 3 的平方是 9, 10\n",
      "子进程 2: 计算 3 的平方是 9, 11\n",
      "子进程 0: 计算 4 的平方是 16, 12\n",
      "子进程 1: 计算 4 的平方是 16, 13\n",
      "子进程 2: 计算 4 的平方是 16, 14\n"
     ]
    }
   ],
   "source": [
    "\n",
    "# 从队列中获取子进程的结果\n",
    "while not q.empty():\n",
    "    print(q.get())"
   ]
  },
  {
   "cell_type": "markdown",
   "id": "e83c5c09-45d1-4bff-8378-c72753c4e955",
   "metadata": {},
   "source": [
    "#### 管道与双向通信"
   ]
  },
  {
   "cell_type": "markdown",
   "id": "28d48ff4-54c8-4f1d-bb6c-4ae0c7c77933",
   "metadata": {},
   "source": [
    "- 使用 `Pipe()` 函数创建一个管道，管道两端的连接对象：\n",
    "    - Pipe() 函数返回一对连接对象，通常命名为 conn1 和 conn2，它们代表管道的两端。\n",
    "    - 这两个连接对象可以在不同的进程中使用，实现双向通信。\n",
    "- 通信方向：\n",
    "    - 当在一个连接对象上调用 send() 方法时，消息会被发送到另一端的连接对象上。\n",
    "    - 换句话说，conn1.send(msg) 发送的消息需要在 conn2.recv() 中接收，反之亦然。\n",
    "- p2p 基础通信源语\n",
    "    - send & recv"
   ]
  },
  {
   "cell_type": "code",
   "execution_count": 16,
   "id": "c652d8a5-4ba5-4343-a739-6132d5b862f7",
   "metadata": {
    "execution": {
     "iopub.execute_input": "2024-10-07T14:10:26.592669Z",
     "iopub.status.busy": "2024-10-07T14:10:26.592034Z",
     "iopub.status.idle": "2024-10-07T14:10:26.604512Z",
     "shell.execute_reply": "2024-10-07T14:10:26.602206Z",
     "shell.execute_reply.started": "2024-10-07T14:10:26.592625Z"
    }
   },
   "outputs": [],
   "source": [
    "from multiprocessing import Process, Pipe\n",
    "import time\n",
    "\n",
    "def worker(child_conn):\n",
    "    # 在子进程中，接收来自父进程的消息\n",
    "    msg_from_parent = child_conn.recv()\n",
    "    print(f\"[子进程] 收到来自父进程的消息：{msg_from_parent}\")\n",
    "\n",
    "    # 处理数据\n",
    "    response = msg_from_parent.upper()\n",
    "    time.sleep(1)  # 模拟耗时操作\n",
    "\n",
    "    # 在子进程中，发送消息给父进程\n",
    "    child_conn.send(f\"{response} - 来自子进程\")\n",
    "    child_conn.close()"
   ]
  },
  {
   "cell_type": "code",
   "execution_count": 18,
   "id": "ff3fbd05-9943-4edb-ac15-e41547be86da",
   "metadata": {
    "execution": {
     "iopub.execute_input": "2024-10-07T14:10:53.232513Z",
     "iopub.status.busy": "2024-10-07T14:10:53.231844Z",
     "iopub.status.idle": "2024-10-07T14:10:54.265676Z",
     "shell.execute_reply": "2024-10-07T14:10:54.263628Z",
     "shell.execute_reply.started": "2024-10-07T14:10:53.232467Z"
    }
   },
   "outputs": [
    {
     "name": "stdout",
     "output_type": "stream",
     "text": [
      "[子进程] 收到来自父进程的消息：hello from parent\n",
      "[父进程] 发送消息给子进程：hello from parent\n",
      "[父进程] 收到来自子进程的响应：HELLO FROM PARENT - 来自子进程\n"
     ]
    }
   ],
   "source": [
    "# 创建一个双向管道，获得父进程和子进程各自的连接对象\n",
    "parent_conn, child_conn = Pipe()\n",
    "\n",
    "# 创建并启动子进程，将子进程的连接对象传递给它\n",
    "p = Process(target=worker, args=(child_conn,))\n",
    "p.start()\n",
    "\n",
    "# 在父进程中，向子进程发送消息\n",
    "message = \"hello from parent\"\n",
    "print(f\"[父进程] 发送消息给子进程：{message}\")\n",
    "parent_conn.send(message)\n",
    "\n",
    "# 在父进程中，接收来自子进程的响应\n",
    "response_from_child = parent_conn.recv()\n",
    "print(f\"[父进程] 收到来自子进程的响应：{response_from_child}\")\n",
    "\n",
    "p.join()\n"
   ]
  },
  {
   "cell_type": "code",
   "execution_count": null,
   "id": "722d6f9a-fee4-49b1-bbd1-cdcd66ca99d5",
   "metadata": {},
   "outputs": [],
   "source": []
  }
 ],
 "metadata": {
  "kernelspec": {
   "display_name": "Python 3 (ipykernel)",
   "language": "python",
   "name": "python3"
  },
  "language_info": {
   "codemirror_mode": {
    "name": "ipython",
    "version": 3
   },
   "file_extension": ".py",
   "mimetype": "text/x-python",
   "name": "python",
   "nbconvert_exporter": "python",
   "pygments_lexer": "ipython3",
   "version": "3.10.13"
  }
 },
 "nbformat": 4,
 "nbformat_minor": 5
}
