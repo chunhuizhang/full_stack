{
 "cells": [
  {
   "cell_type": "markdown",
   "id": "09e9f823-56ad-43c0-8b81-0abceea76dce",
   "metadata": {},
   "source": [
    "- asyncio vs. ThreadPoolExecutor\n",
    "    - 执行单元:\n",
    "        - 协程 (Coroutine) vs. 线程 (Thread)\n",
    "    - asyncio (异步I/O)：就像一个厨艺精湛的单人厨师。他一个人在厨房里，同时处理很多道菜。当一道菜需要炖（I/O等待）时，他不会傻等，而是立刻切换到另一道菜去切菜（执行其他任务）。他总能找到事情做，让整个厨房（线程）的效率最大化。这种切换是主动的、协作式的。\n",
    "    - ThreadPoolExecutor (线程池)：就像一个厨房团队。你雇佣了多个厨师（线程）。每来一个任务（比如做一道菜），你就把它分配给一个空闲的厨师。厨师们可以同时做不同的菜。但如果厨师太多，他们之间可能会争抢厨具（GIL），管理他们也需要成本（线程切换开销）。"
   ]
  }
 ],
 "metadata": {
  "kernelspec": {
   "display_name": "Python 3 (ipykernel)",
   "language": "python",
   "name": "python3"
  },
  "language_info": {
   "codemirror_mode": {
    "name": "ipython",
    "version": 3
   },
   "file_extension": ".py",
   "mimetype": "text/x-python",
   "name": "python",
   "nbconvert_exporter": "python",
   "pygments_lexer": "ipython3",
   "version": "3.10.0"
  }
 },
 "nbformat": 4,
 "nbformat_minor": 5
}
