{
 "cells": [
  {
   "cell_type": "code",
   "execution_count": 2,
   "id": "f94899e6",
   "metadata": {
    "ExecuteTime": {
     "end_time": "2024-02-13T10:41:27.344458Z",
     "start_time": "2024-02-13T10:41:27.338134Z"
    }
   },
   "outputs": [],
   "source": [
    "# !lscpu"
   ]
  },
  {
   "cell_type": "code",
   "execution_count": 4,
   "id": "ce5647c5",
   "metadata": {
    "ExecuteTime": {
     "end_time": "2024-02-13T10:41:48.840697Z",
     "start_time": "2024-02-13T10:41:47.873943Z"
    }
   },
   "outputs": [
    {
     "data": {
      "text/plain": [
       "(100000000,)"
      ]
     },
     "execution_count": 4,
     "metadata": {},
     "output_type": "execute_result"
    }
   ],
   "source": [
    "import numpy as np\n",
    "# 100m\n",
    "n =100_000_000\n",
    "d = np.random.rand(n)\n",
    "d.shape"
   ]
  },
  {
   "cell_type": "code",
   "execution_count": 5,
   "id": "79c5629e",
   "metadata": {
    "ExecuteTime": {
     "end_time": "2024-02-13T10:42:46.236424Z",
     "start_time": "2024-02-13T10:42:35.833703Z"
    }
   },
   "outputs": [
    {
     "name": "stdout",
     "output_type": "stream",
     "text": [
      "0.5000199469689531 10.398144960403442\n"
     ]
    }
   ],
   "source": [
    "import time\n",
    "def mean():\n",
    "\n",
    "    #Sum using for loops. We can use inbuilt NumPy Sum opeartion for better speed.\n",
    "    sum = 0\n",
    "    n = d.size\n",
    "    for i in range(n):\n",
    "        sum +=d[i]\n",
    "\n",
    "    #Mean\n",
    "    mean = sum/n\n",
    "    return mean\n",
    "\n",
    "\n",
    "#Time the execution\n",
    "t0 = time.time()\n",
    "m = mean() # compute mean of 100MM numbers.\n",
    "\n",
    "print(m, time.time() - t0)"
   ]
  },
  {
   "cell_type": "code",
   "execution_count": 6,
   "id": "628babc8",
   "metadata": {
    "ExecuteTime": {
     "end_time": "2024-02-13T10:43:12.508373Z",
     "start_time": "2024-02-13T10:43:12.492938Z"
    }
   },
   "outputs": [],
   "source": [
    "#Refer: https://docs.python.org/3/library/multiprocessing.html\n",
    "from multiprocessing import Process, Queue\n",
    "import math\n",
    "\n",
    "def mean_MP(s, e, q ):\n",
    "\n",
    "    #Sum using for loops. We can use inbuilt NumPy Sum opeartion for better speed.\n",
    "    sum = 0\n",
    "    for i in range(s,e+1):\n",
    "        sum +=d[i]\n",
    "\n",
    "    #Mean\n",
    "    mean = sum/(e-s+1)\n",
    "    q.put(mean)\n",
    "    return \n",
    "\n",
    "n1 = math.floor(n/2)\n",
    "\n",
    "q = Queue() #Queues are thread and process safe. For communicating between processes and threads.\n",
    "\n",
    "p1 = Process(target=mean_MP, args=(0, n1, q)) \n",
    "p2 = Process(target=mean_MP, args=(n1+1, n-1, q)) "
   ]
  },
  {
   "cell_type": "markdown",
   "id": "0f6a9517",
   "metadata": {},
   "source": [
    "## mp"
   ]
  },
  {
   "cell_type": "code",
   "execution_count": 7,
   "id": "b7002497",
   "metadata": {
    "ExecuteTime": {
     "end_time": "2024-02-13T10:43:57.685409Z",
     "start_time": "2024-02-13T10:43:52.440549Z"
    }
   },
   "outputs": [
    {
     "name": "stdout",
     "output_type": "stream",
     "text": [
      "0.500019946968874 5.236644983291626\n"
     ]
    }
   ],
   "source": [
    "#Time the execution\n",
    "t0 = time.time()\n",
    "\n",
    "p1.start()\n",
    "p2.start()\n",
    "\n",
    "p1.join() # Wait till p1 finishes\n",
    "p2.join() \n",
    "\n",
    "m = 0\n",
    "while not q.empty():\n",
    "     m += q.get()\n",
    "\n",
    "m /= 2\n",
    "    \n",
    "print(m, time.time() - t0)"
   ]
  },
  {
   "cell_type": "markdown",
   "id": "00e81311",
   "metadata": {},
   "source": [
    "## mt"
   ]
  },
  {
   "cell_type": "code",
   "execution_count": 8,
   "id": "bca301c2",
   "metadata": {
    "ExecuteTime": {
     "end_time": "2024-02-13T10:45:06.466057Z",
     "start_time": "2024-02-13T10:45:06.456213Z"
    }
   },
   "outputs": [],
   "source": [
    "#Refer: https://docs.python.org/3/library/threading.html\n",
    "from threading import Thread\n",
    "\n",
    "\n",
    "means = [0,0];\n",
    "\n",
    "def mean_MT(s, e, threadNum ):\n",
    "\n",
    "    #Sum using for loops. We can use inbuilt NumPy Sum opeartion for better speed.\n",
    "    sum = 0\n",
    "    for i in range(s,e+1):\n",
    "        sum +=d[i]\n",
    "\n",
    "    #Mean\n",
    "    mean = sum/(e-s+1)\n",
    "    means[threadNum] = mean; # means is a shared varibale between the threads\n",
    "\n",
    "    return "
   ]
  },
  {
   "cell_type": "code",
   "execution_count": 9,
   "id": "13b0f067",
   "metadata": {
    "ExecuteTime": {
     "end_time": "2024-02-13T10:46:24.010836Z",
     "start_time": "2024-02-13T10:45:41.613653Z"
    }
   },
   "outputs": [
    {
     "name": "stdout",
     "output_type": "stream",
     "text": [
      "0.500019946968874 42.387678146362305\n"
     ]
    }
   ],
   "source": [
    "n1 = math.floor(n/2)\n",
    "\n",
    "t1 = Thread(target=mean_MT, args=(0, n1,0 ))  # Third apram is the thread number\n",
    "t2 = Thread(target=mean_MT, args=(n1+1,n-1,1)) \n",
    "\n",
    "#Time the execution\n",
    "t0 = time.time()\n",
    "\n",
    "t1.start()\n",
    "t2.start()\n",
    "\n",
    "t1.join() # Wait till t1 finishes\n",
    "t2.join() \n",
    "\n",
    "m = (means[0]+means[1])/2\n",
    "    \n",
    "print(m, time.time() - t0)"
   ]
  },
  {
   "cell_type": "code",
   "execution_count": null,
   "id": "4c23d906",
   "metadata": {},
   "outputs": [],
   "source": []
  }
 ],
 "metadata": {
  "kernelspec": {
   "display_name": "Python 3 (ipykernel)",
   "language": "python",
   "name": "python3"
  },
  "language_info": {
   "codemirror_mode": {
    "name": "ipython",
    "version": 3
   },
   "file_extension": ".py",
   "mimetype": "text/x-python",
   "name": "python",
   "nbconvert_exporter": "python",
   "pygments_lexer": "ipython3",
   "version": "3.10.13"
  },
  "toc": {
   "base_numbering": 1,
   "nav_menu": {},
   "number_sections": true,
   "sideBar": true,
   "skip_h1_title": false,
   "title_cell": "Table of Contents",
   "title_sidebar": "Contents",
   "toc_cell": false,
   "toc_position": {},
   "toc_section_display": true,
   "toc_window_display": false
  }
 },
 "nbformat": 4,
 "nbformat_minor": 5
}
