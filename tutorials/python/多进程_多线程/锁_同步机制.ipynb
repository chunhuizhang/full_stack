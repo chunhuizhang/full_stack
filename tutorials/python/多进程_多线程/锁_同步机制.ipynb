{
 "cells": [
  {
   "cell_type": "code",
   "execution_count": 13,
   "id": "7dbf25ee-f941-4633-8e24-4789c0980abd",
   "metadata": {},
   "outputs": [],
   "source": [
    "import threading\n",
    "import time\n",
    "lock = threading.Lock()"
   ]
  },
  {
   "cell_type": "markdown",
   "id": "b1e7c62e-572a-42d0-b649-f1373709779a",
   "metadata": {},
   "source": [
    "```\n",
    "lock.acquire()\n",
    "# 临界区（critical section）。\n",
    "# 读写一个共享资源\n",
    "lock.release()\n",
    "```"
   ]
  },
  {
   "cell_type": "code",
   "execution_count": 20,
   "id": "0acf3faa-bd62-4c43-9c7c-b0dc4b9e7b08",
   "metadata": {},
   "outputs": [],
   "source": [
    "# 共享资源\n",
    "shared_counter = 0\n",
    "\n",
    "def increment_counter():\n",
    "    global shared_counter\n",
    "    for _ in range(5):\n",
    "        lock.acquire()\n",
    "        try:\n",
    "            # 获取当前线程信息\n",
    "            current_thread = threading.current_thread()\n",
    "            print(f\"Thread {current_thread.name} is incrementing the counter.\")\n",
    "            shared_counter += 1\n",
    "        finally:\n",
    "            lock.release()\n",
    "        # 模拟一些处理时间\n",
    "        time.sleep(0.1)"
   ]
  },
  {
   "cell_type": "code",
   "execution_count": 21,
   "id": "e2512e81-89e7-4a5b-bc7c-18eee80159ff",
   "metadata": {},
   "outputs": [
    {
     "name": "stdout",
     "output_type": "stream",
     "text": [
      "Thread Thread-1 is incrementing the counter.\n",
      "Thread Thread-2 is incrementing the counter.\n",
      "Thread Thread-1 is incrementing the counter.\n",
      "Thread Thread-2 is incrementing the counter.\n",
      "Thread Thread-1 is incrementing the counter.\n",
      "Thread Thread-2 is incrementing the counter.\n",
      "Thread Thread-1 is incrementing the counter.\n",
      "Thread Thread-2 is incrementing the counter.\n",
      "Thread Thread-1 is incrementing the counter.\n",
      "Thread Thread-2 is incrementing the counter.\n"
     ]
    }
   ],
   "source": [
    "# 创建两个线程\n",
    "thread1 = threading.Thread(target=increment_counter, name='Thread-1')\n",
    "thread2 = threading.Thread(target=increment_counter, name='Thread-2')\n",
    "\n",
    "# 启动线程\n",
    "thread1.start()\n",
    "thread2.start()\n",
    "\n",
    "# 等待线程完成\n",
    "thread1.join()\n",
    "thread2.join()"
   ]
  },
  {
   "cell_type": "code",
   "execution_count": 22,
   "id": "c706a58d-0152-45c7-9e00-deed3e7c392f",
   "metadata": {},
   "outputs": [
    {
     "data": {
      "text/plain": [
       "10"
      ]
     },
     "execution_count": 22,
     "metadata": {},
     "output_type": "execute_result"
    }
   ],
   "source": [
    "shared_counter"
   ]
  }
 ],
 "metadata": {
  "kernelspec": {
   "display_name": "Python 3 (ipykernel)",
   "language": "python",
   "name": "python3"
  },
  "language_info": {
   "codemirror_mode": {
    "name": "ipython",
    "version": 3
   },
   "file_extension": ".py",
   "mimetype": "text/x-python",
   "name": "python",
   "nbconvert_exporter": "python",
   "pygments_lexer": "ipython3",
   "version": "3.10.13"
  }
 },
 "nbformat": 4,
 "nbformat_minor": 5
}
