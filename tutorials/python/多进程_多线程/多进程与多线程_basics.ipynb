{
 "cells": [
  {
   "cell_type": "code",
   "execution_count": 3,
   "id": "f1f2ccbd",
   "metadata": {
    "ExecuteTime": {
     "end_time": "2024-03-18T14:54:35.379595Z",
     "start_time": "2024-03-18T14:54:35.376959Z"
    }
   },
   "outputs": [],
   "source": [
    "import os\n",
    "from multiprocessing import Process"
   ]
  },
  {
   "cell_type": "markdown",
   "id": "cc9b4716",
   "metadata": {},
   "source": [
    "## basics"
   ]
  },
  {
   "cell_type": "markdown",
   "id": "4f211b2c-4463-48ce-89cb-80b8c9906830",
   "metadata": {},
   "source": [
    "### 并发与并行"
   ]
  },
  {
   "cell_type": "markdown",
   "id": "cc4b527a-7f84-4739-b173-1221ef79d76c",
   "metadata": {},
   "source": [
    "**并发（Concurrency）和并行（Parallelism）** 是计算领域的两个重要概念，虽然相关但有所区别。\n",
    "\n",
    "- 并发：指在**同一时间段**内处理多个任务，但这些任务未必同时执行。在单核CPU上，通过任务切换实现并发。\n",
    "- 并行：指在**同一时刻**真正地同时执行多个任务，需要多核CPU或多台计算机的支持。\n",
    "\n",
    "区别总结：\n",
    "\n",
    "- 并发强调任务的交替执行，关注的是结构设计，使系统能处理多项任务。\n",
    "- 并行强调任务的同时执行，关注的是提高执行效率，缩短任务的总执行时间。"
   ]
  },
  {
   "cell_type": "markdown",
   "id": "452fe302",
   "metadata": {},
   "source": [
    "### fork vs. spawn"
   ]
  },
  {
   "cell_type": "markdown",
   "id": "bb4bddc5",
   "metadata": {},
   "source": [
    "- 在操作系统层面，创建新进程主要有两种方式：`fork()` 和 `spawn()`。\n",
    "    - fork()：这是UNIX及其派生系统（如Linux）中常用的创建进程的方法。当调用fork()时，当前进程（父进程）被复制（包括代码、数据、堆栈等），产生一个新的进程（子进程）。子进程获得与父进程几乎完全相同的状态，但有自己的独立地址空间。fork()之后通常会跟随一个exec()调用，来运行不同的程序代码。\n",
    "    - spawn()：在这种方式下，创建一个新进程并直接指定程序及其参数来运行，而不是复制当前进程的状态。spawn()在Windows系统中是创建新进程的方式。"
   ]
  },
  {
   "cell_type": "markdown",
   "id": "b3c06948",
   "metadata": {},
   "source": [
    "- `fork`\n",
    "\n",
    "```\n",
    "def child_process():\n",
    "    print(\"这是子进程，其PID为：\", os.getpid())\n",
    "\n",
    "def parent_process():\n",
    "    print(\"这是父进程，其PID为：\", os.getpid())\n",
    "    child_pid = os.fork()\n",
    "    if child_pid == 0:\n",
    "        # 在子进程中\n",
    "        child_process()\n",
    "    else:\n",
    "        # 在父进程中\n",
    "        print(\"父进程中的子进程PID为：\", child_pid)\n",
    "\n",
    "if __name__ == '__main__':\n",
    "    parent_process()\n",
    "```\n",
    "\n",
    "```\n",
    "这是父进程，其PID为： 83031\n",
    "父进程中的子进程PID为： 83032\n",
    "这是子进程，其PID为： 83032\n",
    "```"
   ]
  },
  {
   "cell_type": "markdown",
   "id": "ed1cfec1",
   "metadata": {
    "ExecuteTime": {
     "end_time": "2024-03-18T14:54:38.015462Z",
     "start_time": "2024-03-18T14:54:37.818405Z"
    }
   },
   "source": [
    "- spawn\n",
    "\n",
    "```\n",
    "def child_process():\n",
    "    print(\"这是子进程，其PID为：\", os.getpid())\n",
    "\n",
    "\n",
    "if __name__ == \"__main__\":\n",
    "    print(\"这是父进程，其PID为：\", os.getpid())\n",
    "    p = Process(target=child_process)\n",
    "    p.start()  # 使用spawn方法启动子进程\n",
    "    p.join()   # 等待子进程结束\n",
    "\n",
    "```\n",
    "\n",
    "```\n",
    "这是父进程，其PID为： 83287\n",
    "这是子进程，其PID为： 83289\n",
    "```"
   ]
  },
  {
   "cell_type": "markdown",
   "id": "90106430",
   "metadata": {},
   "source": [
    "## 一个实例"
   ]
  },
  {
   "cell_type": "code",
   "execution_count": null,
   "id": "deaaa1e7",
   "metadata": {
    "ExecuteTime": {
     "end_time": "2023-06-07T13:25:24.940656Z",
     "start_time": "2023-06-07T13:25:24.926100Z"
    }
   },
   "outputs": [],
   "source": [
    "import threading\n",
    "import time"
   ]
  },
  {
   "cell_type": "code",
   "execution_count": null,
   "id": "6e365a2c",
   "metadata": {
    "ExecuteTime": {
     "end_time": "2023-06-07T13:19:43.081507Z",
     "start_time": "2023-06-07T13:19:43.077301Z"
    }
   },
   "outputs": [],
   "source": [
    "done = False"
   ]
  },
  {
   "cell_type": "code",
   "execution_count": null,
   "id": "040eddb7",
   "metadata": {
    "ExecuteTime": {
     "end_time": "2023-06-07T13:11:31.746536Z",
     "start_time": "2023-06-07T13:11:31.741423Z"
    }
   },
   "outputs": [],
   "source": [
    "def work():\n",
    "    counter = 0\n",
    "    while not done:\n",
    "        time.sleep(1)\n",
    "        counter += 1\n",
    "        print(counter)"
   ]
  },
  {
   "cell_type": "code",
   "execution_count": null,
   "id": "28fbb3a8",
   "metadata": {
    "ExecuteTime": {
     "end_time": "2023-06-07T13:11:37.371140Z",
     "start_time": "2023-06-07T13:11:32.862303Z"
    }
   },
   "outputs": [],
   "source": [
    "work()"
   ]
  },
  {
   "cell_type": "code",
   "execution_count": null,
   "id": "f585c607",
   "metadata": {
    "ExecuteTime": {
     "end_time": "2023-06-07T13:13:57.690265Z",
     "start_time": "2023-06-07T13:13:54.282609Z"
    }
   },
   "outputs": [],
   "source": [
    "threading.Thread(target=work, ).start()\n",
    "input('Press enter to quit')\n",
    "done = True"
   ]
  },
  {
   "cell_type": "markdown",
   "id": "a896e240",
   "metadata": {},
   "source": [
    "### 带参数，多个线程"
   ]
  },
  {
   "cell_type": "code",
   "execution_count": null,
   "id": "2a101403",
   "metadata": {
    "ExecuteTime": {
     "end_time": "2023-06-07T13:25:28.195179Z",
     "start_time": "2023-06-07T13:25:28.188328Z"
    }
   },
   "outputs": [],
   "source": [
    "def work(text):\n",
    "    counter = 0\n",
    "    while True:\n",
    "        time.sleep(1)\n",
    "        counter += 1\n",
    "        print(f'{text}: {counter}')"
   ]
  },
  {
   "cell_type": "code",
   "execution_count": null,
   "id": "b3b8c3bf",
   "metadata": {
    "ExecuteTime": {
     "end_time": "2023-06-07T13:19:46.200207Z",
     "start_time": "2023-06-07T13:19:46.192145Z"
    },
    "scrolled": true
   },
   "outputs": [],
   "source": [
    "threading.Thread(target=work, args=('ABC', )).start()\n",
    "threading.Thread(target=work, args=('XYZ', )).start()\n",
    "# threading.Thread(target=work, daemon=True, args=('ABC', )).start()\n",
    "# threading.Thread(target=work, daemon=True, args=('XYZ', )).start()"
   ]
  },
  {
   "cell_type": "markdown",
   "id": "23530a21",
   "metadata": {},
   "source": [
    "### `threading.active_count()`"
   ]
  },
  {
   "cell_type": "code",
   "execution_count": null,
   "id": "92de2b11",
   "metadata": {
    "ExecuteTime": {
     "end_time": "2023-06-07T13:26:14.209986Z",
     "start_time": "2023-06-07T13:26:14.200521Z"
    }
   },
   "outputs": [],
   "source": [
    "t = threading.Thread(target=work, args=('test', ))\n",
    "t.start()\n",
    "print('active_count: ', threading.active_count())"
   ]
  },
  {
   "cell_type": "markdown",
   "id": "31b5ec58",
   "metadata": {},
   "source": [
    "## `join`该同步时要同步"
   ]
  },
  {
   "cell_type": "code",
   "execution_count": 3,
   "id": "b9255e95",
   "metadata": {
    "ExecuteTime": {
     "end_time": "2023-06-07T13:38:47.383240Z",
     "start_time": "2023-06-07T13:38:39.227914Z"
    }
   },
   "outputs": [
    {
     "name": "stdout",
     "output_type": "stream",
     "text": [
      "t1:0\n",
      "t1:1\n",
      "t1:2\n",
      "t2:0\n",
      "t2:1\n",
      "t2:2\n",
      "t2:3\n",
      "t2:4\n",
      "['t1:0', 't1:1', 't1:2', 't2:0', 't2:1', 't2:2', 't2:3', 't2:4']\n"
     ]
    }
   ],
   "source": [
    "!python join.py"
   ]
  },
  {
   "cell_type": "markdown",
   "id": "a0bac00e",
   "metadata": {},
   "source": [
    "## `thread.run()` 与 `thread.start()`"
   ]
  }
 ],
 "metadata": {
  "kernelspec": {
   "display_name": "Python 3 (ipykernel)",
   "language": "python",
   "name": "python3"
  },
  "language_info": {
   "codemirror_mode": {
    "name": "ipython",
    "version": 3
   },
   "file_extension": ".py",
   "mimetype": "text/x-python",
   "name": "python",
   "nbconvert_exporter": "python",
   "pygments_lexer": "ipython3",
   "version": "3.10.13"
  },
  "toc": {
   "base_numbering": 1,
   "nav_menu": {},
   "number_sections": true,
   "sideBar": true,
   "skip_h1_title": false,
   "title_cell": "Table of Contents",
   "title_sidebar": "Contents",
   "toc_cell": false,
   "toc_position": {},
   "toc_section_display": true,
   "toc_window_display": false
  }
 },
 "nbformat": 4,
 "nbformat_minor": 5
}
