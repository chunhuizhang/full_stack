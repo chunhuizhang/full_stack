{
 "cells": [
  {
   "cell_type": "code",
   "execution_count": 1,
   "id": "b46a159f",
   "metadata": {
    "ExecuteTime": {
     "end_time": "2024-03-18T15:08:00.529835Z",
     "start_time": "2024-03-18T15:08:00.510658Z"
    }
   },
   "outputs": [],
   "source": [
    "from concurrent.futures import ProcessPoolExecutor"
   ]
  },
  {
   "cell_type": "markdown",
   "id": "cf9eab82",
   "metadata": {
    "ExecuteTime": {
     "end_time": "2024-03-18T15:08:17.158278Z",
     "start_time": "2024-03-18T15:08:16.756321Z"
    }
   },
   "source": [
    "```\n",
    "# 定义一个简单的函数，例如计算数值的平方\n",
    "def square(n):\n",
    "    return n * n\n",
    "\n",
    "def product(a, b):\n",
    "    return a * b\n",
    "\n",
    "# 创建一个可迭代的参数列表\n",
    "numbers = [1, 2, 3, 4, 5]\n",
    "num1_list = [1, 2, 3]\n",
    "num2_list = [4, 5, 6]\n",
    "\n",
    "if __name__ == '__main__':\n",
    "    # 使用 ProcessPoolExecutor\n",
    "    with ProcessPoolExecutor() as executor:\n",
    "        # 使用 map 函数并发执行\n",
    "        # results = executor.map(square, numbers)             # [1, 4, 9, 16, 25]\n",
    "        results = executor.map(product, num1_list, num2_list) #  [4, 10, 18]\n",
    "        # 输出结果\n",
    "        print(list(results))\n",
    "```"
   ]
  },
  {
   "cell_type": "code",
   "execution_count": null,
   "id": "188d514e",
   "metadata": {},
   "outputs": [],
   "source": []
  }
 ],
 "metadata": {
  "kernelspec": {
   "display_name": "Python 3 (ipykernel)",
   "language": "python",
   "name": "python3"
  },
  "language_info": {
   "codemirror_mode": {
    "name": "ipython",
    "version": 3
   },
   "file_extension": ".py",
   "mimetype": "text/x-python",
   "name": "python",
   "nbconvert_exporter": "python",
   "pygments_lexer": "ipython3",
   "version": "3.9.13"
  },
  "toc": {
   "base_numbering": 1,
   "nav_menu": {},
   "number_sections": true,
   "sideBar": true,
   "skip_h1_title": false,
   "title_cell": "Table of Contents",
   "title_sidebar": "Contents",
   "toc_cell": false,
   "toc_position": {},
   "toc_section_display": true,
   "toc_window_display": false
  }
 },
 "nbformat": 4,
 "nbformat_minor": 5
}
