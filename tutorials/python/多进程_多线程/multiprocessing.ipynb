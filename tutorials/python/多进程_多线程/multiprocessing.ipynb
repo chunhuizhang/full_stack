{
 "cells": [
  {
   "cell_type": "code",
   "execution_count": 1,
   "id": "9258fd83",
   "metadata": {
    "ExecuteTime": {
     "end_time": "2024-03-18T15:13:44.644704Z",
     "start_time": "2024-03-18T15:13:44.631787Z"
    }
   },
   "outputs": [],
   "source": [
    "import multiprocessing as mp"
   ]
  },
  {
   "cell_type": "markdown",
   "id": "1444c4f2",
   "metadata": {},
   "source": [
    "## `Process(target=child_process)`"
   ]
  },
  {
   "cell_type": "markdown",
   "id": "448e5ccc",
   "metadata": {},
   "source": [
    "- spawn 的方式创建子进程；"
   ]
  },
  {
   "cell_type": "markdown",
   "id": "eb616fc0",
   "metadata": {},
   "source": [
    "```\n",
    "def child_process():\n",
    "    print(\"这是子进程，其PID为：\", os.getpid())\n",
    "\n",
    "if __name__ == \"__main__\":\n",
    "    print(\"这是父进程，其PID为：\", os.getpid())\n",
    "    p = Process(target=child_process)\n",
    "    p.start()  # 使用spawn方法启动子进程\n",
    "    p.join()   # 等待子进程结束\n",
    "\n",
    "```\n",
    "\n",
    "```\n",
    "这是父进程，其PID为： 83287\n",
    "这是子进程，其PID为： 83289\n",
    "```"
   ]
  },
  {
   "cell_type": "markdown",
   "id": "f684d951",
   "metadata": {},
   "source": [
    "## `mp.Pool`"
   ]
  },
  {
   "cell_type": "markdown",
   "id": "131ae586",
   "metadata": {},
   "source": [
    "```\n",
    "pool = mp.Pool(processes=num_workers)\n",
    "pool.map(function, params)\n",
    "```"
   ]
  }
 ],
 "metadata": {
  "kernelspec": {
   "display_name": "Python 3 (ipykernel)",
   "language": "python",
   "name": "python3"
  },
  "language_info": {
   "codemirror_mode": {
    "name": "ipython",
    "version": 3
   },
   "file_extension": ".py",
   "mimetype": "text/x-python",
   "name": "python",
   "nbconvert_exporter": "python",
   "pygments_lexer": "ipython3",
   "version": "3.9.13"
  },
  "toc": {
   "base_numbering": 1,
   "nav_menu": {},
   "number_sections": true,
   "sideBar": true,
   "skip_h1_title": false,
   "title_cell": "Table of Contents",
   "title_sidebar": "Contents",
   "toc_cell": false,
   "toc_position": {},
   "toc_section_display": true,
   "toc_window_display": false
  }
 },
 "nbformat": 4,
 "nbformat_minor": 5
}
