{
 "cells": [
  {
   "cell_type": "code",
   "execution_count": 5,
   "id": "d8837e53",
   "metadata": {
    "ExecuteTime": {
     "end_time": "2024-03-18T15:03:28.056757Z",
     "start_time": "2024-03-18T15:03:28.047272Z"
    },
    "execution": {
     "iopub.execute_input": "2024-09-19T15:19:20.292976Z",
     "iopub.status.busy": "2024-09-19T15:19:20.292679Z",
     "iopub.status.idle": "2024-09-19T15:19:20.300105Z",
     "shell.execute_reply": "2024-09-19T15:19:20.298496Z",
     "shell.execute_reply.started": "2024-09-19T15:19:20.292956Z"
    }
   },
   "outputs": [],
   "source": [
    "import asyncio"
   ]
  },
  {
   "cell_type": "markdown",
   "id": "a9aea5a0-728d-42f6-90d9-a7d1263695fb",
   "metadata": {},
   "source": [
    "- 阻塞\n",
    "    - 阻塞还是非阻塞：cpu 机器码执行流是否被暂停\n",
    "    - 阻塞\n",
    "        - read()：文件io，sleep()，recv()：网络数据接收；\n",
    "- 核心概念\n",
    "    - event loop：事件循环\n",
    "    - 协程（coroutine）对象；"
   ]
  },
  {
   "cell_type": "markdown",
   "id": "9af44e99-e87b-47fd-82cc-be20975cef1c",
   "metadata": {},
   "source": [
    "### basics"
   ]
  },
  {
   "cell_type": "markdown",
   "id": "0f39c8c6-8db2-4e21-9217-5b0b20fcb9ff",
   "metadata": {},
   "source": [
    "- asyncio：顾名思义，异步io，处理异步的io（input/output）操作\n",
    "    - 涉及文件、网络、数据库等需要等待外部资源的情况下\n",
    "    - asyncio 的底层并不是通过多线程或多进程实现并发，而是通过 单线程的协程 来实现。它使用 事件循环（event loop） 来管理并发任务。协程是一种轻量级的并发方式，能够在单个线程中调度多个任务的执行。\n",
    "- 协程（coroutine）与 `async`\n",
    "    - asyncio 使用 Python 中的协程（coroutines），这些协程是通过 async def 定义的函数。当一个协程遇到一个 I/O 操作时（例如网络请求、文件操作等），它会让出控制权，允许事件循环去执行其他任务，而不阻塞主线程。这种机制类似于一种高效的任务切换，而不是创建新的线程或进程。\n",
    "    - 定义协程函数：使用 `async def` 来定义一个协程函数。\n",
    "        - 用于定义协程函数，协程是可以在执行过程中暂停的函数。\n",
    "    - 协程函数在调用时不会立即执行，返回一个协程对象，需要在事件循环（event loop）中运行。\n",
    "        - 事件循环会调度协程，并在协程让出控制权时执行其他的任务。事件循环使得我们可以在单线程中处理多个任务，避免了线程之间的上下文切换和进程间通信的开销。\n",
    "        - 它会告诉事件循环 \"我需要等待\"，事件循环便可以切换去运行其他不需要等待的协程。这种模型在高 I/O 密集场景（如处理大量网络请求）时特别高效。\n",
    "    - `asyncio.run()` 来运行主协程。\n",
    "        - 运行最高层级的入口点协程，并管理事件循环的生命周期。\n",
    "```\n",
    "# Python 3.7 之前的用法\n",
    "loop = asyncio.get_event_loop()\n",
    "loop.run_until_complete(main())\n",
    "loop.close()\n",
    "```\n",
    "- await 关键字\n",
    "    - 用于等待一个可等待对象（如协程、Future、Task）的结果。\n",
    "        - 用于等待一个可等待对象的结果，协程在此暂停，直到结果返回。\n",
    "    - 当协程遇到 await，它会暂停执行，等待结果返回后继续。"
   ]
  },
  {
   "cell_type": "code",
   "execution_count": 12,
   "id": "70689b24-de80-47a9-88e5-39d5d0de1c1d",
   "metadata": {
    "execution": {
     "iopub.execute_input": "2024-09-19T15:20:55.642876Z",
     "iopub.status.busy": "2024-09-19T15:20:55.642304Z",
     "iopub.status.idle": "2024-09-19T15:20:55.652005Z",
     "shell.execute_reply": "2024-09-19T15:20:55.650041Z",
     "shell.execute_reply.started": "2024-09-19T15:20:55.642834Z"
    }
   },
   "outputs": [],
   "source": [
    "async def fetch_data():\n",
    "    # 模拟耗时操作\n",
    "    await asyncio.sleep(1)\n",
    "    return \"数据已获取\""
   ]
  },
  {
   "cell_type": "code",
   "execution_count": 13,
   "id": "e6044fac-18aa-4e43-a7ec-d01e0a0a51a1",
   "metadata": {
    "execution": {
     "iopub.execute_input": "2024-09-19T15:20:58.231131Z",
     "iopub.status.busy": "2024-09-19T15:20:58.229775Z",
     "iopub.status.idle": "2024-09-19T15:20:58.237383Z",
     "shell.execute_reply": "2024-09-19T15:20:58.236065Z",
     "shell.execute_reply.started": "2024-09-19T15:20:58.231084Z"
    }
   },
   "outputs": [],
   "source": [
    "async def main():\n",
    "    result = await fetch_data()\n",
    "    print(result)"
   ]
  },
  {
   "cell_type": "code",
   "execution_count": 14,
   "id": "8cf502c1-f262-4ca5-bc17-653f512c88c0",
   "metadata": {
    "execution": {
     "iopub.execute_input": "2024-09-19T15:21:03.112258Z",
     "iopub.status.busy": "2024-09-19T15:21:03.111644Z",
     "iopub.status.idle": "2024-09-19T15:21:03.123094Z",
     "shell.execute_reply": "2024-09-19T15:21:03.120934Z",
     "shell.execute_reply.started": "2024-09-19T15:21:03.112213Z"
    }
   },
   "outputs": [
    {
     "data": {
      "text/plain": [
       "<coroutine object main at 0x788860f2e030>"
      ]
     },
     "execution_count": 14,
     "metadata": {},
     "output_type": "execute_result"
    }
   ],
   "source": [
    "# 返回协程对象\n",
    "main()"
   ]
  },
  {
   "cell_type": "code",
   "execution_count": 9,
   "id": "a857a0b4-e3f8-4b3b-8405-26885aa86814",
   "metadata": {
    "execution": {
     "iopub.execute_input": "2024-09-19T15:19:29.804536Z",
     "iopub.status.busy": "2024-09-19T15:19:29.802920Z",
     "iopub.status.idle": "2024-09-19T15:19:30.816866Z",
     "shell.execute_reply": "2024-09-19T15:19:30.815450Z",
     "shell.execute_reply.started": "2024-09-19T15:19:29.804489Z"
    }
   },
   "outputs": [
    {
     "name": "stdout",
     "output_type": "stream",
     "text": [
      "数据已获取\n"
     ]
    }
   ],
   "source": [
    "await main()"
   ]
  },
  {
   "cell_type": "code",
   "execution_count": 11,
   "id": "e8772c74-0d3a-4057-965d-9a9dd700442b",
   "metadata": {
    "execution": {
     "iopub.execute_input": "2024-09-19T15:20:07.452640Z",
     "iopub.status.busy": "2024-09-19T15:20:07.452244Z",
     "iopub.status.idle": "2024-09-19T15:20:08.465407Z",
     "shell.execute_reply": "2024-09-19T15:20:08.463378Z",
     "shell.execute_reply.started": "2024-09-19T15:20:07.452610Z"
    }
   },
   "outputs": [
    {
     "name": "stdout",
     "output_type": "stream",
     "text": [
      "Hello, World!\n"
     ]
    }
   ],
   "source": [
    "import asyncio\n",
    "\n",
    "async def say_hello():\n",
    "    await asyncio.sleep(1)\n",
    "    print(\"Hello, World!\")\n",
    "\n",
    "async def main():\n",
    "    await say_hello()\n",
    "\n",
    "# 运行事件循环\n",
    "# asyncio.run(main())\n",
    "await main()"
   ]
  },
  {
   "cell_type": "markdown",
   "id": "76e4b441-c4cb-44d6-8dcf-d04830075cca",
   "metadata": {},
   "source": [
    "### 并发执行多个异步任务"
   ]
  },
  {
   "cell_type": "code",
   "execution_count": 15,
   "id": "74beaefb-c39b-4641-9c03-de57852e88c8",
   "metadata": {
    "execution": {
     "iopub.execute_input": "2024-09-19T15:22:10.774058Z",
     "iopub.status.busy": "2024-09-19T15:22:10.773397Z",
     "iopub.status.idle": "2024-09-19T15:22:13.788667Z",
     "shell.execute_reply": "2024-09-19T15:22:13.787264Z",
     "shell.execute_reply.started": "2024-09-19T15:22:10.774009Z"
    }
   },
   "outputs": [
    {
     "name": "stdout",
     "output_type": "stream",
     "text": [
      "Task B completed\n",
      "Task A completed\n",
      "Task C completed\n"
     ]
    }
   ],
   "source": [
    "async def task(name, delay):\n",
    "    await asyncio.sleep(delay)\n",
    "    print(f\"Task {name} completed\")\n",
    "\n",
    "async def main():\n",
    "    tasks = [\n",
    "        asyncio.create_task(task(\"A\", 2)),\n",
    "        asyncio.create_task(task(\"B\", 1)),\n",
    "        asyncio.create_task(task(\"C\", 3))\n",
    "    ]\n",
    "    await asyncio.gather(*tasks)\n",
    "\n",
    "await main()"
   ]
  },
  {
   "cell_type": "markdown",
   "id": "8ab445f5",
   "metadata": {},
   "source": [
    "### `async` 与 `await`"
   ]
  },
  {
   "cell_type": "markdown",
   "id": "8700ef85",
   "metadata": {},
   "source": [
    "```\n",
    "# 定义一个异步函数\n",
    "async def simulate_io_task(delay):\n",
    "    print(f\"任务开始，等待 {delay} 秒...\")\n",
    "    # asyncio.sleep 是异步版本的 time.sleep，但不会阻塞事件循环\n",
    "    await asyncio.sleep(delay)\n",
    "    print(\"任务完成\")\n",
    "    return f\"结果：等待了 {delay} 秒\"\n",
    "\n",
    "# 定义另一个异步函数来调用 simulate_io_task\n",
    "async def main():\n",
    "    # 等待 simulate_io_task 完成\n",
    "    result = await simulate_io_task(2)\n",
    "    print(result)\n",
    "\n",
    "    # 同时运行多个异步任务，这三个任务总共花了3s；\n",
    "    task1 = simulate_io_task(1)\n",
    "    task2 = simulate_io_task(3)\n",
    "    task3 = simulate_io_task(2)\n",
    "    results = await asyncio.gather(task1, task2, task3)\n",
    "    for result in results:\n",
    "        print(result)\n",
    "\n",
    "# 运行主函数\n",
    "if __name__ == \"__main__\":\n",
    "    # 使用 asyncio.run 来运行 main 协程\n",
    "    asyncio.run(main())\n",
    "```"
   ]
  },
  {
   "cell_type": "markdown",
   "id": "24833d63",
   "metadata": {},
   "source": [
    "```\n",
    "任务开始，等待 2 秒...\n",
    "任务完成\n",
    "结果：等待了 2 秒\n",
    "\n",
    "\n",
    "任务开始，等待 1 秒...\n",
    "任务开始，等待 3 秒...\n",
    "任务开始，等待 2 秒...\n",
    "任务完成\n",
    "任务完成\n",
    "任务完成\n",
    "结果：等待了 1 秒\n",
    "结果：等待了 3 秒\n",
    "结果：等待了 2 秒\n",
    "\n",
    "```"
   ]
  }
 ],
 "metadata": {
  "kernelspec": {
   "display_name": "Python 3 (ipykernel)",
   "language": "python",
   "name": "python3"
  },
  "language_info": {
   "codemirror_mode": {
    "name": "ipython",
    "version": 3
   },
   "file_extension": ".py",
   "mimetype": "text/x-python",
   "name": "python",
   "nbconvert_exporter": "python",
   "pygments_lexer": "ipython3",
   "version": "3.10.0"
  },
  "toc": {
   "base_numbering": 1,
   "nav_menu": {},
   "number_sections": true,
   "sideBar": true,
   "skip_h1_title": false,
   "title_cell": "Table of Contents",
   "title_sidebar": "Contents",
   "toc_cell": false,
   "toc_position": {},
   "toc_section_display": true,
   "toc_window_display": false
  }
 },
 "nbformat": 4,
 "nbformat_minor": 5
}
