{
 "cells": [
  {
   "cell_type": "code",
   "execution_count": 1,
   "id": "4ebe5bd0-7200-4572-8004-b9d51963455d",
   "metadata": {
    "execution": {
     "iopub.execute_input": "2024-09-13T23:18:50.069935Z",
     "iopub.status.busy": "2024-09-13T23:18:50.069594Z",
     "iopub.status.idle": "2024-09-13T23:18:50.086163Z",
     "shell.execute_reply": "2024-09-13T23:18:50.084808Z",
     "shell.execute_reply.started": "2024-09-13T23:18:50.069911Z"
    }
   },
   "outputs": [],
   "source": [
    "import threading\n",
    "import time\n",
    "import os\n",
    "import multiprocessing\n",
    "from concurrent.futures import ThreadPoolExecutor, ProcessPoolExecutor"
   ]
  },
  {
   "cell_type": "markdown",
   "id": "264b526a-10b0-45d7-a3dc-865ce1cfd29a",
   "metadata": {},
   "source": [
    "### basics"
   ]
  },
  {
   "cell_type": "markdown",
   "id": "973ed695",
   "metadata": {},
   "source": [
    "- GIL：Global Interpreter Lock\n",
    "    - 锁什么，锁的是 python 的全局解释器；\n",
    "        - 确保同一时刻只有一个线程执行 Python 字节码。\n",
    "    - GIL 的存在导致：伪多线程。**GIL contention across threads**\n",
    "        - 多个线程无法同时执行 Python 字节码，导致多线程在 CPU 密集型任务中无法提高性能。\n",
    "            - 名义上可以继续写 multi thread 的代码，但实际上并不会得到预期的效率提升；\n",
    "        - 在执行 I/O 操作（如文件读写、网络请求）时，线程会释放 GIL，允许其他线程运行。\n",
    "- `concurrent.futures`：多线程/多进程管理及更方便地取出线程及进程的返回值\n",
    "    - 当你使用 `with ThreadPoolExecutor(...) as executor:` 时，with 块会在退出时自动调用 `executor.shutdown(wait=True)`。shutdown 方法会等待所有正在执行的任务完成。\n",
    "- `threading` => `concurrent.futures.ThreadPoolExecutor`\n",
    "- `multiprocessing` => `concurrent.futures.ProcessPoolExecutor`"
   ]
  },
  {
   "cell_type": "markdown",
   "id": "0168c026-d3e2-4716-876a-181d9f1fda88",
   "metadata": {},
   "source": [
    "### DP vs. DDP (torch)"
   ]
  },
  {
   "cell_type": "markdown",
   "id": "3bb6c2f6-67b8-4e49-95dd-03c893317e8d",
   "metadata": {},
   "source": [
    "- https://pytorch.org/tutorials/beginner/ddp_series_theory.html\n",
    "\n",
    "\n",
    "| DataParallel                                    | DistributedDataParallel                   |\n",
    "|-------------------------------------------------|-------------------------------------------|\n",
    "| More overhead; model is replicated and destroyed at each forward pass | Model is replicated only once             |\n",
    "| Only supports single-node parallelism           | Supports scaling to multiple machines     |\n",
    "| Slower; uses multithreading on a single process and runs into Global Interpreter Lock (GIL) contention | Faster (no GIL contention) because it uses multiprocessing |\n"
   ]
  },
  {
   "cell_type": "code",
   "execution_count": null,
   "id": "24d9833a-cbfd-4239-bf70-6324a9e4d50c",
   "metadata": {},
   "outputs": [],
   "source": []
  }
 ],
 "metadata": {
  "kernelspec": {
   "display_name": "Python 3 (ipykernel)",
   "language": "python",
   "name": "python3"
  },
  "language_info": {
   "codemirror_mode": {
    "name": "ipython",
    "version": 3
   },
   "file_extension": ".py",
   "mimetype": "text/x-python",
   "name": "python",
   "nbconvert_exporter": "python",
   "pygments_lexer": "ipython3",
   "version": "3.10.13"
  },
  "toc": {
   "base_numbering": 1,
   "nav_menu": {},
   "number_sections": true,
   "sideBar": true,
   "skip_h1_title": false,
   "title_cell": "Table of Contents",
   "title_sidebar": "Contents",
   "toc_cell": false,
   "toc_position": {},
   "toc_section_display": true,
   "toc_window_display": false
  }
 },
 "nbformat": 4,
 "nbformat_minor": 5
}
