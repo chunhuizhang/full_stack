{
 "cells": [
  {
   "cell_type": "code",
   "execution_count": 17,
   "id": "4ebe5bd0-7200-4572-8004-b9d51963455d",
   "metadata": {
    "execution": {
     "iopub.execute_input": "2024-09-16T07:36:53.426496Z",
     "iopub.status.busy": "2024-09-16T07:36:53.425960Z",
     "iopub.status.idle": "2024-09-16T07:36:53.435529Z",
     "shell.execute_reply": "2024-09-16T07:36:53.433802Z",
     "shell.execute_reply.started": "2024-09-16T07:36:53.426452Z"
    }
   },
   "outputs": [],
   "source": [
    "import time\n",
    "import os\n",
    "import threading\n",
    "import multiprocessing\n",
    "from concurrent.futures import ThreadPoolExecutor, ProcessPoolExecutor"
   ]
  },
  {
   "cell_type": "markdown",
   "id": "264b526a-10b0-45d7-a3dc-865ce1cfd29a",
   "metadata": {},
   "source": [
    "### basics"
   ]
  },
  {
   "cell_type": "markdown",
   "id": "973ed695",
   "metadata": {},
   "source": [
    "- GIL：Global Interpreter Lock\n",
    "    - 确保同一时刻只有一个线程执行 Python 字节码。\n",
    "        - only one thread can execute **Python Bytecode** at a time\n",
    "    - GIL 的存在导致：伪多线程。**GIL contention across threads**\n",
    "        - 多个线程无法同时执行 Python 字节码，导致多线程在 CPU 密集型任务中无法提高性能。\n",
    "            - 名义上可以继续写 multi thread 的代码，但实际上并不会得到预期的效率提升；\n",
    "        - 在执行 I/O 操作（如文件读写、网络请求）时，线程会释放 GIL，允许其他线程运行。\n",
    "- 多线程 vs. 多进程\n",
    "    - 多线程\n",
    "        - 线程间通信成本低，数据共享方便。\n",
    "        - 适用于 I/O 密集型任务，如网络请求、文件读写。\n",
    "    - 多进程\n",
    "        - 能够充分利用多核 CPU，实现真正的并行计算。\n",
    "        - 适用于 CPU 密集型任务，如复杂计算、数据处理。\n",
    "    - 涉及到拿到函数（线程化/进程化）执行后的返回值时；\n",
    "        - 线程共享同一进程的内存空间\n",
    "            - 在同一进程内运行多个线程，线程之间共享内存空间和全局变量。\n",
    "        - 在多进程中，每个进程都有自己独立的内存空间。\n",
    "- `concurrent.futures`：多线程/多进程管理及更方便地取出线程及进程的返回值\n",
    "    - 当你使用 `with ThreadPoolExecutor(...) as executor:` 时，with 块会在退出时自动调用 `executor.shutdown(wait=True)`。shutdown 方法会等待所有正在执行的任务完成。\n",
    "- `threading` => `concurrent.futures.ThreadPoolExecutor`\n",
    "- `multiprocessing` => `concurrent.futures.ProcessPoolExecutor`"
   ]
  },
  {
   "cell_type": "markdown",
   "id": "0168c026-d3e2-4716-876a-181d9f1fda88",
   "metadata": {},
   "source": [
    "### DP vs. DDP (torch)"
   ]
  },
  {
   "cell_type": "markdown",
   "id": "3bb6c2f6-67b8-4e49-95dd-03c893317e8d",
   "metadata": {},
   "source": [
    "- https://pytorch.org/tutorials/beginner/ddp_series_theory.html\n",
    "\n",
    "\n",
    "| DataParallel                                    | DistributedDataParallel                   |\n",
    "|-------------------------------------------------|-------------------------------------------|\n",
    "| More overhead; model is replicated and destroyed at each forward pass | Model is replicated only once             |\n",
    "| Only supports single-node parallelism           | Supports scaling to multiple machines     |\n",
    "| Slower; uses multithreading on a single process and runs into Global Interpreter Lock (GIL) contention | Faster (no GIL contention) because it uses multiprocessing |\n"
   ]
  },
  {
   "cell_type": "markdown",
   "id": "09ba7329-67fe-4bd1-9909-37ee61f979da",
   "metadata": {},
   "source": [
    "### io vs. cpu"
   ]
  },
  {
   "cell_type": "markdown",
   "id": "d0a00f89-b068-4cf7-9a82-cf8f767c4b9b",
   "metadata": {},
   "source": [
    "\n",
    "- I/O 密集型任务主要受限于 I/O 操作的速度，任务的执行时间主要取决于外部设备（如磁盘、网络）的响应速度。\n",
    "    - 需要频繁的磁盘读写、网络请求或其他外部设备交互。\n",
    "    - CPU 大部分时间处于等待状态，等待 I/O 操作完成。\n",
    "    - 性能瓶颈在于 I/O 设备的速度而非 CPU。\n",
    "- CPU-bound tasks\n",
    "    - CPU 密集型任务主要消耗 CPU 的计算资源，任务的执行时间主要取决于 CPU 的运算速度。\n",
    "    - 需要大量的数学计算或数据处理。\n",
    "    - 任务过程中很少或没有 I/O 操作（如磁盘读写、网络通信）。\n",
    "    - 性能瓶颈在于 CPU 的处理能力。"
   ]
  },
  {
   "cell_type": "code",
   "execution_count": 35,
   "id": "faea6acb-53a1-4fdb-9343-4c35db577d98",
   "metadata": {
    "execution": {
     "iopub.execute_input": "2024-09-16T07:50:14.198500Z",
     "iopub.status.busy": "2024-09-16T07:50:14.198147Z",
     "iopub.status.idle": "2024-09-16T07:50:14.207089Z",
     "shell.execute_reply": "2024-09-16T07:50:14.204889Z",
     "shell.execute_reply.started": "2024-09-16T07:50:14.198476Z"
    }
   },
   "outputs": [],
   "source": [
    "import requests\n",
    "\n",
    "def fetch_url(url):\n",
    "    response = requests.get(url)\n",
    "    print(f\"访问 {url}，状态码：{response.status_code}\")"
   ]
  },
  {
   "cell_type": "code",
   "execution_count": 40,
   "id": "56828aef-431e-47e3-866e-c9d5ba83be9f",
   "metadata": {
    "execution": {
     "iopub.execute_input": "2024-09-16T07:52:03.327417Z",
     "iopub.status.busy": "2024-09-16T07:52:03.326779Z",
     "iopub.status.idle": "2024-09-16T07:52:03.336023Z",
     "shell.execute_reply": "2024-09-16T07:52:03.333887Z",
     "shell.execute_reply.started": "2024-09-16T07:52:03.327368Z"
    }
   },
   "outputs": [],
   "source": [
    "urls = [\n",
    "    'https://www.example.com',\n",
    "    'https://www.python.org',\n",
    "    'https://www.github.com',\n",
    "    # 可以添加更多的 URL\n",
    "]"
   ]
  },
  {
   "cell_type": "code",
   "execution_count": 42,
   "id": "762d7e36-c76a-4b14-9a00-3934a4131d20",
   "metadata": {
    "execution": {
     "iopub.execute_input": "2024-09-16T07:52:15.865780Z",
     "iopub.status.busy": "2024-09-16T07:52:15.865147Z",
     "iopub.status.idle": "2024-09-16T07:52:18.114439Z",
     "shell.execute_reply": "2024-09-16T07:52:18.112398Z",
     "shell.execute_reply.started": "2024-09-16T07:52:15.865732Z"
    }
   },
   "outputs": [
    {
     "name": "stdout",
     "output_type": "stream",
     "text": [
      "访问 https://www.example.com，状态码：200\n",
      "访问 https://www.python.org，状态码：200\n",
      "访问 https://www.github.com，状态码：200\n",
      "总耗时：2.24 秒\n"
     ]
    }
   ],
   "source": [
    "t0 = time.time()\n",
    "for url in urls:\n",
    "    status = fetch_url(url)\n",
    "print(f\"总耗时：{time.time() - t0:.2f} 秒\")"
   ]
  },
  {
   "cell_type": "code",
   "execution_count": 45,
   "id": "8ceb4ac2-295b-4a15-b1fc-3aa18ea54416",
   "metadata": {
    "execution": {
     "iopub.execute_input": "2024-09-16T07:53:48.665246Z",
     "iopub.status.busy": "2024-09-16T07:53:48.664623Z",
     "iopub.status.idle": "2024-09-16T07:53:49.569580Z",
     "shell.execute_reply": "2024-09-16T07:53:49.568182Z",
     "shell.execute_reply.started": "2024-09-16T07:53:48.665198Z"
    }
   },
   "outputs": [
    {
     "name": "stdout",
     "output_type": "stream",
     "text": [
      "访问 https://www.python.org，状态码：200\n",
      "访问 https://www.github.com，状态码：200\n",
      "访问 https://www.example.com，状态码：200\n",
      "总耗时：0.90 秒\n"
     ]
    }
   ],
   "source": [
    "t0 = time.time()\n",
    "threads = []\n",
    "for url in urls:\n",
    "    t = threading.Thread(target=fetch_url, args=(url,))\n",
    "    threads.append(t)\n",
    "    t.start()\n",
    "for t in threads:\n",
    "    t.join()\n",
    "print(f\"总耗时：{time.time() - t0:.2f} 秒\")"
   ]
  },
  {
   "cell_type": "code",
   "execution_count": 44,
   "id": "1392fa1b-fa14-4ef4-bea0-9017d29c46f4",
   "metadata": {
    "execution": {
     "iopub.execute_input": "2024-09-16T07:53:16.925521Z",
     "iopub.status.busy": "2024-09-16T07:53:16.924542Z",
     "iopub.status.idle": "2024-09-16T07:53:16.935110Z",
     "shell.execute_reply": "2024-09-16T07:53:16.933737Z",
     "shell.execute_reply.started": "2024-09-16T07:53:16.925471Z"
    }
   },
   "outputs": [],
   "source": [
    "def is_prime(n):\n",
    "    if n <= 1:\n",
    "        return False\n",
    "    for i in range(2, int(n ** 0.5) + 1):\n",
    "        if n % i == 0:\n",
    "            return False\n",
    "    return True\n",
    "\n",
    "def count_primes(limit):\n",
    "    count = 0\n",
    "    for num in range(2, limit):\n",
    "        if is_prime(num):\n",
    "            count += 1\n",
    "    return count"
   ]
  },
  {
   "cell_type": "code",
   "execution_count": 48,
   "id": "36201e64-ed96-49e3-b496-b0c406a885e8",
   "metadata": {
    "execution": {
     "iopub.execute_input": "2024-09-16T07:54:32.728661Z",
     "iopub.status.busy": "2024-09-16T07:54:32.728446Z",
     "iopub.status.idle": "2024-09-16T07:55:41.568055Z",
     "shell.execute_reply": "2024-09-16T07:55:41.567230Z",
     "shell.execute_reply.started": "2024-09-16T07:54:32.728647Z"
    }
   },
   "outputs": [
    {
     "name": "stdout",
     "output_type": "stream",
     "text": [
      "找到素数数量：664579, 耗时：68.84 秒\n"
     ]
    }
   ],
   "source": [
    "t0 = time.time()\n",
    "prime_count = count_primes(10000000)\n",
    "print(f\"找到素数数量：{prime_count}, 耗时：{time.time() - t0:.2f} 秒\")"
   ]
  },
  {
   "cell_type": "code",
   "execution_count": 49,
   "id": "dec0abfe-c42c-4422-bcfc-1cbb4b388487",
   "metadata": {
    "execution": {
     "iopub.execute_input": "2024-09-16T07:55:41.569146Z",
     "iopub.status.busy": "2024-09-16T07:55:41.569001Z",
     "iopub.status.idle": "2024-09-16T07:55:41.573912Z",
     "shell.execute_reply": "2024-09-16T07:55:41.573153Z",
     "shell.execute_reply.started": "2024-09-16T07:55:41.569134Z"
    }
   },
   "outputs": [],
   "source": [
    "def count_primes_in_range(start, end):\n",
    "    count = 0\n",
    "    for num in range(start, end):\n",
    "        if is_prime(num):\n",
    "            count += 1\n",
    "    return count\n",
    "\n",
    "def count_primes_parallel(limit):\n",
    "    pool = multiprocessing.Pool()\n",
    "    num_processes = multiprocessing.cpu_count()\n",
    "    ranges = []\n",
    "    step = limit // num_processes\n",
    "    for i in range(num_processes):\n",
    "        start = i * step\n",
    "        end = limit if i == num_processes - 1 else (i + 1) * step\n",
    "        ranges.append((start, end))\n",
    "    results = pool.starmap(count_primes_in_range, ranges)\n",
    "    return sum(results)"
   ]
  },
  {
   "cell_type": "code",
   "execution_count": 52,
   "id": "dca11b03-9ac8-49d5-96c1-0815a4f3b805",
   "metadata": {
    "execution": {
     "iopub.execute_input": "2024-09-16T07:56:55.094988Z",
     "iopub.status.busy": "2024-09-16T07:56:55.094357Z",
     "iopub.status.idle": "2024-09-16T07:56:59.066624Z",
     "shell.execute_reply": "2024-09-16T07:56:59.066121Z",
     "shell.execute_reply.started": "2024-09-16T07:56:55.094941Z"
    }
   },
   "outputs": [
    {
     "name": "stdout",
     "output_type": "stream",
     "text": [
      "找到素数数量：664579, 耗时：3.97 秒\n"
     ]
    }
   ],
   "source": [
    "limit = 10000000\n",
    "t0 = time.time()\n",
    "prime_count = count_primes_parallel(limit)\n",
    "print(f\"找到素数数量：{prime_count}, 耗时：{time.time() - t0:.2f} 秒\")"
   ]
  },
  {
   "cell_type": "markdown",
   "id": "1edd6219-75dc-4c17-9ec3-09c70b7b7073",
   "metadata": {},
   "source": [
    "### threading"
   ]
  },
  {
   "cell_type": "code",
   "execution_count": 6,
   "id": "7016bbd9-9bb6-4985-8ba1-fed44bfeb210",
   "metadata": {
    "execution": {
     "iopub.execute_input": "2024-09-16T07:32:59.010556Z",
     "iopub.status.busy": "2024-09-16T07:32:59.009262Z",
     "iopub.status.idle": "2024-09-16T07:32:59.018425Z",
     "shell.execute_reply": "2024-09-16T07:32:59.017118Z",
     "shell.execute_reply.started": "2024-09-16T07:32:59.010510Z"
    }
   },
   "outputs": [],
   "source": [
    "# cpu \n",
    "def count(n):\n",
    "    process_id = os.getpid()\n",
    "    thread_id = threading.get_ident()\n",
    "    res = 0\n",
    "    print(f\"Process: {process_id} Thread: {thread_id} start\")\n",
    "    while n > 0:\n",
    "        res += n\n",
    "        n -= 1\n",
    "    print(f\"Process: {process_id} Thread: {thread_id} end\")\n",
    "    return res"
   ]
  },
  {
   "cell_type": "code",
   "execution_count": 5,
   "id": "09c2a5d4-bb8c-4f62-a6dd-cd0faebe028d",
   "metadata": {
    "execution": {
     "iopub.execute_input": "2024-09-16T07:32:43.714017Z",
     "iopub.status.busy": "2024-09-16T07:32:43.713358Z",
     "iopub.status.idle": "2024-09-16T07:32:43.723118Z",
     "shell.execute_reply": "2024-09-16T07:32:43.720970Z",
     "shell.execute_reply.started": "2024-09-16T07:32:43.713968Z"
    }
   },
   "outputs": [],
   "source": [
    "NUM1 = 100000000\n",
    "NUM2 = 100000000"
   ]
  },
  {
   "cell_type": "code",
   "execution_count": 9,
   "id": "111b623b-d785-4539-b836-384ca36ae0dc",
   "metadata": {
    "execution": {
     "iopub.execute_input": "2024-09-16T07:33:09.169049Z",
     "iopub.status.busy": "2024-09-16T07:33:09.168683Z",
     "iopub.status.idle": "2024-09-16T07:33:09.175393Z",
     "shell.execute_reply": "2024-09-16T07:33:09.174132Z",
     "shell.execute_reply.started": "2024-09-16T07:33:09.169022Z"
    }
   },
   "outputs": [],
   "source": [
    "def single_thread():\n",
    "    start = time.time()\n",
    "    res1 = count(NUM1)\n",
    "    res2 = count(NUM2)\n",
    "    end = time.time()\n",
    "    print(f\"单线程耗时：{end - start:.2f} 秒, res1: {res1}, res2: {res2}\")"
   ]
  },
  {
   "cell_type": "code",
   "execution_count": 11,
   "id": "c5bc43d4-62fe-4953-b8fa-0857ef4ebebf",
   "metadata": {
    "execution": {
     "iopub.execute_input": "2024-09-16T07:33:53.667476Z",
     "iopub.status.busy": "2024-09-16T07:33:53.667159Z",
     "iopub.status.idle": "2024-09-16T07:33:54.026959Z",
     "shell.execute_reply": "2024-09-16T07:33:54.025836Z",
     "shell.execute_reply.started": "2024-09-16T07:33:53.667455Z"
    }
   },
   "outputs": [
    {
     "data": {
      "text/plain": [
       "5000000050000000"
      ]
     },
     "execution_count": 11,
     "metadata": {},
     "output_type": "execute_result"
    }
   ],
   "source": [
    "import numpy as np\n",
    "np.sum(np.arange(1, 100000000+1))"
   ]
  },
  {
   "cell_type": "code",
   "execution_count": 10,
   "id": "5f1bd065-6308-4877-b02e-f9dc13064c78",
   "metadata": {
    "execution": {
     "iopub.execute_input": "2024-09-16T07:33:10.539523Z",
     "iopub.status.busy": "2024-09-16T07:33:10.538897Z",
     "iopub.status.idle": "2024-09-16T07:33:21.807161Z",
     "shell.execute_reply": "2024-09-16T07:33:21.805869Z",
     "shell.execute_reply.started": "2024-09-16T07:33:10.539475Z"
    }
   },
   "outputs": [
    {
     "name": "stdout",
     "output_type": "stream",
     "text": [
      "Process: 825838 Thread: 130371915138880 start\n",
      "Process: 825838 Thread: 130371915138880 end\n",
      "Process: 825838 Thread: 130371915138880 start\n",
      "Process: 825838 Thread: 130371915138880 end\n",
      "单线程耗时：11.26 秒, res1: 5000000050000000, res2: 5000000050000000\n"
     ]
    }
   ],
   "source": [
    "single_thread()"
   ]
  },
  {
   "cell_type": "code",
   "execution_count": 13,
   "id": "d8874bd5-28cc-4114-8274-5bf2d0013469",
   "metadata": {
    "execution": {
     "iopub.execute_input": "2024-09-16T07:34:27.104572Z",
     "iopub.status.busy": "2024-09-16T07:34:27.104107Z",
     "iopub.status.idle": "2024-09-16T07:34:27.115924Z",
     "shell.execute_reply": "2024-09-16T07:34:27.113802Z",
     "shell.execute_reply.started": "2024-09-16T07:34:27.104536Z"
    }
   },
   "outputs": [],
   "source": [
    "def multi_thread():\n",
    "    start = time.time()\n",
    "    res1 = None\n",
    "    res2 = None\n",
    "    \n",
    "    def thread_func1(num):\n",
    "        # 线程共享同一进程的内存空间\n",
    "        nonlocal res1\n",
    "        res1 = count(num)\n",
    "    \n",
    "    def thread_func2(num):\n",
    "        nonlocal res2\n",
    "        res2 = count(num)\n",
    "    \n",
    "    t1 = threading.Thread(target=thread_func1, args=(NUM1,))\n",
    "    t2 = threading.Thread(target=thread_func2, args=(NUM2,))\n",
    "    t1.start()\n",
    "    t2.start()\n",
    "    t1.join()\n",
    "    t2.join()\n",
    "    end = time.time()\n",
    "    print(f\"多线程耗时：{end - start:.2f} 秒, res1: {res1}, res2: {res2}\")"
   ]
  },
  {
   "cell_type": "code",
   "execution_count": 14,
   "id": "1317dece-c7e4-4f38-ab34-6dc14c81f931",
   "metadata": {
    "execution": {
     "iopub.execute_input": "2024-09-16T07:34:32.053756Z",
     "iopub.status.busy": "2024-09-16T07:34:32.053084Z",
     "iopub.status.idle": "2024-09-16T07:35:11.347261Z",
     "shell.execute_reply": "2024-09-16T07:35:11.345109Z",
     "shell.execute_reply.started": "2024-09-16T07:34:32.053708Z"
    }
   },
   "outputs": [
    {
     "name": "stdout",
     "output_type": "stream",
     "text": [
      "Process: 825838 Thread: 130370871752256 start\n",
      "Process: 825838 Thread: 130370863359552 start\n",
      "Process: 825838 Thread: 130370863359552 end\n",
      "Process: 825838 Thread: 130370871752256 end\n",
      "多线程耗时：39.29 秒, res1: 5000000050000000, res2: 5000000050000000\n"
     ]
    }
   ],
   "source": [
    "multi_thread()"
   ]
  },
  {
   "cell_type": "code",
   "execution_count": 15,
   "id": "c0797d2f-4e84-4921-af19-a4b507a171e3",
   "metadata": {
    "execution": {
     "iopub.execute_input": "2024-09-16T07:36:06.805482Z",
     "iopub.status.busy": "2024-09-16T07:36:06.804846Z",
     "iopub.status.idle": "2024-09-16T07:36:06.818016Z",
     "shell.execute_reply": "2024-09-16T07:36:06.815690Z",
     "shell.execute_reply.started": "2024-09-16T07:36:06.805436Z"
    }
   },
   "outputs": [],
   "source": [
    "def multi_thread_2():\n",
    "    start = time.time()\n",
    "    executor = ThreadPoolExecutor(max_workers=2)\n",
    "    res1 = executor.submit(count, n=NUM1)\n",
    "    res2 = executor.submit(count, n=NUM2)\n",
    "    \n",
    "    submit_time = time.time()\n",
    "    print(f\"多线程2提交任务耗时：{submit_time - start:.2f} 秒\")\n",
    "    \n",
    "    # Wait for the result (this will block until the tasks are done)\n",
    "    result1 = res1.result()\n",
    "    result2 = res2.result()\n",
    "    end = time.time()\n",
    "    \n",
    "    print(f\"多线程2总耗时：{end - start:.2f} 秒， res1: {result1}, res2: {result2}\")"
   ]
  },
  {
   "cell_type": "code",
   "execution_count": 16,
   "id": "2fa839f2-59f8-442c-a81c-553b1bef4c19",
   "metadata": {
    "execution": {
     "iopub.execute_input": "2024-09-16T07:36:10.448964Z",
     "iopub.status.busy": "2024-09-16T07:36:10.448309Z",
     "iopub.status.idle": "2024-09-16T07:36:53.423666Z",
     "shell.execute_reply": "2024-09-16T07:36:53.421395Z",
     "shell.execute_reply.started": "2024-09-16T07:36:10.448916Z"
    }
   },
   "outputs": [
    {
     "name": "stdout",
     "output_type": "stream",
     "text": [
      "Process: 825838 Thread: 130370871752256 start\n",
      "Process: 825838 Thread: 130370863359552 start\n",
      "多线程2提交任务耗时：0.01 秒\n",
      "Process: 825838 Thread: 130370871752256 end\n",
      "Process: 825838 Thread: 130370863359552 end\n",
      "多线程2总耗时：42.97 秒， res1: 5000000050000000, res2: 5000000050000000\n"
     ]
    }
   ],
   "source": [
    "multi_thread_2()"
   ]
  },
  {
   "cell_type": "code",
   "execution_count": 18,
   "id": "3e584ebb-10f0-4bcc-a580-826002f57143",
   "metadata": {
    "execution": {
     "iopub.execute_input": "2024-09-16T07:38:15.052161Z",
     "iopub.status.busy": "2024-09-16T07:38:15.051557Z",
     "iopub.status.idle": "2024-09-16T07:38:15.064755Z",
     "shell.execute_reply": "2024-09-16T07:38:15.062735Z",
     "shell.execute_reply.started": "2024-09-16T07:38:15.052116Z"
    }
   },
   "outputs": [],
   "source": [
    "def multi_thread_3():\n",
    "    start = time.time()\n",
    "    with ThreadPoolExecutor(max_workers=2) as executor:\n",
    "        res1 = executor.submit(count, n=NUM1)\n",
    "        res2 = executor.submit(count, n=NUM2)\n",
    "    submit_time = time.time()\n",
    "    print(f\"多线程3提交任务耗时：{submit_time - start:.2f} 秒\")\n",
    "    \n",
    "    # Wait for the result (this will block until the tasks are done)\n",
    "    result1 = res1.result()\n",
    "    result2 = res2.result()\n",
    "    end = time.time()\n",
    "    \n",
    "    print(f\"多线程3总耗时：{end - start:.2f} 秒， res1: {result1}, res2: {result2}\")"
   ]
  },
  {
   "cell_type": "code",
   "execution_count": 19,
   "id": "76f61548-a2e4-41b0-a816-aa79b8f6f8f4",
   "metadata": {
    "execution": {
     "iopub.execute_input": "2024-09-16T07:38:20.572293Z",
     "iopub.status.busy": "2024-09-16T07:38:20.571662Z",
     "iopub.status.idle": "2024-09-16T07:39:04.851989Z",
     "shell.execute_reply": "2024-09-16T07:39:04.849881Z",
     "shell.execute_reply.started": "2024-09-16T07:38:20.572246Z"
    }
   },
   "outputs": [
    {
     "name": "stdout",
     "output_type": "stream",
     "text": [
      "Process: 825838 Thread: 130370863359552 start\n",
      "Process: 825838 Thread: 130370871752256 start\n",
      "Process: 825838 Thread: 130370863359552 end\n",
      "Process: 825838 Thread: 130370871752256 end\n",
      "多线程3提交任务耗时：44.27 秒\n",
      "多线程3总耗时：44.27 秒， res1: 5000000050000000, res2: 5000000050000000\n"
     ]
    }
   ],
   "source": [
    "multi_thread_3()"
   ]
  },
  {
   "cell_type": "code",
   "execution_count": 24,
   "id": "6b04deab-858d-4f31-934f-0a9606cb69cf",
   "metadata": {
    "execution": {
     "iopub.execute_input": "2024-09-16T07:45:32.257242Z",
     "iopub.status.busy": "2024-09-16T07:45:32.256626Z",
     "iopub.status.idle": "2024-09-16T07:45:32.272153Z",
     "shell.execute_reply": "2024-09-16T07:45:32.270211Z",
     "shell.execute_reply.started": "2024-09-16T07:45:32.257196Z"
    }
   },
   "outputs": [],
   "source": [
    "def thread_share():\n",
    "    start = time.time()\n",
    "    shared_list = []\n",
    "\n",
    "    def thread_func1(num):\n",
    "        for i in range(num):\n",
    "            shared_list.append(f\"Thread1-{i}\")\n",
    "            time.sleep(0.1)\n",
    "\n",
    "    def thread_func2(num):\n",
    "        for i in range(num):\n",
    "            shared_list.append(f\"Thread2-{i}\")\n",
    "\n",
    "    t1 = threading.Thread(target=thread_func1, args=(10,))\n",
    "    t2 = threading.Thread(target=thread_func2, args=(5,))\n",
    "    t1.start()\n",
    "    t2.start()\n",
    "    t1.join()\n",
    "    t2.join()\n",
    "    end = time.time()\n",
    "    print(f\"多线程耗时：{end - start:.2f} 秒, shared_list: {shared_list}\")"
   ]
  },
  {
   "cell_type": "code",
   "execution_count": 25,
   "id": "bdeb69f8-bde2-4446-baaf-a459fc136fe3",
   "metadata": {
    "execution": {
     "iopub.execute_input": "2024-09-16T07:45:34.098608Z",
     "iopub.status.busy": "2024-09-16T07:45:34.096997Z",
     "iopub.status.idle": "2024-09-16T07:45:35.112125Z",
     "shell.execute_reply": "2024-09-16T07:45:35.109909Z",
     "shell.execute_reply.started": "2024-09-16T07:45:34.098557Z"
    }
   },
   "outputs": [
    {
     "name": "stdout",
     "output_type": "stream",
     "text": [
      "多线程耗时：1.01 秒, shared_list: ['Thread1-0', 'Thread2-0', 'Thread2-1', 'Thread2-2', 'Thread2-3', 'Thread2-4', 'Thread1-1', 'Thread1-2', 'Thread1-3', 'Thread1-4', 'Thread1-5', 'Thread1-6', 'Thread1-7', 'Thread1-8', 'Thread1-9']\n"
     ]
    }
   ],
   "source": [
    "thread_share()"
   ]
  },
  {
   "cell_type": "markdown",
   "id": "09ed2a0a-40b4-413a-a33d-624b15694761",
   "metadata": {},
   "source": [
    "### processes"
   ]
  },
  {
   "cell_type": "code",
   "execution_count": 29,
   "id": "88ea68e2-1152-4511-923e-c46e419fa5fb",
   "metadata": {
    "execution": {
     "iopub.execute_input": "2024-09-16T07:47:48.540758Z",
     "iopub.status.busy": "2024-09-16T07:47:48.540125Z",
     "iopub.status.idle": "2024-09-16T07:47:48.554268Z",
     "shell.execute_reply": "2024-09-16T07:47:48.552478Z",
     "shell.execute_reply.started": "2024-09-16T07:47:48.540712Z"
    }
   },
   "outputs": [],
   "source": [
    "res1 = None\n",
    "res2 = None\n",
    "\n",
    "def process_func1(num):\n",
    "    # 在多进程中,每个进程都有自己独立的内存空间。\n",
    "    global res1\n",
    "    res1 = count(num)\n",
    "\n",
    "def process_func2(num):\n",
    "    global res2\n",
    "    res2 = count(num)\n",
    "\n",
    "def multi_process():\n",
    "    start = time.time()\n",
    "    \n",
    "    p1 = multiprocessing.Process(target=process_func1, args=(NUM1,))\n",
    "    p2 = multiprocessing.Process(target=process_func2, args=(NUM2,))\n",
    "    p1.start()\n",
    "    p2.start()\n",
    "    p1.join()\n",
    "    p2.join()\n",
    "    end = time.time()\n",
    "    print(f\"多进程耗时：{end - start:.2f} 秒, res1: {res1}, res2: {res2}\")"
   ]
  },
  {
   "cell_type": "code",
   "execution_count": 30,
   "id": "78a88b1e-5458-4a0f-991e-489c80f77e64",
   "metadata": {
    "execution": {
     "iopub.execute_input": "2024-09-16T07:47:49.926678Z",
     "iopub.status.busy": "2024-09-16T07:47:49.926044Z",
     "iopub.status.idle": "2024-09-16T07:47:55.531192Z",
     "shell.execute_reply": "2024-09-16T07:47:55.529161Z",
     "shell.execute_reply.started": "2024-09-16T07:47:49.926632Z"
    }
   },
   "outputs": [
    {
     "name": "stdout",
     "output_type": "stream",
     "text": [
      "Process: 6581 Thread: 130371915138880 start\n",
      "Process: 6579 Thread: 130371915138880 start\n",
      "Process: 6579 Thread: 130371915138880 end\n",
      "Process: 6581 Thread: 130371915138880 end\n",
      "多进程耗时：5.60 秒, res1: None, res2: None\n"
     ]
    }
   ],
   "source": [
    "multi_process()"
   ]
  },
  {
   "cell_type": "code",
   "execution_count": 32,
   "id": "c0b7041e-83d7-4524-9c1c-f9f2a1ba227d",
   "metadata": {
    "execution": {
     "iopub.execute_input": "2024-09-16T07:48:15.771192Z",
     "iopub.status.busy": "2024-09-16T07:48:15.770543Z",
     "iopub.status.idle": "2024-09-16T07:48:15.782824Z",
     "shell.execute_reply": "2024-09-16T07:48:15.780604Z",
     "shell.execute_reply.started": "2024-09-16T07:48:15.771146Z"
    }
   },
   "outputs": [],
   "source": [
    "def multi_process_2():\n",
    "    start = time.time()\n",
    "    with ProcessPoolExecutor(max_workers=2) as pool:\n",
    "        res1 = pool.submit(count, n=NUM1)\n",
    "        res2 = pool.submit(count, n=NUM2)\n",
    "    end = time.time()\n",
    "    # print(f\"多进程2耗时：{end - start:.2f} 秒， res1: {res1.result()}, res2: {res2.result()}\")\n",
    "    print(f\"多进程2 耗时：{end - start:.2f} 秒\")\n",
    "    print(f\"多进程2 res1: {res1.result()}, res2: {res2.result()}\")"
   ]
  },
  {
   "cell_type": "code",
   "execution_count": 33,
   "id": "352be6a3-a607-4752-ac8e-51380521cb34",
   "metadata": {
    "execution": {
     "iopub.execute_input": "2024-09-16T07:48:18.025525Z",
     "iopub.status.busy": "2024-09-16T07:48:18.024897Z",
     "iopub.status.idle": "2024-09-16T07:48:23.455658Z",
     "shell.execute_reply": "2024-09-16T07:48:23.454116Z",
     "shell.execute_reply.started": "2024-09-16T07:48:18.025480Z"
    }
   },
   "outputs": [
    {
     "name": "stdout",
     "output_type": "stream",
     "text": [
      "Process: 7071 Thread: 130371915138880 startProcess: 7072 Thread: 130371915138880 start\n",
      "\n",
      "Process: 7072 Thread: 130371915138880 end\n",
      "Process: 7071 Thread: 130371915138880 end\n",
      "多进程2 耗时：5.42 秒\n",
      "多进程2 res1: 5000000050000000, res2: 5000000050000000\n"
     ]
    }
   ],
   "source": [
    "multi_process_2()"
   ]
  },
  {
   "cell_type": "code",
   "execution_count": null,
   "id": "1c16e99d-7ddd-4775-b55f-b833112988eb",
   "metadata": {},
   "outputs": [],
   "source": []
  }
 ],
 "metadata": {
  "kernelspec": {
   "display_name": "Python 3 (ipykernel)",
   "language": "python",
   "name": "python3"
  },
  "language_info": {
   "codemirror_mode": {
    "name": "ipython",
    "version": 3
   },
   "file_extension": ".py",
   "mimetype": "text/x-python",
   "name": "python",
   "nbconvert_exporter": "python",
   "pygments_lexer": "ipython3",
   "version": "3.10.13"
  },
  "toc": {
   "base_numbering": 1,
   "nav_menu": {},
   "number_sections": true,
   "sideBar": true,
   "skip_h1_title": false,
   "title_cell": "Table of Contents",
   "title_sidebar": "Contents",
   "toc_cell": false,
   "toc_position": {},
   "toc_section_display": true,
   "toc_window_display": false
  }
 },
 "nbformat": 4,
 "nbformat_minor": 5
}
