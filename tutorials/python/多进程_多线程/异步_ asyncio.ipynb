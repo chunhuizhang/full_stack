{
 "cells": [
  {
   "cell_type": "code",
   "execution_count": 1,
   "id": "d8837e53",
   "metadata": {
    "ExecuteTime": {
     "end_time": "2024-03-18T15:03:28.056757Z",
     "start_time": "2024-03-18T15:03:28.047272Z"
    }
   },
   "outputs": [],
   "source": [
    "import asyncio"
   ]
  },
  {
   "cell_type": "markdown",
   "id": "8ab445f5",
   "metadata": {},
   "source": [
    "## `async` 与 `await`"
   ]
  },
  {
   "cell_type": "markdown",
   "id": "8700ef85",
   "metadata": {},
   "source": [
    "```\n",
    "# 定义一个异步函数\n",
    "async def simulate_io_task(delay):\n",
    "    print(f\"任务开始，等待 {delay} 秒...\")\n",
    "    # asyncio.sleep 是异步版本的 time.sleep，但不会阻塞事件循环\n",
    "    await asyncio.sleep(delay)\n",
    "    print(\"任务完成\")\n",
    "    return f\"结果：等待了 {delay} 秒\"\n",
    "\n",
    "# 定义另一个异步函数来调用 simulate_io_task\n",
    "async def main():\n",
    "    # 等待 simulate_io_task 完成\n",
    "    result = await simulate_io_task(2)\n",
    "    print(result)\n",
    "\n",
    "    # 同时运行多个异步任务，这三个任务总共花了3s；\n",
    "    task1 = simulate_io_task(1)\n",
    "    task2 = simulate_io_task(3)\n",
    "    task3 = simulate_io_task(2)\n",
    "    results = await asyncio.gather(task1, task2, task3)\n",
    "    for result in results:\n",
    "        print(result)\n",
    "\n",
    "# 运行主函数\n",
    "if __name__ == \"__main__\":\n",
    "    # 使用 asyncio.run 来运行 main 协程\n",
    "    asyncio.run(main())\n",
    "```"
   ]
  },
  {
   "cell_type": "markdown",
   "id": "24833d63",
   "metadata": {},
   "source": [
    "```\n",
    "任务开始，等待 2 秒...\n",
    "任务完成\n",
    "结果：等待了 2 秒\n",
    "\n",
    "\n",
    "任务开始，等待 1 秒...\n",
    "任务开始，等待 3 秒...\n",
    "任务开始，等待 2 秒...\n",
    "任务完成\n",
    "任务完成\n",
    "任务完成\n",
    "结果：等待了 1 秒\n",
    "结果：等待了 3 秒\n",
    "结果：等待了 2 秒\n",
    "\n",
    "```"
   ]
  }
 ],
 "metadata": {
  "kernelspec": {
   "display_name": "Python 3 (ipykernel)",
   "language": "python",
   "name": "python3"
  },
  "language_info": {
   "codemirror_mode": {
    "name": "ipython",
    "version": 3
   },
   "file_extension": ".py",
   "mimetype": "text/x-python",
   "name": "python",
   "nbconvert_exporter": "python",
   "pygments_lexer": "ipython3",
   "version": "3.9.13"
  },
  "toc": {
   "base_numbering": 1,
   "nav_menu": {},
   "number_sections": true,
   "sideBar": true,
   "skip_h1_title": false,
   "title_cell": "Table of Contents",
   "title_sidebar": "Contents",
   "toc_cell": false,
   "toc_position": {},
   "toc_section_display": true,
   "toc_window_display": false
  }
 },
 "nbformat": 4,
 "nbformat_minor": 5
}
