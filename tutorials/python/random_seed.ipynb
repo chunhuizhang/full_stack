{
 "cells": [
  {
   "cell_type": "markdown",
   "id": "9e4fd5df",
   "metadata": {},
   "source": [
    "## `random` python 标准库"
   ]
  },
  {
   "cell_type": "markdown",
   "id": "eba7450a",
   "metadata": {},
   "source": [
    "## `np.random`"
   ]
  },
  {
   "cell_type": "code",
   "execution_count": 1,
   "id": "5b21e191",
   "metadata": {
    "ExecuteTime": {
     "end_time": "2023-08-01T13:58:42.339801Z",
     "start_time": "2023-08-01T13:58:42.209349Z"
    }
   },
   "outputs": [],
   "source": [
    "import numpy as np\n",
    "np.random.seed(1234)"
   ]
  },
  {
   "cell_type": "markdown",
   "id": "03d30a89",
   "metadata": {},
   "source": [
    "## `torch`"
   ]
  },
  {
   "cell_type": "code",
   "execution_count": 2,
   "id": "61d8b264",
   "metadata": {
    "ExecuteTime": {
     "end_time": "2023-08-09T14:00:38.514957Z",
     "start_time": "2023-08-09T14:00:37.229437Z"
    }
   },
   "outputs": [
    {
     "data": {
      "text/plain": [
       "<torch._C.Generator at 0x7f37d0fcc9f0>"
      ]
     },
     "execution_count": 2,
     "metadata": {},
     "output_type": "execute_result"
    }
   ],
   "source": [
    "import torch\n",
    "torch.manual_seed(1)"
   ]
  }
 ],
 "metadata": {
  "kernelspec": {
   "display_name": "Python 3 (ipykernel)",
   "language": "python",
   "name": "python3"
  },
  "language_info": {
   "codemirror_mode": {
    "name": "ipython",
    "version": 3
   },
   "file_extension": ".py",
   "mimetype": "text/x-python",
   "name": "python",
   "nbconvert_exporter": "python",
   "pygments_lexer": "ipython3",
   "version": "3.10.9"
  },
  "toc": {
   "base_numbering": 1,
   "nav_menu": {},
   "number_sections": true,
   "sideBar": true,
   "skip_h1_title": false,
   "title_cell": "Table of Contents",
   "title_sidebar": "Contents",
   "toc_cell": false,
   "toc_position": {},
   "toc_section_display": true,
   "toc_window_display": false
  }
 },
 "nbformat": 4,
 "nbformat_minor": 5
}
