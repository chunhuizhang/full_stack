{
 "cells": [
  {
   "cell_type": "markdown",
   "id": "a7cb6cdc",
   "metadata": {},
   "source": [
    "## deque"
   ]
  },
  {
   "cell_type": "code",
   "execution_count": 2,
   "id": "2c9706a1",
   "metadata": {
    "ExecuteTime": {
     "end_time": "2023-08-12T12:59:37.311253Z",
     "start_time": "2023-08-12T12:59:37.305405Z"
    }
   },
   "outputs": [],
   "source": [
    "from collections import deque"
   ]
  },
  {
   "cell_type": "markdown",
   "id": "ecfa062c",
   "metadata": {},
   "source": [
    "- A list-like sequence optimized for data accesses near its endpoints.\n",
    "\n",
    "```\n",
    "# 默认是尾部弹出, Remove and return the rightmost element.\n",
    "q.pop()      \n",
    "# 左侧pop, Remove and return the leftmost element. \n",
    "q.popleft()  \n",
    "\n",
    "# 默认是尾部插入, Add an element to the right side of the deque.\n",
    "q.append()  \n",
    "# 左侧插入, Add an element to the left side of the deque.\n",
    "q.apppendleft() \n",
    "```\n",
    "\n",
    "- 实现队列和栈\n",
    "\n",
    "```\n",
    "# 队列\n",
    "q.append()\n",
    "q.popleft()\n",
    "\n",
    "\n",
    "# 栈\n",
    "q.append()\n",
    "q.pop()\n",
    "```"
   ]
  }
 ],
 "metadata": {
  "kernelspec": {
   "display_name": "Python 3 (ipykernel)",
   "language": "python",
   "name": "python3"
  },
  "language_info": {
   "codemirror_mode": {
    "name": "ipython",
    "version": 3
   },
   "file_extension": ".py",
   "mimetype": "text/x-python",
   "name": "python",
   "nbconvert_exporter": "python",
   "pygments_lexer": "ipython3",
   "version": "3.10.9"
  },
  "toc": {
   "base_numbering": 1,
   "nav_menu": {},
   "number_sections": true,
   "sideBar": true,
   "skip_h1_title": false,
   "title_cell": "Table of Contents",
   "title_sidebar": "Contents",
   "toc_cell": false,
   "toc_position": {},
   "toc_section_display": true,
   "toc_window_display": false
  }
 },
 "nbformat": 4,
 "nbformat_minor": 5
}
