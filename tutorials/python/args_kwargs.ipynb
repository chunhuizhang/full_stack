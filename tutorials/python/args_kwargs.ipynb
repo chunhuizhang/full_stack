{
 "cells": [
  {
   "cell_type": "markdown",
   "id": "2f7cf329-118d-41af-8926-84699a5bfcdd",
   "metadata": {},
   "source": [
    "- `*args`, `**kwargs`\n",
    "    - kwargs: keyword args"
   ]
  },
  {
   "cell_type": "code",
   "execution_count": 1,
   "id": "bc89db29",
   "metadata": {
    "ExecuteTime": {
     "end_time": "2023-12-24T07:48:04.591855Z",
     "start_time": "2023-12-24T07:48:04.574814Z"
    }
   },
   "outputs": [],
   "source": [
    "import random"
   ]
  },
  {
   "cell_type": "code",
   "execution_count": 4,
   "id": "039897fd",
   "metadata": {
    "ExecuteTime": {
     "end_time": "2023-12-24T07:48:34.430120Z",
     "start_time": "2023-12-24T07:48:34.416558Z"
    }
   },
   "outputs": [
    {
     "data": {
      "text/plain": [
       "[5, 0, 9, 2, 9, 6, 6, 5, 6, 5]"
      ]
     },
     "execution_count": 4,
     "metadata": {},
     "output_type": "execute_result"
    }
   ],
   "source": [
    "numbers = [random.randint(0, 10) for _ in range(10)]\n",
    "numbers"
   ]
  },
  {
   "cell_type": "code",
   "execution_count": 5,
   "id": "6116f91e",
   "metadata": {
    "ExecuteTime": {
     "end_time": "2023-12-24T07:48:41.206175Z",
     "start_time": "2023-12-24T07:48:41.199956Z"
    }
   },
   "outputs": [
    {
     "name": "stdout",
     "output_type": "stream",
     "text": [
      "[5, 0, 9, 2, 9, 6, 6, 5, 6, 5]\n"
     ]
    }
   ],
   "source": [
    "print(numbers)"
   ]
  },
  {
   "cell_type": "code",
   "execution_count": 7,
   "id": "992e15b6",
   "metadata": {
    "ExecuteTime": {
     "end_time": "2023-12-24T07:49:03.439099Z",
     "start_time": "2023-12-24T07:49:03.435148Z"
    }
   },
   "outputs": [
    {
     "name": "stdout",
     "output_type": "stream",
     "text": [
      "5 0 9 2 9 6 6 5 6 5\n"
     ]
    }
   ],
   "source": [
    "# unpacking operator\n",
    "print(*numbers)"
   ]
  },
  {
   "cell_type": "code",
   "execution_count": 8,
   "id": "48dbbdd6",
   "metadata": {
    "ExecuteTime": {
     "end_time": "2023-12-24T07:51:48.026880Z",
     "start_time": "2023-12-24T07:51:48.019628Z"
    }
   },
   "outputs": [],
   "source": [
    "def order_pizza(size, *toppings):\n",
    "    print(f'Ordered a {size} pizza with the following toppings:')\n",
    "    for topping in toppings:\n",
    "        print(f'- {topping}')"
   ]
  },
  {
   "cell_type": "code",
   "execution_count": 9,
   "id": "3b133a96",
   "metadata": {
    "ExecuteTime": {
     "end_time": "2023-12-24T07:52:06.398279Z",
     "start_time": "2023-12-24T07:52:06.392427Z"
    }
   },
   "outputs": [
    {
     "name": "stdout",
     "output_type": "stream",
     "text": [
      "Ordered a large pizza with the following toppings:\n",
      "- pepperoni\n",
      "- olives\n"
     ]
    }
   ],
   "source": [
    "order_pizza('large', 'pepperoni', 'olives')"
   ]
  },
  {
   "cell_type": "code",
   "execution_count": 10,
   "id": "3d83dad6",
   "metadata": {
    "ExecuteTime": {
     "end_time": "2023-12-24T07:53:05.505614Z",
     "start_time": "2023-12-24T07:53:05.500817Z"
    }
   },
   "outputs": [],
   "source": [
    "def order_pizza(size, *toppings, **details):\n",
    "    print(f'Ordered a {size} pizza with the following toppings:')\n",
    "    for topping in toppings:\n",
    "        print(f'- {topping}')\n",
    "    print(details)"
   ]
  },
  {
   "cell_type": "code",
   "execution_count": 11,
   "id": "9a158a2a",
   "metadata": {
    "ExecuteTime": {
     "end_time": "2023-12-24T07:53:19.317557Z",
     "start_time": "2023-12-24T07:53:19.308636Z"
    }
   },
   "outputs": [
    {
     "name": "stdout",
     "output_type": "stream",
     "text": [
      "Ordered a large pizza with the following toppings:\n",
      "- pepperoni\n",
      "- olives\n",
      "{'delivery': True, 'tip': 5}\n"
     ]
    }
   ],
   "source": [
    "order_pizza('large', 'pepperoni', 'olives', delivery=True, tip=5)"
   ]
  },
  {
   "cell_type": "code",
   "execution_count": null,
   "id": "1e143124",
   "metadata": {},
   "outputs": [],
   "source": []
  }
 ],
 "metadata": {
  "kernelspec": {
   "display_name": "Python 3 (ipykernel)",
   "language": "python",
   "name": "python3"
  },
  "language_info": {
   "codemirror_mode": {
    "name": "ipython",
    "version": 3
   },
   "file_extension": ".py",
   "mimetype": "text/x-python",
   "name": "python",
   "nbconvert_exporter": "python",
   "pygments_lexer": "ipython3",
   "version": "3.10.13"
  },
  "toc": {
   "base_numbering": 1,
   "nav_menu": {},
   "number_sections": true,
   "sideBar": true,
   "skip_h1_title": false,
   "title_cell": "Table of Contents",
   "title_sidebar": "Contents",
   "toc_cell": false,
   "toc_position": {},
   "toc_section_display": true,
   "toc_window_display": false
  }
 },
 "nbformat": 4,
 "nbformat_minor": 5
}
