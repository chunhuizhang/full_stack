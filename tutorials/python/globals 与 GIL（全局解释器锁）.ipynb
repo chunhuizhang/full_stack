{
 "cells": [
  {
   "cell_type": "markdown",
   "id": "130100cf",
   "metadata": {},
   "source": [
    "## globals"
   ]
  },
  {
   "cell_type": "code",
   "execution_count": 1,
   "id": "fb1e69c7",
   "metadata": {
    "ExecuteTime": {
     "end_time": "2023-06-10T09:56:20.506220Z",
     "start_time": "2023-06-10T09:56:20.477756Z"
    }
   },
   "outputs": [
    {
     "data": {
      "text/plain": [
       "{'__name__': '__main__',\n",
       " '__doc__': 'Automatically created module for IPython interactive environment',\n",
       " '__package__': None,\n",
       " '__loader__': None,\n",
       " '__spec__': None,\n",
       " '__builtin__': <module 'builtins' (built-in)>,\n",
       " '__builtins__': <module 'builtins' (built-in)>,\n",
       " '_ih': ['', 'globals()'],\n",
       " '_oh': {},\n",
       " '_dh': [PosixPath('/home/whaow/workspaces/full_stack/tutorials/python')],\n",
       " 'In': ['', 'globals()'],\n",
       " 'Out': {},\n",
       " 'get_ipython': <bound method InteractiveShell.get_ipython of <ipykernel.zmqshell.ZMQInteractiveShell object at 0x7f64f734d3f0>>,\n",
       " 'exit': <IPython.core.autocall.ZMQExitAutocall at 0x7f64f734f6a0>,\n",
       " 'quit': <IPython.core.autocall.ZMQExitAutocall at 0x7f64f734f6a0>,\n",
       " 'open': <function io.open(file, mode='r', buffering=-1, encoding=None, errors=None, newline=None, closefd=True, opener=None)>,\n",
       " '_': '',\n",
       " '__': '',\n",
       " '___': '',\n",
       " '_i': '',\n",
       " '_ii': '',\n",
       " '_iii': '',\n",
       " '_i1': 'globals()'}"
      ]
     },
     "execution_count": 1,
     "metadata": {},
     "output_type": "execute_result"
    }
   ],
   "source": [
    "globals()"
   ]
  },
  {
   "cell_type": "markdown",
   "id": "3320180b",
   "metadata": {},
   "source": [
    "## GIL（global interpreter lock）"
   ]
  },
  {
   "cell_type": "markdown",
   "id": "b494ba65",
   "metadata": {},
   "source": [
    "- GIL 的存在导致：伪多线程。GIL contention across threads"
   ]
  }
 ],
 "metadata": {
  "kernelspec": {
   "display_name": "Python 3 (ipykernel)",
   "language": "python",
   "name": "python3"
  },
  "language_info": {
   "codemirror_mode": {
    "name": "ipython",
    "version": 3
   },
   "file_extension": ".py",
   "mimetype": "text/x-python",
   "name": "python",
   "nbconvert_exporter": "python",
   "pygments_lexer": "ipython3",
   "version": "3.10.9"
  },
  "toc": {
   "base_numbering": 1,
   "nav_menu": {},
   "number_sections": true,
   "sideBar": true,
   "skip_h1_title": false,
   "title_cell": "Table of Contents",
   "title_sidebar": "Contents",
   "toc_cell": false,
   "toc_position": {},
   "toc_section_display": true,
   "toc_window_display": false
  }
 },
 "nbformat": 4,
 "nbformat_minor": 5
}
