{
 "cells": [
  {
   "cell_type": "markdown",
   "id": "cf734ec4",
   "metadata": {},
   "source": [
    "```\n",
    "parser = argparse.ArgumentParser()\n",
    "parser.add_argument(\"--seed\", \"-s\", type=int, default=0, help=\"Seed for rng\")\n",
    "parser.add_argument(\n",
    "    \"--num-stories\",\n",
    "    \"-n\",\n",
    "    type=int,\n",
    "    default=1000,\n",
    "    help=\"Number of stories to generate for each type\",\n",
    ")\n",
    "parser.add_argument(\"--out-dir\", \"-o\", default=\"data\", help=\"Output directory\")\n",
    "args = parser.parse_args()\n",
    "```"
   ]
  },
  {
   "cell_type": "markdown",
   "id": "73990a0c",
   "metadata": {},
   "source": [
    "## namespace"
   ]
  },
  {
   "cell_type": "code",
   "execution_count": 1,
   "id": "225a63b5",
   "metadata": {
    "ExecuteTime": {
     "end_time": "2023-07-25T14:04:41.030496Z",
     "start_time": "2023-07-25T14:04:41.013906Z"
    }
   },
   "outputs": [],
   "source": [
    "from argparse import Namespace"
   ]
  },
  {
   "cell_type": "code",
   "execution_count": 2,
   "id": "1fb39968",
   "metadata": {
    "ExecuteTime": {
     "end_time": "2023-07-25T14:04:53.676245Z",
     "start_time": "2023-07-25T14:04:53.666890Z"
    }
   },
   "outputs": [],
   "source": [
    "config = {\"train_batch_size\": 2, # 12\n",
    "    \"valid_batch_size\": 2, # 12\n",
    "    \"weight_decay\": 0.1,\n",
    "    \"shuffle_buffer\": 1000,\n",
    "    \"learning_rate\": 2e-4, # 5e-4\n",
    "    \"lr_scheduler_type\": \"cosine\",\n",
    "    \"num_warmup_steps\": 750, # 2000\n",
    "    \"gradient_accumulation_steps\": 16, # 1\n",
    "    \"max_train_steps\": 50000, # 150000\n",
    "    \"max_eval_steps\": -1,\n",
    "    \"seq_length\": 1024,\n",
    "    \"seed\": 1,\n",
    "    \"save_checkpoint_steps\": 50000} # 15000\n",
    "args = Namespace(**config)"
   ]
  },
  {
   "cell_type": "code",
   "execution_count": 3,
   "id": "d63f6ab1",
   "metadata": {
    "ExecuteTime": {
     "end_time": "2023-07-25T14:04:56.342245Z",
     "start_time": "2023-07-25T14:04:56.326642Z"
    }
   },
   "outputs": [
    {
     "data": {
      "text/plain": [
       "Namespace(train_batch_size=2, valid_batch_size=2, weight_decay=0.1, shuffle_buffer=1000, learning_rate=0.0002, lr_scheduler_type='cosine', num_warmup_steps=750, gradient_accumulation_steps=16, max_train_steps=50000, max_eval_steps=-1, seq_length=1024, seed=1, save_checkpoint_steps=50000)"
      ]
     },
     "execution_count": 3,
     "metadata": {},
     "output_type": "execute_result"
    }
   ],
   "source": [
    "args"
   ]
  }
 ],
 "metadata": {
  "kernelspec": {
   "display_name": "Python 3 (ipykernel)",
   "language": "python",
   "name": "python3"
  },
  "language_info": {
   "codemirror_mode": {
    "name": "ipython",
    "version": 3
   },
   "file_extension": ".py",
   "mimetype": "text/x-python",
   "name": "python",
   "nbconvert_exporter": "python",
   "pygments_lexer": "ipython3",
   "version": "3.10.9"
  },
  "toc": {
   "base_numbering": 1,
   "nav_menu": {},
   "number_sections": true,
   "sideBar": true,
   "skip_h1_title": false,
   "title_cell": "Table of Contents",
   "title_sidebar": "Contents",
   "toc_cell": false,
   "toc_position": {},
   "toc_section_display": true,
   "toc_window_display": false
  }
 },
 "nbformat": 4,
 "nbformat_minor": 5
}
