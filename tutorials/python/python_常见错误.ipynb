{
 "cells": [
  {
   "cell_type": "markdown",
   "id": "462dbfae",
   "metadata": {},
   "source": [
    "## basics"
   ]
  },
  {
   "cell_type": "markdown",
   "id": "57a7f1cc",
   "metadata": {},
   "source": [
    "\n",
    "- `list.pop(index=-1)`\n",
    "    - 参数是 index，不是 value\n",
    "    - 默认是最后一个（尾部）\n",
    "- `tuple`\n",
    "    - `((1, 2))` vs. `((1, 2), )`"
   ]
  },
  {
   "cell_type": "code",
   "execution_count": 1,
   "id": "e84acfd9",
   "metadata": {
    "ExecuteTime": {
     "end_time": "2023-10-25T14:27:36.219091Z",
     "start_time": "2023-10-25T14:27:36.195599Z"
    }
   },
   "outputs": [
    {
     "data": {
      "text/plain": [
       "2"
      ]
     },
     "execution_count": 1,
     "metadata": {},
     "output_type": "execute_result"
    }
   ],
   "source": [
    "t = ((1, 2))\n",
    "len(t)"
   ]
  },
  {
   "cell_type": "code",
   "execution_count": 2,
   "id": "e75f5a3e",
   "metadata": {
    "ExecuteTime": {
     "end_time": "2023-10-25T14:27:37.983158Z",
     "start_time": "2023-10-25T14:27:37.973677Z"
    }
   },
   "outputs": [
    {
     "data": {
      "text/plain": [
       "(1, 2)"
      ]
     },
     "execution_count": 2,
     "metadata": {},
     "output_type": "execute_result"
    }
   ],
   "source": [
    "t"
   ]
  },
  {
   "cell_type": "code",
   "execution_count": 2,
   "id": "44e0f91c",
   "metadata": {
    "ExecuteTime": {
     "end_time": "2023-10-24T14:07:09.685209Z",
     "start_time": "2023-10-24T14:07:09.675607Z"
    }
   },
   "outputs": [
    {
     "data": {
      "text/plain": [
       "1"
      ]
     },
     "execution_count": 2,
     "metadata": {},
     "output_type": "execute_result"
    }
   ],
   "source": [
    "t = ((1, 2), )\n",
    "len(t)"
   ]
  },
  {
   "cell_type": "markdown",
   "id": "e5db078f",
   "metadata": {},
   "source": [
    "## 逻辑判断"
   ]
  },
  {
   "cell_type": "code",
   "execution_count": 1,
   "id": "d6ef1c1e",
   "metadata": {
    "ExecuteTime": {
     "end_time": "2023-06-07T12:45:02.680838Z",
     "start_time": "2023-06-07T12:45:02.661708Z"
    }
   },
   "outputs": [
    {
     "data": {
      "text/plain": [
       "True"
      ]
     },
     "execution_count": 1,
     "metadata": {},
     "output_type": "execute_result"
    }
   ],
   "source": [
    "# not {}\n",
    "# not ()\n",
    "not []"
   ]
  },
  {
   "cell_type": "code",
   "execution_count": 2,
   "id": "42ecfca4",
   "metadata": {
    "ExecuteTime": {
     "end_time": "2023-06-07T12:45:06.070123Z",
     "start_time": "2023-06-07T12:45:06.063853Z"
    },
    "scrolled": false
   },
   "outputs": [
    {
     "data": {
      "text/plain": [
       "False"
      ]
     },
     "execution_count": 2,
     "metadata": {},
     "output_type": "execute_result"
    }
   ],
   "source": [
    "not [1]"
   ]
  },
  {
   "cell_type": "code",
   "execution_count": 3,
   "id": "46ed2180",
   "metadata": {
    "ExecuteTime": {
     "end_time": "2023-06-07T12:45:19.239654Z",
     "start_time": "2023-06-07T12:45:19.230303Z"
    }
   },
   "outputs": [
    {
     "data": {
      "text/plain": [
       "True"
      ]
     },
     "execution_count": 3,
     "metadata": {},
     "output_type": "execute_result"
    }
   ],
   "source": [
    "not None"
   ]
  },
  {
   "cell_type": "markdown",
   "id": "cab5cab0",
   "metadata": {},
   "source": [
    "## 引用与拷贝"
   ]
  },
  {
   "cell_type": "markdown",
   "id": "ebc76408",
   "metadata": {},
   "source": [
    "### reference 与 拷贝"
   ]
  },
  {
   "cell_type": "code",
   "execution_count": 2,
   "id": "c4989210",
   "metadata": {
    "ExecuteTime": {
     "end_time": "2023-07-04T13:02:37.897962Z",
     "start_time": "2023-07-04T13:02:37.881900Z"
    }
   },
   "outputs": [
    {
     "data": {
      "text/plain": [
       "[[0, 1, 2], [0, 1, 2], [0, 1, 2]]"
      ]
     },
     "execution_count": 2,
     "metadata": {},
     "output_type": "execute_result"
    }
   ],
   "source": [
    "ls = [list(range(3))] * 3\n",
    "ls"
   ]
  },
  {
   "cell_type": "code",
   "execution_count": 3,
   "id": "9da59b61",
   "metadata": {
    "ExecuteTime": {
     "end_time": "2023-07-04T13:02:44.551162Z",
     "start_time": "2023-07-04T13:02:44.540206Z"
    }
   },
   "outputs": [
    {
     "data": {
      "text/plain": [
       "[[5, 1, 2], [5, 1, 2], [5, 1, 2]]"
      ]
     },
     "execution_count": 3,
     "metadata": {},
     "output_type": "execute_result"
    }
   ],
   "source": [
    "ls[0][0] = 5\n",
    "ls"
   ]
  },
  {
   "cell_type": "code",
   "execution_count": 6,
   "id": "713c25c4",
   "metadata": {
    "ExecuteTime": {
     "end_time": "2023-07-04T13:03:40.960861Z",
     "start_time": "2023-07-04T13:03:40.951400Z"
    }
   },
   "outputs": [
    {
     "name": "stdout",
     "output_type": "stream",
     "text": [
      "True\n",
      "True\n"
     ]
    }
   ],
   "source": [
    "print(ls[0] == ls[1])\n",
    "print(ls[0] is ls[1])"
   ]
  },
  {
   "cell_type": "markdown",
   "id": "dca0259f",
   "metadata": {},
   "source": [
    "### 浅拷贝与深拷贝"
   ]
  },
  {
   "cell_type": "code",
   "execution_count": 9,
   "id": "6929b8fa",
   "metadata": {
    "ExecuteTime": {
     "end_time": "2023-07-04T13:08:03.139327Z",
     "start_time": "2023-07-04T13:08:03.132356Z"
    }
   },
   "outputs": [],
   "source": [
    "a = [[1, 2], [3], [4]]\n",
    "b = a[:]\n",
    "c = list(a)"
   ]
  },
  {
   "cell_type": "code",
   "execution_count": 10,
   "id": "8d3c65e3",
   "metadata": {
    "ExecuteTime": {
     "end_time": "2023-07-04T13:08:21.607165Z",
     "start_time": "2023-07-04T13:08:21.597653Z"
    }
   },
   "outputs": [
    {
     "data": {
      "text/plain": [
       "[[1, 2, 5], [3], [4]]"
      ]
     },
     "execution_count": 10,
     "metadata": {},
     "output_type": "execute_result"
    }
   ],
   "source": [
    "c[0].append(5)\n",
    "a"
   ]
  },
  {
   "cell_type": "code",
   "execution_count": 11,
   "id": "e3c1549a",
   "metadata": {
    "ExecuteTime": {
     "end_time": "2023-07-04T13:08:23.842557Z",
     "start_time": "2023-07-04T13:08:23.833345Z"
    }
   },
   "outputs": [
    {
     "data": {
      "text/plain": [
       "[[1, 2, 5], [3], [4]]"
      ]
     },
     "execution_count": 11,
     "metadata": {},
     "output_type": "execute_result"
    }
   ],
   "source": [
    "b"
   ]
  },
  {
   "cell_type": "code",
   "execution_count": 13,
   "id": "421e1521",
   "metadata": {
    "ExecuteTime": {
     "end_time": "2023-07-04T13:08:51.978605Z",
     "start_time": "2023-07-04T13:08:51.972084Z"
    }
   },
   "outputs": [],
   "source": [
    "from copy import deepcopy"
   ]
  },
  {
   "cell_type": "code",
   "execution_count": 14,
   "id": "435e2246",
   "metadata": {
    "ExecuteTime": {
     "end_time": "2023-07-04T13:08:57.966600Z",
     "start_time": "2023-07-04T13:08:57.960974Z"
    }
   },
   "outputs": [],
   "source": [
    "d = deepcopy(a)"
   ]
  },
  {
   "cell_type": "code",
   "execution_count": 15,
   "id": "d0557179",
   "metadata": {
    "ExecuteTime": {
     "end_time": "2023-07-04T13:09:01.644064Z",
     "start_time": "2023-07-04T13:09:01.634406Z"
    }
   },
   "outputs": [
    {
     "data": {
      "text/plain": [
       "[[1, 2, 5], [3], [4]]"
      ]
     },
     "execution_count": 15,
     "metadata": {},
     "output_type": "execute_result"
    }
   ],
   "source": [
    "a"
   ]
  },
  {
   "cell_type": "code",
   "execution_count": 16,
   "id": "4af232d8",
   "metadata": {
    "ExecuteTime": {
     "end_time": "2023-07-04T13:09:08.074436Z",
     "start_time": "2023-07-04T13:09:08.067908Z"
    }
   },
   "outputs": [],
   "source": [
    "d[0].append(6)"
   ]
  },
  {
   "cell_type": "code",
   "execution_count": 17,
   "id": "672fd92e",
   "metadata": {
    "ExecuteTime": {
     "end_time": "2023-07-04T13:09:09.287800Z",
     "start_time": "2023-07-04T13:09:09.277546Z"
    }
   },
   "outputs": [
    {
     "data": {
      "text/plain": [
       "[[1, 2, 5], [3], [4]]"
      ]
     },
     "execution_count": 17,
     "metadata": {},
     "output_type": "execute_result"
    }
   ],
   "source": [
    "a"
   ]
  },
  {
   "cell_type": "code",
   "execution_count": 18,
   "id": "b014991e",
   "metadata": {
    "ExecuteTime": {
     "end_time": "2023-07-04T13:09:12.435998Z",
     "start_time": "2023-07-04T13:09:12.426650Z"
    }
   },
   "outputs": [
    {
     "data": {
      "text/plain": [
       "[[1, 2, 5, 6], [3], [4]]"
      ]
     },
     "execution_count": 18,
     "metadata": {},
     "output_type": "execute_result"
    }
   ],
   "source": [
    "d"
   ]
  },
  {
   "cell_type": "markdown",
   "id": "14d9a3b3",
   "metadata": {},
   "source": [
    "## GIL（global interpreter lock）"
   ]
  }
 ],
 "metadata": {
  "kernelspec": {
   "display_name": "Python 3 (ipykernel)",
   "language": "python",
   "name": "python3"
  },
  "language_info": {
   "codemirror_mode": {
    "name": "ipython",
    "version": 3
   },
   "file_extension": ".py",
   "mimetype": "text/x-python",
   "name": "python",
   "nbconvert_exporter": "python",
   "pygments_lexer": "ipython3",
   "version": "3.10.9"
  },
  "toc": {
   "base_numbering": 1,
   "nav_menu": {},
   "number_sections": true,
   "sideBar": true,
   "skip_h1_title": false,
   "title_cell": "Table of Contents",
   "title_sidebar": "Contents",
   "toc_cell": false,
   "toc_position": {},
   "toc_section_display": true,
   "toc_window_display": false
  }
 },
 "nbformat": 4,
 "nbformat_minor": 5
}
