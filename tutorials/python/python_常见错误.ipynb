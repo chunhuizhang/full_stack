{
 "cells": [
  {
   "cell_type": "markdown",
   "id": "e5db078f",
   "metadata": {},
   "source": [
    "## 逻辑判断"
   ]
  },
  {
   "cell_type": "code",
   "execution_count": 1,
   "id": "d6ef1c1e",
   "metadata": {
    "ExecuteTime": {
     "end_time": "2023-06-07T12:45:02.680838Z",
     "start_time": "2023-06-07T12:45:02.661708Z"
    }
   },
   "outputs": [
    {
     "data": {
      "text/plain": [
       "True"
      ]
     },
     "execution_count": 1,
     "metadata": {},
     "output_type": "execute_result"
    }
   ],
   "source": [
    "# not {}\n",
    "# not ()\n",
    "not []"
   ]
  },
  {
   "cell_type": "code",
   "execution_count": 2,
   "id": "42ecfca4",
   "metadata": {
    "ExecuteTime": {
     "end_time": "2023-06-07T12:45:06.070123Z",
     "start_time": "2023-06-07T12:45:06.063853Z"
    },
    "scrolled": false
   },
   "outputs": [
    {
     "data": {
      "text/plain": [
       "False"
      ]
     },
     "execution_count": 2,
     "metadata": {},
     "output_type": "execute_result"
    }
   ],
   "source": [
    "not [1]"
   ]
  },
  {
   "cell_type": "code",
   "execution_count": 3,
   "id": "46ed2180",
   "metadata": {
    "ExecuteTime": {
     "end_time": "2023-06-07T12:45:19.239654Z",
     "start_time": "2023-06-07T12:45:19.230303Z"
    }
   },
   "outputs": [
    {
     "data": {
      "text/plain": [
       "True"
      ]
     },
     "execution_count": 3,
     "metadata": {},
     "output_type": "execute_result"
    }
   ],
   "source": [
    "not None"
   ]
  }
 ],
 "metadata": {
  "kernelspec": {
   "display_name": "Python 3 (ipykernel)",
   "language": "python",
   "name": "python3"
  },
  "language_info": {
   "codemirror_mode": {
    "name": "ipython",
    "version": 3
   },
   "file_extension": ".py",
   "mimetype": "text/x-python",
   "name": "python",
   "nbconvert_exporter": "python",
   "pygments_lexer": "ipython3",
   "version": "3.10.9"
  },
  "toc": {
   "base_numbering": 1,
   "nav_menu": {},
   "number_sections": true,
   "sideBar": true,
   "skip_h1_title": false,
   "title_cell": "Table of Contents",
   "title_sidebar": "Contents",
   "toc_cell": false,
   "toc_position": {},
   "toc_section_display": true,
   "toc_window_display": false
  }
 },
 "nbformat": 4,
 "nbformat_minor": 5
}
