{
 "cells": [
  {
   "cell_type": "markdown",
   "id": "5a58b764",
   "metadata": {},
   "source": [
    "## generator"
   ]
  },
  {
   "cell_type": "markdown",
   "id": "53c20dd3",
   "metadata": {},
   "source": [
    "- 延迟加载，节省内存，按需计算"
   ]
  },
  {
   "cell_type": "markdown",
   "id": "bf99813f",
   "metadata": {},
   "source": [
    "## list"
   ]
  },
  {
   "cell_type": "markdown",
   "id": "4653191f",
   "metadata": {},
   "source": [
    "- 判断一个 flat list 是否存在重复元素："
   ]
  },
  {
   "cell_type": "code",
   "execution_count": 4,
   "id": "f430cbba",
   "metadata": {
    "ExecuteTime": {
     "end_time": "2023-10-11T12:49:09.922605Z",
     "start_time": "2023-10-11T12:49:09.914203Z"
    }
   },
   "outputs": [
    {
     "data": {
      "text/plain": [
       "True"
      ]
     },
     "execution_count": 4,
     "metadata": {},
     "output_type": "execute_result"
    }
   ],
   "source": [
    "l = ['one', 'two', 'one']\n",
    "len(l) != len(set(l))"
   ]
  },
  {
   "cell_type": "code",
   "execution_count": 3,
   "id": "f80430a6",
   "metadata": {
    "ExecuteTime": {
     "end_time": "2023-10-11T12:49:06.722063Z",
     "start_time": "2023-10-11T12:49:06.713122Z"
    }
   },
   "outputs": [
    {
     "data": {
      "text/plain": [
       "True"
      ]
     },
     "execution_count": 3,
     "metadata": {},
     "output_type": "execute_result"
    }
   ],
   "source": [
    "any(l.count(x) > 1 for x in l)"
   ]
  },
  {
   "cell_type": "markdown",
   "id": "8a9c27a2",
   "metadata": {},
   "source": [
    "### `*`"
   ]
  },
  {
   "cell_type": "code",
   "execution_count": 1,
   "id": "9bd81519",
   "metadata": {
    "ExecuteTime": {
     "end_time": "2023-11-12T13:26:40.883252Z",
     "start_time": "2023-11-12T13:26:40.857357Z"
    }
   },
   "outputs": [
    {
     "data": {
      "text/plain": [
       "[1, 2, 3, 4]"
      ]
     },
     "execution_count": 1,
     "metadata": {},
     "output_type": "execute_result"
    }
   ],
   "source": [
    "l1 = [1, 2]\n",
    "l2 = [*l1, 3, 4]\n",
    "l2"
   ]
  },
  {
   "cell_type": "code",
   "execution_count": 2,
   "id": "0b7a7b6d",
   "metadata": {
    "ExecuteTime": {
     "end_time": "2023-11-12T13:26:51.586809Z",
     "start_time": "2023-11-12T13:26:51.577196Z"
    }
   },
   "outputs": [
    {
     "data": {
      "text/plain": [
       "[1, 2, 3, 4]"
      ]
     },
     "execution_count": 2,
     "metadata": {},
     "output_type": "execute_result"
    }
   ],
   "source": [
    "l1 = [3, 4]\n",
    "l2 = [1, 2, *l1]\n",
    "l2"
   ]
  }
 ],
 "metadata": {
  "kernelspec": {
   "display_name": "Python 3 (ipykernel)",
   "language": "python",
   "name": "python3"
  },
  "language_info": {
   "codemirror_mode": {
    "name": "ipython",
    "version": 3
   },
   "file_extension": ".py",
   "mimetype": "text/x-python",
   "name": "python",
   "nbconvert_exporter": "python",
   "pygments_lexer": "ipython3",
   "version": "3.10.9"
  },
  "toc": {
   "base_numbering": 1,
   "nav_menu": {},
   "number_sections": true,
   "sideBar": true,
   "skip_h1_title": false,
   "title_cell": "Table of Contents",
   "title_sidebar": "Contents",
   "toc_cell": false,
   "toc_position": {},
   "toc_section_display": true,
   "toc_window_display": false
  }
 },
 "nbformat": 4,
 "nbformat_minor": 5
}
