{
 "cells": [
  {
   "cell_type": "markdown",
   "id": "b4fe7200",
   "metadata": {},
   "source": [
    "> 提升 python 尤其在面向对象或者函数封装过程中的**弱类型**属性（出于可读性的目的）；\\\n",
    "> 类型注解主要用于静态类型检查和代码阅读目的，并不会在运行时强制类型检查"
   ]
  },
  {
   "cell_type": "code",
   "execution_count": 1,
   "id": "83f2884c",
   "metadata": {
    "ExecuteTime": {
     "end_time": "2023-08-31T15:48:13.409312Z",
     "start_time": "2023-08-31T15:48:13.404445Z"
    }
   },
   "outputs": [],
   "source": [
    "from typing import List, Tuple, Dict\n",
    "from typing import Type, Union"
   ]
  },
  {
   "cell_type": "markdown",
   "id": "d32241dd",
   "metadata": {},
   "source": [
    "## basics"
   ]
  },
  {
   "cell_type": "markdown",
   "id": "df62e1ca",
   "metadata": {},
   "source": [
    "```\n",
    "# input, output\n",
    "def splitArray(self, nums: List[int], k: int) -> int:\n",
    "\n",
    "# 类成员定义\n",
    "self.rounds: List[InteractionRecord] = []\n",
    "```"
   ]
  },
  {
   "cell_type": "markdown",
   "id": "1353a9c5",
   "metadata": {},
   "source": [
    "## advanced"
   ]
  },
  {
   "cell_type": "markdown",
   "id": "d176763b",
   "metadata": {},
   "source": [
    "```\n",
    "def __init__(self, agents: List[str], objects: List[str]):\n",
    "    pass\n",
    "\n",
    "def foo() -> Tuple[List[List[actions.Action]], List[List[str]], StoryType]:\n",
    "    return stories, traces, story_type\n",
    "\n",
    "```"
   ]
  },
  {
   "cell_type": "markdown",
   "id": "41d36b71",
   "metadata": {},
   "source": [
    "- `Type[Union[A, B]]`\n",
    "\n",
    "```\n",
    "class ResNet(nn.Module):\n",
    "    def __init__(\n",
    "        self,\n",
    "        block: Type[Union[BasicBlock, Bottleneck]],\n",
    "        layers: List[int],\n",
    "```\n",
    "\n",
    "```\n",
    "model = ResNet(block, layers, **kwargs)\n",
    "\n",
    "# resnet18\n",
    "_resnet(BasicBlock, [2, 2, 2, 2])\n",
    "# resnet34\n",
    "_resnet(BasicBlock, [3, 4, 6, 3])\n",
    "# resnet50\n",
    "_resnet(Bottleneck, [3, 4, 6, 3])\n",
    "# resnet101\n",
    "_resnet(Bottleneck, [3, 4, 23, 3])\n",
    "# resnet152\n",
    "_resnet(Bottleneck, [3, 8, 36, 3])\n",
    "```"
   ]
  },
  {
   "cell_type": "markdown",
   "id": "6ed87c4e",
   "metadata": {},
   "source": []
  }
 ],
 "metadata": {
  "kernelspec": {
   "display_name": "Python 3 (ipykernel)",
   "language": "python",
   "name": "python3"
  },
  "language_info": {
   "codemirror_mode": {
    "name": "ipython",
    "version": 3
   },
   "file_extension": ".py",
   "mimetype": "text/x-python",
   "name": "python",
   "nbconvert_exporter": "python",
   "pygments_lexer": "ipython3",
   "version": "3.10.13"
  },
  "toc": {
   "base_numbering": 1,
   "nav_menu": {},
   "number_sections": true,
   "sideBar": true,
   "skip_h1_title": false,
   "title_cell": "Table of Contents",
   "title_sidebar": "Contents",
   "toc_cell": false,
   "toc_position": {},
   "toc_section_display": true,
   "toc_window_display": false
  }
 },
 "nbformat": 4,
 "nbformat_minor": 5
}
