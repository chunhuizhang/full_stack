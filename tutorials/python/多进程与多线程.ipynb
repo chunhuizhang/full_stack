{
 "cells": [
  {
   "cell_type": "markdown",
   "id": "cc9b4716",
   "metadata": {},
   "source": [
    "## basics"
   ]
  },
  {
   "cell_type": "markdown",
   "id": "54f14abd",
   "metadata": {},
   "source": [
    "- 伪多线程 ？？\n",
    "    - 因为全局解释器锁（GIL：Global Interpreter Lock）的存在\n",
    "\n",
    "- 有了多线程之后，阅读分析代码就不再是串行阻塞的了；"
   ]
  },
  {
   "cell_type": "markdown",
   "id": "90106430",
   "metadata": {},
   "source": [
    "## 一个实例"
   ]
  },
  {
   "cell_type": "code",
   "execution_count": null,
   "id": "deaaa1e7",
   "metadata": {
    "ExecuteTime": {
     "end_time": "2023-06-07T13:25:24.940656Z",
     "start_time": "2023-06-07T13:25:24.926100Z"
    }
   },
   "outputs": [],
   "source": [
    "import threading\n",
    "import time"
   ]
  },
  {
   "cell_type": "code",
   "execution_count": null,
   "id": "6e365a2c",
   "metadata": {
    "ExecuteTime": {
     "end_time": "2023-06-07T13:19:43.081507Z",
     "start_time": "2023-06-07T13:19:43.077301Z"
    }
   },
   "outputs": [],
   "source": [
    "done = False"
   ]
  },
  {
   "cell_type": "code",
   "execution_count": null,
   "id": "040eddb7",
   "metadata": {
    "ExecuteTime": {
     "end_time": "2023-06-07T13:11:31.746536Z",
     "start_time": "2023-06-07T13:11:31.741423Z"
    }
   },
   "outputs": [],
   "source": [
    "def work():\n",
    "    counter = 0\n",
    "    while not done:\n",
    "        time.sleep(1)\n",
    "        counter += 1\n",
    "        print(counter)"
   ]
  },
  {
   "cell_type": "code",
   "execution_count": null,
   "id": "28fbb3a8",
   "metadata": {
    "ExecuteTime": {
     "end_time": "2023-06-07T13:11:37.371140Z",
     "start_time": "2023-06-07T13:11:32.862303Z"
    }
   },
   "outputs": [],
   "source": [
    "work()"
   ]
  },
  {
   "cell_type": "code",
   "execution_count": null,
   "id": "f585c607",
   "metadata": {
    "ExecuteTime": {
     "end_time": "2023-06-07T13:13:57.690265Z",
     "start_time": "2023-06-07T13:13:54.282609Z"
    }
   },
   "outputs": [],
   "source": [
    "threading.Thread(target=work, ).start()\n",
    "input('Press enter to quit')\n",
    "done = True"
   ]
  },
  {
   "cell_type": "markdown",
   "id": "a896e240",
   "metadata": {},
   "source": [
    "### 带参数，多个线程"
   ]
  },
  {
   "cell_type": "code",
   "execution_count": null,
   "id": "2a101403",
   "metadata": {
    "ExecuteTime": {
     "end_time": "2023-06-07T13:25:28.195179Z",
     "start_time": "2023-06-07T13:25:28.188328Z"
    }
   },
   "outputs": [],
   "source": [
    "def work(text):\n",
    "    counter = 0\n",
    "    while True:\n",
    "        time.sleep(1)\n",
    "        counter += 1\n",
    "        print(f'{text}: {counter}')"
   ]
  },
  {
   "cell_type": "code",
   "execution_count": null,
   "id": "b3b8c3bf",
   "metadata": {
    "ExecuteTime": {
     "end_time": "2023-06-07T13:19:46.200207Z",
     "start_time": "2023-06-07T13:19:46.192145Z"
    },
    "scrolled": true
   },
   "outputs": [],
   "source": [
    "threading.Thread(target=work, args=('ABC', )).start()\n",
    "threading.Thread(target=work, args=('XYZ', )).start()\n",
    "# threading.Thread(target=work, daemon=True, args=('ABC', )).start()\n",
    "# threading.Thread(target=work, daemon=True, args=('XYZ', )).start()"
   ]
  },
  {
   "cell_type": "markdown",
   "id": "23530a21",
   "metadata": {},
   "source": [
    "### `threading.active_count()`"
   ]
  },
  {
   "cell_type": "code",
   "execution_count": null,
   "id": "92de2b11",
   "metadata": {
    "ExecuteTime": {
     "end_time": "2023-06-07T13:26:14.209986Z",
     "start_time": "2023-06-07T13:26:14.200521Z"
    }
   },
   "outputs": [],
   "source": [
    "t = threading.Thread(target=work, args=('test', ))\n",
    "t.start()\n",
    "print('active_count: ', threading.active_count())"
   ]
  },
  {
   "cell_type": "markdown",
   "id": "31b5ec58",
   "metadata": {},
   "source": [
    "## `join`该同步时要同步"
   ]
  },
  {
   "cell_type": "code",
   "execution_count": 3,
   "id": "b9255e95",
   "metadata": {
    "ExecuteTime": {
     "end_time": "2023-06-07T13:38:47.383240Z",
     "start_time": "2023-06-07T13:38:39.227914Z"
    }
   },
   "outputs": [
    {
     "name": "stdout",
     "output_type": "stream",
     "text": [
      "t1:0\n",
      "t1:1\n",
      "t1:2\n",
      "t2:0\n",
      "t2:1\n",
      "t2:2\n",
      "t2:3\n",
      "t2:4\n",
      "['t1:0', 't1:1', 't1:2', 't2:0', 't2:1', 't2:2', 't2:3', 't2:4']\n"
     ]
    }
   ],
   "source": [
    "!python join.py"
   ]
  },
  {
   "cell_type": "markdown",
   "id": "a0bac00e",
   "metadata": {},
   "source": [
    "## `thread.run()` 与 `thread.start()`"
   ]
  }
 ],
 "metadata": {
  "kernelspec": {
   "display_name": "Python 3 (ipykernel)",
   "language": "python",
   "name": "python3"
  },
  "language_info": {
   "codemirror_mode": {
    "name": "ipython",
    "version": 3
   },
   "file_extension": ".py",
   "mimetype": "text/x-python",
   "name": "python",
   "nbconvert_exporter": "python",
   "pygments_lexer": "ipython3",
   "version": "3.10.9"
  },
  "toc": {
   "base_numbering": 1,
   "nav_menu": {},
   "number_sections": true,
   "sideBar": true,
   "skip_h1_title": false,
   "title_cell": "Table of Contents",
   "title_sidebar": "Contents",
   "toc_cell": false,
   "toc_position": {},
   "toc_section_display": true,
   "toc_window_display": false
  }
 },
 "nbformat": 4,
 "nbformat_minor": 5
}
