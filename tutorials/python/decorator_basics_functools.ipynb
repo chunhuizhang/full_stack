{
 "cells": [
  {
   "cell_type": "markdown",
   "id": "908e4d7e",
   "metadata": {},
   "source": [
    "- 一种 wrapper、装饰器设计模式\n",
    "    - 这种 wrapper 一般是一种非常轻量，非常 utils 的适配，比如监控函数执行的时间；\n",
    "    - 内部函数（wrapper/inner）是为被装饰的函数对象增加一些额外的属性（additional features）\n",
    "- 装饰器\n",
    "    - 函数装饰器（function decorator），装饰一个函数\n",
    "    - 类装饰器（class decorator），装饰一个类\n",
    "        - 类内部的成员函数也可以有（method decorator）\n",
    "- 装饰器形式上是一个函数（或者一个支持 `__call__`的对象），接受一个函数对象，返回一个函数对象；\n",
    "    - 使用上，可以通过 `@`注解来使用；"
   ]
  },
  {
   "cell_type": "markdown",
   "id": "5e20fc5b",
   "metadata": {},
   "source": [
    "## 函数（对象）作为一等公民"
   ]
  },
  {
   "cell_type": "markdown",
   "id": "6ef5b9b8",
   "metadata": {},
   "source": [
    "### 函数作为对象"
   ]
  },
  {
   "cell_type": "code",
   "execution_count": 2,
   "id": "b19b08e2",
   "metadata": {
    "ExecuteTime": {
     "end_time": "2023-08-13T02:47:10.729568Z",
     "start_time": "2023-08-13T02:47:10.721236Z"
    }
   },
   "outputs": [
    {
     "name": "stdout",
     "output_type": "stream",
     "text": [
      "3\n",
      "12\n"
     ]
    }
   ],
   "source": [
    "def compose(f, g, x):\n",
    "    return f(g(x))\n",
    "compose(print, len, [1, 2, 3])\n",
    "compose(print, len, 'hello world!')"
   ]
  },
  {
   "cell_type": "markdown",
   "id": "94eba57c",
   "metadata": {},
   "source": [
    "### 嵌套函数"
   ]
  },
  {
   "cell_type": "code",
   "execution_count": 15,
   "id": "d016987c",
   "metadata": {
    "ExecuteTime": {
     "end_time": "2023-08-13T02:50:42.320205Z",
     "start_time": "2023-08-13T02:50:42.310547Z"
    }
   },
   "outputs": [
    {
     "data": {
      "text/plain": [
       "8"
      ]
     },
     "execution_count": 15,
     "metadata": {},
     "output_type": "execute_result"
    }
   ],
   "source": [
    "import random\n",
    "def random_power():\n",
    "    # f, g, h: nested functions\n",
    "    def f(x):\n",
    "        return x**2\n",
    "    def g(x):\n",
    "        return x**3\n",
    "    def h(x):\n",
    "        return x**4\n",
    "    funcs = [f, g, h]\n",
    "    return random.choice(funcs, )\n",
    "random_power()(2)"
   ]
  },
  {
   "cell_type": "markdown",
   "id": "079c0063",
   "metadata": {},
   "source": [
    "## 一个示例"
   ]
  },
  {
   "cell_type": "code",
   "execution_count": 23,
   "id": "b5fdb638",
   "metadata": {
    "ExecuteTime": {
     "end_time": "2023-08-13T02:55:31.902748Z",
     "start_time": "2023-08-13T02:55:29.183382Z"
    }
   },
   "outputs": [],
   "source": [
    "import time\n",
    "def worker1():\n",
    "    time.sleep(1.5)\n",
    "def worker2():\n",
    "    time.sleep(1.2)\n",
    "worker1()\n",
    "worker2()"
   ]
  },
  {
   "cell_type": "code",
   "execution_count": 34,
   "id": "aba1c7b5",
   "metadata": {
    "ExecuteTime": {
     "end_time": "2023-08-13T04:10:13.523145Z",
     "start_time": "2023-08-13T04:10:13.517118Z"
    }
   },
   "outputs": [],
   "source": [
    "def tictoc(func):\n",
    "    # nested function\n",
    "    def wrapper():\n",
    "        t1 = time.time()\n",
    "        func()\n",
    "        t2 = time.time()\n",
    "        print(f'{func.__name__} Took {t2-t1} seconds')\n",
    "    return wrapper"
   ]
  },
  {
   "cell_type": "code",
   "execution_count": 15,
   "id": "9e9a7124",
   "metadata": {
    "ExecuteTime": {
     "end_time": "2023-08-12T13:31:26.276827Z",
     "start_time": "2023-08-12T13:31:23.556305Z"
    }
   },
   "outputs": [
    {
     "name": "stdout",
     "output_type": "stream",
     "text": [
      "worker1 Took 1.5075592994689941 seconds\n",
      "worker2 Took 1.2060627937316895 seconds\n"
     ]
    }
   ],
   "source": [
    "@tictoc\n",
    "def worker1():\n",
    "    time.sleep(1.5)\n",
    "@tictoc\n",
    "def worker2():\n",
    "    time.sleep(1.2)\n",
    "worker1()\n",
    "worker2()"
   ]
  },
  {
   "cell_type": "code",
   "execution_count": 13,
   "id": "70caed33",
   "metadata": {
    "ExecuteTime": {
     "end_time": "2023-08-12T13:30:55.329585Z",
     "start_time": "2023-08-12T13:30:53.816095Z"
    }
   },
   "outputs": [
    {
     "name": "stdout",
     "output_type": "stream",
     "text": [
      "<function worker1 at 0x7fe1bf786680> Took 1.507561445236206 seconds\n"
     ]
    }
   ],
   "source": [
    "def worker1():\n",
    "    time.sleep(1.5)\n",
    "tictoc(worker1)()"
   ]
  },
  {
   "cell_type": "markdown",
   "id": "357c1c3e",
   "metadata": {},
   "source": [
    "## 带参数, 返回值"
   ]
  },
  {
   "cell_type": "code",
   "execution_count": 16,
   "id": "3724cbf7",
   "metadata": {
    "ExecuteTime": {
     "end_time": "2023-08-13T02:53:47.939927Z",
     "start_time": "2023-08-13T02:53:47.934091Z"
    }
   },
   "outputs": [],
   "source": [
    "def prime_factorizaton(n):\n",
    "    factors = []\n",
    "    divisor = 2\n",
    "    while n > 1:\n",
    "        while n % divisor == 0:\n",
    "            factors.append(divisor)\n",
    "            n //= divisor \n",
    "        divisor += 1\n",
    "    return factors"
   ]
  },
  {
   "cell_type": "code",
   "execution_count": 19,
   "id": "97701247",
   "metadata": {
    "ExecuteTime": {
     "end_time": "2023-08-13T02:54:16.170646Z",
     "start_time": "2023-08-13T02:54:16.159811Z"
    },
    "scrolled": true
   },
   "outputs": [
    {
     "data": {
      "text/plain": [
       "[3, 41]"
      ]
     },
     "execution_count": 19,
     "metadata": {},
     "output_type": "execute_result"
    }
   ],
   "source": [
    "prime_factorizaton(123)"
   ]
  },
  {
   "cell_type": "code",
   "execution_count": 40,
   "id": "03944a69",
   "metadata": {
    "ExecuteTime": {
     "end_time": "2023-08-13T04:13:05.057199Z",
     "start_time": "2023-08-13T04:13:05.051400Z"
    }
   },
   "outputs": [],
   "source": [
    "def timer(func):\n",
    "    def wrapper(*args, **kwargs):\n",
    "        t1 = time.time()\n",
    "        \n",
    "        # 核心调用\n",
    "        results = func(*args, **kwargs)\n",
    "        \n",
    "        t2 = time.time()\n",
    "        print(f'{func.__name__} Took {t2-t1} seconds')\n",
    "        return results\n",
    "    return wrapper"
   ]
  },
  {
   "cell_type": "code",
   "execution_count": 44,
   "id": "9ddcc1a2",
   "metadata": {
    "ExecuteTime": {
     "end_time": "2023-08-13T04:13:26.032297Z",
     "start_time": "2023-08-13T04:13:26.024937Z"
    }
   },
   "outputs": [],
   "source": [
    "def prime_factorizaton(n):\n",
    "    factors = []\n",
    "    divisor = 2\n",
    "    while n > 1:\n",
    "        while n % divisor == 0:\n",
    "            factors.append(divisor)\n",
    "            n //= divisor \n",
    "        divisor += 1\n",
    "    return factors"
   ]
  },
  {
   "cell_type": "code",
   "execution_count": 45,
   "id": "e7da9ac4",
   "metadata": {
    "ExecuteTime": {
     "end_time": "2023-08-13T04:13:53.393152Z",
     "start_time": "2023-08-13T04:13:53.075612Z"
    }
   },
   "outputs": [
    {
     "name": "stdout",
     "output_type": "stream",
     "text": [
      "prime_factorizaton Took 0.31031084060668945 seconds\n"
     ]
    },
    {
     "data": {
      "text/plain": [
       "[3, 59, 3033169]"
      ]
     },
     "execution_count": 45,
     "metadata": {},
     "output_type": "execute_result"
    }
   ],
   "source": [
    "timer(prime_factorizaton)(n=2**29+1)"
   ]
  },
  {
   "cell_type": "code",
   "execution_count": 46,
   "id": "0fac8d72",
   "metadata": {
    "ExecuteTime": {
     "end_time": "2023-08-13T04:14:10.631223Z",
     "start_time": "2023-08-13T04:14:10.624409Z"
    }
   },
   "outputs": [],
   "source": [
    "@timer\n",
    "def prime_factorizaton(n):\n",
    "    factors = []\n",
    "    divisor = 2\n",
    "    while n > 1:\n",
    "        while n % divisor == 0:\n",
    "            factors.append(divisor)\n",
    "            n //= divisor \n",
    "        divisor += 1\n",
    "    return factors"
   ]
  },
  {
   "cell_type": "code",
   "execution_count": 47,
   "id": "a5d1584e",
   "metadata": {
    "ExecuteTime": {
     "end_time": "2023-08-13T04:14:18.146135Z",
     "start_time": "2023-08-13T04:14:17.840748Z"
    }
   },
   "outputs": [
    {
     "name": "stdout",
     "output_type": "stream",
     "text": [
      "prime_factorizaton Took 0.29935526847839355 seconds\n"
     ]
    },
    {
     "data": {
      "text/plain": [
       "[3, 59, 3033169]"
      ]
     },
     "execution_count": 47,
     "metadata": {},
     "output_type": "execute_result"
    }
   ],
   "source": [
    "factors = prime_factorizaton(n=2**29+1)\n",
    "factors"
   ]
  },
  {
   "cell_type": "markdown",
   "id": "4d16e77d",
   "metadata": {},
   "source": [
    "## `functools`"
   ]
  },
  {
   "cell_type": "markdown",
   "id": "9edd3b6a",
   "metadata": {},
   "source": [
    "- `*args, **kwargs`：兼容所有参数\n",
    "\n",
    "    ```\n",
    "    def decorator(func):\n",
    "        def nested_inner_func(*args, **kwargs):\n",
    "            ...\n",
    "            results = func(*args, **kwargs)\n",
    "            ...\n",
    "            return results\n",
    "        return nested_inner_func\n",
    "\n",
    "    @decorator\n",
    "    def f(x):\n",
    "        ...\n",
    "\n",
    "    decorator(f)(x)\n",
    "\n",
    "    ```"
   ]
  },
  {
   "cell_type": "code",
   "execution_count": 48,
   "id": "913e48a1",
   "metadata": {
    "ExecuteTime": {
     "end_time": "2023-08-13T04:21:57.338590Z",
     "start_time": "2023-08-13T04:21:57.331887Z"
    },
    "scrolled": true
   },
   "outputs": [
    {
     "name": "stdout",
     "output_type": "stream",
     "text": [
      "GenericAlias\n",
      "RLock\n",
      "WRAPPER_ASSIGNMENTS\n",
      "WRAPPER_UPDATES\n",
      "cache\n",
      "cached_property\n",
      "cmp_to_key\n",
      "get_cache_token\n",
      "lru_cache\n",
      "namedtuple\n",
      "partial\n",
      "partialmethod\n",
      "recursive_repr\n",
      "reduce\n",
      "singledispatch\n",
      "singledispatchmethod\n",
      "total_ordering\n",
      "update_wrapper\n",
      "wraps\n"
     ]
    }
   ],
   "source": [
    "import functools\n",
    "for f in dir(functools):\n",
    "    if f.startswith('_'):\n",
    "        continue\n",
    "    print(f)"
   ]
  },
  {
   "cell_type": "code",
   "execution_count": 58,
   "id": "1d9118f4",
   "metadata": {
    "ExecuteTime": {
     "end_time": "2023-08-13T04:27:34.425148Z",
     "start_time": "2023-08-13T04:27:34.416331Z"
    }
   },
   "outputs": [
    {
     "name": "stdout",
     "output_type": "stream",
     "text": [
      "args=('a', 1, 'hello'), kwargs={'n': 100, 'name': 'zhang'}\n"
     ]
    }
   ],
   "source": [
    "def func_args(*args, **kwargs):\n",
    "    ''' view all args '''\n",
    "    print(f'args={args}, kwargs={kwargs}')\n",
    "func_args('a', 1, 'hello', n=100, name='zhang')"
   ]
  },
  {
   "cell_type": "code",
   "execution_count": 59,
   "id": "3de99bcf",
   "metadata": {
    "ExecuteTime": {
     "end_time": "2023-08-13T04:27:35.557773Z",
     "start_time": "2023-08-13T04:27:35.548207Z"
    }
   },
   "outputs": [
    {
     "data": {
      "text/plain": [
       "'func_args'"
      ]
     },
     "execution_count": 59,
     "metadata": {},
     "output_type": "execute_result"
    }
   ],
   "source": [
    "func_args.__name__"
   ]
  },
  {
   "cell_type": "code",
   "execution_count": 60,
   "id": "827484c1",
   "metadata": {
    "ExecuteTime": {
     "end_time": "2023-08-13T04:27:40.428196Z",
     "start_time": "2023-08-13T04:27:40.421656Z"
    }
   },
   "outputs": [
    {
     "data": {
      "text/plain": [
       "' view all args '"
      ]
     },
     "execution_count": 60,
     "metadata": {},
     "output_type": "execute_result"
    }
   ],
   "source": [
    "func_args.__doc__"
   ]
  },
  {
   "cell_type": "code",
   "execution_count": 61,
   "id": "9a323865",
   "metadata": {
    "ExecuteTime": {
     "end_time": "2023-08-13T04:28:30.000439Z",
     "start_time": "2023-08-13T04:28:29.991309Z"
    }
   },
   "outputs": [],
   "source": [
    "def do_nothing(f):\n",
    "    def inner(*args, **kwargs):\n",
    "        return f(*args, **kwargs)\n",
    "    return inner\n",
    "@do_nothing\n",
    "def func_args(*args, **kwargs):\n",
    "    ''' view all args '''\n",
    "    print(f'args={args}, kwargs={kwargs}')"
   ]
  },
  {
   "cell_type": "code",
   "execution_count": 64,
   "id": "f2d62a20",
   "metadata": {
    "ExecuteTime": {
     "end_time": "2023-08-13T04:28:52.221351Z",
     "start_time": "2023-08-13T04:28:52.213999Z"
    }
   },
   "outputs": [
    {
     "name": "stdout",
     "output_type": "stream",
     "text": [
      "inner\n",
      "None\n"
     ]
    }
   ],
   "source": [
    "print(func_args.__name__)\n",
    "print(func_args.__doc__)"
   ]
  },
  {
   "cell_type": "markdown",
   "id": "bd8fb285",
   "metadata": {},
   "source": [
    "### `functools.wraps`"
   ]
  },
  {
   "cell_type": "code",
   "execution_count": 66,
   "id": "04249263",
   "metadata": {
    "ExecuteTime": {
     "end_time": "2023-08-13T04:29:19.264423Z",
     "start_time": "2023-08-13T04:29:19.252887Z"
    }
   },
   "outputs": [
    {
     "name": "stdout",
     "output_type": "stream",
     "text": [
      "func_args\n",
      " view all args \n"
     ]
    }
   ],
   "source": [
    "from functools import wraps\n",
    "def do_nothing(f):\n",
    "    @wraps(f)\n",
    "    def inner(*args, **kwargs):\n",
    "        return f(*args, **kwargs)\n",
    "    return inner\n",
    "@do_nothing\n",
    "def func_args(*args, **kwargs):\n",
    "    ''' view all args '''\n",
    "    print(f'args={args}, kwargs={kwargs}')\n",
    "print(func_args.__name__)\n",
    "print(func_args.__doc__)"
   ]
  },
  {
   "cell_type": "markdown",
   "id": "1cf87c53",
   "metadata": {},
   "source": [
    "### `functools.cache`"
   ]
  },
  {
   "cell_type": "code",
   "execution_count": 68,
   "id": "ed8e9c48",
   "metadata": {
    "ExecuteTime": {
     "end_time": "2023-08-13T04:37:14.294862Z",
     "start_time": "2023-08-13T04:37:14.283691Z"
    }
   },
   "outputs": [],
   "source": [
    "from functools import cache\n",
    "\n",
    "@cache\n",
    "def fibonacci(n):\n",
    "    # starts from 1, 1, \n",
    "    if n <= 2:\n",
    "        return 1\n",
    "    return fibonacci(n-1) + fibonacci(n-2)\n",
    "\n",
    "import time\n",
    "def timer(f):\n",
    "    def wrapper(*args, **kwargs):\n",
    "        t1 = time.time()\n",
    "        result = f(*args, **kwargs)\n",
    "        t2 = time.time()\n",
    "        print(f'{f.__name__} took {t2 - t1} seconds')\n",
    "        return result\n",
    "    return wrapper\n",
    "\n",
    "@timer\n",
    "def global_fibonacci(n):\n",
    "    return fibonacci(n)"
   ]
  },
  {
   "cell_type": "code",
   "execution_count": 69,
   "id": "ee1024e2",
   "metadata": {
    "ExecuteTime": {
     "end_time": "2023-08-13T04:37:19.965215Z",
     "start_time": "2023-08-13T04:37:19.955121Z"
    }
   },
   "outputs": [
    {
     "name": "stdout",
     "output_type": "stream",
     "text": [
      "global_fibonacci took 7.510185241699219e-05 seconds\n"
     ]
    },
    {
     "data": {
      "text/plain": [
       "102334155"
      ]
     },
     "execution_count": 69,
     "metadata": {},
     "output_type": "execute_result"
    }
   ],
   "source": [
    "global_fibonacci(40)"
   ]
  }
 ],
 "metadata": {
  "kernelspec": {
   "display_name": "Python 3 (ipykernel)",
   "language": "python",
   "name": "python3"
  },
  "language_info": {
   "codemirror_mode": {
    "name": "ipython",
    "version": 3
   },
   "file_extension": ".py",
   "mimetype": "text/x-python",
   "name": "python",
   "nbconvert_exporter": "python",
   "pygments_lexer": "ipython3",
   "version": "3.10.9"
  },
  "toc": {
   "base_numbering": 1,
   "nav_menu": {},
   "number_sections": true,
   "sideBar": true,
   "skip_h1_title": false,
   "title_cell": "Table of Contents",
   "title_sidebar": "Contents",
   "toc_cell": false,
   "toc_position": {},
   "toc_section_display": true,
   "toc_window_display": false
  }
 },
 "nbformat": 4,
 "nbformat_minor": 5
}
