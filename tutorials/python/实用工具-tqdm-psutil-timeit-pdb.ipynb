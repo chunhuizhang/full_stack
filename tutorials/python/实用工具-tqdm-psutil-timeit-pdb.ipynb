{
 "cells": [
  {
   "cell_type": "markdown",
   "id": "b10c6bc4",
   "metadata": {},
   "source": [
    "## pdb"
   ]
  },
  {
   "cell_type": "markdown",
   "id": "d03483fb",
   "metadata": {},
   "source": [
    "- `python -m pdb xx.py`\n",
    "    - `n`：next\n",
    "    - `c`：continue\n",
    "    - `u`：up\n",
    "    - `d`：down\n",
    "    - `p var_name`：打印变量名\n",
    "    - `q`：退出\n",
    "    \n",
    "- `xx.py`文件中\n",
    "\n",
    "    ```\n",
    "    import pdb\n",
    "\n",
    "    pdb.set_trace()\n",
    "    ```\n",
    "    - 此时不需要 `python -m pdb` 的方式执行"
   ]
  },
  {
   "cell_type": "markdown",
   "id": "5fee34b1",
   "metadata": {},
   "source": [
    "## tqdm"
   ]
  },
  {
   "cell_type": "markdown",
   "id": "006ab8d1",
   "metadata": {},
   "source": [
    "- `tqdm(ids, desc='Downloading video data for Social-IQ 2.0 Dataset')`\n",
    "    - `desc` 参数内容：显示在（红色）进度条的左侧提示；\n",
    "    - `for epoch in tqdm(range(ppo_trainer.config.ppo_epochs), \"epoch: \"):`\n",
    "- `tqdm(zip(range(500), iter(dataset)), total=500)`\n",
    "    ```\n",
    "    for _, example in tqdm(zip(range(500), iter(dataset)), total=500):\n",
    "    ```\n",
    "- 双重 for loop\n",
    "\n",
    "    ```\n",
    "    from tqdm import tqdm\n",
    "    # from tqdm.auto import tqdm  # notebook compatible\n",
    "    import time\n",
    "    for i1 in tqdm(range(5)):\n",
    "        for i2 in tqdm(range(300), leave=False):\n",
    "            # do something, e.g. sleep\n",
    "            time.sleep(0.01)\n",
    "            \n",
    "    # 外层循环：epochs\n",
    "    for epoch in tqdm(range(30), desc='Epochs'):\n",
    "        # 内层循环：batch steps within an epoch\n",
    "        for step, batch in tqdm(enumerate(train_dataloader), total=len(train_dataloader), leave=False, desc=f'Epoch {epoch+1}'):\n",
    "            # 这里执行你的训练步骤\n",
    "            # 例如：model_pred = unet(noisy_image_batch, timesteps).sample\n",
    "        pass\n",
    "    ```\n",
    "- `tqdm.pandas()`"
   ]
  },
  {
   "cell_type": "markdown",
   "id": "65fa5d61",
   "metadata": {},
   "source": [
    "- 针对 notebook 定制的优化\n",
    "\n",
    "    ```\n",
    "    from tqdm.notebook import tqdm\n",
    "    ```"
   ]
  },
  {
   "cell_type": "markdown",
   "id": "db5c6632",
   "metadata": {},
   "source": [
    "## psutil"
   ]
  },
  {
   "cell_type": "markdown",
   "id": "c16fd18a",
   "metadata": {},
   "source": [
    "- 内存占用\n",
    "    - `f{psutil.Process().memory_info().rss / (1024**2):.2f} MB`\n",
    "        - `psutil.Process().memory_info().rss`：返回当前进程所占内存（bytes）"
   ]
  },
  {
   "cell_type": "markdown",
   "id": "d56402d4",
   "metadata": {},
   "source": [
    "## timeit"
   ]
  },
  {
   "cell_type": "markdown",
   "id": "c5277cfa",
   "metadata": {},
   "source": [
    "- `number`: 表示执行的次数，最终的 duration 是总时间（duration/number：则表示平均时间）\n",
    "\n",
    "\n",
    "```\n",
    "import timeit\n",
    "code_snippet = '''batch_size = 20000\n",
    "for idx in tqdm(range(0, len(large_dataset), batch_size)):\n",
    "    _ = large_dataset[idx: idx+batch_size]\n",
    "'''\n",
    "duration = timeit.timeit(stmt=code_snippet, number=2, globals=globals())\n",
    "```"
   ]
  }
 ],
 "metadata": {
  "kernelspec": {
   "display_name": "Python 3 (ipykernel)",
   "language": "python",
   "name": "python3"
  },
  "language_info": {
   "codemirror_mode": {
    "name": "ipython",
    "version": 3
   },
   "file_extension": ".py",
   "mimetype": "text/x-python",
   "name": "python",
   "nbconvert_exporter": "python",
   "pygments_lexer": "ipython3",
   "version": "3.10.13"
  },
  "toc": {
   "base_numbering": 1,
   "nav_menu": {},
   "number_sections": true,
   "sideBar": true,
   "skip_h1_title": false,
   "title_cell": "Table of Contents",
   "title_sidebar": "Contents",
   "toc_cell": false,
   "toc_position": {},
   "toc_section_display": true,
   "toc_window_display": false
  }
 },
 "nbformat": 4,
 "nbformat_minor": 5
}
