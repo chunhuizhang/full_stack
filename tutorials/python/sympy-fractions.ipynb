{
 "cells": [
  {
   "cell_type": "markdown",
   "id": "9cda320c",
   "metadata": {},
   "source": [
    "## fraction"
   ]
  },
  {
   "cell_type": "markdown",
   "id": "60c43611",
   "metadata": {},
   "source": [
    "- 分式化简"
   ]
  },
  {
   "cell_type": "code",
   "execution_count": 2,
   "id": "4ff99180",
   "metadata": {
    "ExecuteTime": {
     "end_time": "2023-10-08T14:12:05.546576Z",
     "start_time": "2023-10-08T14:12:05.540953Z"
    }
   },
   "outputs": [],
   "source": [
    "from fractions import Fraction"
   ]
  },
  {
   "cell_type": "code",
   "execution_count": 3,
   "id": "c007d676",
   "metadata": {
    "ExecuteTime": {
     "end_time": "2023-10-08T14:12:16.426802Z",
     "start_time": "2023-10-08T14:12:16.416840Z"
    }
   },
   "outputs": [
    {
     "data": {
      "text/plain": [
       "Fraction(13, 4)"
      ]
     },
     "execution_count": 3,
     "metadata": {},
     "output_type": "execute_result"
    }
   ],
   "source": [
    "Fraction(156, 48)"
   ]
  },
  {
   "cell_type": "markdown",
   "id": "531b8307",
   "metadata": {},
   "source": [
    "## sympy"
   ]
  },
  {
   "cell_type": "code",
   "execution_count": 7,
   "id": "b60a0777",
   "metadata": {
    "ExecuteTime": {
     "end_time": "2023-10-08T14:14:15.841663Z",
     "start_time": "2023-10-08T14:14:15.838876Z"
    }
   },
   "outputs": [],
   "source": [
    "from sympy import symbols"
   ]
  },
  {
   "cell_type": "code",
   "execution_count": 11,
   "id": "6ecfc2c4",
   "metadata": {
    "ExecuteTime": {
     "end_time": "2023-10-08T14:15:22.125405Z",
     "start_time": "2023-10-08T14:15:22.119513Z"
    }
   },
   "outputs": [],
   "source": [
    "x = symbols('x')\n",
    "# x, y, z = symbols('x y z')"
   ]
  },
  {
   "cell_type": "markdown",
   "id": "072d2416",
   "metadata": {},
   "source": [
    "### jacobian & hessian"
   ]
  },
  {
   "cell_type": "code",
   "execution_count": 3,
   "id": "4b17e4ab",
   "metadata": {
    "ExecuteTime": {
     "end_time": "2024-02-14T11:46:55.276616Z",
     "start_time": "2024-02-14T11:46:55.267105Z"
    }
   },
   "outputs": [],
   "source": [
    "from sympy import Matrix, Function, hessian, init_printing\n",
    "from sympy.abc import x, y\n",
    "init_printing()"
   ]
  },
  {
   "cell_type": "code",
   "execution_count": 5,
   "id": "ede4fe4a",
   "metadata": {
    "ExecuteTime": {
     "end_time": "2024-02-14T11:47:31.446049Z",
     "start_time": "2024-02-14T11:47:30.971442Z"
    }
   },
   "outputs": [
    {
     "data": {
      "image/png": "[encoded data removed]",
      "text/latex": [
       "$\\displaystyle \\left[\\begin{matrix}f{\\left(x,y \\right)}\\end{matrix}\\right]$"
      ],
      "text/plain": [
       "[f(x, y)]"
      ]
     },
     "execution_count": 5,
     "metadata": {},
     "output_type": "execute_result"
    }
   ],
   "source": [
    "a = Matrix([Function('f')(x, y)])\n",
    "a"
   ]
  },
  {
   "cell_type": "code",
   "execution_count": 6,
   "id": "88e691fd",
   "metadata": {
    "ExecuteTime": {
     "end_time": "2024-02-14T11:47:42.832826Z",
     "start_time": "2024-02-14T11:47:42.383745Z"
    }
   },
   "outputs": [
    {
     "data": {
      "image/png": "[encoded data removed]",
      "text/latex": [
       "$\\displaystyle \\left[\\begin{matrix}\\frac{\\partial}{\\partial x} f{\\left(x,y \\right)} & \\frac{\\partial}{\\partial y} f{\\left(x,y \\right)}\\end{matrix}\\right]$"
      ],
      "text/plain": [
       "⎡∂            ∂          ⎤\n",
       "⎢──(f(x, y))  ──(f(x, y))⎥\n",
       "⎣∂x           ∂y         ⎦"
      ]
     },
     "execution_count": 6,
     "metadata": {},
     "output_type": "execute_result"
    }
   ],
   "source": [
    "a.jacobian(Matrix([x, y]))"
   ]
  },
  {
   "cell_type": "code",
   "execution_count": 8,
   "id": "80e24daf",
   "metadata": {
    "ExecuteTime": {
     "end_time": "2024-02-14T11:48:57.576196Z",
     "start_time": "2024-02-14T11:48:57.138218Z"
    }
   },
   "outputs": [
    {
     "data": {
      "image/png": "[encoded data removed]",
      "text/latex": [
       "$\\displaystyle f{\\left(x,y \\right)}$"
      ],
      "text/plain": [
       "f(x, y)"
      ]
     },
     "execution_count": 8,
     "metadata": {},
     "output_type": "execute_result"
    }
   ],
   "source": [
    "f = Function('f')(x, y)\n",
    "f"
   ]
  },
  {
   "cell_type": "code",
   "execution_count": 10,
   "id": "f610c323",
   "metadata": {
    "ExecuteTime": {
     "end_time": "2024-02-14T11:49:12.090086Z",
     "start_time": "2024-02-14T11:49:11.612177Z"
    }
   },
   "outputs": [
    {
     "data": {
      "image/png": "[encoded data removed]",
      "text/latex": [
       "$\\displaystyle \\left[\\begin{matrix}\\frac{\\partial^{2}}{\\partial x^{2}} f{\\left(x,y \\right)} & \\frac{\\partial^{2}}{\\partial y\\partial x} f{\\left(x,y \\right)}\\\\\\frac{\\partial^{2}}{\\partial y\\partial x} f{\\left(x,y \\right)} & \\frac{\\partial^{2}}{\\partial y^{2}} f{\\left(x,y \\right)}\\end{matrix}\\right]$"
      ],
      "text/plain": [
       "⎡   2               2          ⎤\n",
       "⎢  ∂               ∂           ⎥\n",
       "⎢ ───(f(x, y))   ─────(f(x, y))⎥\n",
       "⎢   2            ∂y ∂x         ⎥\n",
       "⎢ ∂x                           ⎥\n",
       "⎢                              ⎥\n",
       "⎢   2               2          ⎥\n",
       "⎢  ∂               ∂           ⎥\n",
       "⎢─────(f(x, y))   ───(f(x, y)) ⎥\n",
       "⎢∂y ∂x              2          ⎥\n",
       "⎣                 ∂y           ⎦"
      ]
     },
     "execution_count": 10,
     "metadata": {},
     "output_type": "execute_result"
    }
   ],
   "source": [
    "hessian(f, [x, y])"
   ]
  },
  {
   "cell_type": "code",
   "execution_count": 11,
   "id": "4faae0e2",
   "metadata": {
    "ExecuteTime": {
     "end_time": "2024-02-14T11:54:47.864922Z",
     "start_time": "2024-02-14T11:54:47.333004Z"
    }
   },
   "outputs": [
    {
     "data": {
      "image/png": "[encoded data removed]",
      "text/latex": [
       "$\\displaystyle \\left[\\begin{matrix}2\\end{matrix}\\right]$"
      ],
      "text/plain": [
       "[2]"
      ]
     },
     "execution_count": 11,
     "metadata": {},
     "output_type": "execute_result"
    }
   ],
   "source": [
    "f = x**2\n",
    "hessian(f, [x])"
   ]
  },
  {
   "cell_type": "code",
   "execution_count": 12,
   "id": "8f3eff97",
   "metadata": {
    "ExecuteTime": {
     "end_time": "2024-02-14T11:54:54.986631Z",
     "start_time": "2024-02-14T11:54:54.521132Z"
    }
   },
   "outputs": [
    {
     "data": {
      "image/png": "[encoded data removed]",
      "text/latex": [
       "$\\displaystyle \\left[\\begin{matrix}-2\\end{matrix}\\right]$"
      ],
      "text/plain": [
       "[-2]"
      ]
     },
     "execution_count": 12,
     "metadata": {},
     "output_type": "execute_result"
    }
   ],
   "source": [
    "f = -x**2\n",
    "hessian(f, [x])"
   ]
  },
  {
   "cell_type": "markdown",
   "id": "b640ed94",
   "metadata": {},
   "source": [
    "### jacobian"
   ]
  },
  {
   "cell_type": "code",
   "execution_count": 16,
   "id": "8b96ea8d",
   "metadata": {
    "ExecuteTime": {
     "end_time": "2024-02-14T12:08:35.093103Z",
     "start_time": "2024-02-14T12:08:34.481153Z"
    }
   },
   "outputs": [
    {
     "data": {
      "image/png": "[encoded data removed]",
      "text/latex": [
       "$\\displaystyle \\left[\\begin{matrix}2 x & 2 y\\end{matrix}\\right]$"
      ],
      "text/plain": [
       "[2⋅x  2⋅y]"
      ]
     },
     "execution_count": 16,
     "metadata": {},
     "output_type": "execute_result"
    }
   ],
   "source": [
    "f = x**2 + y**2\n",
    "multi_f = Matrix([f, ])\n",
    "multi_f.jacobian([x, y])"
   ]
  },
  {
   "cell_type": "markdown",
   "id": "a67c11fa",
   "metadata": {},
   "source": [
    "### latex"
   ]
  },
  {
   "cell_type": "code",
   "execution_count": 5,
   "id": "a3efd7d7",
   "metadata": {
    "ExecuteTime": {
     "end_time": "2023-10-08T14:13:31.682138Z",
     "start_time": "2023-10-08T14:13:31.678321Z"
    }
   },
   "outputs": [],
   "source": [
    "from sympy import latex\n",
    "from sympy import Integral, sqrt"
   ]
  },
  {
   "cell_type": "code",
   "execution_count": 10,
   "id": "67dcf400",
   "metadata": {
    "ExecuteTime": {
     "end_time": "2023-10-08T14:14:59.722712Z",
     "start_time": "2023-10-08T14:14:59.717706Z"
    }
   },
   "outputs": [
    {
     "name": "stdout",
     "output_type": "stream",
     "text": [
      "\\int \\sqrt{\\frac{1}{x}}\\, dx\n"
     ]
    }
   ],
   "source": [
    "print(latex(Integral(sqrt(1/x), x)))"
   ]
  },
  {
   "cell_type": "markdown",
   "id": "920035f5",
   "metadata": {},
   "source": [
    "$$\\int \\sqrt{\\frac{1}{x}}\\, dx$$"
   ]
  },
  {
   "cell_type": "markdown",
   "id": "41f88cb0",
   "metadata": {},
   "source": [
    "### 数学计算"
   ]
  },
  {
   "cell_type": "code",
   "execution_count": 14,
   "id": "021cfea8",
   "metadata": {
    "ExecuteTime": {
     "end_time": "2023-10-14T14:01:07.471131Z",
     "start_time": "2023-10-14T14:01:07.464747Z"
    }
   },
   "outputs": [
    {
     "data": {
      "text/latex": [
       "$\\displaystyle 6$"
      ],
      "text/plain": [
       "6"
      ]
     },
     "execution_count": 14,
     "metadata": {},
     "output_type": "execute_result"
    }
   ],
   "source": [
    "from sympy import factorial\n",
    "\n",
    "factorial(3)"
   ]
  },
  {
   "cell_type": "code",
   "execution_count": 15,
   "id": "ec6a566c",
   "metadata": {
    "ExecuteTime": {
     "end_time": "2023-10-14T14:01:10.898845Z",
     "start_time": "2023-10-14T14:01:10.891899Z"
    }
   },
   "outputs": [
    {
     "data": {
      "text/latex": [
       "$\\displaystyle 120$"
      ],
      "text/plain": [
       "120"
      ]
     },
     "execution_count": 15,
     "metadata": {},
     "output_type": "execute_result"
    }
   ],
   "source": [
    "factorial(factorial(3))/factorial(3)"
   ]
  }
 ],
 "metadata": {
  "kernelspec": {
   "display_name": "Python 3 (ipykernel)",
   "language": "python",
   "name": "python3"
  },
  "language_info": {
   "codemirror_mode": {
    "name": "ipython",
    "version": 3
   },
   "file_extension": ".py",
   "mimetype": "text/x-python",
   "name": "python",
   "nbconvert_exporter": "python",
   "pygments_lexer": "ipython3",
   "version": "3.10.13"
  },
  "toc": {
   "base_numbering": 1,
   "nav_menu": {},
   "number_sections": true,
   "sideBar": true,
   "skip_h1_title": false,
   "title_cell": "Table of Contents",
   "title_sidebar": "Contents",
   "toc_cell": false,
   "toc_position": {},
   "toc_section_display": true,
   "toc_window_display": false
  }
 },
 "nbformat": 4,
 "nbformat_minor": 5
}
