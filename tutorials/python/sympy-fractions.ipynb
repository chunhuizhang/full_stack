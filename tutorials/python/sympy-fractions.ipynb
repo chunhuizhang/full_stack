{
 "cells": [
  {
   "cell_type": "markdown",
   "id": "9cda320c",
   "metadata": {},
   "source": [
    "## fraction"
   ]
  },
  {
   "cell_type": "markdown",
   "id": "60c43611",
   "metadata": {},
   "source": [
    "- 分式化简"
   ]
  },
  {
   "cell_type": "code",
   "execution_count": 2,
   "id": "4ff99180",
   "metadata": {
    "ExecuteTime": {
     "end_time": "2023-10-08T14:12:05.546576Z",
     "start_time": "2023-10-08T14:12:05.540953Z"
    }
   },
   "outputs": [],
   "source": [
    "from fractions import Fraction"
   ]
  },
  {
   "cell_type": "code",
   "execution_count": 3,
   "id": "c007d676",
   "metadata": {
    "ExecuteTime": {
     "end_time": "2023-10-08T14:12:16.426802Z",
     "start_time": "2023-10-08T14:12:16.416840Z"
    }
   },
   "outputs": [
    {
     "data": {
      "text/plain": [
       "Fraction(13, 4)"
      ]
     },
     "execution_count": 3,
     "metadata": {},
     "output_type": "execute_result"
    }
   ],
   "source": [
    "Fraction(156, 48)"
   ]
  },
  {
   "cell_type": "markdown",
   "id": "531b8307",
   "metadata": {},
   "source": [
    "## sympy"
   ]
  },
  {
   "cell_type": "code",
   "execution_count": 7,
   "id": "b60a0777",
   "metadata": {
    "ExecuteTime": {
     "end_time": "2023-10-08T14:14:15.841663Z",
     "start_time": "2023-10-08T14:14:15.838876Z"
    }
   },
   "outputs": [],
   "source": [
    "from sympy import symbols"
   ]
  },
  {
   "cell_type": "code",
   "execution_count": 11,
   "id": "6ecfc2c4",
   "metadata": {
    "ExecuteTime": {
     "end_time": "2023-10-08T14:15:22.125405Z",
     "start_time": "2023-10-08T14:15:22.119513Z"
    }
   },
   "outputs": [],
   "source": [
    "x = symbols('x')\n",
    "# x, y, z = symbols('x y z')"
   ]
  },
  {
   "cell_type": "markdown",
   "id": "a67c11fa",
   "metadata": {},
   "source": [
    "### latex"
   ]
  },
  {
   "cell_type": "code",
   "execution_count": 5,
   "id": "a3efd7d7",
   "metadata": {
    "ExecuteTime": {
     "end_time": "2023-10-08T14:13:31.682138Z",
     "start_time": "2023-10-08T14:13:31.678321Z"
    }
   },
   "outputs": [],
   "source": [
    "from sympy import latex\n",
    "from sympy import Integral, sqrt"
   ]
  },
  {
   "cell_type": "code",
   "execution_count": 10,
   "id": "67dcf400",
   "metadata": {
    "ExecuteTime": {
     "end_time": "2023-10-08T14:14:59.722712Z",
     "start_time": "2023-10-08T14:14:59.717706Z"
    }
   },
   "outputs": [
    {
     "name": "stdout",
     "output_type": "stream",
     "text": [
      "\\int \\sqrt{\\frac{1}{x}}\\, dx\n"
     ]
    }
   ],
   "source": [
    "print(latex(Integral(sqrt(1/x), x)))"
   ]
  },
  {
   "cell_type": "markdown",
   "id": "920035f5",
   "metadata": {},
   "source": [
    "$$\\int \\sqrt{\\frac{1}{x}}\\, dx$$"
   ]
  },
  {
   "cell_type": "markdown",
   "id": "41f88cb0",
   "metadata": {},
   "source": [
    "### 数学计算"
   ]
  },
  {
   "cell_type": "code",
   "execution_count": 14,
   "id": "021cfea8",
   "metadata": {
    "ExecuteTime": {
     "end_time": "2023-10-14T14:01:07.471131Z",
     "start_time": "2023-10-14T14:01:07.464747Z"
    }
   },
   "outputs": [
    {
     "data": {
      "text/latex": [
       "$\\displaystyle 6$"
      ],
      "text/plain": [
       "6"
      ]
     },
     "execution_count": 14,
     "metadata": {},
     "output_type": "execute_result"
    }
   ],
   "source": [
    "from sympy import factorial\n",
    "\n",
    "factorial(3)"
   ]
  },
  {
   "cell_type": "code",
   "execution_count": 15,
   "id": "ec6a566c",
   "metadata": {
    "ExecuteTime": {
     "end_time": "2023-10-14T14:01:10.898845Z",
     "start_time": "2023-10-14T14:01:10.891899Z"
    }
   },
   "outputs": [
    {
     "data": {
      "text/latex": [
       "$\\displaystyle 120$"
      ],
      "text/plain": [
       "120"
      ]
     },
     "execution_count": 15,
     "metadata": {},
     "output_type": "execute_result"
    }
   ],
   "source": [
    "factorial(factorial(3))/factorial(3)"
   ]
  }
 ],
 "metadata": {
  "kernelspec": {
   "display_name": "Python 3 (ipykernel)",
   "language": "python",
   "name": "python3"
  },
  "language_info": {
   "codemirror_mode": {
    "name": "ipython",
    "version": 3
   },
   "file_extension": ".py",
   "mimetype": "text/x-python",
   "name": "python",
   "nbconvert_exporter": "python",
   "pygments_lexer": "ipython3",
   "version": "3.10.9"
  },
  "toc": {
   "base_numbering": 1,
   "nav_menu": {},
   "number_sections": true,
   "sideBar": true,
   "skip_h1_title": false,
   "title_cell": "Table of Contents",
   "title_sidebar": "Contents",
   "toc_cell": false,
   "toc_position": {},
   "toc_section_display": true,
   "toc_window_display": false
  }
 },
 "nbformat": 4,
 "nbformat_minor": 5
}
