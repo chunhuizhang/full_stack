{
 "cells": [
  {
   "cell_type": "code",
   "execution_count": 1,
   "id": "4b0414d7",
   "metadata": {
    "ExecuteTime": {
     "end_time": "2024-02-13T09:08:29.356106Z",
     "start_time": "2024-02-13T09:08:29.347785Z"
    }
   },
   "outputs": [],
   "source": [
    "import inspect"
   ]
  },
  {
   "cell_type": "markdown",
   "id": "ca70a7cd",
   "metadata": {},
   "source": [
    "- 获取活动对象的信息，检测模块、类、方法、函数、tracebacks等的内部"
   ]
  },
  {
   "cell_type": "markdown",
   "id": "ec936a1f",
   "metadata": {},
   "source": [
    "### utils"
   ]
  },
  {
   "cell_type": "markdown",
   "id": "875be38f",
   "metadata": {},
   "source": [
    "### 获取和检查源代码"
   ]
  },
  {
   "cell_type": "code",
   "execution_count": 3,
   "id": "e70d1a17",
   "metadata": {
    "ExecuteTime": {
     "end_time": "2024-02-13T09:08:41.153171Z",
     "start_time": "2024-02-13T09:08:41.147285Z"
    }
   },
   "outputs": [
    {
     "data": {
      "text/plain": [
       "'def my_function():\\n    return \"Hello, World!\"\\n'"
      ]
     },
     "execution_count": 3,
     "metadata": {},
     "output_type": "execute_result"
    }
   ],
   "source": [
    "# 获取函数的源代码\n",
    "def my_function():\n",
    "    return \"Hello, World!\"\n",
    "\n",
    "source_code = inspect.getsource(my_function)\n",
    "source_code"
   ]
  },
  {
   "cell_type": "code",
   "execution_count": 4,
   "id": "1479c1d4",
   "metadata": {
    "ExecuteTime": {
     "end_time": "2024-02-13T09:08:50.037378Z",
     "start_time": "2024-02-13T09:08:50.030564Z"
    }
   },
   "outputs": [
    {
     "data": {
      "text/plain": [
       "[('method_one', <function __main__.MyClass.method_one(self)>),\n",
       " ('method_two', <function __main__.MyClass.method_two(self)>)]"
      ]
     },
     "execution_count": 4,
     "metadata": {},
     "output_type": "execute_result"
    }
   ],
   "source": [
    "# 检查类的方法\n",
    "class MyClass:\n",
    "    def method_one(self):\n",
    "        pass\n",
    "\n",
    "    def method_two(self):\n",
    "        pass\n",
    "\n",
    "methods = [member for member in inspect.getmembers(MyClass, predicate=inspect.isfunction)]\n",
    "methods"
   ]
  },
  {
   "cell_type": "markdown",
   "id": "51f86976",
   "metadata": {},
   "source": [
    "### 获取函数的参数信息\n"
   ]
  },
  {
   "cell_type": "code",
   "execution_count": 5,
   "id": "01481d28",
   "metadata": {
    "ExecuteTime": {
     "end_time": "2024-02-13T09:09:16.766425Z",
     "start_time": "2024-02-13T09:09:16.761812Z"
    }
   },
   "outputs": [
    {
     "name": "stdout",
     "output_type": "stream",
     "text": [
      "(arg1, arg2='default', *args, **kwargs)\n",
      "arg1 POSITIONAL_OR_KEYWORD <class 'inspect._empty'>\n",
      "arg2 POSITIONAL_OR_KEYWORD default\n",
      "args VAR_POSITIONAL <class 'inspect._empty'>\n",
      "kwargs VAR_KEYWORD <class 'inspect._empty'>\n"
     ]
    }
   ],
   "source": [
    "def another_function(arg1, arg2='default', *args, **kwargs):\n",
    "    pass\n",
    "\n",
    "sig = inspect.signature(another_function)\n",
    "print(sig)\n",
    "for name, param in sig.parameters.items():\n",
    "    print(name, param.kind, param.default)"
   ]
  },
  {
   "cell_type": "markdown",
   "id": "5248296e",
   "metadata": {},
   "source": [
    "### 检查 stack 信息"
   ]
  },
  {
   "cell_type": "code",
   "execution_count": 6,
   "id": "336538fd",
   "metadata": {
    "ExecuteTime": {
     "end_time": "2024-02-13T09:09:50.342466Z",
     "start_time": "2024-02-13T09:09:50.176293Z"
    }
   },
   "outputs": [
    {
     "name": "stdout",
     "output_type": "stream",
     "text": [
      "recursive_function 5\n",
      "recursive_function 3\n",
      "recursive_function 3\n",
      "<module> 8\n",
      "run_code 3457\n",
      "run_ast_nodes 3377\n",
      "run_cell_async 3185\n",
      "_pseudo_sync_runner 78\n",
      "_run_cell 2960\n",
      "run_cell 2914\n",
      "run_cell 528\n",
      "do_execute 390\n",
      "execute_request 730\n",
      "dispatch_shell 406\n",
      "process_one 499\n",
      "dispatch_queue 510\n",
      "_run 80\n",
      "_run_once 1905\n",
      "run_forever 601\n",
      "start 199\n",
      "start 712\n",
      "launch_instance 846\n",
      "<module> 17\n",
      "_run_code 87\n",
      "_run_module_as_main 197\n"
     ]
    }
   ],
   "source": [
    "def recursive_function(n):\n",
    "    if n > 0:\n",
    "        recursive_function(n-1)\n",
    "    else:\n",
    "        for frame in inspect.stack():\n",
    "            print(frame.function, frame.lineno)\n",
    "\n",
    "recursive_function(2)"
   ]
  },
  {
   "cell_type": "code",
   "execution_count": null,
   "id": "333b1f9c",
   "metadata": {},
   "outputs": [],
   "source": []
  }
 ],
 "metadata": {
  "kernelspec": {
   "display_name": "Python 3 (ipykernel)",
   "language": "python",
   "name": "python3"
  },
  "language_info": {
   "codemirror_mode": {
    "name": "ipython",
    "version": 3
   },
   "file_extension": ".py",
   "mimetype": "text/x-python",
   "name": "python",
   "nbconvert_exporter": "python",
   "pygments_lexer": "ipython3",
   "version": "3.9.13"
  },
  "toc": {
   "base_numbering": 1,
   "nav_menu": {},
   "number_sections": true,
   "sideBar": true,
   "skip_h1_title": false,
   "title_cell": "Table of Contents",
   "title_sidebar": "Contents",
   "toc_cell": false,
   "toc_position": {},
   "toc_section_display": true,
   "toc_window_display": false
  }
 },
 "nbformat": 4,
 "nbformat_minor": 5
}
