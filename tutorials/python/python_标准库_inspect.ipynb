{
 "cells": [
  {
   "cell_type": "code",
   "execution_count": 1,
   "id": "2dc25d2e",
   "metadata": {
    "ExecuteTime": {
     "end_time": "2024-02-13T09:08:29.356106Z",
     "start_time": "2024-02-13T09:08:29.347785Z"
    }
   },
   "outputs": [],
   "source": [
    "import inspect"
   ]
  },
  {
   "cell_type": "markdown",
   "id": "872d5392",
   "metadata": {},
   "source": [
    "- 获取活动对象的信息，检测模块、类、方法、函数、tracebacks等的内部"
   ]
  },
  {
   "cell_type": "markdown",
   "id": "03a92711",
   "metadata": {},
   "source": [
    "### 获取和检查源代码"
   ]
  },
  {
   "cell_type": "code",
   "execution_count": 3,
   "id": "d8c5f011",
   "metadata": {
    "ExecuteTime": {
     "end_time": "2024-02-13T09:08:41.153171Z",
     "start_time": "2024-02-13T09:08:41.147285Z"
    }
   },
   "outputs": [
    {
     "data": {
      "text/plain": [
       "'def my_function():\\n    return \"Hello, World!\"\\n'"
      ]
     },
     "execution_count": 3,
     "metadata": {},
     "output_type": "execute_result"
    }
   ],
   "source": [
    "# 获取函数的源代码\n",
    "def my_function():\n",
    "    return \"Hello, World!\"\n",
    "\n",
    "source_code = inspect.getsource(my_function)\n",
    "source_code"
   ]
  },
  {
   "cell_type": "code",
   "execution_count": 4,
   "id": "a689887a",
   "metadata": {
    "ExecuteTime": {
     "end_time": "2024-02-13T09:08:50.037378Z",
     "start_time": "2024-02-13T09:08:50.030564Z"
    }
   },
   "outputs": [
    {
     "data": {
      "text/plain": [
       "[('method_one', <function __main__.MyClass.method_one(self)>),\n",
       " ('method_two', <function __main__.MyClass.method_two(self)>)]"
      ]
     },
     "execution_count": 4,
     "metadata": {},
     "output_type": "execute_result"
    }
   ],
   "source": [
    "# 检查类的方法\n",
    "class MyClass:\n",
    "    def method_one(self):\n",
    "        pass\n",
    "\n",
    "    def method_two(self):\n",
    "        pass\n",
    "\n",
    "methods = [member for member in inspect.getmembers(MyClass, predicate=inspect.isfunction)]\n",
    "methods"
   ]
  },
  {
   "cell_type": "markdown",
   "id": "3cdcdbb0",
   "metadata": {},
   "source": [
    "### 获取函数的参数信息\n"
   ]
  },
  {
   "cell_type": "code",
   "execution_count": 5,
   "id": "217031dd",
   "metadata": {
    "ExecuteTime": {
     "end_time": "2024-02-13T09:09:16.766425Z",
     "start_time": "2024-02-13T09:09:16.761812Z"
    }
   },
   "outputs": [
    {
     "name": "stdout",
     "output_type": "stream",
     "text": [
      "(arg1, arg2='default', *args, **kwargs)\n",
      "arg1 POSITIONAL_OR_KEYWORD <class 'inspect._empty'>\n",
      "arg2 POSITIONAL_OR_KEYWORD default\n",
      "args VAR_POSITIONAL <class 'inspect._empty'>\n",
      "kwargs VAR_KEYWORD <class 'inspect._empty'>\n"
     ]
    }
   ],
   "source": [
    "def another_function(arg1, arg2='default', *args, **kwargs):\n",
    "    pass\n",
    "\n",
    "sig = inspect.signature(another_function)\n",
    "print(sig)\n",
    "for name, param in sig.parameters.items():\n",
    "    print(name, param.kind, param.default)"
   ]
  },
  {
   "cell_type": "code",
   "execution_count": null,
   "id": "d1ed717c",
   "metadata": {},
   "outputs": [],
   "source": []
  }
 ],
 "metadata": {
  "kernelspec": {
   "display_name": "Python 3 (ipykernel)",
   "language": "python",
   "name": "python3"
  },
  "language_info": {
   "codemirror_mode": {
    "name": "ipython",
    "version": 3
   },
   "file_extension": ".py",
   "mimetype": "text/x-python",
   "name": "python",
   "nbconvert_exporter": "python",
   "pygments_lexer": "ipython3",
   "version": "3.9.13"
  },
  "toc": {
   "base_numbering": 1,
   "nav_menu": {},
   "number_sections": true,
   "sideBar": true,
   "skip_h1_title": false,
   "title_cell": "Table of Contents",
   "title_sidebar": "Contents",
   "toc_cell": false,
   "toc_position": {},
   "toc_section_display": true,
   "toc_window_display": false
  }
 },
 "nbformat": 4,
 "nbformat_minor": 5
}
