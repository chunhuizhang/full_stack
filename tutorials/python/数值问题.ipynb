{
 "cells": [
  {
   "cell_type": "code",
   "execution_count": 1,
   "id": "29721097",
   "metadata": {
    "ExecuteTime": {
     "end_time": "2024-03-07T13:18:03.407022Z",
     "start_time": "2024-03-07T13:18:03.391166Z"
    }
   },
   "outputs": [],
   "source": [
    "from math import inf"
   ]
  },
  {
   "cell_type": "code",
   "execution_count": 5,
   "id": "c8ca1501",
   "metadata": {
    "ExecuteTime": {
     "end_time": "2024-03-07T13:18:16.268621Z",
     "start_time": "2024-03-07T13:18:16.259262Z"
    }
   },
   "outputs": [
    {
     "data": {
      "text/plain": [
       "inf"
      ]
     },
     "execution_count": 5,
     "metadata": {},
     "output_type": "execute_result"
    }
   ],
   "source": [
    "inf + inf"
   ]
  },
  {
   "cell_type": "code",
   "execution_count": 2,
   "id": "6698951d",
   "metadata": {
    "ExecuteTime": {
     "end_time": "2024-03-07T13:18:07.434210Z",
     "start_time": "2024-03-07T13:18:07.419298Z"
    },
    "scrolled": true
   },
   "outputs": [
    {
     "data": {
      "text/plain": [
       "nan"
      ]
     },
     "execution_count": 2,
     "metadata": {},
     "output_type": "execute_result"
    }
   ],
   "source": [
    "inf - inf"
   ]
  },
  {
   "cell_type": "code",
   "execution_count": 6,
   "id": "d0f1b1d6",
   "metadata": {
    "ExecuteTime": {
     "end_time": "2024-03-07T13:18:25.989398Z",
     "start_time": "2024-03-07T13:18:25.870879Z"
    }
   },
   "outputs": [],
   "source": [
    "import numpy as np"
   ]
  },
  {
   "cell_type": "code",
   "execution_count": 7,
   "id": "207a9b67",
   "metadata": {
    "ExecuteTime": {
     "end_time": "2024-03-07T13:18:28.905737Z",
     "start_time": "2024-03-07T13:18:28.898112Z"
    }
   },
   "outputs": [
    {
     "data": {
      "text/plain": [
       "nan"
      ]
     },
     "execution_count": 7,
     "metadata": {},
     "output_type": "execute_result"
    }
   ],
   "source": [
    "np.inf - np.inf"
   ]
  },
  {
   "cell_type": "code",
   "execution_count": 8,
   "id": "3b4c19a3",
   "metadata": {
    "ExecuteTime": {
     "end_time": "2024-03-07T13:18:33.374297Z",
     "start_time": "2024-03-07T13:18:33.362809Z"
    }
   },
   "outputs": [
    {
     "data": {
      "text/plain": [
       "inf"
      ]
     },
     "execution_count": 8,
     "metadata": {},
     "output_type": "execute_result"
    }
   ],
   "source": [
    "np.inf + np.inf"
   ]
  },
  {
   "cell_type": "code",
   "execution_count": null,
   "id": "18688c26",
   "metadata": {},
   "outputs": [],
   "source": []
  }
 ],
 "metadata": {
  "kernelspec": {
   "display_name": "Python 3 (ipykernel)",
   "language": "python",
   "name": "python3"
  },
  "language_info": {
   "codemirror_mode": {
    "name": "ipython",
    "version": 3
   },
   "file_extension": ".py",
   "mimetype": "text/x-python",
   "name": "python",
   "nbconvert_exporter": "python",
   "pygments_lexer": "ipython3",
   "version": "3.10.13"
  },
  "toc": {
   "base_numbering": 1,
   "nav_menu": {},
   "number_sections": true,
   "sideBar": true,
   "skip_h1_title": false,
   "title_cell": "Table of Contents",
   "title_sidebar": "Contents",
   "toc_cell": false,
   "toc_position": {},
   "toc_section_display": true,
   "toc_window_display": false
  }
 },
 "nbformat": 4,
 "nbformat_minor": 5
}
