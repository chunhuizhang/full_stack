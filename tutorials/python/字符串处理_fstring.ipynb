{
 "cells": [
  {
   "cell_type": "markdown",
   "id": "30070c28",
   "metadata": {},
   "source": [
    "## str"
   ]
  },
  {
   "cell_type": "code",
   "execution_count": 5,
   "id": "3fbbac39",
   "metadata": {
    "ExecuteTime": {
     "end_time": "2023-08-31T14:27:27.690449Z",
     "start_time": "2023-08-31T14:27:27.681287Z"
    }
   },
   "outputs": [
    {
     "data": {
      "text/plain": [
       "'hello world'"
      ]
     },
     "execution_count": 5,
     "metadata": {},
     "output_type": "execute_result"
    }
   ],
   "source": [
    "# 删去末尾空格\n",
    "s = 'hello world     '\n",
    "s.rstrip()"
   ]
  },
  {
   "cell_type": "markdown",
   "id": "107a7a9b",
   "metadata": {},
   "source": [
    "### index, rindex"
   ]
  },
  {
   "cell_type": "markdown",
   "id": "a1a3617f",
   "metadata": {},
   "source": [
    "- 默认取第一个出现的\n",
    "- rindex：最后一个出现的起始index"
   ]
  },
  {
   "cell_type": "code",
   "execution_count": 7,
   "id": "528ad858",
   "metadata": {
    "ExecuteTime": {
     "end_time": "2023-08-31T14:27:50.286483Z",
     "start_time": "2023-08-31T14:27:50.276962Z"
    }
   },
   "outputs": [
    {
     "data": {
      "text/plain": [
       "0"
      ]
     },
     "execution_count": 7,
     "metadata": {},
     "output_type": "execute_result"
    }
   ],
   "source": [
    "s = 'hello world hello'\n",
    "s.index('hello')"
   ]
  },
  {
   "cell_type": "code",
   "execution_count": 8,
   "id": "2849f29d",
   "metadata": {
    "ExecuteTime": {
     "end_time": "2023-08-31T14:27:56.613818Z",
     "start_time": "2023-08-31T14:27:56.604386Z"
    }
   },
   "outputs": [
    {
     "data": {
      "text/plain": [
       "12"
      ]
     },
     "execution_count": 8,
     "metadata": {},
     "output_type": "execute_result"
    }
   ],
   "source": [
    "s.rindex('hello')"
   ]
  },
  {
   "cell_type": "code",
   "execution_count": 9,
   "id": "238f51d8",
   "metadata": {
    "ExecuteTime": {
     "end_time": "2023-08-31T14:28:07.808668Z",
     "start_time": "2023-08-31T14:28:07.796319Z"
    }
   },
   "outputs": [
    {
     "data": {
      "text/plain": [
       "'hello world '"
      ]
     },
     "execution_count": 9,
     "metadata": {},
     "output_type": "execute_result"
    }
   ],
   "source": [
    "s[:s.rindex('hello')]"
   ]
  },
  {
   "cell_type": "markdown",
   "id": "b42cf766",
   "metadata": {},
   "source": [
    "## f-string"
   ]
  },
  {
   "cell_type": "code",
   "execution_count": 4,
   "id": "a8421a5f",
   "metadata": {
    "ExecuteTime": {
     "end_time": "2023-08-31T14:26:36.932220Z",
     "start_time": "2023-08-31T14:26:36.925072Z"
    }
   },
   "outputs": [
    {
     "name": "stdout",
     "output_type": "stream",
     "text": [
      "1234567.24\n",
      "          1234567.24\n"
     ]
    }
   ],
   "source": [
    "# 保留两位小数，四舍五入\n",
    "print(f'{1234567.236:.2f}')\n",
    "\n",
    "# 小数点前，不足补零\n",
    "print(f'{1234567.236:20.2f}')"
   ]
  },
  {
   "cell_type": "code",
   "execution_count": 3,
   "id": "4b26e38c",
   "metadata": {
    "ExecuteTime": {
     "end_time": "2023-08-31T14:26:22.233502Z",
     "start_time": "2023-08-31T14:26:22.225543Z"
    }
   },
   "outputs": [
    {
     "data": {
      "text/plain": [
       "'66.67%'"
      ]
     },
     "execution_count": 3,
     "metadata": {},
     "output_type": "execute_result"
    }
   ],
   "source": [
    "# 百分比，四舍五入\n",
    "f'{2/3:.2%}'"
   ]
  }
 ],
 "metadata": {
  "kernelspec": {
   "display_name": "Python 3 (ipykernel)",
   "language": "python",
   "name": "python3"
  },
  "language_info": {
   "codemirror_mode": {
    "name": "ipython",
    "version": 3
   },
   "file_extension": ".py",
   "mimetype": "text/x-python",
   "name": "python",
   "nbconvert_exporter": "python",
   "pygments_lexer": "ipython3",
   "version": "3.10.9"
  },
  "toc": {
   "base_numbering": 1,
   "nav_menu": {},
   "number_sections": true,
   "sideBar": true,
   "skip_h1_title": false,
   "title_cell": "Table of Contents",
   "title_sidebar": "Contents",
   "toc_cell": false,
   "toc_position": {},
   "toc_section_display": true,
   "toc_window_display": false
  }
 },
 "nbformat": 4,
 "nbformat_minor": 5
}
