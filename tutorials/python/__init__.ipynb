{
 "cells": [
  {
   "cell_type": "markdown",
   "id": "a86049ea-8206-4801-b3cd-d8bfc6f84cc7",
   "metadata": {},
   "source": [
    "- https://www.youtube.com/watch?v=mWaMSGwiSB0"
   ]
  },
  {
   "cell_type": "code",
   "execution_count": 2,
   "id": "d3a1eccf",
   "metadata": {
    "ExecuteTime": {
     "end_time": "2024-03-22T14:09:30.169056Z",
     "start_time": "2024-03-22T14:09:30.162912Z"
    },
    "execution": {
     "iopub.execute_input": "2024-10-14T14:43:59.979240Z",
     "iopub.status.busy": "2024-10-14T14:43:59.978931Z",
     "iopub.status.idle": "2024-10-14T14:43:59.987888Z",
     "shell.execute_reply": "2024-10-14T14:43:59.985669Z",
     "shell.execute_reply.started": "2024-10-14T14:43:59.979218Z"
    }
   },
   "outputs": [],
   "source": [
    "from IPython.display import Image"
   ]
  },
  {
   "cell_type": "code",
   "execution_count": 3,
   "id": "6ac8307a",
   "metadata": {
    "ExecuteTime": {
     "end_time": "2024-03-22T14:09:55.182468Z",
     "start_time": "2024-03-22T14:09:55.173395Z"
    },
    "execution": {
     "iopub.execute_input": "2024-10-14T14:44:01.001364Z",
     "iopub.status.busy": "2024-10-14T14:44:01.000715Z",
     "iopub.status.idle": "2024-10-14T14:44:01.016984Z",
     "shell.execute_reply": "2024-10-14T14:44:01.015671Z",
     "shell.execute_reply.started": "2024-10-14T14:44:01.001317Z"
    }
   },
   "outputs": [
    {
     "data": {
      "text/html": [
       "<img src=\"../../imgs/init_api.png\" width=\"400\"/>"
      ],
      "text/plain": [
       "<IPython.core.display.Image object>"
      ]
     },
     "execution_count": 3,
     "metadata": {},
     "output_type": "execute_result"
    }
   ],
   "source": [
    "# 对外暴露接口 api\n",
    "# https://github.com/meta-llama/llama/blob/main/llama/__init__.py\n",
    "Image(url='../../imgs/init_api.png', width=400)"
   ]
  },
  {
   "cell_type": "markdown",
   "id": "a937e207-7615-47f2-8362-9a1e2a0db5ab",
   "metadata": {},
   "source": [
    "### 代码文件组织"
   ]
  },
  {
   "cell_type": "code",
   "execution_count": 4,
   "id": "0d4981ad-9152-486f-9d3c-a546fe083df0",
   "metadata": {
    "execution": {
     "iopub.execute_input": "2024-10-14T14:46:04.947742Z",
     "iopub.status.busy": "2024-10-14T14:46:04.947093Z",
     "iopub.status.idle": "2024-10-14T14:46:04.961047Z",
     "shell.execute_reply": "2024-10-14T14:46:04.959132Z",
     "shell.execute_reply.started": "2024-10-14T14:46:04.947693Z"
    }
   },
   "outputs": [
    {
     "data": {
      "text/html": [
       "<img src=\"./imgs/init.jpeg\" width=\"400\"/>"
      ],
      "text/plain": [
       "<IPython.core.display.Image object>"
      ]
     },
     "execution_count": 4,
     "metadata": {},
     "output_type": "execute_result"
    }
   ],
   "source": [
    "Image(url='./imgs/init.jpeg', width=400)"
   ]
  },
  {
   "cell_type": "code",
   "execution_count": null,
   "id": "c555fce5-5485-496d-ae8e-d5f7e47e700c",
   "metadata": {},
   "outputs": [],
   "source": []
  }
 ],
 "metadata": {
  "kernelspec": {
   "display_name": "Python 3 (ipykernel)",
   "language": "python",
   "name": "python3"
  },
  "language_info": {
   "codemirror_mode": {
    "name": "ipython",
    "version": 3
   },
   "file_extension": ".py",
   "mimetype": "text/x-python",
   "name": "python",
   "nbconvert_exporter": "python",
   "pygments_lexer": "ipython3",
   "version": "3.10.13"
  },
  "toc": {
   "base_numbering": 1,
   "nav_menu": {},
   "number_sections": true,
   "sideBar": true,
   "skip_h1_title": false,
   "title_cell": "Table of Contents",
   "title_sidebar": "Contents",
   "toc_cell": false,
   "toc_position": {},
   "toc_section_display": true,
   "toc_window_display": false
  }
 },
 "nbformat": 4,
 "nbformat_minor": 5
}
