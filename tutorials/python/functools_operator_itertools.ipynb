{
 "cells": [
  {
   "cell_type": "markdown",
   "id": "452a33f0",
   "metadata": {},
   "source": [
    "## `functools`"
   ]
  },
  {
   "cell_type": "markdown",
   "id": "99602490",
   "metadata": {},
   "source": [
    "### `partial`"
   ]
  },
  {
   "cell_type": "markdown",
   "id": "1382d2ad",
   "metadata": {},
   "source": [
    "- 接受一个函数对象，返回一个函数对象，只是返回的函数对象已经被填充了部分参数；"
   ]
  },
  {
   "cell_type": "markdown",
   "id": "9fd5f88c",
   "metadata": {},
   "source": [
    "```\n",
    "def gpt(prompt, model=\"gpt-4\", temperature=0.7, max_tokens=1000, n=1, stop=None) -> list:\n",
    "    ...\n",
    "    \n",
    "gpt = partial(gpt, model=args.backend, temperature=args.temperature)\n",
    "```"
   ]
  },
  {
   "cell_type": "markdown",
   "id": "37b4d447",
   "metadata": {},
   "source": [
    "## `itertools`"
   ]
  },
  {
   "cell_type": "code",
   "execution_count": 1,
   "id": "d2c1b7c2",
   "metadata": {
    "ExecuteTime": {
     "end_time": "2024-03-04T14:07:02.166431Z",
     "start_time": "2024-03-04T14:07:02.157465Z"
    }
   },
   "outputs": [],
   "source": [
    "import itertools"
   ]
  },
  {
   "cell_type": "code",
   "execution_count": 10,
   "id": "bf9f237e",
   "metadata": {
    "ExecuteTime": {
     "end_time": "2024-03-04T14:08:25.474555Z",
     "start_time": "2024-03-04T14:08:25.463580Z"
    }
   },
   "outputs": [
    {
     "data": {
      "text/plain": [
       "[1, 2]"
      ]
     },
     "execution_count": 10,
     "metadata": {},
     "output_type": "execute_result"
    }
   ],
   "source": [
    "list(itertools.chain(*[[1], [2]]))"
   ]
  },
  {
   "cell_type": "code",
   "execution_count": 9,
   "id": "58fc86ee",
   "metadata": {
    "ExecuteTime": {
     "end_time": "2024-03-04T14:08:13.326918Z",
     "start_time": "2024-03-04T14:08:13.316205Z"
    }
   },
   "outputs": [
    {
     "data": {
      "text/plain": [
       "[[1], [2]]"
      ]
     },
     "execution_count": 9,
     "metadata": {},
     "output_type": "execute_result"
    }
   ],
   "source": [
    "list(itertools.chain(*[[[1]], [[2]]]))"
   ]
  }
 ],
 "metadata": {
  "kernelspec": {
   "display_name": "Python 3 (ipykernel)",
   "language": "python",
   "name": "python3"
  },
  "language_info": {
   "codemirror_mode": {
    "name": "ipython",
    "version": 3
   },
   "file_extension": ".py",
   "mimetype": "text/x-python",
   "name": "python",
   "nbconvert_exporter": "python",
   "pygments_lexer": "ipython3",
   "version": "3.10.13"
  },
  "toc": {
   "base_numbering": 1,
   "nav_menu": {},
   "number_sections": true,
   "sideBar": true,
   "skip_h1_title": false,
   "title_cell": "Table of Contents",
   "title_sidebar": "Contents",
   "toc_cell": false,
   "toc_position": {},
   "toc_section_display": true,
   "toc_window_display": false
  }
 },
 "nbformat": 4,
 "nbformat_minor": 5
}
