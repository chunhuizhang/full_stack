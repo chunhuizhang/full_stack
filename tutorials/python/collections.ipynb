{
 "cells": [
  {
   "cell_type": "code",
   "execution_count": 1,
   "id": "3a3a3ee4",
   "metadata": {
    "ExecuteTime": {
     "end_time": "2023-11-02T12:38:09.083389Z",
     "start_time": "2023-11-02T12:38:09.074919Z"
    }
   },
   "outputs": [],
   "source": [
    "from collections import Counter"
   ]
  },
  {
   "cell_type": "markdown",
   "id": "1cf6c600",
   "metadata": {},
   "source": [
    "## Counter"
   ]
  },
  {
   "cell_type": "markdown",
   "id": "7adef056",
   "metadata": {},
   "source": [
    "### `cnt.most_common()`"
   ]
  },
  {
   "cell_type": "markdown",
   "id": "6a42696a",
   "metadata": {},
   "source": [
    "- `counter.most_common(n=None)`\n",
    "    - List the n most common elements and their counts from the most common to the least.  If n is None, then list all element counts."
   ]
  },
  {
   "cell_type": "code",
   "execution_count": 3,
   "id": "9494e17b",
   "metadata": {
    "ExecuteTime": {
     "end_time": "2023-11-02T12:38:19.849717Z",
     "start_time": "2023-11-02T12:38:19.839101Z"
    }
   },
   "outputs": [
    {
     "data": {
      "text/plain": [
       "[('c', 3), ('b', 2), ('a', 1)]"
      ]
     },
     "execution_count": 3,
     "metadata": {},
     "output_type": "execute_result"
    }
   ],
   "source": [
    "# list of tuple\n",
    "Counter('abbccc').most_common()"
   ]
  }
 ],
 "metadata": {
  "kernelspec": {
   "display_name": "Python 3 (ipykernel)",
   "language": "python",
   "name": "python3"
  },
  "language_info": {
   "codemirror_mode": {
    "name": "ipython",
    "version": 3
   },
   "file_extension": ".py",
   "mimetype": "text/x-python",
   "name": "python",
   "nbconvert_exporter": "python",
   "pygments_lexer": "ipython3",
   "version": "3.10.9"
  },
  "toc": {
   "base_numbering": 1,
   "nav_menu": {},
   "number_sections": true,
   "sideBar": true,
   "skip_h1_title": false,
   "title_cell": "Table of Contents",
   "title_sidebar": "Contents",
   "toc_cell": false,
   "toc_position": {},
   "toc_section_display": true,
   "toc_window_display": false
  }
 },
 "nbformat": 4,
 "nbformat_minor": 5
}
