{
 "cells": [
  {
   "cell_type": "markdown",
   "id": "50c11a50",
   "metadata": {},
   "source": [
    "```\n",
    "setup.py\n",
    "from setuptools import setup\n",
    "\n",
    "setup(\n",
    "    name=\"socialsim\",\n",
    "    version=\"0.0.1\",\n",
    "    install_requires=[\"gym==0.26.0\", \"pygame==2.1.0\", \n",
    "                      \"astar\", \"numpy\", \"flask\", ],\n",
    "    py_modules=[]\n",
    ")\n",
    "```"
   ]
  },
  {
   "cell_type": "markdown",
   "id": "305336e2-5fe0-4980-8dc3-ea3db43030be",
   "metadata": {},
   "source": [
    "### entry_points"
   ]
  },
  {
   "cell_type": "markdown",
   "id": "175bbd44-35ea-4415-9bd2-c5dfd8318775",
   "metadata": {},
   "source": [
    "```\n",
    "entry_points={\n",
    "    'console_scripts': [\n",
    "        'eai-eval=eai_eval.cli:main',  \n",
    "    ],\n",
    "},\n",
    "```\n",
    "- `eai-eval`: 作为命令行工具，执行的是 eai_eval 文件夹下的 cli.py 文件的 main 函数，接收外部参数"
   ]
  }
 ],
 "metadata": {
  "kernelspec": {
   "display_name": "Python 3 (ipykernel)",
   "language": "python",
   "name": "python3"
  },
  "language_info": {
   "codemirror_mode": {
    "name": "ipython",
    "version": 3
   },
   "file_extension": ".py",
   "mimetype": "text/x-python",
   "name": "python",
   "nbconvert_exporter": "python",
   "pygments_lexer": "ipython3",
   "version": "3.13.5"
  },
  "toc": {
   "base_numbering": 1,
   "nav_menu": {},
   "number_sections": true,
   "sideBar": true,
   "skip_h1_title": false,
   "title_cell": "Table of Contents",
   "title_sidebar": "Contents",
   "toc_cell": false,
   "toc_position": {},
   "toc_section_display": true,
   "toc_window_display": false
  }
 },
 "nbformat": 4,
 "nbformat_minor": 5
}
