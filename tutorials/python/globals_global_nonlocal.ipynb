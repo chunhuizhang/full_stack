{
 "cells": [
  {
   "cell_type": "markdown",
   "id": "2d2db577-e608-46b8-b39c-d5223bd0e75c",
   "metadata": {},
   "source": [
    "### basics"
   ]
  },
  {
   "cell_type": "markdown",
   "id": "0a947a56-d9a8-4015-9c52-20d5f9d86927",
   "metadata": {},
   "source": [
    "作为关键字 `global` 与 `nonlocal` 的区别\n",
    "- 作用范围不同：\n",
    "    - global作用于全局作用域，即模块级别的变量。\n",
    "    - nonlocal作用于最近的封闭作用域（非全局），即外部函数的局部变量。\n",
    "- 使用场景不同：\n",
    "    - 当需要在函数内部修改全局变量时，使用global。\n",
    "    - 当需要在嵌套函数中修改外部函数的变量时，使用nonlocal。\n",
    "\n",
    "`globals()` 与 `locals()`"
   ]
  },
  {
   "cell_type": "markdown",
   "id": "8433b466",
   "metadata": {},
   "source": [
    "## nonlocal"
   ]
  },
  {
   "cell_type": "markdown",
   "id": "138ab8d5",
   "metadata": {},
   "source": [
    "### examples"
   ]
  },
  {
   "cell_type": "markdown",
   "id": "b59b55a3",
   "metadata": {},
   "source": [
    "- https://www.w3schools.com/python/ref_keyword_nonlocal.asp"
   ]
  },
  {
   "cell_type": "code",
   "execution_count": 2,
   "id": "c9c5f88b",
   "metadata": {
    "ExecuteTime": {
     "end_time": "2023-07-31T12:51:58.377813Z",
     "start_time": "2023-07-31T12:51:58.369992Z"
    }
   },
   "outputs": [
    {
     "name": "stdout",
     "output_type": "stream",
     "text": [
      "John\n"
     ]
    }
   ],
   "source": [
    "def myfunc1():\n",
    "  x = \"John\"\n",
    "  def myfunc2():\n",
    "#     nonlocal x\n",
    "    x = \"hello\"\n",
    "  myfunc2()\n",
    "  return x\n",
    "\n",
    "print(myfunc1())"
   ]
  },
  {
   "cell_type": "code",
   "execution_count": 1,
   "id": "c19faffa",
   "metadata": {
    "ExecuteTime": {
     "end_time": "2023-07-31T12:51:46.368902Z",
     "start_time": "2023-07-31T12:51:46.350825Z"
    }
   },
   "outputs": [
    {
     "name": "stdout",
     "output_type": "stream",
     "text": [
      "hello\n"
     ]
    }
   ],
   "source": [
    "def myfunc1():\n",
    "  x = \"John\"\n",
    "  def myfunc2():\n",
    "    nonlocal x\n",
    "    x = \"hello\"\n",
    "  myfunc2()\n",
    "  return x\n",
    "\n",
    "print(myfunc1())"
   ]
  },
  {
   "cell_type": "markdown",
   "id": "aaa483aa-019c-4b1b-b6c0-193660510f12",
   "metadata": {},
   "source": [
    "### `globals()` & `locals()`"
   ]
  },
  {
   "cell_type": "markdown",
   "id": "5156e30f-0748-4249-8198-09c1700b2209",
   "metadata": {},
   "source": [
    "- 通过字符串索引变量或者函数"
   ]
  },
  {
   "cell_type": "code",
   "execution_count": 1,
   "id": "4dfae491-aff4-440e-ace2-04cabb5521db",
   "metadata": {
    "execution": {
     "iopub.execute_input": "2024-10-15T15:10:47.518499Z",
     "iopub.status.busy": "2024-10-15T15:10:47.517865Z",
     "iopub.status.idle": "2024-10-15T15:10:47.607754Z",
     "shell.execute_reply": "2024-10-15T15:10:47.605993Z",
     "shell.execute_reply.started": "2024-10-15T15:10:47.518452Z"
    }
   },
   "outputs": [],
   "source": [
    "from rich.pretty import pprint"
   ]
  },
  {
   "cell_type": "code",
   "execution_count": 6,
   "id": "8e1e846f-c433-4b66-8d6a-04d5abaa0d9d",
   "metadata": {
    "execution": {
     "iopub.execute_input": "2024-10-15T15:12:06.290532Z",
     "iopub.status.busy": "2024-10-15T15:12:06.289887Z",
     "iopub.status.idle": "2024-10-15T15:12:06.302831Z",
     "shell.execute_reply": "2024-10-15T15:12:06.300557Z",
     "shell.execute_reply.started": "2024-10-15T15:12:06.290486Z"
    }
   },
   "outputs": [],
   "source": [
    "x = 10\n",
    "\n",
    "def fun(n):\n",
    "    print(f'i am fun with param {n}')\n",
    "\n",
    "def foo():\n",
    "    y = 20\n",
    "    # pprint(globals())\n",
    "\n",
    "    # 索引函数\n",
    "    globals()['fun'](1)\n",
    "    print(\"全局变量 x:\", globals()['x'])\n",
    "    \n",
    "    # 索引并修改全局变量 x\n",
    "    globals()['x'] = 30\n",
    "    print(\"修改后的全局变量 x:\", globals()['x'])\n",
    "    print('locals:', locals())"
   ]
  },
  {
   "cell_type": "code",
   "execution_count": 7,
   "id": "6a43fdb1-4d14-4aa5-958a-60b9a13b982d",
   "metadata": {
    "execution": {
     "iopub.execute_input": "2024-10-15T15:12:07.646105Z",
     "iopub.status.busy": "2024-10-15T15:12:07.645544Z",
     "iopub.status.idle": "2024-10-15T15:12:07.655215Z",
     "shell.execute_reply": "2024-10-15T15:12:07.653122Z",
     "shell.execute_reply.started": "2024-10-15T15:12:07.646063Z"
    }
   },
   "outputs": [
    {
     "name": "stdout",
     "output_type": "stream",
     "text": [
      "i am fun with param 1\n",
      "全局变量 x: 10\n",
      "修改后的全局变量 x: 30\n",
      "locals: {'y': 20}\n"
     ]
    }
   ],
   "source": [
    "foo()"
   ]
  },
  {
   "cell_type": "markdown",
   "id": "130100cf",
   "metadata": {},
   "source": [
    "### `globals()` on timeit"
   ]
  },
  {
   "cell_type": "code",
   "execution_count": 1,
   "id": "fb1e69c7",
   "metadata": {
    "ExecuteTime": {
     "end_time": "2023-06-10T09:56:20.506220Z",
     "start_time": "2023-06-10T09:56:20.477756Z"
    }
   },
   "outputs": [],
   "source": [
    "# globals()"
   ]
  },
  {
   "cell_type": "code",
   "execution_count": 4,
   "id": "95a99546-152c-420f-868a-e20457fb5120",
   "metadata": {},
   "outputs": [
    {
     "name": "stdout",
     "output_type": "stream",
     "text": [
      "9.944696546001069 15.240422433000276\n"
     ]
    }
   ],
   "source": [
    "import torch\n",
    "import timeit\n",
    "\n",
    "# 创建一个大型的随机张量作为输入数据\n",
    "x = torch.randn(10000, 10000)\n",
    "\n",
    "# 使用 JIT 编译的函数\n",
    "@torch.jit.script\n",
    "def fused_gelu_jit(x):\n",
    "    return x * 0.5 * (1.0 + torch.erf(x / 1.41421))\n",
    "\n",
    "# 未使用 JIT 编译的相同函数\n",
    "def fused_gelu(x):\n",
    "    return x * 0.5 * (1.0 + torch.erf(x / 1.41421))\n",
    "\n",
    "# 使用 timeit 测量 JIT 编译函数的执行时间\n",
    "jit_time = timeit.timeit('fused_gelu_jit(x)', globals=globals(), number=100)\n",
    "nonjit_time = timeit.timeit('fused_gelu(x)', globals=globals(), number=100)\n",
    "\n",
    "print(jit_time, nonjit_time)"
   ]
  },
  {
   "cell_type": "markdown",
   "id": "0770e64b-ae79-48ed-a922-ca4e6d3c6e2c",
   "metadata": {},
   "source": [
    "- 上述代码中，\n",
    "    - 函数名（`fused_gelu_jit`）以及参数（`x`），其实都在 `globals()` 的字典里定义或者实例化过了的；"
   ]
  }
 ],
 "metadata": {
  "kernelspec": {
   "display_name": "Python 3 (ipykernel)",
   "language": "python",
   "name": "python3"
  },
  "language_info": {
   "codemirror_mode": {
    "name": "ipython",
    "version": 3
   },
   "file_extension": ".py",
   "mimetype": "text/x-python",
   "name": "python",
   "nbconvert_exporter": "python",
   "pygments_lexer": "ipython3",
   "version": "3.10.13"
  },
  "toc": {
   "base_numbering": 1,
   "nav_menu": {},
   "number_sections": true,
   "sideBar": true,
   "skip_h1_title": false,
   "title_cell": "Table of Contents",
   "title_sidebar": "Contents",
   "toc_cell": false,
   "toc_position": {},
   "toc_section_display": true,
   "toc_window_display": false
  }
 },
 "nbformat": 4,
 "nbformat_minor": 5
}
