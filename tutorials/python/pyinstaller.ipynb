{
 "cells": [
  {
   "cell_type": "markdown",
   "id": "4911fbd2-abd8-409c-ac99-3d733aceb8a1",
   "metadata": {},
   "source": [
    "```\n",
    "pip install pyinstaller\n",
    "pyinstaller --onefile xx.py\n",
    "```\n",
    "\n",
    "- 更小的可执行文件，可能需要一个干净的 env；\n",
    "- 参数\n",
    "    - `--onefile`"
   ]
  }
 ],
 "metadata": {
  "kernelspec": {
   "display_name": "Python 3 (ipykernel)",
   "language": "python",
   "name": "python3"
  },
  "language_info": {
   "codemirror_mode": {
    "name": "ipython",
    "version": 3
   },
   "file_extension": ".py",
   "mimetype": "text/x-python",
   "name": "python",
   "nbconvert_exporter": "python",
   "pygments_lexer": "ipython3",
   "version": "3.10.13"
  }
 },
 "nbformat": 4,
 "nbformat_minor": 5
}
