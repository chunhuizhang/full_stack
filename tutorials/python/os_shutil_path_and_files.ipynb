{
 "cells": [
  {
   "cell_type": "markdown",
   "id": "efb2eab2",
   "metadata": {},
   "source": [
    "- `__file__`：表示当前文件\n",
    "\n",
    "    ```\n",
    "    import os\n",
    "    os.path.dirname(os.path.realpath(__file__))\n",
    "    ```"
   ]
  },
  {
   "cell_type": "markdown",
   "id": "fdd5041d",
   "metadata": {},
   "source": [
    "## pathlib"
   ]
  },
  {
   "cell_type": "markdown",
   "id": "dc2eaf1f",
   "metadata": {
    "ExecuteTime": {
     "end_time": "2023-08-09T14:03:12.253317Z",
     "start_time": "2023-08-09T14:03:12.235636Z"
    }
   },
   "source": [
    "```\n",
    "from pathlib import Path\n",
    "ckpt_dir = 'weights/llama-2-7b/'\n",
    "checkpoints = sorted(Path(ckpt_dir).glob(\"*.pth\"))\n",
    "\n",
    "len(checkpoints)\n",
    "checkpoint = checkpoints[0]\n",
    "\n",
    "# 路径拼接\n",
    "Path(ckpt_dir) / \"params.json\"\n",
    "```"
   ]
  },
  {
   "cell_type": "markdown",
   "id": "6c3e8e3e",
   "metadata": {},
   "source": [
    "## shutil"
   ]
  },
  {
   "cell_type": "markdown",
   "id": "ac474332",
   "metadata": {},
   "source": [
    "```\n",
    "if os.path.isdir(\"nonempty-dir\"):\n",
    "    shutil.rmtree(\"nonempty-dir\")\n",
    "```"
   ]
  },
  {
   "cell_type": "markdown",
   "id": "1c34df8f",
   "metadata": {},
   "source": [
    "- 会把文件夹也删掉"
   ]
  }
 ],
 "metadata": {
  "kernelspec": {
   "display_name": "Python 3 (ipykernel)",
   "language": "python",
   "name": "python3"
  },
  "language_info": {
   "codemirror_mode": {
    "name": "ipython",
    "version": 3
   },
   "file_extension": ".py",
   "mimetype": "text/x-python",
   "name": "python",
   "nbconvert_exporter": "python",
   "pygments_lexer": "ipython3",
   "version": "3.10.9"
  },
  "toc": {
   "base_numbering": 1,
   "nav_menu": {},
   "number_sections": true,
   "sideBar": true,
   "skip_h1_title": false,
   "title_cell": "Table of Contents",
   "title_sidebar": "Contents",
   "toc_cell": false,
   "toc_position": {},
   "toc_section_display": true,
   "toc_window_display": false
  }
 },
 "nbformat": 4,
 "nbformat_minor": 5
}
