{
 "cells": [
  {
   "cell_type": "markdown",
   "id": "f60fb613",
   "metadata": {},
   "source": [
    "## 查看"
   ]
  },
  {
   "cell_type": "markdown",
   "id": "ee9bdb73",
   "metadata": {},
   "source": [
    "- `conda info -e`\n",
    "    - 查看已有的conda环境；\n"
   ]
  },
  {
   "cell_type": "markdown",
   "id": "31fd8fdb",
   "metadata": {},
   "source": [
    "## 安装"
   ]
  },
  {
   "cell_type": "markdown",
   "id": "f039cae7",
   "metadata": {},
   "source": [
    "- `conda install -c conda-forge python-graphviz`\n",
    "    - `-c`: channel"
   ]
  }
 ],
 "metadata": {
  "kernelspec": {
   "display_name": "Python 3 (ipykernel)",
   "language": "python",
   "name": "python3"
  },
  "language_info": {
   "codemirror_mode": {
    "name": "ipython",
    "version": 3
   },
   "file_extension": ".py",
   "mimetype": "text/x-python",
   "name": "python",
   "nbconvert_exporter": "python",
   "pygments_lexer": "ipython3",
   "version": "3.10.9"
  },
  "toc": {
   "base_numbering": 1,
   "nav_menu": {},
   "number_sections": true,
   "sideBar": true,
   "skip_h1_title": false,
   "title_cell": "Table of Contents",
   "title_sidebar": "Contents",
   "toc_cell": false,
   "toc_position": {},
   "toc_section_display": true,
   "toc_window_display": false
  }
 },
 "nbformat": 4,
 "nbformat_minor": 5
}
