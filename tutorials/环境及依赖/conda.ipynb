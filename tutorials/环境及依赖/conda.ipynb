{
 "cells": [
  {
   "cell_type": "markdown",
   "id": "f60fb613",
   "metadata": {},
   "source": [
    "## 查看 lib"
   ]
  },
  {
   "cell_type": "markdown",
   "id": "ee9bdb73",
   "metadata": {},
   "source": [
    "- `conda list | grep notebok`\n",
    "    - `conda list notebook`"
   ]
  },
  {
   "cell_type": "markdown",
   "id": "fb6db056",
   "metadata": {},
   "source": [
    "## env"
   ]
  },
  {
   "cell_type": "markdown",
   "id": "2aa7a034",
   "metadata": {},
   "source": [
    "- `conda info -e`/`conda env list`\n",
    "    - 查看已有的conda环境；\n",
    "- `conda create -n oai python=3.10`\n",
    "- 删除\n",
    "    - `conda remove --name oai --all`"
   ]
  },
  {
   "cell_type": "markdown",
   "id": "65491f4e",
   "metadata": {},
   "source": [
    "## 修改"
   ]
  },
  {
   "cell_type": "markdown",
   "id": "dd111cc7",
   "metadata": {},
   "source": [
    "- `conda clean`\n",
    "    - `conda clean -a`\n",
    "    - `conda clean --all`\n",
    "        - clean all\n",
    "        - 删除包缓存：conda 会缓存下载的包文件，以便将来安装相同版本的包时不需要重新下载。\n",
    "        - 移除未使用的包\n",
    "- `conda update --all`"
   ]
  },
  {
   "cell_type": "markdown",
   "id": "59b626b3",
   "metadata": {},
   "source": [
    "## 安装"
   ]
  },
  {
   "cell_type": "markdown",
   "id": "a5640b01",
   "metadata": {},
   "source": [
    "- `conda install -c conda-forge python-graphviz -y`\n",
    "    - `-c`: channel\n",
    "        - `defaults`\n",
    "        - `conda-forge`\n",
    "    - `-y`：不会提示用户确认，自动安装\n",
    "    - `conda update -n base -c defaults conda -y`: 升级 base 环境的 conda 命令；\n",
    "        - `-n`: env name"
   ]
  }
 ],
 "metadata": {
  "kernelspec": {
   "display_name": "Python 3 (ipykernel)",
   "language": "python",
   "name": "python3"
  },
  "language_info": {
   "codemirror_mode": {
    "name": "ipython",
    "version": 3
   },
   "file_extension": ".py",
   "mimetype": "text/x-python",
   "name": "python",
   "nbconvert_exporter": "python",
   "pygments_lexer": "ipython3",
   "version": "3.9.13"
  },
  "toc": {
   "base_numbering": 1,
   "nav_menu": {},
   "number_sections": true,
   "sideBar": true,
   "skip_h1_title": false,
   "title_cell": "Table of Contents",
   "title_sidebar": "Contents",
   "toc_cell": false,
   "toc_position": {},
   "toc_section_display": true,
   "toc_window_display": false
  }
 },
 "nbformat": 4,
 "nbformat_minor": 5
}
