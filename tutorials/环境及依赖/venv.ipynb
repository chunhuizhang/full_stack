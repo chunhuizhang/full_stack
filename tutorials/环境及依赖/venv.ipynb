{
 "cells": [
  {
   "cell_type": "markdown",
   "id": "05a44793",
   "metadata": {},
   "source": [
    "## 基本用法"
   ]
  },
  {
   "cell_type": "markdown",
   "id": "041c3c32",
   "metadata": {},
   "source": [
    "- 创建 `python -m venv myenv`\n",
    "- 激活 `source myenv/bin/activate`\n",
    "    - 退出 `deactivate`\n",
    "- 使用虚拟环境\n",
    "\n",
    "```\n",
    "$ which python\n",
    "$ python\n",
    "```"
   ]
  }
 ],
 "metadata": {
  "kernelspec": {
   "display_name": "Python 3 (ipykernel)",
   "language": "python",
   "name": "python3"
  },
  "language_info": {
   "codemirror_mode": {
    "name": "ipython",
    "version": 3
   },
   "file_extension": ".py",
   "mimetype": "text/x-python",
   "name": "python",
   "nbconvert_exporter": "python",
   "pygments_lexer": "ipython3",
   "version": "3.10.9"
  },
  "toc": {
   "base_numbering": 1,
   "nav_menu": {},
   "number_sections": true,
   "sideBar": true,
   "skip_h1_title": false,
   "title_cell": "Table of Contents",
   "title_sidebar": "Contents",
   "toc_cell": false,
   "toc_position": {},
   "toc_section_display": true,
   "toc_window_display": false
  }
 },
 "nbformat": 4,
 "nbformat_minor": 5
}
