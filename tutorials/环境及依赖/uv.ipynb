{
 "cells": [
  {
   "cell_type": "markdown",
   "id": "e2c7c2ee-ea1d-46cd-892f-1bf89d369c9b",
   "metadata": {},
   "source": [
    "- ref\n",
    "    - https://www.bilibili.com/video/BV1Stwfe1E7s/\n",
    "    - https://gist.github.com/cradiator/b486a3148be3ab63ae7d0c5376fcf783\n",
    "- python 版本\n",
    "    - `uv python list`: 支持的 python 版本；\n",
    "    - `uv python install cpython-3.12`\n",
    "        - `uv run -p 3.12 hello.py`\n",
    "        - `uv run -p 3.12 python`：交互式运行代码；\n",
    "- 工程及依赖\n",
    "    - `uv init -p 3.12`\n",
    "    - `uv add pydantic_ai`：自动写入 pyproject.toml 中；\n",
    "    - `uv run main.py`\n",
    "- tool\n",
    "    - `uv tool install ruff`：uv tool 安装的工具是整个系统都可用的；\n",
    "        - `uv tool install shell-gpt`\n",
    "        - https://github.com/TheR1D/shell_gpt\n",
    "    - `uv tool list`：查看已安装的 tool"
   ]
  }
 ],
 "metadata": {
  "kernelspec": {
   "display_name": "casual",
   "language": "python",
   "name": "casual"
  },
  "language_info": {
   "codemirror_mode": {
    "name": "ipython",
    "version": 3
   },
   "file_extension": ".py",
   "mimetype": "text/x-python",
   "name": "python",
   "nbconvert_exporter": "python",
   "pygments_lexer": "ipython3",
   "version": "3.10.0"
  }
 },
 "nbformat": 4,
 "nbformat_minor": 5
}
