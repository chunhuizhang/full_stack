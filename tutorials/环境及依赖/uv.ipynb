{
 "cells": [
  {
   "cell_type": "markdown",
   "id": "1d037739-8edb-4684-a211-79b3ae2d9659",
   "metadata": {},
   "source": [
    "- uv 是一个由 ruff 的作者开发的，速度极快的 Python 包安装和虚拟环境管理工具。"
   ]
  },
  {
   "cell_type": "markdown",
   "id": "e2c7c2ee-ea1d-46cd-892f-1bf89d369c9b",
   "metadata": {},
   "source": [
    "- ref\n",
    "    - https://www.bilibili.com/video/BV1Stwfe1E7s/\n",
    "    - https://gist.github.com/cradiator/b486a3148be3ab63ae7d0c5376fcf783\n",
    "- python 版本\n",
    "    - `uv python list`: 支持的 python 版本；\n",
    "    - `uv python install cpython-3.12`\n",
    "        - `uv run -p 3.12 hello.py`\n",
    "        - `uv run -p 3.12 python`：交互式运行代码；\n",
    "- 工程及依赖\n",
    "    - `uv init -p 3.12`\n",
    "    - `uv add pydantic_ai`：自动写入 pyproject.toml 中；\n",
    "    - `uv run main.py`\n",
    "- tool\n",
    "    - `uv tool install ruff`：uv tool 安装的工具是整个系统都可用的；\n",
    "        - `uv tool install shell-gpt`\n",
    "        - https://github.com/TheR1D/shell_gpt\n",
    "    - `uv tool list`：查看已安装的 tool"
   ]
  },
  {
   "cell_type": "markdown",
   "id": "e870e4e4-e41a-4411-89c8-b4ef0347ddbc",
   "metadata": {},
   "source": [
    "### pyproject.toml"
   ]
  },
  {
   "cell_type": "markdown",
   "id": "65df4169-4844-4bf7-907c-62ab950a6391",
   "metadata": {},
   "source": [
    "```toml\n",
    "[tool.uv.sources]\n",
    "...\n",
    "\n",
    "[[tool.uv.index]]\n",
    "name = ''\n",
    "url = ''\n",
    "```"
   ]
  },
  {
   "cell_type": "markdown",
   "id": "5dc6e6ee-abbd-4a5a-9fd1-51800ba5e8f6",
   "metadata": {},
   "source": [
    "### 标准使用"
   ]
  },
  {
   "cell_type": "markdown",
   "id": "77c11922-3df6-418d-a498-17b065534c52",
   "metadata": {},
   "source": [
    "```sh\n",
    "# 创建项目文件夹并进入\n",
    "mkdir my-mcp-project\n",
    "cd my-mcp-project\n",
    "\n",
    "# 使用 uv 创建一个名为 .venv 的虚拟环境\n",
    "uv venv\n",
    "\n",
    "\n",
    "# macOS / Linux\n",
    "source .venv/bin/activate\n",
    "\n",
    "uv pip install --upgrade \"mcp[cli]\" fastmcp requests\n",
    "\n",
    "```"
   ]
  },
  {
   "cell_type": "markdown",
   "id": "25eee043-c365-4c6e-b781-c0f708c75ce8",
   "metadata": {},
   "source": [
    "### 缓存机制"
   ]
  },
  {
   "cell_type": "markdown",
   "id": "9dd590f2-657a-4ac2-bb51-d0e3ae0d32c4",
   "metadata": {},
   "source": [
    "- uv 的全局缓存 (Global Cache)\n",
    "    - uv 的设计核心之一就是高效的缓存机制\n",
    "    - `uv cache dir`: 查看缓存目录\n",
    "    - `uv cache clean`：清理缓存"
   ]
  },
  {
   "cell_type": "markdown",
   "id": "82ab2c7a-ae03-44cc-8388-e939bc7663de",
   "metadata": {
    "jp-MarkdownHeadingCollapsed": true
   },
   "source": [
    "### 参数"
   ]
  },
  {
   "cell_type": "markdown",
   "id": "cf19bccf-2608-47aa-8403-d4d9723db5b3",
   "metadata": {},
   "source": [
    "- --with：它告诉 uv run：“在执行我的命令之前，请先在一个临时环境中安装以下这些包”。\n",
    "    - uv run --with=pandas,tqdm,openpyxl python process_data.py"
   ]
  },
  {
   "cell_type": "markdown",
   "id": "b837f0fe-8e87-4266-83ea-aed612a000d9",
   "metadata": {},
   "source": [
    "### uvx"
   ]
  },
  {
   "cell_type": "markdown",
   "id": "a84aee14-670b-4b35-8c3b-b87481ea9831",
   "metadata": {},
   "source": [
    "- `uvx --from cowsay cowsay -t \"Hello\"`\n",
    "    - `uvx cowsay -t \"Hello\"`\n",
    "    - `uv run`\n",
    "        - `uv run --with cowsay -- python -m cowsay -t \"Hello\"`\n",
    "        - `uv run --with cowsay -- cowsay -t \"Hello\"`\n",
    "- `--` 的唯一作用是：明确地告诉一个程序，“到此为止，所有的选项（options）都结束了。从现在开始，后面出现的任何东西，即使它以 - 或 -- 开头，也必须被当作普通的位置参数（positional arguments），而不是选项。”"
   ]
  },
  {
   "cell_type": "markdown",
   "id": "befdfc20-1eec-469d-86ed-2c56d3778aaa",
   "metadata": {},
   "source": [
    "> uvx --python 3.12 --from openhands-ai openhands\n",
    "\n",
    "- uvx 是 uv 工具集的一部分，它的功能类似于 Node.js 生态中的 npx 或者 Python 生态中的 pipx。x 代表 \"execute\"（执行）。它的核心功能是：\n",
    "    - 创建一个临时的、隔离的虚拟环境。\n",
    "    - 在这个临时环境中安装指定的包。\n",
    "    - 执行该包提供的命令。\n",
    "    - 命令执行完毕后，自动清理并删除这个临时环境。\n",
    "- 这样做的好处是不会污染你的全局或项目环境，非常适合执行一些一次性或不常用的命令行工具。\n",
    "- 当你按下回车键后，uvx 会依次执行以下步骤：\n",
    "    - 解析命令：uvx 识别出你要执行的命令是 openhands，它来自 openhands-ai 包，并且需要 Python 3.12 环境。\n",
    "    - 创建临时环境：它会在一个缓存目录中快速创建一个隔离的虚拟环境，并指定使用你系统中的 Python 3.12 解释器。\n",
    "    - 安装依赖：uvx 会非常迅速地下载 openhands-ai 包以及它的所有依赖项，并将它们安装到这个临时环境中。\n",
    "    - 执行命令：在临时环境中找到 openhands 命令的入口点并执行它。如果 openhands 后面还有其他参数（例如 openhands --help），这些参数也会被一并传递。\n",
    "    - 清理环境：一旦 openhands 命令执行结束（无论是成功退出还是异常中断），uvx 都会自动将之前创建的临时虚拟环境及其所有安装的包全部删除，不留任何痕迹。\n",
    "- 等价于\n",
    "    - `uv run --python 3.12 --with openhands-ai -- openhands`"
   ]
  }
 ],
 "metadata": {
  "kernelspec": {
   "display_name": "Python 3 (ipykernel)",
   "language": "python",
   "name": "python3"
  },
  "language_info": {
   "codemirror_mode": {
    "name": "ipython",
    "version": 3
   },
   "file_extension": ".py",
   "mimetype": "text/x-python",
   "name": "python",
   "nbconvert_exporter": "python",
   "pygments_lexer": "ipython3",
   "version": "3.10.0"
  }
 },
 "nbformat": 4,
 "nbformat_minor": 5
}
