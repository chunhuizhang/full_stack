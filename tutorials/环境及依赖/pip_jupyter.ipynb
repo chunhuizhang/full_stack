{
 "cells": [
  {
   "cell_type": "markdown",
   "id": "d5fcd3b9",
   "metadata": {},
   "source": [
    "## basics"
   ]
  },
  {
   "cell_type": "markdown",
   "id": "99e69223",
   "metadata": {},
   "source": [
    "- `jupyter notebook`/`jupyter nbclassic`"
   ]
  },
  {
   "cell_type": "markdown",
   "id": "e56b29a3",
   "metadata": {},
   "source": [
    "## pip"
   ]
  },
  {
   "cell_type": "markdown",
   "id": "17a13b86",
   "metadata": {},
   "source": [
    "- 指定源\n",
    "    - `pip install -U -r requirements.txt -i https://pypi.tuna.tsinghua.edu.cn/simple`"
   ]
  },
  {
   "cell_type": "markdown",
   "id": "967ffda9",
   "metadata": {},
   "source": [
    "- `pip install -q -U`\n",
    "    - `-q`：quite\n",
    "    - `-U`：--upgrade\n",
    "    - `--user`：当前用户级别，而非系统级别；\n",
    "    "
   ]
  },
  {
   "cell_type": "markdown",
   "id": "a4ebcc56",
   "metadata": {
    "ExecuteTime": {
     "end_time": "2023-06-20T14:02:28.397744Z",
     "start_time": "2023-06-20T14:02:28.379238Z"
    }
   },
   "source": [
    "- pip install 指定 source \n",
    "    - `pip install dataset -i https://pypi.org/simple`\n",
    "- 源码安装\n",
    "    - `pip install git+https://github.com/huggingface/transformers`\n",
    "    \n",
    "    ```\n",
    "    # https 协议\n",
    "    !pip install -q git+https://github.com/huggingface/transformers.git\n",
    "    # ssh 协议\n",
    "    !pip install -q git+ssh://git@github.com/huggingface/transformers.git\n",
    "    !pip install -U git+ssh://git@github.com/huggingface/accelerate.git\n",
    "    # diffusers\n",
    "    pip install git+https://github.com/huggingface/diffusers\n",
    "    ```\n",
    "    \n",
    "    - 或者 git clone 到本地之后\n",
    "        - `pip install -e .`：setup.py 所在的路径下\n",
    "- 基于 `requirements.txt` 的安装\n",
    "    - `pip install -r requirements.txt`"
   ]
  },
  {
   "cell_type": "markdown",
   "id": "e4fe0057",
   "metadata": {},
   "source": [
    "## jupyter"
   ]
  },
  {
   "cell_type": "markdown",
   "id": "c4278799",
   "metadata": {},
   "source": [
    "- `jupyter notebook --no-browser --port=8080 --NotebookApp.token='' --NotebookApp.password='' > jupyter.log 2>&1 &`\n",
    "- `pip install jupyter -U and pip install ipywidgets -U`\n",
    "- `jupyter nbextension enable --py widgetsnbextension`\n",
    "    - 常用的插件\n",
    "        - tableofcontents：toc\n",
    "        - execute time\n",
    "        - nbextensions dashboard tab\n",
    "        - equation auto numbering"
   ]
  },
  {
   "cell_type": "markdown",
   "id": "c7a55f75-cfdb-4a8d-b3b3-cbd0f07f7dd4",
   "metadata": {},
   "source": [
    "## Jupyter lab"
   ]
  },
  {
   "cell_type": "code",
   "execution_count": 4,
   "id": "73d7785b-bea5-44e2-84a4-a20a4282d50a",
   "metadata": {},
   "outputs": [
    {
     "name": "stdout",
     "output_type": "stream",
     "text": [
      "4.1.5\n"
     ]
    }
   ],
   "source": [
    "!jupyter lab --version"
   ]
  },
  {
   "cell_type": "markdown",
   "id": "c6fa9989-71bd-4c29-bc61-0905a9051254",
   "metadata": {},
   "source": [
    "> 网页版的 vscode\n",
    "\n",
    "- `pip install jupyerlab`\n",
    "    - `jupyter notebook` => `jupyter lab`\n",
    "        - `localhost:8888/lab`\n",
    "    - 查看版本：`jupyter lab --version`\n",
    "    - `jupyter lab --LabApp.extension_manager=pypi --no-browser --port=8080 --NotebookApp.token='' --NotebookApp.password='' > jupyter.log 2>&1 &`\n",
    "        - 启动日志写入 `jupyter.log`\n",
    "- 比较方便的 features\n",
    "    - 是 jupyter notebook 的超集；\n",
    "    - 文件管理器\n",
    "        - 浏览文件\n",
    "            - 文件\n",
    "                - csv（格式化的显示，注意 delimiter 的选择）\n",
    "        - 开多个窗口\n",
    "            - 测试不同的配置，比如测试 lora 微调与全参微调；\n",
    "        - 比较方便的使用命令行界面；\n",
    "        - 自动定位当前文件所在的目录\n",
    "    - 远程连接的情况下，更容易本地上传文件到服务器端（`scp`）；\n",
    "    - 拖拉拽，调整 cell 顺序；\n",
    "- 插件\n",
    "    - `pip install jupyterlab-github`\n",
    "    - `pip install jupyter-lsp`\n",
    "    - `jupyter labextension install @jupyterlab/toc`\n",
    "    - `pip install jupyterlab_latex`\n",
    "    - 执行时间 `jupyterlab-execute-time`\n",
    "    - 查看\n",
    "        - `jupyter server extension list`\n",
    "        \n",
    "- build\n",
    "    - `jupyter lab clean`\n",
    "    - `jupyter lab build`"
   ]
  },
  {
   "cell_type": "markdown",
   "id": "a44d56e0-cfde-4ecd-897a-f0bfac4ea0ff",
   "metadata": {},
   "source": [
    "## jupyter config"
   ]
  },
  {
   "cell_type": "markdown",
   "id": "6b3323f3-9e6f-4241-988d-29b834e0ee2d",
   "metadata": {},
   "source": [
    "- references\n",
    "    - https://jupyterlab.readthedocs.io/en/4.1.x/user/files.html\n",
    "    - https://jupyter-server.readthedocs.io/en/latest/users/configuration.html\n",
    "- `$ jupyter --paths`\n",
    "- `$ jupyter server --generate-config`\n",
    "    - `~/.jupyter/jupyter_server_config.py`\n",
    "        - `ContentsManager.allow_hidden = True`"
   ]
  }
 ],
 "metadata": {
  "kernelspec": {
   "display_name": "Python 3 (ipykernel)",
   "language": "python",
   "name": "python3"
  },
  "language_info": {
   "codemirror_mode": {
    "name": "ipython",
    "version": 3
   },
   "file_extension": ".py",
   "mimetype": "text/x-python",
   "name": "python",
   "nbconvert_exporter": "python",
   "pygments_lexer": "ipython3",
   "version": "3.10.13"
  },
  "toc": {
   "base_numbering": 1,
   "nav_menu": {},
   "number_sections": true,
   "sideBar": true,
   "skip_h1_title": false,
   "title_cell": "Table of Contents",
   "title_sidebar": "Contents",
   "toc_cell": false,
   "toc_position": {},
   "toc_section_display": true,
   "toc_window_display": false
  }
 },
 "nbformat": 4,
 "nbformat_minor": 5
}
