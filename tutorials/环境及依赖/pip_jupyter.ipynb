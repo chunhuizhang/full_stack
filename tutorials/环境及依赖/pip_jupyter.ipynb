{
 "cells": [
  {
   "cell_type": "markdown",
   "id": "d5fcd3b9",
   "metadata": {},
   "source": [
    "## basics"
   ]
  },
  {
   "cell_type": "markdown",
   "id": "99e69223",
   "metadata": {},
   "source": [
    "- `jupyter notebook`/`jupyter nbclassic`"
   ]
  },
  {
   "cell_type": "markdown",
   "id": "e56b29a3",
   "metadata": {},
   "source": [
    "## pip"
   ]
  },
  {
   "cell_type": "markdown",
   "id": "a4ebcc56",
   "metadata": {
    "ExecuteTime": {
     "end_time": "2023-06-20T14:02:28.397744Z",
     "start_time": "2023-06-20T14:02:28.379238Z"
    }
   },
   "source": [
    "- 源码安装\n",
    "    - `pip install git+https://github.com/huggingface/transformers`\n",
    "    \n",
    "        - `-q`：quite\n",
    "        - `-U`：--upgrade\n",
    "    ```\n",
    "    # https 协议\n",
    "    !pip install -q git+https://github.com/huggingface/transformers.git\n",
    "    # ssh 协议\n",
    "    !pip install -q git+ssh://git@github.com/huggingface/transformers.git\n",
    "    \n",
    "    ! pip install -U git+ssh://git@github.com/huggingface/accelerate.git\n",
    "    ```\n",
    "    \n",
    "    - 或者 git clone 到本地之后\n",
    "        - `pip install -e .`：setup.py 所在的路径下\n",
    "- 基于 `requirements.txt` 的安装\n",
    "    - `pip install -r requirements.txt`"
   ]
  },
  {
   "cell_type": "markdown",
   "id": "e4fe0057",
   "metadata": {},
   "source": [
    "## jupyter"
   ]
  },
  {
   "cell_type": "markdown",
   "id": "c4278799",
   "metadata": {},
   "source": [
    "- jupyter notebook --no-browser --port=8080 --NotebookApp.token='' --NotebookApp.password='' > jupyter.log 2>&1 &"
   ]
  }
 ],
 "metadata": {
  "kernelspec": {
   "display_name": "Python 3 (ipykernel)",
   "language": "python",
   "name": "python3"
  },
  "language_info": {
   "codemirror_mode": {
    "name": "ipython",
    "version": 3
   },
   "file_extension": ".py",
   "mimetype": "text/x-python",
   "name": "python",
   "nbconvert_exporter": "python",
   "pygments_lexer": "ipython3",
   "version": "3.10.9"
  },
  "toc": {
   "base_numbering": 1,
   "nav_menu": {},
   "number_sections": true,
   "sideBar": true,
   "skip_h1_title": false,
   "title_cell": "Table of Contents",
   "title_sidebar": "Contents",
   "toc_cell": false,
   "toc_position": {},
   "toc_section_display": true,
   "toc_window_display": false
  }
 },
 "nbformat": 4,
 "nbformat_minor": 5
}
