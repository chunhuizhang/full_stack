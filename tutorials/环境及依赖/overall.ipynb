{
 "cells": [
  {
   "cell_type": "markdown",
   "id": "bc145507-3eed-4659-834a-c7a68f706d0b",
   "metadata": {},
   "source": [
    "- `pip install -e .`\n",
    "    - `pip install --editable .`\n",
    "    - 操作的是 `setup.py` 或者 `pyproject.toml`（如果既有 `pyproject.toml`又有 `setup.py`，前者优先）"
   ]
  },
  {
   "cell_type": "markdown",
   "id": "1cd23c45-f12b-49ed-8d2f-e5ebc058f71f",
   "metadata": {},
   "source": [
    "| 特性 | `setup.py` (传统方式) | `pyproject.toml` (现代方式) |\n",
    "| :--- | :--- | :--- |\n",
    "| **核心机制** | `packages=find_packages(where='src')` 和 `package_dir={'': 'src'}` | **默认自动发现**。如果需要，可通过 `[tool.setuptools.packages.find]` 表配置。 |\n",
    "| **简洁性** | 较为冗长，需要写 Python 代码。 | 非常简洁，通常无需配置。 |\n",
    "| **推荐做法** | 使用 `find_packages()`。 | 依赖默认的自动发现。 |\n"
   ]
  },
  {
   "cell_type": "markdown",
   "id": "f5b3a458-1e5f-4c5e-aa0a-dab0ad412bb4",
   "metadata": {},
   "source": [
    "### setup.py"
   ]
  },
  {
   "cell_type": "markdown",
   "id": "8a233004-f3d2-44cf-99ea-c850c183d394",
   "metadata": {},
   "source": [
    "```python\n",
    "from setuptools import setup, find_packages\n",
    "```\n",
    "- `find_packages()`: 找到的包都是包含 `__init__.py` 的文件夹 ??"
   ]
  },
  {
   "cell_type": "markdown",
   "id": "539ce8e7-0b1d-471c-9d34-83b1ac1385dd",
   "metadata": {},
   "source": [
    "```\n",
    "my_project/\n",
    "├── src/\n",
    "│   └── my_awesome_project/      <-- 这是你的主包\n",
    "│       ├── __init__.py          <-- 把它标记为一个 Python 包\n",
    "│       ├── core.py\n",
    "│       └── utils/               <-- 这是一个子包\n",
    "│           ├── __init__.py\n",
    "│           └── helpers.py\n",
    "├── tests/\n",
    "│   └── test_core.py\n",
    "├── pyproject.toml               <-- 现代配置文件\n",
    "├── setup.py                     <-- (可选) 传统或兼容性文件\n",
    "└── README.md\n",
    "```\n",
    "\n",
    "```\n",
    "from my_awesome_project.core import SomeClass\n",
    "from my_awesome_project.utils.helpers import some_function\n",
    "```"
   ]
  },
  {
   "cell_type": "markdown",
   "id": "bc6b3c1a-90e4-4e3c-a256-f19ad417c7e2",
   "metadata": {},
   "source": [
    "```\n",
    "from setuptools import setup, find_packages\n",
    "\n",
    "setup(\n",
    "    name=\"my_awesome_project\",\n",
    "    version=\"0.1.0\",\n",
    "    # packages 参数是关键\n",
    "    # find_packages() 会在指定目录（或当前目录）下递归查找所有包含 __init__.py 的文件夹\n",
    "    # where='src' 告诉它我们的包都在 'src' 目录下\n",
    "    packages=find_packages(where='src'),\n",
    "\n",
    "    # package_dir 告诉 setuptools，包的根目录（''）对应于 'src' 文件夹\n",
    "    # 这样它才知道 'my_awesome_project' 实际上是 'src/my_awesome_project'\n",
    "    package_dir={'': 'src'},\n",
    "\n",
    "    # ... 其他元数据\n",
    "    install_requires=[\n",
    "        # ...\n",
    "    ],\n",
    ")\n",
    "```"
   ]
  },
  {
   "cell_type": "markdown",
   "id": "067bf977-e1a2-4cbb-be66-6f8b395cff6a",
   "metadata": {},
   "source": [
    "### pyproject.toml"
   ]
  },
  {
   "cell_type": "markdown",
   "id": "27bb44df-23db-484e-90f3-383cb20fdec7",
   "metadata": {},
   "source": []
  }
 ],
 "metadata": {
  "kernelspec": {
   "display_name": "torch",
   "language": "python",
   "name": "verl"
  },
  "language_info": {
   "codemirror_mode": {
    "name": "ipython",
    "version": 3
   },
   "file_extension": ".py",
   "mimetype": "text/x-python",
   "name": "python",
   "nbconvert_exporter": "python",
   "pygments_lexer": "ipython3",
   "version": "3.10.0"
  }
 },
 "nbformat": 4,
 "nbformat_minor": 5
}
