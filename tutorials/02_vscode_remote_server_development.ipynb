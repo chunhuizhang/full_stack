{
 "cells": [
  {
   "cell_type": "markdown",
   "id": "a9f13290",
   "metadata": {},
   "source": [
    "- 相关历史视频\n",
    "    - 【深度学习环境搭建】01 本机、GPU服务器端深度学习环境搭建（代码、数据共享）\n",
    "        - https://www.bilibili.com/video/BV1G14y1c7Sw/\n",
    "    - 【深度学习环境搭建】02 gpu 服务器端部署 jupyter notebook server\n",
    "        - https://www.bilibili.com/video/BV1Ye4y1P7bw/\n",
    "- jupyter notebook vs. vscode vs. pycharm\n",
    "    - pycharm 太重了，比较适合本地开发\n",
    "    - jupyter：更适合做演示（step by step 的交互式的操作），做 tutorial，不适合大规模地开发和调试\n",
    "    - vscode：集中了大量的插件，开发的生态比较好，而且非常轻量/灵活；\n"
   ]
  },
  {
   "cell_type": "markdown",
   "id": "764a0a67",
   "metadata": {},
   "source": [
    "## ssh 配置"
   ]
  },
  {
   "cell_type": "markdown",
   "id": "b5d17b5f",
   "metadata": {},
   "source": [
    "- 本机端（local） vs. 服务器端（remote）\n",
    "    - 本机端：我这边是一个 mac 电脑；\n",
    "    - 服务器端：是 ubuntu（两张 4090s）\n",
    "    - ssh 的配置\n",
    "    \n",
    "```\n",
    "# local\n",
    "# 配置服务器的信息\n",
    "$ vim ~/.ssh/config\n",
    "\n",
    "Host server\n",
    "\tHostname 192.168.101.16\n",
    "\tUser whaow\n",
    "    \n",
    "$ ssh server\n",
    "$ ssh whaow@192.168.101.16\n",
    "\n",
    "# 还可以配置免密登录\n",
    "# 类似于 github 的操作\n",
    "    # 本机端生成一个 id_rsa.pub （`~/.ssh/`）\n",
    "    # 拷贝到服务器端的 `~/.ssh` 重命名为 authorized_keys\n",
    "```"
   ]
  },
  {
   "cell_type": "markdown",
   "id": "77c8e19c",
   "metadata": {},
   "source": [
    "## nanoGPT 为例"
   ]
  },
  {
   "cell_type": "markdown",
   "id": "81da5fd1",
   "metadata": {},
   "source": [
    "- nanoGPT：非常好的一个从0到1开发 GPT2 的项目；\n",
    "    - https://github.com/karpathy/nanoGPT\n",
    "- 服务器端：\n",
    "    - git clone 这个项目\n",
    "- 客户端（local）\n",
    "    - vscode 远程连接到该项目\n",
    "- 本地端 vscode\n",
    "    - 安装必要的插件  "
   ]
  },
  {
   "cell_type": "markdown",
   "id": "0e2ac376",
   "metadata": {
    "ExecuteTime": {
     "end_time": "2023-05-13T03:25:42.698990Z",
     "start_time": "2023-05-13T03:25:42.221693Z"
    }
   },
   "source": [
    "- 断点调试，跟源码\n",
    "    - 选择 python 解释器（command + shift + p：输入 python）\n",
    "    - 配置运行时参数\n",
    "    - 打断点，F5\n",
    "    "
   ]
  }
 ],
 "metadata": {
  "kernelspec": {
   "display_name": "Python 3 (ipykernel)",
   "language": "python",
   "name": "python3"
  },
  "language_info": {
   "codemirror_mode": {
    "name": "ipython",
    "version": 3
   },
   "file_extension": ".py",
   "mimetype": "text/x-python",
   "name": "python",
   "nbconvert_exporter": "python",
   "pygments_lexer": "ipython3",
   "version": "3.10.9"
  },
  "toc": {
   "base_numbering": 1,
   "nav_menu": {},
   "number_sections": true,
   "sideBar": true,
   "skip_h1_title": false,
   "title_cell": "Table of Contents",
   "title_sidebar": "Contents",
   "toc_cell": false,
   "toc_position": {
    "height": "calc(100% - 180px)",
    "left": "10px",
    "top": "150px",
    "width": "336px"
   },
   "toc_section_display": true,
   "toc_window_display": true
  }
 },
 "nbformat": 4,
 "nbformat_minor": 5
}
