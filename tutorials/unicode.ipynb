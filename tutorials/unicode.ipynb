{
 "cells": [
  {
   "cell_type": "markdown",
   "id": "8d34cb56",
   "metadata": {},
   "source": [
    "## ascii"
   ]
  },
  {
   "cell_type": "code",
   "execution_count": 18,
   "id": "0588c471",
   "metadata": {
    "ExecuteTime": {
     "end_time": "2023-07-10T13:42:29.800995Z",
     "start_time": "2023-07-10T13:42:29.790788Z"
    }
   },
   "outputs": [
    {
     "name": "stdout",
     "output_type": "stream",
     "text": [
      "0\t\t\u0000\t\t0\n",
      "1\t\t\u0001\t\t1\n",
      "2\t\t\u0002\t\t2\n",
      "3\t\t\u0003\t\t3\n",
      "4\t\t\u0004\t\t4\n",
      "5\t\t\u0005\t\t5\n",
      "6\t\t\u0006\t\t6\n",
      "7\t\t\u0007\t\t7\n",
      "8\t\t\b\t\t8\n",
      "9\t\t\t\t\t9\n",
      "10\t\t\n",
      "\t\t10\n",
      "11\t\t\u000b",
      "\t\t11\n",
      "12\t\t\f",
      "\t\t12\n",
      "13\t\t\r",
      "\t\t13\n",
      "14\t\t\u000e\t\t14\n",
      "15\t\t\u000f\t\t15\n",
      "16\t\t\u0010\t\t16\n",
      "17\t\t\u0011\t\t17\n",
      "18\t\t\u0012\t\t18\n",
      "19\t\t\u0013\t\t19\n",
      "20\t\t\u0014\t\t20\n",
      "21\t\t\u0015\t\t21\n",
      "22\t\t\u0016\t\t22\n",
      "23\t\t\u0017\t\t23\n",
      "24\t\t\u0018\t\t24\n",
      "25\t\t\u0019\t\t25\n",
      "26\t\t\u001a\t\t26\n",
      "27\t\t\u001b\t\t27\n",
      "28\t\t\u001c",
      "\t\t28\n",
      "29\t\t\u001d",
      "\t\t29\n",
      "30\t\t\u001e",
      "\t\t30\n",
      "31\t\t\u001f\t\t31\n",
      "32\t\t \t\t32\n",
      "33\t\t!\t\t33\n",
      "34\t\t\"\t\t34\n",
      "35\t\t#\t\t35\n",
      "36\t\t$\t\t36\n",
      "37\t\t%\t\t37\n",
      "38\t\t&\t\t38\n",
      "39\t\t'\t\t39\n",
      "40\t\t(\t\t40\n",
      "41\t\t)\t\t41\n",
      "42\t\t*\t\t42\n",
      "43\t\t+\t\t43\n",
      "44\t\t,\t\t44\n",
      "45\t\t-\t\t45\n",
      "46\t\t.\t\t46\n",
      "47\t\t/\t\t47\n",
      "48\t\t0\t\t48\n",
      "49\t\t1\t\t49\n",
      "50\t\t2\t\t50\n",
      "51\t\t3\t\t51\n",
      "52\t\t4\t\t52\n",
      "53\t\t5\t\t53\n",
      "54\t\t6\t\t54\n",
      "55\t\t7\t\t55\n",
      "56\t\t8\t\t56\n",
      "57\t\t9\t\t57\n",
      "58\t\t:\t\t58\n",
      "59\t\t;\t\t59\n",
      "60\t\t<\t\t60\n",
      "61\t\t=\t\t61\n",
      "62\t\t>\t\t62\n",
      "63\t\t?\t\t63\n",
      "64\t\t@\t\t64\n",
      "65\t\tA\t\t65\n",
      "66\t\tB\t\t66\n",
      "67\t\tC\t\t67\n",
      "68\t\tD\t\t68\n",
      "69\t\tE\t\t69\n",
      "70\t\tF\t\t70\n",
      "71\t\tG\t\t71\n",
      "72\t\tH\t\t72\n",
      "73\t\tI\t\t73\n",
      "74\t\tJ\t\t74\n",
      "75\t\tK\t\t75\n",
      "76\t\tL\t\t76\n",
      "77\t\tM\t\t77\n",
      "78\t\tN\t\t78\n",
      "79\t\tO\t\t79\n",
      "80\t\tP\t\t80\n",
      "81\t\tQ\t\t81\n",
      "82\t\tR\t\t82\n",
      "83\t\tS\t\t83\n",
      "84\t\tT\t\t84\n",
      "85\t\tU\t\t85\n",
      "86\t\tV\t\t86\n",
      "87\t\tW\t\t87\n",
      "88\t\tX\t\t88\n",
      "89\t\tY\t\t89\n",
      "90\t\tZ\t\t90\n",
      "91\t\t[\t\t91\n",
      "92\t\t\\\t\t92\n",
      "93\t\t]\t\t93\n",
      "94\t\t^\t\t94\n",
      "95\t\t_\t\t95\n",
      "96\t\t`\t\t96\n",
      "97\t\ta\t\t97\n",
      "98\t\tb\t\t98\n",
      "99\t\tc\t\t99\n",
      "100\t\td\t\t100\n",
      "101\t\te\t\t101\n",
      "102\t\tf\t\t102\n",
      "103\t\tg\t\t103\n",
      "104\t\th\t\t104\n",
      "105\t\ti\t\t105\n",
      "106\t\tj\t\t106\n",
      "107\t\tk\t\t107\n",
      "108\t\tl\t\t108\n",
      "109\t\tm\t\t109\n",
      "110\t\tn\t\t110\n",
      "111\t\to\t\t111\n",
      "112\t\tp\t\t112\n",
      "113\t\tq\t\t113\n",
      "114\t\tr\t\t114\n",
      "115\t\ts\t\t115\n",
      "116\t\tt\t\t116\n",
      "117\t\tu\t\t117\n",
      "118\t\tv\t\t118\n",
      "119\t\tw\t\t119\n",
      "120\t\tx\t\t120\n",
      "121\t\ty\t\t121\n",
      "122\t\tz\t\t122\n",
      "123\t\t{\t\t123\n",
      "124\t\t|\t\t124\n",
      "125\t\t}\t\t125\n",
      "126\t\t~\t\t126\n",
      "127\t\t\t\t127\n",
      "128\t\t\t\t128\n",
      "129\t\t\t\t129\n",
      "130\t\t\t\t130\n",
      "131\t\t\t\t131\n",
      "132\t\t\t\t132\n",
      "133\t\t",
      "\t\t133\n",
      "134\t\t\t\t134\n",
      "135\t\t\t\t135\n",
      "136\t\t\t\t136\n",
      "137\t\t\t\t137\n",
      "138\t\t\t\t138\n",
      "139\t\t\t\t139\n",
      "140\t\t\t\t140\n",
      "141\t\t\t\t141\n",
      "142\t\t\t\t142\n",
      "143\t\t\t\t143\n",
      "144\t\t\t\t144\n",
      "145\t\t\t\t145\n",
      "146\t\t\t\t146\n",
      "147\t\t\t\t147\n",
      "148\t\t\t\t148\n",
      "149\t\t\t\t149\n",
      "150\t\t\t\t150\n",
      "151\t\t\t\t151\n",
      "152\t\t\t\t152\n",
      "153\t\t\t\t153\n",
      "154\t\t\t\t154\n",
      "155\t\t\t\t155\n",
      "156\t\t\t\t156\n",
      "157\t\t\t\t157\n",
      "158\t\t\t\t158\n",
      "159\t\t\t\t159\n",
      "160\t\t \t\t160\n",
      "161\t\t¡\t\t161\n",
      "162\t\t¢\t\t162\n",
      "163\t\t£\t\t163\n",
      "164\t\t¤\t\t164\n",
      "165\t\t¥\t\t165\n",
      "166\t\t¦\t\t166\n",
      "167\t\t§\t\t167\n",
      "168\t\t¨\t\t168\n",
      "169\t\t©\t\t169\n",
      "170\t\tª\t\t170\n",
      "171\t\t«\t\t171\n",
      "172\t\t¬\t\t172\n",
      "173\t\t­\t\t173\n",
      "174\t\t®\t\t174\n",
      "175\t\t¯\t\t175\n",
      "176\t\t°\t\t176\n",
      "177\t\t±\t\t177\n",
      "178\t\t²\t\t178\n",
      "179\t\t³\t\t179\n",
      "180\t\t´\t\t180\n",
      "181\t\tµ\t\t181\n",
      "182\t\t¶\t\t182\n",
      "183\t\t·\t\t183\n",
      "184\t\t¸\t\t184\n",
      "185\t\t¹\t\t185\n",
      "186\t\tº\t\t186\n",
      "187\t\t»\t\t187\n",
      "188\t\t¼\t\t188\n",
      "189\t\t½\t\t189\n",
      "190\t\t¾\t\t190\n",
      "191\t\t¿\t\t191\n",
      "192\t\tÀ\t\t192\n",
      "193\t\tÁ\t\t193\n",
      "194\t\tÂ\t\t194\n",
      "195\t\tÃ\t\t195\n",
      "196\t\tÄ\t\t196\n",
      "197\t\tÅ\t\t197\n",
      "198\t\tÆ\t\t198\n",
      "199\t\tÇ\t\t199\n",
      "200\t\tÈ\t\t200\n",
      "201\t\tÉ\t\t201\n",
      "202\t\tÊ\t\t202\n",
      "203\t\tË\t\t203\n",
      "204\t\tÌ\t\t204\n",
      "205\t\tÍ\t\t205\n",
      "206\t\tÎ\t\t206\n",
      "207\t\tÏ\t\t207\n",
      "208\t\tÐ\t\t208\n",
      "209\t\tÑ\t\t209\n",
      "210\t\tÒ\t\t210\n",
      "211\t\tÓ\t\t211\n",
      "212\t\tÔ\t\t212\n",
      "213\t\tÕ\t\t213\n",
      "214\t\tÖ\t\t214\n",
      "215\t\t×\t\t215\n",
      "216\t\tØ\t\t216\n",
      "217\t\tÙ\t\t217\n",
      "218\t\tÚ\t\t218\n",
      "219\t\tÛ\t\t219\n",
      "220\t\tÜ\t\t220\n",
      "221\t\tÝ\t\t221\n",
      "222\t\tÞ\t\t222\n",
      "223\t\tß\t\t223\n",
      "224\t\tà\t\t224\n",
      "225\t\tá\t\t225\n",
      "226\t\tâ\t\t226\n",
      "227\t\tã\t\t227\n",
      "228\t\tä\t\t228\n",
      "229\t\tå\t\t229\n",
      "230\t\tæ\t\t230\n",
      "231\t\tç\t\t231\n",
      "232\t\tè\t\t232\n",
      "233\t\té\t\t233\n",
      "234\t\tê\t\t234\n",
      "235\t\të\t\t235\n",
      "236\t\tì\t\t236\n",
      "237\t\tí\t\t237\n",
      "238\t\tî\t\t238\n",
      "239\t\tï\t\t239\n",
      "240\t\tð\t\t240\n",
      "241\t\tñ\t\t241\n",
      "242\t\tò\t\t242\n",
      "243\t\tó\t\t243\n",
      "244\t\tô\t\t244\n",
      "245\t\tõ\t\t245\n",
      "246\t\tö\t\t246\n",
      "247\t\t÷\t\t247\n",
      "248\t\tø\t\t248\n",
      "249\t\tù\t\t249\n",
      "250\t\tú\t\t250\n",
      "251\t\tû\t\t251\n",
      "252\t\tü\t\t252\n",
      "253\t\tý\t\t253\n",
      "254\t\tþ\t\t254\n",
      "255\t\tÿ\t\t255\n"
     ]
    }
   ],
   "source": [
    "# https://www.asciitable.com/\n",
    "for i in range(256):\n",
    "    print(f'{i}\\t\\t{chr(i)}\\t\\t{ord(chr(i))}')"
   ]
  },
  {
   "cell_type": "markdown",
   "id": "eb152f16",
   "metadata": {},
   "source": [
    "- control characters \n",
    "    - newline, tab, escape, line feed, and other nonprintable characters)"
   ]
  },
  {
   "cell_type": "markdown",
   "id": "210a13a4",
   "metadata": {},
   "source": [
    "## 1-4 bytes"
   ]
  },
  {
   "cell_type": "markdown",
   "id": "4c7b8561",
   "metadata": {},
   "source": [
    "- Unicode character composed of 1-4 bytes\n",
    "- Unicode alphabet: 143,859 Unicode characters\n",
    "    - byte alphabet\n",
    "        - 256 elements "
   ]
  },
  {
   "cell_type": "code",
   "execution_count": 1,
   "id": "f57be0d0",
   "metadata": {
    "ExecuteTime": {
     "end_time": "2023-07-10T13:31:45.009094Z",
     "start_time": "2023-07-10T13:31:44.993497Z"
    }
   },
   "outputs": [],
   "source": [
    "# Unicode character composed of 1-4 bytes\n",
    "a, e = u'a', u'€'"
   ]
  },
  {
   "cell_type": "code",
   "execution_count": 2,
   "id": "d8500edd",
   "metadata": {
    "ExecuteTime": {
     "end_time": "2023-07-10T13:31:53.876087Z",
     "start_time": "2023-07-10T13:31:53.868120Z"
    }
   },
   "outputs": [
    {
     "name": "stdout",
     "output_type": "stream",
     "text": [
      "a, b'a', 97\n"
     ]
    }
   ],
   "source": [
    "# 1 bytes\n",
    "byte = ord(a.encode('utf-8'))\n",
    "print(f\"{a}, {a.encode('utf-8')}, {byte}\")"
   ]
  },
  {
   "cell_type": "code",
   "execution_count": 4,
   "id": "80a74110",
   "metadata": {
    "ExecuteTime": {
     "end_time": "2023-07-10T13:32:07.879444Z",
     "start_time": "2023-07-10T13:32:07.860007Z"
    }
   },
   "outputs": [
    {
     "ename": "TypeError",
     "evalue": "ord() expected a character, but string of length 3 found",
     "output_type": "error",
     "traceback": [
      "\u001b[0;31m---------------------------------------------------------------------------\u001b[0m",
      "\u001b[0;31mTypeError\u001b[0m                                 Traceback (most recent call last)",
      "Cell \u001b[0;32mIn[4], line 1\u001b[0m\n\u001b[0;32m----> 1\u001b[0m byte \u001b[38;5;241m=\u001b[39m \u001b[38;5;28;43mord\u001b[39;49m\u001b[43m(\u001b[49m\u001b[43me\u001b[49m\u001b[38;5;241;43m.\u001b[39;49m\u001b[43mencode\u001b[49m\u001b[43m(\u001b[49m\u001b[38;5;124;43m'\u001b[39;49m\u001b[38;5;124;43mutf-8\u001b[39;49m\u001b[38;5;124;43m'\u001b[39;49m\u001b[43m)\u001b[49m\u001b[43m)\u001b[49m\n",
      "\u001b[0;31mTypeError\u001b[0m: ord() expected a character, but string of length 3 found"
     ]
    }
   ],
   "source": [
    "byte = ord(e.encode('utf-8'))"
   ]
  },
  {
   "cell_type": "code",
   "execution_count": 5,
   "id": "fe0402df",
   "metadata": {
    "ExecuteTime": {
     "end_time": "2023-07-10T13:32:10.642190Z",
     "start_time": "2023-07-10T13:32:10.634055Z"
    }
   },
   "outputs": [
    {
     "name": "stdout",
     "output_type": "stream",
     "text": [
      "€, b'\\xe2\\x82\\xac', [226, 130, 172]\n"
     ]
    }
   ],
   "source": [
    "# 4 bytes\n",
    "# byte = ord(e.encode('utf-8'))\n",
    "# ord 接受的是一个char\n",
    "byte = [ord(chr(i)) for i in e.encode('utf-8')]\n",
    "print(f\"{e}, {e.encode('utf-8')}, {byte}\")"
   ]
  }
 ],
 "metadata": {
  "kernelspec": {
   "display_name": "Python 3 (ipykernel)",
   "language": "python",
   "name": "python3"
  },
  "language_info": {
   "codemirror_mode": {
    "name": "ipython",
    "version": 3
   },
   "file_extension": ".py",
   "mimetype": "text/x-python",
   "name": "python",
   "nbconvert_exporter": "python",
   "pygments_lexer": "ipython3",
   "version": "3.10.9"
  },
  "toc": {
   "base_numbering": 1,
   "nav_menu": {},
   "number_sections": true,
   "sideBar": true,
   "skip_h1_title": false,
   "title_cell": "Table of Contents",
   "title_sidebar": "Contents",
   "toc_cell": false,
   "toc_position": {},
   "toc_section_display": true,
   "toc_window_display": false
  }
 },
 "nbformat": 4,
 "nbformat_minor": 5
}
