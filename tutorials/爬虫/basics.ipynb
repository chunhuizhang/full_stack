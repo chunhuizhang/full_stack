{
 "cells": [
  {
   "cell_type": "markdown",
   "id": "af8d3147-5957-4423-be64-7e307c0787a0",
   "metadata": {},
   "source": [
    "### tools"
   ]
  },
  {
   "cell_type": "markdown",
   "id": "e8813293-7768-4f1b-82c0-64e33213ea30",
   "metadata": {},
   "source": [
    "- playwright\n",
    "    - `pip install playwright --index-url https://pypi.org/simple`\n",
    "        - `playwright install`\n",
    "    - playwright + requests\n",
    "        - Playwright 是应对复杂、动态加载的现代网站的终极爬虫利器，而对于简单的文件下载，requests 库则更轻量高效。"
   ]
  }
 ],
 "metadata": {
  "kernelspec": {
   "display_name": "torch",
   "language": "python",
   "name": "verl"
  },
  "language_info": {
   "codemirror_mode": {
    "name": "ipython",
    "version": 3
   },
   "file_extension": ".py",
   "mimetype": "text/x-python",
   "name": "python",
   "nbconvert_exporter": "python",
   "pygments_lexer": "ipython3",
   "version": "3.10.0"
  }
 },
 "nbformat": 4,
 "nbformat_minor": 5
}
