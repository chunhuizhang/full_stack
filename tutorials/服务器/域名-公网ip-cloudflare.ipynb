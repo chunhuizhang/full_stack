{
 "cells": [
  {
   "cell_type": "markdown",
   "id": "d303ae15-550e-4c39-bdf2-8b9cc2bccddf",
   "metadata": {},
   "source": [
    "\n",
    "- 环境\n",
    "    - 内网（192.168.xx.xx）gpu server\n",
    "        - https://www.bilibili.com/video/BV1A54y1F7kN/\n",
    "        - host 一个 jupyter lab 的服务：\n",
    "            - localhost:8080\n",
    "            - `jupyter lab --ip=0.0.0.0 --port=8080 --allow-root --LabApp.extension_manager=pypi --no-browser --NotebookApp.token='' --NotebookApp.password='' --NotebookApp.allow_origin='*' > jupyter.log 2>&1 &`\n",
    "            - https://www.bilibili.com/video/BV1Ye4y1P7bw/\n",
    "    - 终端：macbook pro，移动的，外网环境\n",
    "- 本期我们的目标是\n",
    "    - 外网环境（通过域名的方式），穿透内网（gpu server）的 jupyter lab 服务\n",
    "        - jupyter lab 支持 terminal （gpu server 的命令行模式）\n",
    "    - 不只是 jupyter lab\n",
    "        - 你可以再内网里边 host 任意的 http 服务；\n",
    "            - videolingo、ollama、blog\n",
    "- 工具\n",
    "    - namesilo: 申请域名，填写 cloudflare 分配的域名服务器（DNS）；\n",
    "    - cloudflare：\n",
    "        - 分配域名服务器；\n",
    "        - 管理域名\n",
    "        - 配置 tunnel，进行内网穿透；\n",
    "        - namesilo 和 cloudflare 的操作参考\n",
    "            - https://www.bilibili.com/video/BV1H4421X7Wg/\n",
    "    - 查看域名解析\n",
    "        - https://www.whatsmydns.net/\n",
    "    - 查看域名信息\n",
    "        - https://lookup.icann.org/en\n",
    "        - https://www.godaddy.com/whois"
   ]
  },
  {
   "cell_type": "markdown",
   "id": "be5305ad-1593-4ec4-b05d-730f4df44724",
   "metadata": {},
   "source": [
    "### 域名（domain）"
   ]
  },
  {
   "cell_type": "markdown",
   "id": "da02e22f-dbf6-4415-996f-b892aca97a30",
   "metadata": {},
   "source": [
    "- 顶级域名TLD（top-level domain）\n",
    "    - www.baidu.**com**，com 就是 TLD\n",
    "    - jupyter.wkdns.life\n",
    "        - life：顶级域名\n",
    "        - wkdns.life：域名（namesilo 申请的）\n",
    "        - jupyter：子域名（subdomain）\n",
    "- DNS 服务商\n",
    "    - cloudflare （CF）"
   ]
  },
  {
   "cell_type": "markdown",
   "id": "35cdf30f-2e3e-4959-8720-65ca4b6a4814",
   "metadata": {},
   "source": [
    "#### 低成本获取域名"
   ]
  },
  {
   "cell_type": "markdown",
   "id": "fbd5c24e-3610-4840-bfea-1eef788c6be4",
   "metadata": {},
   "source": [
    "- 域名购买地址\n",
    "    - Namesilo，支持支付宝付费；\n",
    "        - https://www.namesilo.com/\n",
    "        - https://www.namesilo.com/account_domains.php\n",
    "            - wdkns.life\n",
    "- 域名托管到 cf\n",
    "    - https://dash.cloudflare.com/\n",
    "        - 添加域\n",
    "    - cloudflare 可以为域名分配两个域名服务器，替换 namesilo 的 nameserver\n",
    "        - cheryl.ns.cloudflare.com\n",
    "        - elliot.ns.cloudflare.com\n",
    "- 立即检查域名服务器，可能会有较久的延迟；\n",
    "    - 带有星标时，托管完成；"
   ]
  },
  {
   "cell_type": "markdown",
   "id": "bec8401c-abff-4c36-8c9e-bedccdb05628",
   "metadata": {},
   "source": [
    "### 内网穿透"
   ]
  },
  {
   "cell_type": "markdown",
   "id": "725f94a9-b24f-4816-9cbb-2c64529adb64",
   "metadata": {},
   "source": [
    "https://www.bilibili.com/video/BV1H4421X7Wg\n",
    "\n",
    "- cloudflare tunnel 实现免费的内网穿透；\n",
    "    - Zero Trust\n",
    "- Networks => Tunnels => Add a tunnel => Cloudflared\n",
    "    - `jupyter`\n",
    "    - 按照提示\n",
    "        - 在要被穿透的内网服务器上执行相关的安装指令；\n",
    "        - connectors：状态已链接；\n",
    "    - next\n",
    "        - subdomain: `jupyter`\n",
    "        - domain: `wdkns.life`\n",
    "        - type: http\n",
    "        - url: localhost:8080\n",
    "        - `jupyter.wdkns.life` => `http://localhost:8080`\n",
    "- 保存成功后回到 tunnel 的首页；\n",
    "    - 状态显示 `正常`：配置完全成功；\n",
    "- 注意内网\n",
    "    - `jupyter lab --ip=0.0.0.0 --port=8080 --allow-root --LabApp.extension_manager=pypi --no-browser --NotebookApp.token='' --NotebookApp.password='' --NotebookApp.allow_origin='*' > jupyter.log 2>&1 &`"
   ]
  },
  {
   "cell_type": "markdown",
   "id": "f6604227-75c1-41cf-893d-f419298538c4",
   "metadata": {},
   "source": [
    "#### cloudflared"
   ]
  },
  {
   "cell_type": "markdown",
   "id": "241d1686-43d2-4c75-87c7-043199a03473",
   "metadata": {},
   "source": [
    "- `sudo systemctl restart cloudflared`: 重启守护进程（daemon）\n",
    "- `sudo cloudflared service uninstall`\n",
    "    - 删除隧道；"
   ]
  }
 ],
 "metadata": {
  "kernelspec": {
   "display_name": "Python 3 (ipykernel)",
   "language": "python",
   "name": "python3"
  },
  "language_info": {
   "codemirror_mode": {
    "name": "ipython",
    "version": 3
   },
   "file_extension": ".py",
   "mimetype": "text/x-python",
   "name": "python",
   "nbconvert_exporter": "python",
   "pygments_lexer": "ipython3",
   "version": "3.10.13"
  }
 },
 "nbformat": 4,
 "nbformat_minor": 5
}
