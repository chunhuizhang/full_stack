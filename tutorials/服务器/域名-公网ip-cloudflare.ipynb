{
 "cells": [
  {
   "cell_type": "markdown",
   "id": "d303ae15-550e-4c39-bdf2-8b9cc2bccddf",
   "metadata": {},
   "source": [
    "- 查看域名解析\n",
    "    - https://www.whatsmydns.net/\n",
    "- 查看域名信息\n",
    "    - https://lookup.icann.org/en"
   ]
  },
  {
   "cell_type": "markdown",
   "id": "be5305ad-1593-4ec4-b05d-730f4df44724",
   "metadata": {},
   "source": [
    "### 域名（domain）"
   ]
  },
  {
   "cell_type": "markdown",
   "id": "da02e22f-dbf6-4415-996f-b892aca97a30",
   "metadata": {},
   "source": [
    "- 顶级域名TLD（top-level domain）\n",
    "    - www.baidu.**com**，com 就是 TLD\n",
    "- DNS 服务商\n",
    "    - cloudflare （CF）"
   ]
  },
  {
   "cell_type": "markdown",
   "id": "35cdf30f-2e3e-4959-8720-65ca4b6a4814",
   "metadata": {},
   "source": [
    "#### 低成本获取域名"
   ]
  },
  {
   "cell_type": "markdown",
   "id": "fbd5c24e-3610-4840-bfea-1eef788c6be4",
   "metadata": {},
   "source": [
    "- 域名购买地址\n",
    "    - Namesilo，支持支付宝付费；\n",
    "        - wdkns.life\n",
    "- 域名托管到 cf\n",
    "    - cloudflare 可以为域名分配两个域名服务器；\n",
    "        - doug.ns.cloudflare.com\n",
    "        - kira.ns.cloudflare.com"
   ]
  },
  {
   "cell_type": "markdown",
   "id": "bec8401c-abff-4c36-8c9e-bedccdb05628",
   "metadata": {},
   "source": [
    "### 内网穿透"
   ]
  },
  {
   "cell_type": "markdown",
   "id": "725f94a9-b24f-4816-9cbb-2c64529adb64",
   "metadata": {},
   "source": [
    "- cloudflare tunnel 实现免费的内网穿透；\n",
    "    - Zero Trust"
   ]
  }
 ],
 "metadata": {
  "kernelspec": {
   "display_name": "Python 3 (ipykernel)",
   "language": "python",
   "name": "python3"
  },
  "language_info": {
   "codemirror_mode": {
    "name": "ipython",
    "version": 3
   },
   "file_extension": ".py",
   "mimetype": "text/x-python",
   "name": "python",
   "nbconvert_exporter": "python",
   "pygments_lexer": "ipython3",
   "version": "3.10.13"
  }
 },
 "nbformat": 4,
 "nbformat_minor": 5
}
