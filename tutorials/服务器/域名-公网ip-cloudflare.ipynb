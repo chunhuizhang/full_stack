{
 "cells": [
  {
   "cell_type": "markdown",
   "id": "be5305ad-1593-4ec4-b05d-730f4df44724",
   "metadata": {},
   "source": [
    "### 域名（domain）"
   ]
  },
  {
   "cell_type": "markdown",
   "id": "da02e22f-dbf6-4415-996f-b892aca97a30",
   "metadata": {},
   "source": [
    "- 顶级域名TLD（top-level domain）\n",
    "    - www.baidu.**com**，com 就是 TLD\n",
    "- 域名购买地址\n",
    "    - Namesilo\n",
    "- DNS 服务商\n",
    "    - cloudflare"
   ]
  },
  {
   "cell_type": "markdown",
   "id": "bec8401c-abff-4c36-8c9e-bedccdb05628",
   "metadata": {},
   "source": [
    "### 内网穿透"
   ]
  },
  {
   "cell_type": "code",
   "execution_count": null,
   "id": "fee61136-cf2c-443b-a2e6-ec189c51fcd0",
   "metadata": {},
   "outputs": [],
   "source": []
  }
 ],
 "metadata": {
  "kernelspec": {
   "display_name": "Python 3 (ipykernel)",
   "language": "python",
   "name": "python3"
  },
  "language_info": {
   "codemirror_mode": {
    "name": "ipython",
    "version": 3
   },
   "file_extension": ".py",
   "mimetype": "text/x-python",
   "name": "python",
   "nbconvert_exporter": "python",
   "pygments_lexer": "ipython3",
   "version": "3.12.7"
  }
 },
 "nbformat": 4,
 "nbformat_minor": 5
}
