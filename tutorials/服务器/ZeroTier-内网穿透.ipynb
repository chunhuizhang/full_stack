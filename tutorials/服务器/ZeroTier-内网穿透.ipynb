{
 "cells": [
  {
   "cell_type": "markdown",
   "id": "3deefcce-2952-485f-b75a-dd2a091a7c54",
   "metadata": {},
   "source": [
    "https://www.bilibili.com/video/BV1hK4y1L7ND/\n",
    "\n",
    "- 是一个强大的内网穿透工具，可以把多个不同网络下的设备连接在一起，就如同在**一个局域网下**；\n",
    "    - 夸网络的的大型虚拟局域网；\n",
    "- 跨平台\n",
    "    - ubuntu：`zerotier-cli info`"
   ]
  },
  {
   "cell_type": "markdown",
   "id": "c465295e-cfc4-4995-84bb-4026eebb1b08",
   "metadata": {},
   "source": [
    "### 操作及使用"
   ]
  },
  {
   "cell_type": "markdown",
   "id": "590a7a3b-5f1e-49ff-9a9f-b806a6cf212a",
   "metadata": {},
   "source": [
    "- zerotier 网站后台 create a network，注意创建的 network id\n",
    "    - 默认 network 是 private 的；\n",
    "    - 其他终端加入进来，需要在 zerotier 的后台进行授权；\n",
    "    - zerotier 的 network 后台会给加入进来的每一台设备分配 `Managed IPs`\n",
    "    - 这个 network 下的所有终端设备均可通过 Managed IPs 进行连接\n",
    "        - ssh username@managed_ip\n",
    "        - vscode remote 等都不再画下；\n",
    "\n",
    "- ubuntu 加入\n",
    "\n",
    "```bash\n",
    "$ sudo zerotier-cli join xx\n",
    "$ sudo zerotier-cli info\n",
    "$ sudo zerotier-cli listnetworks\n",
    "```"
   ]
  }
 ],
 "metadata": {
  "kernelspec": {
   "display_name": "Python 3 (ipykernel)",
   "language": "python",
   "name": "python3"
  },
  "language_info": {
   "codemirror_mode": {
    "name": "ipython",
    "version": 3
   },
   "file_extension": ".py",
   "mimetype": "text/x-python",
   "name": "python",
   "nbconvert_exporter": "python",
   "pygments_lexer": "ipython3",
   "version": "3.10.13"
  }
 },
 "nbformat": 4,
 "nbformat_minor": 5
}
