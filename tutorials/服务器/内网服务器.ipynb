{
 "cells": [
  {
   "cell_type": "markdown",
   "id": "8140af1d-c918-4dfa-9895-c5f1d7e3bed7",
   "metadata": {},
   "source": [
    "- 客户端 vs. 内网服务器\n",
    "    - 比如 ip：192.168.xx.xx (192.168.101.16)\n",
    "- 此时需要再中间加一台中转服务器（具有公网ip）\n",
    "    - 客户端, 中转服务器, 内网服务器\n",
    "    - 公网只是桥梁而已，两个内网通过这个公网来通信，进而实现两个内网的通信。\n",
    "    - 是流量受公网服务器带宽限制，传文件受不了\n",
    "- 公网ip的服务器，ip 测试\n",
    "    - https://xiaogoucloud.xyz/cart?fid=21\n",
    "    - 服务器ip 线路测试\n",
    "        - https://github.com/zhanghanyun/backtrace\n",
    "        - 三网回程路由测试：移动联通电信；\n",
    "    - 延迟测试\n",
    "        - 站长工具"
   ]
  },
  {
   "cell_type": "markdown",
   "id": "70f4c128-73b9-49de-8811-3c6bf64a5fbb",
   "metadata": {},
   "source": [
    "### frp"
   ]
  },
  {
   "cell_type": "markdown",
   "id": "db71013b-14da-42ec-981f-cc850a9c57ef",
   "metadata": {},
   "source": [
    "https://www.bilibili.com/video/BV17B4y1G7Co/\n",
    "\n",
    "- https://github.com/fatedier/frp\n",
    "    - FRP：fast reverse proxy\n",
    "    - 配置\n",
    "        - frps.ini：bind port\n",
    "        - frpc.ini：配置中转服务器的公网ip；\n",
    "- 中转服务器以及内网服务器上都需要安装 frp\n",
    "    - 中转服务器启动：frps（作为 server 端）\n",
    "        - `./frps -c frps.ini`\n",
    "    - 内网服务器启动：frpc（作为 client 端）\n",
    "        - `./frpc -c frpc.ini`\n",
    "- 此时真正的终端，`ssh -p 6000 root@中转服务器`\n",
    "    - 中转服务器会自动把 ssh 请求转发到内网服务器（中转服务器 frp 的客户端）"
   ]
  }
 ],
 "metadata": {
  "kernelspec": {
   "display_name": "Python 3 (ipykernel)",
   "language": "python",
   "name": "python3"
  },
  "language_info": {
   "codemirror_mode": {
    "name": "ipython",
    "version": 3
   },
   "file_extension": ".py",
   "mimetype": "text/x-python",
   "name": "python",
   "nbconvert_exporter": "python",
   "pygments_lexer": "ipython3",
   "version": "3.10.13"
  }
 },
 "nbformat": 4,
 "nbformat_minor": 5
}
