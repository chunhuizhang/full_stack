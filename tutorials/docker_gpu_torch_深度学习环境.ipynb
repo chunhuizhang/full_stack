{
 "cells": [
  {
   "cell_type": "markdown",
   "id": "65880d88",
   "metadata": {},
   "source": [
    "## `nvcr.io/nvidia/pytorch`"
   ]
  },
  {
   "cell_type": "markdown",
   "id": "65bcc2a4",
   "metadata": {
    "ExecuteTime": {
     "end_time": "2023-08-26T12:15:38.969693Z",
     "start_time": "2023-08-26T12:15:38.949879Z"
    }
   },
   "source": [
    "- `docker run -it --gpus=all --rm nvcr.io/nvidia/pytorch nvidia-smi`\n",
    "    - 默认会去找 latest 的 tag，\n",
    "    - 如果想指定版本 `docker run -it --gpus=all --rm nvcr.io/nvidia/pytorch:23.03-py3 nvidia-smi`\n",
    "    - 指定 gpu id\n",
    "        - `docker run -it --gpus=\"1\" --rm nvcr.io/nvidia/pytorch:23.03-py3 nvidia-smi`\n",
    "    - `-p 8888:8888`\n",
    "        - 端口号映射"
   ]
  }
 ],
 "metadata": {
  "kernelspec": {
   "display_name": "Python 3 (ipykernel)",
   "language": "python",
   "name": "python3"
  },
  "language_info": {
   "codemirror_mode": {
    "name": "ipython",
    "version": 3
   },
   "file_extension": ".py",
   "mimetype": "text/x-python",
   "name": "python",
   "nbconvert_exporter": "python",
   "pygments_lexer": "ipython3",
   "version": "3.10.9"
  },
  "toc": {
   "base_numbering": 1,
   "nav_menu": {},
   "number_sections": true,
   "sideBar": true,
   "skip_h1_title": false,
   "title_cell": "Table of Contents",
   "title_sidebar": "Contents",
   "toc_cell": false,
   "toc_position": {},
   "toc_section_display": true,
   "toc_window_display": false
  }
 },
 "nbformat": 4,
 "nbformat_minor": 5
}
