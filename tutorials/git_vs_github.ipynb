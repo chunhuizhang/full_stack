{
 "cells": [
  {
   "cell_type": "markdown",
   "id": "7aba2977",
   "metadata": {},
   "source": [
    "## 习惯与意识"
   ]
  },
  {
   "cell_type": "markdown",
   "id": "7bbd36bd",
   "metadata": {},
   "source": [
    "- `git status`：任何一次执行操作前后，都 git status 下；\n",
    "- `git pull`：任何一次 git push 前，都先 git pull 下；"
   ]
  },
  {
   "cell_type": "markdown",
   "id": "bc0f517d",
   "metadata": {},
   "source": [
    "## 配置"
   ]
  },
  {
   "cell_type": "markdown",
   "id": "23798d0f",
   "metadata": {},
   "source": [
    "- 配置文件地址：`cat ~/.gitconfig`\n",
    "\n",
    "```\n",
    "# 支持中文\n",
    "git config  --global core.quotepath false\n",
    "```"
   ]
  },
  {
   "cell_type": "markdown",
   "id": "8fbb0253",
   "metadata": {},
   "source": [
    "## git 与 github"
   ]
  },
  {
   "cell_type": "markdown",
   "id": "6ee50212",
   "metadata": {},
   "source": [
    "- git 操作的是本地，github 操作的是远端（remote）仓库\n",
    "- 一个十分使用的操作\n",
    "    - 协议由 https 切换为 ssh（git）\n",
    "\n",
    "```\n",
    "git remote -v\n",
    "```"
   ]
  },
  {
   "cell_type": "markdown",
   "id": "f3d62768",
   "metadata": {},
   "source": [
    "## add/commit"
   ]
  },
  {
   "cell_type": "markdown",
   "id": "47149227",
   "metadata": {},
   "source": [
    "- 文件的几种状态\n",
    "    - stage <=> unstage\n",
    "        - 只有 stage 中的文件才会被 commit\n",
    "        ```\n",
    "        git add xx\n",
    "        git restore --staged xx\n",
    "        ```\n"
   ]
  },
  {
   "cell_type": "markdown",
   "id": "9b5869b9",
   "metadata": {},
   "source": [
    "- `git add`\n",
    "    - `-u`：新增文件不会被 stage"
   ]
  }
 ],
 "metadata": {
  "kernelspec": {
   "display_name": "Python 3 (ipykernel)",
   "language": "python",
   "name": "python3"
  },
  "language_info": {
   "codemirror_mode": {
    "name": "ipython",
    "version": 3
   },
   "file_extension": ".py",
   "mimetype": "text/x-python",
   "name": "python",
   "nbconvert_exporter": "python",
   "pygments_lexer": "ipython3",
   "version": "3.10.9"
  },
  "toc": {
   "base_numbering": 1,
   "nav_menu": {},
   "number_sections": true,
   "sideBar": true,
   "skip_h1_title": false,
   "title_cell": "Table of Contents",
   "title_sidebar": "Contents",
   "toc_cell": false,
   "toc_position": {},
   "toc_section_display": true,
   "toc_window_display": false
  }
 },
 "nbformat": 4,
 "nbformat_minor": 5
}
