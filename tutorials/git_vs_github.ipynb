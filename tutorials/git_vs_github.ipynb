{
 "cells": [
  {
   "cell_type": "markdown",
   "id": "7aba2977",
   "metadata": {},
   "source": [
    "## 习惯与意识"
   ]
  },
  {
   "cell_type": "markdown",
   "id": "7bbd36bd",
   "metadata": {},
   "source": [
    "- `git status`：任何一次执行操作前后，都 git status 下；\n",
    "    - 查看三大工作区状态\n",
    "- `git log --stat`：日常查看提交日志记录\n",
    "- `git pull`：任何一次 git push 前，都先 git pull 下；"
   ]
  },
  {
   "cell_type": "markdown",
   "id": "86a11fcb",
   "metadata": {},
   "source": [
    "## basics"
   ]
  },
  {
   "cell_type": "markdown",
   "id": "95638e17",
   "metadata": {},
   "source": [
    "```\n",
    "$ git remote\n",
    "origin\n",
    "```"
   ]
  },
  {
   "cell_type": "markdown",
   "id": "c5ef1f92",
   "metadata": {},
   "source": [
    "## 配置"
   ]
  },
  {
   "cell_type": "markdown",
   "id": "51e43b05",
   "metadata": {},
   "source": [
    "- 配置文件地址：`cat ~/.gitconfig`\n",
    "\n",
    "```\n",
    "# 支持中文\n",
    "git config  --global core.quotepath false\n",
    "# 修改默认的编辑器\n",
    "git config --global core.editor vim\n",
    "```"
   ]
  },
  {
   "cell_type": "markdown",
   "id": "8fbb0253",
   "metadata": {},
   "source": [
    "## git 与 github"
   ]
  },
  {
   "cell_type": "markdown",
   "id": "6ee50212",
   "metadata": {},
   "source": [
    "- git 操作的是本地，github 操作的是远端（remote）仓库\n",
    "- 一个十分使用的操作\n",
    "    - 协议由 https 切换为 ssh（git）\n",
    "\n",
    "```\n",
    "git remote -v\n",
    "```"
   ]
  },
  {
   "cell_type": "markdown",
   "id": "f3d62768",
   "metadata": {},
   "source": [
    "## add/commit"
   ]
  },
  {
   "cell_type": "markdown",
   "id": "47149227",
   "metadata": {},
   "source": [
    "- 文件的几种状态\n",
    "    - stage <=> unstage\n",
    "        - 只有 stage 中的文件才会被 commit\n",
    "        ```\n",
    "        git add xx  -- git status 后，xx 文件的提示会变为绿色\n",
    "        git restore --staged xx\n",
    "        ```\n"
   ]
  },
  {
   "cell_type": "markdown",
   "id": "9b5869b9",
   "metadata": {},
   "source": [
    "- `git add`\n",
    "    - `-u`：新增文件不会被 stage\n",
    "    - 必然一个一个add"
   ]
  },
  {
   "cell_type": "markdown",
   "id": "faac4b43",
   "metadata": {},
   "source": [
    "## 维护 .gitignore 文件"
   ]
  },
  {
   "cell_type": "markdown",
   "id": "c227586b",
   "metadata": {},
   "source": [
    "```\n",
    ".idea/\n",
    ".idea/misc.xml\n",
    "\n",
    "data/\n",
    "\n",
    "__pycache__/\n",
    "\n",
    "# model file\n",
    "*.ckpt\n",
    "\n",
    ".ipynb_checkpoints/\n",
    "```"
   ]
  },
  {
   "cell_type": "markdown",
   "id": "bd9bc1db",
   "metadata": {},
   "source": [
    "- `.gitignore` 只会对不在git仓库中的文件进行忽略，如果这些文件已经在git仓库中（已被仓库管理 versioned），则不会忽略。所以如果需要忽略的文件已经提交到本地仓库，则需要从本地仓库中删除掉，如果已经提交到远端仓库，则需要从远端仓库中删除。删除.gitignore文件才能实际生效。\n",
    "- 如果一些文件，不想被 git 管理（git status 也不会出现的提示），可以通过 `.gitignore` 管理"
   ]
  },
  {
   "cell_type": "markdown",
   "id": "671c8e16",
   "metadata": {},
   "source": [
    "## gitlab"
   ]
  },
  {
   "cell_type": "markdown",
   "id": "48399ed9",
   "metadata": {},
   "source": [
    "- protected branch\n",
    "    - in GitLab some branches can be protected. By default only Maintainer/Owner users can commit to protected branches "
   ]
  }
 ],
 "metadata": {
  "kernelspec": {
   "display_name": "Python 3 (ipykernel)",
   "language": "python",
   "name": "python3"
  },
  "language_info": {
   "codemirror_mode": {
    "name": "ipython",
    "version": 3
   },
   "file_extension": ".py",
   "mimetype": "text/x-python",
   "name": "python",
   "nbconvert_exporter": "python",
   "pygments_lexer": "ipython3",
   "version": "3.10.9"
  },
  "toc": {
   "base_numbering": 1,
   "nav_menu": {},
   "number_sections": true,
   "sideBar": true,
   "skip_h1_title": false,
   "title_cell": "Table of Contents",
   "title_sidebar": "Contents",
   "toc_cell": false,
   "toc_position": {},
   "toc_section_display": true,
   "toc_window_display": false
  }
 },
 "nbformat": 4,
 "nbformat_minor": 5
}
