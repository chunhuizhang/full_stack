{
 "cells": [
  {
   "cell_type": "code",
   "execution_count": 1,
   "id": "d8fbf695",
   "metadata": {
    "ExecuteTime": {
     "end_time": "2023-12-07T14:01:03.334908Z",
     "start_time": "2023-12-07T14:01:03.325812Z"
    }
   },
   "outputs": [],
   "source": [
    "from collections import namedtuple"
   ]
  },
  {
   "cell_type": "markdown",
   "id": "5fd653e9",
   "metadata": {},
   "source": [
    "- 定义的是类型，而不是实例，基于它再实例化实例；"
   ]
  },
  {
   "cell_type": "code",
   "execution_count": 3,
   "id": "0fa3b598",
   "metadata": {
    "ExecuteTime": {
     "end_time": "2023-12-07T14:01:53.386164Z",
     "start_time": "2023-12-07T14:01:53.379561Z"
    }
   },
   "outputs": [],
   "source": [
    "state_t = namedtuple('state_t', 'ax ay bx by rx ry')"
   ]
  },
  {
   "cell_type": "code",
   "execution_count": 6,
   "id": "816d9aad",
   "metadata": {
    "ExecuteTime": {
     "end_time": "2023-12-07T14:02:52.361773Z",
     "start_time": "2023-12-07T14:02:52.354338Z"
    }
   },
   "outputs": [],
   "source": [
    "s1 = state_t(1, 1, 2, 2, 3, 3)"
   ]
  },
  {
   "cell_type": "code",
   "execution_count": 8,
   "id": "38a6145a",
   "metadata": {
    "ExecuteTime": {
     "end_time": "2023-12-07T14:02:57.249342Z",
     "start_time": "2023-12-07T14:02:57.239560Z"
    }
   },
   "outputs": [
    {
     "data": {
      "text/plain": [
       "3"
      ]
     },
     "execution_count": 8,
     "metadata": {},
     "output_type": "execute_result"
    }
   ],
   "source": [
    "s1.rx"
   ]
  },
  {
   "cell_type": "code",
   "execution_count": 9,
   "id": "f6eea071",
   "metadata": {
    "ExecuteTime": {
     "end_time": "2023-12-07T14:03:07.629114Z",
     "start_time": "2023-12-07T14:03:07.057337Z"
    }
   },
   "outputs": [
    {
     "ename": "AttributeError",
     "evalue": "can't set attribute",
     "output_type": "error",
     "traceback": [
      "\u001b[0;31m---------------------------------------------------------------------------\u001b[0m",
      "\u001b[0;31mAttributeError\u001b[0m                            Traceback (most recent call last)",
      "Cell \u001b[0;32mIn[9], line 1\u001b[0m\n\u001b[0;32m----> 1\u001b[0m s1\u001b[38;5;241m.\u001b[39may \u001b[38;5;241m=\u001b[39m \u001b[38;5;241m5\u001b[39m\n",
      "\u001b[0;31mAttributeError\u001b[0m: can't set attribute"
     ]
    }
   ],
   "source": [
    "s1.ay = 5"
   ]
  },
  {
   "cell_type": "code",
   "execution_count": 11,
   "id": "99d35875",
   "metadata": {
    "ExecuteTime": {
     "end_time": "2023-12-07T14:05:29.285300Z",
     "start_time": "2023-12-07T14:05:29.277793Z"
    }
   },
   "outputs": [],
   "source": [
    "# Declaring namedtuple()\n",
    "Student = namedtuple('Student', ['name', 'age', 'DOB'])\n",
    " \n",
    "# Adding values\n",
    "stu1 = Student('Nandini', '19', '2541997')"
   ]
  },
  {
   "cell_type": "code",
   "execution_count": 12,
   "id": "9b8b22b3",
   "metadata": {
    "ExecuteTime": {
     "end_time": "2023-12-07T14:05:33.335897Z",
     "start_time": "2023-12-07T14:05:33.325893Z"
    }
   },
   "outputs": [
    {
     "data": {
      "text/plain": [
       "'Nandini'"
      ]
     },
     "execution_count": 12,
     "metadata": {},
     "output_type": "execute_result"
    }
   ],
   "source": [
    "stu1[0]"
   ]
  },
  {
   "cell_type": "code",
   "execution_count": 13,
   "id": "a8882d76",
   "metadata": {
    "ExecuteTime": {
     "end_time": "2023-12-07T14:05:42.663496Z",
     "start_time": "2023-12-07T14:05:42.653464Z"
    }
   },
   "outputs": [
    {
     "data": {
      "text/plain": [
       "'Nandini'"
      ]
     },
     "execution_count": 13,
     "metadata": {},
     "output_type": "execute_result"
    }
   ],
   "source": [
    "stu1.name"
   ]
  }
 ],
 "metadata": {
  "kernelspec": {
   "display_name": "Python 3 (ipykernel)",
   "language": "python",
   "name": "python3"
  },
  "language_info": {
   "codemirror_mode": {
    "name": "ipython",
    "version": 3
   },
   "file_extension": ".py",
   "mimetype": "text/x-python",
   "name": "python",
   "nbconvert_exporter": "python",
   "pygments_lexer": "ipython3",
   "version": "3.10.13"
  },
  "toc": {
   "base_numbering": 1,
   "nav_menu": {},
   "number_sections": true,
   "sideBar": true,
   "skip_h1_title": false,
   "title_cell": "Table of Contents",
   "title_sidebar": "Contents",
   "toc_cell": false,
   "toc_position": {},
   "toc_section_display": true,
   "toc_window_display": false
  }
 },
 "nbformat": 4,
 "nbformat_minor": 5
}
