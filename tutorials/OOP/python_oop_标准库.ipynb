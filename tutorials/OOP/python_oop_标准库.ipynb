{
 "cells": [
  {
   "cell_type": "code",
   "execution_count": 1,
   "id": "726d8f73",
   "metadata": {
    "ExecuteTime": {
     "end_time": "2023-10-06T04:10:14.436156Z",
     "start_time": "2023-10-06T04:10:14.418874Z"
    }
   },
   "outputs": [],
   "source": [
    "from abc import abstractmethod, ABCMeta, sta"
   ]
  },
  {
   "cell_type": "markdown",
   "id": "a6468f42",
   "metadata": {},
   "source": [
    "## @staticmethod"
   ]
  },
  {
   "cell_type": "markdown",
   "id": "0d746aeb",
   "metadata": {},
   "source": [
    "- 不需要 `import`\n",
    "- 且被其注解的类内部函数（member method），不需要 self 关键字\n",
    "\n",
    "```\n",
    "class Llama:\n",
    "    @staticmethod\n",
    "    def build(\n",
    "        ckpt_dir: str,\n",
    "        tokenizer_path: str,\n",
    "        max_seq_len: int,\n",
    "        max_batch_size: int,\n",
    "        model_parallel_size: Optional[int] = None,\n",
    "        seed: int = 1,\n",
    "    ) -> \"Llama\":\n",
    "```"
   ]
  },
  {
   "cell_type": "markdown",
   "id": "8b6fc01f",
   "metadata": {},
   "source": [
    "## `type`：关键字"
   ]
  },
  {
   "cell_type": "code",
   "execution_count": 2,
   "id": "3b0a3e35",
   "metadata": {
    "ExecuteTime": {
     "end_time": "2023-10-06T04:10:30.081669Z",
     "start_time": "2023-10-06T04:10:29.984020Z"
    }
   },
   "outputs": [],
   "source": [
    "type??"
   ]
  },
  {
   "cell_type": "markdown",
   "id": "331a047b",
   "metadata": {},
   "source": [
    "- `type(self, /, *args, **kwargs)`\n",
    "    - `type(object) -> the object's type`\n",
    "    - `type(name, bases, dict, **kwds) -> a new type`\n",
    "- `class ABCMeta(type):`"
   ]
  },
  {
   "cell_type": "code",
   "execution_count": 4,
   "id": "6186c28b",
   "metadata": {
    "ExecuteTime": {
     "end_time": "2023-10-06T04:12:03.503943Z",
     "start_time": "2023-10-06T04:12:03.497318Z"
    }
   },
   "outputs": [],
   "source": [
    "State = type('State', (object, ), {})"
   ]
  },
  {
   "cell_type": "code",
   "execution_count": 5,
   "id": "85948270",
   "metadata": {
    "ExecuteTime": {
     "end_time": "2023-10-06T04:12:12.133821Z",
     "start_time": "2023-10-06T04:12:12.124772Z"
    }
   },
   "outputs": [
    {
     "data": {
      "text/plain": [
       "type"
      ]
     },
     "execution_count": 5,
     "metadata": {},
     "output_type": "execute_result"
    }
   ],
   "source": [
    "type(State)"
   ]
  },
  {
   "cell_type": "code",
   "execution_count": 7,
   "id": "dca0d540",
   "metadata": {
    "ExecuteTime": {
     "end_time": "2023-10-06T04:12:33.321256Z",
     "start_time": "2023-10-06T04:12:33.288925Z"
    }
   },
   "outputs": [],
   "source": [
    "ABCMeta??"
   ]
  }
 ],
 "metadata": {
  "kernelspec": {
   "display_name": "Python 3 (ipykernel)",
   "language": "python",
   "name": "python3"
  },
  "language_info": {
   "codemirror_mode": {
    "name": "ipython",
    "version": 3
   },
   "file_extension": ".py",
   "mimetype": "text/x-python",
   "name": "python",
   "nbconvert_exporter": "python",
   "pygments_lexer": "ipython3",
   "version": "3.10.9"
  },
  "toc": {
   "base_numbering": 1,
   "nav_menu": {},
   "number_sections": true,
   "sideBar": true,
   "skip_h1_title": false,
   "title_cell": "Table of Contents",
   "title_sidebar": "Contents",
   "toc_cell": false,
   "toc_position": {},
   "toc_section_display": true,
   "toc_window_display": false
  }
 },
 "nbformat": 4,
 "nbformat_minor": 5
}
