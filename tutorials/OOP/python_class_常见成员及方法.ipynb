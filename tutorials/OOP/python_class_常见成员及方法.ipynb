{
 "cells": [
  {
   "cell_type": "markdown",
   "id": "914ff574-9746-4079-b1e3-29cc2239aa4c",
   "metadata": {},
   "source": [
    "## staticmethod vs. classmethod"
   ]
  },
  {
   "cell_type": "markdown",
   "id": "2b6cab54-a05b-4584-b0a2-8efe721994dc",
   "metadata": {},
   "source": [
    "- staticmethod 与 classmethod 方法的调用都不需要类的实例化；"
   ]
  },
  {
   "cell_type": "code",
   "execution_count": 9,
   "id": "83a7ac5e-a96a-40c5-94c4-e914c6d82f18",
   "metadata": {
    "execution": {
     "iopub.execute_input": "2024-06-30T03:58:51.132781Z",
     "iopub.status.busy": "2024-06-30T03:58:51.132527Z",
     "iopub.status.idle": "2024-06-30T03:58:51.139173Z",
     "shell.execute_reply": "2024-06-30T03:58:51.137899Z",
     "shell.execute_reply.started": "2024-06-30T03:58:51.132764Z"
    }
   },
   "outputs": [],
   "source": [
    "class A(object):\n",
    "    # class variable\n",
    "    bar = 1\n",
    "\n",
    "    # member function，第一个参数是 self，表示类实例\n",
    "    def foo(self):\n",
    "        print('foo')\n",
    "\n",
    "    # static method，与类实例无关\n",
    "    @staticmethod\n",
    "    def static_foo():\n",
    "        print('static_foo')\n",
    "        A.bar += 1\n",
    "        print(A.bar)\n",
    "\n",
    "    # 第一个参数是 cls，\n",
    "    @classmethod\n",
    "    def class_foo(cls):\n",
    "        print('class_foo')\n",
    "        print(cls.bar)\n",
    "        cls().foo()\n",
    " "
   ]
  },
  {
   "cell_type": "code",
   "execution_count": 5,
   "id": "468d8c53-cc45-4923-bd19-a453e0a4265e",
   "metadata": {
    "execution": {
     "iopub.execute_input": "2024-06-30T03:57:17.421019Z",
     "iopub.status.busy": "2024-06-30T03:57:17.420192Z",
     "iopub.status.idle": "2024-06-30T03:57:17.427780Z",
     "shell.execute_reply": "2024-06-30T03:57:17.426140Z",
     "shell.execute_reply.started": "2024-06-30T03:57:17.420975Z"
    }
   },
   "outputs": [
    {
     "name": "stdout",
     "output_type": "stream",
     "text": [
      "static_foo\n",
      "2\n"
     ]
    }
   ],
   "source": [
    "A.static_foo()"
   ]
  },
  {
   "cell_type": "code",
   "execution_count": 6,
   "id": "97ab0d93-e942-4e34-8ee3-c0f8aab5836f",
   "metadata": {
    "execution": {
     "iopub.execute_input": "2024-06-30T03:57:18.999437Z",
     "iopub.status.busy": "2024-06-30T03:57:18.998200Z",
     "iopub.status.idle": "2024-06-30T03:57:19.007149Z",
     "shell.execute_reply": "2024-06-30T03:57:19.005544Z",
     "shell.execute_reply.started": "2024-06-30T03:57:18.999370Z"
    }
   },
   "outputs": [
    {
     "name": "stdout",
     "output_type": "stream",
     "text": [
      "class_foo\n",
      "2\n",
      "foo\n"
     ]
    }
   ],
   "source": [
    "A.class_foo()"
   ]
  },
  {
   "cell_type": "markdown",
   "id": "b0ed1012",
   "metadata": {},
   "source": [
    "## `__hash__` & `__eq__`"
   ]
  },
  {
   "cell_type": "markdown",
   "id": "33fde495",
   "metadata": {},
   "source": [
    "```\n",
    "    def __hash__(self):\n",
    "        # self.moves 可以替换为其他任何核心数据成员（标识唯一性）\n",
    "        return int(hashlib.md5(str(self.moves).encode('utf-8')).hexdigest(), 16)\n",
    "    def __eq__(self, other):\n",
    "        if hash(self) == hash(other):\n",
    "            return True\n",
    "        return False\n",
    "```"
   ]
  }
 ],
 "metadata": {
  "kernelspec": {
   "display_name": "Python 3 (ipykernel)",
   "language": "python",
   "name": "python3"
  },
  "language_info": {
   "codemirror_mode": {
    "name": "ipython",
    "version": 3
   },
   "file_extension": ".py",
   "mimetype": "text/x-python",
   "name": "python",
   "nbconvert_exporter": "python",
   "pygments_lexer": "ipython3",
   "version": "3.10.13"
  },
  "toc": {
   "base_numbering": 1,
   "nav_menu": {},
   "number_sections": true,
   "sideBar": true,
   "skip_h1_title": false,
   "title_cell": "Table of Contents",
   "title_sidebar": "Contents",
   "toc_cell": false,
   "toc_position": {},
   "toc_section_display": true,
   "toc_window_display": false
  }
 },
 "nbformat": 4,
 "nbformat_minor": 5
}
