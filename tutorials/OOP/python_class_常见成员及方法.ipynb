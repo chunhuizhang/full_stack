{
 "cells": [
  {
   "cell_type": "markdown",
   "id": "b0ed1012",
   "metadata": {},
   "source": [
    "## `__hash__` & `__eq__`"
   ]
  },
  {
   "cell_type": "markdown",
   "id": "33fde495",
   "metadata": {},
   "source": [
    "```\n",
    "    def __hash__(self):\n",
    "        # self.moves 可以替换为其他任何核心数据成员（标识唯一性）\n",
    "        return int(hashlib.md5(str(self.moves).encode('utf-8')).hexdigest(), 16)\n",
    "    def __eq__(self, other):\n",
    "        if hash(self) == hash(other):\n",
    "            return True\n",
    "        return False\n",
    "```"
   ]
  }
 ],
 "metadata": {
  "kernelspec": {
   "display_name": "Python 3 (ipykernel)",
   "language": "python",
   "name": "python3"
  },
  "language_info": {
   "codemirror_mode": {
    "name": "ipython",
    "version": 3
   },
   "file_extension": ".py",
   "mimetype": "text/x-python",
   "name": "python",
   "nbconvert_exporter": "python",
   "pygments_lexer": "ipython3",
   "version": "3.10.9"
  },
  "toc": {
   "base_numbering": 1,
   "nav_menu": {},
   "number_sections": true,
   "sideBar": true,
   "skip_h1_title": false,
   "title_cell": "Table of Contents",
   "title_sidebar": "Contents",
   "toc_cell": false,
   "toc_position": {},
   "toc_section_display": true,
   "toc_window_display": false
  }
 },
 "nbformat": 4,
 "nbformat_minor": 5
}
