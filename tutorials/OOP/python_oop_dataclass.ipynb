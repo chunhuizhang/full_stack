{
 "cells": [
  {
   "cell_type": "code",
   "execution_count": 3,
   "id": "e021d755",
   "metadata": {
    "ExecuteTime": {
     "end_time": "2024-03-17T03:08:03.307046Z",
     "start_time": "2024-03-17T03:08:03.290847Z"
    }
   },
   "outputs": [],
   "source": [
    "from dataclasses import dataclass, field, replace\n",
    "from typing import Optional"
   ]
  },
  {
   "cell_type": "markdown",
   "id": "6c29030b",
   "metadata": {},
   "source": [
    "## @dataclass"
   ]
  },
  {
   "cell_type": "markdown",
   "id": "e861959b",
   "metadata": {},
   "source": [
    "- python 标准库\n",
    "    - 封装了很多数据参数，简化了 `__init__`\n",
    "    - 让函数返回多个值（还是封装的特性）\n",
    "    - 成员\n",
    "        - `__call__`\n",
    "- Optional\n",
    "    - `Optional[str]`\n",
    "    - `Optional[bool]`\n",
    "    - `Optional[int]`\n",
    "    - `Optional[float]`\n",
    "- 框架级别应用：fastapi 与 pydantic\n",
    "    - dataclass & attr"
   ]
  },
  {
   "cell_type": "code",
   "execution_count": 2,
   "id": "f59ad103",
   "metadata": {
    "ExecuteTime": {
     "end_time": "2023-05-28T03:48:45.882226Z",
     "start_time": "2023-05-28T03:48:45.877099Z"
    }
   },
   "outputs": [],
   "source": [
    "import math\n",
    "\n",
    "@dataclass\n",
    "class FloatNumber:\n",
    "    val: float = 0.0\n",
    "    def __post_init__(self):\n",
    "        self.decimal, self.integer = math.modf(self.val)"
   ]
  },
  {
   "cell_type": "code",
   "execution_count": 5,
   "id": "db06ce56",
   "metadata": {
    "ExecuteTime": {
     "end_time": "2023-05-28T03:49:08.007808Z",
     "start_time": "2023-05-28T03:49:08.002882Z"
    }
   },
   "outputs": [],
   "source": [
    "# 构造\n",
    "a = FloatNumber(2.3)"
   ]
  },
  {
   "cell_type": "code",
   "execution_count": 6,
   "id": "f449943a",
   "metadata": {
    "ExecuteTime": {
     "end_time": "2023-05-28T03:49:11.721162Z",
     "start_time": "2023-05-28T03:49:11.705281Z"
    }
   },
   "outputs": [
    {
     "data": {
      "text/plain": [
       "0.2999999999999998"
      ]
     },
     "execution_count": 6,
     "metadata": {},
     "output_type": "execute_result"
    }
   ],
   "source": [
    "a.decimal"
   ]
  },
  {
   "cell_type": "code",
   "execution_count": 7,
   "id": "e1cbfdf8",
   "metadata": {
    "ExecuteTime": {
     "end_time": "2023-05-28T03:49:15.209619Z",
     "start_time": "2023-05-28T03:49:15.203086Z"
    }
   },
   "outputs": [
    {
     "data": {
      "text/plain": [
       "2.0"
      ]
     },
     "execution_count": 7,
     "metadata": {},
     "output_type": "execute_result"
    }
   ],
   "source": [
    "a.integer"
   ]
  },
  {
   "cell_type": "markdown",
   "id": "9acf4b34",
   "metadata": {},
   "source": [
    "### `__init__` 与  `post_init`"
   ]
  },
  {
   "cell_type": "markdown",
   "id": "be1768df",
   "metadata": {},
   "source": [
    "```\n",
    "class BloomForCausalLM(BloomPreTrainedModel):\n",
    "    _keys_to_ignore_on_load_missing = [r\"h.*.self_attention.scale_mask_softmax.causal_mask\", r\"lm_head.weight\"]\n",
    "\n",
    "    def __init__(self, config: BloomConfig):\n",
    "        super().__init__(config)\n",
    "        self.transformer = BloomModel(config)\n",
    "        self.lm_head = nn.Linear(config.hidden_size, config.vocab_size, bias=False)\n",
    "\n",
    "        # Initialize weights and apply final processing\n",
    "        self.post_init()\n",
    "```\n",
    "\n",
    "```\n",
    "...\n",
    "def post_init(self):\n",
    "    \"\"\"\n",
    "    A method executed at the end of each Transformer model initialization, to execute code that needs the model's\n",
    "    modules properly initialized (such as weight initialization).\n",
    "    \"\"\"\n",
    "    self.init_weights()\n",
    "    self._backward_compatibility_gradient_checkpointing()\n",
    "...\n",
    "\n",
    "```"
   ]
  },
  {
   "cell_type": "markdown",
   "id": "bc92203a",
   "metadata": {},
   "source": [
    "### `field(default_factory=list)`"
   ]
  },
  {
   "cell_type": "code",
   "execution_count": 6,
   "id": "9e59deeb",
   "metadata": {
    "ExecuteTime": {
     "end_time": "2023-10-31T15:16:11.083731Z",
     "start_time": "2023-10-31T15:16:11.077342Z"
    }
   },
   "outputs": [],
   "source": [
    "@dataclass\n",
    "class ReplayBuffer:\n",
    "    maxsize: int\n",
    "    size: int = 0\n",
    "    state: list = field(default_factory=list)"
   ]
  },
  {
   "cell_type": "code",
   "execution_count": 4,
   "id": "490d2712",
   "metadata": {
    "ExecuteTime": {
     "end_time": "2023-10-31T15:16:00.535875Z",
     "start_time": "2023-10-31T15:16:00.532282Z"
    }
   },
   "outputs": [],
   "source": [
    "r = ReplayBuffer(maxsize=10)"
   ]
  },
  {
   "cell_type": "code",
   "execution_count": 9,
   "id": "5765779f",
   "metadata": {
    "ExecuteTime": {
     "end_time": "2023-10-31T15:16:22.844932Z",
     "start_time": "2023-10-31T15:16:22.835242Z"
    }
   },
   "outputs": [
    {
     "data": {
      "text/plain": [
       "[]"
      ]
     },
     "execution_count": 9,
     "metadata": {},
     "output_type": "execute_result"
    }
   ],
   "source": [
    "r.state"
   ]
  },
  {
   "cell_type": "markdown",
   "id": "687842be-bd0c-428f-a3ff-2cfeee4b00ef",
   "metadata": {},
   "source": [
    "### replace"
   ]
  },
  {
   "cell_type": "code",
   "execution_count": 4,
   "id": "e1b94af4-cad6-46d1-9344-01fc16e9dbdf",
   "metadata": {},
   "outputs": [],
   "source": [
    "@dataclass(frozen=True)\n",
    "class C:\n",
    "  x: int\n",
    "  y: int\n",
    "\n",
    "c = C(1, 2)\n",
    "c1 = replace(c, x=3)\n",
    "assert c1.x == 3 and c1.y == 2"
   ]
  },
  {
   "cell_type": "markdown",
   "id": "cf2d2d44",
   "metadata": {},
   "source": [
    "## LoraConfig"
   ]
  },
  {
   "cell_type": "markdown",
   "id": "fc33b7ae",
   "metadata": {},
   "source": [
    "```\n",
    "@dataclass\n",
    "class LoraConfig:\n",
    "    r: int = field(default=8, metadata={\"help\": \"Lora attention dimension\"})\n",
    "    lora_alpha: int = field(default=None, metadata={\"help\": \"Lora alpha\"})\n",
    "    lora_dropout: float = field(default=None, metadata={\"help\": \"Lora dropout\"})\n",
    "    ...\n",
    "    def __post_init__(self):\n",
    "        self.peft_type = PeftType.LORA\n",
    "```"
   ]
  },
  {
   "cell_type": "markdown",
   "id": "adb68ad3",
   "metadata": {},
   "source": [
    "## 李沐"
   ]
  },
  {
   "cell_type": "markdown",
   "id": "c0637619",
   "metadata": {},
   "source": [
    "- https://github.com/mli/transformers-benchmarks/blob/main/transformers.ipynb"
   ]
  },
  {
   "cell_type": "markdown",
   "id": "82d09e57",
   "metadata": {},
   "source": [
    "```\n",
    "@dataclass\n",
    "class Exp:\n",
    "    name: str           # Experiment name\n",
    "    model: str          # huggingface model name\n",
    "    batch_size: int     # batch size per GPU\n",
    "    seq_len: int = None # input sequence length\n",
    "```"
   ]
  }
 ],
 "metadata": {
  "kernelspec": {
   "display_name": "Python 3 (ipykernel)",
   "language": "python",
   "name": "python3"
  },
  "language_info": {
   "codemirror_mode": {
    "name": "ipython",
    "version": 3
   },
   "file_extension": ".py",
   "mimetype": "text/x-python",
   "name": "python",
   "nbconvert_exporter": "python",
   "pygments_lexer": "ipython3",
   "version": "3.10.13"
  },
  "toc": {
   "base_numbering": 1,
   "nav_menu": {},
   "number_sections": true,
   "sideBar": true,
   "skip_h1_title": false,
   "title_cell": "Table of Contents",
   "title_sidebar": "Contents",
   "toc_cell": false,
   "toc_position": {},
   "toc_section_display": true,
   "toc_window_display": false
  }
 },
 "nbformat": 4,
 "nbformat_minor": 5
}
