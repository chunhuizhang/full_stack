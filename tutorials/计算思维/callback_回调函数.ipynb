{
 "cells": [
  {
   "cell_type": "code",
   "execution_count": 11,
   "id": "f5baad0b",
   "metadata": {
    "ExecuteTime": {
     "end_time": "2024-02-26T13:36:27.198684Z",
     "start_time": "2024-02-26T13:36:27.192122Z"
    }
   },
   "outputs": [],
   "source": [
    "from IPython.display import Image"
   ]
  },
  {
   "cell_type": "code",
   "execution_count": 6,
   "id": "c43da576",
   "metadata": {
    "ExecuteTime": {
     "end_time": "2024-02-26T13:27:03.815474Z",
     "start_time": "2024-02-26T13:27:03.808066Z"
    }
   },
   "outputs": [],
   "source": [
    "import os\n",
    "os.environ['http_proxy'] = 'http://127.0.0.1:7890'\n",
    "os.environ['https_proxy'] = 'http://127.0.0.1:7890'"
   ]
  },
  {
   "cell_type": "markdown",
   "id": "cb53843f",
   "metadata": {},
   "source": [
    "## 基本概念"
   ]
  },
  {
   "cell_type": "markdown",
   "id": "e9d5b6c7",
   "metadata": {},
   "source": [
    "- 回调函数最严格意义上的应用场景在于用户端在使用库api（lib）时，库的api中支持函数对象（用户端函数对象）作为参数输入，\n",
    "    - 使得用户端定义的函数可以在 lib api 中被执行；\n",
    "    - 通过它可以不修改代码的情况下增加额外的功能。\n",
    "    - 回调函数可以是任何一个函数，它被作为参数传递给另一个函数，在那个函数完成其主要功能后执行（因此称之为回调）"
   ]
  },
  {
   "cell_type": "code",
   "execution_count": 15,
   "id": "4d56b588",
   "metadata": {
    "ExecuteTime": {
     "end_time": "2024-02-26T13:36:41.177265Z",
     "start_time": "2024-02-26T13:36:41.167168Z"
    }
   },
   "outputs": [
    {
     "data": {
      "text/html": [
       "<img src=\"../../imgs/callback.png\" width=\"500\"/>"
      ],
      "text/plain": [
       "<IPython.core.display.Image object>"
      ]
     },
     "execution_count": 15,
     "metadata": {},
     "output_type": "execute_result"
    }
   ],
   "source": [
    "Image(url='../../imgs/callback.png', width=500)"
   ]
  }
 ],
 "metadata": {
  "kernelspec": {
   "display_name": "Python 3 (ipykernel)",
   "language": "python",
   "name": "python3"
  },
  "language_info": {
   "codemirror_mode": {
    "name": "ipython",
    "version": 3
   },
   "file_extension": ".py",
   "mimetype": "text/x-python",
   "name": "python",
   "nbconvert_exporter": "python",
   "pygments_lexer": "ipython3",
   "version": "3.10.13"
  },
  "toc": {
   "base_numbering": 1,
   "nav_menu": {},
   "number_sections": true,
   "sideBar": true,
   "skip_h1_title": false,
   "title_cell": "Table of Contents",
   "title_sidebar": "Contents",
   "toc_cell": false,
   "toc_position": {},
   "toc_section_display": true,
   "toc_window_display": false
  }
 },
 "nbformat": 4,
 "nbformat_minor": 5
}
