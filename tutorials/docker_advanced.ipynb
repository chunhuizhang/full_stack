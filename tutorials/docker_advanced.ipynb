{
 "cells": [
  {
   "cell_type": "markdown",
   "id": "faa792b4",
   "metadata": {},
   "source": [
    "## 读写操作"
   ]
  },
  {
   "cell_type": "markdown",
   "id": "1505aa87",
   "metadata": {},
   "source": [
    "### docker cp"
   ]
  },
  {
   "cell_type": "markdown",
   "id": "6b4d5492",
   "metadata": {},
   "source": [
    "## docker compose"
   ]
  },
  {
   "cell_type": "markdown",
   "id": "953bfdc2",
   "metadata": {},
   "source": [
    "\n",
    "- `docker compose`\n",
    "\n",
    "    ```\n",
    "    sudo apt-get update\n",
    "    sudo apt-get install docker-compose-plugin\n",
    "    ```\n",
    "    - check：`docker compose version`\n",
    "    \n",
    "- `docker-compose`\n",
    "\n",
    "    ```\n",
    "    sudo apt install jq\n",
    "\n",
    "    DOCKER_COMPOSE_VERSION=$(curl --silent https://api.github.com/repos/docker/compose/releases/latest | jq .name -r)\n",
    "    echo $DOCKER_COMPOSE_VERSION\n",
    "    sudo curl -L \"https://github.com/docker/compose/releases/download/$DOCKER_COMPOSE_VERSION/docker-compose-$(uname -s)-$(uname -m)\" -o /usr/local/bin/docker-compose\n",
    "\n",
    "    sudo chmod +x /usr/local/bin/docker-compose\n",
    "    ```\n",
    "    - check: `docker-compose version`"
   ]
  },
  {
   "cell_type": "markdown",
   "id": "9cdab08d",
   "metadata": {},
   "source": [
    "## Dockerfile 与 docker build "
   ]
  },
  {
   "cell_type": "markdown",
   "id": "30fe0274",
   "metadata": {},
   "source": [
    "> 打 docker，服务 docker 化（部署）"
   ]
  },
  {
   "cell_type": "markdown",
   "id": "fda3e2f9",
   "metadata": {},
   "source": [
    "- Dockerfile\n",
    "    - entrypoint\n",
    "- 参考\n",
    "    - https://github.com/rowanz/swagaf/tree/master"
   ]
  }
 ],
 "metadata": {
  "kernelspec": {
   "display_name": "Python 3 (ipykernel)",
   "language": "python",
   "name": "python3"
  },
  "language_info": {
   "codemirror_mode": {
    "name": "ipython",
    "version": 3
   },
   "file_extension": ".py",
   "mimetype": "text/x-python",
   "name": "python",
   "nbconvert_exporter": "python",
   "pygments_lexer": "ipython3",
   "version": "3.10.9"
  },
  "toc": {
   "base_numbering": 1,
   "nav_menu": {},
   "number_sections": true,
   "sideBar": true,
   "skip_h1_title": false,
   "title_cell": "Table of Contents",
   "title_sidebar": "Contents",
   "toc_cell": false,
   "toc_position": {},
   "toc_section_display": true,
   "toc_window_display": false
  }
 },
 "nbformat": 4,
 "nbformat_minor": 5
}
