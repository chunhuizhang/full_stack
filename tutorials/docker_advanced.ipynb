{
 "cells": [
  {
   "cell_type": "markdown",
   "id": "ccebe673",
   "metadata": {},
   "source": [
    "## basics"
   ]
  },
  {
   "cell_type": "markdown",
   "id": "af003a72",
   "metadata": {
    "ExecuteTime": {
     "end_time": "2023-06-28T14:11:23.425675Z",
     "start_time": "2023-06-28T14:11:23.410997Z"
    }
   },
   "source": [
    "- 查看容器状态\n",
    "    - `docker stats`\n",
    "- `docker login`\n",
    "    - `docker login -u username -p password`\n",
    "- 删除 image\n",
    "    - `docker rmi imagename` (`docker rm container_id`)\n",
    "        - 如果一个镜像已经实例化过 容器（container），则不可以直接 `rmi image` 需要 `docker rmi -f image`\n",
    "\n",
    "- docker run/exec\n",
    "    -  `docker exec -it 80f5a2 sh`：执行容器（container）"
   ]
  },
  {
   "cell_type": "markdown",
   "id": "ae8a03ff",
   "metadata": {},
   "source": [
    "## gpus"
   ]
  },
  {
   "cell_type": "markdown",
   "id": "a83da7b1",
   "metadata": {},
   "source": [
    "- `sudo docker run --rm --runtime=nvidia --gpus all nvidia/cuda:11.6.2-base-ubuntu20.04 nvidia-smi`"
   ]
  },
  {
   "cell_type": "markdown",
   "id": "faa792b4",
   "metadata": {},
   "source": [
    "## 读写操作"
   ]
  },
  {
   "cell_type": "markdown",
   "id": "1505aa87",
   "metadata": {},
   "source": [
    "### docker cp"
   ]
  },
  {
   "cell_type": "markdown",
   "id": "23e25edd",
   "metadata": {},
   "source": [
    "- 双向文件拷贝\n",
    "    - 既可以容器拷贝到本地，也可以本地拷贝到容器\n",
    "        - 容器 id，通过 `docker ps` 查看\n",
    "    \n",
    "```\n",
    "docker cp [OPTIONS] CONTAINER:SRC_PATH DEST_PATH\n",
    "idocker cp 96f7f14e99ab:/www /tmp/\n",
    "\n",
    "docker cp [OPTIONS] SRC_PATH CONTAINER:DEST_PATH\n",
    "docker cp /www/runoob 96f7f14e99ab:/www/\n",
    "```"
   ]
  },
  {
   "cell_type": "markdown",
   "id": "6b4d5492",
   "metadata": {},
   "source": [
    "## docker compose"
   ]
  },
  {
   "cell_type": "markdown",
   "id": "6f1dc878",
   "metadata": {},
   "source": [
    "- 管理组合多个容器；\n",
    "    - 对应的配置文件为 `docker-compose.yml`\n",
    "\n",
    "```\n",
    "docker compose --profile download up --build\n",
    "# wait until its done, then:\n",
    "\n",
    "docker compose --profile [ui] up --build\n",
    "# where [ui] is one of: invoke | auto | auto-cpu | comfy | comfy-cpu\n",
    "```"
   ]
  },
  {
   "cell_type": "markdown",
   "id": "034ef99e",
   "metadata": {},
   "source": [
    "### 安装"
   ]
  },
  {
   "cell_type": "markdown",
   "id": "953bfdc2",
   "metadata": {},
   "source": [
    "\n",
    "- `docker compose`\n",
    "\n",
    "    ```\n",
    "    sudo apt-get update\n",
    "    sudo apt-get install docker-compose-plugin\n",
    "    ```\n",
    "    - check：`docker compose version`\n",
    "    \n",
    "- `docker-compose`\n",
    "\n",
    "    ```\n",
    "    sudo apt install jq\n",
    "\n",
    "    DOCKER_COMPOSE_VERSION=$(curl --silent https://api.github.com/repos/docker/compose/releases/latest | jq .name -r)\n",
    "    echo $DOCKER_COMPOSE_VERSION\n",
    "    sudo curl -L \"https://github.com/docker/compose/releases/download/$DOCKER_COMPOSE_VERSION/docker-compose-$(uname -s)-$(uname -m)\" -o /usr/local/bin/docker-compose\n",
    "\n",
    "    sudo chmod +x /usr/local/bin/docker-compose\n",
    "    ```\n",
    "    - check: `docker-compose version`"
   ]
  },
  {
   "cell_type": "markdown",
   "id": "bf4f6d84",
   "metadata": {},
   "source": [
    "### 使用"
   ]
  },
  {
   "cell_type": "markdown",
   "id": "80a8ac65",
   "metadata": {},
   "source": [
    "- `docker compose up`"
   ]
  },
  {
   "cell_type": "markdown",
   "id": "9cdab08d",
   "metadata": {},
   "source": [
    "## Dockerfile 与 docker build "
   ]
  },
  {
   "cell_type": "markdown",
   "id": "30fe0274",
   "metadata": {},
   "source": [
    "> 打 docker，服务 docker 化（部署）\n",
    "- Dockerfile：自动化脚本；\n",
    "    - 用来创建镜像（images）"
   ]
  },
  {
   "cell_type": "markdown",
   "id": "fda3e2f9",
   "metadata": {},
   "source": [
    "- Dockerfile\n",
    "    - entrypoint\n",
    "- 参考\n",
    "    - https://github.com/rowanz/swagaf/tree/master"
   ]
  },
  {
   "cell_type": "markdown",
   "id": "254ac2d2",
   "metadata": {},
   "source": [
    "### 初步使用 Dockerfile"
   ]
  },
  {
   "cell_type": "markdown",
   "id": "f1782b71",
   "metadata": {},
   "source": [
    "- 在应用的根目录创建 Dockerfile 文件\n",
    "\n",
    "    ```\n",
    "    # 指定基础镜像，省去许多基础软件安装\n",
    "    # 冒号前的官方镜像的名字，冒号后是版本号\n",
    "    # docker hub 内查看官方支持的镜像\n",
    "    FROM python:3.8-slim-buster\n",
    "    \n",
    "    \n",
    "    # 指定之后所有的 docker 命令的工作路径（working directory）\n",
    "    WORKDIR /app\n",
    "    \n",
    "    # COPY 本地路径 目标路径\n",
    "    # 将所有的程序拷贝到 docker 镜像中\n",
    "    COPY . .\n",
    "    \n",
    "    \n",
    "    # 允许我们在创建镜像时，运行任意的 shell 命令\n",
    "    RUN pip install -r requirements.txt\n",
    "    \n",
    "    \n",
    "    # CMD 指定 docker 容器运行起来后，要执行的命令\n",
    "    CMD [\"python\", \"app.py\"]\n",
    "    ```\n",
    "- 使用 `docker build -t docker-name .` 来创建一个容器（base Dockerfile）\n",
    "    - `-t`：创建的 docker 名\n",
    "    - `.`：在当前路径下寻找 Dockerfile"
   ]
  }
 ],
 "metadata": {
  "kernelspec": {
   "display_name": "Python 3 (ipykernel)",
   "language": "python",
   "name": "python3"
  },
  "language_info": {
   "codemirror_mode": {
    "name": "ipython",
    "version": 3
   },
   "file_extension": ".py",
   "mimetype": "text/x-python",
   "name": "python",
   "nbconvert_exporter": "python",
   "pygments_lexer": "ipython3",
   "version": "3.10.9"
  },
  "toc": {
   "base_numbering": 1,
   "nav_menu": {},
   "number_sections": true,
   "sideBar": true,
   "skip_h1_title": false,
   "title_cell": "Table of Contents",
   "title_sidebar": "Contents",
   "toc_cell": false,
   "toc_position": {},
   "toc_section_display": true,
   "toc_window_display": false
  }
 },
 "nbformat": 4,
 "nbformat_minor": 5
}
