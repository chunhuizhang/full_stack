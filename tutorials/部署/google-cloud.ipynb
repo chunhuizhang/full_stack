{
 "cells": [
  {
   "cell_type": "markdown",
   "id": "a308367e-8863-4483-b3c6-a692b705dc49",
   "metadata": {},
   "source": [
    "- `https://console.cloud.google.com/`\n",
    "    - cloud run\n",
    "        - 点击应用，查看 `修订版本` 相关资源配置（内存、cpu、并发）"
   ]
  },
  {
   "cell_type": "markdown",
   "id": "82c664f5-03ff-43b9-b848-131ac5d35381",
   "metadata": {},
   "source": [
    "### gcloud sdk"
   ]
  },
  {
   "cell_type": "markdown",
   "id": "db428138-214a-4a54-9e0f-020dc3abf378",
   "metadata": {},
   "source": [
    "- 部署\n",
    "    - `gcloud builds submit --tag gcr.io/gen-lang-client-0607128512/hello-world-service`\n",
    "        - 使用 Google Cloud Build 服务，将你当前目录下的代码构建成一个 Docker 容器镜像，并将其命名/标记 (tag) 为 gcr.io/gen-lang-client-0607128512/hello-world-service，然后推送到 Google Container Registry (GCR) 中进行存储。\n",
    "        - 简单来说，它就是把你本地的代码变成一个可以在云端运行的、标准化的“应用包裹”（容器镜像）。\n",
    "    - `gcloud run deploy hello-world-service --image gcr.io/gen-lang-client-0607128512/hello-world-service --platform managed --region us-central1 --allow-unauthenticated --timeout=600`"
   ]
  },
  {
   "cell_type": "markdown",
   "id": "1ec5aeb2-926f-4bfc-a5f1-90a437cd6281",
   "metadata": {},
   "source": [
    "- 查看部署的应用\n",
    "```\n",
    "gcloud run services list\n",
    "```"
   ]
  }
 ],
 "metadata": {
  "kernelspec": {
   "display_name": "Python 3 (ipykernel)",
   "language": "python",
   "name": "python3"
  },
  "language_info": {
   "codemirror_mode": {
    "name": "ipython",
    "version": 3
   },
   "file_extension": ".py",
   "mimetype": "text/x-python",
   "name": "python",
   "nbconvert_exporter": "python",
   "pygments_lexer": "ipython3",
   "version": "3.10.0"
  }
 },
 "nbformat": 4,
 "nbformat_minor": 5
}
