{
 "cells": [
  {
   "cell_type": "markdown",
   "id": "4e13b915-6d18-4cd3-8c2f-70931e0d5c72",
   "metadata": {},
   "source": [
    "- `npx vercel whoami --token 'YOUR_TOKEN'`\n",
    "    - 验证用户名及 token 有效性\n",
    "    - https://vercel.com/account/settings/tokens\n",
    "        - 创建 token"
   ]
  },
  {
   "cell_type": "markdown",
   "id": "27364c0c-7dca-49f7-bbf4-0272e09b1f7f",
   "metadata": {},
   "source": [
    "### 部署"
   ]
  },
  {
   "cell_type": "markdown",
   "id": "2bab8d7f-ca31-49d3-8a46-8336654182e1",
   "metadata": {},
   "source": [
    "```sh\n",
    "export VERCEL_TOKEN=... \n",
    "npx vercel --prod --yes 一条命令上线。\n",
    "```\n",
    "\n",
    "- 查看\n",
    "    - `npx vercel ls --prod --token ''`\n",
    "- 下线\n",
    "    - `npx vercel remove https://xx.vercel.app --yes --token 'YOUR_TOKEN'`\n"
   ]
  },
  {
   "cell_type": "markdown",
   "id": "9ff886fd-85d8-4ac8-b2d5-fd7b97a2a739",
   "metadata": {},
   "source": [
    "### 域名"
   ]
  },
  {
   "cell_type": "markdown",
   "id": "5fd8c80d-0a78-40e4-9451-a642b72dc221",
   "metadata": {},
   "source": [
    "- Vercel 默认域是 `*.vercel.app`\n",
    "- 还可以通过 Cloudflare Pages 申请域名"
   ]
  }
 ],
 "metadata": {
  "kernelspec": {
   "display_name": "Python 3 (ipykernel)",
   "language": "python",
   "name": "python3"
  },
  "language_info": {
   "codemirror_mode": {
    "name": "ipython",
    "version": 3
   },
   "file_extension": ".py",
   "mimetype": "text/x-python",
   "name": "python",
   "nbconvert_exporter": "python",
   "pygments_lexer": "ipython3",
   "version": "3.13.5"
  }
 },
 "nbformat": 4,
 "nbformat_minor": 5
}
