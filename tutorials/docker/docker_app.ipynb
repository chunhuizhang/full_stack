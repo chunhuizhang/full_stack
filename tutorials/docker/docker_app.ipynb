{
 "cells": [
  {
   "cell_type": "markdown",
   "id": "d5a3429f-1eeb-4ff0-914c-81a22f581b9a",
   "metadata": {},
   "source": [
    "- docker build -t\n",
    "    - `docker build -t my-app:1.0 .`\n",
    "    - 构建一个 Docker 镜像，并为这个新镜像指定一个名字（tag）。\n",
    "\n",
    "\n",
    "```sh\n",
    "# 基于当前文件下的 Dockerfile 创建 helloworld-service:latest 的镜像\n",
    "docker build -t helloworld-service .\n",
    "\n",
    "# 基于该镜像启动该web服务（-d：detach，-p：端口号映射）\n",
    "docker run -d -p 8080:8080 --name my-hello-app helloworld-service\n",
    "```"
   ]
  }
 ],
 "metadata": {
  "kernelspec": {
   "display_name": "Python 3 (ipykernel)",
   "language": "python",
   "name": "python3"
  },
  "language_info": {
   "codemirror_mode": {
    "name": "ipython",
    "version": 3
   },
   "file_extension": ".py",
   "mimetype": "text/x-python",
   "name": "python",
   "nbconvert_exporter": "python",
   "pygments_lexer": "ipython3",
   "version": "3.10.0"
  }
 },
 "nbformat": 4,
 "nbformat_minor": 5
}
