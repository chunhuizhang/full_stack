{
 "cells": [
  {
   "cell_type": "markdown",
   "id": "a3d40cd2-54cf-4399-9b5a-8aa72122bc0b",
   "metadata": {},
   "source": [
    "## basics"
   ]
  },
  {
   "cell_type": "markdown",
   "id": "8129bf84-0a5a-41c9-ba1e-014413714fa5",
   "metadata": {},
   "source": [
    "```\n",
    "docker compose version\n",
    "docker --version\n",
    "docker version\n",
    "```"
   ]
  }
 ],
 "metadata": {
  "kernelspec": {
   "display_name": "Python 3 (ipykernel)",
   "language": "python",
   "name": "python3"
  },
  "language_info": {
   "codemirror_mode": {
    "name": "ipython",
    "version": 3
   },
   "file_extension": ".py",
   "mimetype": "text/x-python",
   "name": "python",
   "nbconvert_exporter": "python",
   "pygments_lexer": "ipython3",
   "version": "3.10.13"
  }
 },
 "nbformat": 4,
 "nbformat_minor": 5
}
