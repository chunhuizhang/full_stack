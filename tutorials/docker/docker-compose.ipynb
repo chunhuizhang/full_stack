{
 "cells": [
  {
   "cell_type": "markdown",
   "id": "a3d40cd2-54cf-4399-9b5a-8aa72122bc0b",
   "metadata": {},
   "source": [
    "## basics"
   ]
  },
  {
   "cell_type": "markdown",
   "id": "8129bf84-0a5a-41c9-ba1e-014413714fa5",
   "metadata": {},
   "source": [
    "```\n",
    "docker compose version\n",
    "docker --version\n",
    "docker version\n",
    "```"
   ]
  },
  {
   "cell_type": "markdown",
   "id": "47fa154b-36ad-4b61-901a-4e57350e27a9",
   "metadata": {},
   "source": [
    "### `sudo docker-compose up`"
   ]
  },
  {
   "cell_type": "markdown",
   "id": "3dc00f65-c005-4b88-ac9b-a72e57c08ace",
   "metadata": {},
   "source": [
    "- 通过一个 `docker-compose.yaml` 文件来定义并管理多个容器的配置。\n",
    "- `up` 是 `docker-compose` 的一个子命令，用于启动所有在 docker-compose.yaml 文件中定义的服务（容器）。它会执行以下操作：\n",
    "    - 拉取镜像（如果本地没有相应的镜像，会从 Docker Hub 或指定的镜像仓库拉取）。\n",
    "    - 创建并启动容器，根据 docker-compose.yaml 中的配置启动所有定义的容器。\n",
    "    - 网络与卷的创建：会自动为容器创建必要的网络和数据卷。"
   ]
  },
  {
   "cell_type": "code",
   "execution_count": null,
   "id": "df9ed997-c918-4fcb-bd4b-dc8ca5b99625",
   "metadata": {},
   "outputs": [],
   "source": []
  }
 ],
 "metadata": {
  "kernelspec": {
   "display_name": "Python 3 (ipykernel)",
   "language": "python",
   "name": "python3"
  },
  "language_info": {
   "codemirror_mode": {
    "name": "ipython",
    "version": 3
   },
   "file_extension": ".py",
   "mimetype": "text/x-python",
   "name": "python",
   "nbconvert_exporter": "python",
   "pygments_lexer": "ipython3",
   "version": "3.10.13"
  }
 },
 "nbformat": 4,
 "nbformat_minor": 5
}
