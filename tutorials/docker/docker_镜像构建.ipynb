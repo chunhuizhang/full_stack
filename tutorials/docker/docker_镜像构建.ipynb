{
 "cells": [
  {
   "cell_type": "markdown",
   "id": "6be83820",
   "metadata": {},
   "source": [
    "## 基础镜像"
   ]
  },
  {
   "cell_type": "markdown",
   "id": "e234f4b9",
   "metadata": {},
   "source": [
    "```\n",
    "FROM python:3.10-slim\n",
    "FROM python:3.8-slim-buster\n",
    "FROM ubuntu:18.04\n",
    "```"
   ]
  },
  {
   "cell_type": "markdown",
   "id": "74b168ea",
   "metadata": {},
   "source": [
    "## dockerfile"
   ]
  },
  {
   "cell_type": "markdown",
   "id": "213bac51",
   "metadata": {},
   "source": [
    "## docker build"
   ]
  },
  {
   "cell_type": "markdown",
   "id": "c38ae76e",
   "metadata": {},
   "source": [
    "## docker init"
   ]
  },
  {
   "cell_type": "markdown",
   "id": "a450959c",
   "metadata": {},
   "source": [
    "- Using docker init to write Dockerfile and docker-compose configs\n",
    "    - https://medium.com/kpmg-uk-engineering/you-should-stop-writing-dockerfiles-today-do-this-instead-3cd8a44cb8b0"
   ]
  }
 ],
 "metadata": {
  "kernelspec": {
   "display_name": "Python 3 (ipykernel)",
   "language": "python",
   "name": "python3"
  },
  "language_info": {
   "codemirror_mode": {
    "name": "ipython",
    "version": 3
   },
   "file_extension": ".py",
   "mimetype": "text/x-python",
   "name": "python",
   "nbconvert_exporter": "python",
   "pygments_lexer": "ipython3",
   "version": "3.10.13"
  },
  "toc": {
   "base_numbering": 1,
   "nav_menu": {},
   "number_sections": true,
   "sideBar": true,
   "skip_h1_title": false,
   "title_cell": "Table of Contents",
   "title_sidebar": "Contents",
   "toc_cell": false,
   "toc_position": {},
   "toc_section_display": true,
   "toc_window_display": false
  }
 },
 "nbformat": 4,
 "nbformat_minor": 5
}
