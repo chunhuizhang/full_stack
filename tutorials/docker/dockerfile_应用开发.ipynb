{
 "cells": [
  {
   "cell_type": "markdown",
   "id": "1981377b-ac6b-477f-9302-781c63450176",
   "metadata": {},
   "source": [
    "- 安装 docker desktop\n",
    "    - https://docs.docker.com/desktop/install/ubuntu/\n",
    "- web 应用：\n",
    "    - https://github.com/patrickloeber/python-docker-tutorial/tree/main/example2"
   ]
  },
  {
   "cell_type": "markdown",
   "id": "e36ee173-ec32-47a9-80a3-24c745a7a93a",
   "metadata": {},
   "source": [
    "### 基于容器的开发"
   ]
  },
  {
   "cell_type": "markdown",
   "id": "34d7a70a-03bf-4667-9761-e833345bca26",
   "metadata": {},
   "source": [
    "- 如果你 exit 退出交互式会话，但容器仍在后台运行：那么环境还在。你可以通过 `docker exec -it <container_name_or_id> /bin/bash` 再次进入容器，你的 Conda 环境和所有安装的包都原封不动。\n",
    "- 如果你 `stop` 或 `rm` 了容器：那么容器内所有未被持久化的改动都会丢失，包括你手动创建的 Conda 环境。当你基于同一个镜像（Image）重新 run 一个新容器时，它会回到镜像最初的干净状态，你之前创建的 Conda 环境就没有了。"
   ]
  },
  {
   "cell_type": "markdown",
   "id": "6be83820",
   "metadata": {},
   "source": [
    "## 基础镜像"
   ]
  },
  {
   "cell_type": "markdown",
   "id": "e234f4b9",
   "metadata": {},
   "source": [
    "```\n",
    "FROM python:3.10-slim\n",
    "FROM python:3.8-slim-buster\n",
    "FROM ubuntu:18.04\n",
    "```"
   ]
  },
  {
   "cell_type": "markdown",
   "id": "d3a7e0d2",
   "metadata": {},
   "source": [
    "## Dockerfile"
   ]
  },
  {
   "cell_type": "markdown",
   "id": "718d9988-00fe-40df-b384-95f718bc0170",
   "metadata": {},
   "source": [
    "- `Dockerfile` 创建image的自动化脚本；"
   ]
  },
  {
   "cell_type": "markdown",
   "id": "fbc39c0f",
   "metadata": {},
   "source": [
    "## docker build"
   ]
  },
  {
   "cell_type": "markdown",
   "id": "bc5c3d4d-4726-43f0-ab56-e4785006be5a",
   "metadata": {},
   "source": [
    "- `-t`：指定 tag\n",
    "    -  基于 `Dockerfile` 文件，希望构建一个镜像叫做 myapp，版本标签为 1.0，你可以这样使用：\n",
    "        -  `docker build -t myapp:1.0`\n",
    "    - 默认的 tag：`latest`"
   ]
  },
  {
   "cell_type": "markdown",
   "id": "44f3bae4-11e3-40ac-9955-c4466d7724b4",
   "metadata": {},
   "source": [
    "### docker run"
   ]
  },
  {
   "cell_type": "markdown",
   "id": "d765cbf0-9932-4a29-9910-12d30be7d5c0",
   "metadata": {},
   "source": [
    "- `-v {YOUR_LOCAL_DB_PATH}:/app/local-db`\n",
    "    - -v {本地路径}:{容器内路径}\n",
    "    - 在你的本地计算机（主机 Host）和Docker容器 (Container) 之间建立一个共享文件夹。\n",
    "    - 最大好处是：数据持久化。 Docker 容器本身是“无状态”的，意味着如果你删除了容器 (docker rm)，容器内部产生的所有数据都会丢失。通过卷挂载，数据库文件被保存在你的本地电脑上，即使容器被删除或重建，数据依然安全。"
   ]
  },
  {
   "cell_type": "markdown",
   "id": "ccfe1b5c",
   "metadata": {},
   "source": [
    "## docker init"
   ]
  },
  {
   "cell_type": "markdown",
   "id": "8592b613",
   "metadata": {},
   "source": [
    "- Using docker init to write Dockerfile and docker-compose configs\n",
    "    - https://medium.com/kpmg-uk-engineering/you-should-stop-writing-dockerfiles-today-do-this-instead-3cd8a44cb8b0"
   ]
  }
 ],
 "metadata": {
  "kernelspec": {
   "display_name": "Python 3 (ipykernel)",
   "language": "python",
   "name": "python3"
  },
  "language_info": {
   "codemirror_mode": {
    "name": "ipython",
    "version": 3
   },
   "file_extension": ".py",
   "mimetype": "text/x-python",
   "name": "python",
   "nbconvert_exporter": "python",
   "pygments_lexer": "ipython3",
   "version": "3.13.5"
  },
  "toc": {
   "base_numbering": 1,
   "nav_menu": {},
   "number_sections": true,
   "sideBar": true,
   "skip_h1_title": false,
   "title_cell": "Table of Contents",
   "title_sidebar": "Contents",
   "toc_cell": false,
   "toc_position": {},
   "toc_section_display": true,
   "toc_window_display": false
  }
 },
 "nbformat": 4,
 "nbformat_minor": 5
}
