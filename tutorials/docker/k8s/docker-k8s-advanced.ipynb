{
 "cells": [
  {
   "cell_type": "markdown",
   "id": "21474279-7ebd-4de7-a83e-802c7362dfc9",
   "metadata": {},
   "source": [
    "- 构建（Build）: 将你的代码打包成一个标准化的“集装箱”（Docker 镜像）。\n",
    "    - 容器 (Container): 镜像的运行实例\n",
    "- 部署（Deploy）: 将这个“集装箱”在 Kubernetes 这个“自动化码头”上运行起来。\n",
    "- 配置（Configure）: 告诉系统里的其他服务，你这个新的服务已经就位，可以开始接收任务了。"
   ]
  }
 ],
 "metadata": {
  "kernelspec": {
   "display_name": "Python 3 (ipykernel)",
   "language": "python",
   "name": "python3"
  },
  "language_info": {
   "codemirror_mode": {
    "name": "ipython",
    "version": 3
   },
   "file_extension": ".py",
   "mimetype": "text/x-python",
   "name": "python",
   "nbconvert_exporter": "python",
   "pygments_lexer": "ipython3",
   "version": "3.10.0"
  }
 },
 "nbformat": 4,
 "nbformat_minor": 5
}
