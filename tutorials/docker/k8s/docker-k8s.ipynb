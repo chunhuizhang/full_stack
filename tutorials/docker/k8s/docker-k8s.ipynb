{
 "cells": [
  {
   "cell_type": "code",
   "execution_count": 1,
   "id": "e55ff59f-4212-4365-a744-9aab182b504c",
   "metadata": {},
   "outputs": [],
   "source": [
    "from IPython.display import Image"
   ]
  },
  {
   "cell_type": "markdown",
   "id": "b5bcb8f2-51da-4d54-a843-6eab19d49b6d",
   "metadata": {},
   "source": [
    "- docker image => pods => k8s\n",
    "    - k8s （集群编排工具）管理部署的是 docker image\n",
    "        - 严谨地说，k8s 管理的不是单个容器，而是更高一级的抽象 pod（Pod 为容器提供了一个运行环境。）\n",
    "        - Pod 可能会被 Kubernetes 调度到集群中的任何一台工作节点（Node）上运行\n",
    "    - docker image 实例化之后是 container（容器，docker ps 查看）\n",
    "        - docker run image => image 对应的正在运行的容器"
   ]
  },
  {
   "cell_type": "markdown",
   "id": "f7d66810-66e0-42ff-b39b-a9a2e3ca4b49",
   "metadata": {},
   "source": [
    "```mermaid\n",
    "graph TD\n",
    "    subgraph \"镜像仓库 (Image Registry)\"\n",
    "        Image[\"Docker Image (静态模板)\"]\n",
    "    end\n",
    "\n",
    "    subgraph \"Kubernetes 集群 (Cluster)\"\n",
    "        subgraph \"工作节点 (Node 1)\"\n",
    "            Pod1[\"Pod A\"]\n",
    "            Pod2[\"Pod B\"]\n",
    "        end\n",
    "        subgraph \"工作节点 (Node 2)\"\n",
    "            Pod3[\"Pod C\"]\n",
    "        end\n",
    "        \n",
    "        Pod1 -- \"包含\" --> C1[\"Container 1\"]\n",
    "        Pod1 -- \"包含\" --> C2[\"Sidecar Container 2\"]\n",
    "        Pod2 -- \"包含\" --> C3[\"Container 3\"]\n",
    "        Pod3 -- \"包含\" --> C4[\"Container 4\"]\n",
    "    end\n",
    "\n",
    "    Image -- \"创建实例\" --> C1\n",
    "    Image -- \"创建实例\" --> C3\n",
    "    Image -- \"创建实例\" --> C4\n",
    "\n",
    "    style Image fill:#cde4ff,stroke:#333,stroke-width:2px\n",
    "    style Pod1 fill:#d5e8d4,stroke:#82b366,stroke-width:2px\n",
    "    style Pod2 fill:#d5e8d4,stroke:#82b366,stroke-width:2px\n",
    "    style Pod3 fill:#d5e8d4,stroke:#82b366,stroke-width:2px\n",
    "```"
   ]
  },
  {
   "cell_type": "markdown",
   "id": "d8f4ec70-51b1-4ff0-a4c3-1c61754a9d32",
   "metadata": {},
   "source": [
    "- docker\n",
    "    - 容器（container）的部署\n",
    "    - docker compose：多个容器（containers）组成的一整套服务（称其为相对复杂的应用）；\n",
    "    - docker swarm：docker compose 对应的一整套服务在多台服务器（nodes）上的集群部署问题\n",
    "        - docker compose 对应的应用在 a 服务器上挂了，就将该应用在 b 服务器上重新部署一套\n",
    "        - 实现迁移，还能根据需要对应用做扩缩容；\n",
    "- k8s：docker swarm 的竞品；\n",
    "    - 在多台node的服务器上**调度 pod** 进行部署和扩缩容；\n",
    "    - 每个 pod：可以含有多个 container（docker compose 基于多个 containers 创建的服务）\n",
    "    - 官方定义：容器编排引擎，以API编程的方式管理安排各个容器的引擎；"
   ]
  },
  {
   "cell_type": "code",
   "execution_count": 2,
   "id": "5f3a67dd-b2cc-4a99-8c08-b356f96cb231",
   "metadata": {
    "execution": {
     "iopub.execute_input": "2025-01-15T15:30:10.726440Z",
     "iopub.status.busy": "2025-01-15T15:30:10.725892Z",
     "iopub.status.idle": "2025-01-15T15:30:10.745150Z",
     "shell.execute_reply": "2025-01-15T15:30:10.743026Z",
     "shell.execute_reply.started": "2025-01-15T15:30:10.726394Z"
    },
    "scrolled": true
   },
   "outputs": [
    {
     "data": {
      "text/html": [
       "<img src=\"https://kubernetes.io/docs/tutorials/kubernetes-basics/public/images/module_03_nodes.svg\" width=\"400\"/>"
      ],
      "text/plain": [
       "<IPython.core.display.Image object>"
      ]
     },
     "execution_count": 2,
     "metadata": {},
     "output_type": "execute_result"
    }
   ],
   "source": [
    "Image(url='https://kubernetes.io/docs/tutorials/kubernetes-basics/public/images/module_03_nodes.svg', width=400)"
   ]
  }
 ],
 "metadata": {
  "kernelspec": {
   "display_name": "Python 3 (ipykernel)",
   "language": "python",
   "name": "python3"
  },
  "language_info": {
   "codemirror_mode": {
    "name": "ipython",
    "version": 3
   },
   "file_extension": ".py",
   "mimetype": "text/x-python",
   "name": "python",
   "nbconvert_exporter": "python",
   "pygments_lexer": "ipython3",
   "version": "3.10.0"
  }
 },
 "nbformat": 4,
 "nbformat_minor": 5
}
