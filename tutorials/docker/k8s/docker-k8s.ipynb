{
 "cells": [
  {
   "cell_type": "code",
   "execution_count": 1,
   "id": "e55ff59f-4212-4365-a744-9aab182b504c",
   "metadata": {
    "execution": {
     "iopub.execute_input": "2025-01-15T15:29:47.789246Z",
     "iopub.status.busy": "2025-01-15T15:29:47.788678Z",
     "iopub.status.idle": "2025-01-15T15:29:47.797934Z",
     "shell.execute_reply": "2025-01-15T15:29:47.796257Z",
     "shell.execute_reply.started": "2025-01-15T15:29:47.789197Z"
    }
   },
   "outputs": [],
   "source": [
    "from IPython.display import Image"
   ]
  },
  {
   "cell_type": "markdown",
   "id": "d8f4ec70-51b1-4ff0-a4c3-1c61754a9d32",
   "metadata": {},
   "source": [
    "- docker\n",
    "    - 容器（container）的部署\n",
    "    - docker compose：多个容器（containers）组成的一整套服务（称其为相对复杂的应用）；\n",
    "    - docker swarm：docker compose 对应的一整套服务在多台服务器（nodes）上的集群部署问题\n",
    "        - docker compose 对应的应用在 a 服务器上挂了，就将该应用在 b 服务器上重新部署一套\n",
    "        - 实现迁移，还能根据需要对应用做扩缩容；\n",
    "- k8s：docker swarm 的竞品；\n",
    "    - 在多台node的服务器上**调度 pod** 进行部署和扩缩容；\n",
    "    - 每个 pod：可以含有多个 container（docker compose 基于多个 containers 创建的服务）\n",
    "    - 官方定义：容器编排引擎，以API编程的方式管理安排各个容器的引擎；"
   ]
  },
  {
   "cell_type": "code",
   "execution_count": 2,
   "id": "5f3a67dd-b2cc-4a99-8c08-b356f96cb231",
   "metadata": {
    "execution": {
     "iopub.execute_input": "2025-01-15T15:30:10.726440Z",
     "iopub.status.busy": "2025-01-15T15:30:10.725892Z",
     "iopub.status.idle": "2025-01-15T15:30:10.745150Z",
     "shell.execute_reply": "2025-01-15T15:30:10.743026Z",
     "shell.execute_reply.started": "2025-01-15T15:30:10.726394Z"
    }
   },
   "outputs": [
    {
     "data": {
      "text/html": [
       "<img src=\"https://kubernetes.io/docs/tutorials/kubernetes-basics/public/images/module_03_nodes.svg\" width=\"400\"/>"
      ],
      "text/plain": [
       "<IPython.core.display.Image object>"
      ]
     },
     "execution_count": 2,
     "metadata": {},
     "output_type": "execute_result"
    }
   ],
   "source": [
    "Image(url='https://kubernetes.io/docs/tutorials/kubernetes-basics/public/images/module_03_nodes.svg', width=400)"
   ]
  },
  {
   "cell_type": "code",
   "execution_count": null,
   "id": "cea69a69-388c-4099-a68c-e6f3aacdc80e",
   "metadata": {},
   "outputs": [],
   "source": []
  }
 ],
 "metadata": {
  "kernelspec": {
   "display_name": "Python 3 (ipykernel)",
   "language": "python",
   "name": "python3"
  },
  "language_info": {
   "codemirror_mode": {
    "name": "ipython",
    "version": 3
   },
   "file_extension": ".py",
   "mimetype": "text/x-python",
   "name": "python",
   "nbconvert_exporter": "python",
   "pygments_lexer": "ipython3",
   "version": "3.10.13"
  }
 },
 "nbformat": 4,
 "nbformat_minor": 5
}
