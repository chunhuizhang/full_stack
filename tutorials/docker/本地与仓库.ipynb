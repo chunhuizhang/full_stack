{
 "cells": [
  {
   "cell_type": "markdown",
   "id": "5122ae19-eb28-4890-96ea-52f487e1726a",
   "metadata": {},
   "source": [
    "- 远端仓库中查看版本更新\n",
    "    - 远端看不到 image id（这是本地概念），\n",
    "    - 本地和远端关联的方式是 sha256:xxx (digest)\n",
    "        - 本地通过 docker images --digests xx 查看，本地 docker 的版本跟远端的对应"
   ]
  }
 ],
 "metadata": {
  "kernelspec": {
   "display_name": "torch",
   "language": "python",
   "name": "verl"
  },
  "language_info": {
   "codemirror_mode": {
    "name": "ipython",
    "version": 3
   },
   "file_extension": ".py",
   "mimetype": "text/x-python",
   "name": "python",
   "nbconvert_exporter": "python",
   "pygments_lexer": "ipython3",
   "version": "3.10.0"
  }
 },
 "nbformat": 4,
 "nbformat_minor": 5
}
