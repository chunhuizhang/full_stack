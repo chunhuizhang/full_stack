{
 "cells": [
  {
   "cell_type": "markdown",
   "id": "2509d84a",
   "metadata": {},
   "source": [
    "## docker start vs. exec"
   ]
  },
  {
   "cell_type": "markdown",
   "id": "7835e600",
   "metadata": {},
   "source": [
    "- `docker run`: 启动一个**全新**的容器实例（container）\n",
    "\n",
    "- `docker ps -a`：所有创建 (docker run) /启动过的容器实例\n",
    "    - 分配过 container_id/names\n",
    "    - vscode container plugin 也都会维护\n",
    "- `docker start container_id` / `docker start name`\n",
    "    - `ps -a`：可以查看\n",
    "- `docker exec container_id/name`\n",
    "- 如果想在一个 container 实例（id 或者 name 对应），则每次都 docker start 这个 id，`docker exec -it id/name /bin/bash`\n",
    "    - 可实现对这个容器实例的持续读写，即开发维护；"
   ]
  },
  {
   "cell_type": "markdown",
   "id": "c20a8ac5",
   "metadata": {},
   "source": [
    "## commit vs. save. load"
   ]
  },
  {
   "cell_type": "markdown",
   "id": "e7d0a72a",
   "metadata": {
    "ExecuteTime": {
     "end_time": "2024-03-09T05:21:55.182034Z",
     "start_time": "2024-03-09T05:21:55.023468Z"
    }
   },
   "source": [
    "```\n",
    "docker images\n",
    "\n",
    "# 修改\n",
    "docker run -it ubuntu:latest /bin/bash\n",
    "\n",
    "# 不退出当前镜像 查看当前镜像的 names\n",
    "docker ps   \n",
    "\n",
    "# commit & save\n",
    "docker commit name ubuntu:mine\n",
    "docker stop name\n",
    "docker save ubuntu:mine > ubuntu.mine.tar\n",
    "\n",
    "docker images\n",
    "# ubuntu:mine 对应的 image id\n",
    "docker rmi \n",
    "\n",
    "# docker load\n",
    "docker load < ubuntu.mine.tar\n",
    "\n",
    "docker images\n",
    "docker run -it ubuntu:mine /bin/bash\n",
    "```"
   ]
  },
  {
   "cell_type": "code",
   "execution_count": null,
   "id": "2b2fb306",
   "metadata": {},
   "outputs": [],
   "source": []
  }
 ],
 "metadata": {
  "kernelspec": {
   "display_name": "Python 3 (ipykernel)",
   "language": "python",
   "name": "python3"
  },
  "language_info": {
   "codemirror_mode": {
    "name": "ipython",
    "version": 3
   },
   "file_extension": ".py",
   "mimetype": "text/x-python",
   "name": "python",
   "nbconvert_exporter": "python",
   "pygments_lexer": "ipython3",
   "version": "3.10.13"
  },
  "toc": {
   "base_numbering": 1,
   "nav_menu": {},
   "number_sections": true,
   "sideBar": true,
   "skip_h1_title": false,
   "title_cell": "Table of Contents",
   "title_sidebar": "Contents",
   "toc_cell": false,
   "toc_position": {},
   "toc_section_display": true,
   "toc_window_display": false
  }
 },
 "nbformat": 4,
 "nbformat_minor": 5
}
