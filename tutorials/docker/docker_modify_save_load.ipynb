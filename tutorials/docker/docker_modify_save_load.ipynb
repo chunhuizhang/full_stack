{
 "cells": [
  {
   "cell_type": "markdown",
   "id": "e7d0a72a",
   "metadata": {
    "ExecuteTime": {
     "end_time": "2024-03-09T05:21:55.182034Z",
     "start_time": "2024-03-09T05:21:55.023468Z"
    }
   },
   "source": [
    "```\n",
    "docker images\n",
    "\n",
    "# 修改\n",
    "docker run -it ubuntu:latest /bin/bash\n",
    "\n",
    "# 不退出当前镜像\n",
    "\n",
    "docker ps   # 查看当前镜像的 names\n",
    "\n",
    "docker commit name ubuntu:mine\n",
    "\n",
    "docker stop name\n",
    "\n",
    "docker save ubuntu:mine > ubuntu.mine.tar\n",
    "\n",
    "docker images\n",
    "# ubuntu:mine 对应的 image id\n",
    "docker rmi \n",
    "\n",
    "docker load < ubuntu.mine.tar\n",
    "\n",
    "docker images\n",
    "\n",
    "docker run -it ubuntu:mine /bin/bash\n",
    "```"
   ]
  },
  {
   "cell_type": "code",
   "execution_count": null,
   "id": "2b2fb306",
   "metadata": {},
   "outputs": [],
   "source": []
  }
 ],
 "metadata": {
  "kernelspec": {
   "display_name": "Python 3 (ipykernel)",
   "language": "python",
   "name": "python3"
  },
  "language_info": {
   "codemirror_mode": {
    "name": "ipython",
    "version": 3
   },
   "file_extension": ".py",
   "mimetype": "text/x-python",
   "name": "python",
   "nbconvert_exporter": "python",
   "pygments_lexer": "ipython3",
   "version": "3.10.13"
  },
  "toc": {
   "base_numbering": 1,
   "nav_menu": {},
   "number_sections": true,
   "sideBar": true,
   "skip_h1_title": false,
   "title_cell": "Table of Contents",
   "title_sidebar": "Contents",
   "toc_cell": false,
   "toc_position": {},
   "toc_section_display": true,
   "toc_window_display": false
  }
 },
 "nbformat": 4,
 "nbformat_minor": 5
}
