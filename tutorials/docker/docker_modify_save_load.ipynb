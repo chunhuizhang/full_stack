{
 "cells": [
  {
   "cell_type": "markdown",
   "id": "a82bef01",
   "metadata": {},
   "source": [
    "- 镜像（images）：镜像是只读的，不能对其修改；\n",
    "    - 镜像是容器的模板；"
   ]
  },
  {
   "cell_type": "markdown",
   "id": "2509d84a",
   "metadata": {},
   "source": [
    "## docker start vs. exec"
   ]
  },
  {
   "cell_type": "markdown",
   "id": "7835e600",
   "metadata": {},
   "source": [
    "> 用 alpine 这个最基础最轻量的做测试；\n",
    "- `docker run`: 启动一个**全新**的容器实例（container）\n",
    "    - `--name`: Assign a name to the container\n",
    "- `docker ps -a`：所有创建 (docker run) /启动过的容器实例\n",
    "    - 分配过 container_id/names\n",
    "    - vscode container plugin 也都会维护\n",
    "- `docker start container_id` / `docker start container_name`\n",
    "    - `docker ps -a`：可以查看\n",
    "    - 启动一个已经退出了的（停止运行了的，首先被创建过了的）容器实例；\n",
    "        - `docker start -i`: --interactive\n",
    "            - `--name` 的填入：直接根据 name 重新启动；\n",
    "- `docker exec -it container_id/name /bin/bash`\n",
    "- 如果想在一个 container 实例（id 或者 name 对应），则每次都 docker start 这个 id，`docker exec -it id/name /bin/bash`\n",
    "    - 可实现对这个容器实例的持续读写，即开发维护；\n",
    "- `docker rm container_id/container_name`：删除容器实例；\n",
    "    - docker rmi 是删除 image"
   ]
  },
  {
   "cell_type": "markdown",
   "id": "c20a8ac5",
   "metadata": {},
   "source": [
    "## commit vs. save vs. load"
   ]
  },
  {
   "cell_type": "markdown",
   "id": "cdf17e59",
   "metadata": {},
   "source": [
    "- 持久化操作\n",
    "    - 回答评论的问题：docker commit 与 docker save 的区别\n",
    "        - docker commit 的对象是实例化的容器 container_id（自然包含修改），返回的是全新的镜像；\n",
    "        - docker save 的对象是镜像（image），而镜像是静态只读的；"
   ]
  },
  {
   "cell_type": "markdown",
   "id": "e7d0a72a",
   "metadata": {
    "ExecuteTime": {
     "end_time": "2024-03-09T05:21:55.182034Z",
     "start_time": "2024-03-09T05:21:55.023468Z"
    }
   },
   "source": [
    "```\n",
    "docker images\n",
    "\n",
    "# 修改\n",
    "docker run -it ubuntu:latest /bin/bash\n",
    "\n",
    "# 不退出当前镜像 查看当前镜像的 names\n",
    "docker ps   \n",
    "\n",
    "# commit & save\n",
    "docker commit container_name ubuntu:mine\n",
    "docker stop container_name\n",
    "docker save ubuntu:mine > ubuntu.mine.tar\n",
    "\n",
    "docker images\n",
    "# ubuntu:mine 对应的 image id\n",
    "docker rmi \n",
    "\n",
    "# docker load\n",
    "docker load < ubuntu.mine.tar\n",
    "\n",
    "docker images\n",
    "docker run -it ubuntu:mine /bin/bash\n",
    "```"
   ]
  },
  {
   "cell_type": "markdown",
   "id": "938c12be",
   "metadata": {},
   "source": [
    "## docker vscode"
   ]
  },
  {
   "cell_type": "markdown",
   "id": "49fe1b1b",
   "metadata": {},
   "source": [
    "- vscode docker 插件就叫 `Docker`\n",
    "    - 如果是通过 vscode 连接到远程服务器上的 docker 服务，则 vscode 还需要安装 remote explorer 的插件；"
   ]
  }
 ],
 "metadata": {
  "kernelspec": {
   "display_name": "Python 3 (ipykernel)",
   "language": "python",
   "name": "python3"
  },
  "language_info": {
   "codemirror_mode": {
    "name": "ipython",
    "version": 3
   },
   "file_extension": ".py",
   "mimetype": "text/x-python",
   "name": "python",
   "nbconvert_exporter": "python",
   "pygments_lexer": "ipython3",
   "version": "3.13.5"
  },
  "toc": {
   "base_numbering": 1,
   "nav_menu": {},
   "number_sections": true,
   "sideBar": true,
   "skip_h1_title": false,
   "title_cell": "Table of Contents",
   "title_sidebar": "Contents",
   "toc_cell": false,
   "toc_position": {},
   "toc_section_display": true,
   "toc_window_display": false
  }
 },
 "nbformat": 4,
 "nbformat_minor": 5
}
