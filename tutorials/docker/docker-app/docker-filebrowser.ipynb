{
 "cells": [
  {
   "cell_type": "markdown",
   "id": "d0435096-0875-49ad-8b82-22fd5b854fa4",
   "metadata": {},
   "source": [
    "```\n",
    "docker run -d -v ./:/srv -v ./filebrowser.db:/database.db -p 8080:80 filebrowser/filebrowser\n",
    "```\n",
    "- 命令的含义\n",
    "    - `./:/srv`：将当前文件夹映射到 container 的 /srv\n",
    "- 注意需要在当前文件夹下 `torch ./filebrowser.db`\n",
    "- 浏览器：`server-ip:8081`\n",
    "    - 用户名：`admin`\n",
    "    - 密码：`admin`"
   ]
  }
 ],
 "metadata": {
  "kernelspec": {
   "display_name": "Python 3 (ipykernel)",
   "language": "python",
   "name": "python3"
  },
  "language_info": {
   "codemirror_mode": {
    "name": "ipython",
    "version": 3
   },
   "file_extension": ".py",
   "mimetype": "text/x-python",
   "name": "python",
   "nbconvert_exporter": "python",
   "pygments_lexer": "ipython3",
   "version": "3.10.13"
  }
 },
 "nbformat": 4,
 "nbformat_minor": 5
}
