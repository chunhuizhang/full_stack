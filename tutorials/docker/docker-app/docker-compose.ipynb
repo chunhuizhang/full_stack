{
 "cells": [
  {
   "cell_type": "markdown",
   "id": "1df58ba9-5943-41c1-ad73-c939f306f263",
   "metadata": {},
   "source": [
    "- 部署前后端服务\n",
    "    - 设置：docker-compose.yml\n",
    "        - backend\n",
    "        - frontend\n",
    "    - docker-compose up --build"
   ]
  }
 ],
 "metadata": {
  "kernelspec": {
   "display_name": "Python 3 (ipykernel)",
   "language": "python",
   "name": "python3"
  },
  "language_info": {
   "codemirror_mode": {
    "name": "ipython",
    "version": 3
   },
   "file_extension": ".py",
   "mimetype": "text/x-python",
   "name": "python",
   "nbconvert_exporter": "python",
   "pygments_lexer": "ipython3",
   "version": "3.10.13"
  }
 },
 "nbformat": 4,
 "nbformat_minor": 5
}
