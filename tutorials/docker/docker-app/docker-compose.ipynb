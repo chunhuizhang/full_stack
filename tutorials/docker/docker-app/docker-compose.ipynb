{
 "cells": [
  {
   "cell_type": "markdown",
   "id": "1df58ba9-5943-41c1-ad73-c939f306f263",
   "metadata": {},
   "source": [
    "- 部署前后端服务\n",
    "    - 设置：docker-compose.yml\n",
    "        - backend\n",
    "        - frontend\n",
    "    - docker-compose up --build"
   ]
  },
  {
   "cell_type": "markdown",
   "id": "96983242-e076-4927-bff7-8c85ceb5b5ac",
   "metadata": {},
   "source": [
    "### basics"
   ]
  },
  {
   "cell_type": "markdown",
   "id": "88d26f90-a535-424d-8832-10e34fb340ae",
   "metadata": {},
   "source": [
    "```\n",
    "docker compose version\n",
    "docker --version\n",
    "docker version\n",
    "```"
   ]
  },
  {
   "cell_type": "markdown",
   "id": "682410d9-6b9c-477f-abd4-879dd0b1b915",
   "metadata": {},
   "source": [
    "### docker-compose up"
   ]
  },
  {
   "cell_type": "markdown",
   "id": "fe6f09c3-b334-4956-acca-d76f3e53019b",
   "metadata": {},
   "source": [
    "- 通过一个 `docker-compose.yaml` 文件来定义并管理多个容器的配置。\n",
    "- `up` 是 `docker-compose` 的一个子命令，用于启动所有在 docker-compose.yaml 文件中定义的服务（容器）。它会执行以下操作：\n",
    "    - 拉取镜像（如果本地没有相应的镜像，会从 Docker Hub 或指定的镜像仓库拉取）。\n",
    "    - 创建并启动容器，根据 docker-compose.yaml 中的配置启动所有定义的容器。\n",
    "    - 网络与卷的创建：会自动为容器创建必要的网络和数据卷。"
   ]
  }
 ],
 "metadata": {
  "kernelspec": {
   "display_name": "Python 3 (ipykernel)",
   "language": "python",
   "name": "python3"
  },
  "language_info": {
   "codemirror_mode": {
    "name": "ipython",
    "version": 3
   },
   "file_extension": ".py",
   "mimetype": "text/x-python",
   "name": "python",
   "nbconvert_exporter": "python",
   "pygments_lexer": "ipython3",
   "version": "3.10.13"
  }
 },
 "nbformat": 4,
 "nbformat_minor": 5
}
