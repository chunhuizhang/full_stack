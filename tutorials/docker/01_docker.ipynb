{
 "cells": [
  {
   "cell_type": "markdown",
   "id": "1db90c9d",
   "metadata": {},
   "source": [
    "- 参考\n",
    "    - https://github.com/mli/transformers-benchmarks#set-up\n",
    "    - https://docs.nvidia.com/datacenter/cloud-native/container-toolkit/install-guide.html#docker\n",
    "- docker 是一套打包好了的环境\n",
    "    - 包含各种各样的所需依赖"
   ]
  },
  {
   "cell_type": "markdown",
   "id": "3e4c7f4c",
   "metadata": {},
   "source": [
    "## install"
   ]
  },
  {
   "cell_type": "markdown",
   "id": "ebb7d58a",
   "metadata": {},
   "source": [
    "`curl https://get.docker.com | sh \\\n",
    "  && sudo systemctl --now enable docker`"
   ]
  },
  {
   "cell_type": "markdown",
   "id": "5b844fcf",
   "metadata": {},
   "source": [
    "- 校验\n",
    "    - `docker --version`：查看 docker 版本；\n",
    "    - `docker run hello-world`\n",
    "    - `docker run -it ubuntu bash`"
   ]
  },
  {
   "cell_type": "markdown",
   "id": "297951d8",
   "metadata": {},
   "source": [
    "## 核心概念及参数"
   ]
  },
  {
   "cell_type": "markdown",
   "id": "66d66ca2",
   "metadata": {},
   "source": [
    "- images vs. containers \n",
    "    - 容器（object instance）是对镜像（class）的虚拟实例化\n",
    "    - 一个 image 会对应多个 container id"
   ]
  },
  {
   "cell_type": "markdown",
   "id": "feb017dd",
   "metadata": {},
   "source": [
    "- 参数\n",
    "    - `-d`：daemon\n",
    "    - `-p`：宿主环境（host） vs. 容器环境\n",
    "        -  `-p 80:80`：端口号映射\n",
    "    - `-it`：interactive\n",
    "    - `--rm`：运行完之后删除\n",
    "- `docker ps`：默认查看正在运行的容器\n",
    "    - `-a`: 查看所有已经创建的容器\n",
    "- `docker images`：列出镜像列表\n"
   ]
  },
  {
   "cell_type": "markdown",
   "id": "e8c3b34a",
   "metadata": {},
   "source": [
    "## 深度学习docker环境"
   ]
  },
  {
   "cell_type": "markdown",
   "id": "b231e07f",
   "metadata": {},
   "source": [
    "- nvidia && cuda && pytorch"
   ]
  },
  {
   "cell_type": "markdown",
   "id": "9f767eeb",
   "metadata": {},
   "source": [
    "- `docker run --gpus all -it --rm -p 8888:8888 -v /home/whaow:/workspace nvcr.io/nvidia/pytorch:xx.xx-py3`\n",
    "    - `xx.xx`: `docker --version`\n",
    "        - 23.0.3 => 23.03-py3\n",
    "    - `--gpus all`：所有的显卡都映射到 docker 中\n",
    "    - `-it`：interactive\n",
    "    - `--rm`：运行完之后删除"
   ]
  },
  {
   "cell_type": "markdown",
   "id": "8f41b523",
   "metadata": {},
   "source": [
    "```\n",
    "import torch\n",
    "torch.cuda.is_available()\n",
    "torch.version.cuda\n",
    "torch.__version__\n",
    "torch.cuda.device_count()\n",
    "torch.cuda.get_device_name(0)\n",
    "# torch.cuda.get_device_name(1)\n",
    "```"
   ]
  },
  {
   "cell_type": "markdown",
   "id": "e121f354",
   "metadata": {},
   "source": [
    "## misc（其他/杂项）"
   ]
  },
  {
   "cell_type": "markdown",
   "id": "21acfb13",
   "metadata": {},
   "source": [
    "-  加载本地docker文件：`docker load < xx.tgz`（假如 xx.tgz 是打包好的 docker 镜像 ）\n",
    "- 权限问题\n",
    "    - https://blog.csdn.net/liangllhahaha/article/details/92077065"
   ]
  }
 ],
 "metadata": {
  "kernelspec": {
   "display_name": "Python 3 (ipykernel)",
   "language": "python",
   "name": "python3"
  },
  "language_info": {
   "codemirror_mode": {
    "name": "ipython",
    "version": 3
   },
   "file_extension": ".py",
   "mimetype": "text/x-python",
   "name": "python",
   "nbconvert_exporter": "python",
   "pygments_lexer": "ipython3",
   "version": "3.10.9"
  },
  "toc": {
   "base_numbering": 1,
   "nav_menu": {},
   "number_sections": true,
   "sideBar": true,
   "skip_h1_title": false,
   "title_cell": "Table of Contents",
   "title_sidebar": "Contents",
   "toc_cell": false,
   "toc_position": {
    "height": "calc(100% - 180px)",
    "left": "10px",
    "top": "150px",
    "width": "336px"
   },
   "toc_section_display": true,
   "toc_window_display": true
  }
 },
 "nbformat": 4,
 "nbformat_minor": 5
}
