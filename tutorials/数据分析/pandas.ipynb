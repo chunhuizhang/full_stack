{
 "cells": [
  {
   "cell_type": "code",
   "execution_count": 7,
   "id": "e7f909b5",
   "metadata": {
    "ExecuteTime": {
     "end_time": "2024-02-13T11:32:11.165613Z",
     "start_time": "2024-02-13T11:32:11.160020Z"
    }
   },
   "outputs": [],
   "source": [
    "import pandas as pd\n",
    "import torch"
   ]
  },
  {
   "cell_type": "code",
   "execution_count": 5,
   "id": "30fa9d71",
   "metadata": {
    "ExecuteTime": {
     "end_time": "2024-02-13T11:31:52.120766Z",
     "start_time": "2024-02-13T11:31:52.114001Z"
    }
   },
   "outputs": [],
   "source": [
    "# settings\n",
    "pd.options.display.precision = 3"
   ]
  },
  {
   "cell_type": "markdown",
   "id": "476d78e4",
   "metadata": {},
   "source": [
    "### utils"
   ]
  },
  {
   "cell_type": "code",
   "execution_count": 4,
   "id": "829d28f6",
   "metadata": {
    "ExecuteTime": {
     "end_time": "2024-02-13T11:31:25.261640Z",
     "start_time": "2024-02-13T11:31:25.256778Z"
    }
   },
   "outputs": [],
   "source": [
    "import inspect\n",
    "from collections import defaultdict\n",
    "from torch.utils import benchmark \n",
    "\n",
    "def var_dict(*args):\n",
    "    callers_local_vars = inspect.currentframe().f_back.f_locals.items()\n",
    "    return dict([(name, val) for name, val in callers_local_vars if val is arg][0] \n",
    "                for arg in args)\n",
    "\n",
    "def walltime(stmt, arg_dict, duration=3):\n",
    "    return benchmark.Timer(stmt=stmt, globals=arg_dict).blocked_autorange(\n",
    "        min_run_time=duration).median"
   ]
  },
  {
   "cell_type": "markdown",
   "id": "92d61ff1",
   "metadata": {},
   "source": [
    "### 接受 dict of dict "
   ]
  },
  {
   "cell_type": "markdown",
   "id": "edabb75c",
   "metadata": {},
   "source": [
    "- 两层字典的 key 分别所谓行列的索引；"
   ]
  },
  {
   "cell_type": "code",
   "execution_count": 10,
   "id": "31e08f43",
   "metadata": {
    "ExecuteTime": {
     "end_time": "2024-02-13T11:32:56.305324Z",
     "start_time": "2024-02-13T11:32:33.776328Z"
    }
   },
   "outputs": [
    {
     "name": "stderr",
     "output_type": "stream",
     "text": [
      "100%|██████████| 6/6 [00:22<00:00,  3.75s/it]\n"
     ]
    },
    {
     "data": {
      "text/html": [
       "<div>\n",
       "<style scoped>\n",
       "    .dataframe tbody tr th:only-of-type {\n",
       "        vertical-align: middle;\n",
       "    }\n",
       "\n",
       "    .dataframe tbody tr th {\n",
       "        vertical-align: top;\n",
       "    }\n",
       "\n",
       "    .dataframe thead th {\n",
       "        text-align: right;\n",
       "    }\n",
       "</style>\n",
       "<table border=\"1\" class=\"dataframe\">\n",
       "  <thead>\n",
       "    <tr style=\"text-align: right;\">\n",
       "      <th></th>\n",
       "      <th>65536</th>\n",
       "      <th>262144</th>\n",
       "      <th>1048576</th>\n",
       "      <th>4194304</th>\n",
       "      <th>16777216</th>\n",
       "      <th>67108864</th>\n",
       "    </tr>\n",
       "  </thead>\n",
       "  <tbody>\n",
       "    <tr>\n",
       "      <th>TFLOPS</th>\n",
       "      <td>0.011</td>\n",
       "      <td>0.045</td>\n",
       "      <td>0.180</td>\n",
       "      <td>0.473</td>\n",
       "      <td>0.115</td>\n",
       "      <td>0.115</td>\n",
       "    </tr>\n",
       "    <tr>\n",
       "      <th>GB/s</th>\n",
       "      <td>89.162</td>\n",
       "      <td>363.744</td>\n",
       "      <td>1438.089</td>\n",
       "      <td>3781.612</td>\n",
       "      <td>919.468</td>\n",
       "      <td>921.305</td>\n",
       "    </tr>\n",
       "  </tbody>\n",
       "</table>\n",
       "</div>"
      ],
      "text/plain": [
       "        65536     262144    1048576   4194304   16777216  67108864\n",
       "TFLOPS     0.011     0.045     0.180     0.473     0.115     0.115\n",
       "GB/s      89.162   363.744  1438.089  3781.612   919.468   921.305"
      ]
     },
     "execution_count": 10,
     "metadata": {},
     "output_type": "execute_result"
    }
   ],
   "source": [
    "from tqdm import tqdm\n",
    "vector = defaultdict(lambda: {})\n",
    "# *4\n",
    "for n in tqdm([1024*64, 1024*256, 1024*1024, 1024*1024*4, 1024*1024*16, 1024*1024*64]):\n",
    "    a = torch.randn(n).cuda()\n",
    "    t = walltime('a * 1.2', var_dict(a))\n",
    "    vector[n]['TFLOPS'] = n / t / 1e12\n",
    "    # float32: 4 Byte;\n",
    "    # 读写：两个操作；\n",
    "    vector[n]['GB/s'] = (4*2) * n / t / 1e9\n",
    "    \n",
    "pd.DataFrame(vector)"
   ]
  }
 ],
 "metadata": {
  "kernelspec": {
   "display_name": "Python 3 (ipykernel)",
   "language": "python",
   "name": "python3"
  },
  "language_info": {
   "codemirror_mode": {
    "name": "ipython",
    "version": 3
   },
   "file_extension": ".py",
   "mimetype": "text/x-python",
   "name": "python",
   "nbconvert_exporter": "python",
   "pygments_lexer": "ipython3",
   "version": "3.10.13"
  },
  "toc": {
   "base_numbering": 1,
   "nav_menu": {},
   "number_sections": true,
   "sideBar": true,
   "skip_h1_title": false,
   "title_cell": "Table of Contents",
   "title_sidebar": "Contents",
   "toc_cell": false,
   "toc_position": {},
   "toc_section_display": true,
   "toc_window_display": false
  }
 },
 "nbformat": 4,
 "nbformat_minor": 5
}
