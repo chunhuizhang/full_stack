{
 "cells": [
  {
   "cell_type": "markdown",
   "id": "83d664d2",
   "metadata": {},
   "source": [
    "## 参数"
   ]
  },
  {
   "cell_type": "markdown",
   "id": "37748d61",
   "metadata": {},
   "source": [
    "- `-i`：指定 input\n",
    "- `-r`：frames per second\n",
    "- `-vcodec`\n",
    "    - `libx264`"
   ]
  },
  {
   "cell_type": "markdown",
   "id": "db74cc33",
   "metadata": {},
   "source": [
    "## examples"
   ]
  },
  {
   "cell_type": "markdown",
   "id": "b76a720c",
   "metadata": {},
   "source": [
    "### images to video"
   ]
  },
  {
   "cell_type": "code",
   "execution_count": 1,
   "id": "1b2e7c65",
   "metadata": {
    "ExecuteTime": {
     "end_time": "2023-07-26T11:41:54.035788Z",
     "start_time": "2023-07-26T11:41:54.020200Z"
    }
   },
   "outputs": [],
   "source": [
    "import os"
   ]
  },
  {
   "cell_type": "code",
   "execution_count": null,
   "id": "3e6a6cfa",
   "metadata": {},
   "outputs": [],
   "source": [
    "os.system(\"ffmpeg -r 2 -i tempImages/image%03d.png -vcodec libx264 movies/scenario\" + \\\n",
    "              str(scenario) + \".mp4\")"
   ]
  }
 ],
 "metadata": {
  "kernelspec": {
   "display_name": "Python 3 (ipykernel)",
   "language": "python",
   "name": "python3"
  },
  "language_info": {
   "codemirror_mode": {
    "name": "ipython",
    "version": 3
   },
   "file_extension": ".py",
   "mimetype": "text/x-python",
   "name": "python",
   "nbconvert_exporter": "python",
   "pygments_lexer": "ipython3",
   "version": "3.10.9"
  },
  "toc": {
   "base_numbering": 1,
   "nav_menu": {},
   "number_sections": true,
   "sideBar": true,
   "skip_h1_title": false,
   "title_cell": "Table of Contents",
   "title_sidebar": "Contents",
   "toc_cell": false,
   "toc_position": {},
   "toc_section_display": true,
   "toc_window_display": false
  }
 },
 "nbformat": 4,
 "nbformat_minor": 5
}
