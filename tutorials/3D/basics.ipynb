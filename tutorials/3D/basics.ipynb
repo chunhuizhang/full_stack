{
 "cells": [
  {
   "cell_type": "markdown",
   "id": "59f29e7b-7889-4061-b7ed-1e81a0cc9b77",
   "metadata": {},
   "source": [
    "- 轴对齐 (Axis-Aligned)：这个盒子的所有边都严格地与世界坐标系的X、Y、Z轴平行。\n",
    "    - 它只需要两个点就可以确定：min_vertex (x_min, y_min, z_min) 和 max_vertex (x_max, y_max, z_max)。\n",
    "        - 含义是斜对角，准确地说是体对角线；\n",
    "    - 当一个物体在场景中被旋转后，它原始的rel_aabb如果也跟着旋转，就不再是“轴对齐”的了。为了能在世界坐标系中继续使用AABB进行快速的碰撞检测，我们必须重新计算一个能完全包围住这个旋转后物体的、并且仍然与世界坐标轴对齐的新AABB。\n",
    "- 世界坐标系与相对坐标系（world aabb vs. relative aabb）\n",
    "    - 世界坐标系 (World Space): 就是整个房间的坐标系。房间的某个角落是原点(0,0,0)，房间的长、宽、高分别是X, Y, Z轴。房间里任何物体（比如桌子）的最终位置，都可以用这个坐标系来描述。例如，桌子在世界坐标 (x=100, y=200, z=0) 的位置。\n",
    "    - 相对/局部坐标系 (Relative/Local Space): 现在我们只看桌子本身。桌子有自己的几何中心，我们可以把它看作是桌子自己的原点(0,0,0)。桌子的四个腿相对于这个中心点的位置，就是它们的“局部坐标”。这个坐标系是物体“与生俱来”的，不受它在房间里如何摆放的影响。"
   ]
  },
  {
   "cell_type": "markdown",
   "id": "bb3547c7-a7fa-41db-9652-417fec1cfd6c",
   "metadata": {},
   "source": [
    "### 工具"
   ]
  },
  {
   "cell_type": "markdown",
   "id": "3f3ab65e-d578-4578-ad75-3edce184980a",
   "metadata": {},
   "source": [
    "- 前端：three.js"
   ]
  },
  {
   "cell_type": "markdown",
   "id": "f45b3c07-cd4c-47dd-999c-ea66e7db9676",
   "metadata": {},
   "source": [
    "### 数学几何过程"
   ]
  },
  {
   "cell_type": "markdown",
   "id": "2c392ac6-2523-48d3-8621-dbc78313d2c8",
   "metadata": {},
   "source": [
    "- https://gemini.google.com/app/238602b7a0b3fbd2"
   ]
  },
  {
   "cell_type": "markdown",
   "id": "0b8488cf-b38b-4db1-91e0-73bc213ddb8f",
   "metadata": {},
   "source": [
    "- 3D rotation\n",
    "    - X轴 通常代表“左右”；Y轴 通常代表“前后”；Z轴 通常代表“上下”；\n",
    "    - 平移 (Translation): 你可以在地面上把椅子从A点拖到B点。这个过程改变的是椅子的 (X, Y) 坐标。\n",
    "    - 旋转 (Rotation): 你可以让椅子原地打个转，决定椅子的正面朝向窗户，还是朝向门。\n",
    "        - 这个“让椅子原地打个转”的动作，就是“绕着Z轴旋转”。"
   ]
  },
  {
   "cell_type": "markdown",
   "id": "9432aaf3-2610-41b4-b02c-8c8f706cc7ba",
   "metadata": {},
   "source": [
    "- rel_aabb => world_aabb\n",
    "    - 先对 rel_aabb 进行旋转：做 8 个顶点（corners）围绕原点进行旋转，取得旋转后的 X，Y，Z 的最小值和最大值\n",
    "    - 将其移动到世界中的 location：`location + rot_rel_aabb.min, location + rot_rel_aabb.max`"
   ]
  }
 ],
 "metadata": {
  "kernelspec": {
   "display_name": "torch",
   "language": "python",
   "name": "verl"
  },
  "language_info": {
   "codemirror_mode": {
    "name": "ipython",
    "version": 3
   },
   "file_extension": ".py",
   "mimetype": "text/x-python",
   "name": "python",
   "nbconvert_exporter": "python",
   "pygments_lexer": "ipython3",
   "version": "3.10.0"
  }
 },
 "nbformat": 4,
 "nbformat_minor": 5
}
