{
 "cells": [
  {
   "cell_type": "code",
   "execution_count": 1,
   "id": "102cee2a",
   "metadata": {
    "ExecuteTime": {
     "end_time": "2024-03-16T03:56:35.932557Z",
     "start_time": "2024-03-16T03:56:35.915703Z"
    }
   },
   "outputs": [],
   "source": [
    "import asyncio"
   ]
  },
  {
   "cell_type": "markdown",
   "id": "f3d56755",
   "metadata": {},
   "source": [
    "```\n",
    "async def main():\n",
    "    pass\n",
    "\n",
    "if __name__ == '__main__':\n",
    "    asyncio.run(main())\n",
    "```"
   ]
  },
  {
   "cell_type": "markdown",
   "id": "30109dcc",
   "metadata": {},
   "source": [
    "## event_loop"
   ]
  },
  {
   "cell_type": "markdown",
   "id": "7f833b94",
   "metadata": {
    "ExecuteTime": {
     "end_time": "2024-03-16T03:57:04.733107Z",
     "start_time": "2024-03-16T03:57:04.726455Z"
    }
   },
   "source": [
    "```\n",
    "loop = asyncio.get_event_loop()\n",
    "\n",
    "tasks = []\n",
    "for ...\n",
    "    tasks.append(task)\n",
    "\n",
    "results = loop.run_until_complete(asyncio.gather(*tasks))\n",
    "```"
   ]
  }
 ],
 "metadata": {
  "kernelspec": {
   "display_name": "Python 3 (ipykernel)",
   "language": "python",
   "name": "python3"
  },
  "language_info": {
   "codemirror_mode": {
    "name": "ipython",
    "version": 3
   },
   "file_extension": ".py",
   "mimetype": "text/x-python",
   "name": "python",
   "nbconvert_exporter": "python",
   "pygments_lexer": "ipython3",
   "version": "3.10.13"
  },
  "toc": {
   "base_numbering": 1,
   "nav_menu": {},
   "number_sections": true,
   "sideBar": true,
   "skip_h1_title": false,
   "title_cell": "Table of Contents",
   "title_sidebar": "Contents",
   "toc_cell": false,
   "toc_position": {},
   "toc_section_display": true,
   "toc_window_display": false
  }
 },
 "nbformat": 4,
 "nbformat_minor": 5
}
