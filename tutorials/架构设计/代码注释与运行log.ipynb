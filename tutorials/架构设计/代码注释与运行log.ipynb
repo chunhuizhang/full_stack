{
 "cells": [
  {
   "cell_type": "markdown",
   "id": "34b50d25",
   "metadata": {},
   "source": [
    "> 核心都是提升代码的可维护性；\\\n",
    "> 深思熟虑充分设计才能 solid, 否则scale up起来之后都是坑"
   ]
  },
  {
   "cell_type": "markdown",
   "id": "775afcb8",
   "metadata": {},
   "source": [
    "## 注释"
   ]
  },
  {
   "cell_type": "markdown",
   "id": "5d44337b",
   "metadata": {},
   "source": [
    "- if 逻辑（尤其是其中有复杂的判断），是后续维护的一个难点，一定要添加必要的注释"
   ]
  }
 ],
 "metadata": {
  "kernelspec": {
   "display_name": "Python 3 (ipykernel)",
   "language": "python",
   "name": "python3"
  },
  "language_info": {
   "codemirror_mode": {
    "name": "ipython",
    "version": 3
   },
   "file_extension": ".py",
   "mimetype": "text/x-python",
   "name": "python",
   "nbconvert_exporter": "python",
   "pygments_lexer": "ipython3",
   "version": "3.9.13"
  },
  "toc": {
   "base_numbering": 1,
   "nav_menu": {},
   "number_sections": true,
   "sideBar": true,
   "skip_h1_title": false,
   "title_cell": "Table of Contents",
   "title_sidebar": "Contents",
   "toc_cell": false,
   "toc_position": {},
   "toc_section_display": true,
   "toc_window_display": false
  }
 },
 "nbformat": 4,
 "nbformat_minor": 5
}
