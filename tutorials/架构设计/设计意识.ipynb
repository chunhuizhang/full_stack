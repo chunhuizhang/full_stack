{
 "cells": [
  {
   "cell_type": "markdown",
   "id": "5cd3f5ee-9316-4189-a9d7-1baa11abcab9",
   "metadata": {},
   "source": [
    "- 好的设计，会意味着未来的迭代升级中更自然、更简单、更直接的适配开发；\n",
    "    - 复杂性，都维护在了设计中了；"
   ]
  },
  {
   "cell_type": "markdown",
   "id": "da511ced",
   "metadata": {},
   "source": [
    "## 在不断熵增的系统中维持熵减"
   ]
  },
  {
   "cell_type": "markdown",
   "id": "01e102c8",
   "metadata": {},
   "source": [
    "- clean 是一种熵减行为；\n",
    "    - 设计 的 clean；\n",
    "    - 代码 的 clean；\n",
    "    - 笔记 的 clean；\n",
    "    - 甚至物理上\n",
    "        - 书桌桌面的整洁；\n",
    "        - 事情有开始也有结束；\n",
    "            - 吃完饭还要记得刷碗刷锅呢；\n",
    "            - close 时的待办，也是一种熵减行为，所谓有始有终；"
   ]
  }
 ],
 "metadata": {
  "kernelspec": {
   "display_name": "Python 3 (ipykernel)",
   "language": "python",
   "name": "python3"
  },
  "language_info": {
   "codemirror_mode": {
    "name": "ipython",
    "version": 3
   },
   "file_extension": ".py",
   "mimetype": "text/x-python",
   "name": "python",
   "nbconvert_exporter": "python",
   "pygments_lexer": "ipython3",
   "version": "3.10.13"
  },
  "toc": {
   "base_numbering": 1,
   "nav_menu": {},
   "number_sections": true,
   "sideBar": true,
   "skip_h1_title": false,
   "title_cell": "Table of Contents",
   "title_sidebar": "Contents",
   "toc_cell": false,
   "toc_position": {},
   "toc_section_display": true,
   "toc_window_display": false
  }
 },
 "nbformat": 4,
 "nbformat_minor": 5
}
