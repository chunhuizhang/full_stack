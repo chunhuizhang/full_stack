{
 "cells": [
  {
   "cell_type": "markdown",
   "id": "a7e487ed-3aae-4ec0-85be-d4f32bb6931e",
   "metadata": {},
   "source": [
    "### 关注点分离（Separation of Concerns, SoC）"
   ]
  },
  {
   "cell_type": "markdown",
   "id": "35d0311a-d195-44b8-94cd-018b4b099e96",
   "metadata": {},
   "source": [
    "- 将一个复杂的计算机程序分解成多个不同的、功能独立的部分，每个部分只处理一个“关注点”或“职责”。\n",
    "- 前端开发 (HTML, CSS, JavaScript)\n",
    "    - HTML (结构层)：负责定义页面的内容和结构。它只关注“是什么”，比如标题、段落、图片。\n",
    "    - CSS (表现层)：负责定义页面的样式和布局。它只关注“长什么样”，比如颜色、字体、位置。\n",
    "    - JavaScript (行为层)：负责页面的交互和动态功能。它只关注“做什么”，比如响应用户点击、从服务器获取数据。\n",
    "- MVC 架构模式 (Model-View-Controller)：这是一种非常流行的软件架构模式，广泛用于Web应用和桌面应用。\n",
    "    - Model (模型)：负责数据和业务逻辑。它不知道数据将如何显示。\n",
    "    - View (视图)：负责用户界面。它从模型获取数据并展示给用户，但不处理业务逻辑。\n",
    "    - Controller (控制器)：接收用户输入，调用相应的模型来处理业务逻辑，并决定将哪个视图展示给用户。它是模型和视图之间的协调者。"
   ]
  },
  {
   "cell_type": "markdown",
   "id": "ff54b852-d63e-45e7-b875-fc835bea1c62",
   "metadata": {},
   "source": [
    "| 设计模式 (Pattern) | 分离的关注点 | 核心优势 |\n",
    "| :--- | :--- | :--- |\n",
    "| **MVC/MVVM** | 数据逻辑 vs. 界面展示 vs. 用户交互 | 实现UI与业务逻辑的解耦，便于并行开发和维护。 |\n",
    "| **分层架构** | 表现层 vs. 业务层 vs. 数据访问层 | 使系统结构清晰，各层可独立替换和演进。 |\n",
    "| **策略模式** | 算法的选择 vs. 算法的具体实现 | 客户端无需改变即可动态切换算法。 |\n",
    "| **观察者模式** | 状态的拥有者 vs. 状态的关注者 | 实现了发布者和订阅者之间的松耦合，一方改变不影响另一方。 |\n",
    "| **命令模式** | 请求的发送者 vs. 请求的执行者 | 将请求封装成对象，实现请求的排队、撤销和记录。 |\n",
    "| **装饰器模式** | 对象的核心职责 vs. 对象的额外职责 | 在不改变原对象代码的情况下，动态增加功能。 |\n",
    "| **适配器模式** | 现有接口 vs. 客户端期望的接口 | 使不兼容的接口能够协同工作。 |\n",
    "| **外观模式** | 复杂的子系统 vs. 简单的客户端调用 | 为复杂系统提供一个简化的统一入口，降低使用难度。 |"
   ]
  }
 ],
 "metadata": {
  "kernelspec": {
   "display_name": "Python 3 (ipykernel)",
   "language": "python",
   "name": "python3"
  },
  "language_info": {
   "codemirror_mode": {
    "name": "ipython",
    "version": 3
   },
   "file_extension": ".py",
   "mimetype": "text/x-python",
   "name": "python",
   "nbconvert_exporter": "python",
   "pygments_lexer": "ipython3",
   "version": "3.10.0"
  }
 },
 "nbformat": 4,
 "nbformat_minor": 5
}
