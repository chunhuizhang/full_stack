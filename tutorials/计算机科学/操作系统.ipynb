{
 "cells": [
  {
   "cell_type": "markdown",
   "id": "ce82feed-77c9-444d-b596-d5c5601a1ab4",
   "metadata": {},
   "source": [
    "### process & CPU sheduling"
   ]
  },
  {
   "cell_type": "markdown",
   "id": "cdd9de34-2011-4a71-a2fa-b262b8a83acd",
   "metadata": {},
   "source": [
    "- https://www.youtube.com/watch?v=LDhoD4IVElk\n",
    "- process: a program in execution\n",
    "    - program：静态文件，process 是动态概念\n",
    "- 对于现代 cpu 的并发性（分时系统）\n",
    "    - 分时系统，多个进程共享cpu寄存器；\n",
    "    - 出于安全（访问）和准确性（数据准确）的要求，并发（分时系统）进程间切换（Context switch），时需要保存进程的context信息\n",
    "    - 进程除了有cpu寄存器空间，内存地址空间，还有打开的文件和外设\n",
    "    - 进程Context，由pcb，process control block管理和维护，保证安全和准确；"
   ]
  },
  {
   "cell_type": "markdown",
   "id": "2e60521f-1db9-427f-b05a-c08d4b01fcc4",
   "metadata": {},
   "source": [
    "### 任务管理"
   ]
  },
  {
   "cell_type": "markdown",
   "id": "b078109e-6630-492d-8154-e67b61f21708",
   "metadata": {},
   "source": [
    "- 分时系统（Time-Sharing System）是一种操作系统类型，允许多个用户或任务在同一台计算机上共享系统资源。它通过快速地在各个任务之间切换CPU的使用权，使每个任务都能在短时间内得到处理，给用户带来同时操作的体验。\n",
    "    - 核心思想：利用时间片轮转调度算法，将CPU时间划分为小的时间片，每个任务轮流占用一个时间片。\n",
    "    - 这里可以对比并发和并行\n",
    "        - 并发：指在同一**时间段**内处理多个任务，但这些任务未必同时执行。在单核CPU上，通过任务切换实现并发。\n",
    "        - 并行：指在**同一时刻**真正地同时执行多个任务，需要多核CPU或多台计算机的支持。"
   ]
  }
 ],
 "metadata": {
  "kernelspec": {
   "display_name": "Python 3 (ipykernel)",
   "language": "python",
   "name": "python3"
  },
  "language_info": {
   "codemirror_mode": {
    "name": "ipython",
    "version": 3
   },
   "file_extension": ".py",
   "mimetype": "text/x-python",
   "name": "python",
   "nbconvert_exporter": "python",
   "pygments_lexer": "ipython3",
   "version": "3.10.13"
  }
 },
 "nbformat": 4,
 "nbformat_minor": 5
}
