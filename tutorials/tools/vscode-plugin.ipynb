{
 "cells": [
  {
   "cell_type": "markdown",
   "id": "c39cf478-20f6-40bd-ab48-cadd3353367d",
   "metadata": {},
   "source": [
    "### 展示相关"
   ]
  },
  {
   "cell_type": "markdown",
   "id": "881a9eba-c5b7-47ee-a4a3-f15ae99ffed2",
   "metadata": {},
   "source": [
    "- `Markdown preview enhanced`\n",
    "    - 支持 markdown mermaid render export to png；（前提是安装相关的 mermaid 插件）"
   ]
  }
 ],
 "metadata": {
  "kernelspec": {
   "display_name": "Python 3 (ipykernel)",
   "language": "python",
   "name": "python3"
  },
  "language_info": {
   "codemirror_mode": {
    "name": "ipython",
    "version": 3
   },
   "file_extension": ".py",
   "mimetype": "text/x-python",
   "name": "python",
   "nbconvert_exporter": "python",
   "pygments_lexer": "ipython3",
   "version": "3.10.13"
  }
 },
 "nbformat": 4,
 "nbformat_minor": 5
}
