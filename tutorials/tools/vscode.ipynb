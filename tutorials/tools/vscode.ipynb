{
 "cells": [
  {
   "cell_type": "markdown",
   "id": "2e3bf7dc",
   "metadata": {},
   "source": [
    "## basics"
   ]
  },
  {
   "cell_type": "markdown",
   "id": "ff337ba1",
   "metadata": {},
   "source": [
    "- 常用命令\n",
    "    - ⌘ + ⇧ + p：控制面板\n",
    "        - 选择 `Python: Select Interpreter`，指定当前打开的默认的python解释器；"
   ]
  },
  {
   "cell_type": "markdown",
   "id": "be892caf",
   "metadata": {
    "ExecuteTime": {
     "end_time": "2023-08-14T14:17:35.623755Z",
     "start_time": "2023-08-14T14:17:35.607379Z"
    }
   },
   "source": [
    "- 经典插件\n",
    "    - `vscode pdf`：服务器端查看 pdf；\n",
    "    - `codeium`：超强的代码不全；"
   ]
  },
  {
   "cell_type": "markdown",
   "id": "cb16d680",
   "metadata": {},
   "source": [
    "## debug"
   ]
  },
  {
   "cell_type": "markdown",
   "id": "0a986c04",
   "metadata": {},
   "source": [
    "- `\"cwd\"`: \n",
    "    - `\"${fileDirname}\"`, 指的是**点debug按钮**时对应的文件所在的目录；\n",
    "    - `${workspaceFolder}`：工作目录"
   ]
  },
  {
   "cell_type": "markdown",
   "id": "66fd2b17",
   "metadata": {},
   "source": [
    "### `lanuch.json`"
   ]
  },
  {
   "cell_type": "markdown",
   "id": "bc1fdcbe",
   "metadata": {},
   "source": [
    "- `launch.json` 在工作目录（workspace folder）的 `.vscode` 文件夹下创建\n",
    "\n",
    "- `\"justMyCode\": false,`：可以 debug 跟进源码"
   ]
  },
  {
   "cell_type": "markdown",
   "id": "dc2c1769",
   "metadata": {},
   "source": [
    "```\n",
    "{\n",
    "    \"type\": \"python\",\n",
    "    \"name\": \"python\", \n",
    "    \"request\": \"launch\", \n",
    "    \"program\": \"${file}\",\n",
    "    \"cwd\": \"${fileDirname}\",\n",
    "    \"justMyCode\": false,\n",
    "    \"console\": \"integratedTerminal\",\n",
    "    \"args\": [\n",
    "                \"--model_name\", \"meta-llama/Llama-2-7b-hf\",\n",
    "                \"--dataset_name\", \"timdettmers/openassistant-guanaco\",\n",
    "                \"--load_in_4bit\",\n",
    "                \"--use_peft\",\n",
    "                \"--batch_size\", \"16\",\n",
    "                \"--gradient_accumulation_steps\", \"2\"\n",
    "            ]\n",
    "}\n",
    "```"
   ]
  },
  {
   "cell_type": "markdown",
   "id": "7f232e20-dca7-4976-a3d1-6fd1f9b1c533",
   "metadata": {},
   "source": [
    "### 设置环境变量"
   ]
  },
  {
   "cell_type": "markdown",
   "id": "4e986732-333c-495c-95cb-47f593dff87a",
   "metadata": {},
   "source": [
    "```\n",
    "{\n",
    "    \"version\": \"0.2.0\",\n",
    "    \"configurations\": [\n",
    "        {\n",
    "            \"name\": \"Python: Current File\",\n",
    "            \"type\": \"python\",\n",
    "            \"request\": \"launch\",\n",
    "            \"program\": \"${file}\",\n",
    "            \"console\": \"integratedTerminal\",\n",
    "            \"env\": {\n",
    "                \"NCCL_P2P_DISABLE\": \"1\"\n",
    "            }\n",
    "        }\n",
    "    ]\n",
    "}\n",
    "```"
   ]
  },
  {
   "cell_type": "markdown",
   "id": "2cb9ba1e",
   "metadata": {},
   "source": [
    "### torchrun 等 module"
   ]
  },
  {
   "cell_type": "markdown",
   "id": "e4dc9d1c",
   "metadata": {},
   "source": [
    "```\n",
    "{\n",
    "    \"version\": \"0.2.0\",\n",
    "    \"configurations\": [\n",
    "        {\n",
    "            \"name\": \"Python: Current File\",\n",
    "            \"type\": \"python\",\n",
    "            \"module\": \"torch.distributed.launch\",\n",
    "            \"request\": \"launch\",\n",
    "            \"cwd\": \"${fileDirname}\",\n",
    "            \"console\": \"integratedTerminal\",\n",
    "            \"args\": [\n",
    "                \"--nproc_per_node\", \"1\", \n",
    "                \"main_swav.py\",\n",
    "                \"--data_path\", \"/dataset/imagenet/train\",\n",
    "            ]\n",
    "        }\n",
    "    ]\n",
    "}\n",
    "```"
   ]
  },
  {
   "cell_type": "markdown",
   "id": "60f10e72",
   "metadata": {},
   "source": [
    "### accelerate lanuch"
   ]
  },
  {
   "cell_type": "markdown",
   "id": "ced6ef2d",
   "metadata": {},
   "source": [
    "- `\"module\": \"accelerate.commands.launch\",`"
   ]
  },
  {
   "cell_type": "markdown",
   "id": "d8cb7558",
   "metadata": {},
   "source": [
    "```\n",
    "accelerate launch examples/research_projects/stack_llama_2/scripts/sft_llama2.py \\\n",
    "    --output_dir=\"./sft\" \\\n",
    "    --max_steps=500 \\\n",
    "    --logging_steps=10 \\\n",
    "    --save_steps=10 \\\n",
    "    --per_device_train_batch_size=4 \\\n",
    "    --per_device_eval_batch_size=1 \\\n",
    "    --gradient_accumulation_steps=2 \\\n",
    "    --gradient_checkpointing=False \\\n",
    "    --group_by_length=False \\\n",
    "    --learning_rate=1e-4 \\\n",
    "    --lr_scheduler_type=\"cosine\" \\\n",
    "    --warmup_steps=100 \\\n",
    "    --weight_decay=0.05 \\\n",
    "    --optim=\"paged_adamw_32bit\" \\\n",
    "    --bf16=True \\\n",
    "    --remove_unused_columns=False \\\n",
    "    --run_name=\"sft_llama2\" \\\n",
    "    --report_to=\"wandb\"\n",
    "```"
   ]
  },
  {
   "cell_type": "markdown",
   "id": "8948cff6",
   "metadata": {},
   "source": [
    "```\n",
    "{\n",
    "    // Use IntelliSense to learn about possible attributes.\n",
    "    // Hover to view descriptions of existing attributes.\n",
    "    // For more information, visit: https://go.microsoft.com/fwlink/?linkid=830387\n",
    "    \"version\": \"0.2.0\",\n",
    "    \"configurations\": [\n",
    "        {\n",
    "            \"name\": \"Launch sft_llama2\",\n",
    "            \"type\": \"debugpy\",\n",
    "            // \"type\": \"python\",\n",
    "            \"request\": \"launch\",\n",
    "            \"module\": \"accelerate.commands.launch\",\n",
    "            // \"program\": \"${workspaceFolder}/examples/research_projects/stack_llama_2/scripts/sft_llama2.py\",\n",
    "            \"console\": \"integratedTerminal\",\n",
    "            \"justMyCode\": false,\n",
    "            \"args\": [\n",
    "                \"${workspaceFolder}/examples/research_projects/stack_llama_2/scripts/sft_llama2.py\",\n",
    "                \"--output_dir=./sft\",\n",
    "                \"--max_steps=500\",\n",
    "                \"--logging_steps=10\",\n",
    "                \"--save_steps=10\",\n",
    "                \"--per_device_train_batch_size=2\",\n",
    "                \"--per_device_eval_batch_size=1\",\n",
    "                \"--gradient_accumulation_steps=2\",\n",
    "                \"--gradient_checkpointing=False\",\n",
    "                \"--group_by_length=False\",\n",
    "                \"--learning_rate=1e-4\",\n",
    "                \"--lr_scheduler_type=cosine\",\n",
    "                \"--warmup_steps=100\",\n",
    "                \"--weight_decay=0.05\",\n",
    "                \"--optim=paged_adamw_32bit\",\n",
    "                \"--bf16=True\",\n",
    "                \"--remove_unused_columns=False\",\n",
    "                \"--run_name=sft_llama2\",\n",
    "                \"--report_to=wandb\"\n",
    "            ],\n",
    "        }\n",
    "    ]\n",
    "}\n",
    "```"
   ]
  }
 ],
 "metadata": {
  "kernelspec": {
   "display_name": "Python 3 (ipykernel)",
   "language": "python",
   "name": "python3"
  },
  "language_info": {
   "codemirror_mode": {
    "name": "ipython",
    "version": 3
   },
   "file_extension": ".py",
   "mimetype": "text/x-python",
   "name": "python",
   "nbconvert_exporter": "python",
   "pygments_lexer": "ipython3",
   "version": "3.10.13"
  },
  "toc": {
   "base_numbering": 1,
   "nav_menu": {},
   "number_sections": true,
   "sideBar": true,
   "skip_h1_title": false,
   "title_cell": "Table of Contents",
   "title_sidebar": "Contents",
   "toc_cell": false,
   "toc_position": {},
   "toc_section_display": true,
   "toc_window_display": false
  }
 },
 "nbformat": 4,
 "nbformat_minor": 5
}
