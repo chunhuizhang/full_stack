{
 "cells": [
  {
   "cell_type": "markdown",
   "id": "cb16d680",
   "metadata": {},
   "source": [
    "## debug"
   ]
  },
  {
   "cell_type": "markdown",
   "id": "66fd2b17",
   "metadata": {},
   "source": [
    "### `lanuch.json`"
   ]
  },
  {
   "cell_type": "markdown",
   "id": "bc1fdcbe",
   "metadata": {},
   "source": [
    "- `\"justMyCode\": false,`：可以 debug 跟进源码"
   ]
  },
  {
   "cell_type": "markdown",
   "id": "dc2c1769",
   "metadata": {},
   "source": [
    "```\n",
    "{\n",
    "    \"type\": \"python\",\n",
    "    \"name\": \"python\", \n",
    "    \"request\": \"launch\", \n",
    "    \"program\": \"${file}\",\n",
    "    \"cwd\": \"${fileDirname}\",\n",
    "    \"justMyCode\": false,\n",
    "    \"console\": \"integratedTerminal\",\n",
    "    \"args\": [\n",
    "                \"--model_name\", \"meta-llama/Llama-2-7b-hf\",\n",
    "                \"--dataset_name\", \"timdettmers/openassistant-guanaco\",\n",
    "                \"--load_in_4bit\",\n",
    "                \"--use_peft\",\n",
    "                \"--batch_size\", \"16\",\n",
    "                \"--gradient_accumulation_steps\", \"2\"\n",
    "            ]\n",
    "}\n",
    "```"
   ]
  }
 ],
 "metadata": {
  "kernelspec": {
   "display_name": "Python 3 (ipykernel)",
   "language": "python",
   "name": "python3"
  },
  "language_info": {
   "codemirror_mode": {
    "name": "ipython",
    "version": 3
   },
   "file_extension": ".py",
   "mimetype": "text/x-python",
   "name": "python",
   "nbconvert_exporter": "python",
   "pygments_lexer": "ipython3",
   "version": "3.10.9"
  },
  "toc": {
   "base_numbering": 1,
   "nav_menu": {},
   "number_sections": true,
   "sideBar": true,
   "skip_h1_title": false,
   "title_cell": "Table of Contents",
   "title_sidebar": "Contents",
   "toc_cell": false,
   "toc_position": {},
   "toc_section_display": true,
   "toc_window_display": false
  }
 },
 "nbformat": 4,
 "nbformat_minor": 5
}
