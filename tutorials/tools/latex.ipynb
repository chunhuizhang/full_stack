{
 "cells": [
  {
   "cell_type": "markdown",
   "id": "bf4c5380",
   "metadata": {},
   "source": [
    "- symbols\n",
    "    - https://www.cmor-faculty.rice.edu/~heinken/latex/symbols.pdf\n",
    "- wiki\n",
    "    - https://en.wikibooks.org/wiki/LaTeX"
   ]
  },
  {
   "cell_type": "markdown",
   "id": "e198f1f2-5db9-4638-85aa-03f3cb688702",
   "metadata": {},
   "source": [
    "## ubuntu install"
   ]
  },
  {
   "cell_type": "markdown",
   "id": "b67162b2-53a7-430b-9e2e-d3623f8cdbbb",
   "metadata": {},
   "source": [
    "```\n",
    "sudo apt-get update\n",
    "# base\n",
    "sudo apt-get install texlive-latex-base\n",
    "# full\n",
    "sudo apt-get install texlive-full\n",
    "```\n",
    "\n",
    "- 常用命令\n",
    "    - `pdflatex xx.tex`"
   ]
  },
  {
   "cell_type": "code",
   "execution_count": 1,
   "id": "f422cdf7-0727-45d3-bf46-230ac65ab09f",
   "metadata": {},
   "outputs": [
    {
     "name": "stdout",
     "output_type": "stream",
     "text": [
      "pdfTeX 3.141592653-2.6-1.40.22 (TeX Live 2022/dev/Debian)\n",
      "kpathsea version 6.3.4/dev\n",
      "Copyright 2021 Han The Thanh (pdfTeX) et al.\n",
      "There is NO warranty.  Redistribution of this software is\n",
      "covered by the terms of both the pdfTeX copyright and\n",
      "the Lesser GNU General Public License.\n",
      "For more information about these matters, see the file\n",
      "named COPYING and the pdfTeX source.\n",
      "Primary author of pdfTeX: Han The Thanh (pdfTeX) et al.\n",
      "Compiled with libpng 1.6.37; using libpng 1.6.37\n",
      "Compiled with zlib 1.2.11; using zlib 1.2.11\n",
      "Compiled with xpdf version 4.03\n"
     ]
    }
   ],
   "source": [
    "!pdflatex --version"
   ]
  },
  {
   "cell_type": "code",
   "execution_count": null,
   "id": "2187e2bf-0f0a-4ecb-ad55-aac675883b0d",
   "metadata": {},
   "outputs": [],
   "source": []
  }
 ],
 "metadata": {
  "kernelspec": {
   "display_name": "Python 3 (ipykernel)",
   "language": "python",
   "name": "python3"
  },
  "language_info": {
   "codemirror_mode": {
    "name": "ipython",
    "version": 3
   },
   "file_extension": ".py",
   "mimetype": "text/x-python",
   "name": "python",
   "nbconvert_exporter": "python",
   "pygments_lexer": "ipython3",
   "version": "3.10.13"
  },
  "toc": {
   "base_numbering": 1,
   "nav_menu": {},
   "number_sections": true,
   "sideBar": true,
   "skip_h1_title": false,
   "title_cell": "Table of Contents",
   "title_sidebar": "Contents",
   "toc_cell": false,
   "toc_position": {},
   "toc_section_display": true,
   "toc_window_display": false
  }
 },
 "nbformat": 4,
 "nbformat_minor": 5
}
