{
 "cells": [
  {
   "cell_type": "markdown",
   "id": "0117758c-d388-483e-a8bf-5c6d90bc8c2b",
   "metadata": {},
   "source": [
    "- `pip install pytest`\n",
    "    - `pytest -s tests/model/test_transformer.py`\n",
    "        - -s: 显示print内容\n",
    "        -  -v 参数，会在 console 里打印出具体哪条测试用例被运行。"
   ]
  },
  {
   "cell_type": "markdown",
   "id": "d04b7ef7-2d0a-471d-b8dd-c1da04481e63",
   "metadata": {},
   "source": [
    "```\n",
    "from flash_attn.bert_padding import unpad_input, pad_input, index_first_axis, rearrange\n",
    "```"
   ]
  }
 ],
 "metadata": {
  "kernelspec": {
   "display_name": "verl",
   "language": "python",
   "name": "verl"
  },
  "language_info": {
   "codemirror_mode": {
    "name": "ipython",
    "version": 3
   },
   "file_extension": ".py",
   "mimetype": "text/x-python",
   "name": "python",
   "nbconvert_exporter": "python",
   "pygments_lexer": "ipython3",
   "version": "3.9.0"
  }
 },
 "nbformat": 4,
 "nbformat_minor": 5
}
