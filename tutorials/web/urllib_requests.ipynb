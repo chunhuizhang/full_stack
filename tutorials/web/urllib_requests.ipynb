{
 "cells": [
  {
   "cell_type": "code",
   "execution_count": 8,
   "id": "f0758d08",
   "metadata": {
    "ExecuteTime": {
     "end_time": "2023-10-20T12:26:07.512262Z",
     "start_time": "2023-10-20T12:26:07.506603Z"
    }
   },
   "outputs": [],
   "source": [
    "import requests"
   ]
  },
  {
   "cell_type": "markdown",
   "id": "def9d8cb",
   "metadata": {},
   "source": [
    "## urllib"
   ]
  },
  {
   "cell_type": "code",
   "execution_count": 15,
   "id": "c9a1d72d",
   "metadata": {
    "ExecuteTime": {
     "end_time": "2023-10-20T12:29:59.177305Z",
     "start_time": "2023-10-20T12:29:59.169729Z"
    }
   },
   "outputs": [],
   "source": [
    "import os\n",
    "os.environ[\"http_proxy\"] = \"http://127.0.0.1:7890\"\n",
    "os.environ[\"https_proxy\"] = \"http://127.0.0.1:7890\""
   ]
  },
  {
   "cell_type": "code",
   "execution_count": 12,
   "id": "b27ee068",
   "metadata": {
    "ExecuteTime": {
     "end_time": "2023-10-20T12:29:46.016997Z",
     "start_time": "2023-10-20T12:29:46.007316Z"
    }
   },
   "outputs": [
    {
     "data": {
      "text/plain": [
       "{'http': 'http://127.0.0.1:7890', 'https': 'http://127.0.0.1:7890'}"
      ]
     },
     "execution_count": 12,
     "metadata": {},
     "output_type": "execute_result"
    }
   ],
   "source": [
    "import urllib\n",
    "urllib.request.getproxies()"
   ]
  },
  {
   "cell_type": "markdown",
   "id": "5f799b98",
   "metadata": {},
   "source": [
    "## requests.get"
   ]
  },
  {
   "cell_type": "code",
   "execution_count": 13,
   "id": "69893462",
   "metadata": {
    "ExecuteTime": {
     "end_time": "2023-10-20T12:29:50.469277Z",
     "start_time": "2023-10-20T12:29:48.465657Z"
    }
   },
   "outputs": [
    {
     "data": {
      "text/plain": [
       "<Response [200]>"
      ]
     },
     "execution_count": 13,
     "metadata": {},
     "output_type": "execute_result"
    }
   ],
   "source": [
    "requests.get('https://www.huggingface.co')"
   ]
  },
  {
   "cell_type": "code",
   "execution_count": null,
   "id": "ba2f84e4",
   "metadata": {},
   "outputs": [],
   "source": []
  }
 ],
 "metadata": {
  "kernelspec": {
   "display_name": "Python 3 (ipykernel)",
   "language": "python",
   "name": "python3"
  },
  "language_info": {
   "codemirror_mode": {
    "name": "ipython",
    "version": 3
   },
   "file_extension": ".py",
   "mimetype": "text/x-python",
   "name": "python",
   "nbconvert_exporter": "python",
   "pygments_lexer": "ipython3",
   "version": "3.10.13"
  },
  "toc": {
   "base_numbering": 1,
   "nav_menu": {},
   "number_sections": true,
   "sideBar": true,
   "skip_h1_title": false,
   "title_cell": "Table of Contents",
   "title_sidebar": "Contents",
   "toc_cell": false,
   "toc_position": {},
   "toc_section_display": true,
   "toc_window_display": false
  }
 },
 "nbformat": 4,
 "nbformat_minor": 5
}
