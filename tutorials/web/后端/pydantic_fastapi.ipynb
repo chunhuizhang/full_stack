{
 "cells": [
  {
   "cell_type": "markdown",
   "id": "563d738a-fe5c-415a-a755-59593d30f113",
   "metadata": {},
   "source": [
    "- https://sean22492249.medium.com/pydantic-%E7%9A%84%E4%BB%8B%E7%B4%B9-3721a0691162\n",
    "- https://www.youtube.com/watch?v=yj-wSRJwrrc"
   ]
  },
  {
   "cell_type": "markdown",
   "id": "a3783291-ef0a-415d-9c4b-525e8c268b42",
   "metadata": {},
   "source": [
    "### Pydantic"
   ]
  },
  {
   "cell_type": "markdown",
   "id": "23464713-1818-4dd5-b8e0-0db35a9d1327",
   "metadata": {},
   "source": [
    "- powered by Type Hints\n",
    "- Field and Model level validation\n",
    "- outputs JsonSchema"
   ]
  },
  {
   "cell_type": "code",
   "execution_count": 2,
   "id": "4858b91b-9712-400b-85ea-c11ae4d83d2f",
   "metadata": {
    "execution": {
     "iopub.execute_input": "2024-08-25T04:48:35.169415Z",
     "iopub.status.busy": "2024-08-25T04:48:35.168751Z",
     "iopub.status.idle": "2024-08-25T04:48:35.255144Z",
     "shell.execute_reply": "2024-08-25T04:48:35.253441Z",
     "shell.execute_reply.started": "2024-08-25T04:48:35.169364Z"
    }
   },
   "outputs": [],
   "source": [
    "from datetime import datetime\n",
    "from typing import Tuple\n",
    "\n",
    "from pydantic import BaseModel"
   ]
  },
  {
   "cell_type": "code",
   "execution_count": 3,
   "id": "32d6a790-f398-4ede-a606-8cdeeefff1f3",
   "metadata": {
    "execution": {
     "iopub.execute_input": "2024-08-25T04:51:16.256025Z",
     "iopub.status.busy": "2024-08-25T04:51:16.255687Z",
     "iopub.status.idle": "2024-08-25T04:51:16.391849Z",
     "shell.execute_reply": "2024-08-25T04:51:16.390164Z",
     "shell.execute_reply.started": "2024-08-25T04:51:16.256001Z"
    }
   },
   "outputs": [],
   "source": [
    "class Student(BaseModel):\n",
    "    birth: datetime\n",
    "    grades: Tuple[int, int]"
   ]
  },
  {
   "cell_type": "code",
   "execution_count": 4,
   "id": "cc5e4ae5-7a6a-4730-a020-334961d18669",
   "metadata": {
    "execution": {
     "iopub.execute_input": "2024-08-25T04:51:40.469059Z",
     "iopub.status.busy": "2024-08-25T04:51:40.468435Z",
     "iopub.status.idle": "2024-08-25T04:51:40.488033Z",
     "shell.execute_reply": "2024-08-25T04:51:40.485846Z",
     "shell.execute_reply.started": "2024-08-25T04:51:40.469013Z"
    }
   },
   "outputs": [],
   "source": [
    "stu = Student(birth='1992-01-01', grades=['80', '90'])"
   ]
  },
  {
   "cell_type": "code",
   "execution_count": 5,
   "id": "5e0f8782-db62-4712-919b-ebd48de419c0",
   "metadata": {
    "execution": {
     "iopub.execute_input": "2024-08-25T04:51:44.566430Z",
     "iopub.status.busy": "2024-08-25T04:51:44.565789Z",
     "iopub.status.idle": "2024-08-25T04:51:44.584993Z",
     "shell.execute_reply": "2024-08-25T04:51:44.583158Z",
     "shell.execute_reply.started": "2024-08-25T04:51:44.566383Z"
    }
   },
   "outputs": [
    {
     "data": {
      "text/plain": [
       "datetime.datetime(1992, 1, 1, 0, 0)"
      ]
     },
     "execution_count": 5,
     "metadata": {},
     "output_type": "execute_result"
    }
   ],
   "source": [
    "stu.birth"
   ]
  },
  {
   "cell_type": "code",
   "execution_count": 6,
   "id": "7696a2f8-0283-49f5-a526-ef06dd17f9a0",
   "metadata": {
    "execution": {
     "iopub.execute_input": "2024-08-25T04:51:49.884020Z",
     "iopub.status.busy": "2024-08-25T04:51:49.883531Z",
     "iopub.status.idle": "2024-08-25T04:51:49.893547Z",
     "shell.execute_reply": "2024-08-25T04:51:49.891851Z",
     "shell.execute_reply.started": "2024-08-25T04:51:49.883985Z"
    }
   },
   "outputs": [
    {
     "data": {
      "text/plain": [
       "(80, 90)"
      ]
     },
     "execution_count": 6,
     "metadata": {},
     "output_type": "execute_result"
    }
   ],
   "source": [
    "stu.grades"
   ]
  },
  {
   "cell_type": "markdown",
   "id": "e474935d-df6b-42ca-933b-f1dafbfc7a54",
   "metadata": {},
   "source": []
  },
  {
   "cell_type": "markdown",
   "id": "f5b54609-fc74-4c9f-a6b6-9a858d5f17f2",
   "metadata": {},
   "source": [
    "### structured prompting"
   ]
  },
  {
   "cell_type": "markdown",
   "id": "4e53aba4-4f9f-491a-a812-7d083aece1c7",
   "metadata": {
    "jp-MarkdownHeadingCollapsed": true
   },
   "source": [
    "- LLMs (large language models) are eating softwares\n",
    "    - LLMs need to be backward compatible with existing software.\n",
    "    - building systems not chatbots\n",
    "- 90% of applications output json\n",
    "    - or need some structured output they parse with regex"
   ]
  }
 ],
 "metadata": {
  "kernelspec": {
   "display_name": "Python 3 (ipykernel)",
   "language": "python",
   "name": "python3"
  },
  "language_info": {
   "codemirror_mode": {
    "name": "ipython",
    "version": 3
   },
   "file_extension": ".py",
   "mimetype": "text/x-python",
   "name": "python",
   "nbconvert_exporter": "python",
   "pygments_lexer": "ipython3",
   "version": "3.10.13"
  }
 },
 "nbformat": 4,
 "nbformat_minor": 5
}
