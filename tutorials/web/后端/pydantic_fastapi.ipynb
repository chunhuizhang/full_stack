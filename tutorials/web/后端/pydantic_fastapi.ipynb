{
 "cells": [
  {
   "cell_type": "markdown",
   "id": "563d738a-fe5c-415a-a755-59593d30f113",
   "metadata": {},
   "source": [
    "- https://sean22492249.medium.com/pydantic-%E7%9A%84%E4%BB%8B%E7%B4%B9-3721a0691162\n",
    "- https://www.youtube.com/watch?v=yj-wSRJwrrc"
   ]
  },
  {
   "cell_type": "markdown",
   "id": "a3783291-ef0a-415d-9c4b-525e8c268b42",
   "metadata": {},
   "source": [
    "### Pydantic"
   ]
  },
  {
   "cell_type": "markdown",
   "id": "23464713-1818-4dd5-b8e0-0db35a9d1327",
   "metadata": {},
   "source": [
    "- powered by Type Hints\n",
    "    - python lack of static typing\n",
    "    - pydantic vs. dataclass\n",
    "- Field and Model level Data validation\n",
    "- JSON serialization\n",
    "    - outputs JsonSchema"
   ]
  },
  {
   "cell_type": "code",
   "execution_count": 19,
   "id": "4858b91b-9712-400b-85ea-c11ae4d83d2f",
   "metadata": {
    "execution": {
     "iopub.execute_input": "2024-08-26T14:28:45.570702Z",
     "iopub.status.busy": "2024-08-26T14:28:45.570257Z",
     "iopub.status.idle": "2024-08-26T14:28:45.577730Z",
     "shell.execute_reply": "2024-08-26T14:28:45.575900Z",
     "shell.execute_reply.started": "2024-08-26T14:28:45.570667Z"
    }
   },
   "outputs": [],
   "source": [
    "from datetime import datetime\n",
    "from typing import Tuple\n",
    "\n",
    "from pydantic import BaseModel, Field"
   ]
  },
  {
   "cell_type": "code",
   "execution_count": 2,
   "id": "32d6a790-f398-4ede-a606-8cdeeefff1f3",
   "metadata": {
    "execution": {
     "iopub.execute_input": "2024-08-26T14:16:53.097479Z",
     "iopub.status.busy": "2024-08-26T14:16:53.097221Z",
     "iopub.status.idle": "2024-08-26T14:16:53.182438Z",
     "shell.execute_reply": "2024-08-26T14:16:53.181389Z",
     "shell.execute_reply.started": "2024-08-26T14:16:53.097454Z"
    }
   },
   "outputs": [],
   "source": [
    "class Student(BaseModel):\n",
    "    birth: datetime\n",
    "    grades: Tuple[int, int]"
   ]
  },
  {
   "cell_type": "code",
   "execution_count": 3,
   "id": "cc5e4ae5-7a6a-4730-a020-334961d18669",
   "metadata": {
    "execution": {
     "iopub.execute_input": "2024-08-26T14:16:53.183371Z",
     "iopub.status.busy": "2024-08-26T14:16:53.183172Z",
     "iopub.status.idle": "2024-08-26T14:16:53.188451Z",
     "shell.execute_reply": "2024-08-26T14:16:53.187750Z",
     "shell.execute_reply.started": "2024-08-26T14:16:53.183353Z"
    }
   },
   "outputs": [],
   "source": [
    "stu = Student(birth='1992-01-01', grades=['80', '90'])"
   ]
  },
  {
   "cell_type": "code",
   "execution_count": 4,
   "id": "5e0f8782-db62-4712-919b-ebd48de419c0",
   "metadata": {
    "execution": {
     "iopub.execute_input": "2024-08-26T14:16:53.189360Z",
     "iopub.status.busy": "2024-08-26T14:16:53.189169Z",
     "iopub.status.idle": "2024-08-26T14:16:53.202867Z",
     "shell.execute_reply": "2024-08-26T14:16:53.201474Z",
     "shell.execute_reply.started": "2024-08-26T14:16:53.189343Z"
    }
   },
   "outputs": [
    {
     "data": {
      "text/plain": [
       "datetime.datetime(1992, 1, 1, 0, 0)"
      ]
     },
     "execution_count": 4,
     "metadata": {},
     "output_type": "execute_result"
    }
   ],
   "source": [
    "stu.birth"
   ]
  },
  {
   "cell_type": "code",
   "execution_count": 5,
   "id": "7696a2f8-0283-49f5-a526-ef06dd17f9a0",
   "metadata": {
    "execution": {
     "iopub.execute_input": "2024-08-26T14:16:53.205443Z",
     "iopub.status.busy": "2024-08-26T14:16:53.204136Z",
     "iopub.status.idle": "2024-08-26T14:16:53.211466Z",
     "shell.execute_reply": "2024-08-26T14:16:53.210438Z",
     "shell.execute_reply.started": "2024-08-26T14:16:53.205411Z"
    }
   },
   "outputs": [
    {
     "data": {
      "text/plain": [
       "(80, 90)"
      ]
     },
     "execution_count": 5,
     "metadata": {},
     "output_type": "execute_result"
    }
   ],
   "source": [
    "stu.grades"
   ]
  },
  {
   "cell_type": "markdown",
   "id": "48523433-c96f-4beb-aeae-22cadafb20c1",
   "metadata": {},
   "source": [
    "### basics"
   ]
  },
  {
   "cell_type": "code",
   "execution_count": 20,
   "id": "6877e4d5-1672-4f5f-8d4a-f8711eb08b4c",
   "metadata": {
    "execution": {
     "iopub.execute_input": "2024-08-26T14:29:10.788266Z",
     "iopub.status.busy": "2024-08-26T14:29:10.787658Z",
     "iopub.status.idle": "2024-08-26T14:29:10.808109Z",
     "shell.execute_reply": "2024-08-26T14:29:10.806307Z",
     "shell.execute_reply.started": "2024-08-26T14:29:10.788216Z"
    }
   },
   "outputs": [],
   "source": [
    "from pydantic import EmailStr"
   ]
  },
  {
   "cell_type": "code",
   "execution_count": 22,
   "id": "ca77df62-11e6-4713-a288-9ffbb361191b",
   "metadata": {
    "execution": {
     "iopub.execute_input": "2024-08-26T14:29:44.990010Z",
     "iopub.status.busy": "2024-08-26T14:29:44.989496Z",
     "iopub.status.idle": "2024-08-26T14:29:45.063619Z",
     "shell.execute_reply": "2024-08-26T14:29:45.062418Z",
     "shell.execute_reply.started": "2024-08-26T14:29:44.989983Z"
    }
   },
   "outputs": [],
   "source": [
    "class User(BaseModel):\n",
    "    name: str\n",
    "    email: EmailStr\n",
    "    account: int"
   ]
  },
  {
   "cell_type": "code",
   "execution_count": 24,
   "id": "a7c0cc84-b789-4b8c-b3d6-a4ea2e66529b",
   "metadata": {
    "execution": {
     "iopub.execute_input": "2024-08-26T14:31:15.389239Z",
     "iopub.status.busy": "2024-08-26T14:31:15.388609Z",
     "iopub.status.idle": "2024-08-26T14:31:15.441292Z",
     "shell.execute_reply": "2024-08-26T14:31:15.438865Z",
     "shell.execute_reply.started": "2024-08-26T14:31:15.389187Z"
    }
   },
   "outputs": [
    {
     "ename": "ValidationError",
     "evalue": "1 validation error for User\nemail\n  value is not a valid email address: The part after the @-sign is not valid. It should have a period. [type=value_error, input_value='zch@126', input_type=str]",
     "output_type": "error",
     "traceback": [
      "\u001b[0;31m---------------------------------------------------------------------------\u001b[0m",
      "\u001b[0;31mValidationError\u001b[0m                           Traceback (most recent call last)",
      "Cell \u001b[0;32mIn[24], line 1\u001b[0m\n\u001b[0;32m----> 1\u001b[0m \u001b[43mUser\u001b[49m\u001b[43m(\u001b[49m\u001b[43mname\u001b[49m\u001b[38;5;241;43m=\u001b[39;49m\u001b[38;5;124;43m'\u001b[39;49m\u001b[38;5;124;43mzhang\u001b[39;49m\u001b[38;5;124;43m'\u001b[39;49m\u001b[43m,\u001b[49m\u001b[43m \u001b[49m\u001b[43memail\u001b[49m\u001b[38;5;241;43m=\u001b[39;49m\u001b[38;5;124;43m'\u001b[39;49m\u001b[38;5;124;43mzch@126\u001b[39;49m\u001b[38;5;124;43m'\u001b[39;49m\u001b[43m,\u001b[49m\u001b[43m \u001b[49m\u001b[43maccount\u001b[49m\u001b[38;5;241;43m=\u001b[39;49m\u001b[38;5;124;43m'\u001b[39;49m\u001b[38;5;124;43m1234\u001b[39;49m\u001b[38;5;124;43m'\u001b[39;49m\u001b[43m)\u001b[49m\n",
      "File \u001b[0;32m~/anaconda3/envs/agent/lib/python3.12/site-packages/pydantic/main.py:193\u001b[0m, in \u001b[0;36mBaseModel.__init__\u001b[0;34m(self, **data)\u001b[0m\n\u001b[1;32m    191\u001b[0m \u001b[38;5;66;03m# `__tracebackhide__` tells pytest and some other tools to omit this function from tracebacks\u001b[39;00m\n\u001b[1;32m    192\u001b[0m __tracebackhide__ \u001b[38;5;241m=\u001b[39m \u001b[38;5;28;01mTrue\u001b[39;00m\n\u001b[0;32m--> 193\u001b[0m \u001b[38;5;28;43mself\u001b[39;49m\u001b[38;5;241;43m.\u001b[39;49m\u001b[43m__pydantic_validator__\u001b[49m\u001b[38;5;241;43m.\u001b[39;49m\u001b[43mvalidate_python\u001b[49m\u001b[43m(\u001b[49m\u001b[43mdata\u001b[49m\u001b[43m,\u001b[49m\u001b[43m \u001b[49m\u001b[43mself_instance\u001b[49m\u001b[38;5;241;43m=\u001b[39;49m\u001b[38;5;28;43mself\u001b[39;49m\u001b[43m)\u001b[49m\n",
      "\u001b[0;31mValidationError\u001b[0m: 1 validation error for User\nemail\n  value is not a valid email address: The part after the @-sign is not valid. It should have a period. [type=value_error, input_value='zch@126', input_type=str]"
     ]
    }
   ],
   "source": [
    "User(name='zhang', email='zch@126', account='1234')"
   ]
  },
  {
   "cell_type": "code",
   "execution_count": null,
   "id": "5e307023-dd21-477d-84e9-af0de5345e4e",
   "metadata": {},
   "outputs": [],
   "source": []
  },
  {
   "cell_type": "markdown",
   "id": "548724ec-6fe3-49cd-bc14-e00b4c4a578b",
   "metadata": {},
   "source": [
    "### validator"
   ]
  },
  {
   "cell_type": "code",
   "execution_count": 14,
   "id": "430d922b-66e8-4ca1-b2be-f7dfbee69f3b",
   "metadata": {
    "execution": {
     "iopub.execute_input": "2024-08-26T14:24:47.296486Z",
     "iopub.status.busy": "2024-08-26T14:24:47.295864Z",
     "iopub.status.idle": "2024-08-26T14:24:47.311402Z",
     "shell.execute_reply": "2024-08-26T14:24:47.309335Z",
     "shell.execute_reply.started": "2024-08-26T14:24:47.296436Z"
    }
   },
   "outputs": [],
   "source": [
    "from typing import Annotated\n",
    "from pydantic import BaseModel, ValidationError\n",
    "from pydantic import AfterValidator, BeforeValidator\n",
    "\n",
    "def name_must_contain_space(v: str) -> str:\n",
    "    if ' ' not in v:\n",
    "        return ValueError(f'Name must contain a space: {v}')\n",
    "    return v.lower()\n",
    "\n",
    "class UserDetail(BaseModel):\n",
    "    age: int\n",
    "    name: Annotated[str, AfterValidator(name_must_contain_space)]"
   ]
  },
  {
   "cell_type": "code",
   "execution_count": 12,
   "id": "a298c41d-2c79-46f8-9f0f-e95c26e9576c",
   "metadata": {
    "execution": {
     "iopub.execute_input": "2024-08-26T14:23:30.275675Z",
     "iopub.status.busy": "2024-08-26T14:23:30.275060Z",
     "iopub.status.idle": "2024-08-26T14:23:30.282823Z",
     "shell.execute_reply": "2024-08-26T14:23:30.281574Z",
     "shell.execute_reply.started": "2024-08-26T14:23:30.275623Z"
    }
   },
   "outputs": [],
   "source": [
    "person = UserDetail(age='32', name='zhang')"
   ]
  },
  {
   "cell_type": "code",
   "execution_count": 13,
   "id": "a6e3795e-dbfc-4400-bf7f-1a2fb5f9aad5",
   "metadata": {
    "execution": {
     "iopub.execute_input": "2024-08-26T14:23:39.156043Z",
     "iopub.status.busy": "2024-08-26T14:23:39.155427Z",
     "iopub.status.idle": "2024-08-26T14:23:39.166953Z",
     "shell.execute_reply": "2024-08-26T14:23:39.165465Z",
     "shell.execute_reply.started": "2024-08-26T14:23:39.155994Z"
    }
   },
   "outputs": [
    {
     "data": {
      "text/plain": [
       "ValueError('Name must contain a space: zhang')"
      ]
     },
     "execution_count": 13,
     "metadata": {},
     "output_type": "execute_result"
    }
   ],
   "source": [
    "person.name"
   ]
  },
  {
   "cell_type": "code",
   "execution_count": 15,
   "id": "fccbcd79-6720-4697-b72f-f3d91e63ec4a",
   "metadata": {
    "execution": {
     "iopub.execute_input": "2024-08-26T14:24:56.621116Z",
     "iopub.status.busy": "2024-08-26T14:24:56.620555Z",
     "iopub.status.idle": "2024-08-26T14:24:56.632995Z",
     "shell.execute_reply": "2024-08-26T14:24:56.630880Z",
     "shell.execute_reply.started": "2024-08-26T14:24:56.621071Z"
    }
   },
   "outputs": [],
   "source": [
    "class UserDetail(BaseModel):\n",
    "    age: int\n",
    "    name: Annotated[str, BeforeValidator(name_must_contain_space)]"
   ]
  },
  {
   "cell_type": "code",
   "execution_count": 16,
   "id": "4ab6dc1b-e9da-44a7-9862-e1d8f56b068c",
   "metadata": {
    "execution": {
     "iopub.execute_input": "2024-08-26T14:25:01.231884Z",
     "iopub.status.busy": "2024-08-26T14:25:01.231273Z",
     "iopub.status.idle": "2024-08-26T14:25:01.356484Z",
     "shell.execute_reply": "2024-08-26T14:25:01.354623Z",
     "shell.execute_reply.started": "2024-08-26T14:25:01.231833Z"
    }
   },
   "outputs": [
    {
     "ename": "ValidationError",
     "evalue": "1 validation error for UserDetail\nname\n  Input should be a valid string [type=string_type, input_value=ValueError('Name must contain a space: zhang'), input_type=ValueError]\n    For further information visit https://errors.pydantic.dev/2.8/v/string_type",
     "output_type": "error",
     "traceback": [
      "\u001b[0;31m---------------------------------------------------------------------------\u001b[0m",
      "\u001b[0;31mValidationError\u001b[0m                           Traceback (most recent call last)",
      "Cell \u001b[0;32mIn[16], line 1\u001b[0m\n\u001b[0;32m----> 1\u001b[0m person \u001b[38;5;241m=\u001b[39m \u001b[43mUserDetail\u001b[49m\u001b[43m(\u001b[49m\u001b[43mage\u001b[49m\u001b[38;5;241;43m=\u001b[39;49m\u001b[38;5;124;43m'\u001b[39;49m\u001b[38;5;124;43m32\u001b[39;49m\u001b[38;5;124;43m'\u001b[39;49m\u001b[43m,\u001b[49m\u001b[43m \u001b[49m\u001b[43mname\u001b[49m\u001b[38;5;241;43m=\u001b[39;49m\u001b[38;5;124;43m'\u001b[39;49m\u001b[38;5;124;43mzhang\u001b[39;49m\u001b[38;5;124;43m'\u001b[39;49m\u001b[43m)\u001b[49m\n",
      "File \u001b[0;32m~/anaconda3/envs/agent/lib/python3.12/site-packages/pydantic/main.py:193\u001b[0m, in \u001b[0;36mBaseModel.__init__\u001b[0;34m(self, **data)\u001b[0m\n\u001b[1;32m    191\u001b[0m \u001b[38;5;66;03m# `__tracebackhide__` tells pytest and some other tools to omit this function from tracebacks\u001b[39;00m\n\u001b[1;32m    192\u001b[0m __tracebackhide__ \u001b[38;5;241m=\u001b[39m \u001b[38;5;28;01mTrue\u001b[39;00m\n\u001b[0;32m--> 193\u001b[0m \u001b[38;5;28;43mself\u001b[39;49m\u001b[38;5;241;43m.\u001b[39;49m\u001b[43m__pydantic_validator__\u001b[49m\u001b[38;5;241;43m.\u001b[39;49m\u001b[43mvalidate_python\u001b[49m\u001b[43m(\u001b[49m\u001b[43mdata\u001b[49m\u001b[43m,\u001b[49m\u001b[43m \u001b[49m\u001b[43mself_instance\u001b[49m\u001b[38;5;241;43m=\u001b[39;49m\u001b[38;5;28;43mself\u001b[39;49m\u001b[43m)\u001b[49m\n",
      "\u001b[0;31mValidationError\u001b[0m: 1 validation error for UserDetail\nname\n  Input should be a valid string [type=string_type, input_value=ValueError('Name must contain a space: zhang'), input_type=ValueError]\n    For further information visit https://errors.pydantic.dev/2.8/v/string_type"
     ]
    }
   ],
   "source": [
    "person = UserDetail(age='32', name='zhang')"
   ]
  },
  {
   "cell_type": "markdown",
   "id": "1abe4e43-0688-40e7-a59f-114f37053001",
   "metadata": {},
   "source": [
    "### custom validator"
   ]
  },
  {
   "cell_type": "code",
   "execution_count": 28,
   "id": "107474c6-ba8f-4b33-a590-abad58e5330d",
   "metadata": {
    "execution": {
     "iopub.execute_input": "2024-08-26T14:33:25.798101Z",
     "iopub.status.busy": "2024-08-26T14:33:25.796542Z",
     "iopub.status.idle": "2024-08-26T14:33:25.805286Z",
     "shell.execute_reply": "2024-08-26T14:33:25.803540Z",
     "shell.execute_reply.started": "2024-08-26T14:33:25.798036Z"
    }
   },
   "outputs": [],
   "source": [
    "from pydantic import field_validator"
   ]
  },
  {
   "cell_type": "code",
   "execution_count": 30,
   "id": "dd433ed6-ecc1-4a5f-8b52-393f27f2635c",
   "metadata": {
    "execution": {
     "iopub.execute_input": "2024-08-26T14:33:58.206020Z",
     "iopub.status.busy": "2024-08-26T14:33:58.205219Z",
     "iopub.status.idle": "2024-08-26T14:33:58.221893Z",
     "shell.execute_reply": "2024-08-26T14:33:58.220422Z",
     "shell.execute_reply.started": "2024-08-26T14:33:58.205964Z"
    }
   },
   "outputs": [],
   "source": [
    "class User(BaseModel):\n",
    "    name: str\n",
    "    email: EmailStr\n",
    "    account: int\n",
    "    \n",
    "    @field_validator('account')\n",
    "    def validate_account(cls, value):\n",
    "        if value <= 0:\n",
    "            raise ValueError(f'account id must be positive: {value}')\n",
    "        return value"
   ]
  },
  {
   "cell_type": "code",
   "execution_count": 34,
   "id": "4fe4c040-daf8-4a0b-94ec-560501016767",
   "metadata": {
    "execution": {
     "iopub.execute_input": "2024-08-26T14:34:34.116797Z",
     "iopub.status.busy": "2024-08-26T14:34:34.116165Z",
     "iopub.status.idle": "2024-08-26T14:34:34.166004Z",
     "shell.execute_reply": "2024-08-26T14:34:34.164187Z",
     "shell.execute_reply.started": "2024-08-26T14:34:34.116746Z"
    }
   },
   "outputs": [
    {
     "ename": "ValidationError",
     "evalue": "1 validation error for User\naccount\n  Value error, account id must be positive: -1234 [type=value_error, input_value='-1234', input_type=str]\n    For further information visit https://errors.pydantic.dev/2.8/v/value_error",
     "output_type": "error",
     "traceback": [
      "\u001b[0;31m---------------------------------------------------------------------------\u001b[0m",
      "\u001b[0;31mValidationError\u001b[0m                           Traceback (most recent call last)",
      "Cell \u001b[0;32mIn[34], line 1\u001b[0m\n\u001b[0;32m----> 1\u001b[0m \u001b[43mUser\u001b[49m\u001b[43m(\u001b[49m\u001b[43mname\u001b[49m\u001b[38;5;241;43m=\u001b[39;49m\u001b[38;5;124;43m'\u001b[39;49m\u001b[38;5;124;43mzhang\u001b[39;49m\u001b[38;5;124;43m'\u001b[39;49m\u001b[43m,\u001b[49m\u001b[43m \u001b[49m\u001b[43memail\u001b[49m\u001b[38;5;241;43m=\u001b[39;49m\u001b[38;5;124;43m'\u001b[39;49m\u001b[38;5;124;43mzch@126.com\u001b[39;49m\u001b[38;5;124;43m'\u001b[39;49m\u001b[43m,\u001b[49m\u001b[43m \u001b[49m\u001b[43maccount\u001b[49m\u001b[38;5;241;43m=\u001b[39;49m\u001b[38;5;124;43m'\u001b[39;49m\u001b[38;5;124;43m-1234\u001b[39;49m\u001b[38;5;124;43m'\u001b[39;49m\u001b[43m)\u001b[49m\n",
      "File \u001b[0;32m~/anaconda3/envs/agent/lib/python3.12/site-packages/pydantic/main.py:193\u001b[0m, in \u001b[0;36mBaseModel.__init__\u001b[0;34m(self, **data)\u001b[0m\n\u001b[1;32m    191\u001b[0m \u001b[38;5;66;03m# `__tracebackhide__` tells pytest and some other tools to omit this function from tracebacks\u001b[39;00m\n\u001b[1;32m    192\u001b[0m __tracebackhide__ \u001b[38;5;241m=\u001b[39m \u001b[38;5;28;01mTrue\u001b[39;00m\n\u001b[0;32m--> 193\u001b[0m \u001b[38;5;28;43mself\u001b[39;49m\u001b[38;5;241;43m.\u001b[39;49m\u001b[43m__pydantic_validator__\u001b[49m\u001b[38;5;241;43m.\u001b[39;49m\u001b[43mvalidate_python\u001b[49m\u001b[43m(\u001b[49m\u001b[43mdata\u001b[49m\u001b[43m,\u001b[49m\u001b[43m \u001b[49m\u001b[43mself_instance\u001b[49m\u001b[38;5;241;43m=\u001b[39;49m\u001b[38;5;28;43mself\u001b[39;49m\u001b[43m)\u001b[49m\n",
      "\u001b[0;31mValidationError\u001b[0m: 1 validation error for User\naccount\n  Value error, account id must be positive: -1234 [type=value_error, input_value='-1234', input_type=str]\n    For further information visit https://errors.pydantic.dev/2.8/v/value_error"
     ]
    }
   ],
   "source": [
    "User(name='zhang', email='zch@126.com', account='-1234')"
   ]
  },
  {
   "cell_type": "markdown",
   "id": "9d7e80b4-1883-40c2-987d-c9c90e2f6acf",
   "metadata": {},
   "source": [
    "### json 序列化"
   ]
  },
  {
   "cell_type": "code",
   "execution_count": 35,
   "id": "1d9199a4-5867-48be-b364-e6f59f7e004b",
   "metadata": {
    "execution": {
     "iopub.execute_input": "2024-08-26T14:35:06.985232Z",
     "iopub.status.busy": "2024-08-26T14:35:06.983946Z",
     "iopub.status.idle": "2024-08-26T14:35:06.992775Z",
     "shell.execute_reply": "2024-08-26T14:35:06.990729Z",
     "shell.execute_reply.started": "2024-08-26T14:35:06.985168Z"
    }
   },
   "outputs": [],
   "source": [
    "user = User(name='zhang', email='zch@126.com', account='1234')"
   ]
  },
  {
   "cell_type": "code",
   "execution_count": 36,
   "id": "d44ad111-b1de-4fd2-9998-6534310293cf",
   "metadata": {
    "execution": {
     "iopub.execute_input": "2024-08-26T14:35:11.596997Z",
     "iopub.status.busy": "2024-08-26T14:35:11.595762Z",
     "iopub.status.idle": "2024-08-26T14:35:11.607898Z",
     "shell.execute_reply": "2024-08-26T14:35:11.606098Z",
     "shell.execute_reply.started": "2024-08-26T14:35:11.596938Z"
    }
   },
   "outputs": [
    {
     "data": {
      "text/plain": [
       "'{\"name\":\"zhang\",\"email\":\"zch@126.com\",\"account\":1234}'"
      ]
     },
     "execution_count": 36,
     "metadata": {},
     "output_type": "execute_result"
    }
   ],
   "source": [
    "user.json()"
   ]
  },
  {
   "cell_type": "code",
   "execution_count": 37,
   "id": "6472a94c-baeb-412f-862e-4ca11ec76759",
   "metadata": {
    "execution": {
     "iopub.execute_input": "2024-08-26T14:35:21.419888Z",
     "iopub.status.busy": "2024-08-26T14:35:21.418559Z",
     "iopub.status.idle": "2024-08-26T14:35:21.430799Z",
     "shell.execute_reply": "2024-08-26T14:35:21.428950Z",
     "shell.execute_reply.started": "2024-08-26T14:35:21.419824Z"
    }
   },
   "outputs": [
    {
     "data": {
      "text/plain": [
       "{'name': 'zhang', 'email': 'zch@126.com', 'account': 1234}"
      ]
     },
     "execution_count": 37,
     "metadata": {},
     "output_type": "execute_result"
    }
   ],
   "source": [
    "user.dict()"
   ]
  },
  {
   "cell_type": "markdown",
   "id": "102c36b4-47fe-401a-8a7a-e174e6c570c3",
   "metadata": {},
   "source": [
    "## pydantic vs. dataclasses"
   ]
  },
  {
   "cell_type": "markdown",
   "id": "4771748c-54f4-4789-ac16-df9fd4d51ea3",
   "metadata": {},
   "source": [
    "| Feature | pydantic | dataclass |\n",
    "|---------|----------|-----------|\n",
    "| Type Hints | ✅ | ✅ |\n",
    "| Data Validation | ✅ | ❌ |\n",
    "| Serialization | ✅ | ⚠️ |\n",
    "| Built-In | ❌ | ✅ |"
   ]
  },
  {
   "cell_type": "markdown",
   "id": "f5b54609-fc74-4c9f-a6b6-9a858d5f17f2",
   "metadata": {},
   "source": [
    "## structured prompting & LangChain"
   ]
  },
  {
   "cell_type": "code",
   "execution_count": 6,
   "id": "3d77213b-5516-4e2a-9e9e-47970241cefa",
   "metadata": {
    "execution": {
     "iopub.execute_input": "2024-08-26T14:17:06.814638Z",
     "iopub.status.busy": "2024-08-26T14:17:06.814291Z",
     "iopub.status.idle": "2024-08-26T14:17:06.885828Z",
     "shell.execute_reply": "2024-08-26T14:17:06.884514Z",
     "shell.execute_reply.started": "2024-08-26T14:17:06.814610Z"
    }
   },
   "outputs": [],
   "source": [
    "from langchain_core.pydantic_v1 import BaseModel, Field"
   ]
  },
  {
   "cell_type": "markdown",
   "id": "4e53aba4-4f9f-491a-a812-7d083aece1c7",
   "metadata": {
    "jp-MarkdownHeadingCollapsed": true
   },
   "source": [
    "- LLMs (large language models) are eating softwares\n",
    "    - LLMs need to be backward compatible with existing software.\n",
    "    - building systems not chatbots\n",
    "- 90% of applications output json\n",
    "    - or need some structured output they parse with regex"
   ]
  },
  {
   "cell_type": "markdown",
   "id": "1d75363d-38db-4f88-9e33-24fefab25a73",
   "metadata": {},
   "source": [
    "```\n",
    "(prompt: str, schema: Model) -> Model\n",
    "```"
   ]
  },
  {
   "cell_type": "markdown",
   "id": "9d34391a-6aba-4b02-bff5-1d0442f30dc1",
   "metadata": {},
   "source": [
    "### instructor"
   ]
  },
  {
   "cell_type": "code",
   "execution_count": 9,
   "id": "b07f0ab6-2987-4af4-9b0b-c6d31d2a7cae",
   "metadata": {
    "execution": {
     "iopub.execute_input": "2024-08-26T14:18:43.492722Z",
     "iopub.status.busy": "2024-08-26T14:18:43.492394Z",
     "iopub.status.idle": "2024-08-26T14:18:43.706912Z",
     "shell.execute_reply": "2024-08-26T14:18:43.706198Z",
     "shell.execute_reply.started": "2024-08-26T14:18:43.492698Z"
    }
   },
   "outputs": [
    {
     "ename": "ValueError",
     "evalue": "Either client or create must be provided",
     "output_type": "error",
     "traceback": [
      "\u001b[0;31m---------------------------------------------------------------------------\u001b[0m",
      "\u001b[0;31mValueError\u001b[0m                                Traceback (most recent call last)",
      "Cell \u001b[0;32mIn[9], line 5\u001b[0m\n\u001b[1;32m      2\u001b[0m \u001b[38;5;28;01mimport\u001b[39;00m \u001b[38;5;21;01minstructor\u001b[39;00m\n\u001b[1;32m      3\u001b[0m \u001b[38;5;28;01mfrom\u001b[39;00m \u001b[38;5;21;01mpydantic\u001b[39;00m \u001b[38;5;28;01mimport\u001b[39;00m BaseModel\n\u001b[0;32m----> 5\u001b[0m \u001b[43minstructor\u001b[49m\u001b[38;5;241;43m.\u001b[39;49m\u001b[43mpatch\u001b[49m\u001b[43m(\u001b[49m\u001b[43m)\u001b[49m\n",
      "File \u001b[0;32m~/anaconda3/envs/agent/lib/python3.12/site-packages/instructor/patch.py:103\u001b[0m, in \u001b[0;36mpatch\u001b[0;34m(client, create, mode)\u001b[0m\n\u001b[1;32m    101\u001b[0m     func \u001b[38;5;241m=\u001b[39m client\u001b[38;5;241m.\u001b[39mchat\u001b[38;5;241m.\u001b[39mcompletions\u001b[38;5;241m.\u001b[39mcreate\n\u001b[1;32m    102\u001b[0m \u001b[38;5;28;01melse\u001b[39;00m:\n\u001b[0;32m--> 103\u001b[0m     \u001b[38;5;28;01mraise\u001b[39;00m \u001b[38;5;167;01mValueError\u001b[39;00m(\u001b[38;5;124m\"\u001b[39m\u001b[38;5;124mEither client or create must be provided\u001b[39m\u001b[38;5;124m\"\u001b[39m)\n\u001b[1;32m    105\u001b[0m func_is_async \u001b[38;5;241m=\u001b[39m is_async(func)\n\u001b[1;32m    107\u001b[0m \u001b[38;5;129m@wraps\u001b[39m(func)\n\u001b[1;32m    108\u001b[0m \u001b[38;5;28;01masync\u001b[39;00m \u001b[38;5;28;01mdef\u001b[39;00m \u001b[38;5;21mnew_create_async\u001b[39m(\n\u001b[1;32m    109\u001b[0m     response_model: \u001b[38;5;28mtype\u001b[39m[T_Model] \u001b[38;5;241m=\u001b[39m \u001b[38;5;28;01mNone\u001b[39;00m,\n\u001b[0;32m   (...)\u001b[0m\n\u001b[1;32m    114\u001b[0m     \u001b[38;5;241m*\u001b[39m\u001b[38;5;241m*\u001b[39mkwargs: T_ParamSpec\u001b[38;5;241m.\u001b[39mkwargs,\n\u001b[1;32m    115\u001b[0m ) \u001b[38;5;241m-\u001b[39m\u001b[38;5;241m>\u001b[39m T_Model:\n",
      "\u001b[0;31mValueError\u001b[0m: Either client or create must be provided"
     ]
    }
   ],
   "source": [
    "import openai\n",
    "import instructor\n",
    "from pydantic import BaseModel\n",
    "\n",
    "instructor.patch()"
   ]
  },
  {
   "cell_type": "code",
   "execution_count": null,
   "id": "e705f1af-86f7-4705-a5b6-f857aae610ac",
   "metadata": {},
   "outputs": [],
   "source": []
  }
 ],
 "metadata": {
  "kernelspec": {
   "display_name": "agent",
   "language": "python",
   "name": "agent"
  },
  "language_info": {
   "codemirror_mode": {
    "name": "ipython",
    "version": 3
   },
   "file_extension": ".py",
   "mimetype": "text/x-python",
   "name": "python",
   "nbconvert_exporter": "python",
   "pygments_lexer": "ipython3",
   "version": "3.12.2"
  }
 },
 "nbformat": 4,
 "nbformat_minor": 5
}
