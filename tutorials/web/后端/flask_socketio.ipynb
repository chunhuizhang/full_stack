{
 "cells": [
  {
   "cell_type": "code",
   "execution_count": 8,
   "id": "b2120fc5-7d3f-43d8-be1c-f55004568a13",
   "metadata": {
    "execution": {
     "iopub.execute_input": "2024-07-15T14:54:07.020785Z",
     "iopub.status.busy": "2024-07-15T14:54:07.020120Z",
     "iopub.status.idle": "2024-07-15T14:54:07.029425Z",
     "shell.execute_reply": "2024-07-15T14:54:07.027485Z",
     "shell.execute_reply.started": "2024-07-15T14:54:07.020738Z"
    }
   },
   "outputs": [],
   "source": [
    "# !pip install flask_socketio\n",
    "# !pip install eventlet"
   ]
  },
  {
   "cell_type": "markdown",
   "id": "99b50a3e-dd3b-4b96-b1b4-3e98ec407295",
   "metadata": {},
   "source": [
    "## socketio"
   ]
  },
  {
   "cell_type": "markdown",
   "id": "9e43ce7e-919a-41e4-9062-ba4a56530ad5",
   "metadata": {},
   "source": [
    "- `socketio.main.js`\n",
    "    - `<script src=\"https://cdn.socket.io/4.6.0/socket.io.min.js\" integrity=\"...\" crossorigin=\"anonymous\"></script>\n",
    "`"
   ]
  },
  {
   "cell_type": "code",
   "execution_count": 5,
   "id": "c80bbb56-2556-4bea-b58e-dcfebd6293c0",
   "metadata": {
    "execution": {
     "iopub.execute_input": "2024-07-15T14:48:33.794166Z",
     "iopub.status.busy": "2024-07-15T14:48:33.793717Z",
     "iopub.status.idle": "2024-07-15T14:48:33.802240Z",
     "shell.execute_reply": "2024-07-15T14:48:33.800116Z",
     "shell.execute_reply.started": "2024-07-15T14:48:33.794143Z"
    }
   },
   "outputs": [],
   "source": [
    "# extensions.py\n",
    "from flask_socketio import SocketIO \n",
    "\n",
    "socketio = SocketIO()"
   ]
  },
  {
   "cell_type": "markdown",
   "id": "4438a51e-e989-4abe-812f-ed226d4eb097",
   "metadata": {},
   "source": [
    "### `events.py`"
   ]
  },
  {
   "cell_type": "markdown",
   "id": "7ca1f171-8acf-4ace-9a1b-dd7eb6a79ddc",
   "metadata": {
    "execution": {
     "iopub.execute_input": "2024-07-15T14:49:12.555584Z",
     "iopub.status.busy": "2024-07-15T14:49:12.554966Z",
     "iopub.status.idle": "2024-07-15T14:49:12.645018Z",
     "shell.execute_reply": "2024-07-15T14:49:12.643190Z",
     "shell.execute_reply.started": "2024-07-15T14:49:12.555539Z"
    }
   },
   "source": [
    "```\n",
    "from .extensions import socketio\n",
    "\n",
    "@socketio.on('connect'):\n",
    "def handle_connect():\n",
    "    print('Client connected!')\n",
    "```"
   ]
  },
  {
   "cell_type": "markdown",
   "id": "bdaca3fb-cdae-4456-90d4-011dc5317505",
   "metadata": {},
   "source": [
    "main.js\n",
    "\n",
    "```\n",
    "// 默认自动connect (autoConnect: true);\n",
    "const socket = io();\n",
    "\n",
    "const socket = io({autoConnect: false});\n",
    "socket.connect();\n",
    "\n",
    "```"
   ]
  }
 ],
 "metadata": {
  "kernelspec": {
   "display_name": "Python 3 (ipykernel)",
   "language": "python",
   "name": "python3"
  },
  "language_info": {
   "codemirror_mode": {
    "name": "ipython",
    "version": 3
   },
   "file_extension": ".py",
   "mimetype": "text/x-python",
   "name": "python",
   "nbconvert_exporter": "python",
   "pygments_lexer": "ipython3",
   "version": "3.10.13"
  }
 },
 "nbformat": 4,
 "nbformat_minor": 5
}
