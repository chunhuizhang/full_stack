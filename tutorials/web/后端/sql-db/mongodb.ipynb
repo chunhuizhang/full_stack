{
 "cells": [
  {
   "cell_type": "markdown",
   "id": "38e576a4-37f2-476a-985f-712a799d01b3",
   "metadata": {},
   "source": [
    "https://www.youtube.com/watch?v=c2M-rlkkT5o\n",
    "- document-oriented database\n",
    "    - nosql：not only sql"
   ]
  },
  {
   "cell_type": "markdown",
   "id": "798e90c4-89f1-4417-b0d5-45a82f3505f4",
   "metadata": {},
   "source": [
    "### download & installation"
   ]
  },
  {
   "cell_type": "markdown",
   "id": "a9b479e0-4a6f-4802-a2de-597925c08442",
   "metadata": {},
   "source": [
    "- server\n",
    "    - https://www.mongodb.com/try/download/community\n",
    "    - 下载 tgz，解压缩，配置到环境变量\n",
    "    - `$ mongod --version`：安装 check\n",
    "    - `$ mongod --dbpath ~/data/`：启动\n",
    "- 工具\n",
    "    - compass: gui\n",
    "    - mongodb shell\n",
    "        - https://www.mongodb.com/try/download/shell\n",
    "    - vscode plugin "
   ]
  },
  {
   "cell_type": "markdown",
   "id": "27fb0b8c-3d41-473d-a3f5-85b6d731547d",
   "metadata": {},
   "source": [
    "### mongodb shell"
   ]
  },
  {
   "cell_type": "markdown",
   "id": "e372cad0-0bea-4252-a5fb-bd3a4abfd310",
   "metadata": {},
   "source": [
    "```\n",
    "test> show dbs\n",
    "admin> use admin\n",
    "school> use school\n",
    "school> db.createCollection('students')\n",
    "school> show dbs\n",
    "school> db.students.insertOne({name: 'zhang', age: 32, gpa: 3.5})   # insertMany([{...}, {...}, {...}])\n",
    "school> db.students.find()  # return list of json\n",
    "```"
   ]
  }
 ],
 "metadata": {
  "kernelspec": {
   "display_name": "Python 3 (ipykernel)",
   "language": "python",
   "name": "python3"
  },
  "language_info": {
   "codemirror_mode": {
    "name": "ipython",
    "version": 3
   },
   "file_extension": ".py",
   "mimetype": "text/x-python",
   "name": "python",
   "nbconvert_exporter": "python",
   "pygments_lexer": "ipython3",
   "version": "3.10.13"
  }
 },
 "nbformat": 4,
 "nbformat_minor": 5
}
