{
 "cells": [
  {
   "cell_type": "markdown",
   "id": "563d738a-fe5c-415a-a755-59593d30f113",
   "metadata": {},
   "source": [
    "- https://sean22492249.medium.com/pydantic-%E7%9A%84%E4%BB%8B%E7%B4%B9-3721a0691162\n",
    "- https://www.youtube.com/watch?v=yj-wSRJwrrc"
   ]
  }
 ],
 "metadata": {
  "kernelspec": {
   "display_name": "Python 3 (ipykernel)",
   "language": "python",
   "name": "python3"
  },
  "language_info": {
   "codemirror_mode": {
    "name": "ipython",
    "version": 3
   },
   "file_extension": ".py",
   "mimetype": "text/x-python",
   "name": "python",
   "nbconvert_exporter": "python",
   "pygments_lexer": "ipython3",
   "version": "3.10.13"
  }
 },
 "nbformat": 4,
 "nbformat_minor": 5
}
