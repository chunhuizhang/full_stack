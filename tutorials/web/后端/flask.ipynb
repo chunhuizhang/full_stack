{
 "cells": [
  {
   "cell_type": "code",
   "execution_count": 2,
   "id": "06caa4fe-36af-436b-8a7d-d3f985119fad",
   "metadata": {},
   "outputs": [],
   "source": [
    "from flask import Flask, Blueprint, render_template, request, redirect, url_for"
   ]
  },
  {
   "cell_type": "markdown",
   "id": "72a3c8df-2118-44b2-a2c4-de3cc386716f",
   "metadata": {},
   "source": [
    "- `render_template` vs. `redirect(url_for(), )`\n",
    "    - 路由，视图函数（View function）\n",
    "    - `url_for`: 接受视图函数的名称作为参数"
   ]
  },
  {
   "cell_type": "markdown",
   "id": "aa7de892-61c7-4b67-988f-ba812a210a9b",
   "metadata": {},
   "source": [
    "```\n",
    "app = Flask(__name__)\n",
    "\n",
    "@app.route('/login', methods=['GET', 'POST'])   # 路由\n",
    "def login():                                    # 视图函数\n",
    "    if request.method == 'POST':\n",
    "        # 假设登录验证成功\n",
    "        return redirect(url_for('home'))\n",
    "    return render_template('login.html')\n",
    "\n",
    "@app.route('/home')\n",
    "def home():\n",
    "    user = {'username': 'John Doe'}\n",
    "    return render_template('home.html', title='Home', user=user)\n",
    "\n",
    "if __name__ == '__main__':\n",
    "    app.run(debug=True)\n",
    "```"
   ]
  },
  {
   "cell_type": "markdown",
   "id": "e9cf9a05-c4db-46c0-8fc5-6ccc8c4614be",
   "metadata": {},
   "source": [
    "## Blueprint"
   ]
  },
  {
   "cell_type": "code",
   "execution_count": 3,
   "id": "8b4f03e9-34dd-4b1c-97c1-737b282416ae",
   "metadata": {},
   "outputs": [],
   "source": [
    "# 创建用户认证 Blueprint\n",
    "auth_bp = Blueprint('auth', __name__, template_folder='templates/auth')\n",
    "\n",
    "@auth_bp.route('/login', methods=['GET', 'POST'])\n",
    "def login():\n",
    "    if request.method == 'POST':\n",
    "        # 处理登录逻辑\n",
    "        return redirect(url_for('index'))\n",
    "    return render_template('login.html')\n",
    "\n",
    "@auth_bp.route('/logout')\n",
    "def logout():\n",
    "    # 处理登出逻辑\n",
    "    return redirect(url_for('index'))"
   ]
  },
  {
   "cell_type": "code",
   "execution_count": 4,
   "id": "cd688b9f-5716-4fae-a260-ff1d714b193b",
   "metadata": {},
   "outputs": [],
   "source": [
    "\n",
    "# 创建文章管理 Blueprint\n",
    "posts_bp = Blueprint('posts', __name__, template_folder='templates/posts')\n",
    "\n",
    "@posts_bp.route('/')\n",
    "def list_posts():\n",
    "    # 列出所有文章\n",
    "    return render_template('posts.html')\n",
    "\n",
    "@posts_bp.route('/<int:post_id>')\n",
    "def show_post(post_id):\n",
    "    # 显示特定文章\n",
    "    return render_template('post.html', post_id=post_id)\n",
    "\n",
    "@posts_bp.route('/new', methods=['GET', 'POST'])\n",
    "def new_post():\n",
    "    if request.method == 'POST':\n",
    "        # 处理新文章创建逻辑\n",
    "        return redirect(url_for('posts.list_posts'))\n",
    "    return render_template('new_post.html')\n"
   ]
  },
  {
   "cell_type": "markdown",
   "id": "2c848c55-6d37-4b13-a6c5-2d946a76aa98",
   "metadata": {},
   "source": [
    "```\n",
    "# 创建主应用实例\n",
    "app = Flask(__name__)\n",
    "\n",
    "# 注册 Blueprint\n",
    "app.register_blueprint(auth_bp, url_prefix='/auth')\n",
    "app.register_blueprint(posts_bp, url_prefix='/posts')\n",
    "\n",
    "# 主页\n",
    "@app.route('/')\n",
    "def index():\n",
    "    return render_template('index.html')\n",
    "\n",
    "if __name__ == '__main__':\n",
    "    app.run()\n",
    "```"
   ]
  },
  {
   "cell_type": "code",
   "execution_count": null,
   "id": "fadf6193-560b-40a1-be19-1b122b286619",
   "metadata": {},
   "outputs": [],
   "source": []
  }
 ],
 "metadata": {
  "kernelspec": {
   "display_name": "Python 3 (ipykernel)",
   "language": "python",
   "name": "python3"
  },
  "language_info": {
   "codemirror_mode": {
    "name": "ipython",
    "version": 3
   },
   "file_extension": ".py",
   "mimetype": "text/x-python",
   "name": "python",
   "nbconvert_exporter": "python",
   "pygments_lexer": "ipython3",
   "version": "3.10.13"
  }
 },
 "nbformat": 4,
 "nbformat_minor": 5
}
