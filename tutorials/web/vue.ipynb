{
 "cells": [
  {
   "cell_type": "markdown",
   "id": "c98291f1",
   "metadata": {},
   "source": [
    "## basics"
   ]
  },
  {
   "cell_type": "markdown",
   "id": "c82b664e",
   "metadata": {},
   "source": [
    "- 避免了手动写 js；\n",
    "- 以组件化的方式管理页面元素的代码\n",
    "\n",
    "    ```\n",
    "    <template></template>\n",
    "    <script setup></script>\n",
    "    <style></style>\n",
    "\n",
    "    ```\n",
    "    - 组件间相互独立且隔离；"
   ]
  },
  {
   "cell_type": "markdown",
   "id": "abee2f57",
   "metadata": {},
   "source": [
    "## examples"
   ]
  },
  {
   "cell_type": "markdown",
   "id": "3ae3a662",
   "metadata": {},
   "source": [
    "```\n",
    "npm init vue@latest\n",
    "```\n",
    "\n",
    "- `node_modules/`：目录是安装的依赖"
   ]
  }
 ],
 "metadata": {
  "kernelspec": {
   "display_name": "Python 3 (ipykernel)",
   "language": "python",
   "name": "python3"
  },
  "language_info": {
   "codemirror_mode": {
    "name": "ipython",
    "version": 3
   },
   "file_extension": ".py",
   "mimetype": "text/x-python",
   "name": "python",
   "nbconvert_exporter": "python",
   "pygments_lexer": "ipython3",
   "version": "3.10.9"
  },
  "toc": {
   "base_numbering": 1,
   "nav_menu": {},
   "number_sections": true,
   "sideBar": true,
   "skip_h1_title": false,
   "title_cell": "Table of Contents",
   "title_sidebar": "Contents",
   "toc_cell": false,
   "toc_position": {},
   "toc_section_display": true,
   "toc_window_display": false
  }
 },
 "nbformat": 4,
 "nbformat_minor": 5
}
