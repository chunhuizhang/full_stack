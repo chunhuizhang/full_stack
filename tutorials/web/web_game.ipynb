{
 "cells": [
  {
   "cell_type": "markdown",
   "id": "f515915f",
   "metadata": {},
   "source": [
    "- references\n",
    "    - https://github.com/guiferviz/rl_udacity/tree/master/mystery_game"
   ]
  },
  {
   "cell_type": "markdown",
   "id": "df344397",
   "metadata": {},
   "source": [
    "## 部署"
   ]
  },
  {
   "cell_type": "markdown",
   "id": "51f6a5ae",
   "metadata": {},
   "source": [
    "- 本地部署的话，直接把 `index.html` 拖到浏览器中；\n",
    "    - 比如对于 `mystery_game` \n",
    "        - https://github.com/guiferviz/rl_udacity/blob/master/mystery_game/index.html"
   ]
  }
 ],
 "metadata": {
  "kernelspec": {
   "display_name": "Python 3 (ipykernel)",
   "language": "python",
   "name": "python3"
  },
  "language_info": {
   "codemirror_mode": {
    "name": "ipython",
    "version": 3
   },
   "file_extension": ".py",
   "mimetype": "text/x-python",
   "name": "python",
   "nbconvert_exporter": "python",
   "pygments_lexer": "ipython3",
   "version": "3.10.13"
  },
  "toc": {
   "base_numbering": 1,
   "nav_menu": {},
   "number_sections": true,
   "sideBar": true,
   "skip_h1_title": false,
   "title_cell": "Table of Contents",
   "title_sidebar": "Contents",
   "toc_cell": false,
   "toc_position": {},
   "toc_section_display": true,
   "toc_window_display": false
  }
 },
 "nbformat": 4,
 "nbformat_minor": 5
}
