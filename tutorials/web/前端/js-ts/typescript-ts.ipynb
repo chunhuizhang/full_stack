{
 "cells": [
  {
   "cell_type": "markdown",
   "id": "332ce65b-7a5b-4f82-8cb4-c89d97436894",
   "metadata": {},
   "source": [
    "- `.ts` 文件通常指的是 TypeScript 文件，TypeScript 是 JavaScript 的一个超集，它添加了**静态类型和其他一些特性**。TypeScript 代码在运行之前需要通过 TypeScript 编译器（tsc）转换成标准的 JavaScript 代码。\n",
    "- 不需要封装进 html 中，通过 node 执行\n",
    "    - `node example.js`\n",
    "    - `node example.ts`"
   ]
  },
  {
   "cell_type": "markdown",
   "id": "e47898fb-89fa-4be7-81ea-6a6bf03df858",
   "metadata": {},
   "source": [
    "- javascript example\n",
    "  \n",
    "    ```javascript\n",
    "    function add(a, b) {\n",
    "      return a + b;\n",
    "    }\n",
    "    \n",
    "    let result = add(5, '10');  // 这里没有类型错误，JavaScript 会将数字与字符串相加\n",
    "    console.log(result);  // 输出 \"510\"（字符串拼接）\n",
    "    ```\n",
    "    \n",
    "- typescript example\n",
    "\n",
    "    ```typescript\n",
    "    function add(a: number, b: number): number {\n",
    "      return a + b;\n",
    "    }\n",
    "    \n",
    "    let result = add(5, '10');  // TypeScript 会提示错误，因为 '10' 是一个字符串，不能和数字相加\n",
    "    console.log(result);\n",
    "    ```"
   ]
  },
  {
   "cell_type": "code",
   "execution_count": 1,
   "id": "434e1f59-f130-4dcc-a99e-cf605ea4902c",
   "metadata": {
    "execution": {
     "iopub.execute_input": "2025-01-04T09:22:03.043280Z",
     "iopub.status.busy": "2025-01-04T09:22:03.042681Z",
     "iopub.status.idle": "2025-01-04T09:22:03.294368Z",
     "shell.execute_reply": "2025-01-04T09:22:03.292013Z",
     "shell.execute_reply.started": "2025-01-04T09:22:03.043232Z"
    }
   },
   "outputs": [
    {
     "name": "stdout",
     "output_type": "stream",
     "text": [
      "510\n"
     ]
    }
   ],
   "source": [
    "!node example.js"
   ]
  },
  {
   "cell_type": "code",
   "execution_count": 2,
   "id": "a6a8af5f-1cf6-4fbc-8d80-53daba3d111d",
   "metadata": {
    "execution": {
     "iopub.execute_input": "2025-01-04T09:22:08.219248Z",
     "iopub.status.busy": "2025-01-04T09:22:08.218652Z",
     "iopub.status.idle": "2025-01-04T09:22:08.475839Z",
     "shell.execute_reply": "2025-01-04T09:22:08.473472Z",
     "shell.execute_reply.started": "2025-01-04T09:22:08.219192Z"
    }
   },
   "outputs": [
    {
     "name": "stdout",
     "output_type": "stream",
     "text": [
      "/home/whaow/workspaces/full_stack/tutorials/web/前端/js-ts/example.ts:1\n",
      "function add(a: number, b: number): number {\n",
      "              ^\n",
      "\n",
      "SyntaxError: Unexpected token ':'\n",
      "\u001b[90m    at internalCompileFunction (node:internal/vm:73:18)\u001b[39m\n",
      "\u001b[90m    at wrapSafe (node:internal/modules/cjs/loader:1153:20)\u001b[39m\n",
      "\u001b[90m    at Module._compile (node:internal/modules/cjs/loader:1205:27)\u001b[39m\n",
      "\u001b[90m    at Module._extensions..js (node:internal/modules/cjs/loader:1295:10)\u001b[39m\n",
      "\u001b[90m    at Module.load (node:internal/modules/cjs/loader:1091:32)\u001b[39m\n",
      "\u001b[90m    at Module._load (node:internal/modules/cjs/loader:938:12)\u001b[39m\n",
      "\u001b[90m    at Function.executeUserEntryPoint [as runMain] (node:internal/modules/run_main:83:12)\u001b[39m\n",
      "\u001b[90m    at node:internal/main/run_main_module:23:47\u001b[39m\n",
      "\n",
      "Node.js v20.9.0\n"
     ]
    }
   ],
   "source": [
    "!node example.ts"
   ]
  },
  {
   "cell_type": "code",
   "execution_count": null,
   "id": "2b628734-38de-4a2e-aa9e-0a144636b304",
   "metadata": {},
   "outputs": [],
   "source": []
  }
 ],
 "metadata": {
  "kernelspec": {
   "display_name": "Python 3 (ipykernel)",
   "language": "python",
   "name": "python3"
  },
  "language_info": {
   "codemirror_mode": {
    "name": "ipython",
    "version": 3
   },
   "file_extension": ".py",
   "mimetype": "text/x-python",
   "name": "python",
   "nbconvert_exporter": "python",
   "pygments_lexer": "ipython3",
   "version": "3.10.13"
  }
 },
 "nbformat": 4,
 "nbformat_minor": 5
}
