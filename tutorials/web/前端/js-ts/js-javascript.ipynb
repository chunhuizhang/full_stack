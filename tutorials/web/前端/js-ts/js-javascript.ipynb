{
 "cells": [
  {
   "cell_type": "markdown",
   "id": "416d3d01-8598-46cf-a4b7-8d131e07fe24",
   "metadata": {},
   "source": [
    "## basics"
   ]
  },
  {
   "cell_type": "markdown",
   "id": "92915f06-e095-4101-a8ae-4eac3ad13893",
   "metadata": {},
   "source": [
    "- `document.getElementById()`\n",
    "    - `document.getElementById('chat').style.display = 'block'`\n",
    "    - `document.getElementById('landing').style.display = 'none'`\n",
    "- `document.createElement()`\n",
    "    \n",
    "    ```\n",
    "    let ul = document.getElementById(\"chat-messages\");\n",
    "    let li = document.createElement(\"li\");\n",
    "    li.appendChild(document.createTextNode(data[\"username\"] + \": \" + data[\"message\"]));\n",
    "    ul.appendChild(li);\n",
    "    ul.scrolltop = ul.scrollHeight;\n",
    "    ```"
   ]
  },
  {
   "cell_type": "markdown",
   "id": "86e25c60-740e-463f-b91a-d6a9e3e8df89",
   "metadata": {},
   "source": [
    "### 网页"
   ]
  },
  {
   "cell_type": "markdown",
   "id": "3afc4ce3-1d29-4c41-9e86-6ab237a8b5d6",
   "metadata": {},
   "source": [
    "- `location.reload()`; 在前端 JavaScript 中的作用是重新加载当前页面。它相当于用户在浏览器中点击“刷新”按钮。这个方法可以用来强制浏览器从服务器获取最新版本的页面。\n",
    "    - `location.reload()`; 可以接受一个可选参数：\n",
    "        - `location.reload(true);`：强制从服务器重新加载页面，而不是从缓存中加载。"
   ]
  },
  {
   "cell_type": "markdown",
   "id": "b7e09ba5-587f-497c-a4e3-cab5a5704a03",
   "metadata": {},
   "source": [
    "- `net::ERR_CONNECTION_REFUSED`\n",
    "    - 对应于 `net::ERR_CONNECTION_REFUSED` 的状态码通常是 503 Service Unavailable，但实际上，浏览器可能不会返回明确的 HTTP 状态码，因为连接根本没有建立。你可能会看到的是 \"无法连接\" 或 \"连接被拒绝\" 的提示，而不是一个标准的 HTTP 响应。"
   ]
  }
 ],
 "metadata": {
  "kernelspec": {
   "display_name": "Python 3 (ipykernel)",
   "language": "python",
   "name": "python3"
  },
  "language_info": {
   "codemirror_mode": {
    "name": "ipython",
    "version": 3
   },
   "file_extension": ".py",
   "mimetype": "text/x-python",
   "name": "python",
   "nbconvert_exporter": "python",
   "pygments_lexer": "ipython3",
   "version": "3.10.13"
  }
 },
 "nbformat": 4,
 "nbformat_minor": 5
}
