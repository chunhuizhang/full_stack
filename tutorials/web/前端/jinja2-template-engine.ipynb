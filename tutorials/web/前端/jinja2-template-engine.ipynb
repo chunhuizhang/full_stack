{
 "cells": [
  {
   "cell_type": "markdown",
   "id": "099cb29c-e9f7-4ae8-bf14-a298671720d1",
   "metadata": {},
   "source": [
    "- 模板引擎，\n",
    "    - 可以作为任何模板及渲染（render）的引擎\n",
    "        - web page\n",
    "        - prompt template"
   ]
  },
  {
   "cell_type": "code",
   "execution_count": 4,
   "id": "896ffe87-ecda-4cc3-8ce5-234cd6ddf6a0",
   "metadata": {},
   "outputs": [],
   "source": [
    "from jinja2 import Template\n",
    "template = Template(\"Hello {{ user_name }}, you are {{age }} years old.\")"
   ]
  },
  {
   "cell_type": "code",
   "execution_count": 3,
   "id": "ee7b7ac9-9c5d-4364-bb20-8bb8ca00371a",
   "metadata": {},
   "outputs": [
    {
     "data": {
      "text/plain": [
       "'Hello Alice, you are 30 years old.'"
      ]
     },
     "execution_count": 3,
     "metadata": {},
     "output_type": "execute_result"
    }
   ],
   "source": [
    "prompt = template.render(user_name=\"Alice\", age=30)\n",
    "prompt"
   ]
  },
  {
   "cell_type": "code",
   "execution_count": null,
   "id": "61726f4d-0bf7-4ac8-9ac9-bbf73b9a1ec1",
   "metadata": {},
   "outputs": [],
   "source": []
  }
 ],
 "metadata": {
  "kernelspec": {
   "display_name": "Python 3 (ipykernel)",
   "language": "python",
   "name": "python3"
  },
  "language_info": {
   "codemirror_mode": {
    "name": "ipython",
    "version": 3
   },
   "file_extension": ".py",
   "mimetype": "text/x-python",
   "name": "python",
   "nbconvert_exporter": "python",
   "pygments_lexer": "ipython3",
   "version": "3.10.13"
  }
 },
 "nbformat": 4,
 "nbformat_minor": 5
}
