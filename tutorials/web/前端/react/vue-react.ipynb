{
 "cells": [
  {
   "cell_type": "markdown",
   "id": "44c57c61-2f9e-42b1-bf7a-406c583a78c5",
   "metadata": {},
   "source": [
    "- 国内最流行的两个前端框架\n",
    "    - Vue & React"
   ]
  },
  {
   "cell_type": "markdown",
   "id": "cd051ddb-3961-4fac-b305-672ebdef9e6a",
   "metadata": {},
   "source": [
    "### 创建与启动"
   ]
  },
  {
   "cell_type": "markdown",
   "id": "3f4367fa-3b00-4a44-b6c4-555521713280",
   "metadata": {},
   "source": [
    "- `npx create-react-app my-react-demo`\n",
    "- `cd my-react-demo`\n",
    "    - 项目结构\n",
    "        - public：静态页面资源\n",
    "        - src\n",
    "            - index.js：项目的入口文件\n",
    "                - 两个关键的库：`React`, `ReactDOM`\n",
    "            - app.js：根组件\n",
    "- `npm start`"
   ]
  },
  {
   "cell_type": "markdown",
   "id": "0ed82dac-5fc3-4443-a044-b87bb9c81ab4",
   "metadata": {},
   "source": [
    "### React 组件"
   ]
  },
  {
   "cell_type": "markdown",
   "id": "d1b62575-14bf-45b5-8323-3c56bee58c49",
   "metadata": {},
   "source": [
    "- 两种创建方式\n",
    "    - 函数组件\n",
    "    - 类组件"
   ]
  },
  {
   "cell_type": "markdown",
   "id": "ed7396da-3e1b-4257-b483-f7691f0b69d9",
   "metadata": {},
   "source": [
    "### JSX"
   ]
  },
  {
   "cell_type": "markdown",
   "id": "56b705fd-a175-453f-a204-e0e697b1fc5b",
   "metadata": {},
   "source": [
    "- 直接将 js 语法跟 html 语法结合，相当于一种模板语法；\n",
    "- 只能返回一个根元素（比如`<div>`）\n",
    "\n",
    "```\n",
    "function App() {\n",
    "    return (\n",
    "        html\n",
    "    );\n",
    "}\n",
    "```"
   ]
  },
  {
   "cell_type": "markdown",
   "id": "9dfb53bd-0d72-461d-8d1f-7a1ba3094ce3",
   "metadata": {},
   "source": [
    "#### 插值"
   ]
  },
  {
   "cell_type": "markdown",
   "id": "c338c6e9-8bdc-43a2-ad8e-3582376eeaf0",
   "metadata": {},
   "source": [
    "```\n",
    "function App() {\n",
    "  const divText = \"Hello World\";\n",
    "  const divTitle = \"title-test\";\n",
    "  return (\n",
    "    <div className=\"App\">\n",
    "      <div title={divTitle}>\n",
    "        <h1>{divText}</h1>\n",
    "      </div>\n",
    "    </div>\n",
    "  }\n",
    "}\n",
    "```"
   ]
  }
 ],
 "metadata": {
  "kernelspec": {
   "display_name": "Python 3 (ipykernel)",
   "language": "python",
   "name": "python3"
  },
  "language_info": {
   "codemirror_mode": {
    "name": "ipython",
    "version": 3
   },
   "file_extension": ".py",
   "mimetype": "text/x-python",
   "name": "python",
   "nbconvert_exporter": "python",
   "pygments_lexer": "ipython3",
   "version": "3.10.13"
  }
 },
 "nbformat": 4,
 "nbformat_minor": 5
}
