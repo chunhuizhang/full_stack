{
 "cells": [
  {
   "cell_type": "markdown",
   "id": "416d3d01-8598-46cf-a4b7-8d131e07fe24",
   "metadata": {},
   "source": [
    "## basics"
   ]
  },
  {
   "cell_type": "markdown",
   "id": "92915f06-e095-4101-a8ae-4eac3ad13893",
   "metadata": {},
   "source": [
    "- `document.getElementById()`\n",
    "    - `document.getElementById('chat').style.display = 'block'`\n",
    "    - `document.getElementById('landing').style.display = 'none'`\n",
    "- `document.createElement()`\n",
    "    \n",
    "    ```\n",
    "    let ul = document.getElementById(\"chat-messages\");\n",
    "    let li = document.createElement(\"li\");\n",
    "    li.appendChild(document.createTextNode(data[\"username\"] + \": \" + data[\"message\"]));\n",
    "    ul.appendChild(li);\n",
    "    ul.scrolltop = ul.scrollHeight;\n",
    "    ```"
   ]
  }
 ],
 "metadata": {
  "kernelspec": {
   "display_name": "Python 3 (ipykernel)",
   "language": "python",
   "name": "python3"
  },
  "language_info": {
   "codemirror_mode": {
    "name": "ipython",
    "version": 3
   },
   "file_extension": ".py",
   "mimetype": "text/x-python",
   "name": "python",
   "nbconvert_exporter": "python",
   "pygments_lexer": "ipython3",
   "version": "3.10.13"
  }
 },
 "nbformat": 4,
 "nbformat_minor": 5
}
