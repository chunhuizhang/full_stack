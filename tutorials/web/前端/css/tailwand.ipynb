{
 "cells": [
  {
   "cell_type": "markdown",
   "id": "8c4faf21-0487-4eab-9280-0954fb0e16e5",
   "metadata": {},
   "source": [
    "- online render\n",
    "    - https://play.tailwindcss.com/\n",
    "- 这种 className 写法是 Tailwind CSS 的核心用法。它不使用传统的 CSS 类名（比如 class=\"main-container\"），而是使用一种叫做 “功能类” (Utility Classes) 或 “原子化 CSS” (Atomic CSS) 的方法。"
   ]
  },
  {
   "cell_type": "markdown",
   "id": "6cef9d44-448c-42af-b48c-02d879717331",
   "metadata": {},
   "source": [
    "```css\n",
    "<div class=\"container mx-auto p-10 md:p-20 duration-500\">\n",
    "    <div class=\"mx-auto max-w-xl flex-wrap shadow-lg md:flex-nowrap\">\n",
    "        <img src=\"https://cdn.yiban.io/style_template/1578647793165_5758926.jpg\" \n",
    "             class=\"h-auto w-full md:w-40\" alt=\"\">\n",
    "        <div class=\"my-auto p-10\">\n",
    "            <h1 class=\"text-2xl font-semibold text-gray-800\">2023 新年快乐</h1>\n",
    "            <p class=\"mt-2 text-base text-gray-400\">\n",
    "                祝你新年快乐，幸福，在兔年里，愿你的事业蒸蒸日上，幸福美满，健康长久，祝你兔年大吉\n",
    "            </p>\n",
    "        </div>\n",
    "    </div>\n",
    "</div>\n",
    "```"
   ]
  },
  {
   "cell_type": "markdown",
   "id": "bb268f45-d9eb-4944-b5e0-2d4f3d9663d4",
   "metadata": {},
   "source": [
    "### 如何使用"
   ]
  },
  {
   "cell_type": "markdown",
   "id": "9a9c40fa-6bdf-49ab-a0e7-2bb66ff4acd5",
   "metadata": {},
   "source": [
    "```\n",
    "<head>\n",
    "    <meta charset=\"UTF-8\">\n",
    "    <meta name=\"viewport\" content=\"width=device-width, initial-scale=1.0\">\n",
    "    <!-- 引入 Tailwind CSS CDN -->\n",
    "    <script src=\"https://cdn.tailwindcss.com\"></script>\n",
    "</head>\n",
    "```"
   ]
  },
  {
   "cell_type": "markdown",
   "id": "7a31d459-dee0-4393-8148-76772401a5d2",
   "metadata": {},
   "source": [
    "### 语法格式"
   ]
  },
  {
   "cell_type": "markdown",
   "id": "8fc6c64d-f6b8-441b-a523-bec38233d1c2",
   "metadata": {},
   "source": [
    "- 属性-值\n",
    "    - 属性：`text`, `bg`, `p`\n",
    "- 前缀:属性-值\n",
    "    - `sm:`、`md:`、`lg:`、`xl:`（断点前缀）\n",
    "        - sm:：适用于小屏幕（min-width: 640px）。\n",
    "        - md:：适用于中屏幕（min-width: 768px）。\n",
    "        - lg:：适用于大屏幕（min-width: 1024px）。\n",
    "        - xl:：适用于超大屏幕（min-width: 1280px）。\n",
    "- 状态类前缀\n",
    "    - hover:：鼠标悬停时的样式。\n",
    "    - focus:：元素聚焦时的样式。\n",
    "    - active:：元素处于激活状态（点击中）。\n",
    "    - duration-500：动画的持续时间为 500ms。"
   ]
  },
  {
   "cell_type": "markdown",
   "id": "fa9e83fb-6d20-4120-95f5-88a510ceba2d",
   "metadata": {},
   "source": [
    "| 前缀        | 含义                               | 示例                        |\n",
    "|-------------|-----------------------------------|----------------------------|\n",
    "| `p`         | 内边距（padding）                 | `p-10` 表示内边距为 `10`   |\n",
    "| `m`         | 外边距（margin）                  | `mx-auto` 表示水平居中     |\n",
    "| `w` / `h`   | 宽度 / 高度                       | `w-full` 表示宽度为 100%   |\n",
    "| `text`      | 文字相关（颜色、大小等）          | `text-gray-400` 为灰色文字 |\n",
    "| `font`      | 字体样式                          | `font-semibold` 加粗字     |\n",
    "| `flex`      | Flexbox 布局                      | `flex-wrap` 表示可换行     |\n",
    "| `shadow`    | 阴影样式                          | `shadow-lg` 表示大阴影     |\n",
    "| `max-w`     | 设置最大宽度                      | `max-w-xl` 为宽度 `xl`     |\n",
    "| `h-auto`    | 高度根据内容自动调整               | 自动设置图片高度           |\n"
   ]
  }
 ],
 "metadata": {
  "kernelspec": {
   "display_name": "Python 3 (ipykernel)",
   "language": "python",
   "name": "python3"
  },
  "language_info": {
   "codemirror_mode": {
    "name": "ipython",
    "version": 3
   },
   "file_extension": ".py",
   "mimetype": "text/x-python",
   "name": "python",
   "nbconvert_exporter": "python",
   "pygments_lexer": "ipython3",
   "version": "3.10.0"
  }
 },
 "nbformat": 4,
 "nbformat_minor": 5
}
