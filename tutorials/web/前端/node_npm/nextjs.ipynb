{
 "cells": [
  {
   "cell_type": "markdown",
   "id": "d11d1bcf-9346-4122-bde8-31f9af919767",
   "metadata": {},
   "source": [
    "- `npm run dev`"
   ]
  }
 ],
 "metadata": {
  "kernelspec": {
   "display_name": "Python 3 (ipykernel)",
   "language": "python",
   "name": "python3"
  },
  "language_info": {
   "codemirror_mode": {
    "name": "ipython",
    "version": 3
   },
   "file_extension": ".py",
   "mimetype": "text/x-python",
   "name": "python",
   "nbconvert_exporter": "python",
   "pygments_lexer": "ipython3",
   "version": "3.10.13"
  }
 },
 "nbformat": 4,
 "nbformat_minor": 5
}
