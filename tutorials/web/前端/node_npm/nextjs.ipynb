{
 "cells": [
  {
   "cell_type": "markdown",
   "id": "5a316442-15ee-424a-83bc-5e2d0d777aa2",
   "metadata": {},
   "source": [
    "- next.js 为了解决 react 存在的一些问题\n",
    "    - react 是一个前端渲染框架，用来构建 SPA 类应用（Single Page Application）\n",
    "        - 单页应用，胖客户端应用，大部分业务逻辑在前端，\n",
    "        - 前端加载一个很大的 js bundle，然后把整个前端应用跑起来；"
   ]
  },
  {
   "cell_type": "markdown",
   "id": "d11d1bcf-9346-4122-bde8-31f9af919767",
   "metadata": {},
   "source": [
    "- `npx create-next-app@latest nextjs-demo`：项目名为 `nextjs-demo`\n",
    "    - `npx create-react-app frontend`：之前的创建 react 的命令；\n",
    "- `npm run dev`：把项目跑起来；\n",
    "    - `app/page.tsx.`"
   ]
  }
 ],
 "metadata": {
  "kernelspec": {
   "display_name": "Python 3 (ipykernel)",
   "language": "python",
   "name": "python3"
  },
  "language_info": {
   "codemirror_mode": {
    "name": "ipython",
    "version": 3
   },
   "file_extension": ".py",
   "mimetype": "text/x-python",
   "name": "python",
   "nbconvert_exporter": "python",
   "pygments_lexer": "ipython3",
   "version": "3.10.13"
  }
 },
 "nbformat": 4,
 "nbformat_minor": 5
}
