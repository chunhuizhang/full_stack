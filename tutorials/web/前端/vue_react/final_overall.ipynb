{
 "cells": [
  {
   "cell_type": "markdown",
   "id": "7a7cddac-5b69-4433-8456-a850bb45f610",
   "metadata": {},
   "source": [
    "### basics"
   ]
  },
  {
   "cell_type": "markdown",
   "id": "8643cc93-0355-4c46-bd30-fafd22c3eafe",
   "metadata": {},
   "source": [
    "- React 和 Vue：是用来建造房子“房间”和“家具”的框架/库。它们决定了你的应用长什么样，以及用户如何与它互动。它们是二选一的关系，通常一个项目只会用其中一个。\n",
    "- Vite：是建造房子时使用的**工具箱和脚手架**。它本身不构成房子的一部分，但它能让你盖房子的过程变得飞快和高效。Vite 可以用来搭建 React 项目，也可以用来搭建 Vue 项目。"
   ]
  },
  {
   "cell_type": "markdown",
   "id": "5a38d577-ffe7-4001-85e9-cbbacec1a8df",
   "metadata": {},
   "source": [
    "### frontend in action"
   ]
  },
  {
   "cell_type": "markdown",
   "id": "5d10df11-f374-42ff-be6b-5df3e995d78a",
   "metadata": {},
   "source": [
    "- 创建（快速搭建前端项目脚手架 (Scaffolding) ）\n",
    "    - `npx create-react-app my-react-demo`\n",
    "    - `npm create vite@latest my-vite-app`\n",
    "    - `npm create vue@latest`：交互式\n",
    "- 启动: 取决于 `packages.json` 中 scripts 的配置\n",
    "    - npm run start / npm start\n",
    "    - npm run dev\n",
    "- vscode/cursor 可以直接调试\n",
    "    - 需要先在命令行中启动项目（npm run dev），再在 ide 中 debug 断点调试\n",
    "        - launch 中配置 url localhost 对应的port"
   ]
  }
 ],
 "metadata": {
  "kernelspec": {
   "display_name": "Python 3 (ipykernel)",
   "language": "python",
   "name": "python3"
  },
  "language_info": {
   "codemirror_mode": {
    "name": "ipython",
    "version": 3
   },
   "file_extension": ".py",
   "mimetype": "text/x-python",
   "name": "python",
   "nbconvert_exporter": "python",
   "pygments_lexer": "ipython3",
   "version": "3.13.5"
  }
 },
 "nbformat": 4,
 "nbformat_minor": 5
}
