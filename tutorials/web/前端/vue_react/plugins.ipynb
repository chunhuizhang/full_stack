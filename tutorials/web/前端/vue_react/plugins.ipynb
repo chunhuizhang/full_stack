{
 "cells": [
  {
   "cell_type": "markdown",
   "id": "0bc3650c-1896-4b12-898a-bc10cb78bd16",
   "metadata": {},
   "source": [
    "```sh\n",
    "npm install xx\n",
    "```"
   ]
  },
  {
   "cell_type": "markdown",
   "id": "b8060d4c-f046-40a0-a5ea-2d07fefa55b3",
   "metadata": {},
   "source": [
    "### axios: http api request"
   ]
  },
  {
   "cell_type": "markdown",
   "id": "8527dd36-631c-447e-8cd8-6e8587167c53",
   "metadata": {},
   "source": [
    "```tsx\n",
    "import axios from 'axios'\n",
    "\n",
    "const [quote, setQuote] = useState('')\n",
    "\n",
    "<p>{quote}</p>\n",
    "<button onClick={() => {\n",
    "  axios.get('https://api.kanye.rest').then((res) => {\n",
    "    setQuote(res.data.quote)\n",
    "  })\n",
    "}}>\n",
    "  Get Quote\n",
    "</button>\n",
    "```"
   ]
  }
 ],
 "metadata": {
  "kernelspec": {
   "display_name": "Python 3 (ipykernel)",
   "language": "python",
   "name": "python3"
  },
  "language_info": {
   "codemirror_mode": {
    "name": "ipython",
    "version": 3
   },
   "file_extension": ".py",
   "mimetype": "text/x-python",
   "name": "python",
   "nbconvert_exporter": "python",
   "pygments_lexer": "ipython3",
   "version": "3.13.5"
  }
 },
 "nbformat": 4,
 "nbformat_minor": 5
}
