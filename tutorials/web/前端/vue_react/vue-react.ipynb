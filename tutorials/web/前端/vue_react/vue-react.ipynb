{
 "cells": [
  {
   "cell_type": "markdown",
   "id": "44c57c61-2f9e-42b1-bf7a-406c583a78c5",
   "metadata": {},
   "source": [
    "- 国内最流行的两个前端框架\n",
    "    - Vue & React"
   ]
  },
  {
   "cell_type": "markdown",
   "id": "cd051ddb-3961-4fac-b305-672ebdef9e6a",
   "metadata": {},
   "source": [
    "### 创建与启动"
   ]
  },
  {
   "cell_type": "markdown",
   "id": "3f4367fa-3b00-4a44-b6c4-555521713280",
   "metadata": {},
   "source": [
    "- `npx create-react-app my-react-demo`\n",
    "    - `npm create vite@latest my-vite-app`\n",
    "    - `npm create vue@latest`：交互式\n",
    "- `cd my-react-demo`\n",
    "    - 项目结构\n",
    "        - public：静态页面资源\n",
    "        - src\n",
    "            - index.js：项目的入口文件\n",
    "                - 两个关键的库：`React`, `ReactDOM`\n",
    "            - app.js：根组件\n",
    "- `npm start`"
   ]
  },
  {
   "cell_type": "markdown",
   "id": "d886ab9f-9408-4888-bad3-5b17035eef6f",
   "metadata": {},
   "source": [
    "- `npm install` 命令会读取项目根目录下的 package.json 文件\n",
    "    - npm 会根据 package.json 文件中的 dependencies 和 devDependencies 字段，下载指定版本的依赖包并将它们安装到项目的 node_modules 文件夹中。\n",
    "    - 如果有 package-lock.json 文件，npm 会优先依据该文件锁定的版本进行安装，以确保与之前安装的版本一致。"
   ]
  },
  {
   "cell_type": "markdown",
   "id": "0ed82dac-5fc3-4443-a044-b87bb9c81ab4",
   "metadata": {},
   "source": [
    "### React 组件"
   ]
  },
  {
   "cell_type": "markdown",
   "id": "d1b62575-14bf-45b5-8323-3c56bee58c49",
   "metadata": {},
   "source": [
    "- 两种创建方式\n",
    "    - 函数组件\n",
    "    - 类组件"
   ]
  },
  {
   "cell_type": "markdown",
   "id": "40773a2d-f1bd-46fc-b6b7-e0ce946d2247",
   "metadata": {},
   "source": [
    "- 核心语法\n",
    "    - `import { useState, useEffect, useRef, useCallback } from \"react\";`"
   ]
  },
  {
   "cell_type": "markdown",
   "id": "ed7396da-3e1b-4257-b483-f7691f0b69d9",
   "metadata": {},
   "source": [
    "### JSX"
   ]
  },
  {
   "cell_type": "markdown",
   "id": "56b705fd-a175-453f-a204-e0e697b1fc5b",
   "metadata": {},
   "source": [
    "- 直接将 js 语法跟 html 语法结合，相当于一种模板语法；\n",
    "- 只能返回一个根元素（比如`<div>`）\n",
    "\n",
    "```\n",
    "function App() {\n",
    "    return (\n",
    "        html\n",
    "    );\n",
    "}\n",
    "```"
   ]
  },
  {
   "cell_type": "markdown",
   "id": "9dfb53bd-0d72-461d-8d1f-7a1ba3094ce3",
   "metadata": {},
   "source": [
    "#### 插值"
   ]
  },
  {
   "cell_type": "markdown",
   "id": "c338c6e9-8bdc-43a2-ad8e-3582376eeaf0",
   "metadata": {
    "jp-MarkdownHeadingCollapsed": true
   },
   "source": [
    "```\n",
    "function App() {\n",
    "  const divText = \"Hello World\";\n",
    "  const divTitle = \"title-test\";\n",
    "  return (\n",
    "    <div className=\"App\">\n",
    "      <div title={divTitle}>\n",
    "        <h1>{divText}</h1>\n",
    "      </div>\n",
    "    </div>\n",
    "  }\n",
    "}\n",
    "```\n",
    "\n",
    "\n",
    "```\n",
    "const list = [\n",
    "    { id: 1, name: \"John\", age: 20 },\n",
    "    { id: 2, name: \"Jane\", age: 21 },\n",
    "    { id: 3, name: \"Doe\", age: 22 },\n",
    "  ];\n",
    "\n",
    "return (\n",
    "    <div className=\"App\">\n",
    "       <ul>\n",
    "        {list.map((item) => (\n",
    "          <li key={item.id}>{item.name}</li>\n",
    "        ))}\n",
    "      </ul>\n",
    "    </div>\n",
    ")\n",
    "```"
   ]
  },
  {
   "cell_type": "markdown",
   "id": "1152ecc8-2c44-4f59-beaa-e9d414c24670",
   "metadata": {},
   "source": [
    "#### Fragment "
   ]
  },
  {
   "cell_type": "markdown",
   "id": "c795cbd6-4068-464a-a654-f4488719239c",
   "metadata": {},
   "source": [
    "#### useState"
   ]
  },
  {
   "cell_type": "markdown",
   "id": "36d5406f-cfd0-4cc6-8603-048cbdadf7a8",
   "metadata": {},
   "source": [
    "- 给每个变量赋予状态更新机制；\n",
    "- 一个前端小demo；\n",
    "\n",
    "```\n",
    "import { useState } from 'react';\n",
    "import './App.css';\n",
    "\n",
    "function App() {\n",
    "  const [count, setCount] = useState(0);\n",
    "\n",
    "  return (\n",
    "    <div className=\"App\">\n",
    "      <div className=\"counter\">\n",
    "        <h1>计数器</h1>\n",
    "        <p>当前数值: {count}</p>\n",
    "        <button onClick={() => setCount(count + 1)}>增加</button>\n",
    "        <button onClick={() => setCount(count - 1)}>减少</button>\n",
    "      </div>\n",
    "    </div>\n",
    "  );\n",
    "}\n",
    "\n",
    "export default App;\n",
    "```"
   ]
  },
  {
   "cell_type": "code",
   "execution_count": null,
   "id": "fd4aef79-b83e-4e3f-ad79-4f8f4688f893",
   "metadata": {},
   "outputs": [],
   "source": []
  }
 ],
 "metadata": {
  "kernelspec": {
   "display_name": "Python 3 (ipykernel)",
   "language": "python",
   "name": "python3"
  },
  "language_info": {
   "codemirror_mode": {
    "name": "ipython",
    "version": 3
   },
   "file_extension": ".py",
   "mimetype": "text/x-python",
   "name": "python",
   "nbconvert_exporter": "python",
   "pygments_lexer": "ipython3",
   "version": "3.13.5"
  }
 },
 "nbformat": 4,
 "nbformat_minor": 5
}
