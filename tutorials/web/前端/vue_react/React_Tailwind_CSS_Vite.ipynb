{
 "cells": [
  {
   "cell_type": "markdown",
   "id": "a5048cb3-771c-4227-9b19-22c8f95d2b6e",
   "metadata": {},
   "source": [
    "- https://www.youtube.com/watch?v=b4i8l73DU6A"
   ]
  },
  {
   "cell_type": "markdown",
   "id": "5244bd38-a217-4f7e-8dfe-e7c9af73903a",
   "metadata": {},
   "source": [
    "- vite: Next Generation Frontend Tooling\n",
    "    - https://cn.vite.dev/guide/\n",
    "- vite + react\n",
    "    - `npm create vite@latest my-counter-app`"
   ]
  },
  {
   "cell_type": "markdown",
   "id": "5d00005d-485e-47e6-b7e8-b90ba1fd67fa",
   "metadata": {},
   "source": [
    "### 准备"
   ]
  },
  {
   "cell_type": "markdown",
   "id": "ecccc178-c6f9-4bbf-b937-b9b7e2e30321",
   "metadata": {},
   "source": [
    "- `npx create-vite`\n",
    "    - `.`\n",
    "    - `React`\n",
    "    - `TypeScript`\n",
    "- `npm install`\n",
    "- `npm run dev`\n",
    "- `npm install tailwindcss @tailwindcss/vite`\n",
    "    - @tailwindcss/: 这个 @ 符号表示这是一个“作用域包”（scoped package），通常意味着它是由 tailwindcss 官方团队发布的。\n",
    "    - /vite: 表明这个包是专门为 Vite 这个工具服务的。\n",
    "- `npm install zustand`\n",
    "    - dark mode / light mode"
   ]
  }
 ],
 "metadata": {
  "kernelspec": {
   "display_name": "Python 3 (ipykernel)",
   "language": "python",
   "name": "python3"
  },
  "language_info": {
   "codemirror_mode": {
    "name": "ipython",
    "version": 3
   },
   "file_extension": ".py",
   "mimetype": "text/x-python",
   "name": "python",
   "nbconvert_exporter": "python",
   "pygments_lexer": "ipython3",
   "version": "3.10.0"
  }
 },
 "nbformat": 4,
 "nbformat_minor": 5
}
