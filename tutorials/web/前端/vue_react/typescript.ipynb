{
 "cells": [
  {
   "cell_type": "markdown",
   "id": "1484b7a6-7384-4cd9-b198-9f84c8dbc6c7",
   "metadata": {},
   "source": [
    "### tsx"
   ]
  },
  {
   "cell_type": "markdown",
   "id": "d95e9205-584c-4dc2-8156-2c4ca022326d",
   "metadata": {},
   "source": [
    "- TypeScript 是 JavaScript 的一个“超集”。可以把它想象成是“带有类型检查的 JavaScript”。\n",
    "\n",
    "```typescript\n",
    "// 明确指定 a 和 b 必须是数字，返回值也必须是数字\n",
    "function add(a: number, b: number): number {\n",
    "  return a + b;\n",
    "}\n",
    "add(5, \"hello\"); // 这里会直接报错！你的代码编辑器和编译器会告诉你类型不匹配。\n",
    "```\n",
    "\n",
    "- JSX 是 JavaScript 的一个语法扩展，全称是 JavaScript XML。它允许你在 JavaScript 代码中编写类似 HTML 的结构。\n",
    "    - 它不是标准的 JavaScript，浏览器本身不认识 JSX。它主要被 React 这个前端库用来声明式地描述用户界面 (UI)。你写的 JSX 最终会被编译成普通的 JavaScript 调用（比如 React.createElement()）。"
   ]
  }
 ],
 "metadata": {
  "kernelspec": {
   "display_name": "Python 3 (ipykernel)",
   "language": "python",
   "name": "python3"
  },
  "language_info": {
   "codemirror_mode": {
    "name": "ipython",
    "version": 3
   },
   "file_extension": ".py",
   "mimetype": "text/x-python",
   "name": "python",
   "nbconvert_exporter": "python",
   "pygments_lexer": "ipython3",
   "version": "3.10.0"
  }
 },
 "nbformat": 4,
 "nbformat_minor": 5
}
