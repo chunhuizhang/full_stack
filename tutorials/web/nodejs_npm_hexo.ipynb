{
 "cells": [
  {
   "cell_type": "markdown",
   "id": "9b95edf5",
   "metadata": {},
   "source": [
    "## nodejs 与 npm"
   ]
  },
  {
   "cell_type": "markdown",
   "id": "57fc9378",
   "metadata": {},
   "source": [
    "```\n",
    "curl -fsSL https://deb.nodesource.com/setup_20.x | sudo -E bash - &&\\\n",
    "sudo apt-get install -y nodejs\n",
    "```\n",
    "\n",
    "- check 安装成功及版本号：\n",
    "    - `npm -version`\n",
    "    - `node --version`"
   ]
  },
  {
   "cell_type": "markdown",
   "id": "d93257dd",
   "metadata": {},
   "source": [
    "### npm install"
   ]
  },
  {
   "cell_type": "markdown",
   "id": "0ffd6a38",
   "metadata": {
    "ExecuteTime": {
     "end_time": "2023-07-04T13:28:49.267512Z",
     "start_time": "2023-07-04T13:28:48.801162Z"
    }
   },
   "source": [
    "- 安装依赖，会生成 node-modules 目录\n",
    "    - 依赖是通过 `package.json` 的 `dependencies` 来维护；"
   ]
  },
  {
   "cell_type": "markdown",
   "id": "1965ee62",
   "metadata": {},
   "source": [
    "## hexo 安装及启动"
   ]
  },
  {
   "cell_type": "markdown",
   "id": "5c4489e4",
   "metadata": {},
   "source": [
    "- 安装客户端 `npm install -g hexo-cli`\n",
    "- 安装服务端 `npm install hexo-server --save`\n",
    "- 在项目根目录启动 `hexo server`\n",
    "    - `hexo server`"
   ]
  },
  {
   "cell_type": "markdown",
   "id": "2a5c9a00",
   "metadata": {},
   "source": [
    "## blog"
   ]
  },
  {
   "cell_type": "markdown",
   "id": "168e24d6",
   "metadata": {},
   "source": [
    "- 创建新文章\n",
    "    - `hexo new '文章'` 就会生成一个名为'文章'的 md 文件。\n",
    "        - `source/_posts/`"
   ]
  }
 ],
 "metadata": {
  "kernelspec": {
   "display_name": "Python 3 (ipykernel)",
   "language": "python",
   "name": "python3"
  },
  "language_info": {
   "codemirror_mode": {
    "name": "ipython",
    "version": 3
   },
   "file_extension": ".py",
   "mimetype": "text/x-python",
   "name": "python",
   "nbconvert_exporter": "python",
   "pygments_lexer": "ipython3",
   "version": "3.10.13"
  },
  "toc": {
   "base_numbering": 1,
   "nav_menu": {},
   "number_sections": true,
   "sideBar": true,
   "skip_h1_title": false,
   "title_cell": "Table of Contents",
   "title_sidebar": "Contents",
   "toc_cell": false,
   "toc_position": {},
   "toc_section_display": true,
   "toc_window_display": false
  }
 },
 "nbformat": 4,
 "nbformat_minor": 5
}
