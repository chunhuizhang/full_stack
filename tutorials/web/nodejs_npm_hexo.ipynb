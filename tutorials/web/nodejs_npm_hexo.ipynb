{
 "cells": [
  {
   "cell_type": "markdown",
   "id": "9b95edf5",
   "metadata": {},
   "source": [
    "## nodejs 与 npm"
   ]
  },
  {
   "cell_type": "markdown",
   "id": "57fc9378",
   "metadata": {},
   "source": [
    "```\n",
    "curl -fsSL https://deb.nodesource.com/setup_20.x | sudo -E bash - &&\\\n",
    "sudo apt-get install -y nodejs\n",
    "```\n",
    "\n",
    "- check 安装成功及版本号：\n",
    "    - `npm -version`\n",
    "    - `node --version`"
   ]
  },
  {
   "cell_type": "markdown",
   "id": "1965ee62",
   "metadata": {},
   "source": [
    "## hexo"
   ]
  },
  {
   "cell_type": "markdown",
   "id": "5c4489e4",
   "metadata": {},
   "source": [
    "- 安装客户端 `npm install -g hexo-cli`\n",
    "- 安装服务端 `npm install hexo-server --save`\n",
    "- 在项目根目录启动 `hexo server`\n",
    "    - `hexo server`"
   ]
  }
 ],
 "metadata": {
  "kernelspec": {
   "display_name": "Python 3 (ipykernel)",
   "language": "python",
   "name": "python3"
  },
  "language_info": {
   "codemirror_mode": {
    "name": "ipython",
    "version": 3
   },
   "file_extension": ".py",
   "mimetype": "text/x-python",
   "name": "python",
   "nbconvert_exporter": "python",
   "pygments_lexer": "ipython3",
   "version": "3.10.9"
  },
  "toc": {
   "base_numbering": 1,
   "nav_menu": {},
   "number_sections": true,
   "sideBar": true,
   "skip_h1_title": false,
   "title_cell": "Table of Contents",
   "title_sidebar": "Contents",
   "toc_cell": false,
   "toc_position": {},
   "toc_section_display": true,
   "toc_window_display": false
  }
 },
 "nbformat": 4,
 "nbformat_minor": 5
}
