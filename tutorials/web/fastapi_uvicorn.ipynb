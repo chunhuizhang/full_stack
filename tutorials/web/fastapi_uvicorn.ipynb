{
 "cells": [
  {
   "cell_type": "markdown",
   "id": "d7fd3a51",
   "metadata": {},
   "source": [
    "## basics"
   ]
  },
  {
   "cell_type": "markdown",
   "id": "d51ebae3",
   "metadata": {},
   "source": [
    "```\n",
    "# main.py\n",
    "\n",
    "from fastapi import FastAPI\n",
    "import uvicorn\n",
    "\n",
    "app = FastAPI(\n",
    "    title=\"World\",\n",
    "    description=description,\n",
    "    version='0.0.1',\n",
    ")\n",
    "\n",
    "uvicorn.run(app='main:app', host='127.0.0.1', port=8000, log_level='info')\n",
    "```"
   ]
  }
 ],
 "metadata": {
  "kernelspec": {
   "display_name": "Python 3 (ipykernel)",
   "language": "python",
   "name": "python3"
  },
  "language_info": {
   "codemirror_mode": {
    "name": "ipython",
    "version": 3
   },
   "file_extension": ".py",
   "mimetype": "text/x-python",
   "name": "python",
   "nbconvert_exporter": "python",
   "pygments_lexer": "ipython3",
   "version": "3.10.9"
  },
  "toc": {
   "base_numbering": 1,
   "nav_menu": {},
   "number_sections": true,
   "sideBar": true,
   "skip_h1_title": false,
   "title_cell": "Table of Contents",
   "title_sidebar": "Contents",
   "toc_cell": false,
   "toc_position": {},
   "toc_section_display": true,
   "toc_window_display": false
  }
 },
 "nbformat": 4,
 "nbformat_minor": 5
}
