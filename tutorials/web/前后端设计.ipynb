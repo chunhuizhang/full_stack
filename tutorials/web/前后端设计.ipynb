{
 "cells": [
  {
   "cell_type": "markdown",
   "id": "ee3fea50-352c-40f9-9a89-802985daf3f4",
   "metadata": {},
   "source": [
    "- 后端\n",
    "    - python fastapi\n",
    "- 前端：\n",
    "    - react/vue\n",
    "        - `npx create-react-app frontend`\n",
    "    - nextjs"
   ]
  },
  {
   "cell_type": "markdown",
   "id": "92e81769-4912-432c-a1a0-6aaefc9f6da0",
   "metadata": {},
   "source": [
    "```\n",
    "project-root/\n",
    "├── backend/\n",
    "│   ├── venv/\n",
    "│   ├── main.py\n",
    "│   └── requirements.txt\n",
    "│\n",
    "└── frontend/  \n",
    "    ├── public/\n",
    "    ├── src/\n",
    "    ├── package.json\n",
    "    └── ...\n",
    "```"
   ]
  }
 ],
 "metadata": {
  "kernelspec": {
   "display_name": "Python 3 (ipykernel)",
   "language": "python",
   "name": "python3"
  },
  "language_info": {
   "codemirror_mode": {
    "name": "ipython",
    "version": 3
   },
   "file_extension": ".py",
   "mimetype": "text/x-python",
   "name": "python",
   "nbconvert_exporter": "python",
   "pygments_lexer": "ipython3",
   "version": "3.10.13"
  }
 },
 "nbformat": 4,
 "nbformat_minor": 5
}
