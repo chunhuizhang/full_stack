{
 "cells": [
  {
   "cell_type": "markdown",
   "id": "0674c91a-18c7-410e-9769-3c2a738b81c6",
   "metadata": {},
   "source": [
    "```\n",
    "import os\n",
    "\n",
    "os.environ['http_proxy'] = 'http://127.0.0.1:7890'\n",
    "os.environ['https_proxy'] = 'http://127.0.0.1:7890'\n",
    "```\n",
    "\n",
    "- Proxy server： 指定一个运行在本地机器(127.0.0.1,即localhost)上的代理服务器,端口号为 7890。\n",
    "- 网络请求路由：设置这些环境变量后,许多Python库和应用程序会自动使用这个代理服务器来发送 HTTP和HTTPS请求。\n",
    "- 网络访问控制：通过代理服务器,可以控制和监控网络流量,可能用于绕过某些网络限制,提高安全性,或者进行调试。"
   ]
  },
  {
   "cell_type": "markdown",
   "id": "63265f25-87f4-41d3-acc3-dc87f34ba6df",
   "metadata": {},
   "source": [
    "> 查看自己的代理设置,并禁用掉以socks开头的代理\n",
    "\n",
    "- shell\n",
    "  \n",
    "```\n",
    "env | grep -i proxy \n",
    "unset all_proxy \n",
    "unset ALL_PROXY \n",
    "```\n",
    "\n",
    "- python 环境变量\n",
    "  \n",
    "```\n",
    "import os\n",
    "os.environ.pop('all_proxy')\n",
    "os.environ.pop('ALL_PROXY')\n",
    "```"
   ]
  },
  {
   "cell_type": "code",
   "execution_count": 1,
   "id": "3258d01c-d110-4145-a61f-d5d280bc63f4",
   "metadata": {
    "execution": {
     "iopub.execute_input": "2024-08-09T11:53:06.550489Z",
     "iopub.status.busy": "2024-08-09T11:53:06.549850Z",
     "iopub.status.idle": "2024-08-09T11:53:07.127891Z",
     "shell.execute_reply": "2024-08-09T11:53:07.125714Z",
     "shell.execute_reply.started": "2024-08-09T11:53:06.550436Z"
    }
   },
   "outputs": [
    {
     "data": {
      "text/plain": [
       "{'origin': '111.201.26.89'}"
      ]
     },
     "execution_count": 1,
     "metadata": {},
     "output_type": "execute_result"
    }
   ],
   "source": [
    "import requests\n",
    "# https://www.ipaddress.my/\n",
    "# 111.201.26.89 (china)\n",
    "response = requests.get('http://httpbin.org/ip')\n",
    "response.json()"
   ]
  },
  {
   "cell_type": "code",
   "execution_count": 2,
   "id": "d1b9e49a-22f4-4142-a11a-69f348918053",
   "metadata": {
    "execution": {
     "iopub.execute_input": "2024-08-09T11:53:31.754672Z",
     "iopub.status.busy": "2024-08-09T11:53:31.754322Z",
     "iopub.status.idle": "2024-08-09T11:53:31.763254Z",
     "shell.execute_reply": "2024-08-09T11:53:31.761063Z",
     "shell.execute_reply.started": "2024-08-09T11:53:31.754647Z"
    }
   },
   "outputs": [],
   "source": [
    "import os\n",
    "os.environ['http_proxy'] = 'http://127.0.0.1:7890'\n",
    "os.environ['https_proxy'] = 'http://127.0.0.1:7890'"
   ]
  },
  {
   "cell_type": "code",
   "execution_count": 3,
   "id": "745bc89c-7119-4c2e-a1d6-31ce242aeab2",
   "metadata": {
    "execution": {
     "iopub.execute_input": "2024-08-09T11:53:35.237509Z",
     "iopub.status.busy": "2024-08-09T11:53:35.236886Z",
     "iopub.status.idle": "2024-08-09T11:53:35.860229Z",
     "shell.execute_reply": "2024-08-09T11:53:35.858250Z",
     "shell.execute_reply.started": "2024-08-09T11:53:35.237463Z"
    }
   },
   "outputs": [
    {
     "data": {
      "text/plain": [
       "{'origin': '192.169.119.248'}"
      ]
     },
     "execution_count": 3,
     "metadata": {},
     "output_type": "execute_result"
    }
   ],
   "source": [
    "# https://www.ipaddress.my/\n",
    "# 192.169.119.248 (taiwan)\n",
    "response = requests.get('http://httpbin.org/ip')\n",
    "response.json()"
   ]
  },
  {
   "cell_type": "code",
   "execution_count": null,
   "id": "4f4cd588-6658-4420-9099-a49f7e1a3605",
   "metadata": {},
   "outputs": [],
   "source": []
  }
 ],
 "metadata": {
  "kernelspec": {
   "display_name": "Python 3 (ipykernel)",
   "language": "python",
   "name": "python3"
  },
  "language_info": {
   "codemirror_mode": {
    "name": "ipython",
    "version": 3
   },
   "file_extension": ".py",
   "mimetype": "text/x-python",
   "name": "python",
   "nbconvert_exporter": "python",
   "pygments_lexer": "ipython3",
   "version": "3.10.13"
  }
 },
 "nbformat": 4,
 "nbformat_minor": 5
}
