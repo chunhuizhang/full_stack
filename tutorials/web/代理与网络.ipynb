{
 "cells": [
  {
   "cell_type": "markdown",
   "id": "63265f25-87f4-41d3-acc3-dc87f34ba6df",
   "metadata": {},
   "source": [
    "- shell\n",
    "  \n",
    "```\n",
    "env | grep -i proxy \n",
    "unset all_proxy \n",
    "unset ALL_PROXY \n",
    "```\n",
    "\n",
    "- python 环境变量\n",
    "  \n",
    "```\n",
    "import os\n",
    "os.environ.pop('all_proxy')\n",
    "os.environ.pop('ALL_PROXY')\n",
    "```"
   ]
  }
 ],
 "metadata": {
  "kernelspec": {
   "display_name": "Python 3 (ipykernel)",
   "language": "python",
   "name": "python3"
  },
  "language_info": {
   "codemirror_mode": {
    "name": "ipython",
    "version": 3
   },
   "file_extension": ".py",
   "mimetype": "text/x-python",
   "name": "python",
   "nbconvert_exporter": "python",
   "pygments_lexer": "ipython3",
   "version": "3.10.13"
  }
 },
 "nbformat": 4,
 "nbformat_minor": 5
}
