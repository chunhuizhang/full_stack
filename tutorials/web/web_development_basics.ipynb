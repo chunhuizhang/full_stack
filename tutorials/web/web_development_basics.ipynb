{
 "cells": [
  {
   "cell_type": "markdown",
   "id": "a8f5bedf",
   "metadata": {},
   "source": [
    "## ip & port"
   ]
  },
  {
   "cell_type": "markdown",
   "id": "a6321fed",
   "metadata": {},
   "source": [
    "- http：80\n",
    "- https：443"
   ]
  },
  {
   "cell_type": "markdown",
   "id": "69e5a9a5",
   "metadata": {},
   "source": [
    "## status code"
   ]
  },
  {
   "cell_type": "markdown",
   "id": "4157dade",
   "metadata": {},
   "source": [
    "- 200\n",
    "    - ok\n",
    "- 4xx: 客户端错误\n",
    "    - 422 Unprocessable Entity\n",
    "        - 如客户端发送的 post 请求中，json 内部格式错误;\n",
    "    - 404: The requested URL was not found，客户端请求了一个不存在的地址，\n",
    "    - 403：爬虫被识别被禁\n",
    "        - requests 中增加 headers\n",
    "- 5xx：服务器端错误，Internal Server Error"
   ]
  }
 ],
 "metadata": {
  "kernelspec": {
   "display_name": "Python 3 (ipykernel)",
   "language": "python",
   "name": "python3"
  },
  "language_info": {
   "codemirror_mode": {
    "name": "ipython",
    "version": 3
   },
   "file_extension": ".py",
   "mimetype": "text/x-python",
   "name": "python",
   "nbconvert_exporter": "python",
   "pygments_lexer": "ipython3",
   "version": "3.10.13"
  },
  "toc": {
   "base_numbering": 1,
   "nav_menu": {},
   "number_sections": true,
   "sideBar": true,
   "skip_h1_title": false,
   "title_cell": "Table of Contents",
   "title_sidebar": "Contents",
   "toc_cell": false,
   "toc_position": {},
   "toc_section_display": true,
   "toc_window_display": false
  }
 },
 "nbformat": 4,
 "nbformat_minor": 5
}
