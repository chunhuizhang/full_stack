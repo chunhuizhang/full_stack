{
 "cells": [
  {
   "cell_type": "markdown",
   "id": "a8f5bedf",
   "metadata": {},
   "source": [
    "## ip & port"
   ]
  },
  {
   "cell_type": "markdown",
   "id": "a6321fed",
   "metadata": {},
   "source": [
    "- http：80\n",
    "- https：443"
   ]
  },
  {
   "cell_type": "markdown",
   "id": "69e5a9a5",
   "metadata": {},
   "source": [
    "## status code"
   ]
  },
  {
   "cell_type": "markdown",
   "id": "4157dade",
   "metadata": {},
   "source": [
    "https://developer.mozilla.org/en-US/docs/Web/HTTP/Status\n",
    "\n",
    "- 200\n",
    "    - ok\n",
    "- 4xx: 客户端错误\n",
    "    - 422 Unprocessable Entity\n",
    "        - 如客户端发送的 post 请求中，json 内部格式错误;\n",
    "    - 404: The requested URL was not found，客户端请求了一个不存在的地址，\n",
    "    - 403：爬虫被识别被禁\n",
    "        - requests 中增加 headers\n",
    "- 5xx：服务器端错误，Internal Server Error"
   ]
  },
  {
   "cell_type": "markdown",
   "id": "99a49e79-de5c-4333-8e4a-e7dd88ce0b2c",
   "metadata": {},
   "source": [
    "### urllib, requests"
   ]
  },
  {
   "cell_type": "code",
   "execution_count": 1,
   "id": "848e5752-42b1-48ce-9397-c3c66e0a58b2",
   "metadata": {
    "execution": {
     "iopub.execute_input": "2024-12-22T11:47:14.597766Z",
     "iopub.status.busy": "2024-12-22T11:47:14.597133Z",
     "iopub.status.idle": "2024-12-22T11:47:14.716855Z",
     "shell.execute_reply": "2024-12-22T11:47:14.715523Z",
     "shell.execute_reply.started": "2024-12-22T11:47:14.597719Z"
    }
   },
   "outputs": [],
   "source": [
    "import requests"
   ]
  },
  {
   "cell_type": "code",
   "execution_count": 2,
   "id": "03bca22b-978b-42a9-8100-92f03bb399a9",
   "metadata": {
    "execution": {
     "iopub.execute_input": "2024-12-22T11:47:20.470506Z",
     "iopub.status.busy": "2024-12-22T11:47:20.470112Z",
     "iopub.status.idle": "2024-12-22T11:47:20.478742Z",
     "shell.execute_reply": "2024-12-22T11:47:20.476587Z",
     "shell.execute_reply.started": "2024-12-22T11:47:20.470479Z"
    }
   },
   "outputs": [],
   "source": [
    "import os\n",
    "os.environ[\"http_proxy\"] = \"http://127.0.0.1:7890\"\n",
    "os.environ[\"https_proxy\"] = \"http://127.0.0.1:7890\""
   ]
  },
  {
   "cell_type": "code",
   "execution_count": 3,
   "id": "f16dc660-3b9a-45b1-be91-f21a74e198c3",
   "metadata": {
    "execution": {
     "iopub.execute_input": "2024-12-22T11:47:27.494235Z",
     "iopub.status.busy": "2024-12-22T11:47:27.493593Z",
     "iopub.status.idle": "2024-12-22T11:47:27.512144Z",
     "shell.execute_reply": "2024-12-22T11:47:27.510074Z",
     "shell.execute_reply.started": "2024-12-22T11:47:27.494191Z"
    }
   },
   "outputs": [
    {
     "data": {
      "text/plain": [
       "{'no': 'localhost,127.0.0.1',\n",
       " 'http': 'http://127.0.0.1:7890',\n",
       " 'https': 'http://127.0.0.1:7890'}"
      ]
     },
     "execution_count": 3,
     "metadata": {},
     "output_type": "execute_result"
    }
   ],
   "source": [
    "import urllib\n",
    "urllib.request.getproxies()"
   ]
  },
  {
   "cell_type": "code",
   "execution_count": 4,
   "id": "2c96b96e-dfc3-4bd0-9d5e-b72efde94e4d",
   "metadata": {
    "execution": {
     "iopub.execute_input": "2024-12-22T11:47:33.966391Z",
     "iopub.status.busy": "2024-12-22T11:47:33.965762Z",
     "iopub.status.idle": "2024-12-22T11:47:34.799508Z",
     "shell.execute_reply": "2024-12-22T11:47:34.797803Z",
     "shell.execute_reply.started": "2024-12-22T11:47:33.966345Z"
    }
   },
   "outputs": [
    {
     "data": {
      "text/plain": [
       "<Response [200]>"
      ]
     },
     "execution_count": 4,
     "metadata": {},
     "output_type": "execute_result"
    }
   ],
   "source": [
    "requests.get('https://www.huggingface.co')"
   ]
  },
  {
   "cell_type": "code",
   "execution_count": null,
   "id": "c18d848d-cbe5-4bbe-b360-531903b6acbe",
   "metadata": {},
   "outputs": [],
   "source": []
  }
 ],
 "metadata": {
  "kernelspec": {
   "display_name": "Python 3 (ipykernel)",
   "language": "python",
   "name": "python3"
  },
  "language_info": {
   "codemirror_mode": {
    "name": "ipython",
    "version": 3
   },
   "file_extension": ".py",
   "mimetype": "text/x-python",
   "name": "python",
   "nbconvert_exporter": "python",
   "pygments_lexer": "ipython3",
   "version": "3.10.13"
  },
  "toc": {
   "base_numbering": 1,
   "nav_menu": {},
   "number_sections": true,
   "sideBar": true,
   "skip_h1_title": false,
   "title_cell": "Table of Contents",
   "title_sidebar": "Contents",
   "toc_cell": false,
   "toc_position": {},
   "toc_section_display": true,
   "toc_window_display": false
  }
 },
 "nbformat": 4,
 "nbformat_minor": 5
}
