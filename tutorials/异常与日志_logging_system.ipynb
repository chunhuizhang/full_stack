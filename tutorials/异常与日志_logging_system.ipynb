{
 "cells": [
  {
   "cell_type": "markdown",
   "id": "54095b22",
   "metadata": {},
   "source": [
    "## python 异常"
   ]
  },
  {
   "cell_type": "markdown",
   "id": "d4600eea",
   "metadata": {},
   "source": [
    "- 打印异常堆栈\n",
    "\n",
    "```\n",
    "import traceback\n",
    "trackback.print_exec()\n",
    "```"
   ]
  },
  {
   "cell_type": "markdown",
   "id": "7c409c5b-1229-4b5c-84ca-d894077756cc",
   "metadata": {},
   "source": [
    "### try-catch-finally"
   ]
  },
  {
   "cell_type": "code",
   "execution_count": 3,
   "id": "6ccfe591-eeac-48a7-9d75-250e597ff184",
   "metadata": {},
   "outputs": [
    {
     "data": {
      "text/plain": [
       "[0,\n",
       " \"ZeroDivisionError('division by zero')\",\n",
       " 'finally',\n",
       " 1,\n",
       " \"ZeroDivisionError('division by zero')\",\n",
       " 'finally',\n",
       " 2,\n",
       " \"ZeroDivisionError('division by zero')\",\n",
       " 'finally',\n",
       " 'finally']"
      ]
     },
     "execution_count": 3,
     "metadata": {},
     "output_type": "execute_result"
    }
   ],
   "source": [
    "messages = []\n",
    "try_cnt = 0\n",
    "while True:\n",
    "    try:\n",
    "        if try_cnt >= 3:\n",
    "            break\n",
    "        messages.append(try_cnt)\n",
    "        res = 1/0\n",
    "        break\n",
    "    except ZeroDivisionError as e:\n",
    "        try_cnt += 1\n",
    "        messages.append(repr(e))\n",
    "    finally:\n",
    "        messages.append(\"finally\")\n",
    "messages"
   ]
  },
  {
   "cell_type": "code",
   "execution_count": null,
   "id": "1c4b51a2-c416-418f-a9b1-dfa2f0b96689",
   "metadata": {},
   "outputs": [],
   "source": []
  },
  {
   "cell_type": "markdown",
   "id": "604c1fb8",
   "metadata": {},
   "source": [
    "## python logging"
   ]
  },
  {
   "cell_type": "code",
   "execution_count": 2,
   "id": "3546e82f",
   "metadata": {
    "ExecuteTime": {
     "end_time": "2023-07-29T04:00:41.104002Z",
     "start_time": "2023-07-29T04:00:41.097394Z"
    }
   },
   "outputs": [],
   "source": [
    "import logging"
   ]
  },
  {
   "cell_type": "code",
   "execution_count": 13,
   "id": "b556b533",
   "metadata": {
    "ExecuteTime": {
     "end_time": "2023-07-29T04:03:28.185839Z",
     "start_time": "2023-07-29T04:03:28.177863Z"
    }
   },
   "outputs": [
    {
     "name": "stdout",
     "output_type": "stream",
     "text": [
      "logging.CRITICAL: 50\n",
      "logging.ERROR: 40\n",
      "logging.WARNING: 30\n",
      "logging.INFO: 20\n",
      "logging.DEBUG: 10\n",
      "logging.NOTSET: 0\n"
     ]
    }
   ],
   "source": [
    "print(f'logging.CRITICAL: {logging.CRITICAL}')\n",
    "print(f'logging.ERROR: {logging.ERROR}')\n",
    "print(f'logging.WARNING: {logging.WARNING}')\n",
    "print(f'logging.INFO: {logging.INFO}')\n",
    "print(f'logging.DEBUG: {logging.DEBUG}')\n",
    "print(f'logging.NOTSET: {logging.NOTSET}')"
   ]
  },
  {
   "cell_type": "markdown",
   "id": "e00a3ba9",
   "metadata": {},
   "source": [
    "```\n",
    "import logging\n",
    "logging.basicConfig(level = logging.INFO,format = '%(asctime)s - %(name)s - %(levelname)s - %(message)s')\n",
    "logger = logging.getLogger(__name__)\n",
    "\n",
    "logger.info(\"Start print log\")\n",
    "logger.debug(\"Do something\")\n",
    "logger.warning(\"Something maybe fail.\")\n",
    "logger.info(\"Finish\")\n",
    "```"
   ]
  },
  {
   "cell_type": "code",
   "execution_count": 1,
   "id": "f42fd367",
   "metadata": {
    "ExecuteTime": {
     "end_time": "2023-07-29T03:59:52.487482Z",
     "start_time": "2023-07-29T03:59:52.467390Z"
    }
   },
   "outputs": [
    {
     "name": "stderr",
     "output_type": "stream",
     "text": [
      "2023-07-29 11:59:52,480 - __main__ - INFO - Start print log\n",
      "2023-07-29 11:59:52,482 - __main__ - DEBUG - Do something\n",
      "2023-07-29 11:59:52,483 - __main__ - WARNING - Something maybe fail.\n",
      "2023-07-29 11:59:52,484 - __main__ - INFO - Finish\n"
     ]
    }
   ],
   "source": [
    "import logging\n",
    "logging.basicConfig(level = logging.DEBUG, format = '%(asctime)s - %(name)s - %(levelname)s - %(message)s')\n",
    "logger = logging.getLogger(__name__)\n",
    "\n",
    "logger.info(\"Start print log\")\n",
    "logger.debug(\"Do something\")\n",
    "logger.warning(\"Something maybe fail.\")\n",
    "logger.info(\"Finish\")"
   ]
  },
  {
   "cell_type": "code",
   "execution_count": null,
   "id": "e9e521f9",
   "metadata": {},
   "outputs": [],
   "source": []
  }
 ],
 "metadata": {
  "kernelspec": {
   "display_name": "Python 3 (ipykernel)",
   "language": "python",
   "name": "python3"
  },
  "language_info": {
   "codemirror_mode": {
    "name": "ipython",
    "version": 3
   },
   "file_extension": ".py",
   "mimetype": "text/x-python",
   "name": "python",
   "nbconvert_exporter": "python",
   "pygments_lexer": "ipython3",
   "version": "3.10.13"
  },
  "toc": {
   "base_numbering": 1,
   "nav_menu": {},
   "number_sections": true,
   "sideBar": true,
   "skip_h1_title": false,
   "title_cell": "Table of Contents",
   "title_sidebar": "Contents",
   "toc_cell": false,
   "toc_position": {},
   "toc_section_display": true,
   "toc_window_display": false
  }
 },
 "nbformat": 4,
 "nbformat_minor": 5
}
