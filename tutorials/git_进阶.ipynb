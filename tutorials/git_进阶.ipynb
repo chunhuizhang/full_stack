{
 "cells": [
  {
   "cell_type": "markdown",
   "id": "ea2490d0",
   "metadata": {},
   "source": [
    "## 三区"
   ]
  },
  {
   "cell_type": "markdown",
   "id": "fe319b8b",
   "metadata": {},
   "source": [
    "- git status 中的 delete\n",
    "    - `git rm file`"
   ]
  },
  {
   "cell_type": "markdown",
   "id": "f99d7f08",
   "metadata": {},
   "source": [
    "## amend"
   ]
  },
  {
   "cell_type": "markdown",
   "id": "e14e4eec",
   "metadata": {},
   "source": [
    "- `git commit --amend`：好用，减少提交无用信息，可常用。\n",
    "    - 还包括想修改commit 注释（comment），此时会进入默认 vim 编辑器，修改注释完毕后保存就好了。"
   ]
  },
  {
   "cell_type": "markdown",
   "id": "4cae1585",
   "metadata": {},
   "source": [
    "## 撤销 `commit`"
   ]
  },
  {
   "cell_type": "markdown",
   "id": "0b16f0ea",
   "metadata": {},
   "source": [
    "- `git reset --soft HEAD^`\n",
    "    - `HEAD^`的意思是上一个版本，也可以写成`HEAD~1`\n",
    "    - `--soft`，不删除工作空间改动代码，撤销 commit，不撤销 `git add . `\n",
    "    - `--mixed` 不删除工作空间改动代码，撤销 commit，并且撤销 `git add .` 操作\n",
    "        - 这个为默认参数,\n",
    "        - `git reset --mixed HEAD^` 和 `git reset HEAD^` 效果是一样的。\n",
    "    - `--hard` 删除工作空间改动代码，撤销 `commit`，撤销 `git add .` 。注意完成这个操作后，就恢复到了上一次的 commit 状态。"
   ]
  },
  {
   "cell_type": "markdown",
   "id": "b5dc34a5",
   "metadata": {},
   "source": [
    "- git log 与 commit id\n",
    "    - git log 查看所有的commit提交记录 \n",
    "    - git show 查看提交的详情 \n",
    "        - `git log --pretty=oneline`\n",
    "        - `git log --graph`"
   ]
  },
  {
   "cell_type": "markdown",
   "id": "7754b134",
   "metadata": {},
   "source": [
    "## 其他"
   ]
  },
  {
   "cell_type": "markdown",
   "id": "4facb349",
   "metadata": {},
   "source": [
    "### HEAD"
   ]
  },
  {
   "cell_type": "markdown",
   "id": "869e999e",
   "metadata": {},
   "source": [
    "> You can think of the HEAD as the \"current branch\". When you switch branches with git checkout, the HEAD revision changes to point to the tip of the new branch.\n",
    "\n",
    "You can see what HEAD points to by doing:\n",
    "\n",
    "```\n",
    "$ cat .git/HEAD\n",
    "ref: refs/heads/main\n",
    "\n",
    "$ cat .git/refs/heads/main\n",
    "099b4b91e72d5149adaffde21c08cf3a2357036f\n",
    "```"
   ]
  }
 ],
 "metadata": {
  "kernelspec": {
   "display_name": "Python 3 (ipykernel)",
   "language": "python",
   "name": "python3"
  },
  "language_info": {
   "codemirror_mode": {
    "name": "ipython",
    "version": 3
   },
   "file_extension": ".py",
   "mimetype": "text/x-python",
   "name": "python",
   "nbconvert_exporter": "python",
   "pygments_lexer": "ipython3",
   "version": "3.10.9"
  },
  "toc": {
   "base_numbering": 1,
   "nav_menu": {},
   "number_sections": true,
   "sideBar": true,
   "skip_h1_title": false,
   "title_cell": "Table of Contents",
   "title_sidebar": "Contents",
   "toc_cell": false,
   "toc_position": {},
   "toc_section_display": true,
   "toc_window_display": false
  }
 },
 "nbformat": 4,
 "nbformat_minor": 5
}
