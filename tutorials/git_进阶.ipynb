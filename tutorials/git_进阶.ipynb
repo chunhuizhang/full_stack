{
 "cells": [
  {
   "cell_type": "markdown",
   "id": "f99d7f08",
   "metadata": {},
   "source": [
    "## amend"
   ]
  },
  {
   "cell_type": "markdown",
   "id": "e14e4eec",
   "metadata": {},
   "source": [
    "- `git commit --amend`：好用，减少提交无用信息，可常用。"
   ]
  },
  {
   "cell_type": "markdown",
   "id": "4cae1585",
   "metadata": {},
   "source": [
    "## 撤销 `commit`"
   ]
  },
  {
   "cell_type": "markdown",
   "id": "0b16f0ea",
   "metadata": {},
   "source": [
    "- `git reset --soft HEAD^`"
   ]
  }
 ],
 "metadata": {
  "kernelspec": {
   "display_name": "Python 3 (ipykernel)",
   "language": "python",
   "name": "python3"
  },
  "language_info": {
   "codemirror_mode": {
    "name": "ipython",
    "version": 3
   },
   "file_extension": ".py",
   "mimetype": "text/x-python",
   "name": "python",
   "nbconvert_exporter": "python",
   "pygments_lexer": "ipython3",
   "version": "3.10.9"
  },
  "toc": {
   "base_numbering": 1,
   "nav_menu": {},
   "number_sections": true,
   "sideBar": true,
   "skip_h1_title": false,
   "title_cell": "Table of Contents",
   "title_sidebar": "Contents",
   "toc_cell": false,
   "toc_position": {},
   "toc_section_display": true,
   "toc_window_display": false
  }
 },
 "nbformat": 4,
 "nbformat_minor": 5
}
