{
 "cells": [
  {
   "cell_type": "code",
   "execution_count": 1,
   "id": "548c9a24",
   "metadata": {
    "ExecuteTime": {
     "end_time": "2024-02-19T23:59:26.810136Z",
     "start_time": "2024-02-19T23:59:26.788065Z"
    }
   },
   "outputs": [],
   "source": [
    "import re"
   ]
  },
  {
   "cell_type": "markdown",
   "id": "7593b192",
   "metadata": {},
   "source": [
    "### `(?<!\\S)bigram(?!\\S)`"
   ]
  },
  {
   "cell_type": "markdown",
   "id": "5ebc02c5",
   "metadata": {},
   "source": [
    "\n",
    "- (?<!\\S)：这是一个负向后查找断言（Negative Lookbehind Assertion），它确保模式左边没有非空白字符（\\S）。换句话说，它要求bigram的前面要么是字符串的开始，要么是一个空白字符。\n",
    "- (?!\\S)：这是一个负向前查找断言（Negative Lookahead Assertion），它确保模式右边没有非空白字符。它要求bigram的后面要么是字符串的结尾，要么是一个空白字符。\n",
    "\n",
    "- 综合来看，这个正则表达式旨在匹配整个字符串中独立的 'l\\ o' 片段，其中 'l\\ o' 前后不能有其他非空白字符，只能为结束，或者前后为空白。"
   ]
  },
  {
   "cell_type": "code",
   "execution_count": 6,
   "id": "d3fb48fd",
   "metadata": {
    "ExecuteTime": {
     "end_time": "2024-02-20T00:00:49.495761Z",
     "start_time": "2024-02-20T00:00:49.483667Z"
    }
   },
   "outputs": [
    {
     "data": {
      "text/plain": [
       "re.compile(r'(?<!\\S)apple(?!\\S)', re.UNICODE)"
      ]
     },
     "execution_count": 6,
     "metadata": {},
     "output_type": "execute_result"
    }
   ],
   "source": [
    "p = re.compile(r'(?<!\\S)' + 'apple' + r'(?!\\S)')\n",
    "p"
   ]
  },
  {
   "cell_type": "code",
   "execution_count": 7,
   "id": "8839ed0d",
   "metadata": {
    "ExecuteTime": {
     "end_time": "2024-02-20T00:01:00.960506Z",
     "start_time": "2024-02-20T00:01:00.953694Z"
    }
   },
   "outputs": [
    {
     "data": {
      "text/plain": [
       "<re.Match object; span=(7, 12), match='apple'>"
      ]
     },
     "execution_count": 7,
     "metadata": {},
     "output_type": "execute_result"
    }
   ],
   "source": [
    "p.search('apples apple pineapple')"
   ]
  },
  {
   "cell_type": "code",
   "execution_count": 8,
   "id": "eba7558a",
   "metadata": {
    "ExecuteTime": {
     "end_time": "2024-02-20T00:01:25.270344Z",
     "start_time": "2024-02-20T00:01:25.263530Z"
    }
   },
   "outputs": [
    {
     "data": {
      "text/plain": [
       "['apple']"
      ]
     },
     "execution_count": 8,
     "metadata": {},
     "output_type": "execute_result"
    }
   ],
   "source": [
    "p.findall('apples apple pineapple')"
   ]
  },
  {
   "cell_type": "code",
   "execution_count": null,
   "id": "a2b6e90b",
   "metadata": {},
   "outputs": [],
   "source": []
  }
 ],
 "metadata": {
  "kernelspec": {
   "display_name": "Python 3 (ipykernel)",
   "language": "python",
   "name": "python3"
  },
  "language_info": {
   "codemirror_mode": {
    "name": "ipython",
    "version": 3
   },
   "file_extension": ".py",
   "mimetype": "text/x-python",
   "name": "python",
   "nbconvert_exporter": "python",
   "pygments_lexer": "ipython3",
   "version": "3.10.13"
  },
  "toc": {
   "base_numbering": 1,
   "nav_menu": {},
   "number_sections": true,
   "sideBar": true,
   "skip_h1_title": false,
   "title_cell": "Table of Contents",
   "title_sidebar": "Contents",
   "toc_cell": false,
   "toc_position": {},
   "toc_section_display": true,
   "toc_window_display": false
  }
 },
 "nbformat": 4,
 "nbformat_minor": 5
}
