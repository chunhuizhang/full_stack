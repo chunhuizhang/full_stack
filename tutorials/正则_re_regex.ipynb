{
 "cells": [
  {
   "cell_type": "code",
   "execution_count": 1,
   "id": "a2df4d81",
   "metadata": {
    "ExecuteTime": {
     "end_time": "2023-07-15T10:59:23.777455Z",
     "start_time": "2023-07-15T10:59:23.683540Z"
    }
   },
   "outputs": [],
   "source": [
    "import re"
   ]
  },
  {
   "cell_type": "markdown",
   "id": "637cdfd9",
   "metadata": {},
   "source": [
    "- references\n",
    "    - https://regexr.com/"
   ]
  },
  {
   "cell_type": "markdown",
   "id": "8918f5c5",
   "metadata": {},
   "source": [
    "## baiscs"
   ]
  },
  {
   "cell_type": "markdown",
   "id": "b4a52555",
   "metadata": {},
   "source": [
    "- 开头和结尾匹配\n",
    "    - 开头： `^xxx`\n",
    "    - 结尾：`xxx$`\n",
    "- `\\`用于转义，\n",
    "    - 匹配 `$` 需要转义 `\\$`\n",
    "    - 匹配 `.` 需要转义 `\\.`\n",
    "- `\\s`: 匹配包括换行符\n",
    "- `\\d`与`\\w`\n",
    "    - `\\d`：digital，`0-9`\n",
    "    - `\\w`：`a-z, A-Z, 0-9, _`\n",
    "        - 不包括 `&`\n",
    "- 量词（quantifiers）\n",
    "    - *：0+\n",
    "    - ?：0/1\n",
    "    - +：1+\n",
    "    - {n}：exactly n occurrences"
   ]
  },
  {
   "cell_type": "markdown",
   "id": "70808ecf",
   "metadata": {},
   "source": [
    "## match"
   ]
  },
  {
   "cell_type": "markdown",
   "id": "75fe958c",
   "metadata": {},
   "source": [
    "- re.match 仅从头开始匹配\n",
    "- re.fullmatch 完整匹配"
   ]
  },
  {
   "cell_type": "code",
   "execution_count": 55,
   "id": "e3adbd61",
   "metadata": {
    "ExecuteTime": {
     "end_time": "2023-07-25T13:52:18.447811Z",
     "start_time": "2023-07-25T13:52:18.441765Z"
    }
   },
   "outputs": [],
   "source": [
    "urls = ['https://www.socratica.com', \n",
    "        'http://www.socratica.org', \n",
    "        'file://test.this.path', \n",
    "        'com.socratica.www.https://']"
   ]
  },
  {
   "cell_type": "markdown",
   "id": "51b62942",
   "metadata": {},
   "source": [
    "### re.match"
   ]
  },
  {
   "cell_type": "code",
   "execution_count": 51,
   "id": "2e36d0f9",
   "metadata": {
    "ExecuteTime": {
     "end_time": "2023-07-25T13:49:33.284919Z",
     "start_time": "2023-07-25T13:49:33.277508Z"
    }
   },
   "outputs": [
    {
     "name": "stdout",
     "output_type": "stream",
     "text": [
      "https://www.socratica.com\n",
      "http://www.socratica.org\n"
     ]
    }
   ],
   "source": [
    "regex = 'https?'\n",
    "for url in urls:\n",
    "    if re.match(regex, url):\n",
    "        print(url)"
   ]
  },
  {
   "cell_type": "markdown",
   "id": "0ad722a3",
   "metadata": {},
   "source": [
    "### fullmatch"
   ]
  },
  {
   "cell_type": "code",
   "execution_count": 54,
   "id": "81012b32",
   "metadata": {
    "ExecuteTime": {
     "end_time": "2023-07-25T13:51:59.836000Z",
     "start_time": "2023-07-25T13:51:59.827094Z"
    }
   },
   "outputs": [
    {
     "name": "stdout",
     "output_type": "stream",
     "text": [
      "https://www.socratica.com\n",
      "http://www.socratica.org\n"
     ]
    }
   ],
   "source": [
    "regex = 'https?://w{3}.\\w+.(org|com)'\n",
    "for url in urls:\n",
    "    if re.fullmatch(regex, url):\n",
    "        print(url)"
   ]
  },
  {
   "cell_type": "markdown",
   "id": "d663775c",
   "metadata": {},
   "source": [
    "## `re.search` 与 `re.findall`"
   ]
  },
  {
   "cell_type": "markdown",
   "id": "6f770b2c",
   "metadata": {},
   "source": [
    "- `re.findall`：返回的是 list"
   ]
  },
  {
   "cell_type": "code",
   "execution_count": 2,
   "id": "9b95be6c",
   "metadata": {
    "ExecuteTime": {
     "end_time": "2023-07-15T10:59:26.980557Z",
     "start_time": "2023-07-15T10:59:26.971983Z"
    }
   },
   "outputs": [],
   "source": [
    "s = \"The bottle of water costs $3.24 and that's outrageous... it's like 3x what it should be!\""
   ]
  },
  {
   "cell_type": "code",
   "execution_count": 4,
   "id": "352ff941",
   "metadata": {
    "ExecuteTime": {
     "end_time": "2023-07-15T11:00:13.611368Z",
     "start_time": "2023-07-15T11:00:13.601590Z"
    }
   },
   "outputs": [
    {
     "data": {
      "text/plain": [
       "['3.24']"
      ]
     },
     "execution_count": 4,
     "metadata": {},
     "output_type": "execute_result"
    }
   ],
   "source": [
    "regex = '\\$\\s*(\\d+\\.\\d+)\\W*'\n",
    "re.findall(regex, s)"
   ]
  },
  {
   "cell_type": "markdown",
   "id": "6be264bd",
   "metadata": {},
   "source": [
    "### re.search"
   ]
  },
  {
   "cell_type": "code",
   "execution_count": 23,
   "id": "db31a97c",
   "metadata": {
    "ExecuteTime": {
     "end_time": "2023-07-25T13:24:18.567305Z",
     "start_time": "2023-07-25T13:24:18.560798Z"
    }
   },
   "outputs": [],
   "source": [
    "names = ['Finn  Bindeballe', \n",
    "         'Geir Anders Berge', \n",
    "         'HappyCodingRobot', \n",
    "         'Ron   Cromberge', \n",
    "         'Sohil']"
   ]
  },
  {
   "cell_type": "code",
   "execution_count": 24,
   "id": "cf15c640",
   "metadata": {
    "ExecuteTime": {
     "end_time": "2023-07-25T13:24:19.657006Z",
     "start_time": "2023-07-25T13:24:19.648889Z"
    },
    "scrolled": true
   },
   "outputs": [
    {
     "name": "stdout",
     "output_type": "stream",
     "text": [
      "Finn  Bindeballe\n",
      "Ron   Cromberge\n"
     ]
    }
   ],
   "source": [
    "# 有名有姓\n",
    "regex = '^\\w+\\s+\\w+$'\n",
    "for name in names:\n",
    "    res = re.search(regex, name)\n",
    "    # 表示匹配上\n",
    "    if res:\n",
    "        print(name)"
   ]
  },
  {
   "cell_type": "code",
   "execution_count": 32,
   "id": "ea896d77",
   "metadata": {
    "ExecuteTime": {
     "end_time": "2023-07-25T13:27:57.624776Z",
     "start_time": "2023-07-25T13:27:57.615557Z"
    }
   },
   "outputs": [
    {
     "name": "stdout",
     "output_type": "stream",
     "text": [
      "HappyCodingRobot\n",
      "5 16 CodingRobot\n",
      "(5, 16) CodingRobot CodingRobot\n",
      "Ron   Cromberge\n",
      "6 15 Cromberge\n",
      "(6, 15) Cromberge Cromberge\n"
     ]
    }
   ],
   "source": [
    "regex = 'C\\w*'\n",
    "for name in names:\n",
    "    res = re.search(regex, name)\n",
    "    if res:\n",
    "        print(name)\n",
    "        print(res.start(), res.end(), name[res.start():res.end()], )\n",
    "        print(res.span(), res.group(), res.group(0), )"
   ]
  },
  {
   "cell_type": "markdown",
   "id": "bbdeb584",
   "metadata": {},
   "source": [
    "### findall"
   ]
  },
  {
   "cell_type": "code",
   "execution_count": 40,
   "id": "5cdd18fe",
   "metadata": {
    "ExecuteTime": {
     "end_time": "2023-07-25T13:45:24.079277Z",
     "start_time": "2023-07-25T13:45:24.072902Z"
    }
   },
   "outputs": [],
   "source": [
    "names = ['Brian Daugette', \n",
    "         'Veronica Supersonica', \n",
    "         'Tony Gasparovic', \n",
    "         'Patrick Germann', \n",
    "         'm!sha']"
   ]
  },
  {
   "cell_type": "code",
   "execution_count": 41,
   "id": "c7ef254d",
   "metadata": {
    "ExecuteTime": {
     "end_time": "2023-07-25T13:45:54.972748Z",
     "start_time": "2023-07-25T13:45:54.963225Z"
    }
   },
   "outputs": [
    {
     "name": "stdout",
     "output_type": "stream",
     "text": [
      "['rian', 'augette']\n",
      "['eronica', 'upersonica']\n",
      "['ony', 'asparovic']\n",
      "['atrick', 'ermann']\n",
      "['m', 'sha']\n"
     ]
    }
   ],
   "source": [
    "regex = '[a-z]+'\n",
    "for name in names:\n",
    "    matches = re.findall(regex, name)\n",
    "    if matches:\n",
    "        print(matches)"
   ]
  },
  {
   "cell_type": "code",
   "execution_count": 46,
   "id": "70676a89",
   "metadata": {
    "ExecuteTime": {
     "end_time": "2023-07-25T13:47:02.449121Z",
     "start_time": "2023-07-25T13:47:02.440991Z"
    }
   },
   "outputs": [
    {
     "name": "stdout",
     "output_type": "stream",
     "text": [
      "<re.Match object; span=(1, 5), match='rian'>\n",
      "<re.Match object; span=(7, 14), match='augette'>\n",
      "<re.Match object; span=(1, 8), match='eronica'>\n",
      "<re.Match object; span=(10, 20), match='upersonica'>\n",
      "<re.Match object; span=(1, 4), match='ony'>\n",
      "<re.Match object; span=(6, 15), match='asparovic'>\n",
      "<re.Match object; span=(1, 7), match='atrick'>\n",
      "<re.Match object; span=(9, 15), match='ermann'>\n",
      "<re.Match object; span=(0, 1), match='m'>\n",
      "<re.Match object; span=(2, 5), match='sha'>\n"
     ]
    }
   ],
   "source": [
    "regex = '[a-z]+'\n",
    "for name in names:\n",
    "    matches = re.finditer(regex, name)\n",
    "    if matches:\n",
    "        for match in matches:\n",
    "            print(match)"
   ]
  },
  {
   "cell_type": "markdown",
   "id": "5c637868",
   "metadata": {},
   "source": [
    "## cases"
   ]
  },
  {
   "cell_type": "markdown",
   "id": "8b9b5198",
   "metadata": {},
   "source": [
    "### re.search"
   ]
  },
  {
   "cell_type": "code",
   "execution_count": 12,
   "id": "f9197d5e",
   "metadata": {
    "ExecuteTime": {
     "end_time": "2023-07-25T13:12:04.088250Z",
     "start_time": "2023-07-25T13:12:04.079114Z"
    }
   },
   "outputs": [
    {
     "name": "stdout",
     "output_type": "stream",
     "text": [
      "[cus_Y4o9qMEZAugtnW] [cus_Y4o9qMEZAugtnW]\n",
      "cus_Y4o9qMEZAugtnW\n"
     ]
    }
   ],
   "source": [
    "import re\n",
    "\n",
    "s = \"alpha.Customer[cus_Y4o9qMEZAugtnW] ...\"\n",
    "match = re.search(r\"\\[([A-Za-z0-9_]+)\\]\", s)\n",
    "# match.group() == match.group(0)，整体正则的匹配\n",
    "print(match.group(), match.group(0))\n",
    "# match.group(1)：返回的第一个 `()` 包起来的内容\n",
    "print(match.group(1))"
   ]
  },
  {
   "cell_type": "markdown",
   "id": "54c3f02f",
   "metadata": {},
   "source": [
    "### groups"
   ]
  },
  {
   "cell_type": "code",
   "execution_count": 33,
   "id": "611a7ee9",
   "metadata": {
    "ExecuteTime": {
     "end_time": "2023-07-25T13:31:24.786680Z",
     "start_time": "2023-07-25T13:31:24.780434Z"
    }
   },
   "outputs": [],
   "source": [
    "names = ['Brian Daugette', \n",
    "         'Veronica Supersonica', \n",
    "         'Tony Gasparovic', \n",
    "         'Patrick Germann', \n",
    "         'm!sha']"
   ]
  },
  {
   "cell_type": "code",
   "execution_count": 34,
   "id": "e591a2a1",
   "metadata": {
    "ExecuteTime": {
     "end_time": "2023-07-25T13:32:01.980227Z",
     "start_time": "2023-07-25T13:32:01.971724Z"
    }
   },
   "outputs": [
    {
     "name": "stdout",
     "output_type": "stream",
     "text": [
      "Brian Daugette\n",
      "Veronica Supersonica\n",
      "Tony Gasparovic\n",
      "Patrick Germann\n"
     ]
    }
   ],
   "source": [
    "regex = '^\\w+\\s+\\w+$'\n",
    "for name in names:\n",
    "    match = re.search(regex, name)\n",
    "    if match:\n",
    "        print(name)"
   ]
  },
  {
   "cell_type": "code",
   "execution_count": 36,
   "id": "0759dcf9",
   "metadata": {
    "ExecuteTime": {
     "end_time": "2023-07-25T13:33:31.498041Z",
     "start_time": "2023-07-25T13:33:31.489617Z"
    },
    "scrolled": true
   },
   "outputs": [
    {
     "name": "stdout",
     "output_type": "stream",
     "text": [
      "first name: Brian, last name: Daugette\n",
      "first name: Veronica, last name: Supersonica\n",
      "first name: Tony, last name: Gasparovic\n",
      "first name: Patrick, last name: Germann\n"
     ]
    }
   ],
   "source": [
    "regex = '^(\\w+)\\s+(\\w+)$'\n",
    "for name in names:\n",
    "    match = re.search(regex, name)\n",
    "    if match:\n",
    "        print(f'first name: {match.group(1)}, last name: {match.group(2)}')"
   ]
  },
  {
   "cell_type": "code",
   "execution_count": 39,
   "id": "3481614d",
   "metadata": {
    "ExecuteTime": {
     "end_time": "2023-07-25T13:34:46.360337Z",
     "start_time": "2023-07-25T13:34:46.351684Z"
    }
   },
   "outputs": [
    {
     "name": "stdout",
     "output_type": "stream",
     "text": [
      "first name: Brian, last name: Daugette\n",
      "first name: Veronica, last name: Supersonica\n",
      "first name: Tony, last name: Gasparovic\n",
      "first name: Patrick, last name: Germann\n"
     ]
    }
   ],
   "source": [
    "regex = '^(?P<fn>\\w+)\\s+(?P<ln>\\w+)$'\n",
    "for name in names:\n",
    "    match = re.search(regex, name)\n",
    "    if match:\n",
    "        print(f'first name: {match.group(\"fn\")}, last name: {match.group(\"ln\")}')"
   ]
  }
 ],
 "metadata": {
  "kernelspec": {
   "display_name": "Python 3 (ipykernel)",
   "language": "python",
   "name": "python3"
  },
  "language_info": {
   "codemirror_mode": {
    "name": "ipython",
    "version": 3
   },
   "file_extension": ".py",
   "mimetype": "text/x-python",
   "name": "python",
   "nbconvert_exporter": "python",
   "pygments_lexer": "ipython3",
   "version": "3.10.9"
  },
  "toc": {
   "base_numbering": 1,
   "nav_menu": {},
   "number_sections": true,
   "sideBar": true,
   "skip_h1_title": false,
   "title_cell": "Table of Contents",
   "title_sidebar": "Contents",
   "toc_cell": false,
   "toc_position": {
    "height": "calc(100% - 180px)",
    "left": "10px",
    "top": "150px",
    "width": "206px"
   },
   "toc_section_display": true,
   "toc_window_display": true
  }
 },
 "nbformat": 4,
 "nbformat_minor": 5
}
