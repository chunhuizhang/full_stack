{
 "cells": [
  {
   "cell_type": "code",
   "execution_count": 1,
   "id": "a2df4d81",
   "metadata": {
    "ExecuteTime": {
     "end_time": "2023-12-28T14:20:57.274234Z",
     "start_time": "2023-12-28T14:20:57.261998Z"
    }
   },
   "outputs": [],
   "source": [
    "import re"
   ]
  },
  {
   "cell_type": "markdown",
   "id": "6752202f",
   "metadata": {},
   "source": [
    "- references\n",
    "    - https://regexr.com/"
   ]
  },
  {
   "cell_type": "markdown",
   "id": "8918f5c5",
   "metadata": {},
   "source": [
    "## baiscs"
   ]
  },
  {
   "cell_type": "markdown",
   "id": "b4a52555",
   "metadata": {},
   "source": [
    "- 开头和结尾匹配\n",
    "    - 开头： `^xxx`\n",
    "    - 结尾：`xxx$`\n",
    "    - `^(?!str)`：不以开头；\n",
    "        - `?!` 这里是否定向前查询\n",
    "    - `(?<!str)$`：不以结束；\n",
    "        - `?<!`否定式向后查询\n",
    "- `\\`用于转义，\n",
    "    - 匹配 `$` 需要转义 `\\$`\n",
    "    - 匹配 `.` 需要转义 `\\.`\n",
    "\n",
    "- `\\d`与`\\w`\n",
    "    - `\\d`：digital，`0-9`\n",
    "    - `\\w`：`a-z, A-Z, 0-9, _`\n",
    "        - 不包括 `&`\n",
    "- `\\b`与`\\B`：元字符（我理解是 boundary 的含义）\n",
    "- 量词（quantifiers）\n",
    "    - *：0+\n",
    "    - ?：0/1，有或无\n",
    "    - +：1+\n",
    "    - {n}：exactly n occurrences\n",
    "- 惰性匹配（laziness）\n",
    "    - greedy vs. lazy (non-greedy)\n",
    "    - 量词 `'*'`, `'+'`, and `'?'`：都是 greedy 的，尽可能多地匹配\n",
    "    - `.*?`：但是加个问号（`?`）就会变成 non-greedy 的；\n",
    "\n",
    "- `.`与`*`\n",
    "    - 在正则中是量词，不是通配符，反而通配符是 `.`\n",
    "    - `\\s`: 匹配包括换行符\n",
    "- `( 和 )`: 这对括号定义了一个捕获组（capturing group）。捕获组可以记住正则表达式的一部分匹配结果，方便之后的提取或引用。"
   ]
  },
  {
   "cell_type": "markdown",
   "id": "c86484de",
   "metadata": {},
   "source": [
    "### python api 整体介绍"
   ]
  },
  {
   "cell_type": "markdown",
   "id": "a8fa3f83",
   "metadata": {},
   "source": [
    "- re.findall()\n",
    "    - 返回的是 list；\n",
    "    - 从一个长 string 中提取所有能 match 上这个 regexr 的 substrings；\n",
    "        - regex 其实是某种意义上的占位符或template；"
   ]
  },
  {
   "cell_type": "markdown",
   "id": "95cf6a4b",
   "metadata": {},
   "source": [
    "### `^(?!str)` vs. `(?<!str)$`"
   ]
  },
  {
   "cell_type": "code",
   "execution_count": 40,
   "id": "90a22385",
   "metadata": {
    "ExecuteTime": {
     "end_time": "2023-10-28T07:51:23.104794Z",
     "start_time": "2023-10-28T07:51:23.098088Z"
    }
   },
   "outputs": [],
   "source": [
    "urls = ['https://www.socratica.com', \n",
    "        'http://www.socratica.org', \n",
    "        'http://www.abc.bcd.org', \n",
    "        'file://test.this.path', \n",
    "        'com.socratica.www.https://']"
   ]
  },
  {
   "cell_type": "code",
   "execution_count": 42,
   "id": "ccfa567c",
   "metadata": {
    "ExecuteTime": {
     "end_time": "2023-10-28T07:51:56.963669Z",
     "start_time": "2023-10-28T07:51:56.955057Z"
    }
   },
   "outputs": [
    {
     "name": "stdout",
     "output_type": "stream",
     "text": [
      "None\n",
      "None\n",
      "None\n",
      "<re.Match object; span=(0, 0), match=''>\n",
      "<re.Match object; span=(0, 0), match=''>\n"
     ]
    }
   ],
   "source": [
    "for url in urls:\n",
    "    print(re.search('^(?!http)', url))"
   ]
  },
  {
   "cell_type": "code",
   "execution_count": 43,
   "id": "cdd37143",
   "metadata": {
    "ExecuteTime": {
     "end_time": "2023-10-28T07:53:06.957993Z",
     "start_time": "2023-10-28T07:53:06.949973Z"
    }
   },
   "outputs": [
    {
     "name": "stdout",
     "output_type": "stream",
     "text": [
      "<re.Match object; span=(25, 25), match=''>\n",
      "None\n",
      "None\n",
      "<re.Match object; span=(21, 21), match=''>\n",
      "<re.Match object; span=(26, 26), match=''>\n"
     ]
    }
   ],
   "source": [
    "for url in urls:\n",
    "    print(re.search('(?<!org)$', url))"
   ]
  },
  {
   "cell_type": "code",
   "execution_count": 58,
   "id": "7768ede9",
   "metadata": {
    "ExecuteTime": {
     "end_time": "2023-10-28T08:12:54.351034Z",
     "start_time": "2023-10-28T08:12:54.343458Z"
    }
   },
   "outputs": [
    {
     "name": "stdout",
     "output_type": "stream",
     "text": [
      "https://www.socratica.com\n",
      "file://test.this.path\n",
      "com.socratica.www.https://\n"
     ]
    }
   ],
   "source": [
    "for url in urls:\n",
    "    if re.search('(?<!org)$', url):\n",
    "        print(url)"
   ]
  },
  {
   "cell_type": "markdown",
   "id": "c4d334fc",
   "metadata": {},
   "source": [
    "### `\\b` 与 `\\B`：单词边界（boundary）"
   ]
  },
  {
   "cell_type": "code",
   "execution_count": 26,
   "id": "41d2ba3e",
   "metadata": {
    "ExecuteTime": {
     "end_time": "2023-10-26T14:49:41.319146Z",
     "start_time": "2023-10-26T14:49:41.310784Z"
    }
   },
   "outputs": [
    {
     "data": {
      "text/plain": [
       "<re.Match object; span=(5, 10), match='world'>"
      ]
     },
     "execution_count": 26,
     "metadata": {},
     "output_type": "execute_result"
    }
   ],
   "source": [
    "re.search(r'\\Bworld\\B', 'helloworlds')"
   ]
  },
  {
   "cell_type": "code",
   "execution_count": 60,
   "id": "c81bcf41",
   "metadata": {
    "ExecuteTime": {
     "end_time": "2023-10-28T08:13:55.822226Z",
     "start_time": "2023-10-28T08:13:55.812631Z"
    }
   },
   "outputs": [
    {
     "data": {
      "text/plain": [
       "<re.Match object; span=(5, 10), match='world'>"
      ]
     },
     "execution_count": 60,
     "metadata": {},
     "output_type": "execute_result"
    }
   ],
   "source": [
    "re.search(r'\\Bworld\\b', 'helloworld ')"
   ]
  },
  {
   "cell_type": "code",
   "execution_count": 61,
   "id": "cb259781",
   "metadata": {
    "ExecuteTime": {
     "end_time": "2023-10-28T08:14:00.702542Z",
     "start_time": "2023-10-28T08:14:00.692097Z"
    }
   },
   "outputs": [
    {
     "data": {
      "text/plain": [
       "<re.Match object; span=(5, 10), match='world'>"
      ]
     },
     "execution_count": 61,
     "metadata": {},
     "output_type": "execute_result"
    }
   ],
   "source": [
    "re.search(r'\\Bworld\\b', 'helloworld')"
   ]
  },
  {
   "cell_type": "code",
   "execution_count": 28,
   "id": "79983a21",
   "metadata": {
    "ExecuteTime": {
     "end_time": "2023-10-26T14:50:24.407731Z",
     "start_time": "2023-10-26T14:50:24.398341Z"
    }
   },
   "outputs": [
    {
     "data": {
      "text/plain": [
       "<re.Match object; span=(6, 11), match='world'>"
      ]
     },
     "execution_count": 28,
     "metadata": {},
     "output_type": "execute_result"
    }
   ],
   "source": [
    "re.search(r'\\bworld\\B', 'hello worlds')"
   ]
  },
  {
   "cell_type": "code",
   "execution_count": 62,
   "id": "e420dfdb",
   "metadata": {
    "ExecuteTime": {
     "end_time": "2023-10-28T08:14:28.929631Z",
     "start_time": "2023-10-28T08:14:28.919945Z"
    }
   },
   "outputs": [
    {
     "data": {
      "text/plain": [
       "<re.Match object; span=(6, 11), match='world'>"
      ]
     },
     "execution_count": 62,
     "metadata": {},
     "output_type": "execute_result"
    }
   ],
   "source": [
    "re.search(r'\\bworld\\b', 'hello world ')"
   ]
  },
  {
   "cell_type": "code",
   "execution_count": 67,
   "id": "32b139cc",
   "metadata": {
    "ExecuteTime": {
     "end_time": "2023-10-28T08:15:14.400806Z",
     "start_time": "2023-10-28T08:15:14.390432Z"
    }
   },
   "outputs": [
    {
     "data": {
      "text/plain": [
       "['hello', 'world', 'hello', 'china', 'hello']"
      ]
     },
     "execution_count": 67,
     "metadata": {},
     "output_type": "execute_result"
    }
   ],
   "source": [
    "re.findall(r'\\b\\w+\\b', 'hello world hello china hello')"
   ]
  },
  {
   "cell_type": "markdown",
   "id": "b8b1ce4a",
   "metadata": {},
   "source": [
    "### non-greedy or lazy"
   ]
  },
  {
   "cell_type": "code",
   "execution_count": 68,
   "id": "372cf4c6",
   "metadata": {
    "ExecuteTime": {
     "end_time": "2023-10-28T08:16:12.603901Z",
     "start_time": "2023-10-28T08:16:12.593146Z"
    }
   },
   "outputs": [
    {
     "data": {
      "text/plain": [
       "'(b) c (d)'"
      ]
     },
     "execution_count": 68,
     "metadata": {},
     "output_type": "execute_result"
    }
   ],
   "source": [
    "x = \"a (b) c (d) e\"\n",
    "# greedy\n",
    "re.search(r'\\(.*\\)', x).group()"
   ]
  },
  {
   "cell_type": "code",
   "execution_count": 69,
   "id": "cf1a3c41",
   "metadata": {
    "ExecuteTime": {
     "end_time": "2023-10-28T08:16:25.944534Z",
     "start_time": "2023-10-28T08:16:25.934880Z"
    }
   },
   "outputs": [
    {
     "data": {
      "text/plain": [
       "'(b)'"
      ]
     },
     "execution_count": 69,
     "metadata": {},
     "output_type": "execute_result"
    }
   ],
   "source": [
    "x = \"a (b) c (d) e\"\n",
    "# non-greedy or lazy\n",
    "re.search(r'\\(.*?\\)', x).group()"
   ]
  },
  {
   "cell_type": "code",
   "execution_count": 70,
   "id": "a097f64e",
   "metadata": {
    "ExecuteTime": {
     "end_time": "2023-10-28T08:16:39.406415Z",
     "start_time": "2023-10-28T08:16:39.394954Z"
    }
   },
   "outputs": [
    {
     "data": {
      "text/plain": [
       "['(b)', '(d)']"
      ]
     },
     "execution_count": 70,
     "metadata": {},
     "output_type": "execute_result"
    }
   ],
   "source": [
    "x = \"a (b) c (d) e\"\n",
    "# non-greedy or lazy\n",
    "re.findall(r'\\(.*?\\)', x)"
   ]
  },
  {
   "cell_type": "code",
   "execution_count": 71,
   "id": "a2aea6ff",
   "metadata": {
    "ExecuteTime": {
     "end_time": "2023-10-28T08:16:59.320610Z",
     "start_time": "2023-10-28T08:16:59.310698Z"
    }
   },
   "outputs": [
    {
     "data": {
      "text/plain": [
       "'<H1>Title</H1>'"
      ]
     },
     "execution_count": 71,
     "metadata": {},
     "output_type": "execute_result"
    }
   ],
   "source": [
    "s = '<H1>Title</H1>'\n",
    "re.search(r'\\<.*\\>', s).group()"
   ]
  },
  {
   "cell_type": "code",
   "execution_count": 72,
   "id": "9058cadf",
   "metadata": {
    "ExecuteTime": {
     "end_time": "2023-10-28T08:17:12.570610Z",
     "start_time": "2023-10-28T08:17:12.560146Z"
    }
   },
   "outputs": [
    {
     "data": {
      "text/plain": [
       "'<H1>'"
      ]
     },
     "execution_count": 72,
     "metadata": {},
     "output_type": "execute_result"
    }
   ],
   "source": [
    "s = '<H1>Title</H1>'\n",
    "re.search(r'\\<.*?\\>', s).group()"
   ]
  },
  {
   "cell_type": "code",
   "execution_count": 73,
   "id": "f4b00276",
   "metadata": {
    "ExecuteTime": {
     "end_time": "2023-10-28T08:17:34.268126Z",
     "start_time": "2023-10-28T08:17:34.260131Z"
    }
   },
   "outputs": [
    {
     "name": "stdout",
     "output_type": "stream",
     "text": [
      "<re.Match object; span=(2, 5), match='(b)'> (b)\n",
      "<re.Match object; span=(8, 11), match='(d)'> (d)\n"
     ]
    }
   ],
   "source": [
    "x = \"a (b) c (d) e\"\n",
    "matches = re.finditer(r'\\(.*?\\)', x)\n",
    "for match in matches:\n",
    "    print(match, match.group())"
   ]
  },
  {
   "cell_type": "code",
   "execution_count": 76,
   "id": "8f8a8c35",
   "metadata": {
    "ExecuteTime": {
     "end_time": "2023-10-28T08:18:35.642638Z",
     "start_time": "2023-10-28T08:18:35.633933Z"
    }
   },
   "outputs": [
    {
     "name": "stdout",
     "output_type": "stream",
     "text": [
      "\"submit\"\n",
      "\"btn\"\n"
     ]
    }
   ],
   "source": [
    "s = '<button type=\"submit\" class=\"btn\">Send</button>'\n",
    "\n",
    "pattern = '\".+?\"'\n",
    "matches = re.finditer(pattern, s)\n",
    "\n",
    "for match in matches:\n",
    "    print(match.group())"
   ]
  },
  {
   "cell_type": "markdown",
   "id": "086eec21",
   "metadata": {},
   "source": [
    "- r'[A-Z]+?' 中：\n",
    "    - `[A-Z]` 匹配任意一个大写字母。\n",
    "    - `+?` 表示匹配一次或多次大写字母，但尽可能少地匹配。"
   ]
  },
  {
   "cell_type": "code",
   "execution_count": 2,
   "id": "aa38870f",
   "metadata": {
    "ExecuteTime": {
     "end_time": "2023-11-07T15:24:52.171669Z",
     "start_time": "2023-11-07T15:24:52.156517Z"
    }
   },
   "outputs": [
    {
     "data": {
      "text/plain": [
       "['H', 'W', 'T', 'E', 'U', 'P', 'P', 'E', 'R', 'C', 'A', 'S', 'E', 'L']"
      ]
     },
     "execution_count": 2,
     "metadata": {},
     "output_type": "execute_result"
    }
   ],
   "source": [
    "text = \"Hello World! This is an Example with some UPPERCASE Letters.\"\n",
    "re.findall(r'[A-Z]', text)"
   ]
  },
  {
   "cell_type": "code",
   "execution_count": 3,
   "id": "4db3ca47",
   "metadata": {
    "ExecuteTime": {
     "end_time": "2023-11-07T15:25:11.029666Z",
     "start_time": "2023-11-07T15:25:11.020515Z"
    }
   },
   "outputs": [
    {
     "data": {
      "text/plain": [
       "['H', 'W', 'T', 'E', 'UPPERCASE', 'L']"
      ]
     },
     "execution_count": 3,
     "metadata": {},
     "output_type": "execute_result"
    }
   ],
   "source": [
    "re.findall(r'[A-Z]+', text)"
   ]
  },
  {
   "cell_type": "code",
   "execution_count": 4,
   "id": "19bf78ba",
   "metadata": {
    "ExecuteTime": {
     "end_time": "2023-11-07T15:25:12.792836Z",
     "start_time": "2023-11-07T15:25:12.785298Z"
    }
   },
   "outputs": [
    {
     "data": {
      "text/plain": [
       "['H', 'W', 'T', 'E', 'U', 'P', 'P', 'E', 'R', 'C', 'A', 'S', 'E', 'L']"
      ]
     },
     "execution_count": 4,
     "metadata": {},
     "output_type": "execute_result"
    }
   ],
   "source": [
    "re.findall(r'[A-Z]+?', text)"
   ]
  },
  {
   "cell_type": "markdown",
   "id": "70808ecf",
   "metadata": {},
   "source": [
    "## match"
   ]
  },
  {
   "cell_type": "markdown",
   "id": "b2032f5f",
   "metadata": {},
   "source": [
    "- re.match 仅从头开始匹配: `^pattern`\n",
    "- re.fullmatch 完整匹配"
   ]
  },
  {
   "cell_type": "code",
   "execution_count": 28,
   "id": "5ec1ff23",
   "metadata": {
    "ExecuteTime": {
     "end_time": "2023-10-28T07:42:30.044299Z",
     "start_time": "2023-10-28T07:42:30.037875Z"
    }
   },
   "outputs": [],
   "source": [
    "urls = ['https://www.socratica.com', \n",
    "        'http://www.socratica.org', \n",
    "        'http://www.abc.bcd.org', \n",
    "        'file://test.this.path', \n",
    "        'com.socratica.www.https://']"
   ]
  },
  {
   "cell_type": "markdown",
   "id": "d18d620d",
   "metadata": {},
   "source": [
    "### re.match"
   ]
  },
  {
   "cell_type": "code",
   "execution_count": 29,
   "id": "8d7e3f86",
   "metadata": {
    "ExecuteTime": {
     "end_time": "2023-10-28T07:42:31.103083Z",
     "start_time": "2023-10-28T07:42:31.095725Z"
    }
   },
   "outputs": [
    {
     "name": "stdout",
     "output_type": "stream",
     "text": [
      "https://www.socratica.com\n",
      "http://www.socratica.org\n",
      "http://www.abc.bcd.org\n"
     ]
    }
   ],
   "source": [
    "regex = 'https?'\n",
    "for url in urls:\n",
    "    if re.match(regex, url):\n",
    "        print(url)"
   ]
  },
  {
   "cell_type": "code",
   "execution_count": 35,
   "id": "3ef133be",
   "metadata": {
    "ExecuteTime": {
     "end_time": "2023-10-28T07:43:45.112697Z",
     "start_time": "2023-10-28T07:43:45.104089Z"
    }
   },
   "outputs": [
    {
     "name": "stdout",
     "output_type": "stream",
     "text": [
      "https://www.socratica.com\n",
      "http://www.socratica.org\n",
      "http://www.abc.bcd.org\n"
     ]
    }
   ],
   "source": [
    "regex = '^https?'\n",
    "for url in urls:\n",
    "    if re.search(regex, url):\n",
    "#         print(re.search(regex, url))\n",
    "        print(url)"
   ]
  },
  {
   "cell_type": "markdown",
   "id": "0ad722a3",
   "metadata": {},
   "source": [
    "### fullmatch"
   ]
  },
  {
   "cell_type": "code",
   "execution_count": 79,
   "id": "f04bb978",
   "metadata": {
    "ExecuteTime": {
     "end_time": "2023-10-28T08:22:26.153298Z",
     "start_time": "2023-10-28T08:22:26.144927Z"
    }
   },
   "outputs": [
    {
     "name": "stdout",
     "output_type": "stream",
     "text": [
      "https://www.socratica.com\n",
      "http://www.socratica.org\n"
     ]
    }
   ],
   "source": [
    "# (^ $)\n",
    "regex = 'https?://w{3}.\\w+.(org|com)'\n",
    "for url in urls:\n",
    "    if re.fullmatch(regex, url):\n",
    "        print(url)"
   ]
  },
  {
   "cell_type": "markdown",
   "id": "d663775c",
   "metadata": {},
   "source": [
    "## `re.search` 与 `re.findall`"
   ]
  },
  {
   "cell_type": "markdown",
   "id": "6f770b2c",
   "metadata": {},
   "source": [
    "- `re.findall`：返回的是 list\n",
    "- `re.search`: 返回的是 re.Match"
   ]
  },
  {
   "cell_type": "code",
   "execution_count": 77,
   "id": "9b95be6c",
   "metadata": {
    "ExecuteTime": {
     "end_time": "2023-10-28T08:21:26.543068Z",
     "start_time": "2023-10-28T08:21:26.536666Z"
    }
   },
   "outputs": [],
   "source": [
    "s = \"The bottle of water costs $ 3.24 and that's outrageous... it's like 3x what it should be!\""
   ]
  },
  {
   "cell_type": "code",
   "execution_count": 78,
   "id": "352ff941",
   "metadata": {
    "ExecuteTime": {
     "end_time": "2023-10-28T08:21:27.521582Z",
     "start_time": "2023-10-28T08:21:27.511653Z"
    }
   },
   "outputs": [
    {
     "data": {
      "text/plain": [
       "['3.24']"
      ]
     },
     "execution_count": 78,
     "metadata": {},
     "output_type": "execute_result"
    }
   ],
   "source": [
    "regex = '\\$\\s*(\\d+\\.\\d+)\\W*'\n",
    "re.findall(regex, s)"
   ]
  },
  {
   "cell_type": "markdown",
   "id": "13276cb6",
   "metadata": {},
   "source": [
    "### re.search"
   ]
  },
  {
   "cell_type": "code",
   "execution_count": 81,
   "id": "be142193",
   "metadata": {
    "ExecuteTime": {
     "end_time": "2023-10-28T08:23:25.818611Z",
     "start_time": "2023-10-28T08:23:25.812028Z"
    }
   },
   "outputs": [],
   "source": [
    "names = ['Finn  Bindeballe', \n",
    "         'Geir Anders Berge', \n",
    "         'HappyCodingRobot', \n",
    "         'Ron   Cromberge', \n",
    "         'Sohil']"
   ]
  },
  {
   "cell_type": "code",
   "execution_count": 24,
   "id": "0f24f0ff",
   "metadata": {
    "ExecuteTime": {
     "end_time": "2023-07-25T13:24:19.657006Z",
     "start_time": "2023-07-25T13:24:19.648889Z"
    },
    "scrolled": true
   },
   "outputs": [
    {
     "name": "stdout",
     "output_type": "stream",
     "text": [
      "Finn  Bindeballe\n",
      "Ron   Cromberge\n"
     ]
    }
   ],
   "source": [
    "# 有名有姓\n",
    "regex = '^\\w+\\s+\\w+$'\n",
    "for name in names:\n",
    "    res = re.search(regex, name)\n",
    "    # 表示匹配上\n",
    "    if res:\n",
    "        print(name)"
   ]
  },
  {
   "cell_type": "code",
   "execution_count": 82,
   "id": "379cd4b4",
   "metadata": {
    "ExecuteTime": {
     "end_time": "2023-10-28T08:23:27.571924Z",
     "start_time": "2023-10-28T08:23:27.562335Z"
    }
   },
   "outputs": [
    {
     "name": "stdout",
     "output_type": "stream",
     "text": [
      "HappyCodingRobot\n",
      "<re.Match object; span=(5, 16), match='CodingRobot'> 5 16 CodingRobot\n",
      "(5, 16) CodingRobot CodingRobot\n",
      "Ron   Cromberge\n",
      "<re.Match object; span=(6, 15), match='Cromberge'> 6 15 Cromberge\n",
      "(6, 15) Cromberge Cromberge\n"
     ]
    }
   ],
   "source": [
    "regex = 'C\\w*'\n",
    "for name in names:\n",
    "    res = re.search(regex, name)\n",
    "    if res:\n",
    "        print(name)\n",
    "        print(res, res.start(), res.end(), name[res.start():res.end()], )\n",
    "        print(res.span(), res.group(), res.group(0), )"
   ]
  },
  {
   "cell_type": "markdown",
   "id": "d1c7443c",
   "metadata": {},
   "source": [
    "### findall"
   ]
  },
  {
   "cell_type": "code",
   "execution_count": 40,
   "id": "396364c1",
   "metadata": {
    "ExecuteTime": {
     "end_time": "2023-07-25T13:45:24.079277Z",
     "start_time": "2023-07-25T13:45:24.072902Z"
    }
   },
   "outputs": [],
   "source": [
    "names = ['Brian Daugette', \n",
    "         'Veronica Supersonica', \n",
    "         'Tony Gasparovic', \n",
    "         'Patrick Germann', \n",
    "         'm!sha']"
   ]
  },
  {
   "cell_type": "code",
   "execution_count": 41,
   "id": "5f44c35a",
   "metadata": {
    "ExecuteTime": {
     "end_time": "2023-07-25T13:45:54.972748Z",
     "start_time": "2023-07-25T13:45:54.963225Z"
    }
   },
   "outputs": [
    {
     "name": "stdout",
     "output_type": "stream",
     "text": [
      "['rian', 'augette']\n",
      "['eronica', 'upersonica']\n",
      "['ony', 'asparovic']\n",
      "['atrick', 'ermann']\n",
      "['m', 'sha']\n"
     ]
    }
   ],
   "source": [
    "regex = '[a-z]+'\n",
    "for name in names:\n",
    "    matches = re.findall(regex, name)\n",
    "    if matches:\n",
    "        print(matches)"
   ]
  },
  {
   "cell_type": "code",
   "execution_count": 46,
   "id": "4f25daef",
   "metadata": {
    "ExecuteTime": {
     "end_time": "2023-07-25T13:47:02.449121Z",
     "start_time": "2023-07-25T13:47:02.440991Z"
    }
   },
   "outputs": [
    {
     "name": "stdout",
     "output_type": "stream",
     "text": [
      "<re.Match object; span=(1, 5), match='rian'>\n",
      "<re.Match object; span=(7, 14), match='augette'>\n",
      "<re.Match object; span=(1, 8), match='eronica'>\n",
      "<re.Match object; span=(10, 20), match='upersonica'>\n",
      "<re.Match object; span=(1, 4), match='ony'>\n",
      "<re.Match object; span=(6, 15), match='asparovic'>\n",
      "<re.Match object; span=(1, 7), match='atrick'>\n",
      "<re.Match object; span=(9, 15), match='ermann'>\n",
      "<re.Match object; span=(0, 1), match='m'>\n",
      "<re.Match object; span=(2, 5), match='sha'>\n"
     ]
    }
   ],
   "source": [
    "regex = '[a-z]+'\n",
    "for name in names:\n",
    "    matches = re.finditer(regex, name)\n",
    "    if matches:\n",
    "        for match in matches:\n",
    "            print(match)"
   ]
  },
  {
   "cell_type": "markdown",
   "id": "33975b40",
   "metadata": {},
   "source": [
    "## `re.sub` "
   ]
  },
  {
   "cell_type": "code",
   "execution_count": 57,
   "id": "9f742c8f",
   "metadata": {
    "ExecuteTime": {
     "end_time": "2023-10-28T08:01:57.953940Z",
     "start_time": "2023-10-28T08:01:57.943957Z"
    }
   },
   "outputs": [
    {
     "data": {
      "text/plain": [
       "' rwe fdsa fasf '"
      ]
     },
     "execution_count": 57,
     "metadata": {},
     "output_type": "execute_result"
    }
   ],
   "source": [
    "# 多个空格替换为一个空格\n",
    "str1 = '  rwe fdsa    fasf   '\n",
    "# re.sub(' +', ' ', str1)\n",
    "re.sub('\\s+', ' ', str1)"
   ]
  },
  {
   "cell_type": "code",
   "execution_count": 53,
   "id": "d34077f7",
   "metadata": {
    "ExecuteTime": {
     "end_time": "2023-10-28T08:01:14.188519Z",
     "start_time": "2023-10-28T08:01:14.179020Z"
    }
   },
   "outputs": [
    {
     "data": {
      "text/plain": [
       "'xxxxing'"
      ]
     },
     "execution_count": 53,
     "metadata": {},
     "output_type": "execute_result"
    }
   ],
   "source": [
    "re.sub('test', 'xxxx', 'Testing', flags=re.IGNORECASE)"
   ]
  },
  {
   "cell_type": "markdown",
   "id": "712088f4",
   "metadata": {},
   "source": [
    "## cases"
   ]
  },
  {
   "cell_type": "markdown",
   "id": "f70fccdf",
   "metadata": {},
   "source": [
    "### re.search"
   ]
  },
  {
   "cell_type": "code",
   "execution_count": 12,
   "id": "c8455aba",
   "metadata": {
    "ExecuteTime": {
     "end_time": "2023-07-25T13:12:04.088250Z",
     "start_time": "2023-07-25T13:12:04.079114Z"
    }
   },
   "outputs": [
    {
     "name": "stdout",
     "output_type": "stream",
     "text": [
      "[cus_Y4o9qMEZAugtnW] [cus_Y4o9qMEZAugtnW]\n",
      "cus_Y4o9qMEZAugtnW\n"
     ]
    }
   ],
   "source": [
    "import re\n",
    "\n",
    "s = \"alpha.Customer[cus_Y4o9qMEZAugtnW] ...\"\n",
    "match = re.search(r\"\\[([A-Za-z0-9_]+)\\]\", s)\n",
    "# match.group() == match.group(0)，整体正则的匹配\n",
    "print(match.group(), match.group(0))\n",
    "# match.group(1)：返回的第一个 `()` 包起来的内容\n",
    "print(match.group(1))"
   ]
  },
  {
   "cell_type": "markdown",
   "id": "9c462090",
   "metadata": {},
   "source": [
    "### groups"
   ]
  },
  {
   "cell_type": "code",
   "execution_count": 33,
   "id": "67a7e99e",
   "metadata": {
    "ExecuteTime": {
     "end_time": "2023-07-25T13:31:24.786680Z",
     "start_time": "2023-07-25T13:31:24.780434Z"
    }
   },
   "outputs": [],
   "source": [
    "names = ['Brian Daugette', \n",
    "         'Veronica Supersonica', \n",
    "         'Tony Gasparovic', \n",
    "         'Patrick Germann', \n",
    "         'm!sha']"
   ]
  },
  {
   "cell_type": "code",
   "execution_count": 34,
   "id": "8cc19a60",
   "metadata": {
    "ExecuteTime": {
     "end_time": "2023-07-25T13:32:01.980227Z",
     "start_time": "2023-07-25T13:32:01.971724Z"
    }
   },
   "outputs": [
    {
     "name": "stdout",
     "output_type": "stream",
     "text": [
      "Brian Daugette\n",
      "Veronica Supersonica\n",
      "Tony Gasparovic\n",
      "Patrick Germann\n"
     ]
    }
   ],
   "source": [
    "regex = '^\\w+\\s+\\w+$'\n",
    "for name in names:\n",
    "    match = re.search(regex, name)\n",
    "    if match:\n",
    "        print(name)"
   ]
  },
  {
   "cell_type": "code",
   "execution_count": 84,
   "id": "f9a56a35",
   "metadata": {
    "ExecuteTime": {
     "end_time": "2023-10-28T08:28:03.133008Z",
     "start_time": "2023-10-28T08:28:03.124045Z"
    },
    "scrolled": true
   },
   "outputs": [
    {
     "name": "stdout",
     "output_type": "stream",
     "text": [
      "Finn  Bindeballe, first name: Finn, last name: Bindeballe\n",
      "Ron   Cromberge, first name: Ron, last name: Cromberge\n"
     ]
    }
   ],
   "source": [
    "regex = '^(\\w+)\\s+(\\w+)$'\n",
    "for name in names:\n",
    "    match = re.search(regex, name)\n",
    "    if match:\n",
    "        print(f'{match.group()}, first name: {match.group(1)}, last name: {match.group(2)}')"
   ]
  },
  {
   "cell_type": "code",
   "execution_count": 85,
   "id": "048553cb",
   "metadata": {
    "ExecuteTime": {
     "end_time": "2023-10-28T08:28:30.861676Z",
     "start_time": "2023-10-28T08:28:30.852823Z"
    },
    "scrolled": true
   },
   "outputs": [
    {
     "name": "stdout",
     "output_type": "stream",
     "text": [
      "first name: Finn, last name: Bindeballe\n",
      "first name: Ron, last name: Cromberge\n"
     ]
    }
   ],
   "source": [
    "regex = '^(?P<fn>\\w+)\\s+(?P<ln>\\w+)$'\n",
    "for name in names:\n",
    "    match = re.search(regex, name)\n",
    "    if match:\n",
    "        print(f'first name: {match.group(\"fn\")}, last name: {match.group(\"ln\")}')"
   ]
  },
  {
   "cell_type": "markdown",
   "id": "4d59a7e0",
   "metadata": {},
   "source": [
    "### 最内层的括号"
   ]
  },
  {
   "cell_type": "markdown",
   "id": "a7f71007",
   "metadata": {},
   "source": [
    "`pattern = r'\\[([^[\\]]*)\\]'`\n",
    "- `\\[` 和 `\\]`: 这些是用来匹配方括号 [ 和 ] 的字符。在正则表达式中，方括号是特殊字符，用于定义字符集。为了匹配字面上的方括号，需要使用反斜杠 \\ 进行转义。\n",
    "- `(` 和 `)`: 这对括号定义了一个捕获组。捕获组可以记住正则表达式的一部分匹配结果，方便之后的提取或引用。\n",
    "- `[^[\\]]*`: 这是一个非捕获字符集，用于匹配除了方括号之外的任意字符。\n",
    "    - `[^ ... ]`: 这种结构表示“匹配除了括号内指定的字符之外的任何字符”。\n",
    "    - `[\\]]`: 这里面包含了一个转义的右方括号 \\] 和一个左方括号 [。所以这个字符集匹配的是“非方括号”字符。\n",
    "    - `*`: 表示匹配前面的字符集里的字符零次或多次。"
   ]
  },
  {
   "cell_type": "code",
   "execution_count": 10,
   "id": "83b8cde3",
   "metadata": {
    "ExecuteTime": {
     "end_time": "2023-12-28T14:23:15.711988Z",
     "start_time": "2023-12-28T14:23:15.708170Z"
    }
   },
   "outputs": [],
   "source": [
    "# 最内层被 [] 括起来的内容\n",
    "pattern = r'\\[([^[\\]]*)\\]'"
   ]
  },
  {
   "cell_type": "code",
   "execution_count": 9,
   "id": "a86bcfb3",
   "metadata": {
    "ExecuteTime": {
     "end_time": "2023-12-28T14:22:24.140727Z",
     "start_time": "2023-12-28T14:22:24.130840Z"
    }
   },
   "outputs": [
    {
     "data": {
      "text/plain": [
       "['hello world', 'a']"
      ]
     },
     "execution_count": 9,
     "metadata": {},
     "output_type": "execute_result"
    }
   ],
   "source": [
    "re.findall(pattern, '[[[[hello world]], [[a]]')"
   ]
  },
  {
   "cell_type": "markdown",
   "id": "319e4537",
   "metadata": {},
   "source": [
    "## `re.complie`"
   ]
  },
  {
   "cell_type": "markdown",
   "id": "cd3e80cf",
   "metadata": {},
   "source": [
    "- Compiling regular expression objects is useful and efficient when the expression will be used several times in a single program."
   ]
  },
  {
   "cell_type": "code",
   "execution_count": 31,
   "id": "a826ec6a",
   "metadata": {
    "ExecuteTime": {
     "end_time": "2023-10-26T14:51:26.493947Z",
     "start_time": "2023-10-26T14:51:26.487457Z"
    }
   },
   "outputs": [],
   "source": [
    "pattern = re.compile(r\"\\b\\w{5}\\b\")"
   ]
  },
  {
   "cell_type": "code",
   "execution_count": 33,
   "id": "af76e0bc",
   "metadata": {
    "ExecuteTime": {
     "end_time": "2023-10-26T14:51:38.759073Z",
     "start_time": "2023-10-26T14:51:38.750368Z"
    }
   },
   "outputs": [
    {
     "data": {
      "text/plain": [
       "['Jessa', 'Kelly']"
      ]
     },
     "execution_count": 33,
     "metadata": {},
     "output_type": "execute_result"
    }
   ],
   "source": [
    "res = pattern.findall(\"Jessa and Kelly\")\n",
    "res"
   ]
  },
  {
   "cell_type": "markdown",
   "id": "b67f6579",
   "metadata": {},
   "source": [
    "## 其他"
   ]
  },
  {
   "cell_type": "markdown",
   "id": "09fc7a24",
   "metadata": {},
   "source": [
    "### `?` 元字符用法"
   ]
  },
  {
   "cell_type": "markdown",
   "id": "5b9ae9be",
   "metadata": {},
   "source": [
    "- (?:str)   非捕获组\n",
    "\n",
    "- (?=str) 肯定式向前查找\n",
    "\n",
    "- (?!str) 否定式向前查找\n",
    "\n",
    "- (?<=str) 肯定式向后查找\n",
    "\n",
    "- (?<!str) 否定式向后查找"
   ]
  },
  {
   "cell_type": "markdown",
   "id": "ca1ceaad",
   "metadata": {},
   "source": [
    "### 是否匹配某个单词（这个单词可能出现，也可能没出现）"
   ]
  },
  {
   "cell_type": "markdown",
   "id": "023b8939",
   "metadata": {},
   "source": [
    "- 例如，假设你想要匹配 \"color\" 和 \"colour\" 这两个拼法。你可以编写正则表达式 \"colou?r\"，在这里 \"u?\" 表示 \"u\" 是可选的。\n",
    "- 但是，如果你想要匹配的是整个单词，例如 \"color\" 是可选的，你应该编写正则表达式为 \"(color)?\""
   ]
  },
  {
   "cell_type": "code",
   "execution_count": 50,
   "id": "1702c622",
   "metadata": {
    "ExecuteTime": {
     "end_time": "2023-10-28T07:59:39.563047Z",
     "start_time": "2023-10-28T07:59:39.552740Z"
    }
   },
   "outputs": [
    {
     "data": {
      "text/plain": [
       "['color', 'colour']"
      ]
     },
     "execution_count": 50,
     "metadata": {},
     "output_type": "execute_result"
    }
   ],
   "source": [
    "re.findall('colou?r', 'color name colour')"
   ]
  },
  {
   "cell_type": "markdown",
   "id": "26f54ec2",
   "metadata": {},
   "source": [
    "### 忽略大小写"
   ]
  },
  {
   "cell_type": "markdown",
   "id": "6d681451",
   "metadata": {},
   "source": [
    "- https://stackoverflow.com/questions/500864/case-insensitive-regular-expression-without-re-compile"
   ]
  },
  {
   "cell_type": "markdown",
   "id": "88c2c0f6",
   "metadata": {},
   "source": [
    "```\n",
    "re.findall('(?i)xx', s)\n",
    "re.findall('xx', s, re.IGNORECASE)\n",
    "```"
   ]
  },
  {
   "cell_type": "code",
   "execution_count": 44,
   "id": "3ea8c1d6",
   "metadata": {
    "ExecuteTime": {
     "end_time": "2023-10-28T07:57:27.060357Z",
     "start_time": "2023-10-28T07:57:27.049926Z"
    }
   },
   "outputs": [
    {
     "data": {
      "text/plain": [
       "<re.Match object; span=(0, 4), match='TeSt'>"
      ]
     },
     "execution_count": 44,
     "metadata": {},
     "output_type": "execute_result"
    }
   ],
   "source": [
    "re.search('test', 'TeSt', re.IGNORECASE)"
   ]
  },
  {
   "cell_type": "code",
   "execution_count": 45,
   "id": "604f93f0",
   "metadata": {
    "ExecuteTime": {
     "end_time": "2023-10-28T07:57:31.670385Z",
     "start_time": "2023-10-28T07:57:31.660929Z"
    }
   },
   "outputs": [
    {
     "data": {
      "text/plain": [
       "<re.Match object; span=(0, 4), match='TeSt'>"
      ]
     },
     "execution_count": 45,
     "metadata": {},
     "output_type": "execute_result"
    }
   ],
   "source": [
    "re.match('test', 'TeSt', re.IGNORECASE)"
   ]
  },
  {
   "cell_type": "code",
   "execution_count": 48,
   "id": "e275eaba",
   "metadata": {
    "ExecuteTime": {
     "end_time": "2023-10-28T07:58:44.916390Z",
     "start_time": "2023-10-28T07:58:44.906181Z"
    }
   },
   "outputs": [
    {
     "data": {
      "text/plain": [
       "['test', 'Test', 'TEST']"
      ]
     },
     "execution_count": 48,
     "metadata": {},
     "output_type": "execute_result"
    }
   ],
   "source": [
    "re.findall('(?i)test', 'test Test TEST hello world')"
   ]
  },
  {
   "cell_type": "code",
   "execution_count": 49,
   "id": "95543bb0",
   "metadata": {
    "ExecuteTime": {
     "end_time": "2023-10-28T07:59:03.389630Z",
     "start_time": "2023-10-28T07:59:03.380216Z"
    }
   },
   "outputs": [
    {
     "data": {
      "text/plain": [
       "['test', 'Test', 'TEST']"
      ]
     },
     "execution_count": 49,
     "metadata": {},
     "output_type": "execute_result"
    }
   ],
   "source": [
    "re.findall('test', 'test Test TEST hello world', re.IGNORECASE)"
   ]
  },
  {
   "cell_type": "markdown",
   "id": "c46e71bc",
   "metadata": {},
   "source": [
    "### `re.MULTILINE`"
   ]
  },
  {
   "cell_type": "code",
   "execution_count": 87,
   "id": "6a2a14ba",
   "metadata": {
    "ExecuteTime": {
     "end_time": "2023-10-28T08:30:35.163331Z",
     "start_time": "2023-10-28T08:30:35.157141Z"
    }
   },
   "outputs": [
    {
     "name": "stdout",
     "output_type": "stream",
     "text": [
      "A\n",
      "B\n",
      "X\n"
     ]
    }
   ],
   "source": [
    "print('A\\nB\\nX')"
   ]
  },
  {
   "cell_type": "code",
   "execution_count": 90,
   "id": "da468794",
   "metadata": {
    "ExecuteTime": {
     "end_time": "2023-10-28T08:30:53.975132Z",
     "start_time": "2023-10-28T08:30:53.968634Z"
    }
   },
   "outputs": [],
   "source": [
    "re.match('X', 'A\\nB\\nX')"
   ]
  },
  {
   "cell_type": "code",
   "execution_count": 91,
   "id": "89d2eeff",
   "metadata": {
    "ExecuteTime": {
     "end_time": "2023-10-28T08:30:54.983542Z",
     "start_time": "2023-10-28T08:30:54.977142Z"
    }
   },
   "outputs": [],
   "source": [
    "re.match('X', 'A\\nB\\nX', re.MULTILINE)  # No match"
   ]
  },
  {
   "cell_type": "code",
   "execution_count": 88,
   "id": "670fdfae",
   "metadata": {
    "ExecuteTime": {
     "end_time": "2023-10-28T08:30:44.685431Z",
     "start_time": "2023-10-28T08:30:44.679066Z"
    }
   },
   "outputs": [],
   "source": [
    "re.search('^X', 'A\\nB\\nX') "
   ]
  },
  {
   "cell_type": "code",
   "execution_count": 89,
   "id": "bad6068b",
   "metadata": {
    "ExecuteTime": {
     "end_time": "2023-10-28T08:30:50.981955Z",
     "start_time": "2023-10-28T08:30:50.972628Z"
    }
   },
   "outputs": [
    {
     "data": {
      "text/plain": [
       "<re.Match object; span=(4, 5), match='X'>"
      ]
     },
     "execution_count": 89,
     "metadata": {},
     "output_type": "execute_result"
    }
   ],
   "source": [
    "re.search('^X', 'A\\nB\\nX', re.MULTILINE)  # Match"
   ]
  }
 ],
 "metadata": {
  "kernelspec": {
   "display_name": "Python 3 (ipykernel)",
   "language": "python",
   "name": "python3"
  },
  "language_info": {
   "codemirror_mode": {
    "name": "ipython",
    "version": 3
   },
   "file_extension": ".py",
   "mimetype": "text/x-python",
   "name": "python",
   "nbconvert_exporter": "python",
   "pygments_lexer": "ipython3",
   "version": "3.10.13"
  },
  "toc": {
   "base_numbering": 1,
   "nav_menu": {},
   "number_sections": true,
   "sideBar": true,
   "skip_h1_title": false,
   "title_cell": "Table of Contents",
   "title_sidebar": "Contents",
   "toc_cell": false,
   "toc_position": {
    "height": "calc(100% - 180px)",
    "left": "10px",
    "top": "150px",
    "width": "206px"
   },
   "toc_section_display": true,
   "toc_window_display": true
  }
 },
 "nbformat": 4,
 "nbformat_minor": 5
}
