{
 "cells": [
  {
   "cell_type": "code",
   "execution_count": 2,
   "id": "a2df4d81",
   "metadata": {
    "ExecuteTime": {
     "end_time": "2023-08-30T14:20:52.514220Z",
     "start_time": "2023-08-30T14:20:52.511369Z"
    }
   },
   "outputs": [],
   "source": [
    "import re"
   ]
  },
  {
   "cell_type": "markdown",
   "id": "6752202f",
   "metadata": {},
   "source": [
    "- references\n",
    "    - https://regexr.com/"
   ]
  },
  {
   "cell_type": "markdown",
   "id": "8918f5c5",
   "metadata": {},
   "source": [
    "## baiscs"
   ]
  },
  {
   "cell_type": "markdown",
   "id": "b4a52555",
   "metadata": {},
   "source": [
    "- 开头和结尾匹配\n",
    "    - 开头： `^xxx`\n",
    "    - 结尾：`xxx$`\n",
    "    - `^(?!str)`：不以开头；\n",
    "        - `?!` 这里是否定向前查询\n",
    "    - `(?<!str)$`：不以结束；\n",
    "        - `?<!`否定式向后查询\n",
    "- `\\`用于转义，\n",
    "    - 匹配 `$` 需要转义 `\\$`\n",
    "    - 匹配 `.` 需要转义 `\\.`\n",
    "- `\\s`: 匹配包括换行符\n",
    "- `\\d`与`\\w`\n",
    "    - `\\d`：digital，`0-9`\n",
    "    - `\\w`：`a-z, A-Z, 0-9, _`\n",
    "        - 不包括 `&`\n",
    "- 量词（quantifiers）\n",
    "    - *：0+\n",
    "    - ?：0/1\n",
    "    - +：1+\n",
    "    - {n}：exactly n occurrences\n",
    "- 惰性匹配（laziness）\n",
    "    - ?/??\n"
   ]
  },
  {
   "cell_type": "markdown",
   "id": "70808ecf",
   "metadata": {},
   "source": [
    "## match"
   ]
  },
  {
   "cell_type": "markdown",
   "id": "b2032f5f",
   "metadata": {},
   "source": [
    "- re.match 仅从头开始匹配\n",
    "- re.fullmatch 完整匹配"
   ]
  },
  {
   "cell_type": "code",
   "execution_count": 60,
   "id": "5ec1ff23",
   "metadata": {
    "ExecuteTime": {
     "end_time": "2023-07-25T13:52:57.384230Z",
     "start_time": "2023-07-25T13:52:57.378157Z"
    }
   },
   "outputs": [],
   "source": [
    "urls = ['https://www.socratica.com', \n",
    "        'http://www.socratica.org', \n",
    "        'http://www.abc.bcd.org', \n",
    "        'file://test.this.path', \n",
    "        'com.socratica.www.https://']"
   ]
  },
  {
   "cell_type": "markdown",
   "id": "d18d620d",
   "metadata": {},
   "source": [
    "### re.match"
   ]
  },
  {
   "cell_type": "code",
   "execution_count": 51,
   "id": "8d7e3f86",
   "metadata": {
    "ExecuteTime": {
     "end_time": "2023-07-25T13:49:33.284919Z",
     "start_time": "2023-07-25T13:49:33.277508Z"
    }
   },
   "outputs": [
    {
     "name": "stdout",
     "output_type": "stream",
     "text": [
      "https://www.socratica.com\n",
      "http://www.socratica.org\n"
     ]
    }
   ],
   "source": [
    "regex = 'https?'\n",
    "for url in urls:\n",
    "    if re.match(regex, url):\n",
    "        print(url)"
   ]
  },
  {
   "cell_type": "markdown",
   "id": "0ad722a3",
   "metadata": {},
   "source": [
    "### fullmatch"
   ]
  },
  {
   "cell_type": "code",
   "execution_count": 61,
   "id": "f04bb978",
   "metadata": {
    "ExecuteTime": {
     "end_time": "2023-07-25T13:52:58.545410Z",
     "start_time": "2023-07-25T13:52:58.538475Z"
    }
   },
   "outputs": [
    {
     "name": "stdout",
     "output_type": "stream",
     "text": [
      "https://www.socratica.com\n",
      "http://www.socratica.org\n"
     ]
    }
   ],
   "source": [
    "regex = 'https?://w{3}.\\w+.(org|com)'\n",
    "for url in urls:\n",
    "    if re.fullmatch(regex, url):\n",
    "        print(url)"
   ]
  },
  {
   "cell_type": "markdown",
   "id": "d663775c",
   "metadata": {},
   "source": [
    "## `re.search` 与 `re.findall`"
   ]
  },
  {
   "cell_type": "markdown",
   "id": "6f770b2c",
   "metadata": {},
   "source": [
    "- `re.findall`：返回的是 list"
   ]
  },
  {
   "cell_type": "code",
   "execution_count": 2,
   "id": "9b95be6c",
   "metadata": {
    "ExecuteTime": {
     "end_time": "2023-07-15T10:59:26.980557Z",
     "start_time": "2023-07-15T10:59:26.971983Z"
    }
   },
   "outputs": [],
   "source": [
    "s = \"The bottle of water costs $3.24 and that's outrageous... it's like 3x what it should be!\""
   ]
  },
  {
   "cell_type": "code",
   "execution_count": 4,
   "id": "352ff941",
   "metadata": {
    "ExecuteTime": {
     "end_time": "2023-07-15T11:00:13.611368Z",
     "start_time": "2023-07-15T11:00:13.601590Z"
    }
   },
   "outputs": [
    {
     "data": {
      "text/plain": [
       "['3.24']"
      ]
     },
     "execution_count": 4,
     "metadata": {},
     "output_type": "execute_result"
    }
   ],
   "source": [
    "regex = '\\$\\s*(\\d+\\.\\d+)\\W*'\n",
    "re.findall(regex, s)"
   ]
  },
  {
   "cell_type": "markdown",
   "id": "13276cb6",
   "metadata": {},
   "source": [
    "### re.search"
   ]
  },
  {
   "cell_type": "code",
   "execution_count": 23,
   "id": "be142193",
   "metadata": {
    "ExecuteTime": {
     "end_time": "2023-07-25T13:24:18.567305Z",
     "start_time": "2023-07-25T13:24:18.560798Z"
    }
   },
   "outputs": [],
   "source": [
    "names = ['Finn  Bindeballe', \n",
    "         'Geir Anders Berge', \n",
    "         'HappyCodingRobot', \n",
    "         'Ron   Cromberge', \n",
    "         'Sohil']"
   ]
  },
  {
   "cell_type": "code",
   "execution_count": 24,
   "id": "0f24f0ff",
   "metadata": {
    "ExecuteTime": {
     "end_time": "2023-07-25T13:24:19.657006Z",
     "start_time": "2023-07-25T13:24:19.648889Z"
    },
    "scrolled": true
   },
   "outputs": [
    {
     "name": "stdout",
     "output_type": "stream",
     "text": [
      "Finn  Bindeballe\n",
      "Ron   Cromberge\n"
     ]
    }
   ],
   "source": [
    "# 有名有姓\n",
    "regex = '^\\w+\\s+\\w+$'\n",
    "for name in names:\n",
    "    res = re.search(regex, name)\n",
    "    # 表示匹配上\n",
    "    if res:\n",
    "        print(name)"
   ]
  },
  {
   "cell_type": "code",
   "execution_count": 32,
   "id": "379cd4b4",
   "metadata": {
    "ExecuteTime": {
     "end_time": "2023-07-25T13:27:57.624776Z",
     "start_time": "2023-07-25T13:27:57.615557Z"
    }
   },
   "outputs": [
    {
     "name": "stdout",
     "output_type": "stream",
     "text": [
      "HappyCodingRobot\n",
      "5 16 CodingRobot\n",
      "(5, 16) CodingRobot CodingRobot\n",
      "Ron   Cromberge\n",
      "6 15 Cromberge\n",
      "(6, 15) Cromberge Cromberge\n"
     ]
    }
   ],
   "source": [
    "regex = 'C\\w*'\n",
    "for name in names:\n",
    "    res = re.search(regex, name)\n",
    "    if res:\n",
    "        print(name)\n",
    "        print(res.start(), res.end(), name[res.start():res.end()], )\n",
    "        print(res.span(), res.group(), res.group(0), )"
   ]
  },
  {
   "cell_type": "markdown",
   "id": "d1c7443c",
   "metadata": {},
   "source": [
    "### findall"
   ]
  },
  {
   "cell_type": "code",
   "execution_count": 40,
   "id": "396364c1",
   "metadata": {
    "ExecuteTime": {
     "end_time": "2023-07-25T13:45:24.079277Z",
     "start_time": "2023-07-25T13:45:24.072902Z"
    }
   },
   "outputs": [],
   "source": [
    "names = ['Brian Daugette', \n",
    "         'Veronica Supersonica', \n",
    "         'Tony Gasparovic', \n",
    "         'Patrick Germann', \n",
    "         'm!sha']"
   ]
  },
  {
   "cell_type": "code",
   "execution_count": 41,
   "id": "5f44c35a",
   "metadata": {
    "ExecuteTime": {
     "end_time": "2023-07-25T13:45:54.972748Z",
     "start_time": "2023-07-25T13:45:54.963225Z"
    }
   },
   "outputs": [
    {
     "name": "stdout",
     "output_type": "stream",
     "text": [
      "['rian', 'augette']\n",
      "['eronica', 'upersonica']\n",
      "['ony', 'asparovic']\n",
      "['atrick', 'ermann']\n",
      "['m', 'sha']\n"
     ]
    }
   ],
   "source": [
    "regex = '[a-z]+'\n",
    "for name in names:\n",
    "    matches = re.findall(regex, name)\n",
    "    if matches:\n",
    "        print(matches)"
   ]
  },
  {
   "cell_type": "code",
   "execution_count": 46,
   "id": "4f25daef",
   "metadata": {
    "ExecuteTime": {
     "end_time": "2023-07-25T13:47:02.449121Z",
     "start_time": "2023-07-25T13:47:02.440991Z"
    }
   },
   "outputs": [
    {
     "name": "stdout",
     "output_type": "stream",
     "text": [
      "<re.Match object; span=(1, 5), match='rian'>\n",
      "<re.Match object; span=(7, 14), match='augette'>\n",
      "<re.Match object; span=(1, 8), match='eronica'>\n",
      "<re.Match object; span=(10, 20), match='upersonica'>\n",
      "<re.Match object; span=(1, 4), match='ony'>\n",
      "<re.Match object; span=(6, 15), match='asparovic'>\n",
      "<re.Match object; span=(1, 7), match='atrick'>\n",
      "<re.Match object; span=(9, 15), match='ermann'>\n",
      "<re.Match object; span=(0, 1), match='m'>\n",
      "<re.Match object; span=(2, 5), match='sha'>\n"
     ]
    }
   ],
   "source": [
    "regex = '[a-z]+'\n",
    "for name in names:\n",
    "    matches = re.finditer(regex, name)\n",
    "    if matches:\n",
    "        for match in matches:\n",
    "            print(match)"
   ]
  },
  {
   "cell_type": "markdown",
   "id": "712088f4",
   "metadata": {},
   "source": [
    "## cases"
   ]
  },
  {
   "cell_type": "markdown",
   "id": "f70fccdf",
   "metadata": {},
   "source": [
    "### re.search"
   ]
  },
  {
   "cell_type": "code",
   "execution_count": 12,
   "id": "c8455aba",
   "metadata": {
    "ExecuteTime": {
     "end_time": "2023-07-25T13:12:04.088250Z",
     "start_time": "2023-07-25T13:12:04.079114Z"
    }
   },
   "outputs": [
    {
     "name": "stdout",
     "output_type": "stream",
     "text": [
      "[cus_Y4o9qMEZAugtnW] [cus_Y4o9qMEZAugtnW]\n",
      "cus_Y4o9qMEZAugtnW\n"
     ]
    }
   ],
   "source": [
    "import re\n",
    "\n",
    "s = \"alpha.Customer[cus_Y4o9qMEZAugtnW] ...\"\n",
    "match = re.search(r\"\\[([A-Za-z0-9_]+)\\]\", s)\n",
    "# match.group() == match.group(0)，整体正则的匹配\n",
    "print(match.group(), match.group(0))\n",
    "# match.group(1)：返回的第一个 `()` 包起来的内容\n",
    "print(match.group(1))"
   ]
  },
  {
   "cell_type": "markdown",
   "id": "9c462090",
   "metadata": {},
   "source": [
    "### groups"
   ]
  },
  {
   "cell_type": "code",
   "execution_count": 33,
   "id": "67a7e99e",
   "metadata": {
    "ExecuteTime": {
     "end_time": "2023-07-25T13:31:24.786680Z",
     "start_time": "2023-07-25T13:31:24.780434Z"
    }
   },
   "outputs": [],
   "source": [
    "names = ['Brian Daugette', \n",
    "         'Veronica Supersonica', \n",
    "         'Tony Gasparovic', \n",
    "         'Patrick Germann', \n",
    "         'm!sha']"
   ]
  },
  {
   "cell_type": "code",
   "execution_count": 34,
   "id": "8cc19a60",
   "metadata": {
    "ExecuteTime": {
     "end_time": "2023-07-25T13:32:01.980227Z",
     "start_time": "2023-07-25T13:32:01.971724Z"
    }
   },
   "outputs": [
    {
     "name": "stdout",
     "output_type": "stream",
     "text": [
      "Brian Daugette\n",
      "Veronica Supersonica\n",
      "Tony Gasparovic\n",
      "Patrick Germann\n"
     ]
    }
   ],
   "source": [
    "regex = '^\\w+\\s+\\w+$'\n",
    "for name in names:\n",
    "    match = re.search(regex, name)\n",
    "    if match:\n",
    "        print(name)"
   ]
  },
  {
   "cell_type": "code",
   "execution_count": 36,
   "id": "f9a56a35",
   "metadata": {
    "ExecuteTime": {
     "end_time": "2023-07-25T13:33:31.498041Z",
     "start_time": "2023-07-25T13:33:31.489617Z"
    },
    "scrolled": true
   },
   "outputs": [
    {
     "name": "stdout",
     "output_type": "stream",
     "text": [
      "first name: Brian, last name: Daugette\n",
      "first name: Veronica, last name: Supersonica\n",
      "first name: Tony, last name: Gasparovic\n",
      "first name: Patrick, last name: Germann\n"
     ]
    }
   ],
   "source": [
    "regex = '^(\\w+)\\s+(\\w+)$'\n",
    "for name in names:\n",
    "    match = re.search(regex, name)\n",
    "    if match:\n",
    "        print(f'first name: {match.group(1)}, last name: {match.group(2)}')"
   ]
  },
  {
   "cell_type": "code",
   "execution_count": 39,
   "id": "048553cb",
   "metadata": {
    "ExecuteTime": {
     "end_time": "2023-07-25T13:34:46.360337Z",
     "start_time": "2023-07-25T13:34:46.351684Z"
    },
    "scrolled": true
   },
   "outputs": [
    {
     "name": "stdout",
     "output_type": "stream",
     "text": [
      "first name: Brian, last name: Daugette\n",
      "first name: Veronica, last name: Supersonica\n",
      "first name: Tony, last name: Gasparovic\n",
      "first name: Patrick, last name: Germann\n"
     ]
    }
   ],
   "source": [
    "regex = '^(?P<fn>\\w+)\\s+(?P<ln>\\w+)$'\n",
    "for name in names:\n",
    "    match = re.search(regex, name)\n",
    "    if match:\n",
    "        print(f'first name: {match.group(\"fn\")}, last name: {match.group(\"ln\")}')"
   ]
  },
  {
   "cell_type": "markdown",
   "id": "b67f6579",
   "metadata": {},
   "source": [
    "## 其他"
   ]
  },
  {
   "cell_type": "markdown",
   "id": "09fc7a24",
   "metadata": {},
   "source": [
    "### `?` 元字符用法"
   ]
  },
  {
   "cell_type": "markdown",
   "id": "5b9ae9be",
   "metadata": {},
   "source": [
    "- (?:str)   非捕获组\n",
    "\n",
    "- (?=str) 肯定式向前查找\n",
    "\n",
    "- (?!str) 否定式向前查找\n",
    "\n",
    "- (?<=str) 肯定式向后查找\n",
    "\n",
    "- (?<!str) 否定式向后查找"
   ]
  },
  {
   "cell_type": "markdown",
   "id": "ca1ceaad",
   "metadata": {},
   "source": [
    "### 是否匹配某个单词（这个单词可能出现，也可能没出现）"
   ]
  },
  {
   "cell_type": "markdown",
   "id": "023b8939",
   "metadata": {},
   "source": [
    "- 例如，假设你想要匹配 \"color\" 和 \"colour\" 这两个拼法。你可以编写正则表达式 \"colou?r\"，在这里 \"u?\" 表示 \"u\" 是可选的。\n",
    "- 但是，如果你想要匹配的是整个单词，例如 \"color\" 是可选的，你应该编写正则表达式为 \"(color)?\""
   ]
  },
  {
   "cell_type": "markdown",
   "id": "26f54ec2",
   "metadata": {},
   "source": [
    "### 忽略大小写"
   ]
  },
  {
   "cell_type": "markdown",
   "id": "6d681451",
   "metadata": {},
   "source": [
    "- https://stackoverflow.com/questions/500864/case-insensitive-regular-expression-without-re-compile"
   ]
  },
  {
   "cell_type": "markdown",
   "id": "88c2c0f6",
   "metadata": {},
   "source": [
    "```\n",
    "re.findall('(?i)xx', s)\n",
    "re.findall('xx', s, re.IGNORECASE)\n",
    "```"
   ]
  },
  {
   "cell_type": "markdown",
   "id": "e6924140",
   "metadata": {},
   "source": [
    "### 多个空格替换为一个空格"
   ]
  },
  {
   "cell_type": "code",
   "execution_count": 4,
   "id": "6fef53a0",
   "metadata": {
    "ExecuteTime": {
     "end_time": "2023-08-30T14:21:00.544921Z",
     "start_time": "2023-08-30T14:21:00.537732Z"
    }
   },
   "outputs": [
    {
     "data": {
      "text/plain": [
       "' rwe fdsa fasf '"
      ]
     },
     "execution_count": 4,
     "metadata": {},
     "output_type": "execute_result"
    }
   ],
   "source": [
    "str1 = '  rwe fdsa    fasf   '\n",
    "re.sub(' +', ' ', str1)"
   ]
  },
  {
   "cell_type": "code",
   "execution_count": null,
   "id": "6b77ca9d",
   "metadata": {},
   "outputs": [],
   "source": []
  }
 ],
 "metadata": {
  "kernelspec": {
   "display_name": "Python 3 (ipykernel)",
   "language": "python",
   "name": "python3"
  },
  "language_info": {
   "codemirror_mode": {
    "name": "ipython",
    "version": 3
   },
   "file_extension": ".py",
   "mimetype": "text/x-python",
   "name": "python",
   "nbconvert_exporter": "python",
   "pygments_lexer": "ipython3",
   "version": "3.10.9"
  },
  "toc": {
   "base_numbering": 1,
   "nav_menu": {},
   "number_sections": true,
   "sideBar": true,
   "skip_h1_title": false,
   "title_cell": "Table of Contents",
   "title_sidebar": "Contents",
   "toc_cell": false,
   "toc_position": {
    "height": "calc(100% - 180px)",
    "left": "10px",
    "top": "150px",
    "width": "206px"
   },
   "toc_section_display": true,
   "toc_window_display": true
  }
 },
 "nbformat": 4,
 "nbformat_minor": 5
}
