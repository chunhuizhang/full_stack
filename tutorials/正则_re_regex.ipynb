{
 "cells": [
  {
   "cell_type": "code",
   "execution_count": 1,
   "id": "a2df4d81",
   "metadata": {
    "ExecuteTime": {
     "end_time": "2023-07-15T10:59:23.777455Z",
     "start_time": "2023-07-15T10:59:23.683540Z"
    }
   },
   "outputs": [],
   "source": [
    "import re"
   ]
  },
  {
   "cell_type": "markdown",
   "id": "8918f5c5",
   "metadata": {},
   "source": [
    "## baiscs"
   ]
  },
  {
   "cell_type": "markdown",
   "id": "b4a52555",
   "metadata": {},
   "source": [
    "- 开头和结尾匹配\n",
    "    - 开头： `^xxx`\n",
    "    - 结尾：`xxx$`\n",
    "- `\\`用于转义，\n",
    "    - 匹配 `$` 需要转义 `\\$`\n",
    "    - 匹配 `.` 需要转义 `\\.`"
   ]
  },
  {
   "cell_type": "markdown",
   "id": "70808ecf",
   "metadata": {},
   "source": [
    "## match"
   ]
  },
  {
   "cell_type": "markdown",
   "id": "0ad722a3",
   "metadata": {},
   "source": [
    "### fullmatch"
   ]
  },
  {
   "cell_type": "markdown",
   "id": "024991a3",
   "metadata": {
    "ExecuteTime": {
     "end_time": "2023-06-07T12:57:40.030848Z",
     "start_time": "2023-06-07T12:57:39.572812Z"
    }
   },
   "source": [
    "`re.fullmatch()`"
   ]
  },
  {
   "cell_type": "markdown",
   "id": "d663775c",
   "metadata": {},
   "source": [
    "## `re.search` 与 `re.findall`"
   ]
  },
  {
   "cell_type": "markdown",
   "id": "6f770b2c",
   "metadata": {},
   "source": [
    "- `re.findall`：返回的是 list"
   ]
  },
  {
   "cell_type": "code",
   "execution_count": 2,
   "id": "9b95be6c",
   "metadata": {
    "ExecuteTime": {
     "end_time": "2023-07-15T10:59:26.980557Z",
     "start_time": "2023-07-15T10:59:26.971983Z"
    }
   },
   "outputs": [],
   "source": [
    "s = \"The bottle of water costs $3.24 and that's outrageous... it's like 3x what it should be!\""
   ]
  },
  {
   "cell_type": "code",
   "execution_count": 4,
   "id": "352ff941",
   "metadata": {
    "ExecuteTime": {
     "end_time": "2023-07-15T11:00:13.611368Z",
     "start_time": "2023-07-15T11:00:13.601590Z"
    }
   },
   "outputs": [
    {
     "data": {
      "text/plain": [
       "['3.24']"
      ]
     },
     "execution_count": 4,
     "metadata": {},
     "output_type": "execute_result"
    }
   ],
   "source": [
    "regex = '\\$\\s*(\\d+\\.\\d+)\\W*'\n",
    "re.findall(regex, s)"
   ]
  },
  {
   "cell_type": "code",
   "execution_count": null,
   "id": "7501a72e",
   "metadata": {},
   "outputs": [],
   "source": []
  }
 ],
 "metadata": {
  "kernelspec": {
   "display_name": "Python 3 (ipykernel)",
   "language": "python",
   "name": "python3"
  },
  "language_info": {
   "codemirror_mode": {
    "name": "ipython",
    "version": 3
   },
   "file_extension": ".py",
   "mimetype": "text/x-python",
   "name": "python",
   "nbconvert_exporter": "python",
   "pygments_lexer": "ipython3",
   "version": "3.10.9"
  },
  "toc": {
   "base_numbering": 1,
   "nav_menu": {},
   "number_sections": true,
   "sideBar": true,
   "skip_h1_title": false,
   "title_cell": "Table of Contents",
   "title_sidebar": "Contents",
   "toc_cell": false,
   "toc_position": {},
   "toc_section_display": true,
   "toc_window_display": false
  }
 },
 "nbformat": 4,
 "nbformat_minor": 5
}
