{
 "cells": [
  {
   "cell_type": "code",
   "execution_count": 11,
   "id": "09a10303",
   "metadata": {
    "ExecuteTime": {
     "end_time": "2023-10-04T05:02:52.756068Z",
     "start_time": "2023-10-04T05:02:52.751977Z"
    }
   },
   "outputs": [],
   "source": [
    "import numpy as np\n",
    "from sklearn.metrics.pairwise import cosine_similarity\n",
    "\n",
    "\n",
    "word1_embedding = np.array([0.2, 0.5, 0.8, 0.3])\n",
    "word2_embedding = np.array([0.4, 0.1, 0.9, 0.5])\n",
    "\n",
    "# word1_embedding = word1_embedding.reshape(1, -1)\n",
    "# word2_embedding = word2_embedding.reshape(1, -1)\n",
    "\n",
    "word1_embedding = word1_embedding[np.newaxis, :]\n",
    "word2_embedding = word2_embedding[np.newaxis, :]"
   ]
  },
  {
   "cell_type": "code",
   "execution_count": 14,
   "id": "c2ae93fb",
   "metadata": {
    "ExecuteTime": {
     "end_time": "2023-10-04T05:03:10.265912Z",
     "start_time": "2023-10-04T05:03:10.259697Z"
    },
    "scrolled": true
   },
   "outputs": [
    {
     "data": {
      "text/plain": [
       "array([[0.89278597]])"
      ]
     },
     "execution_count": 14,
     "metadata": {},
     "output_type": "execute_result"
    }
   ],
   "source": [
    "cosine_similarity(word1_embedding, word2_embedding)"
   ]
  },
  {
   "cell_type": "code",
   "execution_count": 21,
   "id": "9f531e83",
   "metadata": {
    "ExecuteTime": {
     "end_time": "2023-10-04T05:05:18.994003Z",
     "start_time": "2023-10-04T05:05:18.988548Z"
    }
   },
   "outputs": [
    {
     "data": {
      "text/plain": [
       "0.8927859733426337"
      ]
     },
     "execution_count": 21,
     "metadata": {},
     "output_type": "execute_result"
    }
   ],
   "source": [
    "np.dot(word1_embedding[0, :], word2_embedding[0, :]) \\\n",
    "    / np.linalg.norm(word1_embedding) \\\n",
    "    / np.linalg.norm(word2_embedding)"
   ]
  },
  {
   "cell_type": "code",
   "execution_count": null,
   "id": "2b7ff761",
   "metadata": {},
   "outputs": [],
   "source": []
  }
 ],
 "metadata": {
  "kernelspec": {
   "display_name": "Python 3 (ipykernel)",
   "language": "python",
   "name": "python3"
  },
  "language_info": {
   "codemirror_mode": {
    "name": "ipython",
    "version": 3
   },
   "file_extension": ".py",
   "mimetype": "text/x-python",
   "name": "python",
   "nbconvert_exporter": "python",
   "pygments_lexer": "ipython3",
   "version": "3.9.13"
  },
  "toc": {
   "base_numbering": 1,
   "nav_menu": {},
   "number_sections": true,
   "sideBar": true,
   "skip_h1_title": false,
   "title_cell": "Table of Contents",
   "title_sidebar": "Contents",
   "toc_cell": false,
   "toc_position": {},
   "toc_section_display": true,
   "toc_window_display": false
  }
 },
 "nbformat": 4,
 "nbformat_minor": 5
}
