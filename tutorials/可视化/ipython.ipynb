{
 "cells": [
  {
   "cell_type": "code",
   "execution_count": 2,
   "id": "017356bb",
   "metadata": {
    "ExecuteTime": {
     "end_time": "2024-02-08T12:20:25.129806Z",
     "start_time": "2024-02-08T12:20:25.125046Z"
    }
   },
   "outputs": [],
   "source": [
    "from IPython.display import Image"
   ]
  },
  {
   "cell_type": "code",
   "execution_count": 6,
   "id": "1d59ee1a",
   "metadata": {
    "ExecuteTime": {
     "end_time": "2024-02-08T12:20:54.152377Z",
     "start_time": "2024-02-08T12:20:54.141968Z"
    }
   },
   "outputs": [
    {
     "data": {
      "text/html": [
       "<img src=\"https://www.google.com.hk/images/branding/googlelogo/2x/googlelogo_color_272x92dp.png\" width=\"300\"/>"
      ],
      "text/plain": [
       "<IPython.core.display.Image object>"
      ]
     },
     "execution_count": 6,
     "metadata": {},
     "output_type": "execute_result"
    }
   ],
   "source": [
    "Image(url='https://www.google.com.hk/images/branding/googlelogo/2x/googlelogo_color_272x92dp.png', width=300)"
   ]
  },
  {
   "cell_type": "code",
   "execution_count": 7,
   "id": "b6bc2dcc",
   "metadata": {
    "ExecuteTime": {
     "end_time": "2024-02-08T12:20:59.745367Z",
     "start_time": "2024-02-08T12:20:59.738613Z"
    }
   },
   "outputs": [],
   "source": [
    "from IPython import get_ipython"
   ]
  },
  {
   "cell_type": "code",
   "execution_count": 11,
   "id": "2a5b85dd",
   "metadata": {
    "ExecuteTime": {
     "end_time": "2024-02-08T12:21:36.965586Z",
     "start_time": "2024-02-08T12:21:36.955094Z"
    }
   },
   "outputs": [
    {
     "data": {
      "text/plain": [
       "<ipykernel.zmqshell.ZMQInteractiveShell at 0x7f722fbb8550>"
      ]
     },
     "execution_count": 11,
     "metadata": {},
     "output_type": "execute_result"
    }
   ],
   "source": [
    "get_ipython()\n",
    "# cmd: ipython\n",
    "# <IPython.terminal.interactiveshell.TerminalInteractiveShell at 0x7f48802e7670>"
   ]
  }
 ],
 "metadata": {
  "kernelspec": {
   "display_name": "Python 3 (ipykernel)",
   "language": "python",
   "name": "python3"
  },
  "language_info": {
   "codemirror_mode": {
    "name": "ipython",
    "version": 3
   },
   "file_extension": ".py",
   "mimetype": "text/x-python",
   "name": "python",
   "nbconvert_exporter": "python",
   "pygments_lexer": "ipython3",
   "version": "3.10.13"
  },
  "toc": {
   "base_numbering": 1,
   "nav_menu": {},
   "number_sections": true,
   "sideBar": true,
   "skip_h1_title": false,
   "title_cell": "Table of Contents",
   "title_sidebar": "Contents",
   "toc_cell": false,
   "toc_position": {},
   "toc_section_display": true,
   "toc_window_display": false
  }
 },
 "nbformat": 4,
 "nbformat_minor": 5
}
