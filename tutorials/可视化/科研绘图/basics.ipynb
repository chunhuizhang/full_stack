{
 "cells": [
  {
   "cell_type": "markdown",
   "id": "5f1ecd35-d3cc-4ea1-8f8e-2f89e64754e0",
   "metadata": {},
   "source": [
    "- pandas + seaborn\n",
    "    - `sns.set_theme(style=\"whitegrid\")`\n",
    "    - `sns.lineplot`: `errorbar=sd`\n",
    "        - dpi=300\n",
    "- svg: 矢量图（vector graphics），无损放大"
   ]
  }
 ],
 "metadata": {
  "kernelspec": {
   "display_name": "Python 3 (ipykernel)",
   "language": "python",
   "name": "python3"
  },
  "language_info": {
   "codemirror_mode": {
    "name": "ipython",
    "version": 3
   },
   "file_extension": ".py",
   "mimetype": "text/x-python",
   "name": "python",
   "nbconvert_exporter": "python",
   "pygments_lexer": "ipython3",
   "version": "3.13.5"
  }
 },
 "nbformat": 4,
 "nbformat_minor": 5
}
