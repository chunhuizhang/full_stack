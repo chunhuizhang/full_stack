{
 "cells": [
  {
   "cell_type": "markdown",
   "id": "e6eac2ad-d5da-4f3b-a2b4-b397cb9b0a20",
   "metadata": {},
   "source": [
    "### 中文"
   ]
  },
  {
   "cell_type": "markdown",
   "id": "85f413ad-a085-4ca8-a694-21259fae6de8",
   "metadata": {},
   "source": [
    "```tex\n",
    "% \\documentclass{article}\n",
    "\\documentclass{ctexart}\n",
    "```\n",
    "- 且 menu => settings =>\n",
    "    - compiler\n",
    "        - pdfLaTex => XeLaTex"
   ]
  },
  {
   "cell_type": "markdown",
   "id": "4f0b1171-f12d-477a-99dd-1bfd2f416ba1",
   "metadata": {},
   "source": [
    "### tikzpicture"
   ]
  },
  {
   "cell_type": "markdown",
   "id": "7dcd9e82-074d-45dc-9581-b1879b6e8a01",
   "metadata": {},
   "source": [
    "```latex\n",
    "\\begin{figure}[h]\n",
    "\\centering\n",
    "\\begin{tikzpicture}[\n",
    "    every node/.style={draw, circle, minimum size=1cm}, % 定义所有节点的样式\n",
    "    node distance=1cm and 1cm % 定义节点间的垂直和水平距离\n",
    "]\n",
    "\n",
    "% --- 第一行节点 ---\n",
    "\\node (z1) {$z_1$};\n",
    "\\node [right=of z1] (V) {$V$};\n",
    "\\node [right=of V] (z2) {$z_2$};\n",
    "\n",
    "% --- 第二行节点 ---\n",
    "\\node [below=of z1] (x1) {$x_1$};\n",
    "\\node [below=of V] (P) {$P$};\n",
    "\\node [below=of z2] (x2) {$x_2$};\n",
    "\n",
    "% --- 定义有向边 ---\n",
    "% 使用 \\draw[->] 命令画箭头\n",
    "\\draw[->, thick] (z1) -- (x1);\n",
    "\\draw[->, thick] (z2) -- (x2);\n",
    "\\draw[->, thick] (z1) -- (P);\n",
    "\\draw[->, thick] (z2) -- (P);\n",
    "\\draw[->, thick] (V) -- (P);\n",
    "\n",
    "\\end{tikzpicture}\n",
    "\\caption{Probabilistic graphical model. Data $x$ and preference $P$ are observed. Coordinate system $V$ is the global latent variable for all data. $z$ is the local latent variable for each data.}\n",
    "\\label{fig:pgm}\n",
    "\\end{figure}\n",
    "```"
   ]
  }
 ],
 "metadata": {
  "kernelspec": {
   "display_name": "Python 3 (ipykernel)",
   "language": "python",
   "name": "python3"
  },
  "language_info": {
   "codemirror_mode": {
    "name": "ipython",
    "version": 3
   },
   "file_extension": ".py",
   "mimetype": "text/x-python",
   "name": "python",
   "nbconvert_exporter": "python",
   "pygments_lexer": "ipython3",
   "version": "3.10.0"
  }
 },
 "nbformat": 4,
 "nbformat_minor": 5
}
