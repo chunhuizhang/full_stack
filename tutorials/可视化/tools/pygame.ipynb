{
 "cells": [
  {
   "cell_type": "code",
   "execution_count": 3,
   "id": "c6e81396",
   "metadata": {
    "ExecuteTime": {
     "end_time": "2023-10-29T13:12:46.417744Z",
     "start_time": "2023-10-29T13:12:46.412932Z"
    }
   },
   "outputs": [],
   "source": [
    "import os\n",
    "import pygame"
   ]
  },
  {
   "cell_type": "markdown",
   "id": "5b6a99be",
   "metadata": {},
   "source": [
    "## settings"
   ]
  },
  {
   "cell_type": "code",
   "execution_count": 4,
   "id": "6df6251d",
   "metadata": {
    "ExecuteTime": {
     "end_time": "2023-10-29T13:12:48.402134Z",
     "start_time": "2023-10-29T13:12:48.384179Z"
    }
   },
   "outputs": [],
   "source": [
    "os.environ[\"SDL_VIDEODRIVER\"] = \"dummy\"\n",
    "screen = pygame.display.set_mode((1400, 1400), \n",
    "                                 flags=pygame.HIDDEN)"
   ]
  },
  {
   "cell_type": "code",
   "execution_count": null,
   "id": "e770efa6",
   "metadata": {},
   "outputs": [],
   "source": []
  }
 ],
 "metadata": {
  "kernelspec": {
   "display_name": "Python 3 (ipykernel)",
   "language": "python",
   "name": "python3"
  },
  "language_info": {
   "codemirror_mode": {
    "name": "ipython",
    "version": 3
   },
   "file_extension": ".py",
   "mimetype": "text/x-python",
   "name": "python",
   "nbconvert_exporter": "python",
   "pygments_lexer": "ipython3",
   "version": "3.10.9"
  },
  "toc": {
   "base_numbering": 1,
   "nav_menu": {},
   "number_sections": true,
   "sideBar": true,
   "skip_h1_title": false,
   "title_cell": "Table of Contents",
   "title_sidebar": "Contents",
   "toc_cell": false,
   "toc_position": {},
   "toc_section_display": true,
   "toc_window_display": false
  }
 },
 "nbformat": 4,
 "nbformat_minor": 5
}
