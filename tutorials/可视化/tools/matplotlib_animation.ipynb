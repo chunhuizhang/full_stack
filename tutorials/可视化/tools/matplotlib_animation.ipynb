{
 "cells": [
  {
   "cell_type": "code",
   "execution_count": 1,
   "id": "c360a9e5",
   "metadata": {
    "ExecuteTime": {
     "end_time": "2023-11-29T15:07:55.574801Z",
     "start_time": "2023-11-29T15:07:55.175221Z"
    }
   },
   "outputs": [],
   "source": [
    "import matplotlib.pyplot as plt\n",
    "from matplotlib.animation import FuncAnimation\n",
    "import numpy as np"
   ]
  },
  {
   "cell_type": "markdown",
   "id": "1b7e3738",
   "metadata": {},
   "source": [
    "```\n",
    "# 步骤1: 定义绘图函数\n",
    "def draw_frame(frame_number):\n",
    "    plt.clf()  # 清除旧帧\n",
    "    plt.plot(np.random.random(10))  # 随机生成图像数据\n",
    "    plt.ylim([0, 1])\n",
    "\n",
    "# 步骤2: 跳过，因为每帧在draw_frame函数内生成\n",
    "\n",
    "# 步骤3: 创建动画\n",
    "fig = plt.figure()\n",
    "plt.ylim([0, 1])\n",
    "ani = FuncAnimation(fig, draw_frame, frames=100, interval=100)\n",
    "\n",
    "# 步骤4: 保存动画\n",
    "ani.save('animation.mp4')\n",
    "\n",
    "plt.show()\n",
    "```\n",
    "\n",
    "\n",
    "- 注意：draw_frame 内部的 plt 所用的 figure 是外部传入的；\n",
    "    - 循环调用 draw_frame 的时候其实使用的是同一个 figure"
   ]
  }
 ],
 "metadata": {
  "kernelspec": {
   "display_name": "Python 3 (ipykernel)",
   "language": "python",
   "name": "python3"
  },
  "language_info": {
   "codemirror_mode": {
    "name": "ipython",
    "version": 3
   },
   "file_extension": ".py",
   "mimetype": "text/x-python",
   "name": "python",
   "nbconvert_exporter": "python",
   "pygments_lexer": "ipython3",
   "version": "3.10.13"
  },
  "toc": {
   "base_numbering": 1,
   "nav_menu": {},
   "number_sections": true,
   "sideBar": true,
   "skip_h1_title": false,
   "title_cell": "Table of Contents",
   "title_sidebar": "Contents",
   "toc_cell": false,
   "toc_position": {},
   "toc_section_display": true,
   "toc_window_display": false
  }
 },
 "nbformat": 4,
 "nbformat_minor": 5
}
