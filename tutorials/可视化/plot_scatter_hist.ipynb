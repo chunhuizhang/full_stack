{
 "cells": [
  {
   "cell_type": "code",
   "execution_count": 2,
   "id": "e599373d",
   "metadata": {
    "ExecuteTime": {
     "end_time": "2023-09-12T14:59:03.405122Z",
     "start_time": "2023-09-12T14:59:03.396205Z"
    }
   },
   "outputs": [
    {
     "data": {
      "text/plain": [
       "6.0"
      ]
     },
     "execution_count": 2,
     "metadata": {},
     "output_type": "execute_result"
    }
   ],
   "source": [
    "import matplotlib\n",
    "matplotlib.rcParams['lines.markersize']"
   ]
  },
  {
   "cell_type": "markdown",
   "id": "4034f0d1",
   "metadata": {},
   "source": [
    "## `plt.scatter`"
   ]
  },
  {
   "cell_type": "markdown",
   "id": "3406c021",
   "metadata": {},
   "source": [
    "-  (s=1, lw=0, facecolor='0.5')\n",
    "    - s: marker size, 默认值为 `matplotlib.rcParams['lines.markersize']`（默认为 6）"
   ]
  },
  {
   "cell_type": "markdown",
   "id": "de1c3197",
   "metadata": {},
   "source": [
    "## `plt.hist`"
   ]
  },
  {
   "cell_type": "markdown",
   "id": "dba2bd0c",
   "metadata": {},
   "source": [
    "- 参数\n",
    "    - bins：分桶的数量\n",
    "    - density=True：是否将 count（freq）转换为概率；"
   ]
  }
 ],
 "metadata": {
  "kernelspec": {
   "display_name": "Python 3 (ipykernel)",
   "language": "python",
   "name": "python3"
  },
  "language_info": {
   "codemirror_mode": {
    "name": "ipython",
    "version": 3
   },
   "file_extension": ".py",
   "mimetype": "text/x-python",
   "name": "python",
   "nbconvert_exporter": "python",
   "pygments_lexer": "ipython3",
   "version": "3.10.9"
  },
  "toc": {
   "base_numbering": 1,
   "nav_menu": {},
   "number_sections": true,
   "sideBar": true,
   "skip_h1_title": false,
   "title_cell": "Table of Contents",
   "title_sidebar": "Contents",
   "toc_cell": false,
   "toc_position": {},
   "toc_section_display": true,
   "toc_window_display": false
  }
 },
 "nbformat": 4,
 "nbformat_minor": 5
}
