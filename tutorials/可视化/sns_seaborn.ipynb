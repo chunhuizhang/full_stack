{
 "cells": [
  {
   "cell_type": "markdown",
   "id": "60297ae6",
   "metadata": {},
   "source": [
    "## `histplot` vs. `countplot`"
   ]
  },
  {
   "cell_type": "markdown",
   "id": "c03ebff2",
   "metadata": {},
   "source": [
    "- `histplot` 数值（某列的元素为数值）直方图；\n",
    "- `countplot` 类别型（某列的元素为 `string`/`categorical` ）直方图；"
   ]
  },
  {
   "cell_type": "markdown",
   "id": "956e5028",
   "metadata": {},
   "source": [
    "## 其他"
   ]
  },
  {
   "cell_type": "markdown",
   "id": "133fa4bd",
   "metadata": {},
   "source": [
    "- 可以结合 plt.subplots\n",
    "    - sns.countplot 可以执行在某一个 ax 里；\n",
    "- bar 上可以写 text；"
   ]
  }
 ],
 "metadata": {
  "kernelspec": {
   "display_name": "Python 3 (ipykernel)",
   "language": "python",
   "name": "python3"
  },
  "language_info": {
   "codemirror_mode": {
    "name": "ipython",
    "version": 3
   },
   "file_extension": ".py",
   "mimetype": "text/x-python",
   "name": "python",
   "nbconvert_exporter": "python",
   "pygments_lexer": "ipython3",
   "version": "3.9.13"
  },
  "toc": {
   "base_numbering": 1,
   "nav_menu": {},
   "number_sections": true,
   "sideBar": true,
   "skip_h1_title": false,
   "title_cell": "Table of Contents",
   "title_sidebar": "Contents",
   "toc_cell": false,
   "toc_position": {},
   "toc_section_display": true,
   "toc_window_display": false
  }
 },
 "nbformat": 4,
 "nbformat_minor": 5
}
