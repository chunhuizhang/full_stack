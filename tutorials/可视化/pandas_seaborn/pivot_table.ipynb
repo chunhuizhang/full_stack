{
 "cells": [
  {
   "cell_type": "markdown",
   "id": "93d13ab1-d396-4711-8915-2a19270cbe27",
   "metadata": {},
   "source": [
    "- 分组\n",
    "    - 对谁进行分组（group），就是对谁进行reduce（聚合），这些都会变成 distinct；\n",
    "- dataframe\n",
    "    - index/columns：都可以是 multiple 的\n",
    "- pivot table：数据透视表，适用于 categorical 型数据\n",
    "    - pivot: 枢轴/支点\n",
    "    - 增强版的分组聚合：summarize & aggregate\n",
    "        - index 可以是 list\n",
    "    - 理解为一个矩阵，index 表示行索引，column 表示列索引，value 则是对应的 entry 的值；\n",
    "    - 对 values 默认的聚合函数是 `aggfunc: AggFuncType = \"mean\"`"
   ]
  },
  {
   "cell_type": "code",
   "execution_count": 1,
   "id": "930fb413-4e60-4e1c-b3e6-65593bcb7859",
   "metadata": {
    "execution": {
     "iopub.execute_input": "2025-01-13T12:57:06.242387Z",
     "iopub.status.busy": "2025-01-13T12:57:06.241665Z",
     "iopub.status.idle": "2025-01-13T12:57:06.533392Z",
     "shell.execute_reply": "2025-01-13T12:57:06.532587Z",
     "shell.execute_reply.started": "2025-01-13T12:57:06.242341Z"
    }
   },
   "outputs": [],
   "source": [
    "import numpy as np\n",
    "import pandas as pd"
   ]
  },
  {
   "cell_type": "code",
   "execution_count": 2,
   "id": "963e0d5a-3ece-4820-89a0-fb230890f6ef",
   "metadata": {
    "execution": {
     "iopub.execute_input": "2025-01-13T12:57:06.534118Z",
     "iopub.status.busy": "2025-01-13T12:57:06.533952Z",
     "iopub.status.idle": "2025-01-13T12:57:07.003316Z",
     "shell.execute_reply": "2025-01-13T12:57:07.002443Z",
     "shell.execute_reply.started": "2025-01-13T12:57:06.534106Z"
    }
   },
   "outputs": [],
   "source": [
    "df = pd.read_csv('./data/athlete_events.csv')"
   ]
  },
  {
   "cell_type": "code",
   "execution_count": 3,
   "id": "72f6de33-cddd-4e90-a508-dfb71ba55109",
   "metadata": {
    "execution": {
     "iopub.execute_input": "2025-01-13T12:57:07.004174Z",
     "iopub.status.busy": "2025-01-13T12:57:07.004020Z",
     "iopub.status.idle": "2025-01-13T12:57:07.010536Z",
     "shell.execute_reply": "2025-01-13T12:57:07.009808Z",
     "shell.execute_reply.started": "2025-01-13T12:57:07.004162Z"
    }
   },
   "outputs": [
    {
     "data": {
      "text/plain": [
       "(271116, 15)"
      ]
     },
     "execution_count": 3,
     "metadata": {},
     "output_type": "execute_result"
    }
   ],
   "source": [
    "df.shape"
   ]
  },
  {
   "cell_type": "code",
   "execution_count": 4,
   "id": "981b37e4-7b15-4e23-b006-c677fd1dcd7b",
   "metadata": {
    "execution": {
     "iopub.execute_input": "2025-01-13T12:57:07.012160Z",
     "iopub.status.busy": "2025-01-13T12:57:07.012018Z",
     "iopub.status.idle": "2025-01-13T12:57:07.058924Z",
     "shell.execute_reply": "2025-01-13T12:57:07.058113Z",
     "shell.execute_reply.started": "2025-01-13T12:57:07.012149Z"
    }
   },
   "outputs": [
    {
     "data": {
      "text/html": [
       "<div>\n",
       "<style scoped>\n",
       "    .dataframe tbody tr th:only-of-type {\n",
       "        vertical-align: middle;\n",
       "    }\n",
       "\n",
       "    .dataframe tbody tr th {\n",
       "        vertical-align: top;\n",
       "    }\n",
       "\n",
       "    .dataframe thead th {\n",
       "        text-align: right;\n",
       "    }\n",
       "</style>\n",
       "<table border=\"1\" class=\"dataframe\">\n",
       "  <thead>\n",
       "    <tr style=\"text-align: right;\">\n",
       "      <th></th>\n",
       "      <th>ID</th>\n",
       "      <th>Name</th>\n",
       "      <th>Sex</th>\n",
       "      <th>Age</th>\n",
       "      <th>Height</th>\n",
       "      <th>Weight</th>\n",
       "      <th>Team</th>\n",
       "      <th>NOC</th>\n",
       "      <th>Games</th>\n",
       "      <th>Year</th>\n",
       "      <th>Season</th>\n",
       "      <th>City</th>\n",
       "      <th>Sport</th>\n",
       "      <th>Event</th>\n",
       "      <th>Medal</th>\n",
       "    </tr>\n",
       "  </thead>\n",
       "  <tbody>\n",
       "    <tr>\n",
       "      <th>0</th>\n",
       "      <td>1</td>\n",
       "      <td>A Dijiang</td>\n",
       "      <td>M</td>\n",
       "      <td>24.0</td>\n",
       "      <td>180.0</td>\n",
       "      <td>80.0</td>\n",
       "      <td>China</td>\n",
       "      <td>CHN</td>\n",
       "      <td>1992 Summer</td>\n",
       "      <td>1992</td>\n",
       "      <td>Summer</td>\n",
       "      <td>Barcelona</td>\n",
       "      <td>Basketball</td>\n",
       "      <td>Basketball Men's Basketball</td>\n",
       "      <td>NaN</td>\n",
       "    </tr>\n",
       "    <tr>\n",
       "      <th>1</th>\n",
       "      <td>2</td>\n",
       "      <td>A Lamusi</td>\n",
       "      <td>M</td>\n",
       "      <td>23.0</td>\n",
       "      <td>170.0</td>\n",
       "      <td>60.0</td>\n",
       "      <td>China</td>\n",
       "      <td>CHN</td>\n",
       "      <td>2012 Summer</td>\n",
       "      <td>2012</td>\n",
       "      <td>Summer</td>\n",
       "      <td>London</td>\n",
       "      <td>Judo</td>\n",
       "      <td>Judo Men's Extra-Lightweight</td>\n",
       "      <td>NaN</td>\n",
       "    </tr>\n",
       "    <tr>\n",
       "      <th>2</th>\n",
       "      <td>3</td>\n",
       "      <td>Gunnar Nielsen Aaby</td>\n",
       "      <td>M</td>\n",
       "      <td>24.0</td>\n",
       "      <td>NaN</td>\n",
       "      <td>NaN</td>\n",
       "      <td>Denmark</td>\n",
       "      <td>DEN</td>\n",
       "      <td>1920 Summer</td>\n",
       "      <td>1920</td>\n",
       "      <td>Summer</td>\n",
       "      <td>Antwerpen</td>\n",
       "      <td>Football</td>\n",
       "      <td>Football Men's Football</td>\n",
       "      <td>NaN</td>\n",
       "    </tr>\n",
       "    <tr>\n",
       "      <th>3</th>\n",
       "      <td>4</td>\n",
       "      <td>Edgar Lindenau Aabye</td>\n",
       "      <td>M</td>\n",
       "      <td>34.0</td>\n",
       "      <td>NaN</td>\n",
       "      <td>NaN</td>\n",
       "      <td>Denmark/Sweden</td>\n",
       "      <td>DEN</td>\n",
       "      <td>1900 Summer</td>\n",
       "      <td>1900</td>\n",
       "      <td>Summer</td>\n",
       "      <td>Paris</td>\n",
       "      <td>Tug-Of-War</td>\n",
       "      <td>Tug-Of-War Men's Tug-Of-War</td>\n",
       "      <td>Gold</td>\n",
       "    </tr>\n",
       "    <tr>\n",
       "      <th>4</th>\n",
       "      <td>5</td>\n",
       "      <td>Christine Jacoba Aaftink</td>\n",
       "      <td>F</td>\n",
       "      <td>21.0</td>\n",
       "      <td>185.0</td>\n",
       "      <td>82.0</td>\n",
       "      <td>Netherlands</td>\n",
       "      <td>NED</td>\n",
       "      <td>1988 Winter</td>\n",
       "      <td>1988</td>\n",
       "      <td>Winter</td>\n",
       "      <td>Calgary</td>\n",
       "      <td>Speed Skating</td>\n",
       "      <td>Speed Skating Women's 500 metres</td>\n",
       "      <td>NaN</td>\n",
       "    </tr>\n",
       "  </tbody>\n",
       "</table>\n",
       "</div>"
      ],
      "text/plain": [
       "   ID                      Name Sex   Age  Height  Weight            Team  \\\n",
       "0   1                 A Dijiang   M  24.0   180.0    80.0           China   \n",
       "1   2                  A Lamusi   M  23.0   170.0    60.0           China   \n",
       "2   3       Gunnar Nielsen Aaby   M  24.0     NaN     NaN         Denmark   \n",
       "3   4      Edgar Lindenau Aabye   M  34.0     NaN     NaN  Denmark/Sweden   \n",
       "4   5  Christine Jacoba Aaftink   F  21.0   185.0    82.0     Netherlands   \n",
       "\n",
       "   NOC        Games  Year  Season       City          Sport  \\\n",
       "0  CHN  1992 Summer  1992  Summer  Barcelona     Basketball   \n",
       "1  CHN  2012 Summer  2012  Summer     London           Judo   \n",
       "2  DEN  1920 Summer  1920  Summer  Antwerpen       Football   \n",
       "3  DEN  1900 Summer  1900  Summer      Paris     Tug-Of-War   \n",
       "4  NED  1988 Winter  1988  Winter    Calgary  Speed Skating   \n",
       "\n",
       "                              Event Medal  \n",
       "0       Basketball Men's Basketball   NaN  \n",
       "1      Judo Men's Extra-Lightweight   NaN  \n",
       "2           Football Men's Football   NaN  \n",
       "3       Tug-Of-War Men's Tug-Of-War  Gold  \n",
       "4  Speed Skating Women's 500 metres   NaN  "
      ]
     },
     "execution_count": 4,
     "metadata": {},
     "output_type": "execute_result"
    }
   ],
   "source": [
    "df.head()"
   ]
  },
  {
   "cell_type": "code",
   "execution_count": 5,
   "id": "a5b33cb0-cbbc-4876-9ee3-a8d79fafbdc6",
   "metadata": {
    "execution": {
     "iopub.execute_input": "2025-01-13T12:57:07.059718Z",
     "iopub.status.busy": "2025-01-13T12:57:07.059550Z",
     "iopub.status.idle": "2025-01-13T12:57:07.096482Z",
     "shell.execute_reply": "2025-01-13T12:57:07.095514Z",
     "shell.execute_reply.started": "2025-01-13T12:57:07.059704Z"
    }
   },
   "outputs": [
    {
     "data": {
      "text/plain": [
       "175.33896987366376"
      ]
     },
     "execution_count": 5,
     "metadata": {},
     "output_type": "execute_result"
    }
   ],
   "source": [
    "# 平均身高\n",
    "df['Height'].mean()"
   ]
  },
  {
   "cell_type": "markdown",
   "id": "11e0efe9-cc45-4e5a-8275-15a8df78349c",
   "metadata": {},
   "source": [
    "### group by "
   ]
  },
  {
   "cell_type": "code",
   "execution_count": 6,
   "id": "9da29a57-399c-404c-a670-939fd9b8cdff",
   "metadata": {
    "execution": {
     "iopub.execute_input": "2025-01-13T12:57:07.097842Z",
     "iopub.status.busy": "2025-01-13T12:57:07.097562Z",
     "iopub.status.idle": "2025-01-13T12:57:07.182582Z",
     "shell.execute_reply": "2025-01-13T12:57:07.181316Z",
     "shell.execute_reply.started": "2025-01-13T12:57:07.097819Z"
    }
   },
   "outputs": [
    {
     "data": {
      "text/plain": [
       "Year\n",
       "1896    172.739130\n",
       "1900    176.637931\n",
       "1904    175.788732\n",
       "1906    178.206226\n",
       "1908    177.543158\n",
       "1912    177.447989\n",
       "1920    175.752282\n",
       "1924    174.963039\n",
       "1928    175.162051\n",
       "1932    174.220115\n",
       "1936    175.723993\n",
       "1948    176.172797\n",
       "1952    174.138940\n",
       "1956    173.900968\n",
       "1960    173.141286\n",
       "1964    173.448574\n",
       "1968    173.945865\n",
       "1972    174.565363\n",
       "1976    174.920528\n",
       "1980    175.527488\n",
       "1984    175.540855\n",
       "1988    175.745252\n",
       "1992    176.174649\n",
       "1994    175.169862\n",
       "1996    175.895121\n",
       "1998    174.581369\n",
       "2000    176.089721\n",
       "2002    174.702451\n",
       "2004    175.972850\n",
       "2006    174.623172\n",
       "2008    176.211062\n",
       "2010    174.918182\n",
       "2012    176.262469\n",
       "2014    174.816670\n",
       "2016    176.034266\n",
       "Name: Height, dtype: float64"
      ]
     },
     "execution_count": 6,
     "metadata": {},
     "output_type": "execute_result"
    }
   ],
   "source": [
    "# 平均身高, per year\n",
    "df.groupby('Year')['Height'].mean()"
   ]
  },
  {
   "cell_type": "code",
   "execution_count": 7,
   "id": "0427fbc0-57f5-42fc-ad81-a5112655cbb1",
   "metadata": {
    "execution": {
     "iopub.execute_input": "2025-01-13T12:57:07.184968Z",
     "iopub.status.busy": "2025-01-13T12:57:07.184310Z",
     "iopub.status.idle": "2025-01-13T12:57:07.206325Z",
     "shell.execute_reply": "2025-01-13T12:57:07.205073Z",
     "shell.execute_reply.started": "2025-01-13T12:57:07.184927Z"
    }
   },
   "outputs": [
    {
     "data": {
      "text/plain": [
       "35"
      ]
     },
     "execution_count": 7,
     "metadata": {},
     "output_type": "execute_result"
    }
   ],
   "source": [
    "len(df.groupby('Year')['Height'].mean())"
   ]
  },
  {
   "cell_type": "markdown",
   "id": "12a0f1f8-b3a5-4ba9-a32f-cf0cc4ebb558",
   "metadata": {},
   "source": [
    "### pivot_table "
   ]
  },
  {
   "cell_type": "code",
   "execution_count": 8,
   "id": "643a39ea-3a3e-40ff-8886-57265fd00c0d",
   "metadata": {
    "execution": {
     "iopub.execute_input": "2025-01-13T12:57:07.209048Z",
     "iopub.status.busy": "2025-01-13T12:57:07.208075Z",
     "iopub.status.idle": "2025-01-13T12:57:07.332504Z",
     "shell.execute_reply": "2025-01-13T12:57:07.331377Z",
     "shell.execute_reply.started": "2025-01-13T12:57:07.209003Z"
    }
   },
   "outputs": [
    {
     "data": {
      "text/plain": [
       "(35, 699)"
      ]
     },
     "execution_count": 8,
     "metadata": {},
     "output_type": "execute_result"
    }
   ],
   "source": [
    "# 平均身高, per year & per country （team）\n",
    "df.pivot_table(index='Year', columns='Team', values='Height').shape"
   ]
  },
  {
   "cell_type": "code",
   "execution_count": 9,
   "id": "6101a9fa-de6d-43ff-a0e6-b2b2c7f0018b",
   "metadata": {
    "execution": {
     "iopub.execute_input": "2025-01-13T12:57:07.334282Z",
     "iopub.status.busy": "2025-01-13T12:57:07.333897Z",
     "iopub.status.idle": "2025-01-13T12:57:07.339217Z",
     "shell.execute_reply": "2025-01-13T12:57:07.338048Z",
     "shell.execute_reply.started": "2025-01-13T12:57:07.334252Z"
    }
   },
   "outputs": [],
   "source": [
    "# aggfunc: AggFuncType = \"mean\",\n",
    "# df.pivot_table??"
   ]
  },
  {
   "cell_type": "markdown",
   "id": "819b949f-1662-400a-b967-d796d320319d",
   "metadata": {},
   "source": [
    "### pivot_table: transform"
   ]
  },
  {
   "cell_type": "code",
   "execution_count": 10,
   "id": "cc690fb2-d584-4c40-8108-8b27ef8df6b0",
   "metadata": {
    "execution": {
     "iopub.execute_input": "2025-01-13T12:57:07.341632Z",
     "iopub.status.busy": "2025-01-13T12:57:07.340724Z",
     "iopub.status.idle": "2025-01-13T12:57:07.350455Z",
     "shell.execute_reply": "2025-01-13T12:57:07.349242Z",
     "shell.execute_reply.started": "2025-01-13T12:57:07.341595Z"
    }
   },
   "outputs": [],
   "source": [
    "weather_df = pd.read_csv('./data/weather.csv')"
   ]
  },
  {
   "cell_type": "code",
   "execution_count": 11,
   "id": "6d0ded6b-bdf6-47c2-9fb8-939272be3ba0",
   "metadata": {
    "execution": {
     "iopub.execute_input": "2025-01-13T12:57:07.352567Z",
     "iopub.status.busy": "2025-01-13T12:57:07.351972Z",
     "iopub.status.idle": "2025-01-13T12:57:07.399055Z",
     "shell.execute_reply": "2025-01-13T12:57:07.397754Z",
     "shell.execute_reply.started": "2025-01-13T12:57:07.352531Z"
    }
   },
   "outputs": [
    {
     "data": {
      "text/html": [
       "<div>\n",
       "<style scoped>\n",
       "    .dataframe tbody tr th:only-of-type {\n",
       "        vertical-align: middle;\n",
       "    }\n",
       "\n",
       "    .dataframe tbody tr th {\n",
       "        vertical-align: top;\n",
       "    }\n",
       "\n",
       "    .dataframe thead th {\n",
       "        text-align: right;\n",
       "    }\n",
       "</style>\n",
       "<table border=\"1\" class=\"dataframe\">\n",
       "  <thead>\n",
       "    <tr style=\"text-align: right;\">\n",
       "      <th></th>\n",
       "      <th>date</th>\n",
       "      <th>city</th>\n",
       "      <th>temperature</th>\n",
       "      <th>humidity</th>\n",
       "    </tr>\n",
       "  </thead>\n",
       "  <tbody>\n",
       "    <tr>\n",
       "      <th>0</th>\n",
       "      <td>5/1/2017</td>\n",
       "      <td>new york</td>\n",
       "      <td>65</td>\n",
       "      <td>56</td>\n",
       "    </tr>\n",
       "    <tr>\n",
       "      <th>1</th>\n",
       "      <td>5/2/2017</td>\n",
       "      <td>new york</td>\n",
       "      <td>66</td>\n",
       "      <td>58</td>\n",
       "    </tr>\n",
       "    <tr>\n",
       "      <th>2</th>\n",
       "      <td>5/3/2017</td>\n",
       "      <td>new york</td>\n",
       "      <td>68</td>\n",
       "      <td>60</td>\n",
       "    </tr>\n",
       "    <tr>\n",
       "      <th>3</th>\n",
       "      <td>5/1/2017</td>\n",
       "      <td>mumbai</td>\n",
       "      <td>75</td>\n",
       "      <td>80</td>\n",
       "    </tr>\n",
       "    <tr>\n",
       "      <th>4</th>\n",
       "      <td>5/2/2017</td>\n",
       "      <td>mumbai</td>\n",
       "      <td>78</td>\n",
       "      <td>83</td>\n",
       "    </tr>\n",
       "    <tr>\n",
       "      <th>5</th>\n",
       "      <td>5/3/2017</td>\n",
       "      <td>mumbai</td>\n",
       "      <td>82</td>\n",
       "      <td>85</td>\n",
       "    </tr>\n",
       "    <tr>\n",
       "      <th>6</th>\n",
       "      <td>5/1/2017</td>\n",
       "      <td>beijing</td>\n",
       "      <td>80</td>\n",
       "      <td>26</td>\n",
       "    </tr>\n",
       "    <tr>\n",
       "      <th>7</th>\n",
       "      <td>5/2/2017</td>\n",
       "      <td>beijing</td>\n",
       "      <td>77</td>\n",
       "      <td>30</td>\n",
       "    </tr>\n",
       "    <tr>\n",
       "      <th>8</th>\n",
       "      <td>5/3/2017</td>\n",
       "      <td>beijing</td>\n",
       "      <td>79</td>\n",
       "      <td>35</td>\n",
       "    </tr>\n",
       "  </tbody>\n",
       "</table>\n",
       "</div>"
      ],
      "text/plain": [
       "       date      city  temperature  humidity\n",
       "0  5/1/2017  new york           65        56\n",
       "1  5/2/2017  new york           66        58\n",
       "2  5/3/2017  new york           68        60\n",
       "3  5/1/2017    mumbai           75        80\n",
       "4  5/2/2017    mumbai           78        83\n",
       "5  5/3/2017    mumbai           82        85\n",
       "6  5/1/2017   beijing           80        26\n",
       "7  5/2/2017   beijing           77        30\n",
       "8  5/3/2017   beijing           79        35"
      ]
     },
     "execution_count": 11,
     "metadata": {},
     "output_type": "execute_result"
    }
   ],
   "source": [
    "weather_df"
   ]
  },
  {
   "cell_type": "code",
   "execution_count": 12,
   "id": "29ac52d4-7322-4feb-bc7d-fe8aa9cb59dd",
   "metadata": {
    "execution": {
     "iopub.execute_input": "2025-01-13T12:57:07.401516Z",
     "iopub.status.busy": "2025-01-13T12:57:07.400834Z",
     "iopub.status.idle": "2025-01-13T12:57:07.452619Z",
     "shell.execute_reply": "2025-01-13T12:57:07.451307Z",
     "shell.execute_reply.started": "2025-01-13T12:57:07.401473Z"
    }
   },
   "outputs": [
    {
     "data": {
      "text/html": [
       "<div>\n",
       "<style scoped>\n",
       "    .dataframe tbody tr th:only-of-type {\n",
       "        vertical-align: middle;\n",
       "    }\n",
       "\n",
       "    .dataframe tbody tr th {\n",
       "        vertical-align: top;\n",
       "    }\n",
       "\n",
       "    .dataframe thead tr th {\n",
       "        text-align: left;\n",
       "    }\n",
       "\n",
       "    .dataframe thead tr:last-of-type th {\n",
       "        text-align: right;\n",
       "    }\n",
       "</style>\n",
       "<table border=\"1\" class=\"dataframe\">\n",
       "  <thead>\n",
       "    <tr>\n",
       "      <th></th>\n",
       "      <th colspan=\"3\" halign=\"left\">temperature</th>\n",
       "      <th colspan=\"3\" halign=\"left\">humidity</th>\n",
       "    </tr>\n",
       "    <tr>\n",
       "      <th>date</th>\n",
       "      <th>5/1/2017</th>\n",
       "      <th>5/2/2017</th>\n",
       "      <th>5/3/2017</th>\n",
       "      <th>5/1/2017</th>\n",
       "      <th>5/2/2017</th>\n",
       "      <th>5/3/2017</th>\n",
       "    </tr>\n",
       "    <tr>\n",
       "      <th>city</th>\n",
       "      <th></th>\n",
       "      <th></th>\n",
       "      <th></th>\n",
       "      <th></th>\n",
       "      <th></th>\n",
       "      <th></th>\n",
       "    </tr>\n",
       "  </thead>\n",
       "  <tbody>\n",
       "    <tr>\n",
       "      <th>beijing</th>\n",
       "      <td>80</td>\n",
       "      <td>77</td>\n",
       "      <td>79</td>\n",
       "      <td>26</td>\n",
       "      <td>30</td>\n",
       "      <td>35</td>\n",
       "    </tr>\n",
       "    <tr>\n",
       "      <th>mumbai</th>\n",
       "      <td>75</td>\n",
       "      <td>78</td>\n",
       "      <td>82</td>\n",
       "      <td>80</td>\n",
       "      <td>83</td>\n",
       "      <td>85</td>\n",
       "    </tr>\n",
       "    <tr>\n",
       "      <th>new york</th>\n",
       "      <td>65</td>\n",
       "      <td>66</td>\n",
       "      <td>68</td>\n",
       "      <td>56</td>\n",
       "      <td>58</td>\n",
       "      <td>60</td>\n",
       "    </tr>\n",
       "  </tbody>\n",
       "</table>\n",
       "</div>"
      ],
      "text/plain": [
       "         temperature                   humidity                  \n",
       "date        5/1/2017 5/2/2017 5/3/2017 5/1/2017 5/2/2017 5/3/2017\n",
       "city                                                             \n",
       "beijing           80       77       79       26       30       35\n",
       "mumbai            75       78       82       80       83       85\n",
       "new york          65       66       68       56       58       60"
      ]
     },
     "execution_count": 12,
     "metadata": {},
     "output_type": "execute_result"
    }
   ],
   "source": [
    "weather_df.pivot(index='city', columns='date')"
   ]
  },
  {
   "cell_type": "code",
   "execution_count": 14,
   "id": "995b45a6-ed0e-41f1-b421-90bc1a54b641",
   "metadata": {
    "execution": {
     "iopub.execute_input": "2025-01-13T13:01:00.179485Z",
     "iopub.status.busy": "2025-01-13T13:01:00.179340Z",
     "iopub.status.idle": "2025-01-13T13:01:00.187162Z",
     "shell.execute_reply": "2025-01-13T13:01:00.186385Z",
     "shell.execute_reply.started": "2025-01-13T13:01:00.179473Z"
    }
   },
   "outputs": [
    {
     "data": {
      "text/plain": [
       "MultiIndex([('temperature', '5/1/2017'),\n",
       "            ('temperature', '5/2/2017'),\n",
       "            ('temperature', '5/3/2017'),\n",
       "            (   'humidity', '5/1/2017'),\n",
       "            (   'humidity', '5/2/2017'),\n",
       "            (   'humidity', '5/3/2017')],\n",
       "           names=[None, 'date'])"
      ]
     },
     "execution_count": 14,
     "metadata": {},
     "output_type": "execute_result"
    }
   ],
   "source": [
    "weather_df.pivot(index='city', columns='date').columns"
   ]
  },
  {
   "cell_type": "code",
   "execution_count": 15,
   "id": "f6a4f323-a065-4ee8-97a1-06f2dfb3b910",
   "metadata": {
    "execution": {
     "iopub.execute_input": "2025-01-13T13:01:19.570769Z",
     "iopub.status.busy": "2025-01-13T13:01:19.570360Z",
     "iopub.status.idle": "2025-01-13T13:01:19.583120Z",
     "shell.execute_reply": "2025-01-13T13:01:19.581820Z",
     "shell.execute_reply.started": "2025-01-13T13:01:19.570748Z"
    }
   },
   "outputs": [
    {
     "data": {
      "text/plain": [
       "Index(['beijing', 'mumbai', 'new york'], dtype='object', name='city')"
      ]
     },
     "execution_count": 15,
     "metadata": {},
     "output_type": "execute_result"
    }
   ],
   "source": [
    "weather_df.pivot(index='city', columns='date').index"
   ]
  },
  {
   "cell_type": "code",
   "execution_count": 17,
   "id": "498dc06a-3b40-437b-a6b9-619481ebad14",
   "metadata": {
    "execution": {
     "iopub.execute_input": "2025-01-13T13:04:04.666872Z",
     "iopub.status.busy": "2025-01-13T13:04:04.666559Z",
     "iopub.status.idle": "2025-01-13T13:04:04.687863Z",
     "shell.execute_reply": "2025-01-13T13:04:04.685569Z",
     "shell.execute_reply.started": "2025-01-13T13:04:04.666851Z"
    }
   },
   "outputs": [
    {
     "data": {
      "text/html": [
       "<div>\n",
       "<style scoped>\n",
       "    .dataframe tbody tr th:only-of-type {\n",
       "        vertical-align: middle;\n",
       "    }\n",
       "\n",
       "    .dataframe tbody tr th {\n",
       "        vertical-align: top;\n",
       "    }\n",
       "\n",
       "    .dataframe thead th {\n",
       "        text-align: right;\n",
       "    }\n",
       "</style>\n",
       "<table border=\"1\" class=\"dataframe\">\n",
       "  <thead>\n",
       "    <tr style=\"text-align: right;\">\n",
       "      <th>date</th>\n",
       "      <th>5/1/2017</th>\n",
       "      <th>5/2/2017</th>\n",
       "      <th>5/3/2017</th>\n",
       "    </tr>\n",
       "    <tr>\n",
       "      <th>city</th>\n",
       "      <th></th>\n",
       "      <th></th>\n",
       "      <th></th>\n",
       "    </tr>\n",
       "  </thead>\n",
       "  <tbody>\n",
       "    <tr>\n",
       "      <th>beijing</th>\n",
       "      <td>26</td>\n",
       "      <td>30</td>\n",
       "      <td>35</td>\n",
       "    </tr>\n",
       "    <tr>\n",
       "      <th>mumbai</th>\n",
       "      <td>80</td>\n",
       "      <td>83</td>\n",
       "      <td>85</td>\n",
       "    </tr>\n",
       "    <tr>\n",
       "      <th>new york</th>\n",
       "      <td>56</td>\n",
       "      <td>58</td>\n",
       "      <td>60</td>\n",
       "    </tr>\n",
       "  </tbody>\n",
       "</table>\n",
       "</div>"
      ],
      "text/plain": [
       "date      5/1/2017  5/2/2017  5/3/2017\n",
       "city                                  \n",
       "beijing         26        30        35\n",
       "mumbai          80        83        85\n",
       "new york        56        58        60"
      ]
     },
     "execution_count": 17,
     "metadata": {},
     "output_type": "execute_result"
    }
   ],
   "source": [
    "weather_df.pivot(index='city', columns='date', values='humidity')"
   ]
  },
  {
   "cell_type": "markdown",
   "id": "a7643fcd-4be7-40b0-8893-1b1acccf4bc9",
   "metadata": {},
   "source": [
    "### pivot table"
   ]
  },
  {
   "cell_type": "code",
   "execution_count": 18,
   "id": "49bb58cb-eeb8-4a30-a624-8eb9698abd54",
   "metadata": {
    "execution": {
     "iopub.execute_input": "2025-01-13T13:07:12.981738Z",
     "iopub.status.busy": "2025-01-13T13:07:12.981122Z",
     "iopub.status.idle": "2025-01-13T13:07:12.994234Z",
     "shell.execute_reply": "2025-01-13T13:07:12.992264Z",
     "shell.execute_reply.started": "2025-01-13T13:07:12.981691Z"
    }
   },
   "outputs": [],
   "source": [
    "weather_df2 = pd.read_csv('./data/weather2.csv')"
   ]
  },
  {
   "cell_type": "code",
   "execution_count": 19,
   "id": "a2e156a6-9baf-4519-933f-247bd597bd7a",
   "metadata": {
    "execution": {
     "iopub.execute_input": "2025-01-13T13:07:14.965402Z",
     "iopub.status.busy": "2025-01-13T13:07:14.964839Z",
     "iopub.status.idle": "2025-01-13T13:07:14.984899Z",
     "shell.execute_reply": "2025-01-13T13:07:14.982840Z",
     "shell.execute_reply.started": "2025-01-13T13:07:14.965357Z"
    }
   },
   "outputs": [
    {
     "data": {
      "text/html": [
       "<div>\n",
       "<style scoped>\n",
       "    .dataframe tbody tr th:only-of-type {\n",
       "        vertical-align: middle;\n",
       "    }\n",
       "\n",
       "    .dataframe tbody tr th {\n",
       "        vertical-align: top;\n",
       "    }\n",
       "\n",
       "    .dataframe thead th {\n",
       "        text-align: right;\n",
       "    }\n",
       "</style>\n",
       "<table border=\"1\" class=\"dataframe\">\n",
       "  <thead>\n",
       "    <tr style=\"text-align: right;\">\n",
       "      <th></th>\n",
       "      <th>date</th>\n",
       "      <th>city</th>\n",
       "      <th>temperature</th>\n",
       "      <th>humidity</th>\n",
       "    </tr>\n",
       "  </thead>\n",
       "  <tbody>\n",
       "    <tr>\n",
       "      <th>0</th>\n",
       "      <td>5/1/2017</td>\n",
       "      <td>new york</td>\n",
       "      <td>65</td>\n",
       "      <td>56</td>\n",
       "    </tr>\n",
       "    <tr>\n",
       "      <th>1</th>\n",
       "      <td>5/1/2017</td>\n",
       "      <td>new york</td>\n",
       "      <td>61</td>\n",
       "      <td>54</td>\n",
       "    </tr>\n",
       "    <tr>\n",
       "      <th>2</th>\n",
       "      <td>5/2/2017</td>\n",
       "      <td>new york</td>\n",
       "      <td>70</td>\n",
       "      <td>60</td>\n",
       "    </tr>\n",
       "    <tr>\n",
       "      <th>3</th>\n",
       "      <td>5/2/2017</td>\n",
       "      <td>new york</td>\n",
       "      <td>72</td>\n",
       "      <td>62</td>\n",
       "    </tr>\n",
       "    <tr>\n",
       "      <th>4</th>\n",
       "      <td>5/1/2017</td>\n",
       "      <td>mumbai</td>\n",
       "      <td>75</td>\n",
       "      <td>80</td>\n",
       "    </tr>\n",
       "    <tr>\n",
       "      <th>5</th>\n",
       "      <td>5/1/2017</td>\n",
       "      <td>mumbai</td>\n",
       "      <td>78</td>\n",
       "      <td>83</td>\n",
       "    </tr>\n",
       "    <tr>\n",
       "      <th>6</th>\n",
       "      <td>5/2/2017</td>\n",
       "      <td>mumbai</td>\n",
       "      <td>82</td>\n",
       "      <td>85</td>\n",
       "    </tr>\n",
       "    <tr>\n",
       "      <th>7</th>\n",
       "      <td>5/2/2017</td>\n",
       "      <td>mumbai</td>\n",
       "      <td>80</td>\n",
       "      <td>26</td>\n",
       "    </tr>\n",
       "  </tbody>\n",
       "</table>\n",
       "</div>"
      ],
      "text/plain": [
       "       date      city  temperature  humidity\n",
       "0  5/1/2017  new york           65        56\n",
       "1  5/1/2017  new york           61        54\n",
       "2  5/2/2017  new york           70        60\n",
       "3  5/2/2017  new york           72        62\n",
       "4  5/1/2017    mumbai           75        80\n",
       "5  5/1/2017    mumbai           78        83\n",
       "6  5/2/2017    mumbai           82        85\n",
       "7  5/2/2017    mumbai           80        26"
      ]
     },
     "execution_count": 19,
     "metadata": {},
     "output_type": "execute_result"
    }
   ],
   "source": [
    "weather_df2"
   ]
  },
  {
   "cell_type": "code",
   "execution_count": 24,
   "id": "b5262f27-b301-4882-965f-370106a06453",
   "metadata": {
    "execution": {
     "iopub.execute_input": "2025-01-13T13:10:23.420209Z",
     "iopub.status.busy": "2025-01-13T13:10:23.419626Z",
     "iopub.status.idle": "2025-01-13T13:10:23.463138Z",
     "shell.execute_reply": "2025-01-13T13:10:23.461052Z",
     "shell.execute_reply.started": "2025-01-13T13:10:23.420163Z"
    }
   },
   "outputs": [
    {
     "data": {
      "text/html": [
       "<div>\n",
       "<style scoped>\n",
       "    .dataframe tbody tr th:only-of-type {\n",
       "        vertical-align: middle;\n",
       "    }\n",
       "\n",
       "    .dataframe tbody tr th {\n",
       "        vertical-align: top;\n",
       "    }\n",
       "\n",
       "    .dataframe thead tr th {\n",
       "        text-align: left;\n",
       "    }\n",
       "\n",
       "    .dataframe thead tr:last-of-type th {\n",
       "        text-align: right;\n",
       "    }\n",
       "</style>\n",
       "<table border=\"1\" class=\"dataframe\">\n",
       "  <thead>\n",
       "    <tr>\n",
       "      <th></th>\n",
       "      <th colspan=\"2\" halign=\"left\">humidity</th>\n",
       "      <th colspan=\"2\" halign=\"left\">temperature</th>\n",
       "    </tr>\n",
       "    <tr>\n",
       "      <th>date</th>\n",
       "      <th>5/1/2017</th>\n",
       "      <th>5/2/2017</th>\n",
       "      <th>5/1/2017</th>\n",
       "      <th>5/2/2017</th>\n",
       "    </tr>\n",
       "    <tr>\n",
       "      <th>city</th>\n",
       "      <th></th>\n",
       "      <th></th>\n",
       "      <th></th>\n",
       "      <th></th>\n",
       "    </tr>\n",
       "  </thead>\n",
       "  <tbody>\n",
       "    <tr>\n",
       "      <th>mumbai</th>\n",
       "      <td>81.5</td>\n",
       "      <td>55.5</td>\n",
       "      <td>76.5</td>\n",
       "      <td>81.0</td>\n",
       "    </tr>\n",
       "    <tr>\n",
       "      <th>new york</th>\n",
       "      <td>55.0</td>\n",
       "      <td>61.0</td>\n",
       "      <td>63.0</td>\n",
       "      <td>71.0</td>\n",
       "    </tr>\n",
       "  </tbody>\n",
       "</table>\n",
       "</div>"
      ],
      "text/plain": [
       "         humidity          temperature         \n",
       "date     5/1/2017 5/2/2017    5/1/2017 5/2/2017\n",
       "city                                           \n",
       "mumbai       81.5     55.5        76.5     81.0\n",
       "new york     55.0     61.0        63.0     71.0"
      ]
     },
     "execution_count": 24,
     "metadata": {},
     "output_type": "execute_result"
    }
   ],
   "source": [
    "weather_df2.pivot_table(index='city', columns='date')"
   ]
  },
  {
   "cell_type": "code",
   "execution_count": 20,
   "id": "94b1276e-e593-4c4e-b3f5-4f33e7163043",
   "metadata": {
    "execution": {
     "iopub.execute_input": "2025-01-13T13:08:23.786088Z",
     "iopub.status.busy": "2025-01-13T13:08:23.785504Z",
     "iopub.status.idle": "2025-01-13T13:08:23.820486Z",
     "shell.execute_reply": "2025-01-13T13:08:23.818425Z",
     "shell.execute_reply.started": "2025-01-13T13:08:23.786041Z"
    }
   },
   "outputs": [
    {
     "data": {
      "text/html": [
       "<div>\n",
       "<style scoped>\n",
       "    .dataframe tbody tr th:only-of-type {\n",
       "        vertical-align: middle;\n",
       "    }\n",
       "\n",
       "    .dataframe tbody tr th {\n",
       "        vertical-align: top;\n",
       "    }\n",
       "\n",
       "    .dataframe thead th {\n",
       "        text-align: right;\n",
       "    }\n",
       "</style>\n",
       "<table border=\"1\" class=\"dataframe\">\n",
       "  <thead>\n",
       "    <tr style=\"text-align: right;\">\n",
       "      <th>date</th>\n",
       "      <th>5/1/2017</th>\n",
       "      <th>5/2/2017</th>\n",
       "    </tr>\n",
       "    <tr>\n",
       "      <th>city</th>\n",
       "      <th></th>\n",
       "      <th></th>\n",
       "    </tr>\n",
       "  </thead>\n",
       "  <tbody>\n",
       "    <tr>\n",
       "      <th>mumbai</th>\n",
       "      <td>76.5</td>\n",
       "      <td>81.0</td>\n",
       "    </tr>\n",
       "    <tr>\n",
       "      <th>new york</th>\n",
       "      <td>63.0</td>\n",
       "      <td>71.0</td>\n",
       "    </tr>\n",
       "  </tbody>\n",
       "</table>\n",
       "</div>"
      ],
      "text/plain": [
       "date      5/1/2017  5/2/2017\n",
       "city                        \n",
       "mumbai        76.5      81.0\n",
       "new york      63.0      71.0"
      ]
     },
     "execution_count": 20,
     "metadata": {},
     "output_type": "execute_result"
    }
   ],
   "source": [
    "weather_df2.pivot_table(index='city', columns='date', values='temperature')"
   ]
  },
  {
   "cell_type": "code",
   "execution_count": 22,
   "id": "18866ba1-56b4-477d-a6ef-cf6345200fbf",
   "metadata": {
    "execution": {
     "iopub.execute_input": "2025-01-13T13:08:57.154064Z",
     "iopub.status.busy": "2025-01-13T13:08:57.153462Z",
     "iopub.status.idle": "2025-01-13T13:08:57.165891Z",
     "shell.execute_reply": "2025-01-13T13:08:57.163921Z",
     "shell.execute_reply.started": "2025-01-13T13:08:57.154017Z"
    }
   },
   "outputs": [
    {
     "data": {
      "text/plain": [
       "63.0"
      ]
     },
     "execution_count": 22,
     "metadata": {},
     "output_type": "execute_result"
    }
   ],
   "source": [
    "(65 + 61)/2"
   ]
  },
  {
   "cell_type": "markdown",
   "id": "c942652e-18ed-4d48-9962-1280a4aeee8c",
   "metadata": {},
   "source": [
    "### grouper obj as the index"
   ]
  },
  {
   "cell_type": "code",
   "execution_count": 25,
   "id": "488a1b9c-f2a8-439d-803a-056e9a0f386a",
   "metadata": {
    "execution": {
     "iopub.execute_input": "2025-01-13T13:12:46.729263Z",
     "iopub.status.busy": "2025-01-13T13:12:46.728667Z",
     "iopub.status.idle": "2025-01-13T13:12:46.742933Z",
     "shell.execute_reply": "2025-01-13T13:12:46.740869Z",
     "shell.execute_reply.started": "2025-01-13T13:12:46.729215Z"
    }
   },
   "outputs": [],
   "source": [
    "weather_df3 = pd.read_csv('./data/weather3.csv')"
   ]
  },
  {
   "cell_type": "code",
   "execution_count": 29,
   "id": "773fdbce-a15a-4499-9240-2925c2fbca85",
   "metadata": {
    "execution": {
     "iopub.execute_input": "2025-01-13T13:13:14.623954Z",
     "iopub.status.busy": "2025-01-13T13:13:14.623377Z",
     "iopub.status.idle": "2025-01-13T13:13:14.642447Z",
     "shell.execute_reply": "2025-01-13T13:13:14.640402Z",
     "shell.execute_reply.started": "2025-01-13T13:13:14.623906Z"
    }
   },
   "outputs": [
    {
     "data": {
      "text/html": [
       "<div>\n",
       "<style scoped>\n",
       "    .dataframe tbody tr th:only-of-type {\n",
       "        vertical-align: middle;\n",
       "    }\n",
       "\n",
       "    .dataframe tbody tr th {\n",
       "        vertical-align: top;\n",
       "    }\n",
       "\n",
       "    .dataframe thead th {\n",
       "        text-align: right;\n",
       "    }\n",
       "</style>\n",
       "<table border=\"1\" class=\"dataframe\">\n",
       "  <thead>\n",
       "    <tr style=\"text-align: right;\">\n",
       "      <th></th>\n",
       "      <th>date</th>\n",
       "      <th>city</th>\n",
       "      <th>temperature</th>\n",
       "      <th>humidity</th>\n",
       "    </tr>\n",
       "  </thead>\n",
       "  <tbody>\n",
       "    <tr>\n",
       "      <th>0</th>\n",
       "      <td>5/1/2017</td>\n",
       "      <td>new york</td>\n",
       "      <td>65</td>\n",
       "      <td>56</td>\n",
       "    </tr>\n",
       "    <tr>\n",
       "      <th>1</th>\n",
       "      <td>5/2/2017</td>\n",
       "      <td>new york</td>\n",
       "      <td>61</td>\n",
       "      <td>54</td>\n",
       "    </tr>\n",
       "    <tr>\n",
       "      <th>2</th>\n",
       "      <td>5/3/2017</td>\n",
       "      <td>new york</td>\n",
       "      <td>70</td>\n",
       "      <td>60</td>\n",
       "    </tr>\n",
       "    <tr>\n",
       "      <th>3</th>\n",
       "      <td>12/1/2017</td>\n",
       "      <td>new york</td>\n",
       "      <td>30</td>\n",
       "      <td>50</td>\n",
       "    </tr>\n",
       "    <tr>\n",
       "      <th>4</th>\n",
       "      <td>12/2/2017</td>\n",
       "      <td>new york</td>\n",
       "      <td>28</td>\n",
       "      <td>52</td>\n",
       "    </tr>\n",
       "    <tr>\n",
       "      <th>5</th>\n",
       "      <td>12/3/2017</td>\n",
       "      <td>new york</td>\n",
       "      <td>25</td>\n",
       "      <td>51</td>\n",
       "    </tr>\n",
       "  </tbody>\n",
       "</table>\n",
       "</div>"
      ],
      "text/plain": [
       "        date      city  temperature  humidity\n",
       "0   5/1/2017  new york           65        56\n",
       "1   5/2/2017  new york           61        54\n",
       "2   5/3/2017  new york           70        60\n",
       "3  12/1/2017  new york           30        50\n",
       "4  12/2/2017  new york           28        52\n",
       "5  12/3/2017  new york           25        51"
      ]
     },
     "execution_count": 29,
     "metadata": {},
     "output_type": "execute_result"
    }
   ],
   "source": [
    "weather_df3"
   ]
  },
  {
   "cell_type": "code",
   "execution_count": 28,
   "id": "97ee4e4d-3c18-4ad8-a2c4-95fe16ca6d8f",
   "metadata": {
    "execution": {
     "iopub.execute_input": "2025-01-13T13:13:02.659621Z",
     "iopub.status.busy": "2025-01-13T13:13:02.659398Z",
     "iopub.status.idle": "2025-01-13T13:13:02.668223Z",
     "shell.execute_reply": "2025-01-13T13:13:02.666536Z",
     "shell.execute_reply.started": "2025-01-13T13:13:02.659605Z"
    }
   },
   "outputs": [
    {
     "data": {
      "text/plain": [
       "0     5/1/2017\n",
       "1     5/2/2017\n",
       "2     5/3/2017\n",
       "3    12/1/2017\n",
       "4    12/2/2017\n",
       "5    12/3/2017\n",
       "Name: date, dtype: object"
      ]
     },
     "execution_count": 28,
     "metadata": {},
     "output_type": "execute_result"
    }
   ],
   "source": [
    "weather_df3['date']"
   ]
  },
  {
   "cell_type": "code",
   "execution_count": 30,
   "id": "3b29b49f-cd4e-4248-bd8d-cc18233f93ff",
   "metadata": {
    "execution": {
     "iopub.execute_input": "2025-01-13T13:14:29.310812Z",
     "iopub.status.busy": "2025-01-13T13:14:29.310239Z",
     "iopub.status.idle": "2025-01-13T13:14:29.335587Z",
     "shell.execute_reply": "2025-01-13T13:14:29.333463Z",
     "shell.execute_reply.started": "2025-01-13T13:14:29.310751Z"
    }
   },
   "outputs": [],
   "source": [
    "weather_df3['date'] = pd.to_datetime(weather_df3['date'])"
   ]
  },
  {
   "cell_type": "code",
   "execution_count": 31,
   "id": "c9bf4bb2-204b-46f1-a4cd-1c84679e8360",
   "metadata": {
    "execution": {
     "iopub.execute_input": "2025-01-13T13:14:31.439063Z",
     "iopub.status.busy": "2025-01-13T13:14:31.438485Z",
     "iopub.status.idle": "2025-01-13T13:14:31.457770Z",
     "shell.execute_reply": "2025-01-13T13:14:31.455698Z",
     "shell.execute_reply.started": "2025-01-13T13:14:31.439018Z"
    }
   },
   "outputs": [
    {
     "data": {
      "text/html": [
       "<div>\n",
       "<style scoped>\n",
       "    .dataframe tbody tr th:only-of-type {\n",
       "        vertical-align: middle;\n",
       "    }\n",
       "\n",
       "    .dataframe tbody tr th {\n",
       "        vertical-align: top;\n",
       "    }\n",
       "\n",
       "    .dataframe thead th {\n",
       "        text-align: right;\n",
       "    }\n",
       "</style>\n",
       "<table border=\"1\" class=\"dataframe\">\n",
       "  <thead>\n",
       "    <tr style=\"text-align: right;\">\n",
       "      <th></th>\n",
       "      <th>date</th>\n",
       "      <th>city</th>\n",
       "      <th>temperature</th>\n",
       "      <th>humidity</th>\n",
       "    </tr>\n",
       "  </thead>\n",
       "  <tbody>\n",
       "    <tr>\n",
       "      <th>0</th>\n",
       "      <td>2017-05-01</td>\n",
       "      <td>new york</td>\n",
       "      <td>65</td>\n",
       "      <td>56</td>\n",
       "    </tr>\n",
       "    <tr>\n",
       "      <th>1</th>\n",
       "      <td>2017-05-02</td>\n",
       "      <td>new york</td>\n",
       "      <td>61</td>\n",
       "      <td>54</td>\n",
       "    </tr>\n",
       "    <tr>\n",
       "      <th>2</th>\n",
       "      <td>2017-05-03</td>\n",
       "      <td>new york</td>\n",
       "      <td>70</td>\n",
       "      <td>60</td>\n",
       "    </tr>\n",
       "    <tr>\n",
       "      <th>3</th>\n",
       "      <td>2017-12-01</td>\n",
       "      <td>new york</td>\n",
       "      <td>30</td>\n",
       "      <td>50</td>\n",
       "    </tr>\n",
       "    <tr>\n",
       "      <th>4</th>\n",
       "      <td>2017-12-02</td>\n",
       "      <td>new york</td>\n",
       "      <td>28</td>\n",
       "      <td>52</td>\n",
       "    </tr>\n",
       "    <tr>\n",
       "      <th>5</th>\n",
       "      <td>2017-12-03</td>\n",
       "      <td>new york</td>\n",
       "      <td>25</td>\n",
       "      <td>51</td>\n",
       "    </tr>\n",
       "  </tbody>\n",
       "</table>\n",
       "</div>"
      ],
      "text/plain": [
       "        date      city  temperature  humidity\n",
       "0 2017-05-01  new york           65        56\n",
       "1 2017-05-02  new york           61        54\n",
       "2 2017-05-03  new york           70        60\n",
       "3 2017-12-01  new york           30        50\n",
       "4 2017-12-02  new york           28        52\n",
       "5 2017-12-03  new york           25        51"
      ]
     },
     "execution_count": 31,
     "metadata": {},
     "output_type": "execute_result"
    }
   ],
   "source": [
    "weather_df3"
   ]
  },
  {
   "cell_type": "code",
   "execution_count": 34,
   "id": "10fbce09-6182-4d39-bdf1-63bd3cc7fbc9",
   "metadata": {
    "execution": {
     "iopub.execute_input": "2025-01-13T13:16:43.159306Z",
     "iopub.status.busy": "2025-01-13T13:16:43.158785Z",
     "iopub.status.idle": "2025-01-13T13:16:43.198588Z",
     "shell.execute_reply": "2025-01-13T13:16:43.196519Z",
     "shell.execute_reply.started": "2025-01-13T13:16:43.159263Z"
    }
   },
   "outputs": [
    {
     "data": {
      "text/html": [
       "<div>\n",
       "<style scoped>\n",
       "    .dataframe tbody tr th:only-of-type {\n",
       "        vertical-align: middle;\n",
       "    }\n",
       "\n",
       "    .dataframe tbody tr th {\n",
       "        vertical-align: top;\n",
       "    }\n",
       "\n",
       "    .dataframe thead tr th {\n",
       "        text-align: left;\n",
       "    }\n",
       "\n",
       "    .dataframe thead tr:last-of-type th {\n",
       "        text-align: right;\n",
       "    }\n",
       "</style>\n",
       "<table border=\"1\" class=\"dataframe\">\n",
       "  <thead>\n",
       "    <tr>\n",
       "      <th></th>\n",
       "      <th>humidity</th>\n",
       "      <th>temperature</th>\n",
       "    </tr>\n",
       "    <tr>\n",
       "      <th>city</th>\n",
       "      <th>new york</th>\n",
       "      <th>new york</th>\n",
       "    </tr>\n",
       "    <tr>\n",
       "      <th>date</th>\n",
       "      <th></th>\n",
       "      <th></th>\n",
       "    </tr>\n",
       "  </thead>\n",
       "  <tbody>\n",
       "    <tr>\n",
       "      <th>2017-05-31</th>\n",
       "      <td>56.666667</td>\n",
       "      <td>65.333333</td>\n",
       "    </tr>\n",
       "    <tr>\n",
       "      <th>2017-12-31</th>\n",
       "      <td>51.000000</td>\n",
       "      <td>27.666667</td>\n",
       "    </tr>\n",
       "  </tbody>\n",
       "</table>\n",
       "</div>"
      ],
      "text/plain": [
       "             humidity temperature\n",
       "city         new york    new york\n",
       "date                             \n",
       "2017-05-31  56.666667   65.333333\n",
       "2017-12-31  51.000000   27.666667"
      ]
     },
     "execution_count": 34,
     "metadata": {},
     "output_type": "execute_result"
    }
   ],
   "source": [
    "# ME: month end frequency \n",
    "weather_df3.pivot_table(index=pd.Grouper(freq='ME', key='date'), columns='city')"
   ]
  },
  {
   "cell_type": "code",
   "execution_count": null,
   "id": "21b1ec17-58a2-49f6-a3a9-77bd92b30e09",
   "metadata": {},
   "outputs": [],
   "source": []
  }
 ],
 "metadata": {
  "kernelspec": {
   "display_name": "Python 3 (ipykernel)",
   "language": "python",
   "name": "python3"
  },
  "language_info": {
   "codemirror_mode": {
    "name": "ipython",
    "version": 3
   },
   "file_extension": ".py",
   "mimetype": "text/x-python",
   "name": "python",
   "nbconvert_exporter": "python",
   "pygments_lexer": "ipython3",
   "version": "3.10.13"
  }
 },
 "nbformat": 4,
 "nbformat_minor": 5
}
