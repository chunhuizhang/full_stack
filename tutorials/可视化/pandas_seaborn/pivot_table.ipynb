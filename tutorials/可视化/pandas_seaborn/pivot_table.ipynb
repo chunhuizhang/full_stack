{
 "cells": [
  {
   "cell_type": "markdown",
   "id": "93d13ab1-d396-4711-8915-2a19270cbe27",
   "metadata": {},
   "source": [
    "- 分组\n",
    "    - 对谁进行分组（group），就是对谁进行reduce（聚合），这些都会变成 distinct；\n",
    "- pivot table：数据透视表，适用于 categorical 型数据\n",
    "    - 理解为一个矩阵，index 表示行索引，column 表示列索引，value 则是对应的 entry 的值；\n",
    "    - 对 values 默认的聚合函数是 `aggfunc: AggFuncType = \"mean\"`"
   ]
  },
  {
   "cell_type": "code",
   "execution_count": 2,
   "id": "930fb413-4e60-4e1c-b3e6-65593bcb7859",
   "metadata": {
    "execution": {
     "iopub.execute_input": "2025-01-07T14:25:08.721279Z",
     "iopub.status.busy": "2025-01-07T14:25:08.720710Z",
     "iopub.status.idle": "2025-01-07T14:25:09.109603Z",
     "shell.execute_reply": "2025-01-07T14:25:09.107823Z",
     "shell.execute_reply.started": "2025-01-07T14:25:08.721233Z"
    }
   },
   "outputs": [],
   "source": [
    "import numpy as np\n",
    "import pandas as pd"
   ]
  },
  {
   "cell_type": "code",
   "execution_count": 3,
   "id": "963e0d5a-3ece-4820-89a0-fb230890f6ef",
   "metadata": {
    "execution": {
     "iopub.execute_input": "2025-01-07T14:25:23.490254Z",
     "iopub.status.busy": "2025-01-07T14:25:23.489690Z",
     "iopub.status.idle": "2025-01-07T14:25:24.136806Z",
     "shell.execute_reply": "2025-01-07T14:25:24.135397Z",
     "shell.execute_reply.started": "2025-01-07T14:25:23.490208Z"
    }
   },
   "outputs": [],
   "source": [
    "df = pd.read_csv('./data/athlete_events.csv')"
   ]
  },
  {
   "cell_type": "code",
   "execution_count": 4,
   "id": "72f6de33-cddd-4e90-a508-dfb71ba55109",
   "metadata": {
    "execution": {
     "iopub.execute_input": "2025-01-07T14:25:25.341829Z",
     "iopub.status.busy": "2025-01-07T14:25:25.341617Z",
     "iopub.status.idle": "2025-01-07T14:25:25.353169Z",
     "shell.execute_reply": "2025-01-07T14:25:25.351352Z",
     "shell.execute_reply.started": "2025-01-07T14:25:25.341811Z"
    }
   },
   "outputs": [
    {
     "data": {
      "text/plain": [
       "(271116, 15)"
      ]
     },
     "execution_count": 4,
     "metadata": {},
     "output_type": "execute_result"
    }
   ],
   "source": [
    "df.shape"
   ]
  },
  {
   "cell_type": "code",
   "execution_count": 5,
   "id": "981b37e4-7b15-4e23-b006-c677fd1dcd7b",
   "metadata": {
    "execution": {
     "iopub.execute_input": "2025-01-07T14:25:48.954110Z",
     "iopub.status.busy": "2025-01-07T14:25:48.953529Z",
     "iopub.status.idle": "2025-01-07T14:25:48.991955Z",
     "shell.execute_reply": "2025-01-07T14:25:48.989632Z",
     "shell.execute_reply.started": "2025-01-07T14:25:48.954064Z"
    }
   },
   "outputs": [
    {
     "data": {
      "text/html": [
       "<div>\n",
       "<style scoped>\n",
       "    .dataframe tbody tr th:only-of-type {\n",
       "        vertical-align: middle;\n",
       "    }\n",
       "\n",
       "    .dataframe tbody tr th {\n",
       "        vertical-align: top;\n",
       "    }\n",
       "\n",
       "    .dataframe thead th {\n",
       "        text-align: right;\n",
       "    }\n",
       "</style>\n",
       "<table border=\"1\" class=\"dataframe\">\n",
       "  <thead>\n",
       "    <tr style=\"text-align: right;\">\n",
       "      <th></th>\n",
       "      <th>ID</th>\n",
       "      <th>Name</th>\n",
       "      <th>Sex</th>\n",
       "      <th>Age</th>\n",
       "      <th>Height</th>\n",
       "      <th>Weight</th>\n",
       "      <th>Team</th>\n",
       "      <th>NOC</th>\n",
       "      <th>Games</th>\n",
       "      <th>Year</th>\n",
       "      <th>Season</th>\n",
       "      <th>City</th>\n",
       "      <th>Sport</th>\n",
       "      <th>Event</th>\n",
       "      <th>Medal</th>\n",
       "    </tr>\n",
       "  </thead>\n",
       "  <tbody>\n",
       "    <tr>\n",
       "      <th>0</th>\n",
       "      <td>1</td>\n",
       "      <td>A Dijiang</td>\n",
       "      <td>M</td>\n",
       "      <td>24.0</td>\n",
       "      <td>180.0</td>\n",
       "      <td>80.0</td>\n",
       "      <td>China</td>\n",
       "      <td>CHN</td>\n",
       "      <td>1992 Summer</td>\n",
       "      <td>1992</td>\n",
       "      <td>Summer</td>\n",
       "      <td>Barcelona</td>\n",
       "      <td>Basketball</td>\n",
       "      <td>Basketball Men's Basketball</td>\n",
       "      <td>NaN</td>\n",
       "    </tr>\n",
       "    <tr>\n",
       "      <th>1</th>\n",
       "      <td>2</td>\n",
       "      <td>A Lamusi</td>\n",
       "      <td>M</td>\n",
       "      <td>23.0</td>\n",
       "      <td>170.0</td>\n",
       "      <td>60.0</td>\n",
       "      <td>China</td>\n",
       "      <td>CHN</td>\n",
       "      <td>2012 Summer</td>\n",
       "      <td>2012</td>\n",
       "      <td>Summer</td>\n",
       "      <td>London</td>\n",
       "      <td>Judo</td>\n",
       "      <td>Judo Men's Extra-Lightweight</td>\n",
       "      <td>NaN</td>\n",
       "    </tr>\n",
       "    <tr>\n",
       "      <th>2</th>\n",
       "      <td>3</td>\n",
       "      <td>Gunnar Nielsen Aaby</td>\n",
       "      <td>M</td>\n",
       "      <td>24.0</td>\n",
       "      <td>NaN</td>\n",
       "      <td>NaN</td>\n",
       "      <td>Denmark</td>\n",
       "      <td>DEN</td>\n",
       "      <td>1920 Summer</td>\n",
       "      <td>1920</td>\n",
       "      <td>Summer</td>\n",
       "      <td>Antwerpen</td>\n",
       "      <td>Football</td>\n",
       "      <td>Football Men's Football</td>\n",
       "      <td>NaN</td>\n",
       "    </tr>\n",
       "    <tr>\n",
       "      <th>3</th>\n",
       "      <td>4</td>\n",
       "      <td>Edgar Lindenau Aabye</td>\n",
       "      <td>M</td>\n",
       "      <td>34.0</td>\n",
       "      <td>NaN</td>\n",
       "      <td>NaN</td>\n",
       "      <td>Denmark/Sweden</td>\n",
       "      <td>DEN</td>\n",
       "      <td>1900 Summer</td>\n",
       "      <td>1900</td>\n",
       "      <td>Summer</td>\n",
       "      <td>Paris</td>\n",
       "      <td>Tug-Of-War</td>\n",
       "      <td>Tug-Of-War Men's Tug-Of-War</td>\n",
       "      <td>Gold</td>\n",
       "    </tr>\n",
       "    <tr>\n",
       "      <th>4</th>\n",
       "      <td>5</td>\n",
       "      <td>Christine Jacoba Aaftink</td>\n",
       "      <td>F</td>\n",
       "      <td>21.0</td>\n",
       "      <td>185.0</td>\n",
       "      <td>82.0</td>\n",
       "      <td>Netherlands</td>\n",
       "      <td>NED</td>\n",
       "      <td>1988 Winter</td>\n",
       "      <td>1988</td>\n",
       "      <td>Winter</td>\n",
       "      <td>Calgary</td>\n",
       "      <td>Speed Skating</td>\n",
       "      <td>Speed Skating Women's 500 metres</td>\n",
       "      <td>NaN</td>\n",
       "    </tr>\n",
       "  </tbody>\n",
       "</table>\n",
       "</div>"
      ],
      "text/plain": [
       "   ID                      Name Sex   Age  Height  Weight            Team  \\\n",
       "0   1                 A Dijiang   M  24.0   180.0    80.0           China   \n",
       "1   2                  A Lamusi   M  23.0   170.0    60.0           China   \n",
       "2   3       Gunnar Nielsen Aaby   M  24.0     NaN     NaN         Denmark   \n",
       "3   4      Edgar Lindenau Aabye   M  34.0     NaN     NaN  Denmark/Sweden   \n",
       "4   5  Christine Jacoba Aaftink   F  21.0   185.0    82.0     Netherlands   \n",
       "\n",
       "   NOC        Games  Year  Season       City          Sport  \\\n",
       "0  CHN  1992 Summer  1992  Summer  Barcelona     Basketball   \n",
       "1  CHN  2012 Summer  2012  Summer     London           Judo   \n",
       "2  DEN  1920 Summer  1920  Summer  Antwerpen       Football   \n",
       "3  DEN  1900 Summer  1900  Summer      Paris     Tug-Of-War   \n",
       "4  NED  1988 Winter  1988  Winter    Calgary  Speed Skating   \n",
       "\n",
       "                              Event Medal  \n",
       "0       Basketball Men's Basketball   NaN  \n",
       "1      Judo Men's Extra-Lightweight   NaN  \n",
       "2           Football Men's Football   NaN  \n",
       "3       Tug-Of-War Men's Tug-Of-War  Gold  \n",
       "4  Speed Skating Women's 500 metres   NaN  "
      ]
     },
     "execution_count": 5,
     "metadata": {},
     "output_type": "execute_result"
    }
   ],
   "source": [
    "df.head()"
   ]
  },
  {
   "cell_type": "code",
   "execution_count": 6,
   "id": "a5b33cb0-cbbc-4876-9ee3-a8d79fafbdc6",
   "metadata": {
    "execution": {
     "iopub.execute_input": "2025-01-07T14:26:01.880882Z",
     "iopub.status.busy": "2025-01-07T14:26:01.880733Z",
     "iopub.status.idle": "2025-01-07T14:26:01.886855Z",
     "shell.execute_reply": "2025-01-07T14:26:01.886089Z",
     "shell.execute_reply.started": "2025-01-07T14:26:01.880870Z"
    }
   },
   "outputs": [
    {
     "data": {
      "text/plain": [
       "175.33896987366376"
      ]
     },
     "execution_count": 6,
     "metadata": {},
     "output_type": "execute_result"
    }
   ],
   "source": [
    "# 平均身高\n",
    "df['Height'].mean()"
   ]
  },
  {
   "cell_type": "code",
   "execution_count": 7,
   "id": "9da29a57-399c-404c-a670-939fd9b8cdff",
   "metadata": {
    "execution": {
     "iopub.execute_input": "2025-01-07T14:27:03.139688Z",
     "iopub.status.busy": "2025-01-07T14:27:03.139466Z",
     "iopub.status.idle": "2025-01-07T14:27:03.159540Z",
     "shell.execute_reply": "2025-01-07T14:27:03.157600Z",
     "shell.execute_reply.started": "2025-01-07T14:27:03.139669Z"
    }
   },
   "outputs": [
    {
     "data": {
      "text/plain": [
       "Year\n",
       "1896    172.739130\n",
       "1900    176.637931\n",
       "1904    175.788732\n",
       "1906    178.206226\n",
       "1908    177.543158\n",
       "1912    177.447989\n",
       "1920    175.752282\n",
       "1924    174.963039\n",
       "1928    175.162051\n",
       "1932    174.220115\n",
       "1936    175.723993\n",
       "1948    176.172797\n",
       "1952    174.138940\n",
       "1956    173.900968\n",
       "1960    173.141286\n",
       "1964    173.448574\n",
       "1968    173.945865\n",
       "1972    174.565363\n",
       "1976    174.920528\n",
       "1980    175.527488\n",
       "1984    175.540855\n",
       "1988    175.745252\n",
       "1992    176.174649\n",
       "1994    175.169862\n",
       "1996    175.895121\n",
       "1998    174.581369\n",
       "2000    176.089721\n",
       "2002    174.702451\n",
       "2004    175.972850\n",
       "2006    174.623172\n",
       "2008    176.211062\n",
       "2010    174.918182\n",
       "2012    176.262469\n",
       "2014    174.816670\n",
       "2016    176.034266\n",
       "Name: Height, dtype: float64"
      ]
     },
     "execution_count": 7,
     "metadata": {},
     "output_type": "execute_result"
    }
   ],
   "source": [
    "# 平均身高, per year\n",
    "df.groupby('Year')['Height'].mean()"
   ]
  },
  {
   "cell_type": "code",
   "execution_count": 11,
   "id": "0427fbc0-57f5-42fc-ad81-a5112655cbb1",
   "metadata": {
    "execution": {
     "iopub.execute_input": "2025-01-07T14:31:31.472962Z",
     "iopub.status.busy": "2025-01-07T14:31:31.472386Z",
     "iopub.status.idle": "2025-01-07T14:31:31.498114Z",
     "shell.execute_reply": "2025-01-07T14:31:31.495701Z",
     "shell.execute_reply.started": "2025-01-07T14:31:31.472915Z"
    }
   },
   "outputs": [
    {
     "data": {
      "text/plain": [
       "35"
      ]
     },
     "execution_count": 11,
     "metadata": {},
     "output_type": "execute_result"
    }
   ],
   "source": [
    "len(df.groupby('Year')['Height'].mean())"
   ]
  },
  {
   "cell_type": "code",
   "execution_count": 10,
   "id": "643a39ea-3a3e-40ff-8886-57265fd00c0d",
   "metadata": {
    "execution": {
     "iopub.execute_input": "2025-01-07T14:31:10.383609Z",
     "iopub.status.busy": "2025-01-07T14:31:10.383467Z",
     "iopub.status.idle": "2025-01-07T14:31:10.411703Z",
     "shell.execute_reply": "2025-01-07T14:31:10.410958Z",
     "shell.execute_reply.started": "2025-01-07T14:31:10.383596Z"
    }
   },
   "outputs": [
    {
     "data": {
      "text/plain": [
       "(35, 699)"
      ]
     },
     "execution_count": 10,
     "metadata": {},
     "output_type": "execute_result"
    }
   ],
   "source": [
    "# 平均身高, per year & per country （team）\n",
    "df.pivot_table(index='Year', columns='Team', values='Height').shape"
   ]
  },
  {
   "cell_type": "code",
   "execution_count": 13,
   "id": "6101a9fa-de6d-43ff-a0e6-b2b2c7f0018b",
   "metadata": {
    "execution": {
     "iopub.execute_input": "2025-01-07T14:36:18.196828Z",
     "iopub.status.busy": "2025-01-07T14:36:18.196307Z",
     "iopub.status.idle": "2025-01-07T14:36:18.204323Z",
     "shell.execute_reply": "2025-01-07T14:36:18.202051Z",
     "shell.execute_reply.started": "2025-01-07T14:36:18.196786Z"
    }
   },
   "outputs": [],
   "source": [
    "# aggfunc: AggFuncType = \"mean\",\n",
    "# df.pivot_table??"
   ]
  },
  {
   "cell_type": "code",
   "execution_count": null,
   "id": "fae043f7-6926-4d7d-a5ad-b7e554a37501",
   "metadata": {},
   "outputs": [],
   "source": []
  }
 ],
 "metadata": {
  "kernelspec": {
   "display_name": "Python 3 (ipykernel)",
   "language": "python",
   "name": "python3"
  },
  "language_info": {
   "codemirror_mode": {
    "name": "ipython",
    "version": 3
   },
   "file_extension": ".py",
   "mimetype": "text/x-python",
   "name": "python",
   "nbconvert_exporter": "python",
   "pygments_lexer": "ipython3",
   "version": "3.10.13"
  }
 },
 "nbformat": 4,
 "nbformat_minor": 5
}
