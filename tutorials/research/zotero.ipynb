{
 "cells": [
  {
   "cell_type": "markdown",
   "id": "f1db5465-0ca3-427f-ac01-d1fb6c1cc804",
   "metadata": {},
   "source": [
    "### plugins"
   ]
  },
  {
   "cell_type": "markdown",
   "id": "f277f540-31d2-456b-91b8-5d5fa803581c",
   "metadata": {},
   "source": [
    "- 翻译"
   ]
  },
  {
   "cell_type": "markdown",
   "id": "efe885f9-0633-442b-b138-2644399c038e",
   "metadata": {},
   "source": [
    "### 快捷键"
   ]
  },
  {
   "cell_type": "markdown",
   "id": "5a9b3a38-3689-4aa7-a1c4-911aa331c931",
   "metadata": {},
   "source": [
    "- 前进/后退\n",
    "    - `⌘` + `[` `]`"
   ]
  }
 ],
 "metadata": {
  "kernelspec": {
   "display_name": "Python 3 (ipykernel)",
   "language": "python",
   "name": "python3"
  },
  "language_info": {
   "codemirror_mode": {
    "name": "ipython",
    "version": 3
   },
   "file_extension": ".py",
   "mimetype": "text/x-python",
   "name": "python",
   "nbconvert_exporter": "python",
   "pygments_lexer": "ipython3",
   "version": "3.10.0"
  }
 },
 "nbformat": 4,
 "nbformat_minor": 5
}
