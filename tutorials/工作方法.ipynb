{
 "cells": [
  {
   "cell_type": "markdown",
   "id": "2b9acd51",
   "metadata": {},
   "source": [
    "## 问题拆解"
   ]
  },
  {
   "cell_type": "markdown",
   "id": "47410f8d",
   "metadata": {},
   "source": [
    "\n",
    "> 复杂问题的解决方案，就是问题拆解  \n",
    "> 大问题拆解为小问题；  \n",
    "> 复杂问题拆解为简单问题；  \n",
    "> 总之，将一个事情变得可执行，且前进方向就是问题被解决的方向；\n"
   ]
  },
  {
   "cell_type": "markdown",
   "id": "d3ca2389",
   "metadata": {},
   "source": [
    "## 设计文档化、文档公式化"
   ]
  }
 ],
 "metadata": {
  "kernelspec": {
   "display_name": "Python 3 (ipykernel)",
   "language": "python",
   "name": "python3"
  },
  "language_info": {
   "codemirror_mode": {
    "name": "ipython",
    "version": 3
   },
   "file_extension": ".py",
   "mimetype": "text/x-python",
   "name": "python",
   "nbconvert_exporter": "python",
   "pygments_lexer": "ipython3",
   "version": "3.10.9"
  },
  "toc": {
   "base_numbering": 1,
   "nav_menu": {},
   "number_sections": true,
   "sideBar": true,
   "skip_h1_title": false,
   "title_cell": "Table of Contents",
   "title_sidebar": "Contents",
   "toc_cell": false,
   "toc_position": {},
   "toc_section_display": true,
   "toc_window_display": false
  }
 },
 "nbformat": 4,
 "nbformat_minor": 5
}
